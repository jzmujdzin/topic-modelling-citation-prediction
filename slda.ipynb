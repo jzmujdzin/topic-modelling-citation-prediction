{
 "cells": [
  {
   "cell_type": "code",
   "execution_count": 1,
   "metadata": {},
   "outputs": [],
   "source": [
    "from sklearn.decomposition import LatentDirichletAllocation\n",
    "from nltk.stem.porter import PorterStemmer\n",
    "import re\n",
    "from nltk.tokenize import RegexpTokenizer\n",
    "import tomotopy as tp\n",
    "import pandas as pd\n",
    "from pathlib import Path\n",
    "from sklearn.feature_extraction.text import CountVectorizer\n",
    "import itertools\n",
    "import random"
   ]
  },
  {
   "cell_type": "code",
   "execution_count": 2,
   "metadata": {},
   "outputs": [],
   "source": [
    "stemmer = PorterStemmer()\n",
    "tokenizer = RegexpTokenizer(r\"\\w+\")\n",
    "\n",
    "\n",
    "def preprocess_text(text: str):\n",
    "    return \" \".join(\n",
    "        [\n",
    "            stemmer.stem(word)\n",
    "            if len(word) > 2\n",
    "            and word\n",
    "            not in [\n",
    "                \"uni\",\n",
    "                \"uni uni\",\n",
    "                \"uni uni uni\",\n",
    "                \"ieee\",\n",
    "                \"doi\",\n",
    "                \"vextendsingl\",\n",
    "                \"http\",\n",
    "                \"https\",\n",
    "                \"vextenddoubl\",\n",
    "                \"parenrightbig\",\n",
    "                \"parenleftbig\",\n",
    "            ]\n",
    "            else \"\"\n",
    "            for word in tokenizer.tokenize(\n",
    "                \" \".join(\n",
    "                    [\n",
    "                        re.sub(\n",
    "                            r\"(\\${1,2})(?:(?!\\1)[\\s\\S])*\\1\",\n",
    "                            \" \",\n",
    "                            re.sub(r\"[\\s\\d]+\", \" \", word),\n",
    "                        )\n",
    "                        for word in text.split()\n",
    "                    ]\n",
    "                )\n",
    "            )\n",
    "        ]\n",
    "    )\n"
   ]
  },
  {
   "cell_type": "code",
   "execution_count": 3,
   "metadata": {},
   "outputs": [],
   "source": [
    "data_path = Path.cwd() /  \"findal_df.json\"\n"
   ]
  },
  {
   "cell_type": "code",
   "execution_count": 4,
   "metadata": {},
   "outputs": [],
   "source": [
    "df = pd.read_json(data_path).dropna(subset=[\"text\"])"
   ]
  },
  {
   "cell_type": "code",
   "execution_count": 5,
   "metadata": {},
   "outputs": [],
   "source": [
    "df['text_pp'] = df['text'].apply(lambda x: preprocess_text(x))"
   ]
  },
  {
   "cell_type": "code",
   "execution_count": 6,
   "metadata": {},
   "outputs": [],
   "source": [
    "import numpy as np\n",
    "from typing import Any\n",
    "from sklearn.model_selection import KFold\n",
    "from sklearn.metrics import mean_absolute_percentage_error\n",
    "\n",
    "\n",
    "def _get_params_combinations(hyper_params: dict[str, list]) -> list[dict]:\n",
    "    keys, values = zip(*hyper_params.items())\n",
    "    return [dict(zip(keys, v)) for v in itertools.product(*values)]\n",
    "\n",
    "\n",
    "def one_model_train(\n",
    "    X_train: pd.DataFrame, y_train: pd.Series, params: dict[str, Any]\n",
    "):\n",
    "    slda = tp.SLDAModel(**params)\n",
    "    for i in range(0, len(X_train)):\n",
    "        slda.add_doc(\n",
    "            X_train.iloc[i].strip().split(), y=[float(np.array(y_train)[i])]\n",
    "        )\n",
    "    for i in range(0, 1020, 20):\n",
    "        slda.train(20, workers=0)\n",
    "\n",
    "    return slda\n",
    "\n",
    "\n",
    "def one_model_eval(\n",
    "    model: tp.SLDAModel, X_test: pd.DataFrame, y_test: pd.Series\n",
    "):\n",
    "    test_preds = []\n",
    "    for i in range(0, len(X_test)):\n",
    "        slda_test_doc = model.make_doc(list(X_test)[i])\n",
    "        model.infer(slda_test_doc, workers=0)\n",
    "        test_preds.append(float(model.estimate(slda_test_doc)))\n",
    "\n",
    "    return mean_absolute_percentage_error(y_true=y_test, y_pred=test_preds)\n",
    "\n",
    "\n",
    "def model_cross_validate(\n",
    "    X: pd.DataFrame, y: pd.Series, params: dict[str, Any]\n",
    "):\n",
    "    results = []\n",
    "    kf = KFold(n_splits=3)\n",
    "\n",
    "    for i, (train_index, test_index) in enumerate(kf.split(X)):\n",
    "        print(f\"Fold {i}\")\n",
    "        X_train, y_train = X.iloc[train_index], y.iloc[train_index]\n",
    "        X_test, y_test = X.iloc[test_index], y.iloc[test_index]\n",
    "\n",
    "        model = one_model_train(X_train=X_test, y_train=y_train, params=params)\n",
    "        result = one_model_eval(model=model, X_test=X_test, y_test=y_test)\n",
    "        results.append(result)\n",
    "\n",
    "    return {**params, \"mape\": np.mean(results)}\n",
    "\n",
    "\n",
    "def hypreropt(\n",
    "    X: pd.DataFrame,\n",
    "    y: pd.Series,\n",
    "    hyper_params: dict[str, list],\n",
    "    n_iter: int = 20,\n",
    ") -> pd.DataFrame:\n",
    "    params_combinations = _get_params_combinations(hyper_params)\n",
    "    random.shuffle(params_combinations)\n",
    "\n",
    "    results = []\n",
    "    for i, params in enumerate(params_combinations[:n_iter]):\n",
    "        print(f\"Params {i}\")\n",
    "        result = model_cross_validate(X=X, y=y, params=params)\n",
    "        results.append(result)\n",
    "        \n",
    "    return results\n"
   ]
  },
  {
   "cell_type": "code",
   "execution_count": 19,
   "metadata": {},
   "outputs": [],
   "source": [
    "hyper_params = dict(\n",
    "    k=[5, 10, 15, 20, 25],  # number of topics\n",
    "    min_df=[0],  # DF of tokens to be removed \"from the bottom\"\n",
    "    rm_top=[0, 1, 2, 5],  # how many tokens should be removed \"from the top\"\n",
    "    vars=[\"l\"],  # indicate binary response variable\n",
    "    alpha=[0.1, 0.2, 0.3],\n",
    "    eta=[0.01, 0.05, 0.1, 0.2],\n",
    "    mu=[0, 0.1, 0.2],\n",
    "    nu_sq=[1],\n",
    "    glm_param=[1],\n",
    "    seed=[123],\n",
    ")\n"
   ]
  },
  {
   "cell_type": "code",
   "execution_count": 20,
   "metadata": {},
   "outputs": [],
   "source": [
    "X = df[\"text_pp\"]\n",
    "y = df[\"citations\"]"
   ]
  },
  {
   "cell_type": "code",
   "execution_count": 26,
   "metadata": {},
   "outputs": [
    {
     "name": "stdout",
     "output_type": "stream",
     "text": [
      "Params 0\n",
      "Fold 0\n"
     ]
    },
    {
     "name": "stderr",
     "output_type": "stream",
     "text": [
      "C:\\Users\\kuba1\\AppData\\Local\\Temp\\ipykernel_12404\\1773087253.py:21: RuntimeWarning: The training result may differ even with fixed seed if `workers` != 1.\n",
      "  slda.train(20, workers=0)\n",
      "C:\\Users\\kuba1\\AppData\\Local\\Temp\\ipykernel_12404\\1773087253.py:31: RuntimeWarning: `words` should be an iterable of str.\n",
      "  slda_test_doc = model.make_doc(list(X_test)[i])\n"
     ]
    },
    {
     "name": "stdout",
     "output_type": "stream",
     "text": [
      "Fold 1\n"
     ]
    },
    {
     "name": "stderr",
     "output_type": "stream",
     "text": [
      "C:\\Users\\kuba1\\AppData\\Local\\Temp\\ipykernel_12404\\1773087253.py:21: RuntimeWarning: The training result may differ even with fixed seed if `workers` != 1.\n",
      "  slda.train(20, workers=0)\n",
      "C:\\Users\\kuba1\\AppData\\Local\\Temp\\ipykernel_12404\\1773087253.py:31: RuntimeWarning: `words` should be an iterable of str.\n",
      "  slda_test_doc = model.make_doc(list(X_test)[i])\n"
     ]
    },
    {
     "name": "stdout",
     "output_type": "stream",
     "text": [
      "Fold 2\n"
     ]
    },
    {
     "name": "stderr",
     "output_type": "stream",
     "text": [
      "C:\\Users\\kuba1\\AppData\\Local\\Temp\\ipykernel_12404\\1773087253.py:21: RuntimeWarning: The training result may differ even with fixed seed if `workers` != 1.\n",
      "  slda.train(20, workers=0)\n",
      "C:\\Users\\kuba1\\AppData\\Local\\Temp\\ipykernel_12404\\1773087253.py:31: RuntimeWarning: `words` should be an iterable of str.\n",
      "  slda_test_doc = model.make_doc(list(X_test)[i])\n"
     ]
    },
    {
     "name": "stdout",
     "output_type": "stream",
     "text": [
      "Params 1\n",
      "Fold 0\n"
     ]
    },
    {
     "name": "stderr",
     "output_type": "stream",
     "text": [
      "C:\\Users\\kuba1\\AppData\\Local\\Temp\\ipykernel_12404\\1773087253.py:21: RuntimeWarning: The training result may differ even with fixed seed if `workers` != 1.\n",
      "  slda.train(20, workers=0)\n",
      "C:\\Users\\kuba1\\AppData\\Local\\Temp\\ipykernel_12404\\1773087253.py:31: RuntimeWarning: `words` should be an iterable of str.\n",
      "  slda_test_doc = model.make_doc(list(X_test)[i])\n"
     ]
    },
    {
     "name": "stdout",
     "output_type": "stream",
     "text": [
      "Fold 1\n"
     ]
    },
    {
     "name": "stderr",
     "output_type": "stream",
     "text": [
      "C:\\Users\\kuba1\\AppData\\Local\\Temp\\ipykernel_12404\\1773087253.py:21: RuntimeWarning: The training result may differ even with fixed seed if `workers` != 1.\n",
      "  slda.train(20, workers=0)\n",
      "C:\\Users\\kuba1\\AppData\\Local\\Temp\\ipykernel_12404\\1773087253.py:31: RuntimeWarning: `words` should be an iterable of str.\n",
      "  slda_test_doc = model.make_doc(list(X_test)[i])\n"
     ]
    },
    {
     "name": "stdout",
     "output_type": "stream",
     "text": [
      "Fold 2\n"
     ]
    },
    {
     "name": "stderr",
     "output_type": "stream",
     "text": [
      "C:\\Users\\kuba1\\AppData\\Local\\Temp\\ipykernel_12404\\1773087253.py:21: RuntimeWarning: The training result may differ even with fixed seed if `workers` != 1.\n",
      "  slda.train(20, workers=0)\n",
      "C:\\Users\\kuba1\\AppData\\Local\\Temp\\ipykernel_12404\\1773087253.py:31: RuntimeWarning: `words` should be an iterable of str.\n",
      "  slda_test_doc = model.make_doc(list(X_test)[i])\n"
     ]
    },
    {
     "name": "stdout",
     "output_type": "stream",
     "text": [
      "Params 2\n",
      "Fold 0\n"
     ]
    },
    {
     "name": "stderr",
     "output_type": "stream",
     "text": [
      "C:\\Users\\kuba1\\AppData\\Local\\Temp\\ipykernel_12404\\1773087253.py:21: RuntimeWarning: The training result may differ even with fixed seed if `workers` != 1.\n",
      "  slda.train(20, workers=0)\n",
      "C:\\Users\\kuba1\\AppData\\Local\\Temp\\ipykernel_12404\\1773087253.py:31: RuntimeWarning: `words` should be an iterable of str.\n",
      "  slda_test_doc = model.make_doc(list(X_test)[i])\n"
     ]
    },
    {
     "name": "stdout",
     "output_type": "stream",
     "text": [
      "Fold 1\n"
     ]
    },
    {
     "name": "stderr",
     "output_type": "stream",
     "text": [
      "C:\\Users\\kuba1\\AppData\\Local\\Temp\\ipykernel_12404\\1773087253.py:21: RuntimeWarning: The training result may differ even with fixed seed if `workers` != 1.\n",
      "  slda.train(20, workers=0)\n",
      "C:\\Users\\kuba1\\AppData\\Local\\Temp\\ipykernel_12404\\1773087253.py:31: RuntimeWarning: `words` should be an iterable of str.\n",
      "  slda_test_doc = model.make_doc(list(X_test)[i])\n"
     ]
    },
    {
     "name": "stdout",
     "output_type": "stream",
     "text": [
      "Fold 2\n"
     ]
    },
    {
     "name": "stderr",
     "output_type": "stream",
     "text": [
      "C:\\Users\\kuba1\\AppData\\Local\\Temp\\ipykernel_12404\\1773087253.py:21: RuntimeWarning: The training result may differ even with fixed seed if `workers` != 1.\n",
      "  slda.train(20, workers=0)\n",
      "C:\\Users\\kuba1\\AppData\\Local\\Temp\\ipykernel_12404\\1773087253.py:31: RuntimeWarning: `words` should be an iterable of str.\n",
      "  slda_test_doc = model.make_doc(list(X_test)[i])\n"
     ]
    },
    {
     "name": "stdout",
     "output_type": "stream",
     "text": [
      "Params 3\n",
      "Fold 0\n"
     ]
    },
    {
     "name": "stderr",
     "output_type": "stream",
     "text": [
      "C:\\Users\\kuba1\\AppData\\Local\\Temp\\ipykernel_12404\\1773087253.py:21: RuntimeWarning: The training result may differ even with fixed seed if `workers` != 1.\n",
      "  slda.train(20, workers=0)\n",
      "C:\\Users\\kuba1\\AppData\\Local\\Temp\\ipykernel_12404\\1773087253.py:31: RuntimeWarning: `words` should be an iterable of str.\n",
      "  slda_test_doc = model.make_doc(list(X_test)[i])\n"
     ]
    },
    {
     "name": "stdout",
     "output_type": "stream",
     "text": [
      "Fold 1\n"
     ]
    },
    {
     "name": "stderr",
     "output_type": "stream",
     "text": [
      "C:\\Users\\kuba1\\AppData\\Local\\Temp\\ipykernel_12404\\1773087253.py:21: RuntimeWarning: The training result may differ even with fixed seed if `workers` != 1.\n",
      "  slda.train(20, workers=0)\n",
      "C:\\Users\\kuba1\\AppData\\Local\\Temp\\ipykernel_12404\\1773087253.py:31: RuntimeWarning: `words` should be an iterable of str.\n",
      "  slda_test_doc = model.make_doc(list(X_test)[i])\n"
     ]
    },
    {
     "name": "stdout",
     "output_type": "stream",
     "text": [
      "Fold 2\n"
     ]
    },
    {
     "name": "stderr",
     "output_type": "stream",
     "text": [
      "C:\\Users\\kuba1\\AppData\\Local\\Temp\\ipykernel_12404\\1773087253.py:21: RuntimeWarning: The training result may differ even with fixed seed if `workers` != 1.\n",
      "  slda.train(20, workers=0)\n",
      "C:\\Users\\kuba1\\AppData\\Local\\Temp\\ipykernel_12404\\1773087253.py:31: RuntimeWarning: `words` should be an iterable of str.\n",
      "  slda_test_doc = model.make_doc(list(X_test)[i])\n"
     ]
    },
    {
     "name": "stdout",
     "output_type": "stream",
     "text": [
      "Params 4\n",
      "Fold 0\n"
     ]
    },
    {
     "name": "stderr",
     "output_type": "stream",
     "text": [
      "C:\\Users\\kuba1\\AppData\\Local\\Temp\\ipykernel_12404\\1773087253.py:21: RuntimeWarning: The training result may differ even with fixed seed if `workers` != 1.\n",
      "  slda.train(20, workers=0)\n",
      "C:\\Users\\kuba1\\AppData\\Local\\Temp\\ipykernel_12404\\1773087253.py:31: RuntimeWarning: `words` should be an iterable of str.\n",
      "  slda_test_doc = model.make_doc(list(X_test)[i])\n"
     ]
    },
    {
     "name": "stdout",
     "output_type": "stream",
     "text": [
      "Fold 1\n"
     ]
    },
    {
     "name": "stderr",
     "output_type": "stream",
     "text": [
      "C:\\Users\\kuba1\\AppData\\Local\\Temp\\ipykernel_12404\\1773087253.py:21: RuntimeWarning: The training result may differ even with fixed seed if `workers` != 1.\n",
      "  slda.train(20, workers=0)\n",
      "C:\\Users\\kuba1\\AppData\\Local\\Temp\\ipykernel_12404\\1773087253.py:31: RuntimeWarning: `words` should be an iterable of str.\n",
      "  slda_test_doc = model.make_doc(list(X_test)[i])\n"
     ]
    },
    {
     "name": "stdout",
     "output_type": "stream",
     "text": [
      "Fold 2\n"
     ]
    },
    {
     "name": "stderr",
     "output_type": "stream",
     "text": [
      "C:\\Users\\kuba1\\AppData\\Local\\Temp\\ipykernel_12404\\1773087253.py:21: RuntimeWarning: The training result may differ even with fixed seed if `workers` != 1.\n",
      "  slda.train(20, workers=0)\n",
      "C:\\Users\\kuba1\\AppData\\Local\\Temp\\ipykernel_12404\\1773087253.py:31: RuntimeWarning: `words` should be an iterable of str.\n",
      "  slda_test_doc = model.make_doc(list(X_test)[i])\n"
     ]
    },
    {
     "name": "stdout",
     "output_type": "stream",
     "text": [
      "Params 5\n",
      "Fold 0\n"
     ]
    },
    {
     "name": "stderr",
     "output_type": "stream",
     "text": [
      "C:\\Users\\kuba1\\AppData\\Local\\Temp\\ipykernel_12404\\1773087253.py:21: RuntimeWarning: The training result may differ even with fixed seed if `workers` != 1.\n",
      "  slda.train(20, workers=0)\n",
      "C:\\Users\\kuba1\\AppData\\Local\\Temp\\ipykernel_12404\\1773087253.py:31: RuntimeWarning: `words` should be an iterable of str.\n",
      "  slda_test_doc = model.make_doc(list(X_test)[i])\n"
     ]
    },
    {
     "name": "stdout",
     "output_type": "stream",
     "text": [
      "Fold 1\n"
     ]
    },
    {
     "name": "stderr",
     "output_type": "stream",
     "text": [
      "C:\\Users\\kuba1\\AppData\\Local\\Temp\\ipykernel_12404\\1773087253.py:21: RuntimeWarning: The training result may differ even with fixed seed if `workers` != 1.\n",
      "  slda.train(20, workers=0)\n",
      "C:\\Users\\kuba1\\AppData\\Local\\Temp\\ipykernel_12404\\1773087253.py:31: RuntimeWarning: `words` should be an iterable of str.\n",
      "  slda_test_doc = model.make_doc(list(X_test)[i])\n"
     ]
    },
    {
     "name": "stdout",
     "output_type": "stream",
     "text": [
      "Fold 2\n"
     ]
    },
    {
     "name": "stderr",
     "output_type": "stream",
     "text": [
      "C:\\Users\\kuba1\\AppData\\Local\\Temp\\ipykernel_12404\\1773087253.py:21: RuntimeWarning: The training result may differ even with fixed seed if `workers` != 1.\n",
      "  slda.train(20, workers=0)\n",
      "C:\\Users\\kuba1\\AppData\\Local\\Temp\\ipykernel_12404\\1773087253.py:31: RuntimeWarning: `words` should be an iterable of str.\n",
      "  slda_test_doc = model.make_doc(list(X_test)[i])\n"
     ]
    },
    {
     "name": "stdout",
     "output_type": "stream",
     "text": [
      "Params 6\n",
      "Fold 0\n"
     ]
    },
    {
     "name": "stderr",
     "output_type": "stream",
     "text": [
      "C:\\Users\\kuba1\\AppData\\Local\\Temp\\ipykernel_12404\\1773087253.py:21: RuntimeWarning: The training result may differ even with fixed seed if `workers` != 1.\n",
      "  slda.train(20, workers=0)\n",
      "C:\\Users\\kuba1\\AppData\\Local\\Temp\\ipykernel_12404\\1773087253.py:31: RuntimeWarning: `words` should be an iterable of str.\n",
      "  slda_test_doc = model.make_doc(list(X_test)[i])\n"
     ]
    },
    {
     "name": "stdout",
     "output_type": "stream",
     "text": [
      "Fold 1\n"
     ]
    },
    {
     "name": "stderr",
     "output_type": "stream",
     "text": [
      "C:\\Users\\kuba1\\AppData\\Local\\Temp\\ipykernel_12404\\1773087253.py:21: RuntimeWarning: The training result may differ even with fixed seed if `workers` != 1.\n",
      "  slda.train(20, workers=0)\n",
      "C:\\Users\\kuba1\\AppData\\Local\\Temp\\ipykernel_12404\\1773087253.py:31: RuntimeWarning: `words` should be an iterable of str.\n",
      "  slda_test_doc = model.make_doc(list(X_test)[i])\n"
     ]
    },
    {
     "name": "stdout",
     "output_type": "stream",
     "text": [
      "Fold 2\n"
     ]
    },
    {
     "name": "stderr",
     "output_type": "stream",
     "text": [
      "C:\\Users\\kuba1\\AppData\\Local\\Temp\\ipykernel_12404\\1773087253.py:21: RuntimeWarning: The training result may differ even with fixed seed if `workers` != 1.\n",
      "  slda.train(20, workers=0)\n",
      "C:\\Users\\kuba1\\AppData\\Local\\Temp\\ipykernel_12404\\1773087253.py:31: RuntimeWarning: `words` should be an iterable of str.\n",
      "  slda_test_doc = model.make_doc(list(X_test)[i])\n"
     ]
    },
    {
     "name": "stdout",
     "output_type": "stream",
     "text": [
      "Params 7\n",
      "Fold 0\n"
     ]
    },
    {
     "name": "stderr",
     "output_type": "stream",
     "text": [
      "C:\\Users\\kuba1\\AppData\\Local\\Temp\\ipykernel_12404\\1773087253.py:21: RuntimeWarning: The training result may differ even with fixed seed if `workers` != 1.\n",
      "  slda.train(20, workers=0)\n",
      "C:\\Users\\kuba1\\AppData\\Local\\Temp\\ipykernel_12404\\1773087253.py:31: RuntimeWarning: `words` should be an iterable of str.\n",
      "  slda_test_doc = model.make_doc(list(X_test)[i])\n"
     ]
    },
    {
     "name": "stdout",
     "output_type": "stream",
     "text": [
      "Fold 1\n"
     ]
    },
    {
     "name": "stderr",
     "output_type": "stream",
     "text": [
      "C:\\Users\\kuba1\\AppData\\Local\\Temp\\ipykernel_12404\\1773087253.py:21: RuntimeWarning: The training result may differ even with fixed seed if `workers` != 1.\n",
      "  slda.train(20, workers=0)\n",
      "C:\\Users\\kuba1\\AppData\\Local\\Temp\\ipykernel_12404\\1773087253.py:31: RuntimeWarning: `words` should be an iterable of str.\n",
      "  slda_test_doc = model.make_doc(list(X_test)[i])\n"
     ]
    },
    {
     "name": "stdout",
     "output_type": "stream",
     "text": [
      "Fold 2\n"
     ]
    },
    {
     "name": "stderr",
     "output_type": "stream",
     "text": [
      "C:\\Users\\kuba1\\AppData\\Local\\Temp\\ipykernel_12404\\1773087253.py:21: RuntimeWarning: The training result may differ even with fixed seed if `workers` != 1.\n",
      "  slda.train(20, workers=0)\n",
      "C:\\Users\\kuba1\\AppData\\Local\\Temp\\ipykernel_12404\\1773087253.py:31: RuntimeWarning: `words` should be an iterable of str.\n",
      "  slda_test_doc = model.make_doc(list(X_test)[i])\n"
     ]
    },
    {
     "name": "stdout",
     "output_type": "stream",
     "text": [
      "Params 8\n",
      "Fold 0\n"
     ]
    },
    {
     "name": "stderr",
     "output_type": "stream",
     "text": [
      "C:\\Users\\kuba1\\AppData\\Local\\Temp\\ipykernel_12404\\1773087253.py:21: RuntimeWarning: The training result may differ even with fixed seed if `workers` != 1.\n",
      "  slda.train(20, workers=0)\n",
      "C:\\Users\\kuba1\\AppData\\Local\\Temp\\ipykernel_12404\\1773087253.py:31: RuntimeWarning: `words` should be an iterable of str.\n",
      "  slda_test_doc = model.make_doc(list(X_test)[i])\n"
     ]
    },
    {
     "name": "stdout",
     "output_type": "stream",
     "text": [
      "Fold 1\n"
     ]
    },
    {
     "name": "stderr",
     "output_type": "stream",
     "text": [
      "C:\\Users\\kuba1\\AppData\\Local\\Temp\\ipykernel_12404\\1773087253.py:21: RuntimeWarning: The training result may differ even with fixed seed if `workers` != 1.\n",
      "  slda.train(20, workers=0)\n",
      "C:\\Users\\kuba1\\AppData\\Local\\Temp\\ipykernel_12404\\1773087253.py:31: RuntimeWarning: `words` should be an iterable of str.\n",
      "  slda_test_doc = model.make_doc(list(X_test)[i])\n"
     ]
    },
    {
     "name": "stdout",
     "output_type": "stream",
     "text": [
      "Fold 2\n"
     ]
    },
    {
     "name": "stderr",
     "output_type": "stream",
     "text": [
      "C:\\Users\\kuba1\\AppData\\Local\\Temp\\ipykernel_12404\\1773087253.py:21: RuntimeWarning: The training result may differ even with fixed seed if `workers` != 1.\n",
      "  slda.train(20, workers=0)\n",
      "C:\\Users\\kuba1\\AppData\\Local\\Temp\\ipykernel_12404\\1773087253.py:31: RuntimeWarning: `words` should be an iterable of str.\n",
      "  slda_test_doc = model.make_doc(list(X_test)[i])\n"
     ]
    },
    {
     "name": "stdout",
     "output_type": "stream",
     "text": [
      "Params 9\n",
      "Fold 0\n"
     ]
    },
    {
     "name": "stderr",
     "output_type": "stream",
     "text": [
      "C:\\Users\\kuba1\\AppData\\Local\\Temp\\ipykernel_12404\\1773087253.py:21: RuntimeWarning: The training result may differ even with fixed seed if `workers` != 1.\n",
      "  slda.train(20, workers=0)\n",
      "C:\\Users\\kuba1\\AppData\\Local\\Temp\\ipykernel_12404\\1773087253.py:31: RuntimeWarning: `words` should be an iterable of str.\n",
      "  slda_test_doc = model.make_doc(list(X_test)[i])\n"
     ]
    },
    {
     "name": "stdout",
     "output_type": "stream",
     "text": [
      "Fold 1\n"
     ]
    },
    {
     "name": "stderr",
     "output_type": "stream",
     "text": [
      "C:\\Users\\kuba1\\AppData\\Local\\Temp\\ipykernel_12404\\1773087253.py:21: RuntimeWarning: The training result may differ even with fixed seed if `workers` != 1.\n",
      "  slda.train(20, workers=0)\n",
      "C:\\Users\\kuba1\\AppData\\Local\\Temp\\ipykernel_12404\\1773087253.py:31: RuntimeWarning: `words` should be an iterable of str.\n",
      "  slda_test_doc = model.make_doc(list(X_test)[i])\n"
     ]
    },
    {
     "name": "stdout",
     "output_type": "stream",
     "text": [
      "Fold 2\n"
     ]
    },
    {
     "name": "stderr",
     "output_type": "stream",
     "text": [
      "C:\\Users\\kuba1\\AppData\\Local\\Temp\\ipykernel_12404\\1773087253.py:21: RuntimeWarning: The training result may differ even with fixed seed if `workers` != 1.\n",
      "  slda.train(20, workers=0)\n",
      "C:\\Users\\kuba1\\AppData\\Local\\Temp\\ipykernel_12404\\1773087253.py:31: RuntimeWarning: `words` should be an iterable of str.\n",
      "  slda_test_doc = model.make_doc(list(X_test)[i])\n"
     ]
    },
    {
     "name": "stdout",
     "output_type": "stream",
     "text": [
      "Params 10\n",
      "Fold 0\n"
     ]
    },
    {
     "name": "stderr",
     "output_type": "stream",
     "text": [
      "C:\\Users\\kuba1\\AppData\\Local\\Temp\\ipykernel_12404\\1773087253.py:21: RuntimeWarning: The training result may differ even with fixed seed if `workers` != 1.\n",
      "  slda.train(20, workers=0)\n",
      "C:\\Users\\kuba1\\AppData\\Local\\Temp\\ipykernel_12404\\1773087253.py:31: RuntimeWarning: `words` should be an iterable of str.\n",
      "  slda_test_doc = model.make_doc(list(X_test)[i])\n"
     ]
    },
    {
     "name": "stdout",
     "output_type": "stream",
     "text": [
      "Fold 1\n"
     ]
    },
    {
     "name": "stderr",
     "output_type": "stream",
     "text": [
      "C:\\Users\\kuba1\\AppData\\Local\\Temp\\ipykernel_12404\\1773087253.py:21: RuntimeWarning: The training result may differ even with fixed seed if `workers` != 1.\n",
      "  slda.train(20, workers=0)\n",
      "C:\\Users\\kuba1\\AppData\\Local\\Temp\\ipykernel_12404\\1773087253.py:31: RuntimeWarning: `words` should be an iterable of str.\n",
      "  slda_test_doc = model.make_doc(list(X_test)[i])\n"
     ]
    },
    {
     "name": "stdout",
     "output_type": "stream",
     "text": [
      "Fold 2\n"
     ]
    },
    {
     "name": "stderr",
     "output_type": "stream",
     "text": [
      "C:\\Users\\kuba1\\AppData\\Local\\Temp\\ipykernel_12404\\1773087253.py:21: RuntimeWarning: The training result may differ even with fixed seed if `workers` != 1.\n",
      "  slda.train(20, workers=0)\n",
      "C:\\Users\\kuba1\\AppData\\Local\\Temp\\ipykernel_12404\\1773087253.py:31: RuntimeWarning: `words` should be an iterable of str.\n",
      "  slda_test_doc = model.make_doc(list(X_test)[i])\n"
     ]
    },
    {
     "name": "stdout",
     "output_type": "stream",
     "text": [
      "Params 11\n",
      "Fold 0\n"
     ]
    },
    {
     "name": "stderr",
     "output_type": "stream",
     "text": [
      "C:\\Users\\kuba1\\AppData\\Local\\Temp\\ipykernel_12404\\1773087253.py:21: RuntimeWarning: The training result may differ even with fixed seed if `workers` != 1.\n",
      "  slda.train(20, workers=0)\n",
      "C:\\Users\\kuba1\\AppData\\Local\\Temp\\ipykernel_12404\\1773087253.py:31: RuntimeWarning: `words` should be an iterable of str.\n",
      "  slda_test_doc = model.make_doc(list(X_test)[i])\n"
     ]
    },
    {
     "name": "stdout",
     "output_type": "stream",
     "text": [
      "Fold 1\n"
     ]
    },
    {
     "name": "stderr",
     "output_type": "stream",
     "text": [
      "C:\\Users\\kuba1\\AppData\\Local\\Temp\\ipykernel_12404\\1773087253.py:21: RuntimeWarning: The training result may differ even with fixed seed if `workers` != 1.\n",
      "  slda.train(20, workers=0)\n",
      "C:\\Users\\kuba1\\AppData\\Local\\Temp\\ipykernel_12404\\1773087253.py:31: RuntimeWarning: `words` should be an iterable of str.\n",
      "  slda_test_doc = model.make_doc(list(X_test)[i])\n"
     ]
    },
    {
     "name": "stdout",
     "output_type": "stream",
     "text": [
      "Fold 2\n"
     ]
    },
    {
     "name": "stderr",
     "output_type": "stream",
     "text": [
      "C:\\Users\\kuba1\\AppData\\Local\\Temp\\ipykernel_12404\\1773087253.py:21: RuntimeWarning: The training result may differ even with fixed seed if `workers` != 1.\n",
      "  slda.train(20, workers=0)\n",
      "C:\\Users\\kuba1\\AppData\\Local\\Temp\\ipykernel_12404\\1773087253.py:31: RuntimeWarning: `words` should be an iterable of str.\n",
      "  slda_test_doc = model.make_doc(list(X_test)[i])\n"
     ]
    },
    {
     "name": "stdout",
     "output_type": "stream",
     "text": [
      "Params 12\n",
      "Fold 0\n"
     ]
    },
    {
     "name": "stderr",
     "output_type": "stream",
     "text": [
      "C:\\Users\\kuba1\\AppData\\Local\\Temp\\ipykernel_12404\\1773087253.py:21: RuntimeWarning: The training result may differ even with fixed seed if `workers` != 1.\n",
      "  slda.train(20, workers=0)\n",
      "C:\\Users\\kuba1\\AppData\\Local\\Temp\\ipykernel_12404\\1773087253.py:31: RuntimeWarning: `words` should be an iterable of str.\n",
      "  slda_test_doc = model.make_doc(list(X_test)[i])\n"
     ]
    },
    {
     "name": "stdout",
     "output_type": "stream",
     "text": [
      "Fold 1\n"
     ]
    },
    {
     "name": "stderr",
     "output_type": "stream",
     "text": [
      "C:\\Users\\kuba1\\AppData\\Local\\Temp\\ipykernel_12404\\1773087253.py:21: RuntimeWarning: The training result may differ even with fixed seed if `workers` != 1.\n",
      "  slda.train(20, workers=0)\n",
      "C:\\Users\\kuba1\\AppData\\Local\\Temp\\ipykernel_12404\\1773087253.py:31: RuntimeWarning: `words` should be an iterable of str.\n",
      "  slda_test_doc = model.make_doc(list(X_test)[i])\n"
     ]
    },
    {
     "name": "stdout",
     "output_type": "stream",
     "text": [
      "Fold 2\n"
     ]
    },
    {
     "name": "stderr",
     "output_type": "stream",
     "text": [
      "C:\\Users\\kuba1\\AppData\\Local\\Temp\\ipykernel_12404\\1773087253.py:21: RuntimeWarning: The training result may differ even with fixed seed if `workers` != 1.\n",
      "  slda.train(20, workers=0)\n",
      "C:\\Users\\kuba1\\AppData\\Local\\Temp\\ipykernel_12404\\1773087253.py:31: RuntimeWarning: `words` should be an iterable of str.\n",
      "  slda_test_doc = model.make_doc(list(X_test)[i])\n"
     ]
    },
    {
     "name": "stdout",
     "output_type": "stream",
     "text": [
      "Params 13\n",
      "Fold 0\n"
     ]
    },
    {
     "name": "stderr",
     "output_type": "stream",
     "text": [
      "C:\\Users\\kuba1\\AppData\\Local\\Temp\\ipykernel_12404\\1773087253.py:21: RuntimeWarning: The training result may differ even with fixed seed if `workers` != 1.\n",
      "  slda.train(20, workers=0)\n",
      "C:\\Users\\kuba1\\AppData\\Local\\Temp\\ipykernel_12404\\1773087253.py:31: RuntimeWarning: `words` should be an iterable of str.\n",
      "  slda_test_doc = model.make_doc(list(X_test)[i])\n"
     ]
    },
    {
     "name": "stdout",
     "output_type": "stream",
     "text": [
      "Fold 1\n"
     ]
    },
    {
     "name": "stderr",
     "output_type": "stream",
     "text": [
      "C:\\Users\\kuba1\\AppData\\Local\\Temp\\ipykernel_12404\\1773087253.py:21: RuntimeWarning: The training result may differ even with fixed seed if `workers` != 1.\n",
      "  slda.train(20, workers=0)\n",
      "C:\\Users\\kuba1\\AppData\\Local\\Temp\\ipykernel_12404\\1773087253.py:31: RuntimeWarning: `words` should be an iterable of str.\n",
      "  slda_test_doc = model.make_doc(list(X_test)[i])\n"
     ]
    },
    {
     "name": "stdout",
     "output_type": "stream",
     "text": [
      "Fold 2\n"
     ]
    },
    {
     "name": "stderr",
     "output_type": "stream",
     "text": [
      "C:\\Users\\kuba1\\AppData\\Local\\Temp\\ipykernel_12404\\1773087253.py:21: RuntimeWarning: The training result may differ even with fixed seed if `workers` != 1.\n",
      "  slda.train(20, workers=0)\n",
      "C:\\Users\\kuba1\\AppData\\Local\\Temp\\ipykernel_12404\\1773087253.py:31: RuntimeWarning: `words` should be an iterable of str.\n",
      "  slda_test_doc = model.make_doc(list(X_test)[i])\n"
     ]
    },
    {
     "name": "stdout",
     "output_type": "stream",
     "text": [
      "Params 14\n",
      "Fold 0\n"
     ]
    },
    {
     "name": "stderr",
     "output_type": "stream",
     "text": [
      "C:\\Users\\kuba1\\AppData\\Local\\Temp\\ipykernel_12404\\1773087253.py:21: RuntimeWarning: The training result may differ even with fixed seed if `workers` != 1.\n",
      "  slda.train(20, workers=0)\n",
      "C:\\Users\\kuba1\\AppData\\Local\\Temp\\ipykernel_12404\\1773087253.py:31: RuntimeWarning: `words` should be an iterable of str.\n",
      "  slda_test_doc = model.make_doc(list(X_test)[i])\n"
     ]
    },
    {
     "name": "stdout",
     "output_type": "stream",
     "text": [
      "Fold 1\n"
     ]
    },
    {
     "name": "stderr",
     "output_type": "stream",
     "text": [
      "C:\\Users\\kuba1\\AppData\\Local\\Temp\\ipykernel_12404\\1773087253.py:21: RuntimeWarning: The training result may differ even with fixed seed if `workers` != 1.\n",
      "  slda.train(20, workers=0)\n",
      "C:\\Users\\kuba1\\AppData\\Local\\Temp\\ipykernel_12404\\1773087253.py:31: RuntimeWarning: `words` should be an iterable of str.\n",
      "  slda_test_doc = model.make_doc(list(X_test)[i])\n"
     ]
    },
    {
     "name": "stdout",
     "output_type": "stream",
     "text": [
      "Fold 2\n"
     ]
    },
    {
     "name": "stderr",
     "output_type": "stream",
     "text": [
      "C:\\Users\\kuba1\\AppData\\Local\\Temp\\ipykernel_12404\\1773087253.py:21: RuntimeWarning: The training result may differ even with fixed seed if `workers` != 1.\n",
      "  slda.train(20, workers=0)\n",
      "C:\\Users\\kuba1\\AppData\\Local\\Temp\\ipykernel_12404\\1773087253.py:31: RuntimeWarning: `words` should be an iterable of str.\n",
      "  slda_test_doc = model.make_doc(list(X_test)[i])\n"
     ]
    },
    {
     "name": "stdout",
     "output_type": "stream",
     "text": [
      "Params 15\n",
      "Fold 0\n"
     ]
    },
    {
     "name": "stderr",
     "output_type": "stream",
     "text": [
      "C:\\Users\\kuba1\\AppData\\Local\\Temp\\ipykernel_12404\\1773087253.py:21: RuntimeWarning: The training result may differ even with fixed seed if `workers` != 1.\n",
      "  slda.train(20, workers=0)\n",
      "C:\\Users\\kuba1\\AppData\\Local\\Temp\\ipykernel_12404\\1773087253.py:31: RuntimeWarning: `words` should be an iterable of str.\n",
      "  slda_test_doc = model.make_doc(list(X_test)[i])\n"
     ]
    },
    {
     "name": "stdout",
     "output_type": "stream",
     "text": [
      "Fold 1\n"
     ]
    },
    {
     "name": "stderr",
     "output_type": "stream",
     "text": [
      "C:\\Users\\kuba1\\AppData\\Local\\Temp\\ipykernel_12404\\1773087253.py:21: RuntimeWarning: The training result may differ even with fixed seed if `workers` != 1.\n",
      "  slda.train(20, workers=0)\n",
      "C:\\Users\\kuba1\\AppData\\Local\\Temp\\ipykernel_12404\\1773087253.py:31: RuntimeWarning: `words` should be an iterable of str.\n",
      "  slda_test_doc = model.make_doc(list(X_test)[i])\n"
     ]
    },
    {
     "name": "stdout",
     "output_type": "stream",
     "text": [
      "Fold 2\n"
     ]
    },
    {
     "name": "stderr",
     "output_type": "stream",
     "text": [
      "C:\\Users\\kuba1\\AppData\\Local\\Temp\\ipykernel_12404\\1773087253.py:21: RuntimeWarning: The training result may differ even with fixed seed if `workers` != 1.\n",
      "  slda.train(20, workers=0)\n",
      "C:\\Users\\kuba1\\AppData\\Local\\Temp\\ipykernel_12404\\1773087253.py:31: RuntimeWarning: `words` should be an iterable of str.\n",
      "  slda_test_doc = model.make_doc(list(X_test)[i])\n"
     ]
    },
    {
     "name": "stdout",
     "output_type": "stream",
     "text": [
      "Params 16\n",
      "Fold 0\n"
     ]
    },
    {
     "name": "stderr",
     "output_type": "stream",
     "text": [
      "C:\\Users\\kuba1\\AppData\\Local\\Temp\\ipykernel_12404\\1773087253.py:21: RuntimeWarning: The training result may differ even with fixed seed if `workers` != 1.\n",
      "  slda.train(20, workers=0)\n",
      "C:\\Users\\kuba1\\AppData\\Local\\Temp\\ipykernel_12404\\1773087253.py:31: RuntimeWarning: `words` should be an iterable of str.\n",
      "  slda_test_doc = model.make_doc(list(X_test)[i])\n"
     ]
    },
    {
     "name": "stdout",
     "output_type": "stream",
     "text": [
      "Fold 1\n"
     ]
    },
    {
     "name": "stderr",
     "output_type": "stream",
     "text": [
      "C:\\Users\\kuba1\\AppData\\Local\\Temp\\ipykernel_12404\\1773087253.py:21: RuntimeWarning: The training result may differ even with fixed seed if `workers` != 1.\n",
      "  slda.train(20, workers=0)\n",
      "C:\\Users\\kuba1\\AppData\\Local\\Temp\\ipykernel_12404\\1773087253.py:31: RuntimeWarning: `words` should be an iterable of str.\n",
      "  slda_test_doc = model.make_doc(list(X_test)[i])\n"
     ]
    },
    {
     "name": "stdout",
     "output_type": "stream",
     "text": [
      "Fold 2\n"
     ]
    },
    {
     "name": "stderr",
     "output_type": "stream",
     "text": [
      "C:\\Users\\kuba1\\AppData\\Local\\Temp\\ipykernel_12404\\1773087253.py:21: RuntimeWarning: The training result may differ even with fixed seed if `workers` != 1.\n",
      "  slda.train(20, workers=0)\n",
      "C:\\Users\\kuba1\\AppData\\Local\\Temp\\ipykernel_12404\\1773087253.py:31: RuntimeWarning: `words` should be an iterable of str.\n",
      "  slda_test_doc = model.make_doc(list(X_test)[i])\n"
     ]
    },
    {
     "name": "stdout",
     "output_type": "stream",
     "text": [
      "Params 17\n",
      "Fold 0\n"
     ]
    },
    {
     "name": "stderr",
     "output_type": "stream",
     "text": [
      "C:\\Users\\kuba1\\AppData\\Local\\Temp\\ipykernel_12404\\1773087253.py:21: RuntimeWarning: The training result may differ even with fixed seed if `workers` != 1.\n",
      "  slda.train(20, workers=0)\n",
      "C:\\Users\\kuba1\\AppData\\Local\\Temp\\ipykernel_12404\\1773087253.py:31: RuntimeWarning: `words` should be an iterable of str.\n",
      "  slda_test_doc = model.make_doc(list(X_test)[i])\n"
     ]
    },
    {
     "name": "stdout",
     "output_type": "stream",
     "text": [
      "Fold 1\n"
     ]
    },
    {
     "name": "stderr",
     "output_type": "stream",
     "text": [
      "C:\\Users\\kuba1\\AppData\\Local\\Temp\\ipykernel_12404\\1773087253.py:21: RuntimeWarning: The training result may differ even with fixed seed if `workers` != 1.\n",
      "  slda.train(20, workers=0)\n",
      "C:\\Users\\kuba1\\AppData\\Local\\Temp\\ipykernel_12404\\1773087253.py:31: RuntimeWarning: `words` should be an iterable of str.\n",
      "  slda_test_doc = model.make_doc(list(X_test)[i])\n"
     ]
    },
    {
     "name": "stdout",
     "output_type": "stream",
     "text": [
      "Fold 2\n"
     ]
    },
    {
     "name": "stderr",
     "output_type": "stream",
     "text": [
      "C:\\Users\\kuba1\\AppData\\Local\\Temp\\ipykernel_12404\\1773087253.py:21: RuntimeWarning: The training result may differ even with fixed seed if `workers` != 1.\n",
      "  slda.train(20, workers=0)\n",
      "C:\\Users\\kuba1\\AppData\\Local\\Temp\\ipykernel_12404\\1773087253.py:31: RuntimeWarning: `words` should be an iterable of str.\n",
      "  slda_test_doc = model.make_doc(list(X_test)[i])\n"
     ]
    },
    {
     "name": "stdout",
     "output_type": "stream",
     "text": [
      "Params 18\n",
      "Fold 0\n"
     ]
    },
    {
     "name": "stderr",
     "output_type": "stream",
     "text": [
      "C:\\Users\\kuba1\\AppData\\Local\\Temp\\ipykernel_12404\\1773087253.py:21: RuntimeWarning: The training result may differ even with fixed seed if `workers` != 1.\n",
      "  slda.train(20, workers=0)\n",
      "C:\\Users\\kuba1\\AppData\\Local\\Temp\\ipykernel_12404\\1773087253.py:31: RuntimeWarning: `words` should be an iterable of str.\n",
      "  slda_test_doc = model.make_doc(list(X_test)[i])\n"
     ]
    },
    {
     "name": "stdout",
     "output_type": "stream",
     "text": [
      "Fold 1\n"
     ]
    },
    {
     "name": "stderr",
     "output_type": "stream",
     "text": [
      "C:\\Users\\kuba1\\AppData\\Local\\Temp\\ipykernel_12404\\1773087253.py:21: RuntimeWarning: The training result may differ even with fixed seed if `workers` != 1.\n",
      "  slda.train(20, workers=0)\n",
      "C:\\Users\\kuba1\\AppData\\Local\\Temp\\ipykernel_12404\\1773087253.py:31: RuntimeWarning: `words` should be an iterable of str.\n",
      "  slda_test_doc = model.make_doc(list(X_test)[i])\n"
     ]
    },
    {
     "name": "stdout",
     "output_type": "stream",
     "text": [
      "Fold 2\n"
     ]
    },
    {
     "name": "stderr",
     "output_type": "stream",
     "text": [
      "C:\\Users\\kuba1\\AppData\\Local\\Temp\\ipykernel_12404\\1773087253.py:21: RuntimeWarning: The training result may differ even with fixed seed if `workers` != 1.\n",
      "  slda.train(20, workers=0)\n",
      "C:\\Users\\kuba1\\AppData\\Local\\Temp\\ipykernel_12404\\1773087253.py:31: RuntimeWarning: `words` should be an iterable of str.\n",
      "  slda_test_doc = model.make_doc(list(X_test)[i])\n"
     ]
    },
    {
     "name": "stdout",
     "output_type": "stream",
     "text": [
      "Params 19\n",
      "Fold 0\n"
     ]
    },
    {
     "name": "stderr",
     "output_type": "stream",
     "text": [
      "C:\\Users\\kuba1\\AppData\\Local\\Temp\\ipykernel_12404\\1773087253.py:21: RuntimeWarning: The training result may differ even with fixed seed if `workers` != 1.\n",
      "  slda.train(20, workers=0)\n",
      "C:\\Users\\kuba1\\AppData\\Local\\Temp\\ipykernel_12404\\1773087253.py:31: RuntimeWarning: `words` should be an iterable of str.\n",
      "  slda_test_doc = model.make_doc(list(X_test)[i])\n"
     ]
    },
    {
     "name": "stdout",
     "output_type": "stream",
     "text": [
      "Fold 1\n"
     ]
    },
    {
     "name": "stderr",
     "output_type": "stream",
     "text": [
      "C:\\Users\\kuba1\\AppData\\Local\\Temp\\ipykernel_12404\\1773087253.py:21: RuntimeWarning: The training result may differ even with fixed seed if `workers` != 1.\n",
      "  slda.train(20, workers=0)\n",
      "C:\\Users\\kuba1\\AppData\\Local\\Temp\\ipykernel_12404\\1773087253.py:31: RuntimeWarning: `words` should be an iterable of str.\n",
      "  slda_test_doc = model.make_doc(list(X_test)[i])\n"
     ]
    },
    {
     "name": "stdout",
     "output_type": "stream",
     "text": [
      "Fold 2\n"
     ]
    },
    {
     "name": "stderr",
     "output_type": "stream",
     "text": [
      "C:\\Users\\kuba1\\AppData\\Local\\Temp\\ipykernel_12404\\1773087253.py:21: RuntimeWarning: The training result may differ even with fixed seed if `workers` != 1.\n",
      "  slda.train(20, workers=0)\n",
      "C:\\Users\\kuba1\\AppData\\Local\\Temp\\ipykernel_12404\\1773087253.py:31: RuntimeWarning: `words` should be an iterable of str.\n",
      "  slda_test_doc = model.make_doc(list(X_test)[i])\n"
     ]
    },
    {
     "name": "stdout",
     "output_type": "stream",
     "text": [
      "Params 20\n",
      "Fold 0\n"
     ]
    },
    {
     "name": "stderr",
     "output_type": "stream",
     "text": [
      "C:\\Users\\kuba1\\AppData\\Local\\Temp\\ipykernel_12404\\1773087253.py:21: RuntimeWarning: The training result may differ even with fixed seed if `workers` != 1.\n",
      "  slda.train(20, workers=0)\n",
      "C:\\Users\\kuba1\\AppData\\Local\\Temp\\ipykernel_12404\\1773087253.py:31: RuntimeWarning: `words` should be an iterable of str.\n",
      "  slda_test_doc = model.make_doc(list(X_test)[i])\n"
     ]
    },
    {
     "name": "stdout",
     "output_type": "stream",
     "text": [
      "Fold 1\n"
     ]
    },
    {
     "name": "stderr",
     "output_type": "stream",
     "text": [
      "C:\\Users\\kuba1\\AppData\\Local\\Temp\\ipykernel_12404\\1773087253.py:21: RuntimeWarning: The training result may differ even with fixed seed if `workers` != 1.\n",
      "  slda.train(20, workers=0)\n",
      "C:\\Users\\kuba1\\AppData\\Local\\Temp\\ipykernel_12404\\1773087253.py:31: RuntimeWarning: `words` should be an iterable of str.\n",
      "  slda_test_doc = model.make_doc(list(X_test)[i])\n"
     ]
    },
    {
     "name": "stdout",
     "output_type": "stream",
     "text": [
      "Fold 2\n"
     ]
    },
    {
     "name": "stderr",
     "output_type": "stream",
     "text": [
      "C:\\Users\\kuba1\\AppData\\Local\\Temp\\ipykernel_12404\\1773087253.py:21: RuntimeWarning: The training result may differ even with fixed seed if `workers` != 1.\n",
      "  slda.train(20, workers=0)\n",
      "C:\\Users\\kuba1\\AppData\\Local\\Temp\\ipykernel_12404\\1773087253.py:31: RuntimeWarning: `words` should be an iterable of str.\n",
      "  slda_test_doc = model.make_doc(list(X_test)[i])\n"
     ]
    },
    {
     "name": "stdout",
     "output_type": "stream",
     "text": [
      "Params 21\n",
      "Fold 0\n"
     ]
    },
    {
     "name": "stderr",
     "output_type": "stream",
     "text": [
      "C:\\Users\\kuba1\\AppData\\Local\\Temp\\ipykernel_12404\\1773087253.py:21: RuntimeWarning: The training result may differ even with fixed seed if `workers` != 1.\n",
      "  slda.train(20, workers=0)\n",
      "C:\\Users\\kuba1\\AppData\\Local\\Temp\\ipykernel_12404\\1773087253.py:31: RuntimeWarning: `words` should be an iterable of str.\n",
      "  slda_test_doc = model.make_doc(list(X_test)[i])\n"
     ]
    },
    {
     "name": "stdout",
     "output_type": "stream",
     "text": [
      "Fold 1\n"
     ]
    },
    {
     "name": "stderr",
     "output_type": "stream",
     "text": [
      "C:\\Users\\kuba1\\AppData\\Local\\Temp\\ipykernel_12404\\1773087253.py:21: RuntimeWarning: The training result may differ even with fixed seed if `workers` != 1.\n",
      "  slda.train(20, workers=0)\n",
      "C:\\Users\\kuba1\\AppData\\Local\\Temp\\ipykernel_12404\\1773087253.py:31: RuntimeWarning: `words` should be an iterable of str.\n",
      "  slda_test_doc = model.make_doc(list(X_test)[i])\n"
     ]
    },
    {
     "name": "stdout",
     "output_type": "stream",
     "text": [
      "Fold 2\n"
     ]
    },
    {
     "name": "stderr",
     "output_type": "stream",
     "text": [
      "C:\\Users\\kuba1\\AppData\\Local\\Temp\\ipykernel_12404\\1773087253.py:21: RuntimeWarning: The training result may differ even with fixed seed if `workers` != 1.\n",
      "  slda.train(20, workers=0)\n",
      "C:\\Users\\kuba1\\AppData\\Local\\Temp\\ipykernel_12404\\1773087253.py:31: RuntimeWarning: `words` should be an iterable of str.\n",
      "  slda_test_doc = model.make_doc(list(X_test)[i])\n"
     ]
    },
    {
     "name": "stdout",
     "output_type": "stream",
     "text": [
      "Params 22\n",
      "Fold 0\n"
     ]
    },
    {
     "name": "stderr",
     "output_type": "stream",
     "text": [
      "C:\\Users\\kuba1\\AppData\\Local\\Temp\\ipykernel_12404\\1773087253.py:21: RuntimeWarning: The training result may differ even with fixed seed if `workers` != 1.\n",
      "  slda.train(20, workers=0)\n",
      "C:\\Users\\kuba1\\AppData\\Local\\Temp\\ipykernel_12404\\1773087253.py:31: RuntimeWarning: `words` should be an iterable of str.\n",
      "  slda_test_doc = model.make_doc(list(X_test)[i])\n"
     ]
    },
    {
     "name": "stdout",
     "output_type": "stream",
     "text": [
      "Fold 1\n"
     ]
    },
    {
     "name": "stderr",
     "output_type": "stream",
     "text": [
      "C:\\Users\\kuba1\\AppData\\Local\\Temp\\ipykernel_12404\\1773087253.py:21: RuntimeWarning: The training result may differ even with fixed seed if `workers` != 1.\n",
      "  slda.train(20, workers=0)\n",
      "C:\\Users\\kuba1\\AppData\\Local\\Temp\\ipykernel_12404\\1773087253.py:31: RuntimeWarning: `words` should be an iterable of str.\n",
      "  slda_test_doc = model.make_doc(list(X_test)[i])\n"
     ]
    },
    {
     "name": "stdout",
     "output_type": "stream",
     "text": [
      "Fold 2\n"
     ]
    },
    {
     "name": "stderr",
     "output_type": "stream",
     "text": [
      "C:\\Users\\kuba1\\AppData\\Local\\Temp\\ipykernel_12404\\1773087253.py:21: RuntimeWarning: The training result may differ even with fixed seed if `workers` != 1.\n",
      "  slda.train(20, workers=0)\n",
      "C:\\Users\\kuba1\\AppData\\Local\\Temp\\ipykernel_12404\\1773087253.py:31: RuntimeWarning: `words` should be an iterable of str.\n",
      "  slda_test_doc = model.make_doc(list(X_test)[i])\n"
     ]
    },
    {
     "name": "stdout",
     "output_type": "stream",
     "text": [
      "Params 23\n",
      "Fold 0\n"
     ]
    },
    {
     "name": "stderr",
     "output_type": "stream",
     "text": [
      "C:\\Users\\kuba1\\AppData\\Local\\Temp\\ipykernel_12404\\1773087253.py:21: RuntimeWarning: The training result may differ even with fixed seed if `workers` != 1.\n",
      "  slda.train(20, workers=0)\n",
      "C:\\Users\\kuba1\\AppData\\Local\\Temp\\ipykernel_12404\\1773087253.py:31: RuntimeWarning: `words` should be an iterable of str.\n",
      "  slda_test_doc = model.make_doc(list(X_test)[i])\n"
     ]
    },
    {
     "name": "stdout",
     "output_type": "stream",
     "text": [
      "Fold 1\n"
     ]
    },
    {
     "name": "stderr",
     "output_type": "stream",
     "text": [
      "C:\\Users\\kuba1\\AppData\\Local\\Temp\\ipykernel_12404\\1773087253.py:21: RuntimeWarning: The training result may differ even with fixed seed if `workers` != 1.\n",
      "  slda.train(20, workers=0)\n",
      "C:\\Users\\kuba1\\AppData\\Local\\Temp\\ipykernel_12404\\1773087253.py:31: RuntimeWarning: `words` should be an iterable of str.\n",
      "  slda_test_doc = model.make_doc(list(X_test)[i])\n"
     ]
    },
    {
     "name": "stdout",
     "output_type": "stream",
     "text": [
      "Fold 2\n"
     ]
    },
    {
     "name": "stderr",
     "output_type": "stream",
     "text": [
      "C:\\Users\\kuba1\\AppData\\Local\\Temp\\ipykernel_12404\\1773087253.py:21: RuntimeWarning: The training result may differ even with fixed seed if `workers` != 1.\n",
      "  slda.train(20, workers=0)\n",
      "C:\\Users\\kuba1\\AppData\\Local\\Temp\\ipykernel_12404\\1773087253.py:31: RuntimeWarning: `words` should be an iterable of str.\n",
      "  slda_test_doc = model.make_doc(list(X_test)[i])\n"
     ]
    },
    {
     "name": "stdout",
     "output_type": "stream",
     "text": [
      "Params 24\n",
      "Fold 0\n"
     ]
    },
    {
     "name": "stderr",
     "output_type": "stream",
     "text": [
      "C:\\Users\\kuba1\\AppData\\Local\\Temp\\ipykernel_12404\\1773087253.py:21: RuntimeWarning: The training result may differ even with fixed seed if `workers` != 1.\n",
      "  slda.train(20, workers=0)\n",
      "C:\\Users\\kuba1\\AppData\\Local\\Temp\\ipykernel_12404\\1773087253.py:31: RuntimeWarning: `words` should be an iterable of str.\n",
      "  slda_test_doc = model.make_doc(list(X_test)[i])\n"
     ]
    },
    {
     "name": "stdout",
     "output_type": "stream",
     "text": [
      "Fold 1\n"
     ]
    },
    {
     "name": "stderr",
     "output_type": "stream",
     "text": [
      "C:\\Users\\kuba1\\AppData\\Local\\Temp\\ipykernel_12404\\1773087253.py:21: RuntimeWarning: The training result may differ even with fixed seed if `workers` != 1.\n",
      "  slda.train(20, workers=0)\n",
      "C:\\Users\\kuba1\\AppData\\Local\\Temp\\ipykernel_12404\\1773087253.py:31: RuntimeWarning: `words` should be an iterable of str.\n",
      "  slda_test_doc = model.make_doc(list(X_test)[i])\n"
     ]
    },
    {
     "name": "stdout",
     "output_type": "stream",
     "text": [
      "Fold 2\n"
     ]
    },
    {
     "name": "stderr",
     "output_type": "stream",
     "text": [
      "C:\\Users\\kuba1\\AppData\\Local\\Temp\\ipykernel_12404\\1773087253.py:21: RuntimeWarning: The training result may differ even with fixed seed if `workers` != 1.\n",
      "  slda.train(20, workers=0)\n",
      "C:\\Users\\kuba1\\AppData\\Local\\Temp\\ipykernel_12404\\1773087253.py:31: RuntimeWarning: `words` should be an iterable of str.\n",
      "  slda_test_doc = model.make_doc(list(X_test)[i])\n"
     ]
    },
    {
     "name": "stdout",
     "output_type": "stream",
     "text": [
      "Params 25\n",
      "Fold 0\n"
     ]
    },
    {
     "name": "stderr",
     "output_type": "stream",
     "text": [
      "C:\\Users\\kuba1\\AppData\\Local\\Temp\\ipykernel_12404\\1773087253.py:21: RuntimeWarning: The training result may differ even with fixed seed if `workers` != 1.\n",
      "  slda.train(20, workers=0)\n",
      "C:\\Users\\kuba1\\AppData\\Local\\Temp\\ipykernel_12404\\1773087253.py:31: RuntimeWarning: `words` should be an iterable of str.\n",
      "  slda_test_doc = model.make_doc(list(X_test)[i])\n"
     ]
    },
    {
     "name": "stdout",
     "output_type": "stream",
     "text": [
      "Fold 1\n"
     ]
    },
    {
     "name": "stderr",
     "output_type": "stream",
     "text": [
      "C:\\Users\\kuba1\\AppData\\Local\\Temp\\ipykernel_12404\\1773087253.py:21: RuntimeWarning: The training result may differ even with fixed seed if `workers` != 1.\n",
      "  slda.train(20, workers=0)\n",
      "C:\\Users\\kuba1\\AppData\\Local\\Temp\\ipykernel_12404\\1773087253.py:31: RuntimeWarning: `words` should be an iterable of str.\n",
      "  slda_test_doc = model.make_doc(list(X_test)[i])\n"
     ]
    },
    {
     "name": "stdout",
     "output_type": "stream",
     "text": [
      "Fold 2\n"
     ]
    },
    {
     "name": "stderr",
     "output_type": "stream",
     "text": [
      "C:\\Users\\kuba1\\AppData\\Local\\Temp\\ipykernel_12404\\1773087253.py:21: RuntimeWarning: The training result may differ even with fixed seed if `workers` != 1.\n",
      "  slda.train(20, workers=0)\n",
      "C:\\Users\\kuba1\\AppData\\Local\\Temp\\ipykernel_12404\\1773087253.py:31: RuntimeWarning: `words` should be an iterable of str.\n",
      "  slda_test_doc = model.make_doc(list(X_test)[i])\n"
     ]
    },
    {
     "name": "stdout",
     "output_type": "stream",
     "text": [
      "Params 26\n",
      "Fold 0\n"
     ]
    },
    {
     "name": "stderr",
     "output_type": "stream",
     "text": [
      "C:\\Users\\kuba1\\AppData\\Local\\Temp\\ipykernel_12404\\1773087253.py:21: RuntimeWarning: The training result may differ even with fixed seed if `workers` != 1.\n",
      "  slda.train(20, workers=0)\n",
      "C:\\Users\\kuba1\\AppData\\Local\\Temp\\ipykernel_12404\\1773087253.py:31: RuntimeWarning: `words` should be an iterable of str.\n",
      "  slda_test_doc = model.make_doc(list(X_test)[i])\n"
     ]
    },
    {
     "name": "stdout",
     "output_type": "stream",
     "text": [
      "Fold 1\n"
     ]
    },
    {
     "name": "stderr",
     "output_type": "stream",
     "text": [
      "C:\\Users\\kuba1\\AppData\\Local\\Temp\\ipykernel_12404\\1773087253.py:21: RuntimeWarning: The training result may differ even with fixed seed if `workers` != 1.\n",
      "  slda.train(20, workers=0)\n",
      "C:\\Users\\kuba1\\AppData\\Local\\Temp\\ipykernel_12404\\1773087253.py:31: RuntimeWarning: `words` should be an iterable of str.\n",
      "  slda_test_doc = model.make_doc(list(X_test)[i])\n"
     ]
    },
    {
     "name": "stdout",
     "output_type": "stream",
     "text": [
      "Fold 2\n"
     ]
    },
    {
     "name": "stderr",
     "output_type": "stream",
     "text": [
      "C:\\Users\\kuba1\\AppData\\Local\\Temp\\ipykernel_12404\\1773087253.py:21: RuntimeWarning: The training result may differ even with fixed seed if `workers` != 1.\n",
      "  slda.train(20, workers=0)\n",
      "C:\\Users\\kuba1\\AppData\\Local\\Temp\\ipykernel_12404\\1773087253.py:31: RuntimeWarning: `words` should be an iterable of str.\n",
      "  slda_test_doc = model.make_doc(list(X_test)[i])\n"
     ]
    },
    {
     "name": "stdout",
     "output_type": "stream",
     "text": [
      "Params 27\n",
      "Fold 0\n"
     ]
    },
    {
     "name": "stderr",
     "output_type": "stream",
     "text": [
      "C:\\Users\\kuba1\\AppData\\Local\\Temp\\ipykernel_12404\\1773087253.py:21: RuntimeWarning: The training result may differ even with fixed seed if `workers` != 1.\n",
      "  slda.train(20, workers=0)\n",
      "C:\\Users\\kuba1\\AppData\\Local\\Temp\\ipykernel_12404\\1773087253.py:31: RuntimeWarning: `words` should be an iterable of str.\n",
      "  slda_test_doc = model.make_doc(list(X_test)[i])\n"
     ]
    },
    {
     "name": "stdout",
     "output_type": "stream",
     "text": [
      "Fold 1\n"
     ]
    },
    {
     "name": "stderr",
     "output_type": "stream",
     "text": [
      "C:\\Users\\kuba1\\AppData\\Local\\Temp\\ipykernel_12404\\1773087253.py:21: RuntimeWarning: The training result may differ even with fixed seed if `workers` != 1.\n",
      "  slda.train(20, workers=0)\n",
      "C:\\Users\\kuba1\\AppData\\Local\\Temp\\ipykernel_12404\\1773087253.py:31: RuntimeWarning: `words` should be an iterable of str.\n",
      "  slda_test_doc = model.make_doc(list(X_test)[i])\n"
     ]
    },
    {
     "name": "stdout",
     "output_type": "stream",
     "text": [
      "Fold 2\n"
     ]
    },
    {
     "name": "stderr",
     "output_type": "stream",
     "text": [
      "C:\\Users\\kuba1\\AppData\\Local\\Temp\\ipykernel_12404\\1773087253.py:21: RuntimeWarning: The training result may differ even with fixed seed if `workers` != 1.\n",
      "  slda.train(20, workers=0)\n",
      "C:\\Users\\kuba1\\AppData\\Local\\Temp\\ipykernel_12404\\1773087253.py:31: RuntimeWarning: `words` should be an iterable of str.\n",
      "  slda_test_doc = model.make_doc(list(X_test)[i])\n"
     ]
    },
    {
     "name": "stdout",
     "output_type": "stream",
     "text": [
      "Params 28\n",
      "Fold 0\n"
     ]
    },
    {
     "name": "stderr",
     "output_type": "stream",
     "text": [
      "C:\\Users\\kuba1\\AppData\\Local\\Temp\\ipykernel_12404\\1773087253.py:21: RuntimeWarning: The training result may differ even with fixed seed if `workers` != 1.\n",
      "  slda.train(20, workers=0)\n",
      "C:\\Users\\kuba1\\AppData\\Local\\Temp\\ipykernel_12404\\1773087253.py:31: RuntimeWarning: `words` should be an iterable of str.\n",
      "  slda_test_doc = model.make_doc(list(X_test)[i])\n"
     ]
    },
    {
     "name": "stdout",
     "output_type": "stream",
     "text": [
      "Fold 1\n"
     ]
    },
    {
     "name": "stderr",
     "output_type": "stream",
     "text": [
      "C:\\Users\\kuba1\\AppData\\Local\\Temp\\ipykernel_12404\\1773087253.py:21: RuntimeWarning: The training result may differ even with fixed seed if `workers` != 1.\n",
      "  slda.train(20, workers=0)\n",
      "C:\\Users\\kuba1\\AppData\\Local\\Temp\\ipykernel_12404\\1773087253.py:31: RuntimeWarning: `words` should be an iterable of str.\n",
      "  slda_test_doc = model.make_doc(list(X_test)[i])\n"
     ]
    },
    {
     "name": "stdout",
     "output_type": "stream",
     "text": [
      "Fold 2\n"
     ]
    },
    {
     "name": "stderr",
     "output_type": "stream",
     "text": [
      "C:\\Users\\kuba1\\AppData\\Local\\Temp\\ipykernel_12404\\1773087253.py:21: RuntimeWarning: The training result may differ even with fixed seed if `workers` != 1.\n",
      "  slda.train(20, workers=0)\n",
      "C:\\Users\\kuba1\\AppData\\Local\\Temp\\ipykernel_12404\\1773087253.py:31: RuntimeWarning: `words` should be an iterable of str.\n",
      "  slda_test_doc = model.make_doc(list(X_test)[i])\n"
     ]
    },
    {
     "name": "stdout",
     "output_type": "stream",
     "text": [
      "Params 29\n",
      "Fold 0\n"
     ]
    },
    {
     "name": "stderr",
     "output_type": "stream",
     "text": [
      "C:\\Users\\kuba1\\AppData\\Local\\Temp\\ipykernel_12404\\1773087253.py:21: RuntimeWarning: The training result may differ even with fixed seed if `workers` != 1.\n",
      "  slda.train(20, workers=0)\n",
      "C:\\Users\\kuba1\\AppData\\Local\\Temp\\ipykernel_12404\\1773087253.py:31: RuntimeWarning: `words` should be an iterable of str.\n",
      "  slda_test_doc = model.make_doc(list(X_test)[i])\n"
     ]
    },
    {
     "name": "stdout",
     "output_type": "stream",
     "text": [
      "Fold 1\n"
     ]
    },
    {
     "name": "stderr",
     "output_type": "stream",
     "text": [
      "C:\\Users\\kuba1\\AppData\\Local\\Temp\\ipykernel_12404\\1773087253.py:21: RuntimeWarning: The training result may differ even with fixed seed if `workers` != 1.\n",
      "  slda.train(20, workers=0)\n",
      "C:\\Users\\kuba1\\AppData\\Local\\Temp\\ipykernel_12404\\1773087253.py:31: RuntimeWarning: `words` should be an iterable of str.\n",
      "  slda_test_doc = model.make_doc(list(X_test)[i])\n"
     ]
    },
    {
     "name": "stdout",
     "output_type": "stream",
     "text": [
      "Fold 2\n"
     ]
    },
    {
     "name": "stderr",
     "output_type": "stream",
     "text": [
      "C:\\Users\\kuba1\\AppData\\Local\\Temp\\ipykernel_12404\\1773087253.py:21: RuntimeWarning: The training result may differ even with fixed seed if `workers` != 1.\n",
      "  slda.train(20, workers=0)\n",
      "C:\\Users\\kuba1\\AppData\\Local\\Temp\\ipykernel_12404\\1773087253.py:31: RuntimeWarning: `words` should be an iterable of str.\n",
      "  slda_test_doc = model.make_doc(list(X_test)[i])\n"
     ]
    }
   ],
   "source": [
    "results = hypreropt(X, y, hyper_params, 30)"
   ]
  },
  {
   "cell_type": "code",
   "execution_count": 27,
   "metadata": {},
   "outputs": [],
   "source": [
    "result_df = pd.DataFrame(results)"
   ]
  },
  {
   "cell_type": "code",
   "execution_count": 28,
   "metadata": {},
   "outputs": [
    {
     "data": {
      "text/html": [
       "<div>\n",
       "<style scoped>\n",
       "    .dataframe tbody tr th:only-of-type {\n",
       "        vertical-align: middle;\n",
       "    }\n",
       "\n",
       "    .dataframe tbody tr th {\n",
       "        vertical-align: top;\n",
       "    }\n",
       "\n",
       "    .dataframe thead th {\n",
       "        text-align: right;\n",
       "    }\n",
       "</style>\n",
       "<table border=\"1\" class=\"dataframe\">\n",
       "  <thead>\n",
       "    <tr style=\"text-align: right;\">\n",
       "      <th></th>\n",
       "      <th>k</th>\n",
       "      <th>min_df</th>\n",
       "      <th>rm_top</th>\n",
       "      <th>vars</th>\n",
       "      <th>alpha</th>\n",
       "      <th>eta</th>\n",
       "      <th>mu</th>\n",
       "      <th>nu_sq</th>\n",
       "      <th>glm_param</th>\n",
       "      <th>seed</th>\n",
       "      <th>mape</th>\n",
       "    </tr>\n",
       "  </thead>\n",
       "  <tbody>\n",
       "    <tr>\n",
       "      <th>0</th>\n",
       "      <td>20</td>\n",
       "      <td>0</td>\n",
       "      <td>0</td>\n",
       "      <td>l</td>\n",
       "      <td>0.3</td>\n",
       "      <td>0.20</td>\n",
       "      <td>0.2</td>\n",
       "      <td>1</td>\n",
       "      <td>1</td>\n",
       "      <td>123</td>\n",
       "      <td>401.554314</td>\n",
       "    </tr>\n",
       "    <tr>\n",
       "      <th>1</th>\n",
       "      <td>20</td>\n",
       "      <td>0</td>\n",
       "      <td>5</td>\n",
       "      <td>l</td>\n",
       "      <td>0.1</td>\n",
       "      <td>0.10</td>\n",
       "      <td>0.1</td>\n",
       "      <td>1</td>\n",
       "      <td>1</td>\n",
       "      <td>123</td>\n",
       "      <td>411.168225</td>\n",
       "    </tr>\n",
       "    <tr>\n",
       "      <th>2</th>\n",
       "      <td>10</td>\n",
       "      <td>0</td>\n",
       "      <td>5</td>\n",
       "      <td>l</td>\n",
       "      <td>0.3</td>\n",
       "      <td>0.05</td>\n",
       "      <td>0.1</td>\n",
       "      <td>1</td>\n",
       "      <td>1</td>\n",
       "      <td>123</td>\n",
       "      <td>410.345526</td>\n",
       "    </tr>\n",
       "    <tr>\n",
       "      <th>3</th>\n",
       "      <td>20</td>\n",
       "      <td>0</td>\n",
       "      <td>5</td>\n",
       "      <td>l</td>\n",
       "      <td>0.3</td>\n",
       "      <td>0.01</td>\n",
       "      <td>0.2</td>\n",
       "      <td>1</td>\n",
       "      <td>1</td>\n",
       "      <td>123</td>\n",
       "      <td>74.194412</td>\n",
       "    </tr>\n",
       "    <tr>\n",
       "      <th>4</th>\n",
       "      <td>20</td>\n",
       "      <td>0</td>\n",
       "      <td>5</td>\n",
       "      <td>l</td>\n",
       "      <td>0.1</td>\n",
       "      <td>0.01</td>\n",
       "      <td>0.0</td>\n",
       "      <td>1</td>\n",
       "      <td>1</td>\n",
       "      <td>123</td>\n",
       "      <td>25.392506</td>\n",
       "    </tr>\n",
       "    <tr>\n",
       "      <th>5</th>\n",
       "      <td>25</td>\n",
       "      <td>0</td>\n",
       "      <td>1</td>\n",
       "      <td>l</td>\n",
       "      <td>0.3</td>\n",
       "      <td>0.20</td>\n",
       "      <td>0.2</td>\n",
       "      <td>1</td>\n",
       "      <td>1</td>\n",
       "      <td>123</td>\n",
       "      <td>380.574457</td>\n",
       "    </tr>\n",
       "    <tr>\n",
       "      <th>6</th>\n",
       "      <td>20</td>\n",
       "      <td>0</td>\n",
       "      <td>1</td>\n",
       "      <td>l</td>\n",
       "      <td>0.2</td>\n",
       "      <td>0.01</td>\n",
       "      <td>0.0</td>\n",
       "      <td>1</td>\n",
       "      <td>1</td>\n",
       "      <td>123</td>\n",
       "      <td>112.171611</td>\n",
       "    </tr>\n",
       "    <tr>\n",
       "      <th>7</th>\n",
       "      <td>5</td>\n",
       "      <td>0</td>\n",
       "      <td>0</td>\n",
       "      <td>l</td>\n",
       "      <td>0.2</td>\n",
       "      <td>0.20</td>\n",
       "      <td>0.0</td>\n",
       "      <td>1</td>\n",
       "      <td>1</td>\n",
       "      <td>123</td>\n",
       "      <td>415.735967</td>\n",
       "    </tr>\n",
       "    <tr>\n",
       "      <th>8</th>\n",
       "      <td>15</td>\n",
       "      <td>0</td>\n",
       "      <td>1</td>\n",
       "      <td>l</td>\n",
       "      <td>0.3</td>\n",
       "      <td>0.01</td>\n",
       "      <td>0.2</td>\n",
       "      <td>1</td>\n",
       "      <td>1</td>\n",
       "      <td>123</td>\n",
       "      <td>103.041735</td>\n",
       "    </tr>\n",
       "    <tr>\n",
       "      <th>9</th>\n",
       "      <td>25</td>\n",
       "      <td>0</td>\n",
       "      <td>2</td>\n",
       "      <td>l</td>\n",
       "      <td>0.3</td>\n",
       "      <td>0.05</td>\n",
       "      <td>0.2</td>\n",
       "      <td>1</td>\n",
       "      <td>1</td>\n",
       "      <td>123</td>\n",
       "      <td>291.991895</td>\n",
       "    </tr>\n",
       "    <tr>\n",
       "      <th>10</th>\n",
       "      <td>5</td>\n",
       "      <td>0</td>\n",
       "      <td>0</td>\n",
       "      <td>l</td>\n",
       "      <td>0.3</td>\n",
       "      <td>0.05</td>\n",
       "      <td>0.1</td>\n",
       "      <td>1</td>\n",
       "      <td>1</td>\n",
       "      <td>123</td>\n",
       "      <td>365.621393</td>\n",
       "    </tr>\n",
       "    <tr>\n",
       "      <th>11</th>\n",
       "      <td>20</td>\n",
       "      <td>0</td>\n",
       "      <td>5</td>\n",
       "      <td>l</td>\n",
       "      <td>0.3</td>\n",
       "      <td>0.10</td>\n",
       "      <td>0.2</td>\n",
       "      <td>1</td>\n",
       "      <td>1</td>\n",
       "      <td>123</td>\n",
       "      <td>409.051035</td>\n",
       "    </tr>\n",
       "    <tr>\n",
       "      <th>12</th>\n",
       "      <td>15</td>\n",
       "      <td>0</td>\n",
       "      <td>0</td>\n",
       "      <td>l</td>\n",
       "      <td>0.2</td>\n",
       "      <td>0.01</td>\n",
       "      <td>0.2</td>\n",
       "      <td>1</td>\n",
       "      <td>1</td>\n",
       "      <td>123</td>\n",
       "      <td>136.615933</td>\n",
       "    </tr>\n",
       "    <tr>\n",
       "      <th>13</th>\n",
       "      <td>10</td>\n",
       "      <td>0</td>\n",
       "      <td>0</td>\n",
       "      <td>l</td>\n",
       "      <td>0.3</td>\n",
       "      <td>0.05</td>\n",
       "      <td>0.2</td>\n",
       "      <td>1</td>\n",
       "      <td>1</td>\n",
       "      <td>123</td>\n",
       "      <td>395.134499</td>\n",
       "    </tr>\n",
       "    <tr>\n",
       "      <th>14</th>\n",
       "      <td>25</td>\n",
       "      <td>0</td>\n",
       "      <td>2</td>\n",
       "      <td>l</td>\n",
       "      <td>0.2</td>\n",
       "      <td>0.10</td>\n",
       "      <td>0.2</td>\n",
       "      <td>1</td>\n",
       "      <td>1</td>\n",
       "      <td>123</td>\n",
       "      <td>390.572526</td>\n",
       "    </tr>\n",
       "    <tr>\n",
       "      <th>15</th>\n",
       "      <td>25</td>\n",
       "      <td>0</td>\n",
       "      <td>0</td>\n",
       "      <td>l</td>\n",
       "      <td>0.3</td>\n",
       "      <td>0.01</td>\n",
       "      <td>0.0</td>\n",
       "      <td>1</td>\n",
       "      <td>1</td>\n",
       "      <td>123</td>\n",
       "      <td>1.054079</td>\n",
       "    </tr>\n",
       "    <tr>\n",
       "      <th>16</th>\n",
       "      <td>15</td>\n",
       "      <td>0</td>\n",
       "      <td>5</td>\n",
       "      <td>l</td>\n",
       "      <td>0.2</td>\n",
       "      <td>0.20</td>\n",
       "      <td>0.0</td>\n",
       "      <td>1</td>\n",
       "      <td>1</td>\n",
       "      <td>123</td>\n",
       "      <td>413.598667</td>\n",
       "    </tr>\n",
       "    <tr>\n",
       "      <th>17</th>\n",
       "      <td>15</td>\n",
       "      <td>0</td>\n",
       "      <td>1</td>\n",
       "      <td>l</td>\n",
       "      <td>0.1</td>\n",
       "      <td>0.20</td>\n",
       "      <td>0.0</td>\n",
       "      <td>1</td>\n",
       "      <td>1</td>\n",
       "      <td>123</td>\n",
       "      <td>410.158903</td>\n",
       "    </tr>\n",
       "    <tr>\n",
       "      <th>18</th>\n",
       "      <td>5</td>\n",
       "      <td>0</td>\n",
       "      <td>1</td>\n",
       "      <td>l</td>\n",
       "      <td>0.2</td>\n",
       "      <td>0.01</td>\n",
       "      <td>0.2</td>\n",
       "      <td>1</td>\n",
       "      <td>1</td>\n",
       "      <td>123</td>\n",
       "      <td>399.160618</td>\n",
       "    </tr>\n",
       "    <tr>\n",
       "      <th>19</th>\n",
       "      <td>5</td>\n",
       "      <td>0</td>\n",
       "      <td>2</td>\n",
       "      <td>l</td>\n",
       "      <td>0.1</td>\n",
       "      <td>0.20</td>\n",
       "      <td>0.0</td>\n",
       "      <td>1</td>\n",
       "      <td>1</td>\n",
       "      <td>123</td>\n",
       "      <td>415.703519</td>\n",
       "    </tr>\n",
       "    <tr>\n",
       "      <th>20</th>\n",
       "      <td>25</td>\n",
       "      <td>0</td>\n",
       "      <td>0</td>\n",
       "      <td>l</td>\n",
       "      <td>0.1</td>\n",
       "      <td>0.10</td>\n",
       "      <td>0.0</td>\n",
       "      <td>1</td>\n",
       "      <td>1</td>\n",
       "      <td>123</td>\n",
       "      <td>327.507509</td>\n",
       "    </tr>\n",
       "    <tr>\n",
       "      <th>21</th>\n",
       "      <td>5</td>\n",
       "      <td>0</td>\n",
       "      <td>0</td>\n",
       "      <td>l</td>\n",
       "      <td>0.1</td>\n",
       "      <td>0.05</td>\n",
       "      <td>0.2</td>\n",
       "      <td>1</td>\n",
       "      <td>1</td>\n",
       "      <td>123</td>\n",
       "      <td>365.608239</td>\n",
       "    </tr>\n",
       "    <tr>\n",
       "      <th>22</th>\n",
       "      <td>15</td>\n",
       "      <td>0</td>\n",
       "      <td>1</td>\n",
       "      <td>l</td>\n",
       "      <td>0.3</td>\n",
       "      <td>0.10</td>\n",
       "      <td>0.1</td>\n",
       "      <td>1</td>\n",
       "      <td>1</td>\n",
       "      <td>123</td>\n",
       "      <td>357.279043</td>\n",
       "    </tr>\n",
       "    <tr>\n",
       "      <th>23</th>\n",
       "      <td>25</td>\n",
       "      <td>0</td>\n",
       "      <td>5</td>\n",
       "      <td>l</td>\n",
       "      <td>0.2</td>\n",
       "      <td>0.01</td>\n",
       "      <td>0.0</td>\n",
       "      <td>1</td>\n",
       "      <td>1</td>\n",
       "      <td>123</td>\n",
       "      <td>0.848175</td>\n",
       "    </tr>\n",
       "    <tr>\n",
       "      <th>24</th>\n",
       "      <td>15</td>\n",
       "      <td>0</td>\n",
       "      <td>5</td>\n",
       "      <td>l</td>\n",
       "      <td>0.1</td>\n",
       "      <td>0.01</td>\n",
       "      <td>0.0</td>\n",
       "      <td>1</td>\n",
       "      <td>1</td>\n",
       "      <td>123</td>\n",
       "      <td>145.060881</td>\n",
       "    </tr>\n",
       "    <tr>\n",
       "      <th>25</th>\n",
       "      <td>20</td>\n",
       "      <td>0</td>\n",
       "      <td>1</td>\n",
       "      <td>l</td>\n",
       "      <td>0.1</td>\n",
       "      <td>0.20</td>\n",
       "      <td>0.1</td>\n",
       "      <td>1</td>\n",
       "      <td>1</td>\n",
       "      <td>123</td>\n",
       "      <td>409.121243</td>\n",
       "    </tr>\n",
       "    <tr>\n",
       "      <th>26</th>\n",
       "      <td>20</td>\n",
       "      <td>0</td>\n",
       "      <td>0</td>\n",
       "      <td>l</td>\n",
       "      <td>0.3</td>\n",
       "      <td>0.10</td>\n",
       "      <td>0.1</td>\n",
       "      <td>1</td>\n",
       "      <td>1</td>\n",
       "      <td>123</td>\n",
       "      <td>365.773638</td>\n",
       "    </tr>\n",
       "    <tr>\n",
       "      <th>27</th>\n",
       "      <td>10</td>\n",
       "      <td>0</td>\n",
       "      <td>2</td>\n",
       "      <td>l</td>\n",
       "      <td>0.1</td>\n",
       "      <td>0.05</td>\n",
       "      <td>0.1</td>\n",
       "      <td>1</td>\n",
       "      <td>1</td>\n",
       "      <td>123</td>\n",
       "      <td>396.944743</td>\n",
       "    </tr>\n",
       "    <tr>\n",
       "      <th>28</th>\n",
       "      <td>5</td>\n",
       "      <td>0</td>\n",
       "      <td>1</td>\n",
       "      <td>l</td>\n",
       "      <td>0.1</td>\n",
       "      <td>0.01</td>\n",
       "      <td>0.1</td>\n",
       "      <td>1</td>\n",
       "      <td>1</td>\n",
       "      <td>123</td>\n",
       "      <td>399.140367</td>\n",
       "    </tr>\n",
       "    <tr>\n",
       "      <th>29</th>\n",
       "      <td>15</td>\n",
       "      <td>0</td>\n",
       "      <td>1</td>\n",
       "      <td>l</td>\n",
       "      <td>0.1</td>\n",
       "      <td>0.01</td>\n",
       "      <td>0.1</td>\n",
       "      <td>1</td>\n",
       "      <td>1</td>\n",
       "      <td>123</td>\n",
       "      <td>122.279371</td>\n",
       "    </tr>\n",
       "  </tbody>\n",
       "</table>\n",
       "</div>"
      ],
      "text/plain": [
       "     k  min_df  rm_top vars  alpha   eta   mu  nu_sq  glm_param  seed  \\\n",
       "0   20       0       0    l    0.3  0.20  0.2      1          1   123   \n",
       "1   20       0       5    l    0.1  0.10  0.1      1          1   123   \n",
       "2   10       0       5    l    0.3  0.05  0.1      1          1   123   \n",
       "3   20       0       5    l    0.3  0.01  0.2      1          1   123   \n",
       "4   20       0       5    l    0.1  0.01  0.0      1          1   123   \n",
       "5   25       0       1    l    0.3  0.20  0.2      1          1   123   \n",
       "6   20       0       1    l    0.2  0.01  0.0      1          1   123   \n",
       "7    5       0       0    l    0.2  0.20  0.0      1          1   123   \n",
       "8   15       0       1    l    0.3  0.01  0.2      1          1   123   \n",
       "9   25       0       2    l    0.3  0.05  0.2      1          1   123   \n",
       "10   5       0       0    l    0.3  0.05  0.1      1          1   123   \n",
       "11  20       0       5    l    0.3  0.10  0.2      1          1   123   \n",
       "12  15       0       0    l    0.2  0.01  0.2      1          1   123   \n",
       "13  10       0       0    l    0.3  0.05  0.2      1          1   123   \n",
       "14  25       0       2    l    0.2  0.10  0.2      1          1   123   \n",
       "15  25       0       0    l    0.3  0.01  0.0      1          1   123   \n",
       "16  15       0       5    l    0.2  0.20  0.0      1          1   123   \n",
       "17  15       0       1    l    0.1  0.20  0.0      1          1   123   \n",
       "18   5       0       1    l    0.2  0.01  0.2      1          1   123   \n",
       "19   5       0       2    l    0.1  0.20  0.0      1          1   123   \n",
       "20  25       0       0    l    0.1  0.10  0.0      1          1   123   \n",
       "21   5       0       0    l    0.1  0.05  0.2      1          1   123   \n",
       "22  15       0       1    l    0.3  0.10  0.1      1          1   123   \n",
       "23  25       0       5    l    0.2  0.01  0.0      1          1   123   \n",
       "24  15       0       5    l    0.1  0.01  0.0      1          1   123   \n",
       "25  20       0       1    l    0.1  0.20  0.1      1          1   123   \n",
       "26  20       0       0    l    0.3  0.10  0.1      1          1   123   \n",
       "27  10       0       2    l    0.1  0.05  0.1      1          1   123   \n",
       "28   5       0       1    l    0.1  0.01  0.1      1          1   123   \n",
       "29  15       0       1    l    0.1  0.01  0.1      1          1   123   \n",
       "\n",
       "          mape  \n",
       "0   401.554314  \n",
       "1   411.168225  \n",
       "2   410.345526  \n",
       "3    74.194412  \n",
       "4    25.392506  \n",
       "5   380.574457  \n",
       "6   112.171611  \n",
       "7   415.735967  \n",
       "8   103.041735  \n",
       "9   291.991895  \n",
       "10  365.621393  \n",
       "11  409.051035  \n",
       "12  136.615933  \n",
       "13  395.134499  \n",
       "14  390.572526  \n",
       "15    1.054079  \n",
       "16  413.598667  \n",
       "17  410.158903  \n",
       "18  399.160618  \n",
       "19  415.703519  \n",
       "20  327.507509  \n",
       "21  365.608239  \n",
       "22  357.279043  \n",
       "23    0.848175  \n",
       "24  145.060881  \n",
       "25  409.121243  \n",
       "26  365.773638  \n",
       "27  396.944743  \n",
       "28  399.140367  \n",
       "29  122.279371  "
      ]
     },
     "execution_count": 28,
     "metadata": {},
     "output_type": "execute_result"
    }
   ],
   "source": [
    "result_df"
   ]
  },
  {
   "cell_type": "code",
   "execution_count": 29,
   "metadata": {},
   "outputs": [],
   "source": [
    "result_df.to_csv(\"slda_results_2.csv\")"
   ]
  },
  {
   "cell_type": "code",
   "execution_count": 60,
   "metadata": {},
   "outputs": [],
   "source": [
    "best_model_params = {\n",
    "    k: v\n",
    "    for k, v in result_df.sort_values(by=\"mape\", ascending=True)\n",
    "    .iloc[0]\n",
    "    .to_dict()\n",
    "    .items()\n",
    "    if k != \"mape\"\n",
    "}\n"
   ]
  },
  {
   "cell_type": "code",
   "execution_count": 8,
   "metadata": {},
   "outputs": [],
   "source": [
    "best_model_params = {'k': 25,\n",
    " 'min_df': 0,\n",
    " 'rm_top': 0,\n",
    " 'vars': 'l',\n",
    " 'alpha': 0.1,\n",
    " 'eta': 0.01,\n",
    " 'mu': 0.2,\n",
    " 'nu_sq': 1,\n",
    " 'glm_param': 1,\n",
    " 'seed': 123}"
   ]
  },
  {
   "cell_type": "code",
   "execution_count": 9,
   "metadata": {},
   "outputs": [
    {
     "name": "stdout",
     "output_type": "stream",
     "text": [
      "Fold 0\n"
     ]
    },
    {
     "name": "stderr",
     "output_type": "stream",
     "text": [
      "C:\\Users\\kuba1\\AppData\\Local\\Temp\\ipykernel_12404\\1773087253.py:21: RuntimeWarning: The training result may differ even with fixed seed if `workers` != 1.\n",
      "  slda.train(20, workers=0)\n",
      "C:\\Users\\kuba1\\AppData\\Local\\Temp\\ipykernel_12404\\1773087253.py:31: RuntimeWarning: `words` should be an iterable of str.\n",
      "  slda_test_doc = model.make_doc(list(X_test)[i])\n"
     ]
    },
    {
     "name": "stdout",
     "output_type": "stream",
     "text": [
      "Fold 1\n"
     ]
    },
    {
     "name": "stderr",
     "output_type": "stream",
     "text": [
      "C:\\Users\\kuba1\\AppData\\Local\\Temp\\ipykernel_12404\\1773087253.py:21: RuntimeWarning: The training result may differ even with fixed seed if `workers` != 1.\n",
      "  slda.train(20, workers=0)\n",
      "C:\\Users\\kuba1\\AppData\\Local\\Temp\\ipykernel_12404\\1773087253.py:31: RuntimeWarning: `words` should be an iterable of str.\n",
      "  slda_test_doc = model.make_doc(list(X_test)[i])\n"
     ]
    },
    {
     "name": "stdout",
     "output_type": "stream",
     "text": [
      "Fold 2\n"
     ]
    },
    {
     "name": "stderr",
     "output_type": "stream",
     "text": [
      "C:\\Users\\kuba1\\AppData\\Local\\Temp\\ipykernel_12404\\1773087253.py:21: RuntimeWarning: The training result may differ even with fixed seed if `workers` != 1.\n",
      "  slda.train(20, workers=0)\n",
      "C:\\Users\\kuba1\\AppData\\Local\\Temp\\ipykernel_12404\\1773087253.py:31: RuntimeWarning: `words` should be an iterable of str.\n",
      "  slda_test_doc = model.make_doc(list(X_test)[i])\n"
     ]
    }
   ],
   "source": [
    "best_model_cv_results = model_cross_validate(X, y, best_model_params)"
   ]
  },
  {
   "cell_type": "code",
   "execution_count": 10,
   "metadata": {},
   "outputs": [
    {
     "data": {
      "text/plain": [
       "{'k': 25,\n",
       " 'min_df': 0,\n",
       " 'rm_top': 0,\n",
       " 'vars': 'l',\n",
       " 'alpha': 0.1,\n",
       " 'eta': 0.01,\n",
       " 'mu': 0.2,\n",
       " 'nu_sq': 1,\n",
       " 'glm_param': 1,\n",
       " 'seed': 123,\n",
       " 'mape': 1.0728589518032574}"
      ]
     },
     "execution_count": 10,
     "metadata": {},
     "output_type": "execute_result"
    }
   ],
   "source": [
    "best_model_cv_results"
   ]
  },
  {
   "cell_type": "code",
   "execution_count": 11,
   "metadata": {},
   "outputs": [
    {
     "name": "stderr",
     "output_type": "stream",
     "text": [
      "C:\\Users\\kuba1\\AppData\\Local\\Temp\\ipykernel_12404\\1773087253.py:21: RuntimeWarning: The training result may differ even with fixed seed if `workers` != 1.\n",
      "  slda.train(20, workers=0)\n"
     ]
    }
   ],
   "source": [
    "best_model = one_model_train(X, y, best_model_params)"
   ]
  },
  {
   "cell_type": "code",
   "execution_count": 15,
   "metadata": {},
   "outputs": [],
   "source": [
    "best_model.save(\"best_model.bin\")"
   ]
  },
  {
   "cell_type": "code",
   "execution_count": 12,
   "metadata": {},
   "outputs": [],
   "source": [
    "# mdl = tp.SLDAModel.load('best_model.bin')\n",
    "mdl = best_model"
   ]
  },
  {
   "cell_type": "code",
   "execution_count": 16,
   "metadata": {},
   "outputs": [
    {
     "data": {
      "text/plain": [
       "390420.1534422796"
      ]
     },
     "execution_count": 16,
     "metadata": {},
     "output_type": "execute_result"
    }
   ],
   "source": [
    "best_model.perplexity"
   ]
  },
  {
   "cell_type": "code",
   "execution_count": 18,
   "metadata": {},
   "outputs": [],
   "source": [
    "from pprint import pprint"
   ]
  },
  {
   "cell_type": "code",
   "execution_count": 13,
   "metadata": {},
   "outputs": [],
   "source": [
    "topic_list = []\n",
    "for i in range(mdl.k):\n",
    "    topic_list.append(mdl.get_topic_words(i))"
   ]
  },
  {
   "cell_type": "code",
   "execution_count": 14,
   "metadata": {},
   "outputs": [
    {
     "data": {
      "text/plain": [
       "[[('network', 0.05360081046819687),\n",
       "  ('layer', 0.05084865912795067),\n",
       "  ('neural', 0.03615159913897514),\n",
       "  ('and', 0.029881231486797333),\n",
       "  ('deep', 0.02864701859652996),\n",
       "  ('with', 0.027653975412249565),\n",
       "  ('input', 0.016721026971936226),\n",
       "  ('train', 0.015108511783182621),\n",
       "  ('arxiv', 0.014210043475031853),\n",
       "  ('learn', 0.012039531022310257)],\n",
       " [('and', 0.04313143342733383),\n",
       "  ('learn', 0.03918875753879547),\n",
       "  ('polici', 0.02442975528538227),\n",
       "  ('the', 0.023782560601830482),\n",
       "  ('agent', 0.019304275512695312),\n",
       "  ('reward', 0.01599763333797455),\n",
       "  ('state', 0.015926962718367577),\n",
       "  ('reinforc', 0.015521536581218243),\n",
       "  ('action', 0.01398910116404295),\n",
       "  ('with', 0.013803125359117985)],\n",
       " [('the', 0.05114930495619774),\n",
       "  ('and', 0.04657886549830437),\n",
       "  ('for', 0.01724468544125557),\n",
       "  ('network', 0.016319412738084793),\n",
       "  ('model', 0.013253813609480858),\n",
       "  ('data', 0.011184660717844963),\n",
       "  ('system', 0.010020444169640541),\n",
       "  ('time', 0.009517136961221695),\n",
       "  ('physic', 0.009201934561133385),\n",
       "  ('use', 0.008973157964646816)],\n",
       " [('learn', 0.021092873066663742),\n",
       "  ('and', 0.016300741583108902),\n",
       "  ('algorithm', 0.015246101655066013),\n",
       "  ('vector', 0.0147095313295722),\n",
       "  ('the', 0.011480855755507946),\n",
       "  ('activ', 0.00822442676872015),\n",
       "  ('label', 0.007817372679710388),\n",
       "  ('diﬀer', 0.007447324227541685),\n",
       "  ('parenrightbig', 0.0071327826008200645),\n",
       "  ('parenleftbig', 0.006966260727494955)],\n",
       " [('the', 0.03000524453818798),\n",
       "  ('distribut', 0.023040946573019028),\n",
       "  ('and', 0.02165944129228592),\n",
       "  ('model', 0.0155183682218194),\n",
       "  ('uncertainti', 0.011250843293964863),\n",
       "  ('bayesian', 0.011156219057738781),\n",
       "  ('infer', 0.009822026826441288),\n",
       "  ('prior', 0.00904611311852932),\n",
       "  ('likelihood', 0.008601381443440914),\n",
       "  ('posterior', 0.008326972834765911)],\n",
       " [('the', 0.07603529840707779),\n",
       "  ('that', 0.031807832419872284),\n",
       "  ('and', 0.024328866973519325),\n",
       "  ('for', 0.022283606231212616),\n",
       "  ('thi', 0.014600811526179314),\n",
       "  ('with', 0.011517240665853024),\n",
       "  ('learn', 0.010487641207873821),\n",
       "  ('bound', 0.010398793034255505),\n",
       "  ('function', 0.00993712805211544),\n",
       "  ('theorem', 0.008250745944678783)],\n",
       " [('and', 0.04444041848182678),\n",
       "  ('for', 0.017225341871380806),\n",
       "  ('model', 0.01155130285769701),\n",
       "  ('with', 0.010815073736011982),\n",
       "  ('predict', 0.010802380740642548),\n",
       "  ('atom', 0.010599282570183277),\n",
       "  ('structur', 0.010434266179800034),\n",
       "  ('materi', 0.009418778121471405),\n",
       "  ('molecular', 0.007920932956039906),\n",
       "  ('sequenc', 0.007870159111917019)],\n",
       " [('and', 0.03455791994929314),\n",
       "  ('test', 0.024576207622885704),\n",
       "  ('for', 0.018245430663228035),\n",
       "  ('program', 0.01751711033284664),\n",
       "  ('machin', 0.014706544578075409),\n",
       "  ('softwar', 0.01334328018128872),\n",
       "  ('system', 0.011858628131449223),\n",
       "  ('code', 0.010700787417590618),\n",
       "  ('input', 0.009552283212542534),\n",
       "  ('learn', 0.00658298097550869)],\n",
       " [('and', 0.047429922968149185),\n",
       "  ('imag', 0.04409342259168625),\n",
       "  ('the', 0.019924134016036987),\n",
       "  ('for', 0.01742853969335556),\n",
       "  ('use', 0.013400324620306492),\n",
       "  ('visual', 0.012898493558168411),\n",
       "  ('featur', 0.011691384948790073),\n",
       "  ('ieee', 0.010151983238756657),\n",
       "  ('base', 0.00958911795169115),\n",
       "  ('method', 0.008727867156267166)],\n",
       " [('the', 0.04384377598762512),\n",
       "  ('classi', 0.030116351321339607),\n",
       "  ('learn', 0.028448177501559258),\n",
       "  ('and', 0.023685602471232414),\n",
       "  ('cation', 0.02215750329196453),\n",
       "  ('erent', 0.020177341997623444),\n",
       "  ('algorithm', 0.014580677263438702),\n",
       "  ('rst', 0.014154083095490932),\n",
       "  ('onlin', 0.013994906097650528),\n",
       "  ('speci', 0.011505377478897572)],\n",
       " [('the', 0.0684690847992897),\n",
       "  ('and', 0.03642189875245094),\n",
       "  ('kernel', 0.028059467673301697),\n",
       "  ('for', 0.01393742673099041),\n",
       "  ('function', 0.013572504743933678),\n",
       "  ('space', 0.012301872484385967),\n",
       "  ('cluster', 0.011264262720942497),\n",
       "  ('vector', 0.010771838016808033),\n",
       "  ('matrix', 0.009070334024727345),\n",
       "  ('data', 0.008683429099619389)],\n",
       " [('the', 0.06710951030254364),\n",
       "  ('and', 0.043068692088127136),\n",
       "  ('learn', 0.028192460536956787),\n",
       "  ('that', 0.01496557891368866),\n",
       "  ('machin', 0.01492434460669756),\n",
       "  ('model', 0.014686104841530323),\n",
       "  ('for', 0.013494143262505531),\n",
       "  ('data', 0.013021482154726982),\n",
       "  ('can', 0.011905879713594913),\n",
       "  ('are', 0.011866936460137367)],\n",
       " [('the', 0.16010326147079468),\n",
       "  ('that', 0.018357638269662857),\n",
       "  ('for', 0.017986800521612167),\n",
       "  ('and', 0.0172897782176733),\n",
       "  ('thi', 0.01535126008093357),\n",
       "  ('use', 0.014632532373070717),\n",
       "  ('are', 0.013009659014642239),\n",
       "  ('with', 0.011710491962730885),\n",
       "  ('train', 0.011086023412644863),\n",
       "  ('model', 0.009316179901361465)],\n",
       " [('and', 0.043717045336961746),\n",
       "  ('the', 0.03500126674771309),\n",
       "  ('learn', 0.026602761819958687),\n",
       "  ('graph', 0.021033622324466705),\n",
       "  ('for', 0.014493987895548344),\n",
       "  ('represent', 0.012971059419214725),\n",
       "  ('domain', 0.012478346936404705),\n",
       "  ('model', 0.010974082164466381),\n",
       "  ('featur', 0.010429112240672112),\n",
       "  ('knowledg', 0.009768430143594742)],\n",
       " [('and', 0.04052351415157318),\n",
       "  ('the', 0.03755459561944008),\n",
       "  ('data', 0.021759942173957825),\n",
       "  ('model', 0.020768778398633003),\n",
       "  ('learn', 0.02021610364317894),\n",
       "  ('privaci', 0.014451832510530949),\n",
       "  ('for', 0.014387886971235275),\n",
       "  ('feder', 0.01382150873541832),\n",
       "  ('commun', 0.012355319224298),\n",
       "  ('train', 0.011574264615774155)],\n",
       " [('the', 0.0631500780582428),\n",
       "  ('and', 0.030437476933002472),\n",
       "  ('optim', 0.029368296265602112),\n",
       "  ('gradient', 0.021135248243808746),\n",
       "  ('for', 0.019702473655343056),\n",
       "  ('problem', 0.018615294247865677),\n",
       "  ('algorithm', 0.017445314675569534),\n",
       "  ('method', 0.014997360296547413),\n",
       "  ('function', 0.012383808381855488),\n",
       "  ('with', 0.009755857288837433)],\n",
       " [('learn', 0.05927411466836929),\n",
       "  ('task', 0.04831960052251816),\n",
       "  ('and', 0.035365864634513855),\n",
       "  ('meta', 0.025174610316753387),\n",
       "  ('for', 0.016739722341299057),\n",
       "  ('train', 0.015430036932229996),\n",
       "  ('learner', 0.010048187337815762),\n",
       "  ('network', 0.009792321361601353),\n",
       "  ('continu', 0.008855593390762806),\n",
       "  ('class', 0.008647431619465351)],\n",
       " [('quantum', 0.06264074146747589),\n",
       "  ('the', 0.05792510509490967),\n",
       "  ('and', 0.027599144726991653),\n",
       "  ('state', 0.016804421320557594),\n",
       "  ('classic', 0.014772269874811172),\n",
       "  ('comput', 0.013565137051045895),\n",
       "  ('machin', 0.013235129415988922),\n",
       "  ('algorithm', 0.011645881459116936),\n",
       "  ('for', 0.01083823200315237),\n",
       "  ('with', 0.008597653359174728)],\n",
       " [('and', 0.027312304824590683),\n",
       "  ('the', 0.01858256757259369),\n",
       "  ('causal', 0.01139417290687561),\n",
       "  ('predict', 0.011271410621702671),\n",
       "  ('fair', 0.010480278171598911),\n",
       "  ('for', 0.01020747423171997),\n",
       "  ('explan', 0.009884655475616455),\n",
       "  ('human', 0.009630038402974606),\n",
       "  ('rule', 0.00900258868932724),\n",
       "  ('interpret', 0.00877070426940918)],\n",
       " [('latexit', 0.017071209847927094),\n",
       "  ('sha', 0.008559432812035084),\n",
       "  ('_base', 0.008512013591825962),\n",
       "  ('function', 0.00803782045841217),\n",
       "  ('holon', 0.005548303015530109),\n",
       "  ('unifb', 0.005453464109450579),\n",
       "  ('ligand', 0.005429754499346018),\n",
       "  ('mean', 0.005358625669032335),\n",
       "  ('aaab', 0.005311205983161926),\n",
       "  ('agonist', 0.005002980120480061)],\n",
       " [('and', 0.038221731781959534),\n",
       "  ('for', 0.020134462043642998),\n",
       "  ('machin', 0.012378462590277195),\n",
       "  ('data', 0.011598839424550533),\n",
       "  ('search', 0.011392616666853428),\n",
       "  ('learn', 0.010753828100860119),\n",
       "  ('optim', 0.010542575269937515),\n",
       "  ('pipelin', 0.009853487834334373),\n",
       "  ('featur', 0.009717682376503944),\n",
       "  ('use', 0.008098077028989792)],\n",
       " [('attack', 0.041071586310863495),\n",
       "  ('adversari', 0.04034348949790001),\n",
       "  ('and', 0.040308818221092224),\n",
       "  ('the', 0.026703836396336555),\n",
       "  ('detect', 0.016357947140932083),\n",
       "  ('secur', 0.013078050687909126),\n",
       "  ('network', 0.009680272080004215),\n",
       "  ('system', 0.009569323621690273),\n",
       "  ('for', 0.008688675239682198),\n",
       "  ('classiﬁ', 0.008626267313957214)],\n",
       " [('and', 0.0433480404317379),\n",
       "  ('the', 0.03780147805809975),\n",
       "  ('model', 0.028673788532614708),\n",
       "  ('data', 0.02453862503170967),\n",
       "  ('for', 0.018571116030216217),\n",
       "  ('predict', 0.01800779439508915),\n",
       "  ('machin', 0.014785709790885448),\n",
       "  ('use', 0.012346708215773106),\n",
       "  ('featur', 0.009684852324426174),\n",
       "  ('regress', 0.008366305381059647)],\n",
       " [('the', 0.051595911383628845),\n",
       "  ('summationdisplay', 0.027250846847891808),\n",
       "  ('vextendsingl', 0.026520494371652603),\n",
       "  ('vextenddoubl', 0.023182865232229233),\n",
       "  ('that', 0.02105463482439518),\n",
       "  ('for', 0.01907561719417572),\n",
       "  ('and', 0.01660969667136669),\n",
       "  ('bardbl', 0.013680435717105865),\n",
       "  ('dbl', 0.012329677119851112),\n",
       "  ('parenrightbigg', 0.011175249703228474)],\n",
       " [('the', 0.07453463971614838),\n",
       "  ('and', 0.03769940882921219),\n",
       "  ('for', 0.02039189636707306),\n",
       "  ('that', 0.014494474977254868),\n",
       "  ('learn', 0.01355467177927494),\n",
       "  ('are', 0.010249593295156956),\n",
       "  ('model', 0.009618852287530899),\n",
       "  ('one', 0.007821242325007915),\n",
       "  ('method', 0.0077455537393689156),\n",
       "  ('comput', 0.00704543199390173)]]"
      ]
     },
     "execution_count": 14,
     "metadata": {},
     "output_type": "execute_result"
    }
   ],
   "source": [
    "topic_list"
   ]
  },
  {
   "cell_type": "code",
   "execution_count": null,
   "metadata": {},
   "outputs": [],
   "source": []
  }
 ],
 "metadata": {
  "kernelspec": {
   "display_name": "Python 3",
   "language": "python",
   "name": "python3"
  },
  "language_info": {
   "codemirror_mode": {
    "name": "ipython",
    "version": 3
   },
   "file_extension": ".py",
   "mimetype": "text/x-python",
   "name": "python",
   "nbconvert_exporter": "python",
   "pygments_lexer": "ipython3",
   "version": "3.9.13"
  },
  "orig_nbformat": 4,
  "vscode": {
   "interpreter": {
    "hash": "c5e48de25f26e852a66d75c4847f552c71660e44b4d334485168ec3125e5a081"
   }
  }
 },
 "nbformat": 4,
 "nbformat_minor": 2
}
