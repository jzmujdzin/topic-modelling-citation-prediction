{
 "cells": [
  {
   "cell_type": "code",
   "execution_count": 10,
   "metadata": {},
   "outputs": [],
   "source": [
    "from sklearn.decomposition import LatentDirichletAllocation\n",
    "from nltk.stem.porter import PorterStemmer\n",
    "import re\n",
    "from nltk.tokenize import RegexpTokenizer\n",
    "import tomotopy as tp\n",
    "import pandas as pd\n",
    "from pathlib import Path\n",
    "from sklearn.feature_extraction.text import CountVectorizer\n",
    "import itertools\n",
    "import random"
   ]
  },
  {
   "cell_type": "code",
   "execution_count": 4,
   "metadata": {},
   "outputs": [],
   "source": [
    "stemmer = PorterStemmer()\n",
    "tokenizer = RegexpTokenizer(r\"\\w+\")\n",
    "\n",
    "\n",
    "def preprocess_text(text: str):\n",
    "    return \" \".join(\n",
    "        [\n",
    "            stemmer.stem(word)\n",
    "            for word in tokenizer.tokenize(\n",
    "                \" \".join([re.sub(r\"\\s+\", \" \", word) for word in text.split()])\n",
    "            )\n",
    "        ]\n",
    "    )\n"
   ]
  },
  {
   "cell_type": "code",
   "execution_count": 5,
   "metadata": {},
   "outputs": [],
   "source": [
    "data_path = Path.cwd() /  \"findal_df.json\"\n"
   ]
  },
  {
   "cell_type": "code",
   "execution_count": 6,
   "metadata": {},
   "outputs": [],
   "source": [
    "df = pd.read_json(data_path).dropna(subset=\"text\")"
   ]
  },
  {
   "cell_type": "code",
   "execution_count": 7,
   "metadata": {},
   "outputs": [],
   "source": [
    "df['text_pp'] = df['text'].apply(lambda x: preprocess_text(x))"
   ]
  },
  {
   "cell_type": "code",
   "execution_count": 9,
   "metadata": {},
   "outputs": [],
   "source": [
    "import numpy as np\n",
    "from typing import Any\n",
    "from sklearn.model_selection import KFold\n",
    "from sklearn.metrics import mean_absolute_percentage_error\n",
    "\n",
    "\n",
    "def _get_params_combinations(\n",
    "    self, hyper_params: dict[str, list]\n",
    ") -> list[dict]:\n",
    "    keys, values = zip(*hyper_params.items())\n",
    "    return [dict(zip(keys, v)) for v in itertools.product(*values)]\n",
    "\n",
    "\n",
    "def one_model_train(\n",
    "    X_train: pd.DataFrame, y_train: pd.Series, params: dict[str, Any]\n",
    "):\n",
    "    slda = tp.SLDAModel(**params)\n",
    "    for i in range(0, len(X_train)):\n",
    "        slda.add_doc(\n",
    "            X_train.iloc[i].strip().split(), y=[float(np.array(y_train)[i])]\n",
    "        )\n",
    "    for i in range(0, 1020, 20):\n",
    "        slda.train(20)\n",
    "\n",
    "    return slda\n",
    "\n",
    "\n",
    "def one_model_eval(\n",
    "    model: tp.SLDAModel, X_test: pd.DataFrame, y_test: pd.Series\n",
    "):\n",
    "    test_preds = []\n",
    "    for i in range(0, len(X_test)):\n",
    "        slda_test_doc = model.make_doc(list(X_test)[i])\n",
    "        model.infer(slda_test_doc)\n",
    "        test_preds.append(float(model.estimate(slda_test_doc)))\n",
    "\n",
    "    return mean_absolute_percentage_error(y_true=y_test, y_pred=test_preds)\n",
    "\n",
    "\n",
    "def model_cross_validate(\n",
    "    X: pd.DataFrame, y: pd.Series, params: dict[str, Any]\n",
    "):\n",
    "    results = []\n",
    "    kf = KFold(n_splits=3)\n",
    "\n",
    "    for i, (train_index, test_index) in enumerate(kf.split(X)):\n",
    "        X_train, y_train = X.iloc[train_index], y.iloc[train_index]\n",
    "        X_test, y_test = X.iloc[test_index], y.iloc[test_index]\n",
    "\n",
    "        model = one_model_train(X_train=X_test, y_train=y_train, params=params)\n",
    "        result = one_model_eval(model=model, X_test=X_test, y_test=y_test)\n",
    "        result.append(results)\n",
    "\n",
    "    return {**params, \"mape\": np.mean(results)}\n",
    "\n",
    "\n",
    "def hypreropt(\n",
    "    X: pd.DataFrame,\n",
    "    y: pd.Series,\n",
    "    hyper_params: dict[str, list],\n",
    "    n_iter: int = 20,\n",
    ") -> pd.DataFrame:\n",
    "    params_combinations = _get_params_combinations(hyper_params)\n",
    "    random.shuffle(params_combinations)\n",
    "    \n",
    "    results = []\n",
    "    for params in params_combinations[:n_iter]:\n",
    "        result = model_cross_validate(X=X, y=y, params=params)\n",
    "\n",
    "    return results\n"
   ]
  },
  {
   "cell_type": "code",
   "execution_count": 11,
   "metadata": {},
   "outputs": [
    {
     "data": {
      "text/plain": [
       "[1, 3]"
      ]
     },
     "execution_count": 11,
     "metadata": {},
     "output_type": "execute_result"
    }
   ],
   "source": [
    "[1, 3, 5, 1][:2]"
   ]
  },
  {
   "cell_type": "code",
   "execution_count": null,
   "metadata": {},
   "outputs": [],
   "source": [
    "hyper_params = dict(\n",
    "    k=[20],  # number of topics\n",
    "    min_df=[0],  # DF of tokens to be removed \"from the bottom\"\n",
    "    rm_top=[0],  # how many tokens should be removed \"from the top\"\n",
    "    vars=[\"l\"],  # indicate binary response variable\n",
    "    alpha=[0.1],\n",
    "    eta=[0.01],\n",
    "    mu=[0],\n",
    "    nu_sq=[1],\n",
    "    glm_param=[1],\n",
    "    seed=[123],\n",
    ")\n"
   ]
  }
 ],
 "metadata": {
  "kernelspec": {
   "display_name": "Python 3.8.9 64-bit",
   "language": "python",
   "name": "python3"
  },
  "language_info": {
   "codemirror_mode": {
    "name": "ipython",
    "version": 3
   },
   "file_extension": ".py",
   "mimetype": "text/x-python",
   "name": "python",
   "nbconvert_exporter": "python",
   "pygments_lexer": "ipython3",
   "version": "3.10.6"
  },
  "orig_nbformat": 4,
  "vscode": {
   "interpreter": {
    "hash": "31f2aee4e71d21fbe5cf8b01ff0e069b9275f58929596ceb00d14d90e3e16cd6"
   }
  }
 },
 "nbformat": 4,
 "nbformat_minor": 2
}
