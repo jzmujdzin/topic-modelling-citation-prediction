{
 "cells": [
  {
   "cell_type": "code",
   "execution_count": 10,
   "metadata": {},
   "outputs": [],
   "source": [
    "from sklearn.decomposition import LatentDirichletAllocation\n",
    "from nltk.stem.porter import PorterStemmer\n",
    "import re\n",
    "from nltk.tokenize import RegexpTokenizer\n",
    "import tomotopy as tp\n",
    "import pandas as pd\n",
    "from pathlib import Path\n",
    "from sklearn.feature_extraction.text import CountVectorizer\n",
    "import itertools\n",
    "import random"
   ]
  },
  {
   "cell_type": "code",
   "execution_count": 4,
   "metadata": {},
   "outputs": [],
   "source": [
    "stemmer = PorterStemmer()\n",
    "tokenizer = RegexpTokenizer(r\"\\w+\")\n",
    "\n",
    "\n",
    "def preprocess_text(text: str):\n",
    "    return \" \".join(\n",
    "        [\n",
    "            stemmer.stem(word)\n",
    "            for word in tokenizer.tokenize(\n",
    "                \" \".join([re.sub(r\"\\s+\", \" \", word) for word in text.split()])\n",
    "            )\n",
    "        ]\n",
    "    )\n"
   ]
  },
  {
   "cell_type": "code",
   "execution_count": 5,
   "metadata": {},
   "outputs": [],
   "source": [
    "data_path = Path.cwd() /  \"findal_df.json\"\n"
   ]
  },
  {
   "cell_type": "code",
   "execution_count": 6,
   "metadata": {},
   "outputs": [],
   "source": [
    "df = pd.read_json(data_path).dropna(subset=\"text\")"
   ]
  },
  {
   "cell_type": "code",
   "execution_count": 7,
   "metadata": {},
   "outputs": [],
   "source": [
    "df['text_pp'] = df['text'].apply(lambda x: preprocess_text(x))"
   ]
  },
  {
   "cell_type": "code",
   "execution_count": 38,
   "metadata": {},
   "outputs": [],
   "source": [
    "import numpy as np\n",
    "from typing import Any\n",
    "from sklearn.model_selection import KFold\n",
    "from sklearn.metrics import mean_absolute_percentage_error\n",
    "\n",
    "\n",
    "def _get_params_combinations(hyper_params: dict[str, list]) -> list[dict]:\n",
    "    keys, values = zip(*hyper_params.items())\n",
    "    return [dict(zip(keys, v)) for v in itertools.product(*values)]\n",
    "\n",
    "\n",
    "def one_model_train(\n",
    "    X_train: pd.DataFrame, y_train: pd.Series, params: dict[str, Any]\n",
    "):\n",
    "    slda = tp.SLDAModel(**params)\n",
    "    for i in range(0, len(X_train)):\n",
    "        slda.add_doc(\n",
    "            X_train.iloc[i].strip().split(), y=[float(np.array(y_train)[i])]\n",
    "        )\n",
    "    for i in range(0, 1020, 20):\n",
    "        slda.train(20, workers=0)\n",
    "\n",
    "    return slda\n",
    "\n",
    "\n",
    "def one_model_eval(\n",
    "    model: tp.SLDAModel, X_test: pd.DataFrame, y_test: pd.Series\n",
    "):\n",
    "    test_preds = []\n",
    "    for i in range(0, len(X_test)):\n",
    "        slda_test_doc = model.make_doc(list(X_test)[i])\n",
    "        model.infer(slda_test_doc, workers=0)\n",
    "        test_preds.append(float(model.estimate(slda_test_doc)))\n",
    "\n",
    "    return mean_absolute_percentage_error(y_true=y_test, y_pred=test_preds)\n",
    "\n",
    "\n",
    "def model_cross_validate(\n",
    "    X: pd.DataFrame, y: pd.Series, params: dict[str, Any]\n",
    "):\n",
    "    results = []\n",
    "    kf = KFold(n_splits=3)\n",
    "\n",
    "    for i, (train_index, test_index) in enumerate(kf.split(X)):\n",
    "        print(f\"Fold {i}\")\n",
    "        X_train, y_train = X.iloc[train_index], y.iloc[train_index]\n",
    "        X_test, y_test = X.iloc[test_index], y.iloc[test_index]\n",
    "\n",
    "        model = one_model_train(X_train=X_test, y_train=y_train, params=params)\n",
    "        result = one_model_eval(model=model, X_test=X_test, y_test=y_test)\n",
    "        results.append(result)\n",
    "\n",
    "    return {**params, \"mape\": np.mean(results)}\n",
    "\n",
    "\n",
    "def hypreropt(\n",
    "    X: pd.DataFrame,\n",
    "    y: pd.Series,\n",
    "    hyper_params: dict[str, list],\n",
    "    n_iter: int = 20,\n",
    ") -> pd.DataFrame:\n",
    "    params_combinations = _get_params_combinations(hyper_params)\n",
    "    random.shuffle(params_combinations)\n",
    "\n",
    "    results = []\n",
    "    for i, params in enumerate(params_combinations[:n_iter]):\n",
    "        print(f\"Params {i}\")\n",
    "        result = model_cross_validate(X=X, y=y, params=params)\n",
    "        results.append(result)\n",
    "        \n",
    "    return results\n"
   ]
  },
  {
   "cell_type": "code",
   "execution_count": 39,
   "metadata": {},
   "outputs": [],
   "source": [
    "hyper_params = dict(\n",
    "    k=[5, 10, 15, 20, 25],  # number of topics\n",
    "    min_df=[0],  # DF of tokens to be removed \"from the bottom\"\n",
    "    rm_top=[0],  # how many tokens should be removed \"from the top\"\n",
    "    vars=[\"l\"],  # indicate binary response variable\n",
    "    alpha=[0.1],\n",
    "    eta=[0.01, 0.05, 0.1, 0.2],\n",
    "    mu=[0, 0.1, 0.2],\n",
    "    nu_sq=[1],\n",
    "    glm_param=[1],\n",
    "    seed=[123],\n",
    ")\n"
   ]
  },
  {
   "cell_type": "code",
   "execution_count": 43,
   "metadata": {},
   "outputs": [],
   "source": [
    "X = df[\"text_pp\"]\n",
    "y = df[\"citations\"]"
   ]
  },
  {
   "cell_type": "code",
   "execution_count": 44,
   "metadata": {},
   "outputs": [
    {
     "name": "stdout",
     "output_type": "stream",
     "text": [
      "Params 0\n",
      "Fold 0\n"
     ]
    },
    {
     "name": "stderr",
     "output_type": "stream",
     "text": [
      "/tmp/ipykernel_4727/1773087253.py:21: RuntimeWarning: The training result may differ even with fixed seed if `workers` != 1.\n",
      "  slda.train(20, workers=0)\n",
      "/tmp/ipykernel_4727/1773087253.py:31: RuntimeWarning: `words` should be an iterable of str.\n",
      "  slda_test_doc = model.make_doc(list(X_test)[i])\n"
     ]
    },
    {
     "name": "stdout",
     "output_type": "stream",
     "text": [
      "Fold 1\n"
     ]
    },
    {
     "name": "stderr",
     "output_type": "stream",
     "text": [
      "/tmp/ipykernel_4727/1773087253.py:21: RuntimeWarning: The training result may differ even with fixed seed if `workers` != 1.\n",
      "  slda.train(20, workers=0)\n",
      "/tmp/ipykernel_4727/1773087253.py:31: RuntimeWarning: `words` should be an iterable of str.\n",
      "  slda_test_doc = model.make_doc(list(X_test)[i])\n"
     ]
    },
    {
     "name": "stdout",
     "output_type": "stream",
     "text": [
      "Fold 2\n"
     ]
    },
    {
     "name": "stderr",
     "output_type": "stream",
     "text": [
      "/tmp/ipykernel_4727/1773087253.py:21: RuntimeWarning: The training result may differ even with fixed seed if `workers` != 1.\n",
      "  slda.train(20, workers=0)\n",
      "/tmp/ipykernel_4727/1773087253.py:31: RuntimeWarning: `words` should be an iterable of str.\n",
      "  slda_test_doc = model.make_doc(list(X_test)[i])\n"
     ]
    },
    {
     "name": "stdout",
     "output_type": "stream",
     "text": [
      "Params 1\n",
      "Fold 0\n"
     ]
    },
    {
     "name": "stderr",
     "output_type": "stream",
     "text": [
      "/tmp/ipykernel_4727/1773087253.py:21: RuntimeWarning: The training result may differ even with fixed seed if `workers` != 1.\n",
      "  slda.train(20, workers=0)\n",
      "/tmp/ipykernel_4727/1773087253.py:31: RuntimeWarning: `words` should be an iterable of str.\n",
      "  slda_test_doc = model.make_doc(list(X_test)[i])\n"
     ]
    },
    {
     "name": "stdout",
     "output_type": "stream",
     "text": [
      "Fold 1\n"
     ]
    },
    {
     "name": "stderr",
     "output_type": "stream",
     "text": [
      "/tmp/ipykernel_4727/1773087253.py:21: RuntimeWarning: The training result may differ even with fixed seed if `workers` != 1.\n",
      "  slda.train(20, workers=0)\n",
      "/tmp/ipykernel_4727/1773087253.py:31: RuntimeWarning: `words` should be an iterable of str.\n",
      "  slda_test_doc = model.make_doc(list(X_test)[i])\n"
     ]
    },
    {
     "name": "stdout",
     "output_type": "stream",
     "text": [
      "Fold 2\n"
     ]
    },
    {
     "name": "stderr",
     "output_type": "stream",
     "text": [
      "/tmp/ipykernel_4727/1773087253.py:21: RuntimeWarning: The training result may differ even with fixed seed if `workers` != 1.\n",
      "  slda.train(20, workers=0)\n",
      "/tmp/ipykernel_4727/1773087253.py:31: RuntimeWarning: `words` should be an iterable of str.\n",
      "  slda_test_doc = model.make_doc(list(X_test)[i])\n"
     ]
    },
    {
     "name": "stdout",
     "output_type": "stream",
     "text": [
      "Params 2\n",
      "Fold 0\n"
     ]
    },
    {
     "name": "stderr",
     "output_type": "stream",
     "text": [
      "/tmp/ipykernel_4727/1773087253.py:21: RuntimeWarning: The training result may differ even with fixed seed if `workers` != 1.\n",
      "  slda.train(20, workers=0)\n",
      "/tmp/ipykernel_4727/1773087253.py:31: RuntimeWarning: `words` should be an iterable of str.\n",
      "  slda_test_doc = model.make_doc(list(X_test)[i])\n"
     ]
    },
    {
     "name": "stdout",
     "output_type": "stream",
     "text": [
      "Fold 1\n"
     ]
    },
    {
     "name": "stderr",
     "output_type": "stream",
     "text": [
      "/tmp/ipykernel_4727/1773087253.py:21: RuntimeWarning: The training result may differ even with fixed seed if `workers` != 1.\n",
      "  slda.train(20, workers=0)\n",
      "/tmp/ipykernel_4727/1773087253.py:31: RuntimeWarning: `words` should be an iterable of str.\n",
      "  slda_test_doc = model.make_doc(list(X_test)[i])\n"
     ]
    },
    {
     "name": "stdout",
     "output_type": "stream",
     "text": [
      "Fold 2\n"
     ]
    },
    {
     "name": "stderr",
     "output_type": "stream",
     "text": [
      "/tmp/ipykernel_4727/1773087253.py:21: RuntimeWarning: The training result may differ even with fixed seed if `workers` != 1.\n",
      "  slda.train(20, workers=0)\n",
      "/tmp/ipykernel_4727/1773087253.py:31: RuntimeWarning: `words` should be an iterable of str.\n",
      "  slda_test_doc = model.make_doc(list(X_test)[i])\n"
     ]
    },
    {
     "name": "stdout",
     "output_type": "stream",
     "text": [
      "Params 3\n",
      "Fold 0\n"
     ]
    },
    {
     "name": "stderr",
     "output_type": "stream",
     "text": [
      "/tmp/ipykernel_4727/1773087253.py:21: RuntimeWarning: The training result may differ even with fixed seed if `workers` != 1.\n",
      "  slda.train(20, workers=0)\n",
      "/tmp/ipykernel_4727/1773087253.py:31: RuntimeWarning: `words` should be an iterable of str.\n",
      "  slda_test_doc = model.make_doc(list(X_test)[i])\n"
     ]
    },
    {
     "name": "stdout",
     "output_type": "stream",
     "text": [
      "Fold 1\n"
     ]
    },
    {
     "name": "stderr",
     "output_type": "stream",
     "text": [
      "/tmp/ipykernel_4727/1773087253.py:21: RuntimeWarning: The training result may differ even with fixed seed if `workers` != 1.\n",
      "  slda.train(20, workers=0)\n",
      "/tmp/ipykernel_4727/1773087253.py:31: RuntimeWarning: `words` should be an iterable of str.\n",
      "  slda_test_doc = model.make_doc(list(X_test)[i])\n"
     ]
    },
    {
     "name": "stdout",
     "output_type": "stream",
     "text": [
      "Fold 2\n"
     ]
    },
    {
     "name": "stderr",
     "output_type": "stream",
     "text": [
      "/tmp/ipykernel_4727/1773087253.py:21: RuntimeWarning: The training result may differ even with fixed seed if `workers` != 1.\n",
      "  slda.train(20, workers=0)\n",
      "/tmp/ipykernel_4727/1773087253.py:31: RuntimeWarning: `words` should be an iterable of str.\n",
      "  slda_test_doc = model.make_doc(list(X_test)[i])\n"
     ]
    },
    {
     "name": "stdout",
     "output_type": "stream",
     "text": [
      "Params 4\n",
      "Fold 0\n"
     ]
    },
    {
     "name": "stderr",
     "output_type": "stream",
     "text": [
      "/tmp/ipykernel_4727/1773087253.py:21: RuntimeWarning: The training result may differ even with fixed seed if `workers` != 1.\n",
      "  slda.train(20, workers=0)\n",
      "/tmp/ipykernel_4727/1773087253.py:31: RuntimeWarning: `words` should be an iterable of str.\n",
      "  slda_test_doc = model.make_doc(list(X_test)[i])\n"
     ]
    },
    {
     "name": "stdout",
     "output_type": "stream",
     "text": [
      "Fold 1\n"
     ]
    },
    {
     "name": "stderr",
     "output_type": "stream",
     "text": [
      "/tmp/ipykernel_4727/1773087253.py:21: RuntimeWarning: The training result may differ even with fixed seed if `workers` != 1.\n",
      "  slda.train(20, workers=0)\n",
      "/tmp/ipykernel_4727/1773087253.py:31: RuntimeWarning: `words` should be an iterable of str.\n",
      "  slda_test_doc = model.make_doc(list(X_test)[i])\n"
     ]
    },
    {
     "name": "stdout",
     "output_type": "stream",
     "text": [
      "Fold 2\n"
     ]
    },
    {
     "name": "stderr",
     "output_type": "stream",
     "text": [
      "/tmp/ipykernel_4727/1773087253.py:21: RuntimeWarning: The training result may differ even with fixed seed if `workers` != 1.\n",
      "  slda.train(20, workers=0)\n",
      "/tmp/ipykernel_4727/1773087253.py:31: RuntimeWarning: `words` should be an iterable of str.\n",
      "  slda_test_doc = model.make_doc(list(X_test)[i])\n"
     ]
    }
   ],
   "source": [
    "results = hypreropt(X, y, hyper_params, 5)"
   ]
  },
  {
   "cell_type": "code",
   "execution_count": 47,
   "metadata": {},
   "outputs": [],
   "source": [
    "result_df = pd.DataFrame(results)"
   ]
  },
  {
   "cell_type": "code",
   "execution_count": 49,
   "metadata": {},
   "outputs": [],
   "source": [
    "result_df.to_csv(\"slda_results.csv\")"
   ]
  },
  {
   "cell_type": "code",
   "execution_count": 60,
   "metadata": {},
   "outputs": [],
   "source": [
    "best_model_params = {\n",
    "    k: v\n",
    "    for k, v in result_df.sort_values(by=\"mape\", ascending=True)\n",
    "    .iloc[0]\n",
    "    .to_dict()\n",
    "    .items()\n",
    "    if k != \"mape\"\n",
    "}\n"
   ]
  },
  {
   "cell_type": "code",
   "execution_count": 61,
   "metadata": {},
   "outputs": [
    {
     "data": {
      "text/plain": [
       "{'k': 25,\n",
       " 'min_df': 0,\n",
       " 'rm_top': 0,\n",
       " 'vars': 'l',\n",
       " 'alpha': 0.1,\n",
       " 'eta': 0.01,\n",
       " 'mu': 0.2,\n",
       " 'nu_sq': 1,\n",
       " 'glm_param': 1,\n",
       " 'seed': 123}"
      ]
     },
     "execution_count": 61,
     "metadata": {},
     "output_type": "execute_result"
    }
   ],
   "source": [
    "best_model_params"
   ]
  },
  {
   "cell_type": "code",
   "execution_count": 63,
   "metadata": {},
   "outputs": [
    {
     "name": "stderr",
     "output_type": "stream",
     "text": [
      "/tmp/ipykernel_4727/1773087253.py:21: RuntimeWarning: The training result may differ even with fixed seed if `workers` != 1.\n",
      "  slda.train(20, workers=0)\n"
     ]
    }
   ],
   "source": [
    "best_model = one_model_train(X, y, best_model_params)"
   ]
  },
  {
   "cell_type": "code",
   "execution_count": 71,
   "metadata": {},
   "outputs": [],
   "source": [
    "best_model.save(\"best_model.bin\")"
   ]
  },
  {
   "cell_type": "code",
   "execution_count": 80,
   "metadata": {},
   "outputs": [],
   "source": [
    "mdl = tp.SLDAModel.load('best_model.bin')\n"
   ]
  },
  {
   "cell_type": "code",
   "execution_count": null,
   "metadata": {},
   "outputs": [],
   "source": []
  }
 ],
 "metadata": {
  "kernelspec": {
   "display_name": "Python 3.8.9 64-bit",
   "language": "python",
   "name": "python3"
  },
  "language_info": {
   "codemirror_mode": {
    "name": "ipython",
    "version": 3
   },
   "file_extension": ".py",
   "mimetype": "text/x-python",
   "name": "python",
   "nbconvert_exporter": "python",
   "pygments_lexer": "ipython3",
   "version": "3.10.6"
  },
  "orig_nbformat": 4,
  "vscode": {
   "interpreter": {
    "hash": "31f2aee4e71d21fbe5cf8b01ff0e069b9275f58929596ceb00d14d90e3e16cd6"
   }
  }
 },
 "nbformat": 4,
 "nbformat_minor": 2
}
