{
 "cells": [
  {
   "cell_type": "code",
   "execution_count": 1,
   "id": "b53f9bf8-ea3a-4c7f-a696-f913bfb9f512",
   "metadata": {},
   "outputs": [],
   "source": [
    "from bs4 import BeautifulSoup\n",
    "from selenium import webdriver\n",
    "import pandas as pd\n",
    "import time\n",
    "import numpy as np"
   ]
  },
  {
   "cell_type": "code",
   "execution_count": 2,
   "id": "ff84b33d-13b8-4ed7-8ebd-a65dd22c3022",
   "metadata": {},
   "outputs": [],
   "source": [
    "def get_link_for_page(page_num: int, q: str):\n",
    "    return f'''https://scholar.google.com/scholar?start={10*page_num}&q={'+'.join(q.split())}&hl=pl&as_sdt=0,5'''"
   ]
  },
  {
   "cell_type": "code",
   "execution_count": 3,
   "id": "4f8dcf90-996f-4c6d-ab39-ba7f675253bc",
   "metadata": {},
   "outputs": [],
   "source": [
    "def get_book_sections(soup: BeautifulSoup):\n",
    "    return soup.find_all('div', class_='gs_r gs_or gs_scl')"
   ]
  },
  {
   "cell_type": "code",
   "execution_count": 4,
   "id": "ef459efd-8253-432f-894c-4e09508ac14b",
   "metadata": {},
   "outputs": [],
   "source": [
    "def get_book_title(book):\n",
    "    return book.find('h3').find('a').text"
   ]
  },
  {
   "cell_type": "code",
   "execution_count": 5,
   "id": "4417bc0b-5e14-4b78-acc5-31e1ca14156d",
   "metadata": {},
   "outputs": [],
   "source": [
    "def get_is_book(book):\n",
    "    return book.find('span').text"
   ]
  },
  {
   "cell_type": "code",
   "execution_count": 6,
   "id": "491d731e-5b3c-40c4-9339-adc2ffaa1323",
   "metadata": {},
   "outputs": [],
   "source": [
    "def get_book_link(book):\n",
    "    return book.find('h3').find('a', href=True)['href']"
   ]
  },
  {
   "cell_type": "code",
   "execution_count": 7,
   "id": "d5eb265f-36f5-4f58-a61f-191537966ad8",
   "metadata": {},
   "outputs": [],
   "source": [
    "def get_citation_count(book):\n",
    "    return book.find_all('div', class_='gs_fl')[-1].find_all('a', href=True)[2].text.split(' ')[-1]"
   ]
  },
  {
   "cell_type": "code",
   "execution_count": 8,
   "id": "64224b4c-eb88-43ae-984f-46d740e99888",
   "metadata": {},
   "outputs": [],
   "source": [
    "def get_all_needed_elements(book_section):\n",
    "        try:\n",
    "            title = get_book_title(book_section)\n",
    "            is_book = get_is_book(book_section)\n",
    "            if '[KSIĄŻKA]' in is_book:\n",
    "                return [None]*3\n",
    "            article_link = get_book_link(book_section)\n",
    "            citation_count = get_citation_count(book_section)\n",
    "            return [title, article_link, citation_count]\n",
    "        except AttributeError:\n",
    "            return [None]*3"
   ]
  },
  {
   "cell_type": "code",
   "execution_count": 9,
   "id": "99b58196-f02c-437a-83e9-5507a738d808",
   "metadata": {},
   "outputs": [],
   "source": [
    "browser = webdriver.Chrome()"
   ]
  },
  {
   "cell_type": "code",
   "execution_count": 10,
   "id": "57e16236-c6c7-43d4-b178-836e053e2ff6",
   "metadata": {},
   "outputs": [],
   "source": [
    "lst = []"
   ]
  },
  {
   "cell_type": "code",
   "execution_count": 11,
   "id": "7fdace05-6c51-4e05-8f18-3a5c330a2562",
   "metadata": {},
   "outputs": [
    {
     "data": {
      "text/html": [
       "<div>\n",
       "<style scoped>\n",
       "    .dataframe tbody tr th:only-of-type {\n",
       "        vertical-align: middle;\n",
       "    }\n",
       "\n",
       "    .dataframe tbody tr th {\n",
       "        vertical-align: top;\n",
       "    }\n",
       "\n",
       "    .dataframe thead th {\n",
       "        text-align: right;\n",
       "    }\n",
       "</style>\n",
       "<table border=\"1\" class=\"dataframe\">\n",
       "  <thead>\n",
       "    <tr style=\"text-align: right;\">\n",
       "      <th></th>\n",
       "      <th>title</th>\n",
       "      <th>link</th>\n",
       "      <th>citations</th>\n",
       "    </tr>\n",
       "  </thead>\n",
       "  <tbody>\n",
       "    <tr>\n",
       "      <th>0</th>\n",
       "      <td>Machine learning</td>\n",
       "      <td>https://www.annualreviews.org/doi/pdf/10.1146/...</td>\n",
       "      <td>211</td>\n",
       "    </tr>\n",
       "    <tr>\n",
       "      <th>2</th>\n",
       "      <td>Quantum machine learning</td>\n",
       "      <td>https://www.nature.com/articles/nature23474</td>\n",
       "      <td>2296</td>\n",
       "    </tr>\n",
       "    <tr>\n",
       "      <th>3</th>\n",
       "      <td>Machine learning algorithms-a review</td>\n",
       "      <td>https://www.researchgate.net/profile/Batta-Mah...</td>\n",
       "      <td>915</td>\n",
       "    </tr>\n",
       "    <tr>\n",
       "      <th>4</th>\n",
       "      <td>Machine learning</td>\n",
       "      <td>https://profs.info.uaic.ro/~ciortuz/SLIDES/201...</td>\n",
       "      <td>34730</td>\n",
       "    </tr>\n",
       "    <tr>\n",
       "      <th>5</th>\n",
       "      <td>Machine learning</td>\n",
       "      <td>https://books.google.com/books?hl=pl&amp;lr=&amp;id=2n...</td>\n",
       "      <td>227</td>\n",
       "    </tr>\n",
       "    <tr>\n",
       "      <th>...</th>\n",
       "      <td>...</td>\n",
       "      <td>...</td>\n",
       "      <td>...</td>\n",
       "    </tr>\n",
       "    <tr>\n",
       "      <th>295</th>\n",
       "      <td>Building machine learning systems with Python</td>\n",
       "      <td>https://books.google.com/books?hl=pl&amp;lr=&amp;id=C-...</td>\n",
       "      <td>187</td>\n",
       "    </tr>\n",
       "    <tr>\n",
       "      <th>296</th>\n",
       "      <td>(Machine) learning to do more with less</td>\n",
       "      <td>https://link.springer.com/article/10.1007/JHEP...</td>\n",
       "      <td>64</td>\n",
       "    </tr>\n",
       "    <tr>\n",
       "      <th>297</th>\n",
       "      <td>Using GPUs for machine learning algorithms</td>\n",
       "      <td>https://ieeexplore.ieee.org/abstract/document/...</td>\n",
       "      <td>327</td>\n",
       "    </tr>\n",
       "    <tr>\n",
       "      <th>298</th>\n",
       "      <td>MLC++: A machine learning library in C++</td>\n",
       "      <td>https://ieeexplore.ieee.org/abstract/document/...</td>\n",
       "      <td>324</td>\n",
       "    </tr>\n",
       "    <tr>\n",
       "      <th>299</th>\n",
       "      <td>The immune system, adaptation, and machine lea...</td>\n",
       "      <td>https://www.sciencedirect.com/science/article/...</td>\n",
       "      <td>2176</td>\n",
       "    </tr>\n",
       "  </tbody>\n",
       "</table>\n",
       "<p>255 rows × 3 columns</p>\n",
       "</div>"
      ],
      "text/plain": [
       "                                                 title  \\\n",
       "0                                     Machine learning   \n",
       "2                             Quantum machine learning   \n",
       "3                 Machine learning algorithms-a review   \n",
       "4                                     Machine learning   \n",
       "5                                     Machine learning   \n",
       "..                                                 ...   \n",
       "295      Building machine learning systems with Python   \n",
       "296            (Machine) learning to do more with less   \n",
       "297         Using GPUs for machine learning algorithms   \n",
       "298           MLC++: A machine learning library in C++   \n",
       "299  The immune system, adaptation, and machine lea...   \n",
       "\n",
       "                                                  link citations  \n",
       "0    https://www.annualreviews.org/doi/pdf/10.1146/...       211  \n",
       "2          https://www.nature.com/articles/nature23474      2296  \n",
       "3    https://www.researchgate.net/profile/Batta-Mah...       915  \n",
       "4    https://profs.info.uaic.ro/~ciortuz/SLIDES/201...     34730  \n",
       "5    https://books.google.com/books?hl=pl&lr=&id=2n...       227  \n",
       "..                                                 ...       ...  \n",
       "295  https://books.google.com/books?hl=pl&lr=&id=C-...       187  \n",
       "296  https://link.springer.com/article/10.1007/JHEP...        64  \n",
       "297  https://ieeexplore.ieee.org/abstract/document/...       327  \n",
       "298  https://ieeexplore.ieee.org/abstract/document/...       324  \n",
       "299  https://www.sciencedirect.com/science/article/...      2176  \n",
       "\n",
       "[255 rows x 3 columns]"
      ]
     },
     "execution_count": 11,
     "metadata": {},
     "output_type": "execute_result"
    }
   ],
   "source": [
    "for i in range(30):\n",
    "    browser.get(get_link_for_page(i, 'machine learning'))\n",
    "    soup = BeautifulSoup(browser.page_source, 'lxml')\n",
    "    book_sections = get_book_sections(soup)\n",
    "    lst.append([get_all_needed_elements(book_section) for book_section in book_sections])\n",
    "    time.sleep(3)\n",
    "df = pd.DataFrame(np.array(lst).reshape(-1, 3), columns=['title', 'link', 'citations'])\n",
    "df.dropna()"
   ]
  },
  {
   "cell_type": "code",
   "execution_count": 12,
   "id": "b64c6343-0f8a-44d9-9a6b-6e1ddfa22cb2",
   "metadata": {},
   "outputs": [],
   "source": [
    "df.to_csv('titles_links_and_citations.csv')"
   ]
  }
 ],
 "metadata": {
  "kernelspec": {
   "display_name": "Python 3 (ipykernel)",
   "language": "python",
   "name": "python3"
  },
  "language_info": {
   "codemirror_mode": {
    "name": "ipython",
    "version": 3
   },
   "file_extension": ".py",
   "mimetype": "text/x-python",
   "name": "python",
   "nbconvert_exporter": "python",
   "pygments_lexer": "ipython3",
   "version": "3.8.5"
  }
 },
 "nbformat": 4,
 "nbformat_minor": 5
}
