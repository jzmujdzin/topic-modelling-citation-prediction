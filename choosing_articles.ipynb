{
 "cells": [
  {
   "cell_type": "code",
   "execution_count": 1,
   "id": "8a665b65-aed8-4207-a640-a8bc74770d46",
   "metadata": {},
   "outputs": [],
   "source": [
    "import pandas as pd"
   ]
  },
  {
   "cell_type": "code",
   "execution_count": 2,
   "id": "e19feb89-5a88-427f-9a5f-ccee0cb6361b",
   "metadata": {},
   "outputs": [],
   "source": [
    "df = pd.read_csv('titles_links_and_citations.csv')\n",
    "df = df.dropna(subset=['title', 'link', 'citations'])"
   ]
  },
  {
   "cell_type": "code",
   "execution_count": 3,
   "id": "4d51526c-799b-4da9-bd16-4ffce1e04394",
   "metadata": {},
   "outputs": [],
   "source": [
    "df.sample(n=50, random_state=420602).to_csv('data.csv')"
   ]
  }
 ],
 "metadata": {
  "kernelspec": {
   "display_name": "Python 3 (ipykernel)",
   "language": "python",
   "name": "python3"
  },
  "language_info": {
   "codemirror_mode": {
    "name": "ipython",
    "version": 3
   },
   "file_extension": ".py",
   "mimetype": "text/x-python",
   "name": "python",
   "nbconvert_exporter": "python",
   "pygments_lexer": "ipython3",
   "version": "3.8.5"
  }
 },
 "nbformat": 4,
 "nbformat_minor": 5
}
