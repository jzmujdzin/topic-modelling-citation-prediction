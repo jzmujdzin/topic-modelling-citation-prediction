{
 "cells": [
  {
   "cell_type": "code",
   "execution_count": 1,
   "metadata": {
    "collapsed": true,
    "pycharm": {
     "name": "#%%\n"
    }
   },
   "outputs": [],
   "source": [
    "import pandas as pd\n",
    "from pathlib import Path\n",
    "from sklearn.decomposition import LatentDirichletAllocation\n",
    "from nltk.stem.porter import PorterStemmer\n",
    "import re\n",
    "from nltk.tokenize import RegexpTokenizer\n",
    "from sklearn.feature_extraction.text import CountVectorizer\n",
    "import pickle\n",
    "import xgboost as xgb\n",
    "import dalex as dx\n",
    "from sklearn.model_selection import RandomizedSearchCV\n",
    "import numpy as np\n",
    "from sklearn.model_selection import KFold\n",
    "from sklearn.model_selection import cross_val_score\n",
    "from sklearn.metrics import mean_absolute_percentage_error"
   ]
  },
  {
   "cell_type": "code",
   "execution_count": 2,
   "outputs": [],
   "source": [
    "df = pd.read_json(Path.cwd() / \"findal_df.json\")"
   ],
   "metadata": {
    "collapsed": false,
    "pycharm": {
     "name": "#%%\n"
    }
   }
  },
  {
   "cell_type": "code",
   "execution_count": 3,
   "outputs": [
    {
     "data": {
      "text/plain": "                                                  title  \\\n0           Continual Reinforcement Learning with TELLA   \n1     An exact mapping between the Variational Renor...   \n2     Learning Generative Models across Incomparable...   \n3     On the Generalization Ability of Online Learni...   \n4              Geometric Understanding of Deep Learning   \n...                                                 ...   \n1230  Musical Word Embedding: Bridging the Gap betwe...   \n1231  Metrics for Multi-Class Classification: an Ove...   \n1232  Intelligence plays dice: Stochasticity is esse...   \n1233  Can AutoML outperform humans? An evaluation on...   \n1234  Nonsmoothness in Machine Learning: specific st...   \n\n                                   link  citations  \\\n0     http://arxiv.org/pdf/2208.04287v1          2   \n1      http://arxiv.org/pdf/1410.3831v1        295   \n2     http://arxiv.org/pdf/1905.05461v2         69   \n3      http://arxiv.org/pdf/1305.2505v1         74   \n4     http://arxiv.org/pdf/1805.10451v2        110   \n...                                 ...        ...   \n1230  http://arxiv.org/pdf/2008.01190v1          4   \n1231  http://arxiv.org/pdf/2008.05756v1        409   \n1232  http://arxiv.org/pdf/2008.07496v1          5   \n1233  http://arxiv.org/pdf/2009.01564v2         24   \n1234  http://arxiv.org/pdf/2010.00848v2         15   \n\n                                                   text  \n0     Workshop Track - 1st Conference on Lifelong Le...  \n1     arXiv:1410.3831v1  [stat.ML]  14 Oct 2014An ex...  \n2     Learning Generative Models across Incomparable...  \n3     On the Generalization Ability of Online Learni...  \n4     Geometric Understanding of Deep Learning\\nNa L...  \n...                                                 ...  \n1230  Musical Word Embedding: Bridging the Gap betwe...  \n1231  METRICS FOR MULTI -CLASS CLASSIFICATION :ANOVE...  \n1232  Intelligence plays dice: Stochasticity is esse...  \n1233  Can AutoML outperform humans? An evaluation \\n...  \n1234  Set-Valued and Variational Analysis manuscript...  \n\n[1235 rows x 4 columns]",
      "text/html": "<div>\n<style scoped>\n    .dataframe tbody tr th:only-of-type {\n        vertical-align: middle;\n    }\n\n    .dataframe tbody tr th {\n        vertical-align: top;\n    }\n\n    .dataframe thead th {\n        text-align: right;\n    }\n</style>\n<table border=\"1\" class=\"dataframe\">\n  <thead>\n    <tr style=\"text-align: right;\">\n      <th></th>\n      <th>title</th>\n      <th>link</th>\n      <th>citations</th>\n      <th>text</th>\n    </tr>\n  </thead>\n  <tbody>\n    <tr>\n      <th>0</th>\n      <td>Continual Reinforcement Learning with TELLA</td>\n      <td>http://arxiv.org/pdf/2208.04287v1</td>\n      <td>2</td>\n      <td>Workshop Track - 1st Conference on Lifelong Le...</td>\n    </tr>\n    <tr>\n      <th>1</th>\n      <td>An exact mapping between the Variational Renor...</td>\n      <td>http://arxiv.org/pdf/1410.3831v1</td>\n      <td>295</td>\n      <td>arXiv:1410.3831v1  [stat.ML]  14 Oct 2014An ex...</td>\n    </tr>\n    <tr>\n      <th>2</th>\n      <td>Learning Generative Models across Incomparable...</td>\n      <td>http://arxiv.org/pdf/1905.05461v2</td>\n      <td>69</td>\n      <td>Learning Generative Models across Incomparable...</td>\n    </tr>\n    <tr>\n      <th>3</th>\n      <td>On the Generalization Ability of Online Learni...</td>\n      <td>http://arxiv.org/pdf/1305.2505v1</td>\n      <td>74</td>\n      <td>On the Generalization Ability of Online Learni...</td>\n    </tr>\n    <tr>\n      <th>4</th>\n      <td>Geometric Understanding of Deep Learning</td>\n      <td>http://arxiv.org/pdf/1805.10451v2</td>\n      <td>110</td>\n      <td>Geometric Understanding of Deep Learning\\nNa L...</td>\n    </tr>\n    <tr>\n      <th>...</th>\n      <td>...</td>\n      <td>...</td>\n      <td>...</td>\n      <td>...</td>\n    </tr>\n    <tr>\n      <th>1230</th>\n      <td>Musical Word Embedding: Bridging the Gap betwe...</td>\n      <td>http://arxiv.org/pdf/2008.01190v1</td>\n      <td>4</td>\n      <td>Musical Word Embedding: Bridging the Gap betwe...</td>\n    </tr>\n    <tr>\n      <th>1231</th>\n      <td>Metrics for Multi-Class Classification: an Ove...</td>\n      <td>http://arxiv.org/pdf/2008.05756v1</td>\n      <td>409</td>\n      <td>METRICS FOR MULTI -CLASS CLASSIFICATION :ANOVE...</td>\n    </tr>\n    <tr>\n      <th>1232</th>\n      <td>Intelligence plays dice: Stochasticity is esse...</td>\n      <td>http://arxiv.org/pdf/2008.07496v1</td>\n      <td>5</td>\n      <td>Intelligence plays dice: Stochasticity is esse...</td>\n    </tr>\n    <tr>\n      <th>1233</th>\n      <td>Can AutoML outperform humans? An evaluation on...</td>\n      <td>http://arxiv.org/pdf/2009.01564v2</td>\n      <td>24</td>\n      <td>Can AutoML outperform humans? An evaluation \\n...</td>\n    </tr>\n    <tr>\n      <th>1234</th>\n      <td>Nonsmoothness in Machine Learning: specific st...</td>\n      <td>http://arxiv.org/pdf/2010.00848v2</td>\n      <td>15</td>\n      <td>Set-Valued and Variational Analysis manuscript...</td>\n    </tr>\n  </tbody>\n</table>\n<p>1235 rows × 4 columns</p>\n</div>"
     },
     "execution_count": 3,
     "metadata": {},
     "output_type": "execute_result"
    }
   ],
   "source": [
    "df"
   ],
   "metadata": {
    "collapsed": false,
    "pycharm": {
     "name": "#%%\n"
    }
   }
  },
  {
   "cell_type": "code",
   "execution_count": 4,
   "outputs": [
    {
     "data": {
      "text/plain": "12"
     },
     "execution_count": 4,
     "metadata": {},
     "output_type": "execute_result"
    }
   ],
   "source": [
    "df['text'].isna().sum()"
   ],
   "metadata": {
    "collapsed": false,
    "pycharm": {
     "name": "#%%\n"
    }
   }
  },
  {
   "cell_type": "code",
   "execution_count": 5,
   "outputs": [],
   "source": [
    "df.dropna(subset=['text'], inplace=True)"
   ],
   "metadata": {
    "collapsed": false,
    "pycharm": {
     "name": "#%%\n"
    }
   }
  },
  {
   "cell_type": "code",
   "execution_count": 6,
   "outputs": [],
   "source": [
    "stemmer = PorterStemmer()\n",
    "tokenizer = RegexpTokenizer(r'\\w+')\n",
    "def preprocess_text(text: str):\n",
    "    return ' '.join([stemmer.stem(word) if len(word) > 2 and word not in ['uni', 'uni uni', 'uni uni uni', 'ieee','doi', 'vextendsingl', 'http', 'https', 'vextenddoubl', 'parenrightbig', 'parenleftbig'] else '' for word in tokenizer.tokenize(' '.join([re.sub(r'(\\${1,2})(?:(?!\\1)[\\s\\S])*\\1', ' ', re.sub(r'[\\s\\d]+', ' ', word)) for word in text.split()]))])\n"
   ],
   "metadata": {
    "collapsed": false,
    "pycharm": {
     "name": "#%%\n"
    }
   }
  },
  {
   "cell_type": "code",
   "execution_count": 7,
   "outputs": [],
   "source": [
    "df['text_pp'] = df['text'].apply(lambda x: preprocess_text(x))"
   ],
   "metadata": {
    "collapsed": false,
    "pycharm": {
     "name": "#%%\n"
    }
   }
  },
  {
   "cell_type": "code",
   "execution_count": 8,
   "outputs": [],
   "source": [
    "tf_vectorizer = CountVectorizer(ngram_range = (1, 4),\n",
    "                                max_df = 0.8,\n",
    "                                min_df = 0.01,\n",
    "                                tokenizer = tokenizer.tokenize,\n",
    "                                stop_words='english'\n",
    ")"
   ],
   "metadata": {
    "collapsed": false,
    "pycharm": {
     "name": "#%%\n"
    }
   }
  },
  {
   "cell_type": "code",
   "execution_count": 9,
   "outputs": [
    {
     "data": {
      "text/plain": "                                               title  \\\n0        Continual Reinforcement Learning with TELLA   \n1  An exact mapping between the Variational Renor...   \n2  Learning Generative Models across Incomparable...   \n3  On the Generalization Ability of Online Learni...   \n4           Geometric Understanding of Deep Learning   \n\n                                link  citations  \\\n0  http://arxiv.org/pdf/2208.04287v1          2   \n1   http://arxiv.org/pdf/1410.3831v1        295   \n2  http://arxiv.org/pdf/1905.05461v2         69   \n3   http://arxiv.org/pdf/1305.2505v1         74   \n4  http://arxiv.org/pdf/1805.10451v2        110   \n\n                                                text  \\\n0  Workshop Track - 1st Conference on Lifelong Le...   \n1  arXiv:1410.3831v1  [stat.ML]  14 Oct 2014An ex...   \n2  Learning Generative Models across Incomparable...   \n3  On the Generalization Ability of Online Learni...   \n4  Geometric Understanding of Deep Learning\\nNa L...   \n\n                                             text_pp  \n0  workshop track  confer  lifelong learn agent c...  \n1  arxiv  stat  oct  exact map between the variat...  \n2  learn gener model across incompar space charlo...  \n3   the gener abil  onlin learn algorithm for pai...  \n4  geometr understand  deep learn  lei zhongxuan ...  ",
      "text/html": "<div>\n<style scoped>\n    .dataframe tbody tr th:only-of-type {\n        vertical-align: middle;\n    }\n\n    .dataframe tbody tr th {\n        vertical-align: top;\n    }\n\n    .dataframe thead th {\n        text-align: right;\n    }\n</style>\n<table border=\"1\" class=\"dataframe\">\n  <thead>\n    <tr style=\"text-align: right;\">\n      <th></th>\n      <th>title</th>\n      <th>link</th>\n      <th>citations</th>\n      <th>text</th>\n      <th>text_pp</th>\n    </tr>\n  </thead>\n  <tbody>\n    <tr>\n      <th>0</th>\n      <td>Continual Reinforcement Learning with TELLA</td>\n      <td>http://arxiv.org/pdf/2208.04287v1</td>\n      <td>2</td>\n      <td>Workshop Track - 1st Conference on Lifelong Le...</td>\n      <td>workshop track  confer  lifelong learn agent c...</td>\n    </tr>\n    <tr>\n      <th>1</th>\n      <td>An exact mapping between the Variational Renor...</td>\n      <td>http://arxiv.org/pdf/1410.3831v1</td>\n      <td>295</td>\n      <td>arXiv:1410.3831v1  [stat.ML]  14 Oct 2014An ex...</td>\n      <td>arxiv  stat  oct  exact map between the variat...</td>\n    </tr>\n    <tr>\n      <th>2</th>\n      <td>Learning Generative Models across Incomparable...</td>\n      <td>http://arxiv.org/pdf/1905.05461v2</td>\n      <td>69</td>\n      <td>Learning Generative Models across Incomparable...</td>\n      <td>learn gener model across incompar space charlo...</td>\n    </tr>\n    <tr>\n      <th>3</th>\n      <td>On the Generalization Ability of Online Learni...</td>\n      <td>http://arxiv.org/pdf/1305.2505v1</td>\n      <td>74</td>\n      <td>On the Generalization Ability of Online Learni...</td>\n      <td>the gener abil  onlin learn algorithm for pai...</td>\n    </tr>\n    <tr>\n      <th>4</th>\n      <td>Geometric Understanding of Deep Learning</td>\n      <td>http://arxiv.org/pdf/1805.10451v2</td>\n      <td>110</td>\n      <td>Geometric Understanding of Deep Learning\\nNa L...</td>\n      <td>geometr understand  deep learn  lei zhongxuan ...</td>\n    </tr>\n  </tbody>\n</table>\n</div>"
     },
     "execution_count": 9,
     "metadata": {},
     "output_type": "execute_result"
    }
   ],
   "source": [
    "df.head()"
   ],
   "metadata": {
    "collapsed": false,
    "pycharm": {
     "name": "#%%\n"
    }
   }
  },
  {
   "cell_type": "code",
   "execution_count": 10,
   "outputs": [],
   "source": [
    "tf = tf_vectorizer.fit_transform(df['text_pp'])"
   ],
   "metadata": {
    "collapsed": false,
    "pycharm": {
     "name": "#%%\n"
    }
   }
  },
  {
   "cell_type": "code",
   "execution_count": 11,
   "outputs": [
    {
     "name": "stdout",
     "output_type": "stream",
     "text": [
      "iteration: 1 of max_iter: 150\n",
      "iteration: 2 of max_iter: 150\n",
      "iteration: 3 of max_iter: 150\n",
      "iteration: 4 of max_iter: 150\n",
      "iteration: 5 of max_iter: 150\n",
      "iteration: 6 of max_iter: 150\n",
      "iteration: 7 of max_iter: 150\n",
      "iteration: 8 of max_iter: 150\n",
      "iteration: 9 of max_iter: 150\n",
      "iteration: 10 of max_iter: 150\n",
      "iteration: 11 of max_iter: 150\n",
      "iteration: 12 of max_iter: 150\n",
      "iteration: 13 of max_iter: 150\n",
      "iteration: 14 of max_iter: 150\n",
      "iteration: 15 of max_iter: 150\n",
      "iteration: 16 of max_iter: 150\n",
      "iteration: 17 of max_iter: 150\n",
      "iteration: 18 of max_iter: 150\n",
      "iteration: 19 of max_iter: 150\n",
      "iteration: 20 of max_iter: 150\n",
      "iteration: 21 of max_iter: 150\n",
      "iteration: 22 of max_iter: 150\n",
      "iteration: 23 of max_iter: 150\n",
      "iteration: 24 of max_iter: 150\n",
      "iteration: 25 of max_iter: 150\n",
      "iteration: 26 of max_iter: 150\n",
      "iteration: 27 of max_iter: 150\n",
      "iteration: 28 of max_iter: 150\n",
      "iteration: 29 of max_iter: 150\n",
      "iteration: 30 of max_iter: 150\n",
      "iteration: 31 of max_iter: 150\n",
      "iteration: 32 of max_iter: 150\n",
      "iteration: 33 of max_iter: 150\n",
      "iteration: 34 of max_iter: 150\n",
      "iteration: 35 of max_iter: 150\n",
      "iteration: 36 of max_iter: 150\n",
      "iteration: 37 of max_iter: 150\n",
      "iteration: 38 of max_iter: 150\n",
      "iteration: 39 of max_iter: 150\n",
      "iteration: 40 of max_iter: 150\n",
      "iteration: 41 of max_iter: 150\n",
      "iteration: 42 of max_iter: 150\n",
      "iteration: 43 of max_iter: 150\n",
      "iteration: 44 of max_iter: 150\n",
      "iteration: 45 of max_iter: 150\n",
      "iteration: 46 of max_iter: 150\n",
      "iteration: 47 of max_iter: 150\n",
      "iteration: 48 of max_iter: 150\n",
      "iteration: 49 of max_iter: 150\n",
      "iteration: 50 of max_iter: 150\n",
      "iteration: 51 of max_iter: 150\n",
      "iteration: 52 of max_iter: 150\n",
      "iteration: 53 of max_iter: 150\n",
      "iteration: 54 of max_iter: 150\n",
      "iteration: 55 of max_iter: 150\n",
      "iteration: 56 of max_iter: 150\n",
      "iteration: 57 of max_iter: 150\n",
      "iteration: 58 of max_iter: 150\n",
      "iteration: 59 of max_iter: 150\n",
      "iteration: 60 of max_iter: 150\n",
      "iteration: 61 of max_iter: 150\n",
      "iteration: 62 of max_iter: 150\n",
      "iteration: 63 of max_iter: 150\n",
      "iteration: 64 of max_iter: 150\n",
      "iteration: 65 of max_iter: 150\n",
      "iteration: 66 of max_iter: 150\n",
      "iteration: 67 of max_iter: 150\n",
      "iteration: 68 of max_iter: 150\n",
      "iteration: 69 of max_iter: 150\n",
      "iteration: 70 of max_iter: 150\n",
      "iteration: 71 of max_iter: 150\n",
      "iteration: 72 of max_iter: 150\n",
      "iteration: 73 of max_iter: 150\n",
      "iteration: 74 of max_iter: 150\n",
      "iteration: 75 of max_iter: 150\n",
      "iteration: 76 of max_iter: 150\n",
      "iteration: 77 of max_iter: 150\n",
      "iteration: 78 of max_iter: 150\n",
      "iteration: 79 of max_iter: 150\n",
      "iteration: 80 of max_iter: 150\n",
      "iteration: 81 of max_iter: 150\n",
      "iteration: 82 of max_iter: 150\n",
      "iteration: 83 of max_iter: 150\n",
      "iteration: 84 of max_iter: 150\n",
      "iteration: 85 of max_iter: 150\n",
      "iteration: 86 of max_iter: 150\n",
      "iteration: 87 of max_iter: 150\n",
      "iteration: 88 of max_iter: 150\n",
      "iteration: 89 of max_iter: 150\n",
      "iteration: 90 of max_iter: 150\n",
      "iteration: 91 of max_iter: 150\n",
      "iteration: 92 of max_iter: 150\n",
      "iteration: 93 of max_iter: 150\n",
      "iteration: 94 of max_iter: 150\n",
      "iteration: 95 of max_iter: 150\n",
      "iteration: 96 of max_iter: 150\n",
      "iteration: 97 of max_iter: 150\n",
      "iteration: 98 of max_iter: 150\n",
      "iteration: 99 of max_iter: 150\n",
      "iteration: 100 of max_iter: 150\n",
      "iteration: 101 of max_iter: 150\n",
      "iteration: 102 of max_iter: 150\n",
      "iteration: 103 of max_iter: 150\n",
      "iteration: 104 of max_iter: 150\n",
      "iteration: 105 of max_iter: 150\n",
      "iteration: 106 of max_iter: 150\n",
      "iteration: 107 of max_iter: 150\n",
      "iteration: 108 of max_iter: 150\n",
      "iteration: 109 of max_iter: 150\n",
      "iteration: 110 of max_iter: 150\n",
      "iteration: 111 of max_iter: 150\n",
      "iteration: 112 of max_iter: 150\n",
      "iteration: 113 of max_iter: 150\n",
      "iteration: 114 of max_iter: 150\n",
      "iteration: 115 of max_iter: 150\n",
      "iteration: 116 of max_iter: 150\n",
      "iteration: 117 of max_iter: 150\n",
      "iteration: 118 of max_iter: 150\n",
      "iteration: 119 of max_iter: 150\n",
      "iteration: 120 of max_iter: 150\n",
      "iteration: 121 of max_iter: 150\n",
      "iteration: 122 of max_iter: 150\n",
      "iteration: 123 of max_iter: 150\n",
      "iteration: 124 of max_iter: 150\n",
      "iteration: 125 of max_iter: 150\n",
      "iteration: 126 of max_iter: 150\n",
      "iteration: 127 of max_iter: 150\n",
      "iteration: 128 of max_iter: 150\n",
      "iteration: 129 of max_iter: 150\n",
      "iteration: 130 of max_iter: 150\n",
      "iteration: 131 of max_iter: 150\n",
      "iteration: 132 of max_iter: 150\n",
      "iteration: 133 of max_iter: 150\n",
      "iteration: 134 of max_iter: 150\n",
      "iteration: 135 of max_iter: 150\n",
      "iteration: 136 of max_iter: 150\n",
      "iteration: 137 of max_iter: 150\n",
      "iteration: 138 of max_iter: 150\n",
      "iteration: 139 of max_iter: 150\n",
      "iteration: 140 of max_iter: 150\n",
      "iteration: 141 of max_iter: 150\n",
      "iteration: 142 of max_iter: 150\n",
      "iteration: 143 of max_iter: 150\n",
      "iteration: 144 of max_iter: 150\n",
      "iteration: 145 of max_iter: 150\n",
      "iteration: 146 of max_iter: 150\n",
      "iteration: 147 of max_iter: 150\n",
      "iteration: 148 of max_iter: 150\n",
      "iteration: 149 of max_iter: 150\n",
      "iteration: 150 of max_iter: 150\n"
     ]
    },
    {
     "data": {
      "text/plain": "LatentDirichletAllocation(learning_decay=0.6, learning_offset=30, max_iter=150,\n                          mean_change_tol=0.01, n_components=5, n_jobs=-1,\n                          verbose=1)"
     },
     "execution_count": 11,
     "metadata": {},
     "output_type": "execute_result"
    }
   ],
   "source": [
    "#params = {\n",
    "#    'n_components': list(range(5, 150, 5)),\n",
    "#    'learning_decay': np.arange(0.6, 0.9, 0.1),\n",
    "#    'learning_offset': np.arange(10, 150, 10),\n",
    "#    'perp_tol': [0.1],\n",
    "#    'max_iter': [20],\n",
    "#    'mean_change_tol': [1e-6, 1e-5, 1e-4, 1e-3, 1e-2],\n",
    "#    'max_doc_update_iter': [100]\n",
    "#}\n",
    "best_params = {'perp_tol': 0.1,\n",
    " 'n_components': 5,\n",
    " 'mean_change_tol': 0.01,\n",
    " 'max_iter': 150,\n",
    " 'max_doc_update_iter': 100,\n",
    " 'learning_offset': 30,\n",
    " 'learning_decay': 0.6,\n",
    " 'verbose': 1,\n",
    " 'n_jobs': -1}\n",
    "\n",
    "lda = LatentDirichletAllocation(**best_params)\n",
    "#rsearch = RandomizedSearchCV(lda, params, n_iter=30, verbose=3, cv=3, error_score='raise')\n",
    "#rsearch.fit(tf)\n",
    "lda.fit(tf)"
   ],
   "metadata": {
    "collapsed": false,
    "pycharm": {
     "name": "#%%\n"
    }
   }
  },
  {
   "cell_type": "code",
   "execution_count": 11,
   "outputs": [],
   "source": [
    "#best = rsearch.best_estimator_"
   ],
   "metadata": {
    "collapsed": false,
    "pycharm": {
     "name": "#%%\n"
    }
   }
  },
  {
   "cell_type": "code",
   "execution_count": 12,
   "outputs": [
    {
     "data": {
      "text/plain": "9269.797920022853"
     },
     "execution_count": 12,
     "metadata": {},
     "output_type": "execute_result"
    }
   ],
   "source": [
    "#best.perplexity(tf)\n",
    "lda.perplexity(tf)"
   ],
   "metadata": {
    "collapsed": false,
    "pycharm": {
     "name": "#%%\n"
    }
   }
  },
  {
   "cell_type": "code",
   "execution_count": 43,
   "outputs": [],
   "source": [
    "pickle.dump(lda, open('model_test_new_regex.pkl', 'wb'))\n",
    "#lda = pickle.load(open('model.pkl', 'rb'))"
   ],
   "metadata": {
    "collapsed": false,
    "pycharm": {
     "name": "#%%\n"
    }
   }
  },
  {
   "cell_type": "code",
   "execution_count": 13,
   "outputs": [
    {
     "name": "stderr",
     "output_type": "stream",
     "text": [
      "/Users/jakubzmujdzin/opt/miniconda3/lib/python3.8/site-packages/sklearn/utils/deprecation.py:87: FutureWarning: Function get_feature_names is deprecated; get_feature_names is deprecated in 1.0 and will be removed in 1.2. Please use get_feature_names_out instead.\n",
      "  warnings.warn(msg, category=FutureWarning)\n"
     ]
    },
    {
     "name": "stdout",
     "output_type": "stream",
     "text": [
      "Topic 0:  ['quantum', 'graph', 'neural network', 'imag', 'represent', 'structur', 'physic', 'deep', 'layer', 'space']\n",
      "Topic 1:  ['dataset', 'select', 'figur', 'decis', 'accuraci', 'class', 'classi', 'evalu', 'variabl', 'regress']\n",
      "Topic 2:  ['bound', 'theorem', 'probabl', 'gradient', 'kernel', 'loss', 'proof', 'vector', 'estim', 'vextendsingl']\n",
      "Topic 3:  ['layer', 'polici', 'meta', 'deep', 'agent', 'reinforc', 'reward', 'reinforc learn', 'action', 'represent']\n",
      "Topic 4:  ['attack', 'adversari', 'ieee', 'imag', 'deep', 'detect', 'differ', 'commun', 'user', 'privaci']\n"
     ]
    }
   ],
   "source": [
    "for index, component in enumerate(lda.components_): #taking model's components, i.e. P(w|z)\n",
    "    zipped = zip(tf_vectorizer.get_feature_names(), component) #taking together tokens' names with components\n",
    "    top_terms_key=sorted(zipped, key = lambda t: t[1], reverse=True)[:10] #top 10 terms per topic\n",
    "    top_terms_list=list(dict(top_terms_key).keys()) #taking only tokens, no weights\n",
    "\n",
    "    print(\"Topic \"+str(index)+\": \",top_terms_list) #prints top 10 tokens per topic"
   ],
   "metadata": {
    "collapsed": false,
    "pycharm": {
     "name": "#%%\n"
    }
   }
  },
  {
   "cell_type": "code",
   "execution_count": 14,
   "outputs": [],
   "source": [
    "lda_output = lda.transform(tf)"
   ],
   "metadata": {
    "collapsed": false,
    "pycharm": {
     "name": "#%%\n"
    }
   }
  },
  {
   "cell_type": "code",
   "execution_count": 15,
   "outputs": [],
   "source": [
    "topics = [f'Topic {i}' for i in range(lda.n_components)]\n",
    "docnames = df.index.tolist()\n",
    "topics_df = pd.DataFrame(lda_output, columns=topics, index=docnames)"
   ],
   "metadata": {
    "collapsed": false,
    "pycharm": {
     "name": "#%%\n"
    }
   }
  },
  {
   "cell_type": "code",
   "execution_count": 16,
   "outputs": [],
   "source": [
    "topics_df['citations'] = df['citations']"
   ],
   "metadata": {
    "collapsed": false,
    "pycharm": {
     "name": "#%%\n"
    }
   }
  },
  {
   "cell_type": "code",
   "execution_count": 17,
   "outputs": [
    {
     "data": {
      "text/plain": "array([-14.78618517, -25.10303218, -22.18794748, -20.6434463 ,\n       -16.85243759])"
     },
     "execution_count": 17,
     "metadata": {},
     "output_type": "execute_result"
    }
   ],
   "source": [
    "xg_model = xgb.XGBRegressor()\n",
    "kf = KFold(n_splits=7)\n",
    "cross_val_score(xg_model, topics_df[[f'Topic {i}' for i in range(lda.n_components)]], topics_df['citations'], scoring='neg_mean_absolute_percentage_error')"
   ],
   "metadata": {
    "collapsed": false,
    "pycharm": {
     "name": "#%%\n"
    }
   }
  },
  {
   "cell_type": "code",
   "execution_count": 18,
   "outputs": [
    {
     "data": {
      "text/plain": "XGBRegressor(base_score=0.5, booster='gbtree', colsample_bylevel=1,\n             colsample_bynode=1, colsample_bytree=1, enable_categorical=False,\n             gamma=0, gpu_id=-1, importance_type=None,\n             interaction_constraints='', learning_rate=0.300000012,\n             max_delta_step=0, max_depth=6, min_child_weight=1, missing=nan,\n             monotone_constraints='()', n_estimators=100, n_jobs=8,\n             num_parallel_tree=1, predictor='auto', random_state=0, reg_alpha=0,\n             reg_lambda=1, scale_pos_weight=1, subsample=1, tree_method='exact',\n             validate_parameters=1, verbosity=None)"
     },
     "execution_count": 18,
     "metadata": {},
     "output_type": "execute_result"
    }
   ],
   "source": [
    "xg_model.fit(topics_df[[f'Topic {i}' for i in range(lda.n_components)]], topics_df['citations'])"
   ],
   "metadata": {
    "collapsed": false,
    "pycharm": {
     "name": "#%%\n"
    }
   }
  },
  {
   "cell_type": "code",
   "execution_count": 21,
   "outputs": [
    {
     "name": "stdout",
     "output_type": "stream",
     "text": [
      "Preparation of a new explainer is initiated\n",
      "\n",
      "  -> data              : 1223 rows 5 cols\n",
      "  -> target variable   : Parameter 'y' was a pandas.Series. Converted to a numpy.ndarray.\n",
      "  -> target variable   : 1223 values\n",
      "  -> model_class       : xgboost.sklearn.XGBRegressor (default)\n",
      "  -> label             : Not specified, model's class short name will be used. (default)\n",
      "  -> predict function  : <function yhat_default at 0x0000018356AAE0D0> will be used (default)\n",
      "  -> predict function  : Accepts pandas.DataFrame and numpy.ndarray.\n",
      "  -> predicted values  : min = -31.6, mean = 84.5, max = 1.16e+04\n",
      "  -> model type        : regression will be used (default)\n",
      "  -> residual function : difference between y and yhat (default)\n",
      "  -> residuals         : min = -89.8, mean = 0.129, max = 1.24e+02\n",
      "  -> model_info        : package xgboost\n",
      "\n",
      "A new explainer has been created!\n"
     ]
    }
   ],
   "source": [
    "exp = dx.Explainer(xg_model, topics_df[['Topic 0', 'Topic 1', 'Topic 2', 'Topic 3', 'Topic 4']], topics_df['citations'])"
   ],
   "metadata": {
    "collapsed": false,
    "pycharm": {
     "name": "#%%\n"
    }
   }
  },
  {
   "cell_type": "code",
   "execution_count": 23,
   "outputs": [
    {
     "name": "stderr",
     "output_type": "stream",
     "text": [
      "Calculating ceteris paribus: 100%|██████████| 5/5 [00:00<00:00, 19.23it/s]\n"
     ]
    }
   ],
   "source": [
    "agg_profiles = exp.model_profile().plot(show=False)\n",
    "agg_profiles.write_html('agg_profiles.html')"
   ],
   "metadata": {
    "collapsed": false,
    "pycharm": {
     "name": "#%%\n"
    }
   }
  },
  {
   "cell_type": "code",
   "execution_count": 24,
   "outputs": [
    {
     "data": {
      "application/vnd.plotly.v1+json": {
       "data": [
        {
         "customdata": [
          [
           94.37490844726562,
           "XGBRegressor",
           "Topic 0"
          ],
          [
           94.37490844726562,
           "XGBRegressor",
           "Topic 0"
          ],
          [
           94.37490844726562,
           "XGBRegressor",
           "Topic 0"
          ],
          [
           94.37490844726562,
           "XGBRegressor",
           "Topic 0"
          ],
          [
           94.37490844726562,
           "XGBRegressor",
           "Topic 0"
          ],
          [
           94.37490844726562,
           "XGBRegressor",
           "Topic 0"
          ],
          [
           94.37490844726562,
           "XGBRegressor",
           "Topic 0"
          ],
          [
           94.37490844726562,
           "XGBRegressor",
           "Topic 0"
          ],
          [
           94.37490844726562,
           "XGBRegressor",
           "Topic 0"
          ],
          [
           94.37490844726562,
           "XGBRegressor",
           "Topic 0"
          ],
          [
           94.37490844726562,
           "XGBRegressor",
           "Topic 0"
          ],
          [
           94.37490844726562,
           "XGBRegressor",
           "Topic 0"
          ],
          [
           94.37490844726562,
           "XGBRegressor",
           "Topic 0"
          ],
          [
           94.37490844726562,
           "XGBRegressor",
           "Topic 0"
          ],
          [
           94.37490844726562,
           "XGBRegressor",
           "Topic 0"
          ],
          [
           94.37490844726562,
           "XGBRegressor",
           "Topic 0"
          ],
          [
           94.37490844726562,
           "XGBRegressor",
           "Topic 0"
          ],
          [
           94.37490844726562,
           "XGBRegressor",
           "Topic 0"
          ],
          [
           94.37490844726562,
           "XGBRegressor",
           "Topic 0"
          ],
          [
           94.37490844726562,
           "XGBRegressor",
           "Topic 0"
          ],
          [
           94.37490844726562,
           "XGBRegressor",
           "Topic 0"
          ],
          [
           94.37490844726562,
           "XGBRegressor",
           "Topic 0"
          ],
          [
           94.37490844726562,
           "XGBRegressor",
           "Topic 0"
          ],
          [
           94.37490844726562,
           "XGBRegressor",
           "Topic 0"
          ],
          [
           94.37490844726562,
           "XGBRegressor",
           "Topic 0"
          ],
          [
           94.37490844726562,
           "XGBRegressor",
           "Topic 0"
          ],
          [
           94.37490844726562,
           "XGBRegressor",
           "Topic 0"
          ],
          [
           94.37490844726562,
           "XGBRegressor",
           "Topic 0"
          ],
          [
           94.37490844726562,
           "XGBRegressor",
           "Topic 0"
          ],
          [
           94.37490844726562,
           "XGBRegressor",
           "Topic 0"
          ],
          [
           94.37490844726562,
           "XGBRegressor",
           "Topic 0"
          ],
          [
           94.37490844726562,
           "XGBRegressor",
           "Topic 0"
          ],
          [
           94.37490844726562,
           "XGBRegressor",
           "Topic 0"
          ],
          [
           94.37490844726562,
           "XGBRegressor",
           "Topic 0"
          ],
          [
           94.37490844726562,
           "XGBRegressor",
           "Topic 0"
          ],
          [
           94.37490844726562,
           "XGBRegressor",
           "Topic 0"
          ],
          [
           94.37490844726562,
           "XGBRegressor",
           "Topic 0"
          ],
          [
           94.37490844726562,
           "XGBRegressor",
           "Topic 0"
          ],
          [
           94.37490844726562,
           "XGBRegressor",
           "Topic 0"
          ],
          [
           94.37490844726562,
           "XGBRegressor",
           "Topic 0"
          ],
          [
           94.37490844726562,
           "XGBRegressor",
           "Topic 0"
          ],
          [
           94.37490844726562,
           "XGBRegressor",
           "Topic 0"
          ],
          [
           94.37490844726562,
           "XGBRegressor",
           "Topic 0"
          ],
          [
           94.37490844726562,
           "XGBRegressor",
           "Topic 0"
          ],
          [
           94.37490844726562,
           "XGBRegressor",
           "Topic 0"
          ],
          [
           94.37490844726562,
           "XGBRegressor",
           "Topic 0"
          ],
          [
           94.37490844726562,
           "XGBRegressor",
           "Topic 0"
          ],
          [
           94.37490844726562,
           "XGBRegressor",
           "Topic 0"
          ],
          [
           94.37490844726562,
           "XGBRegressor",
           "Topic 0"
          ],
          [
           94.37490844726562,
           "XGBRegressor",
           "Topic 0"
          ],
          [
           94.37490844726562,
           "XGBRegressor",
           "Topic 0"
          ],
          [
           94.37490844726562,
           "XGBRegressor",
           "Topic 0"
          ],
          [
           94.37490844726562,
           "XGBRegressor",
           "Topic 0"
          ],
          [
           94.37490844726562,
           "XGBRegressor",
           "Topic 0"
          ],
          [
           94.37490844726562,
           "XGBRegressor",
           "Topic 0"
          ],
          [
           94.37490844726562,
           "XGBRegressor",
           "Topic 0"
          ],
          [
           94.37490844726562,
           "XGBRegressor",
           "Topic 0"
          ],
          [
           94.37490844726562,
           "XGBRegressor",
           "Topic 0"
          ],
          [
           94.37490844726562,
           "XGBRegressor",
           "Topic 0"
          ],
          [
           94.37490844726562,
           "XGBRegressor",
           "Topic 0"
          ],
          [
           94.37490844726562,
           "XGBRegressor",
           "Topic 0"
          ],
          [
           94.37490844726562,
           "XGBRegressor",
           "Topic 0"
          ],
          [
           94.37490844726562,
           "XGBRegressor",
           "Topic 0"
          ],
          [
           94.37490844726562,
           "XGBRegressor",
           "Topic 0"
          ],
          [
           94.37490844726562,
           "XGBRegressor",
           "Topic 0"
          ],
          [
           94.37490844726562,
           "XGBRegressor",
           "Topic 0"
          ],
          [
           94.37490844726562,
           "XGBRegressor",
           "Topic 0"
          ],
          [
           94.37490844726562,
           "XGBRegressor",
           "Topic 0"
          ],
          [
           94.37490844726562,
           "XGBRegressor",
           "Topic 0"
          ],
          [
           94.37490844726562,
           "XGBRegressor",
           "Topic 0"
          ],
          [
           94.37490844726562,
           "XGBRegressor",
           "Topic 0"
          ],
          [
           94.37490844726562,
           "XGBRegressor",
           "Topic 0"
          ],
          [
           94.37490844726562,
           "XGBRegressor",
           "Topic 0"
          ],
          [
           94.37490844726562,
           "XGBRegressor",
           "Topic 0"
          ],
          [
           94.37490844726562,
           "XGBRegressor",
           "Topic 0"
          ],
          [
           94.37490844726562,
           "XGBRegressor",
           "Topic 0"
          ],
          [
           94.37490844726562,
           "XGBRegressor",
           "Topic 0"
          ],
          [
           94.37490844726562,
           "XGBRegressor",
           "Topic 0"
          ],
          [
           94.37490844726562,
           "XGBRegressor",
           "Topic 0"
          ],
          [
           94.37490844726562,
           "XGBRegressor",
           "Topic 0"
          ],
          [
           94.37490844726562,
           "XGBRegressor",
           "Topic 0"
          ],
          [
           94.37490844726562,
           "XGBRegressor",
           "Topic 0"
          ],
          [
           94.37490844726562,
           "XGBRegressor",
           "Topic 0"
          ],
          [
           94.37490844726562,
           "XGBRegressor",
           "Topic 0"
          ],
          [
           94.37490844726562,
           "XGBRegressor",
           "Topic 0"
          ],
          [
           94.37490844726562,
           "XGBRegressor",
           "Topic 0"
          ],
          [
           94.37490844726562,
           "XGBRegressor",
           "Topic 0"
          ],
          [
           94.37490844726562,
           "XGBRegressor",
           "Topic 0"
          ],
          [
           94.37490844726562,
           "XGBRegressor",
           "Topic 0"
          ],
          [
           94.37490844726562,
           "XGBRegressor",
           "Topic 0"
          ],
          [
           94.37490844726562,
           "XGBRegressor",
           "Topic 0"
          ],
          [
           94.37490844726562,
           "XGBRegressor",
           "Topic 0"
          ],
          [
           94.37490844726562,
           "XGBRegressor",
           "Topic 0"
          ],
          [
           94.37490844726562,
           "XGBRegressor",
           "Topic 0"
          ],
          [
           94.37490844726562,
           "XGBRegressor",
           "Topic 0"
          ],
          [
           94.37490844726562,
           "XGBRegressor",
           "Topic 0"
          ],
          [
           94.37490844726562,
           "XGBRegressor",
           "Topic 0"
          ],
          [
           94.37490844726562,
           "XGBRegressor",
           "Topic 0"
          ],
          [
           94.37490844726562,
           "XGBRegressor",
           "Topic 0"
          ],
          [
           94.37490844726562,
           "XGBRegressor",
           "Topic 0"
          ],
          [
           94.37490844726562,
           "XGBRegressor",
           "Topic 0"
          ]
         ],
         "hovertemplate": "<b>%{hovertext}</b><br><br>prediction=%{y:.3f}<br>mean_prediction=%{customdata[0]:.3f}<extra></extra>",
         "hovertext": [
          "XGBRegressor",
          "XGBRegressor",
          "XGBRegressor",
          "XGBRegressor",
          "XGBRegressor",
          "XGBRegressor",
          "XGBRegressor",
          "XGBRegressor",
          "XGBRegressor",
          "XGBRegressor",
          "XGBRegressor",
          "XGBRegressor",
          "XGBRegressor",
          "XGBRegressor",
          "XGBRegressor",
          "XGBRegressor",
          "XGBRegressor",
          "XGBRegressor",
          "XGBRegressor",
          "XGBRegressor",
          "XGBRegressor",
          "XGBRegressor",
          "XGBRegressor",
          "XGBRegressor",
          "XGBRegressor",
          "XGBRegressor",
          "XGBRegressor",
          "XGBRegressor",
          "XGBRegressor",
          "XGBRegressor",
          "XGBRegressor",
          "XGBRegressor",
          "XGBRegressor",
          "XGBRegressor",
          "XGBRegressor",
          "XGBRegressor",
          "XGBRegressor",
          "XGBRegressor",
          "XGBRegressor",
          "XGBRegressor",
          "XGBRegressor",
          "XGBRegressor",
          "XGBRegressor",
          "XGBRegressor",
          "XGBRegressor",
          "XGBRegressor",
          "XGBRegressor",
          "XGBRegressor",
          "XGBRegressor",
          "XGBRegressor",
          "XGBRegressor",
          "XGBRegressor",
          "XGBRegressor",
          "XGBRegressor",
          "XGBRegressor",
          "XGBRegressor",
          "XGBRegressor",
          "XGBRegressor",
          "XGBRegressor",
          "XGBRegressor",
          "XGBRegressor",
          "XGBRegressor",
          "XGBRegressor",
          "XGBRegressor",
          "XGBRegressor",
          "XGBRegressor",
          "XGBRegressor",
          "XGBRegressor",
          "XGBRegressor",
          "XGBRegressor",
          "XGBRegressor",
          "XGBRegressor",
          "XGBRegressor",
          "XGBRegressor",
          "XGBRegressor",
          "XGBRegressor",
          "XGBRegressor",
          "XGBRegressor",
          "XGBRegressor",
          "XGBRegressor",
          "XGBRegressor",
          "XGBRegressor",
          "XGBRegressor",
          "XGBRegressor",
          "XGBRegressor",
          "XGBRegressor",
          "XGBRegressor",
          "XGBRegressor",
          "XGBRegressor",
          "XGBRegressor",
          "XGBRegressor",
          "XGBRegressor",
          "XGBRegressor",
          "XGBRegressor",
          "XGBRegressor",
          "XGBRegressor",
          "XGBRegressor",
          "XGBRegressor",
          "XGBRegressor",
          "XGBRegressor",
          "XGBRegressor"
         ],
         "legendgroup": "XGBRegressor",
         "line": {
          "color": "#46bac2",
          "dash": "solid",
          "width": 2
         },
         "marker": {
          "symbol": "circle"
         },
         "mode": "lines",
         "name": "XGBRegressor",
         "orientation": "v",
         "showlegend": true,
         "x": [
          7.237062305315275E-6,
          0.010006113762948597,
          0.020004990463591877,
          0.030003867164235157,
          0.04000274386487844,
          0.05000162056552172,
          0.060000497266165,
          0.06999937396680829,
          0.07999825066745157,
          0.08999712736809486,
          0.09999600406873814,
          0.10999488076938142,
          0.11999375747002469,
          0.12999263417066798,
          0.13999151087131126,
          0.14999038757195454,
          0.15998926427259783,
          0.1699881409732411,
          0.1799870176738844,
          0.18998589437452768,
          0.19998477107517096,
          0.20998364777581424,
          0.21998252447645752,
          0.2299814011771008,
          0.23998027787774406,
          0.24997915457838735,
          0.25997803127903063,
          0.26997690797967394,
          0.2799757846803172,
          0.2899746613809605,
          0.29997353808160376,
          0.3099724147822471,
          0.31997129148289033,
          0.3299701681835336,
          0.3399690448841769,
          0.34996792158482015,
          0.35996679828546346,
          0.3699656749861067,
          0.37996455168675003,
          0.3899634283873933,
          0.3999623050880366,
          0.40996118178867985,
          0.41996005848932316,
          0.4299589351899664,
          0.43995781189060973,
          0.449956688591253,
          0.4599555652918963,
          0.46995444199253955,
          0.4799533186931828,
          0.4899521953938261,
          0.4999510720944694,
          0.5099499487951127,
          0.5199488254957559,
          0.5299477021963992,
          0.5399465788970426,
          0.5499454555976858,
          0.5599443322983291,
          0.5699432089989723,
          0.5799420856996157,
          0.589940962400259,
          0.5999398391009022,
          0.6099387158015455,
          0.6199375925021888,
          0.6299364692028321,
          0.6399353459034753,
          0.6499342226041186,
          0.6599330993047618,
          0.6699319760054052,
          0.6799308527060485,
          0.6899297294066917,
          0.699928606107335,
          0.7099274828079783,
          0.7199263595086216,
          0.7299252362092649,
          0.7399241129099081,
          0.7499229896105515,
          0.7599218663111947,
          0.769920743011838,
          0.7799196197124812,
          0.7899184964131246,
          0.7999173731137679,
          0.8099162498144111,
          0.8199151265150544,
          0.8299140032156976,
          0.839912879916341,
          0.8499117566169843,
          0.8599106333176275,
          0.8699095100182708,
          0.8799083867189141,
          0.8899072634195574,
          0.8999061401202006,
          0.9099050168208439,
          0.9199038935214873,
          0.9299027702221305,
          0.9399016469227738,
          0.949900523623417,
          0.9598994003240603,
          0.9698982770247037,
          0.9798971537253469,
          0.9898960304259902,
          0.9998949071266335
         ],
         "xaxis": "x5",
         "y": [
          194.1370849609375,
          84.08800506591797,
          84.50299835205078,
          69.33084869384766,
          63.91572570800781,
          79.3224105834961,
          78.25456237792969,
          83.02977752685547,
          79.12567138671875,
          87.5156021118164,
          88.64777374267578,
          107.91526794433594,
          134.61997985839844,
          118.11738586425781,
          100.9284896850586,
          96.82703399658203,
          99.12889862060547,
          99.288818359375,
          102.03943634033203,
          101.77183532714844,
          101.77183532714844,
          101.7125015258789,
          128.58609008789062,
          91.9583969116211,
          92.88755798339844,
          93.2413558959961,
          104.52444458007812,
          106.59869384765625,
          99.96742248535156,
          98.06562805175781,
          87.22843170166016,
          86.98582458496094,
          87.48211669921875,
          88.8658218383789,
          88.70359802246094,
          91.07182312011719,
          92.23037719726562,
          114.08766174316406,
          96.26631927490234,
          96.5149917602539,
          96.44908142089844,
          97.34119415283203,
          97.55733489990234,
          97.55733489990234,
          105.33056640625,
          105.33056640625,
          108.37555694580078,
          121.302001953125,
          120.27398681640625,
          117.70316314697266,
          124.59774017333984,
          128.09823608398438,
          128.22647094726562,
          127.87586975097656,
          178.70513916015625,
          207.57659912109375,
          166.00926208496094,
          164.9799041748047,
          133.1215362548828,
          132.90028381347656,
          132.66232299804688,
          389.7416076660156,
          265.7745666503906,
          268.2803955078125,
          268.3336486816406,
          203.8934326171875,
          282.14764404296875,
          258.84747314453125,
          262.3837890625,
          263.28973388671875,
          260.2310485839844,
          260.2310485839844,
          258.1756286621094,
          262.5125427246094,
          262.60272216796875,
          263.5466613769531,
          263.5271911621094,
          287.7020568847656,
          296.8049621582031,
          292.0516357421875,
          292.3488464355469,
          315.3274230957031,
          333.40625,
          333.47625732421875,
          333.47625732421875,
          334.5641174316406,
          336.9259948730469,
          336.9410095214844,
          336.97802734375,
          344.1163330078125,
          486.4453430175781,
          322.5518493652344,
          324.521484375,
          353.5417785644531,
          336.5341796875,
          330.408935546875,
          325.14617919921875,
          323.5157165527344,
          323.5157165527344,
          347.5016174316406,
          334.3361511230469
         ],
         "yaxis": "y5",
         "type": "scatter",
         "opacity": 1
        },
        {
         "customdata": [
          [
           94.37490844726562,
           "XGBRegressor",
           "Topic 1"
          ],
          [
           94.37490844726562,
           "XGBRegressor",
           "Topic 1"
          ],
          [
           94.37490844726562,
           "XGBRegressor",
           "Topic 1"
          ],
          [
           94.37490844726562,
           "XGBRegressor",
           "Topic 1"
          ],
          [
           94.37490844726562,
           "XGBRegressor",
           "Topic 1"
          ],
          [
           94.37490844726562,
           "XGBRegressor",
           "Topic 1"
          ],
          [
           94.37490844726562,
           "XGBRegressor",
           "Topic 1"
          ],
          [
           94.37490844726562,
           "XGBRegressor",
           "Topic 1"
          ],
          [
           94.37490844726562,
           "XGBRegressor",
           "Topic 1"
          ],
          [
           94.37490844726562,
           "XGBRegressor",
           "Topic 1"
          ],
          [
           94.37490844726562,
           "XGBRegressor",
           "Topic 1"
          ],
          [
           94.37490844726562,
           "XGBRegressor",
           "Topic 1"
          ],
          [
           94.37490844726562,
           "XGBRegressor",
           "Topic 1"
          ],
          [
           94.37490844726562,
           "XGBRegressor",
           "Topic 1"
          ],
          [
           94.37490844726562,
           "XGBRegressor",
           "Topic 1"
          ],
          [
           94.37490844726562,
           "XGBRegressor",
           "Topic 1"
          ],
          [
           94.37490844726562,
           "XGBRegressor",
           "Topic 1"
          ],
          [
           94.37490844726562,
           "XGBRegressor",
           "Topic 1"
          ],
          [
           94.37490844726562,
           "XGBRegressor",
           "Topic 1"
          ],
          [
           94.37490844726562,
           "XGBRegressor",
           "Topic 1"
          ],
          [
           94.37490844726562,
           "XGBRegressor",
           "Topic 1"
          ],
          [
           94.37490844726562,
           "XGBRegressor",
           "Topic 1"
          ],
          [
           94.37490844726562,
           "XGBRegressor",
           "Topic 1"
          ],
          [
           94.37490844726562,
           "XGBRegressor",
           "Topic 1"
          ],
          [
           94.37490844726562,
           "XGBRegressor",
           "Topic 1"
          ],
          [
           94.37490844726562,
           "XGBRegressor",
           "Topic 1"
          ],
          [
           94.37490844726562,
           "XGBRegressor",
           "Topic 1"
          ],
          [
           94.37490844726562,
           "XGBRegressor",
           "Topic 1"
          ],
          [
           94.37490844726562,
           "XGBRegressor",
           "Topic 1"
          ],
          [
           94.37490844726562,
           "XGBRegressor",
           "Topic 1"
          ],
          [
           94.37490844726562,
           "XGBRegressor",
           "Topic 1"
          ],
          [
           94.37490844726562,
           "XGBRegressor",
           "Topic 1"
          ],
          [
           94.37490844726562,
           "XGBRegressor",
           "Topic 1"
          ],
          [
           94.37490844726562,
           "XGBRegressor",
           "Topic 1"
          ],
          [
           94.37490844726562,
           "XGBRegressor",
           "Topic 1"
          ],
          [
           94.37490844726562,
           "XGBRegressor",
           "Topic 1"
          ],
          [
           94.37490844726562,
           "XGBRegressor",
           "Topic 1"
          ],
          [
           94.37490844726562,
           "XGBRegressor",
           "Topic 1"
          ],
          [
           94.37490844726562,
           "XGBRegressor",
           "Topic 1"
          ],
          [
           94.37490844726562,
           "XGBRegressor",
           "Topic 1"
          ],
          [
           94.37490844726562,
           "XGBRegressor",
           "Topic 1"
          ],
          [
           94.37490844726562,
           "XGBRegressor",
           "Topic 1"
          ],
          [
           94.37490844726562,
           "XGBRegressor",
           "Topic 1"
          ],
          [
           94.37490844726562,
           "XGBRegressor",
           "Topic 1"
          ],
          [
           94.37490844726562,
           "XGBRegressor",
           "Topic 1"
          ],
          [
           94.37490844726562,
           "XGBRegressor",
           "Topic 1"
          ],
          [
           94.37490844726562,
           "XGBRegressor",
           "Topic 1"
          ],
          [
           94.37490844726562,
           "XGBRegressor",
           "Topic 1"
          ],
          [
           94.37490844726562,
           "XGBRegressor",
           "Topic 1"
          ],
          [
           94.37490844726562,
           "XGBRegressor",
           "Topic 1"
          ],
          [
           94.37490844726562,
           "XGBRegressor",
           "Topic 1"
          ],
          [
           94.37490844726562,
           "XGBRegressor",
           "Topic 1"
          ],
          [
           94.37490844726562,
           "XGBRegressor",
           "Topic 1"
          ],
          [
           94.37490844726562,
           "XGBRegressor",
           "Topic 1"
          ],
          [
           94.37490844726562,
           "XGBRegressor",
           "Topic 1"
          ],
          [
           94.37490844726562,
           "XGBRegressor",
           "Topic 1"
          ],
          [
           94.37490844726562,
           "XGBRegressor",
           "Topic 1"
          ],
          [
           94.37490844726562,
           "XGBRegressor",
           "Topic 1"
          ],
          [
           94.37490844726562,
           "XGBRegressor",
           "Topic 1"
          ],
          [
           94.37490844726562,
           "XGBRegressor",
           "Topic 1"
          ],
          [
           94.37490844726562,
           "XGBRegressor",
           "Topic 1"
          ],
          [
           94.37490844726562,
           "XGBRegressor",
           "Topic 1"
          ],
          [
           94.37490844726562,
           "XGBRegressor",
           "Topic 1"
          ],
          [
           94.37490844726562,
           "XGBRegressor",
           "Topic 1"
          ],
          [
           94.37490844726562,
           "XGBRegressor",
           "Topic 1"
          ],
          [
           94.37490844726562,
           "XGBRegressor",
           "Topic 1"
          ],
          [
           94.37490844726562,
           "XGBRegressor",
           "Topic 1"
          ],
          [
           94.37490844726562,
           "XGBRegressor",
           "Topic 1"
          ],
          [
           94.37490844726562,
           "XGBRegressor",
           "Topic 1"
          ],
          [
           94.37490844726562,
           "XGBRegressor",
           "Topic 1"
          ],
          [
           94.37490844726562,
           "XGBRegressor",
           "Topic 1"
          ],
          [
           94.37490844726562,
           "XGBRegressor",
           "Topic 1"
          ],
          [
           94.37490844726562,
           "XGBRegressor",
           "Topic 1"
          ],
          [
           94.37490844726562,
           "XGBRegressor",
           "Topic 1"
          ],
          [
           94.37490844726562,
           "XGBRegressor",
           "Topic 1"
          ],
          [
           94.37490844726562,
           "XGBRegressor",
           "Topic 1"
          ],
          [
           94.37490844726562,
           "XGBRegressor",
           "Topic 1"
          ],
          [
           94.37490844726562,
           "XGBRegressor",
           "Topic 1"
          ],
          [
           94.37490844726562,
           "XGBRegressor",
           "Topic 1"
          ],
          [
           94.37490844726562,
           "XGBRegressor",
           "Topic 1"
          ],
          [
           94.37490844726562,
           "XGBRegressor",
           "Topic 1"
          ],
          [
           94.37490844726562,
           "XGBRegressor",
           "Topic 1"
          ],
          [
           94.37490844726562,
           "XGBRegressor",
           "Topic 1"
          ],
          [
           94.37490844726562,
           "XGBRegressor",
           "Topic 1"
          ],
          [
           94.37490844726562,
           "XGBRegressor",
           "Topic 1"
          ],
          [
           94.37490844726562,
           "XGBRegressor",
           "Topic 1"
          ],
          [
           94.37490844726562,
           "XGBRegressor",
           "Topic 1"
          ],
          [
           94.37490844726562,
           "XGBRegressor",
           "Topic 1"
          ],
          [
           94.37490844726562,
           "XGBRegressor",
           "Topic 1"
          ],
          [
           94.37490844726562,
           "XGBRegressor",
           "Topic 1"
          ],
          [
           94.37490844726562,
           "XGBRegressor",
           "Topic 1"
          ],
          [
           94.37490844726562,
           "XGBRegressor",
           "Topic 1"
          ],
          [
           94.37490844726562,
           "XGBRegressor",
           "Topic 1"
          ],
          [
           94.37490844726562,
           "XGBRegressor",
           "Topic 1"
          ],
          [
           94.37490844726562,
           "XGBRegressor",
           "Topic 1"
          ],
          [
           94.37490844726562,
           "XGBRegressor",
           "Topic 1"
          ],
          [
           94.37490844726562,
           "XGBRegressor",
           "Topic 1"
          ],
          [
           94.37490844726562,
           "XGBRegressor",
           "Topic 1"
          ],
          [
           94.37490844726562,
           "XGBRegressor",
           "Topic 1"
          ],
          [
           94.37490844726562,
           "XGBRegressor",
           "Topic 1"
          ],
          [
           94.37490844726562,
           "XGBRegressor",
           "Topic 1"
          ]
         ],
         "hovertemplate": "<b>%{hovertext}</b><br><br>prediction=%{y:.3f}<br>mean_prediction=%{customdata[0]:.3f}<extra></extra>",
         "hovertext": [
          "XGBRegressor",
          "XGBRegressor",
          "XGBRegressor",
          "XGBRegressor",
          "XGBRegressor",
          "XGBRegressor",
          "XGBRegressor",
          "XGBRegressor",
          "XGBRegressor",
          "XGBRegressor",
          "XGBRegressor",
          "XGBRegressor",
          "XGBRegressor",
          "XGBRegressor",
          "XGBRegressor",
          "XGBRegressor",
          "XGBRegressor",
          "XGBRegressor",
          "XGBRegressor",
          "XGBRegressor",
          "XGBRegressor",
          "XGBRegressor",
          "XGBRegressor",
          "XGBRegressor",
          "XGBRegressor",
          "XGBRegressor",
          "XGBRegressor",
          "XGBRegressor",
          "XGBRegressor",
          "XGBRegressor",
          "XGBRegressor",
          "XGBRegressor",
          "XGBRegressor",
          "XGBRegressor",
          "XGBRegressor",
          "XGBRegressor",
          "XGBRegressor",
          "XGBRegressor",
          "XGBRegressor",
          "XGBRegressor",
          "XGBRegressor",
          "XGBRegressor",
          "XGBRegressor",
          "XGBRegressor",
          "XGBRegressor",
          "XGBRegressor",
          "XGBRegressor",
          "XGBRegressor",
          "XGBRegressor",
          "XGBRegressor",
          "XGBRegressor",
          "XGBRegressor",
          "XGBRegressor",
          "XGBRegressor",
          "XGBRegressor",
          "XGBRegressor",
          "XGBRegressor",
          "XGBRegressor",
          "XGBRegressor",
          "XGBRegressor",
          "XGBRegressor",
          "XGBRegressor",
          "XGBRegressor",
          "XGBRegressor",
          "XGBRegressor",
          "XGBRegressor",
          "XGBRegressor",
          "XGBRegressor",
          "XGBRegressor",
          "XGBRegressor",
          "XGBRegressor",
          "XGBRegressor",
          "XGBRegressor",
          "XGBRegressor",
          "XGBRegressor",
          "XGBRegressor",
          "XGBRegressor",
          "XGBRegressor",
          "XGBRegressor",
          "XGBRegressor",
          "XGBRegressor",
          "XGBRegressor",
          "XGBRegressor",
          "XGBRegressor",
          "XGBRegressor",
          "XGBRegressor",
          "XGBRegressor",
          "XGBRegressor",
          "XGBRegressor",
          "XGBRegressor",
          "XGBRegressor",
          "XGBRegressor",
          "XGBRegressor",
          "XGBRegressor",
          "XGBRegressor",
          "XGBRegressor",
          "XGBRegressor",
          "XGBRegressor",
          "XGBRegressor",
          "XGBRegressor",
          "XGBRegressor"
         ],
         "legendgroup": "XGBRegressor",
         "line": {
          "color": "#46bac2",
          "dash": "solid",
          "width": 2
         },
         "marker": {
          "symbol": "circle"
         },
         "mode": "lines",
         "name": "XGBRegressor",
         "orientation": "v",
         "showlegend": false,
         "x": [
          6.470889395355169E-6,
          0.010006042237337254,
          0.02000561358527915,
          0.03000518493322105,
          0.04000475628116295,
          0.050004327629104846,
          0.06000389897704675,
          0.07000347032498865,
          0.08000304167293054,
          0.09000261302087244,
          0.10000218436881433,
          0.11000175571675623,
          0.12000132706469814,
          0.13000089841264,
          0.14000046976058192,
          0.1500000411085238,
          0.1599996124564657,
          0.16999918380440762,
          0.1799987551523495,
          0.18999832650029141,
          0.1999978978482333,
          0.2099974691961752,
          0.2199970405441171,
          0.229996611892059,
          0.2399961832400009,
          0.2499957545879428,
          0.2599953259358847,
          0.26999489728382664,
          0.2799944686317685,
          0.2899940399797104,
          0.2999936113276523,
          0.3099931826755942,
          0.3199927540235361,
          0.329992325371478,
          0.33999189671941993,
          0.3499914680673618,
          0.3599910394153037,
          0.3699906107632456,
          0.3799901821111875,
          0.3899897534591294,
          0.3999893248070713,
          0.4099888961550132,
          0.4199884675029551,
          0.429988038850897,
          0.43998761019883886,
          0.4499871815467808,
          0.4599867528947227,
          0.46998632424266457,
          0.4799858955906065,
          0.4899854669385484,
          0.49998503828649027,
          0.5099846096344322,
          0.519984180982374,
          0.5299837523303159,
          0.5399833236782579,
          0.5499828950261997,
          0.5599824663741416,
          0.5699820377220836,
          0.5799816090700254,
          0.5899811804179673,
          0.5999807517659091,
          0.6099803231138511,
          0.619979894461793,
          0.6299794658097349,
          0.6399790371576768,
          0.6499786085056187,
          0.6599781798535606,
          0.6699777512015025,
          0.6799773225494444,
          0.6899768938973863,
          0.6999764652453282,
          0.70997603659327,
          0.719975607941212,
          0.7299751792891539,
          0.7399747506370957,
          0.7499743219850377,
          0.7599738933329796,
          0.7699734646809214,
          0.7799730360288634,
          0.7899726073768053,
          0.7999721787247471,
          0.8099717500726891,
          0.819971321420631,
          0.8299708927685728,
          0.8399704641165148,
          0.8499700354644566,
          0.8599696068123985,
          0.8699691781603405,
          0.8799687495082823,
          0.8899683208562242,
          0.8999678922041662,
          0.909967463552108,
          0.9199670349000499,
          0.9299666062479919,
          0.9399661775959337,
          0.9499657489438756,
          0.9599653202918176,
          0.9699648916397594,
          0.9799644629877013,
          0.9899640343356432,
          0.9999636056835851
         ],
         "xaxis": "x6",
         "y": [
          191.70274353027344,
          74.57281494140625,
          78.00859832763672,
          78.83052062988281,
          80.44112396240234,
          81.72711181640625,
          101.56913757324219,
          72.82884979248047,
          71.59014129638672,
          82.9775161743164,
          79.79690551757812,
          86.92451477050781,
          78.29385375976562,
          108.23396301269531,
          137.9635009765625,
          98.86568450927734,
          209.00714111328125,
          93.0016860961914,
          97.00643157958984,
          96.82549285888672,
          98.596435546875,
          95.9073257446289,
          95.84580993652344,
          96.06920623779297,
          95.72727966308594,
          92.59158325195312,
          91.85468292236328,
          91.1737289428711,
          182.66334533691406,
          220.12303161621094,
          101.34197998046875,
          97.18206787109375,
          99.81375122070312,
          99.85247039794922,
          99.85247039794922,
          100.08650970458984,
          100.32353210449219,
          102.0972671508789,
          102.0972671508789,
          102.0972671508789,
          102.06889343261719,
          99.83869934082031,
          100.10440826416016,
          104.982666015625,
          105.34969329833984,
          103.78791046142578,
          100.57991790771484,
          100.30797576904297,
          102.70674133300781,
          102.71147918701172,
          102.71147918701172,
          102.54694366455078,
          97.28961944580078,
          97.48464965820312,
          97.32859802246094,
          97.09661102294922,
          97.21117401123047,
          97.21117401123047,
          94.71959686279297,
          94.71959686279297,
          97.87793731689453,
          98.65481567382812,
          125.72813415527344,
          125.58810424804688,
          125.6584701538086,
          125.61658477783203,
          114.14625549316406,
          114.14625549316406,
          131.69305419921875,
          99.7751235961914,
          99.7751235961914,
          95.4659652709961,
          104.35579681396484,
          97.50009155273438,
          97.50009155273438,
          93.24597930908203,
          93.24597930908203,
          93.28807067871094,
          109.53193664550781,
          228.91021728515625,
          209.68890380859375,
          194.71633911132812,
          192.57948303222656,
          204.78622436523438,
          198.77020263671875,
          206.22987365722656,
          244.43568420410156,
          244.55282592773438,
          250.71170043945312,
          250.71966552734375,
          251.4053192138672,
          251.40151977539062,
          251.40151977539062,
          236.01658630371094,
          248.623291015625,
          248.578369140625,
          243.177978515625,
          243.39788818359375,
          252.8394012451172,
          283.6771545410156,
          328.9796447753906
         ],
         "yaxis": "y6",
         "type": "scatter",
         "opacity": 1
        },
        {
         "customdata": [
          [
           94.37490844726562,
           "XGBRegressor",
           "Topic 2"
          ],
          [
           94.37490844726562,
           "XGBRegressor",
           "Topic 2"
          ],
          [
           94.37490844726562,
           "XGBRegressor",
           "Topic 2"
          ],
          [
           94.37490844726562,
           "XGBRegressor",
           "Topic 2"
          ],
          [
           94.37490844726562,
           "XGBRegressor",
           "Topic 2"
          ],
          [
           94.37490844726562,
           "XGBRegressor",
           "Topic 2"
          ],
          [
           94.37490844726562,
           "XGBRegressor",
           "Topic 2"
          ],
          [
           94.37490844726562,
           "XGBRegressor",
           "Topic 2"
          ],
          [
           94.37490844726562,
           "XGBRegressor",
           "Topic 2"
          ],
          [
           94.37490844726562,
           "XGBRegressor",
           "Topic 2"
          ],
          [
           94.37490844726562,
           "XGBRegressor",
           "Topic 2"
          ],
          [
           94.37490844726562,
           "XGBRegressor",
           "Topic 2"
          ],
          [
           94.37490844726562,
           "XGBRegressor",
           "Topic 2"
          ],
          [
           94.37490844726562,
           "XGBRegressor",
           "Topic 2"
          ],
          [
           94.37490844726562,
           "XGBRegressor",
           "Topic 2"
          ],
          [
           94.37490844726562,
           "XGBRegressor",
           "Topic 2"
          ],
          [
           94.37490844726562,
           "XGBRegressor",
           "Topic 2"
          ],
          [
           94.37490844726562,
           "XGBRegressor",
           "Topic 2"
          ],
          [
           94.37490844726562,
           "XGBRegressor",
           "Topic 2"
          ],
          [
           94.37490844726562,
           "XGBRegressor",
           "Topic 2"
          ],
          [
           94.37490844726562,
           "XGBRegressor",
           "Topic 2"
          ],
          [
           94.37490844726562,
           "XGBRegressor",
           "Topic 2"
          ],
          [
           94.37490844726562,
           "XGBRegressor",
           "Topic 2"
          ],
          [
           94.37490844726562,
           "XGBRegressor",
           "Topic 2"
          ],
          [
           94.37490844726562,
           "XGBRegressor",
           "Topic 2"
          ],
          [
           94.37490844726562,
           "XGBRegressor",
           "Topic 2"
          ],
          [
           94.37490844726562,
           "XGBRegressor",
           "Topic 2"
          ],
          [
           94.37490844726562,
           "XGBRegressor",
           "Topic 2"
          ],
          [
           94.37490844726562,
           "XGBRegressor",
           "Topic 2"
          ],
          [
           94.37490844726562,
           "XGBRegressor",
           "Topic 2"
          ],
          [
           94.37490844726562,
           "XGBRegressor",
           "Topic 2"
          ],
          [
           94.37490844726562,
           "XGBRegressor",
           "Topic 2"
          ],
          [
           94.37490844726562,
           "XGBRegressor",
           "Topic 2"
          ],
          [
           94.37490844726562,
           "XGBRegressor",
           "Topic 2"
          ],
          [
           94.37490844726562,
           "XGBRegressor",
           "Topic 2"
          ],
          [
           94.37490844726562,
           "XGBRegressor",
           "Topic 2"
          ],
          [
           94.37490844726562,
           "XGBRegressor",
           "Topic 2"
          ],
          [
           94.37490844726562,
           "XGBRegressor",
           "Topic 2"
          ],
          [
           94.37490844726562,
           "XGBRegressor",
           "Topic 2"
          ],
          [
           94.37490844726562,
           "XGBRegressor",
           "Topic 2"
          ],
          [
           94.37490844726562,
           "XGBRegressor",
           "Topic 2"
          ],
          [
           94.37490844726562,
           "XGBRegressor",
           "Topic 2"
          ],
          [
           94.37490844726562,
           "XGBRegressor",
           "Topic 2"
          ],
          [
           94.37490844726562,
           "XGBRegressor",
           "Topic 2"
          ],
          [
           94.37490844726562,
           "XGBRegressor",
           "Topic 2"
          ],
          [
           94.37490844726562,
           "XGBRegressor",
           "Topic 2"
          ],
          [
           94.37490844726562,
           "XGBRegressor",
           "Topic 2"
          ],
          [
           94.37490844726562,
           "XGBRegressor",
           "Topic 2"
          ],
          [
           94.37490844726562,
           "XGBRegressor",
           "Topic 2"
          ],
          [
           94.37490844726562,
           "XGBRegressor",
           "Topic 2"
          ],
          [
           94.37490844726562,
           "XGBRegressor",
           "Topic 2"
          ],
          [
           94.37490844726562,
           "XGBRegressor",
           "Topic 2"
          ],
          [
           94.37490844726562,
           "XGBRegressor",
           "Topic 2"
          ],
          [
           94.37490844726562,
           "XGBRegressor",
           "Topic 2"
          ],
          [
           94.37490844726562,
           "XGBRegressor",
           "Topic 2"
          ],
          [
           94.37490844726562,
           "XGBRegressor",
           "Topic 2"
          ],
          [
           94.37490844726562,
           "XGBRegressor",
           "Topic 2"
          ],
          [
           94.37490844726562,
           "XGBRegressor",
           "Topic 2"
          ],
          [
           94.37490844726562,
           "XGBRegressor",
           "Topic 2"
          ],
          [
           94.37490844726562,
           "XGBRegressor",
           "Topic 2"
          ],
          [
           94.37490844726562,
           "XGBRegressor",
           "Topic 2"
          ],
          [
           94.37490844726562,
           "XGBRegressor",
           "Topic 2"
          ],
          [
           94.37490844726562,
           "XGBRegressor",
           "Topic 2"
          ],
          [
           94.37490844726562,
           "XGBRegressor",
           "Topic 2"
          ],
          [
           94.37490844726562,
           "XGBRegressor",
           "Topic 2"
          ],
          [
           94.37490844726562,
           "XGBRegressor",
           "Topic 2"
          ],
          [
           94.37490844726562,
           "XGBRegressor",
           "Topic 2"
          ],
          [
           94.37490844726562,
           "XGBRegressor",
           "Topic 2"
          ],
          [
           94.37490844726562,
           "XGBRegressor",
           "Topic 2"
          ],
          [
           94.37490844726562,
           "XGBRegressor",
           "Topic 2"
          ],
          [
           94.37490844726562,
           "XGBRegressor",
           "Topic 2"
          ],
          [
           94.37490844726562,
           "XGBRegressor",
           "Topic 2"
          ],
          [
           94.37490844726562,
           "XGBRegressor",
           "Topic 2"
          ],
          [
           94.37490844726562,
           "XGBRegressor",
           "Topic 2"
          ],
          [
           94.37490844726562,
           "XGBRegressor",
           "Topic 2"
          ],
          [
           94.37490844726562,
           "XGBRegressor",
           "Topic 2"
          ],
          [
           94.37490844726562,
           "XGBRegressor",
           "Topic 2"
          ],
          [
           94.37490844726562,
           "XGBRegressor",
           "Topic 2"
          ],
          [
           94.37490844726562,
           "XGBRegressor",
           "Topic 2"
          ],
          [
           94.37490844726562,
           "XGBRegressor",
           "Topic 2"
          ],
          [
           94.37490844726562,
           "XGBRegressor",
           "Topic 2"
          ],
          [
           94.37490844726562,
           "XGBRegressor",
           "Topic 2"
          ],
          [
           94.37490844726562,
           "XGBRegressor",
           "Topic 2"
          ],
          [
           94.37490844726562,
           "XGBRegressor",
           "Topic 2"
          ],
          [
           94.37490844726562,
           "XGBRegressor",
           "Topic 2"
          ],
          [
           94.37490844726562,
           "XGBRegressor",
           "Topic 2"
          ],
          [
           94.37490844726562,
           "XGBRegressor",
           "Topic 2"
          ],
          [
           94.37490844726562,
           "XGBRegressor",
           "Topic 2"
          ],
          [
           94.37490844726562,
           "XGBRegressor",
           "Topic 2"
          ],
          [
           94.37490844726562,
           "XGBRegressor",
           "Topic 2"
          ],
          [
           94.37490844726562,
           "XGBRegressor",
           "Topic 2"
          ],
          [
           94.37490844726562,
           "XGBRegressor",
           "Topic 2"
          ],
          [
           94.37490844726562,
           "XGBRegressor",
           "Topic 2"
          ],
          [
           94.37490844726562,
           "XGBRegressor",
           "Topic 2"
          ],
          [
           94.37490844726562,
           "XGBRegressor",
           "Topic 2"
          ],
          [
           94.37490844726562,
           "XGBRegressor",
           "Topic 2"
          ],
          [
           94.37490844726562,
           "XGBRegressor",
           "Topic 2"
          ],
          [
           94.37490844726562,
           "XGBRegressor",
           "Topic 2"
          ],
          [
           94.37490844726562,
           "XGBRegressor",
           "Topic 2"
          ],
          [
           94.37490844726562,
           "XGBRegressor",
           "Topic 2"
          ],
          [
           94.37490844726562,
           "XGBRegressor",
           "Topic 2"
          ]
         ],
         "hovertemplate": "<b>%{hovertext}</b><br><br>prediction=%{y:.3f}<br>mean_prediction=%{customdata[0]:.3f}<extra></extra>",
         "hovertext": [
          "XGBRegressor",
          "XGBRegressor",
          "XGBRegressor",
          "XGBRegressor",
          "XGBRegressor",
          "XGBRegressor",
          "XGBRegressor",
          "XGBRegressor",
          "XGBRegressor",
          "XGBRegressor",
          "XGBRegressor",
          "XGBRegressor",
          "XGBRegressor",
          "XGBRegressor",
          "XGBRegressor",
          "XGBRegressor",
          "XGBRegressor",
          "XGBRegressor",
          "XGBRegressor",
          "XGBRegressor",
          "XGBRegressor",
          "XGBRegressor",
          "XGBRegressor",
          "XGBRegressor",
          "XGBRegressor",
          "XGBRegressor",
          "XGBRegressor",
          "XGBRegressor",
          "XGBRegressor",
          "XGBRegressor",
          "XGBRegressor",
          "XGBRegressor",
          "XGBRegressor",
          "XGBRegressor",
          "XGBRegressor",
          "XGBRegressor",
          "XGBRegressor",
          "XGBRegressor",
          "XGBRegressor",
          "XGBRegressor",
          "XGBRegressor",
          "XGBRegressor",
          "XGBRegressor",
          "XGBRegressor",
          "XGBRegressor",
          "XGBRegressor",
          "XGBRegressor",
          "XGBRegressor",
          "XGBRegressor",
          "XGBRegressor",
          "XGBRegressor",
          "XGBRegressor",
          "XGBRegressor",
          "XGBRegressor",
          "XGBRegressor",
          "XGBRegressor",
          "XGBRegressor",
          "XGBRegressor",
          "XGBRegressor",
          "XGBRegressor",
          "XGBRegressor",
          "XGBRegressor",
          "XGBRegressor",
          "XGBRegressor",
          "XGBRegressor",
          "XGBRegressor",
          "XGBRegressor",
          "XGBRegressor",
          "XGBRegressor",
          "XGBRegressor",
          "XGBRegressor",
          "XGBRegressor",
          "XGBRegressor",
          "XGBRegressor",
          "XGBRegressor",
          "XGBRegressor",
          "XGBRegressor",
          "XGBRegressor",
          "XGBRegressor",
          "XGBRegressor",
          "XGBRegressor",
          "XGBRegressor",
          "XGBRegressor",
          "XGBRegressor",
          "XGBRegressor",
          "XGBRegressor",
          "XGBRegressor",
          "XGBRegressor",
          "XGBRegressor",
          "XGBRegressor",
          "XGBRegressor",
          "XGBRegressor",
          "XGBRegressor",
          "XGBRegressor",
          "XGBRegressor",
          "XGBRegressor",
          "XGBRegressor",
          "XGBRegressor",
          "XGBRegressor",
          "XGBRegressor",
          "XGBRegressor"
         ],
         "legendgroup": "XGBRegressor",
         "line": {
          "color": "#46bac2",
          "dash": "solid",
          "width": 2
         },
         "marker": {
          "symbol": "circle"
         },
         "mode": "lines",
         "name": "XGBRegressor",
         "orientation": "v",
         "showlegend": false,
         "x": [
          6.9928683482148765E-6,
          0.009474629133894784,
          0.01894226539944135,
          0.02840990166498792,
          0.03787753793053449,
          0.047345174196081065,
          0.05681281046162763,
          0.06628044672717419,
          0.07574808299272076,
          0.08521571925826733,
          0.0946833555238139,
          0.10415099178936046,
          0.11361862805490704,
          0.12308626432045361,
          0.13255390058600017,
          0.14202153685154675,
          0.1514891731170933,
          0.16095680938263987,
          0.17042444564818646,
          0.17989208191373302,
          0.1893597181792796,
          0.19882735444482616,
          0.20829499071037272,
          0.2177626269759193,
          0.22723026324146586,
          0.23669789950701242,
          0.246165535772559,
          0.2556331720381056,
          0.2651008083036521,
          0.2745684445691987,
          0.2840360808347453,
          0.2935037171002918,
          0.3029713533658384,
          0.312438989631385,
          0.32190662589693153,
          0.3313742621624781,
          0.3408418984280247,
          0.35030953469357123,
          0.3597771709591178,
          0.3692448072246644,
          0.378712443490211,
          0.3881800797557575,
          0.3976477160213041,
          0.4071153522868507,
          0.4165829885523972,
          0.4260506248179438,
          0.4355182610834904,
          0.44498589734903693,
          0.4544535336145835,
          0.4639211698801301,
          0.47338880614567663,
          0.4828564424112232,
          0.4923240786767698,
          0.5017917149423164,
          0.511259351207863,
          0.5207269874734095,
          0.5301946237389561,
          0.5396622600045027,
          0.5491298962700493,
          0.5585975325355959,
          0.5680651688011424,
          0.5775328050666889,
          0.5870004413322355,
          0.5964680775977821,
          0.6059357138633287,
          0.6154033501288753,
          0.6248709863944218,
          0.6343386226599684,
          0.6438062589255149,
          0.6532738951910615,
          0.6627415314566081,
          0.6722091677221547,
          0.6816768039877013,
          0.6911444402532478,
          0.7006120765187943,
          0.7100797127843409,
          0.7195473490498875,
          0.7290149853154341,
          0.7384826215809807,
          0.7479502578465272,
          0.7574178941120738,
          0.7668855303776203,
          0.7763531666431669,
          0.7858208029087135,
          0.7952884391742601,
          0.8047560754398067,
          0.8142237117053532,
          0.8236913479708997,
          0.8331589842364463,
          0.8426266205019929,
          0.8520942567675395,
          0.8615618930330861,
          0.8710295292986326,
          0.8804971655641791,
          0.8899648018297257,
          0.8994324380952723,
          0.9089000743608189,
          0.9183677106263655,
          0.927835346891912,
          0.9373029831574586,
          0.9467706194230051
         ],
         "xaxis": "x3",
         "y": [
          254.82797241210938,
          80.090576171875,
          70.99906921386719,
          72.92935180664062,
          77.25025177001953,
          77.80333709716797,
          67.13261413574219,
          76.05294036865234,
          75.93778228759766,
          77.32976531982422,
          76.47918701171875,
          76.40798950195312,
          73.80236053466797,
          89.19962310791016,
          86.17195129394531,
          87.57450103759766,
          94.27155303955078,
          117.95692443847656,
          124.55628967285156,
          93.49899291992188,
          94.74513244628906,
          94.74513244628906,
          94.74513244628906,
          102.4215087890625,
          113.28754425048828,
          113.33076477050781,
          126.84616088867188,
          137.396728515625,
          108.24112701416016,
          189.3477783203125,
          145.39537048339844,
          121.54630279541016,
          102.6891098022461,
          100.99104309082031,
          112.410400390625,
          110.04133605957031,
          110.53727722167969,
          108.44878387451172,
          108.44878387451172,
          108.51884460449219,
          115.20216369628906,
          149.831787109375,
          150.2235107421875,
          153.0503692626953,
          161.61868286132812,
          162.30807495117188,
          174.4055633544922,
          176.22555541992188,
          176.22555541992188,
          166.61691284179688,
          166.61691284179688,
          205.55043029785156,
          157.23770141601562,
          157.23770141601562,
          158.3564910888672,
          163.64447021484375,
          163.64447021484375,
          163.64447021484375,
          163.64447021484375,
          170.58306884765625,
          158.03219604492188,
          158.03219604492188,
          156.46243286132812,
          156.46243286132812,
          157.7194061279297,
          192.87181091308594,
          192.9741973876953,
          257.7632141113281,
          319.5276794433594,
          319.9335021972656,
          273.0208435058594,
          269.03973388671875,
          269.03973388671875,
          270.6182556152344,
          269.81280517578125,
          267.27398681640625,
          277.51641845703125,
          276.7503356933594,
          274.12127685546875,
          274.59344482421875,
          295.6761474609375,
          264.7528076171875,
          264.7528076171875,
          264.2947998046875,
          264.8868103027344,
          286.1737365722656,
          278.6282043457031,
          279.2417297363281,
          279.2417297363281,
          279.2417297363281,
          266.4497375488281,
          266.03338623046875,
          266.03338623046875,
          266.03338623046875,
          266.42425537109375,
          267.1997375488281,
          267.4124755859375,
          274.50018310546875,
          275.7054138183594,
          275.7054138183594,
          275.7054138183594
         ],
         "yaxis": "y3",
         "type": "scatter",
         "opacity": 1
        },
        {
         "customdata": [
          [
           94.37490844726562,
           "XGBRegressor",
           "Topic 3"
          ],
          [
           94.37490844726562,
           "XGBRegressor",
           "Topic 3"
          ],
          [
           94.37490844726562,
           "XGBRegressor",
           "Topic 3"
          ],
          [
           94.37490844726562,
           "XGBRegressor",
           "Topic 3"
          ],
          [
           94.37490844726562,
           "XGBRegressor",
           "Topic 3"
          ],
          [
           94.37490844726562,
           "XGBRegressor",
           "Topic 3"
          ],
          [
           94.37490844726562,
           "XGBRegressor",
           "Topic 3"
          ],
          [
           94.37490844726562,
           "XGBRegressor",
           "Topic 3"
          ],
          [
           94.37490844726562,
           "XGBRegressor",
           "Topic 3"
          ],
          [
           94.37490844726562,
           "XGBRegressor",
           "Topic 3"
          ],
          [
           94.37490844726562,
           "XGBRegressor",
           "Topic 3"
          ],
          [
           94.37490844726562,
           "XGBRegressor",
           "Topic 3"
          ],
          [
           94.37490844726562,
           "XGBRegressor",
           "Topic 3"
          ],
          [
           94.37490844726562,
           "XGBRegressor",
           "Topic 3"
          ],
          [
           94.37490844726562,
           "XGBRegressor",
           "Topic 3"
          ],
          [
           94.37490844726562,
           "XGBRegressor",
           "Topic 3"
          ],
          [
           94.37490844726562,
           "XGBRegressor",
           "Topic 3"
          ],
          [
           94.37490844726562,
           "XGBRegressor",
           "Topic 3"
          ],
          [
           94.37490844726562,
           "XGBRegressor",
           "Topic 3"
          ],
          [
           94.37490844726562,
           "XGBRegressor",
           "Topic 3"
          ],
          [
           94.37490844726562,
           "XGBRegressor",
           "Topic 3"
          ],
          [
           94.37490844726562,
           "XGBRegressor",
           "Topic 3"
          ],
          [
           94.37490844726562,
           "XGBRegressor",
           "Topic 3"
          ],
          [
           94.37490844726562,
           "XGBRegressor",
           "Topic 3"
          ],
          [
           94.37490844726562,
           "XGBRegressor",
           "Topic 3"
          ],
          [
           94.37490844726562,
           "XGBRegressor",
           "Topic 3"
          ],
          [
           94.37490844726562,
           "XGBRegressor",
           "Topic 3"
          ],
          [
           94.37490844726562,
           "XGBRegressor",
           "Topic 3"
          ],
          [
           94.37490844726562,
           "XGBRegressor",
           "Topic 3"
          ],
          [
           94.37490844726562,
           "XGBRegressor",
           "Topic 3"
          ],
          [
           94.37490844726562,
           "XGBRegressor",
           "Topic 3"
          ],
          [
           94.37490844726562,
           "XGBRegressor",
           "Topic 3"
          ],
          [
           94.37490844726562,
           "XGBRegressor",
           "Topic 3"
          ],
          [
           94.37490844726562,
           "XGBRegressor",
           "Topic 3"
          ],
          [
           94.37490844726562,
           "XGBRegressor",
           "Topic 3"
          ],
          [
           94.37490844726562,
           "XGBRegressor",
           "Topic 3"
          ],
          [
           94.37490844726562,
           "XGBRegressor",
           "Topic 3"
          ],
          [
           94.37490844726562,
           "XGBRegressor",
           "Topic 3"
          ],
          [
           94.37490844726562,
           "XGBRegressor",
           "Topic 3"
          ],
          [
           94.37490844726562,
           "XGBRegressor",
           "Topic 3"
          ],
          [
           94.37490844726562,
           "XGBRegressor",
           "Topic 3"
          ],
          [
           94.37490844726562,
           "XGBRegressor",
           "Topic 3"
          ],
          [
           94.37490844726562,
           "XGBRegressor",
           "Topic 3"
          ],
          [
           94.37490844726562,
           "XGBRegressor",
           "Topic 3"
          ],
          [
           94.37490844726562,
           "XGBRegressor",
           "Topic 3"
          ],
          [
           94.37490844726562,
           "XGBRegressor",
           "Topic 3"
          ],
          [
           94.37490844726562,
           "XGBRegressor",
           "Topic 3"
          ],
          [
           94.37490844726562,
           "XGBRegressor",
           "Topic 3"
          ],
          [
           94.37490844726562,
           "XGBRegressor",
           "Topic 3"
          ],
          [
           94.37490844726562,
           "XGBRegressor",
           "Topic 3"
          ],
          [
           94.37490844726562,
           "XGBRegressor",
           "Topic 3"
          ],
          [
           94.37490844726562,
           "XGBRegressor",
           "Topic 3"
          ],
          [
           94.37490844726562,
           "XGBRegressor",
           "Topic 3"
          ],
          [
           94.37490844726562,
           "XGBRegressor",
           "Topic 3"
          ],
          [
           94.37490844726562,
           "XGBRegressor",
           "Topic 3"
          ],
          [
           94.37490844726562,
           "XGBRegressor",
           "Topic 3"
          ],
          [
           94.37490844726562,
           "XGBRegressor",
           "Topic 3"
          ],
          [
           94.37490844726562,
           "XGBRegressor",
           "Topic 3"
          ],
          [
           94.37490844726562,
           "XGBRegressor",
           "Topic 3"
          ],
          [
           94.37490844726562,
           "XGBRegressor",
           "Topic 3"
          ],
          [
           94.37490844726562,
           "XGBRegressor",
           "Topic 3"
          ],
          [
           94.37490844726562,
           "XGBRegressor",
           "Topic 3"
          ],
          [
           94.37490844726562,
           "XGBRegressor",
           "Topic 3"
          ],
          [
           94.37490844726562,
           "XGBRegressor",
           "Topic 3"
          ],
          [
           94.37490844726562,
           "XGBRegressor",
           "Topic 3"
          ],
          [
           94.37490844726562,
           "XGBRegressor",
           "Topic 3"
          ],
          [
           94.37490844726562,
           "XGBRegressor",
           "Topic 3"
          ],
          [
           94.37490844726562,
           "XGBRegressor",
           "Topic 3"
          ],
          [
           94.37490844726562,
           "XGBRegressor",
           "Topic 3"
          ],
          [
           94.37490844726562,
           "XGBRegressor",
           "Topic 3"
          ],
          [
           94.37490844726562,
           "XGBRegressor",
           "Topic 3"
          ],
          [
           94.37490844726562,
           "XGBRegressor",
           "Topic 3"
          ],
          [
           94.37490844726562,
           "XGBRegressor",
           "Topic 3"
          ],
          [
           94.37490844726562,
           "XGBRegressor",
           "Topic 3"
          ],
          [
           94.37490844726562,
           "XGBRegressor",
           "Topic 3"
          ],
          [
           94.37490844726562,
           "XGBRegressor",
           "Topic 3"
          ],
          [
           94.37490844726562,
           "XGBRegressor",
           "Topic 3"
          ],
          [
           94.37490844726562,
           "XGBRegressor",
           "Topic 3"
          ],
          [
           94.37490844726562,
           "XGBRegressor",
           "Topic 3"
          ],
          [
           94.37490844726562,
           "XGBRegressor",
           "Topic 3"
          ],
          [
           94.37490844726562,
           "XGBRegressor",
           "Topic 3"
          ],
          [
           94.37490844726562,
           "XGBRegressor",
           "Topic 3"
          ],
          [
           94.37490844726562,
           "XGBRegressor",
           "Topic 3"
          ],
          [
           94.37490844726562,
           "XGBRegressor",
           "Topic 3"
          ],
          [
           94.37490844726562,
           "XGBRegressor",
           "Topic 3"
          ],
          [
           94.37490844726562,
           "XGBRegressor",
           "Topic 3"
          ],
          [
           94.37490844726562,
           "XGBRegressor",
           "Topic 3"
          ],
          [
           94.37490844726562,
           "XGBRegressor",
           "Topic 3"
          ],
          [
           94.37490844726562,
           "XGBRegressor",
           "Topic 3"
          ],
          [
           94.37490844726562,
           "XGBRegressor",
           "Topic 3"
          ],
          [
           94.37490844726562,
           "XGBRegressor",
           "Topic 3"
          ],
          [
           94.37490844726562,
           "XGBRegressor",
           "Topic 3"
          ],
          [
           94.37490844726562,
           "XGBRegressor",
           "Topic 3"
          ],
          [
           94.37490844726562,
           "XGBRegressor",
           "Topic 3"
          ],
          [
           94.37490844726562,
           "XGBRegressor",
           "Topic 3"
          ],
          [
           94.37490844726562,
           "XGBRegressor",
           "Topic 3"
          ],
          [
           94.37490844726562,
           "XGBRegressor",
           "Topic 3"
          ],
          [
           94.37490844726562,
           "XGBRegressor",
           "Topic 3"
          ],
          [
           94.37490844726562,
           "XGBRegressor",
           "Topic 3"
          ],
          [
           94.37490844726562,
           "XGBRegressor",
           "Topic 3"
          ],
          [
           94.37490844726562,
           "XGBRegressor",
           "Topic 3"
          ]
         ],
         "hovertemplate": "<b>%{hovertext}</b><br><br>prediction=%{y:.3f}<br>mean_prediction=%{customdata[0]:.3f}<extra></extra>",
         "hovertext": [
          "XGBRegressor",
          "XGBRegressor",
          "XGBRegressor",
          "XGBRegressor",
          "XGBRegressor",
          "XGBRegressor",
          "XGBRegressor",
          "XGBRegressor",
          "XGBRegressor",
          "XGBRegressor",
          "XGBRegressor",
          "XGBRegressor",
          "XGBRegressor",
          "XGBRegressor",
          "XGBRegressor",
          "XGBRegressor",
          "XGBRegressor",
          "XGBRegressor",
          "XGBRegressor",
          "XGBRegressor",
          "XGBRegressor",
          "XGBRegressor",
          "XGBRegressor",
          "XGBRegressor",
          "XGBRegressor",
          "XGBRegressor",
          "XGBRegressor",
          "XGBRegressor",
          "XGBRegressor",
          "XGBRegressor",
          "XGBRegressor",
          "XGBRegressor",
          "XGBRegressor",
          "XGBRegressor",
          "XGBRegressor",
          "XGBRegressor",
          "XGBRegressor",
          "XGBRegressor",
          "XGBRegressor",
          "XGBRegressor",
          "XGBRegressor",
          "XGBRegressor",
          "XGBRegressor",
          "XGBRegressor",
          "XGBRegressor",
          "XGBRegressor",
          "XGBRegressor",
          "XGBRegressor",
          "XGBRegressor",
          "XGBRegressor",
          "XGBRegressor",
          "XGBRegressor",
          "XGBRegressor",
          "XGBRegressor",
          "XGBRegressor",
          "XGBRegressor",
          "XGBRegressor",
          "XGBRegressor",
          "XGBRegressor",
          "XGBRegressor",
          "XGBRegressor",
          "XGBRegressor",
          "XGBRegressor",
          "XGBRegressor",
          "XGBRegressor",
          "XGBRegressor",
          "XGBRegressor",
          "XGBRegressor",
          "XGBRegressor",
          "XGBRegressor",
          "XGBRegressor",
          "XGBRegressor",
          "XGBRegressor",
          "XGBRegressor",
          "XGBRegressor",
          "XGBRegressor",
          "XGBRegressor",
          "XGBRegressor",
          "XGBRegressor",
          "XGBRegressor",
          "XGBRegressor",
          "XGBRegressor",
          "XGBRegressor",
          "XGBRegressor",
          "XGBRegressor",
          "XGBRegressor",
          "XGBRegressor",
          "XGBRegressor",
          "XGBRegressor",
          "XGBRegressor",
          "XGBRegressor",
          "XGBRegressor",
          "XGBRegressor",
          "XGBRegressor",
          "XGBRegressor",
          "XGBRegressor",
          "XGBRegressor",
          "XGBRegressor",
          "XGBRegressor",
          "XGBRegressor",
          "XGBRegressor"
         ],
         "legendgroup": "XGBRegressor",
         "line": {
          "color": "#46bac2",
          "dash": "solid",
          "width": 2
         },
         "marker": {
          "symbol": "circle"
         },
         "mode": "lines",
         "name": "XGBRegressor",
         "orientation": "v",
         "showlegend": false,
         "x": [
          7.1951488203444125E-6,
          0.010005440313273113,
          0.02000368547772588,
          0.03000193064217865,
          0.04000017580663142,
          0.04999842097108419,
          0.05999666613553696,
          0.06999491129998972,
          0.0799931564644425,
          0.08999140162889527,
          0.09998964679334803,
          0.1099878919578008,
          0.11998613712225357,
          0.12998438228670633,
          0.13998262745115908,
          0.14998087261561185,
          0.15997911778006463,
          0.1699773629445174,
          0.17997560810897018,
          0.18997385327342292,
          0.1999720984378757,
          0.20997034360232847,
          0.21996858876678124,
          0.22996683393123402,
          0.2399650790956868,
          0.24996332426013954,
          0.25996156942459236,
          0.2699598145890451,
          0.27995805975349786,
          0.28995630491795066,
          0.2999545500824034,
          0.3099527952468562,
          0.31995104041130895,
          0.3299492855757617,
          0.3399475307402145,
          0.34994577590466724,
          0.35994402106912005,
          0.3699422662335728,
          0.37994051139802554,
          0.38993875656247834,
          0.3999370017269311,
          0.4099352468913839,
          0.41993349205583663,
          0.4299317372202894,
          0.4399299823847422,
          0.4499282275491949,
          0.4599264727136477,
          0.4699247178781005,
          0.4799229630425533,
          0.489921208207006,
          0.49991945337145877,
          0.5099176985359115,
          0.5199159437003643,
          0.529914188864817,
          0.5399124340292698,
          0.5499106791937226,
          0.5599089243581753,
          0.5699071695226281,
          0.5799054146870809,
          0.5899036598515336,
          0.5999019050159864,
          0.6099001501804392,
          0.619898395344892,
          0.6298966405093447,
          0.6398948856737975,
          0.6498931308382503,
          0.659891376002703,
          0.6698896211671558,
          0.6798878663316086,
          0.6898861114960614,
          0.6998843566605141,
          0.7098826018249669,
          0.7198808469894197,
          0.7298790921538724,
          0.7398773373183252,
          0.749875582482778,
          0.7598738276472307,
          0.7698720728116835,
          0.7798703179761363,
          0.7898685631405891,
          0.7998668083050418,
          0.8098650534694946,
          0.8198632986339474,
          0.8298615437984,
          0.8398597889628528,
          0.8498580341273057,
          0.8598562792917583,
          0.8698545244562111,
          0.8798527696206639,
          0.8898510147851167,
          0.8998492599495694,
          0.9098475051140222,
          0.919845750278475,
          0.9298439954429277,
          0.9398422406073805,
          0.9498404857718333,
          0.9598387309362861,
          0.9698369761007388,
          0.9798352212651916,
          0.9898334664296444,
          0.9998317115940972
         ],
         "xaxis": "x4",
         "y": [
          81.77714538574219,
          72.3913345336914,
          70.333984375,
          70.76070404052734,
          131.20535278320312,
          73.5271224975586,
          74.04736328125,
          78.80411529541016,
          78.60314178466797,
          103.44828033447266,
          104.5013427734375,
          119.94742584228516,
          115.12062072753906,
          100.25328826904297,
          101.1177749633789,
          138.01824951171875,
          110.75688171386719,
          119.87692260742188,
          132.0641632080078,
          157.08984375,
          129.29336547851562,
          356.48626708984375,
          114.91548156738281,
          121.26663208007812,
          201.1195068359375,
          88.94219970703125,
          88.37859344482422,
          87.53836059570312,
          89.3632583618164,
          99.74520874023438,
          99.74520874023438,
          91.90089416503906,
          91.90089416503906,
          92.3125228881836,
          88.35150146484375,
          81.65766143798828,
          84.94247436523438,
          85.7531509399414,
          103.30766296386719,
          103.24651336669922,
          117.02396392822266,
          90.72319793701172,
          90.6799087524414,
          90.78691101074219,
          90.78691101074219,
          94.48371124267578,
          130.86227416992188,
          130.84230041503906,
          130.84230041503906,
          145.468994140625,
          108.2816162109375,
          108.2816162109375,
          108.2816162109375,
          126.85945892333984,
          112.36837005615234,
          112.36837005615234,
          112.36837005615234,
          105.12005615234375,
          80.45330047607422,
          80.45330047607422,
          85.55520629882812,
          85.55520629882812,
          85.55520629882812,
          85.55520629882812,
          85.55520629882812,
          85.55520629882812,
          85.56874084472656,
          85.56874084472656,
          85.56874084472656,
          79.2115478515625,
          109.42784881591797,
          597.8272094726562,
          121.49685668945312,
          121.49685668945312,
          121.49685668945312,
          123.96212005615234,
          123.96212005615234,
          123.96212005615234,
          119.96234130859375,
          119.96234130859375,
          119.96234130859375,
          120.50711059570312,
          120.50711059570312,
          128.65150451660156,
          147.49591064453125,
          147.49591064453125,
          106.91008758544922,
          115.47418212890625,
          115.47418212890625,
          115.39372253417969,
          115.39372253417969,
          107.21699523925781,
          109.93787384033203,
          109.93787384033203,
          109.93787384033203,
          109.93787384033203,
          111.20454406738281,
          109.35047912597656,
          109.35047912597656,
          109.35047912597656,
          199.98410034179688
         ],
         "yaxis": "y4",
         "type": "scatter",
         "opacity": 1
        },
        {
         "customdata": [
          [
           94.37490844726562,
           "XGBRegressor",
           "Topic 4"
          ],
          [
           94.37490844726562,
           "XGBRegressor",
           "Topic 4"
          ],
          [
           94.37490844726562,
           "XGBRegressor",
           "Topic 4"
          ],
          [
           94.37490844726562,
           "XGBRegressor",
           "Topic 4"
          ],
          [
           94.37490844726562,
           "XGBRegressor",
           "Topic 4"
          ],
          [
           94.37490844726562,
           "XGBRegressor",
           "Topic 4"
          ],
          [
           94.37490844726562,
           "XGBRegressor",
           "Topic 4"
          ],
          [
           94.37490844726562,
           "XGBRegressor",
           "Topic 4"
          ],
          [
           94.37490844726562,
           "XGBRegressor",
           "Topic 4"
          ],
          [
           94.37490844726562,
           "XGBRegressor",
           "Topic 4"
          ],
          [
           94.37490844726562,
           "XGBRegressor",
           "Topic 4"
          ],
          [
           94.37490844726562,
           "XGBRegressor",
           "Topic 4"
          ],
          [
           94.37490844726562,
           "XGBRegressor",
           "Topic 4"
          ],
          [
           94.37490844726562,
           "XGBRegressor",
           "Topic 4"
          ],
          [
           94.37490844726562,
           "XGBRegressor",
           "Topic 4"
          ],
          [
           94.37490844726562,
           "XGBRegressor",
           "Topic 4"
          ],
          [
           94.37490844726562,
           "XGBRegressor",
           "Topic 4"
          ],
          [
           94.37490844726562,
           "XGBRegressor",
           "Topic 4"
          ],
          [
           94.37490844726562,
           "XGBRegressor",
           "Topic 4"
          ],
          [
           94.37490844726562,
           "XGBRegressor",
           "Topic 4"
          ],
          [
           94.37490844726562,
           "XGBRegressor",
           "Topic 4"
          ],
          [
           94.37490844726562,
           "XGBRegressor",
           "Topic 4"
          ],
          [
           94.37490844726562,
           "XGBRegressor",
           "Topic 4"
          ],
          [
           94.37490844726562,
           "XGBRegressor",
           "Topic 4"
          ],
          [
           94.37490844726562,
           "XGBRegressor",
           "Topic 4"
          ],
          [
           94.37490844726562,
           "XGBRegressor",
           "Topic 4"
          ],
          [
           94.37490844726562,
           "XGBRegressor",
           "Topic 4"
          ],
          [
           94.37490844726562,
           "XGBRegressor",
           "Topic 4"
          ],
          [
           94.37490844726562,
           "XGBRegressor",
           "Topic 4"
          ],
          [
           94.37490844726562,
           "XGBRegressor",
           "Topic 4"
          ],
          [
           94.37490844726562,
           "XGBRegressor",
           "Topic 4"
          ],
          [
           94.37490844726562,
           "XGBRegressor",
           "Topic 4"
          ],
          [
           94.37490844726562,
           "XGBRegressor",
           "Topic 4"
          ],
          [
           94.37490844726562,
           "XGBRegressor",
           "Topic 4"
          ],
          [
           94.37490844726562,
           "XGBRegressor",
           "Topic 4"
          ],
          [
           94.37490844726562,
           "XGBRegressor",
           "Topic 4"
          ],
          [
           94.37490844726562,
           "XGBRegressor",
           "Topic 4"
          ],
          [
           94.37490844726562,
           "XGBRegressor",
           "Topic 4"
          ],
          [
           94.37490844726562,
           "XGBRegressor",
           "Topic 4"
          ],
          [
           94.37490844726562,
           "XGBRegressor",
           "Topic 4"
          ],
          [
           94.37490844726562,
           "XGBRegressor",
           "Topic 4"
          ],
          [
           94.37490844726562,
           "XGBRegressor",
           "Topic 4"
          ],
          [
           94.37490844726562,
           "XGBRegressor",
           "Topic 4"
          ],
          [
           94.37490844726562,
           "XGBRegressor",
           "Topic 4"
          ],
          [
           94.37490844726562,
           "XGBRegressor",
           "Topic 4"
          ],
          [
           94.37490844726562,
           "XGBRegressor",
           "Topic 4"
          ],
          [
           94.37490844726562,
           "XGBRegressor",
           "Topic 4"
          ],
          [
           94.37490844726562,
           "XGBRegressor",
           "Topic 4"
          ],
          [
           94.37490844726562,
           "XGBRegressor",
           "Topic 4"
          ],
          [
           94.37490844726562,
           "XGBRegressor",
           "Topic 4"
          ],
          [
           94.37490844726562,
           "XGBRegressor",
           "Topic 4"
          ],
          [
           94.37490844726562,
           "XGBRegressor",
           "Topic 4"
          ],
          [
           94.37490844726562,
           "XGBRegressor",
           "Topic 4"
          ],
          [
           94.37490844726562,
           "XGBRegressor",
           "Topic 4"
          ],
          [
           94.37490844726562,
           "XGBRegressor",
           "Topic 4"
          ],
          [
           94.37490844726562,
           "XGBRegressor",
           "Topic 4"
          ],
          [
           94.37490844726562,
           "XGBRegressor",
           "Topic 4"
          ],
          [
           94.37490844726562,
           "XGBRegressor",
           "Topic 4"
          ],
          [
           94.37490844726562,
           "XGBRegressor",
           "Topic 4"
          ],
          [
           94.37490844726562,
           "XGBRegressor",
           "Topic 4"
          ],
          [
           94.37490844726562,
           "XGBRegressor",
           "Topic 4"
          ],
          [
           94.37490844726562,
           "XGBRegressor",
           "Topic 4"
          ],
          [
           94.37490844726562,
           "XGBRegressor",
           "Topic 4"
          ],
          [
           94.37490844726562,
           "XGBRegressor",
           "Topic 4"
          ],
          [
           94.37490844726562,
           "XGBRegressor",
           "Topic 4"
          ],
          [
           94.37490844726562,
           "XGBRegressor",
           "Topic 4"
          ],
          [
           94.37490844726562,
           "XGBRegressor",
           "Topic 4"
          ],
          [
           94.37490844726562,
           "XGBRegressor",
           "Topic 4"
          ],
          [
           94.37490844726562,
           "XGBRegressor",
           "Topic 4"
          ],
          [
           94.37490844726562,
           "XGBRegressor",
           "Topic 4"
          ],
          [
           94.37490844726562,
           "XGBRegressor",
           "Topic 4"
          ],
          [
           94.37490844726562,
           "XGBRegressor",
           "Topic 4"
          ],
          [
           94.37490844726562,
           "XGBRegressor",
           "Topic 4"
          ],
          [
           94.37490844726562,
           "XGBRegressor",
           "Topic 4"
          ],
          [
           94.37490844726562,
           "XGBRegressor",
           "Topic 4"
          ],
          [
           94.37490844726562,
           "XGBRegressor",
           "Topic 4"
          ],
          [
           94.37490844726562,
           "XGBRegressor",
           "Topic 4"
          ],
          [
           94.37490844726562,
           "XGBRegressor",
           "Topic 4"
          ],
          [
           94.37490844726562,
           "XGBRegressor",
           "Topic 4"
          ],
          [
           94.37490844726562,
           "XGBRegressor",
           "Topic 4"
          ],
          [
           94.37490844726562,
           "XGBRegressor",
           "Topic 4"
          ],
          [
           94.37490844726562,
           "XGBRegressor",
           "Topic 4"
          ],
          [
           94.37490844726562,
           "XGBRegressor",
           "Topic 4"
          ],
          [
           94.37490844726562,
           "XGBRegressor",
           "Topic 4"
          ],
          [
           94.37490844726562,
           "XGBRegressor",
           "Topic 4"
          ],
          [
           94.37490844726562,
           "XGBRegressor",
           "Topic 4"
          ],
          [
           94.37490844726562,
           "XGBRegressor",
           "Topic 4"
          ],
          [
           94.37490844726562,
           "XGBRegressor",
           "Topic 4"
          ],
          [
           94.37490844726562,
           "XGBRegressor",
           "Topic 4"
          ],
          [
           94.37490844726562,
           "XGBRegressor",
           "Topic 4"
          ],
          [
           94.37490844726562,
           "XGBRegressor",
           "Topic 4"
          ],
          [
           94.37490844726562,
           "XGBRegressor",
           "Topic 4"
          ],
          [
           94.37490844726562,
           "XGBRegressor",
           "Topic 4"
          ],
          [
           94.37490844726562,
           "XGBRegressor",
           "Topic 4"
          ],
          [
           94.37490844726562,
           "XGBRegressor",
           "Topic 4"
          ],
          [
           94.37490844726562,
           "XGBRegressor",
           "Topic 4"
          ],
          [
           94.37490844726562,
           "XGBRegressor",
           "Topic 4"
          ],
          [
           94.37490844726562,
           "XGBRegressor",
           "Topic 4"
          ],
          [
           94.37490844726562,
           "XGBRegressor",
           "Topic 4"
          ],
          [
           94.37490844726562,
           "XGBRegressor",
           "Topic 4"
          ],
          [
           94.37490844726562,
           "XGBRegressor",
           "Topic 4"
          ]
         ],
         "hovertemplate": "<b>%{hovertext}</b><br><br>prediction=%{y:.3f}<br>mean_prediction=%{customdata[0]:.3f}<extra></extra>",
         "hovertext": [
          "XGBRegressor",
          "XGBRegressor",
          "XGBRegressor",
          "XGBRegressor",
          "XGBRegressor",
          "XGBRegressor",
          "XGBRegressor",
          "XGBRegressor",
          "XGBRegressor",
          "XGBRegressor",
          "XGBRegressor",
          "XGBRegressor",
          "XGBRegressor",
          "XGBRegressor",
          "XGBRegressor",
          "XGBRegressor",
          "XGBRegressor",
          "XGBRegressor",
          "XGBRegressor",
          "XGBRegressor",
          "XGBRegressor",
          "XGBRegressor",
          "XGBRegressor",
          "XGBRegressor",
          "XGBRegressor",
          "XGBRegressor",
          "XGBRegressor",
          "XGBRegressor",
          "XGBRegressor",
          "XGBRegressor",
          "XGBRegressor",
          "XGBRegressor",
          "XGBRegressor",
          "XGBRegressor",
          "XGBRegressor",
          "XGBRegressor",
          "XGBRegressor",
          "XGBRegressor",
          "XGBRegressor",
          "XGBRegressor",
          "XGBRegressor",
          "XGBRegressor",
          "XGBRegressor",
          "XGBRegressor",
          "XGBRegressor",
          "XGBRegressor",
          "XGBRegressor",
          "XGBRegressor",
          "XGBRegressor",
          "XGBRegressor",
          "XGBRegressor",
          "XGBRegressor",
          "XGBRegressor",
          "XGBRegressor",
          "XGBRegressor",
          "XGBRegressor",
          "XGBRegressor",
          "XGBRegressor",
          "XGBRegressor",
          "XGBRegressor",
          "XGBRegressor",
          "XGBRegressor",
          "XGBRegressor",
          "XGBRegressor",
          "XGBRegressor",
          "XGBRegressor",
          "XGBRegressor",
          "XGBRegressor",
          "XGBRegressor",
          "XGBRegressor",
          "XGBRegressor",
          "XGBRegressor",
          "XGBRegressor",
          "XGBRegressor",
          "XGBRegressor",
          "XGBRegressor",
          "XGBRegressor",
          "XGBRegressor",
          "XGBRegressor",
          "XGBRegressor",
          "XGBRegressor",
          "XGBRegressor",
          "XGBRegressor",
          "XGBRegressor",
          "XGBRegressor",
          "XGBRegressor",
          "XGBRegressor",
          "XGBRegressor",
          "XGBRegressor",
          "XGBRegressor",
          "XGBRegressor",
          "XGBRegressor",
          "XGBRegressor",
          "XGBRegressor",
          "XGBRegressor",
          "XGBRegressor",
          "XGBRegressor",
          "XGBRegressor",
          "XGBRegressor",
          "XGBRegressor",
          "XGBRegressor"
         ],
         "legendgroup": "XGBRegressor",
         "line": {
          "color": "#46bac2",
          "dash": "solid",
          "width": 2
         },
         "marker": {
          "symbol": "circle"
         },
         "mode": "lines",
         "name": "XGBRegressor",
         "orientation": "v",
         "showlegend": false,
         "x": [
          3.933428531555413E-6,
          0.010003053346274436,
          0.020002173264017317,
          0.030001293181760195,
          0.04000041309950308,
          0.04999953301724596,
          0.059998652934988836,
          0.06999777285273172,
          0.0799968927704746,
          0.08999601268821748,
          0.09999513260596037,
          0.10999425252370325,
          0.11999337244144612,
          0.129992492359189,
          0.13999161227693188,
          0.14999073219467476,
          0.15998985211241765,
          0.16998897203016053,
          0.1799880919479034,
          0.1899872118656463,
          0.19998633178338918,
          0.20998545170113206,
          0.21998457161887494,
          0.22998369153661782,
          0.23998281145436068,
          0.24998193137210356,
          0.25998105128984644,
          0.2699801712075893,
          0.2799792911253322,
          0.2899784110430751,
          0.299977530960818,
          0.30997665087856086,
          0.31997577079630374,
          0.3299748907140466,
          0.3399740106317895,
          0.3499731305495324,
          0.35997225046727527,
          0.36997137038501815,
          0.37997049030276103,
          0.3899696102205039,
          0.3999687301382468,
          0.4099678500559897,
          0.41996696997373256,
          0.42996608989147544,
          0.4399652098092183,
          0.4499643297269612,
          0.4599634496447041,
          0.469962569562447,
          0.4799616894801898,
          0.4899608093979327,
          0.49995992931567557,
          0.5099590492334185,
          0.5199581691511613,
          0.5299572890689043,
          0.5399564089866471,
          0.54995552890439,
          0.5599546488221329,
          0.5699537687398758,
          0.5799528886576186,
          0.5899520085753616,
          0.5999511284931044,
          0.6099502484108473,
          0.6199493683285902,
          0.6299484882463331,
          0.6399476081640759,
          0.6499467280818187,
          0.6599458479995617,
          0.6699449679173045,
          0.6799440878350475,
          0.6899432077527903,
          0.6999423276705332,
          0.709941447588276,
          0.719940567506019,
          0.7299396874237618,
          0.7399388073415047,
          0.7499379272592476,
          0.7599370471769905,
          0.7699361670947333,
          0.7799352870124763,
          0.7899344069302191,
          0.799933526847962,
          0.8099326467657049,
          0.8199317666834478,
          0.8299308866011906,
          0.8399300065189336,
          0.8499291264366764,
          0.8599282463544193,
          0.8699273662721622,
          0.8799264861899051,
          0.8899256061076479,
          0.8999247260253909,
          0.9099238459431337,
          0.9199229658608766,
          0.9299220857786195,
          0.9399212056963624,
          0.9499203256141052,
          0.959919445531848,
          0.969918565449591,
          0.9799176853673338,
          0.9899168052850768,
          0.9999159252028196
         ],
         "xaxis": "x",
         "y": [
          643.6372680664062,
          103.15364074707031,
          102.01820373535156,
          104.32969665527344,
          112.3724136352539,
          101.35343170166016,
          102.53961181640625,
          102.39012145996094,
          136.2437286376953,
          76.97249603271484,
          75.83795166015625,
          75.97898864746094,
          76.79902648925781,
          82.89852142333984,
          83.505126953125,
          82.08845520019531,
          82.86865234375,
          100.64422607421875,
          103.64260864257812,
          102.2984848022461,
          309.41314697265625,
          132.01663208007812,
          111.16924285888672,
          109.07872772216797,
          109.15728759765625,
          108.26737976074219,
          108.82450866699219,
          100.60720825195312,
          122.9092788696289,
          121.50348663330078,
          129.60226440429688,
          129.76478576660156,
          99.51852416992188,
          99.51852416992188,
          99.51852416992188,
          99.51852416992188,
          99.48443603515625,
          99.48443603515625,
          98.39486694335938,
          99.99117279052734,
          97.12129974365234,
          97.73770904541016,
          97.73770904541016,
          104.51268768310547,
          106.26248168945312,
          107.13082122802734,
          129.75474548339844,
          119.99585723876953,
          119.99585723876953,
          162.7149658203125,
          131.3844451904297,
          128.62191772460938,
          128.62191772460938,
          143.94180297851562,
          172.7589111328125,
          172.7589111328125,
          172.2276153564453,
          147.7278594970703,
          140.9663543701172,
          141.29946899414062,
          141.29946899414062,
          141.91329956054688,
          156.4981689453125,
          150.12977600097656,
          150.12977600097656,
          150.17922973632812,
          150.17922973632812,
          149.90235900878906,
          149.19448852539062,
          149.19448852539062,
          149.3124237060547,
          149.3124237060547,
          149.3124237060547,
          149.62660217285156,
          155.824951171875,
          155.824951171875,
          151.59954833984375,
          154.46653747558594,
          154.46653747558594,
          153.49070739746094,
          153.49070739746094,
          153.49070739746094,
          153.65179443359375,
          161.63656616210938,
          170.8374786376953,
          170.8374786376953,
          170.8374786376953,
          580.1355590820312,
          484.82623291015625,
          484.82623291015625,
          484.82623291015625,
          484.82623291015625,
          484.82623291015625,
          484.82623291015625,
          484.82623291015625,
          485.7812194824219,
          485.7812194824219,
          488.0289611816406,
          488.0289611816406,
          488.0289611816406,
          488.0289611816406
         ],
         "yaxis": "y",
         "type": "scatter",
         "opacity": 1
        }
       ],
       "layout": {
        "template": {
         "data": {
          "scatter": [
           {
            "type": "scatter"
           }
          ]
         }
        },
        "xaxis": {
         "anchor": "y",
         "domain": [
          0.0,
          0.475
         ],
         "title": {
          "text": ""
         },
         "showticklabels": true,
         "type": "linear",
         "gridwidth": 2,
         "zeroline": false,
         "automargin": true,
         "ticks": "outside",
         "tickcolor": "white",
         "ticklen": 3,
         "fixedrange": true
        },
        "yaxis": {
         "anchor": "x",
         "domain": [
          0.0,
          0.26666666666666666
         ],
         "title": {
          "text": ""
         },
         "range": [
          5.94356994628906,
          701.609423828125
         ],
         "type": "linear",
         "gridwidth": 2,
         "zeroline": false,
         "automargin": true,
         "ticks": "outside",
         "tickcolor": "white",
         "ticklen": 3,
         "fixedrange": true
        },
        "xaxis2": {
         "anchor": "y2",
         "domain": [
          0.525,
          1.0
         ],
         "title": {
          "text": ""
         },
         "showticklabels": true,
         "type": "linear",
         "gridwidth": 2,
         "zeroline": false,
         "automargin": true,
         "ticks": "outside",
         "tickcolor": "white",
         "ticklen": 3,
         "fixedrange": true
        },
        "yaxis2": {
         "anchor": "x2",
         "domain": [
          0.0,
          0.26666666666666666
         ],
         "matches": "y",
         "showticklabels": false,
         "type": "linear",
         "gridwidth": 2,
         "zeroline": false,
         "automargin": true,
         "ticks": "outside",
         "tickcolor": "white",
         "ticklen": 3,
         "fixedrange": true,
         "title": {
          "text": ""
         }
        },
        "xaxis3": {
         "anchor": "y3",
         "domain": [
          0.0,
          0.475
         ],
         "showticklabels": true,
         "type": "linear",
         "gridwidth": 2,
         "zeroline": false,
         "automargin": true,
         "ticks": "outside",
         "tickcolor": "white",
         "ticklen": 3,
         "fixedrange": true,
         "title": {
          "text": ""
         }
        },
        "yaxis3": {
         "anchor": "x3",
         "domain": [
          0.36666666666666664,
          0.6333333333333333
         ],
         "matches": "y",
         "title": {
          "text": ""
         },
         "range": [
          5.94356994628906,
          701.609423828125
         ],
         "type": "linear",
         "gridwidth": 2,
         "zeroline": false,
         "automargin": true,
         "ticks": "outside",
         "tickcolor": "white",
         "ticklen": 3,
         "fixedrange": true
        },
        "xaxis4": {
         "anchor": "y4",
         "domain": [
          0.525,
          1.0
         ],
         "showticklabels": true,
         "type": "linear",
         "gridwidth": 2,
         "zeroline": false,
         "automargin": true,
         "ticks": "outside",
         "tickcolor": "white",
         "ticklen": 3,
         "fixedrange": true,
         "title": {
          "text": ""
         }
        },
        "yaxis4": {
         "anchor": "x4",
         "domain": [
          0.36666666666666664,
          0.6333333333333333
         ],
         "matches": "y",
         "showticklabels": false,
         "type": "linear",
         "gridwidth": 2,
         "zeroline": false,
         "automargin": true,
         "ticks": "outside",
         "tickcolor": "white",
         "ticklen": 3,
         "fixedrange": true,
         "title": {
          "text": ""
         }
        },
        "xaxis5": {
         "anchor": "y5",
         "domain": [
          0.0,
          0.475
         ],
         "showticklabels": true,
         "type": "linear",
         "gridwidth": 2,
         "zeroline": false,
         "automargin": true,
         "ticks": "outside",
         "tickcolor": "white",
         "ticklen": 3,
         "fixedrange": true,
         "title": {
          "text": ""
         }
        },
        "yaxis5": {
         "anchor": "x5",
         "domain": [
          0.7333333333333333,
          1.0
         ],
         "matches": "y",
         "title": {
          "text": ""
         },
         "range": [
          5.94356994628906,
          701.609423828125
         ],
         "type": "linear",
         "gridwidth": 2,
         "zeroline": false,
         "automargin": true,
         "ticks": "outside",
         "tickcolor": "white",
         "ticklen": 3,
         "fixedrange": true
        },
        "xaxis6": {
         "anchor": "y6",
         "domain": [
          0.525,
          1.0
         ],
         "showticklabels": true,
         "type": "linear",
         "gridwidth": 2,
         "zeroline": false,
         "automargin": true,
         "ticks": "outside",
         "tickcolor": "white",
         "ticklen": 3,
         "fixedrange": true,
         "title": {
          "text": ""
         }
        },
        "yaxis6": {
         "anchor": "x6",
         "domain": [
          0.7333333333333333,
          1.0
         ],
         "matches": "y",
         "showticklabels": false,
         "type": "linear",
         "gridwidth": 2,
         "zeroline": false,
         "automargin": true,
         "ticks": "outside",
         "tickcolor": "white",
         "ticklen": 3,
         "fixedrange": true,
         "title": {
          "text": ""
         }
        },
        "annotations": [
         {
          "font": {
           "size": 13
          },
          "showarrow": false,
          "text": "Topic 4",
          "x": 0.2375,
          "xanchor": "center",
          "xref": "paper",
          "y": 0.26666666666666666,
          "yanchor": "bottom",
          "yref": "paper"
         },
         {
          "font": {
           "size": 13
          },
          "showarrow": false,
          "text": "Topic 2",
          "x": 0.2375,
          "xanchor": "center",
          "xref": "paper",
          "y": 0.6333333333333333,
          "yanchor": "bottom",
          "yref": "paper"
         },
         {
          "font": {
           "size": 13
          },
          "showarrow": false,
          "text": "Topic 3",
          "x": 0.7625,
          "xanchor": "center",
          "xref": "paper",
          "y": 0.6333333333333333,
          "yanchor": "bottom",
          "yref": "paper"
         },
         {
          "font": {
           "size": 13
          },
          "showarrow": false,
          "text": "Topic 0",
          "x": 0.2375,
          "xanchor": "center",
          "xref": "paper",
          "y": 1.0,
          "yanchor": "bottom",
          "yref": "paper"
         },
         {
          "font": {
           "size": 13
          },
          "showarrow": false,
          "text": "Topic 1",
          "x": 0.7625,
          "xanchor": "center",
          "xref": "paper",
          "y": 1.0,
          "yanchor": "bottom",
          "yref": "paper"
         },
         {
          "font": {
           "size": 13
          },
          "showarrow": false,
          "text": "prediction",
          "textangle": -90,
          "x": -0.07,
          "xref": "paper",
          "y": 0.5,
          "yref": "paper"
         }
        ],
        "legend": {
         "title": {
          "text": "label",
          "font": {
           "size": 12
          }
         },
         "tracegroupgap": 0,
         "font": {
          "size": 11
         },
         "orientation": "h",
         "yanchor": "bottom",
         "y": 1.0256629597946962,
         "xanchor": "right",
         "x": 1,
         "itemsizing": "constant"
        },
        "margin": {
         "t": 78,
         "b": 71,
         "r": 30
        },
        "font": {
         "color": "#371ea3"
        },
        "title": {
         "font": {
          "size": 16
         },
         "text": "Aggregated Profiles",
         "x": 0.15
        },
        "hovermode": "x unified",
        "height": 1169
       },
       "config": {
        "plotlyServerURL": "https://plot.ly"
       }
      },
      "text/html": "<div>                            <div id=\"4d298217-c530-4ee8-998d-f57a3f72d5d8\" class=\"plotly-graph-div\" style=\"height:1169px; width:100%;\"></div>            <script type=\"text/javascript\">                require([\"plotly\"], function(Plotly) {                    window.PLOTLYENV=window.PLOTLYENV || {};                                    if (document.getElementById(\"4d298217-c530-4ee8-998d-f57a3f72d5d8\")) {                    Plotly.newPlot(                        \"4d298217-c530-4ee8-998d-f57a3f72d5d8\",                        [{\"customdata\":[[94.37490844726562,\"XGBRegressor\",\"Topic 0\"],[94.37490844726562,\"XGBRegressor\",\"Topic 0\"],[94.37490844726562,\"XGBRegressor\",\"Topic 0\"],[94.37490844726562,\"XGBRegressor\",\"Topic 0\"],[94.37490844726562,\"XGBRegressor\",\"Topic 0\"],[94.37490844726562,\"XGBRegressor\",\"Topic 0\"],[94.37490844726562,\"XGBRegressor\",\"Topic 0\"],[94.37490844726562,\"XGBRegressor\",\"Topic 0\"],[94.37490844726562,\"XGBRegressor\",\"Topic 0\"],[94.37490844726562,\"XGBRegressor\",\"Topic 0\"],[94.37490844726562,\"XGBRegressor\",\"Topic 0\"],[94.37490844726562,\"XGBRegressor\",\"Topic 0\"],[94.37490844726562,\"XGBRegressor\",\"Topic 0\"],[94.37490844726562,\"XGBRegressor\",\"Topic 0\"],[94.37490844726562,\"XGBRegressor\",\"Topic 0\"],[94.37490844726562,\"XGBRegressor\",\"Topic 0\"],[94.37490844726562,\"XGBRegressor\",\"Topic 0\"],[94.37490844726562,\"XGBRegressor\",\"Topic 0\"],[94.37490844726562,\"XGBRegressor\",\"Topic 0\"],[94.37490844726562,\"XGBRegressor\",\"Topic 0\"],[94.37490844726562,\"XGBRegressor\",\"Topic 0\"],[94.37490844726562,\"XGBRegressor\",\"Topic 0\"],[94.37490844726562,\"XGBRegressor\",\"Topic 0\"],[94.37490844726562,\"XGBRegressor\",\"Topic 0\"],[94.37490844726562,\"XGBRegressor\",\"Topic 0\"],[94.37490844726562,\"XGBRegressor\",\"Topic 0\"],[94.37490844726562,\"XGBRegressor\",\"Topic 0\"],[94.37490844726562,\"XGBRegressor\",\"Topic 0\"],[94.37490844726562,\"XGBRegressor\",\"Topic 0\"],[94.37490844726562,\"XGBRegressor\",\"Topic 0\"],[94.37490844726562,\"XGBRegressor\",\"Topic 0\"],[94.37490844726562,\"XGBRegressor\",\"Topic 0\"],[94.37490844726562,\"XGBRegressor\",\"Topic 0\"],[94.37490844726562,\"XGBRegressor\",\"Topic 0\"],[94.37490844726562,\"XGBRegressor\",\"Topic 0\"],[94.37490844726562,\"XGBRegressor\",\"Topic 0\"],[94.37490844726562,\"XGBRegressor\",\"Topic 0\"],[94.37490844726562,\"XGBRegressor\",\"Topic 0\"],[94.37490844726562,\"XGBRegressor\",\"Topic 0\"],[94.37490844726562,\"XGBRegressor\",\"Topic 0\"],[94.37490844726562,\"XGBRegressor\",\"Topic 0\"],[94.37490844726562,\"XGBRegressor\",\"Topic 0\"],[94.37490844726562,\"XGBRegressor\",\"Topic 0\"],[94.37490844726562,\"XGBRegressor\",\"Topic 0\"],[94.37490844726562,\"XGBRegressor\",\"Topic 0\"],[94.37490844726562,\"XGBRegressor\",\"Topic 0\"],[94.37490844726562,\"XGBRegressor\",\"Topic 0\"],[94.37490844726562,\"XGBRegressor\",\"Topic 0\"],[94.37490844726562,\"XGBRegressor\",\"Topic 0\"],[94.37490844726562,\"XGBRegressor\",\"Topic 0\"],[94.37490844726562,\"XGBRegressor\",\"Topic 0\"],[94.37490844726562,\"XGBRegressor\",\"Topic 0\"],[94.37490844726562,\"XGBRegressor\",\"Topic 0\"],[94.37490844726562,\"XGBRegressor\",\"Topic 0\"],[94.37490844726562,\"XGBRegressor\",\"Topic 0\"],[94.37490844726562,\"XGBRegressor\",\"Topic 0\"],[94.37490844726562,\"XGBRegressor\",\"Topic 0\"],[94.37490844726562,\"XGBRegressor\",\"Topic 0\"],[94.37490844726562,\"XGBRegressor\",\"Topic 0\"],[94.37490844726562,\"XGBRegressor\",\"Topic 0\"],[94.37490844726562,\"XGBRegressor\",\"Topic 0\"],[94.37490844726562,\"XGBRegressor\",\"Topic 0\"],[94.37490844726562,\"XGBRegressor\",\"Topic 0\"],[94.37490844726562,\"XGBRegressor\",\"Topic 0\"],[94.37490844726562,\"XGBRegressor\",\"Topic 0\"],[94.37490844726562,\"XGBRegressor\",\"Topic 0\"],[94.37490844726562,\"XGBRegressor\",\"Topic 0\"],[94.37490844726562,\"XGBRegressor\",\"Topic 0\"],[94.37490844726562,\"XGBRegressor\",\"Topic 0\"],[94.37490844726562,\"XGBRegressor\",\"Topic 0\"],[94.37490844726562,\"XGBRegressor\",\"Topic 0\"],[94.37490844726562,\"XGBRegressor\",\"Topic 0\"],[94.37490844726562,\"XGBRegressor\",\"Topic 0\"],[94.37490844726562,\"XGBRegressor\",\"Topic 0\"],[94.37490844726562,\"XGBRegressor\",\"Topic 0\"],[94.37490844726562,\"XGBRegressor\",\"Topic 0\"],[94.37490844726562,\"XGBRegressor\",\"Topic 0\"],[94.37490844726562,\"XGBRegressor\",\"Topic 0\"],[94.37490844726562,\"XGBRegressor\",\"Topic 0\"],[94.37490844726562,\"XGBRegressor\",\"Topic 0\"],[94.37490844726562,\"XGBRegressor\",\"Topic 0\"],[94.37490844726562,\"XGBRegressor\",\"Topic 0\"],[94.37490844726562,\"XGBRegressor\",\"Topic 0\"],[94.37490844726562,\"XGBRegressor\",\"Topic 0\"],[94.37490844726562,\"XGBRegressor\",\"Topic 0\"],[94.37490844726562,\"XGBRegressor\",\"Topic 0\"],[94.37490844726562,\"XGBRegressor\",\"Topic 0\"],[94.37490844726562,\"XGBRegressor\",\"Topic 0\"],[94.37490844726562,\"XGBRegressor\",\"Topic 0\"],[94.37490844726562,\"XGBRegressor\",\"Topic 0\"],[94.37490844726562,\"XGBRegressor\",\"Topic 0\"],[94.37490844726562,\"XGBRegressor\",\"Topic 0\"],[94.37490844726562,\"XGBRegressor\",\"Topic 0\"],[94.37490844726562,\"XGBRegressor\",\"Topic 0\"],[94.37490844726562,\"XGBRegressor\",\"Topic 0\"],[94.37490844726562,\"XGBRegressor\",\"Topic 0\"],[94.37490844726562,\"XGBRegressor\",\"Topic 0\"],[94.37490844726562,\"XGBRegressor\",\"Topic 0\"],[94.37490844726562,\"XGBRegressor\",\"Topic 0\"],[94.37490844726562,\"XGBRegressor\",\"Topic 0\"],[94.37490844726562,\"XGBRegressor\",\"Topic 0\"]],\"hovertemplate\":\"<b>%{hovertext}</b><br><br>prediction=%{y:.3f}<br>mean_prediction=%{customdata[0]:.3f}<extra></extra>\",\"hovertext\":[\"XGBRegressor\",\"XGBRegressor\",\"XGBRegressor\",\"XGBRegressor\",\"XGBRegressor\",\"XGBRegressor\",\"XGBRegressor\",\"XGBRegressor\",\"XGBRegressor\",\"XGBRegressor\",\"XGBRegressor\",\"XGBRegressor\",\"XGBRegressor\",\"XGBRegressor\",\"XGBRegressor\",\"XGBRegressor\",\"XGBRegressor\",\"XGBRegressor\",\"XGBRegressor\",\"XGBRegressor\",\"XGBRegressor\",\"XGBRegressor\",\"XGBRegressor\",\"XGBRegressor\",\"XGBRegressor\",\"XGBRegressor\",\"XGBRegressor\",\"XGBRegressor\",\"XGBRegressor\",\"XGBRegressor\",\"XGBRegressor\",\"XGBRegressor\",\"XGBRegressor\",\"XGBRegressor\",\"XGBRegressor\",\"XGBRegressor\",\"XGBRegressor\",\"XGBRegressor\",\"XGBRegressor\",\"XGBRegressor\",\"XGBRegressor\",\"XGBRegressor\",\"XGBRegressor\",\"XGBRegressor\",\"XGBRegressor\",\"XGBRegressor\",\"XGBRegressor\",\"XGBRegressor\",\"XGBRegressor\",\"XGBRegressor\",\"XGBRegressor\",\"XGBRegressor\",\"XGBRegressor\",\"XGBRegressor\",\"XGBRegressor\",\"XGBRegressor\",\"XGBRegressor\",\"XGBRegressor\",\"XGBRegressor\",\"XGBRegressor\",\"XGBRegressor\",\"XGBRegressor\",\"XGBRegressor\",\"XGBRegressor\",\"XGBRegressor\",\"XGBRegressor\",\"XGBRegressor\",\"XGBRegressor\",\"XGBRegressor\",\"XGBRegressor\",\"XGBRegressor\",\"XGBRegressor\",\"XGBRegressor\",\"XGBRegressor\",\"XGBRegressor\",\"XGBRegressor\",\"XGBRegressor\",\"XGBRegressor\",\"XGBRegressor\",\"XGBRegressor\",\"XGBRegressor\",\"XGBRegressor\",\"XGBRegressor\",\"XGBRegressor\",\"XGBRegressor\",\"XGBRegressor\",\"XGBRegressor\",\"XGBRegressor\",\"XGBRegressor\",\"XGBRegressor\",\"XGBRegressor\",\"XGBRegressor\",\"XGBRegressor\",\"XGBRegressor\",\"XGBRegressor\",\"XGBRegressor\",\"XGBRegressor\",\"XGBRegressor\",\"XGBRegressor\",\"XGBRegressor\",\"XGBRegressor\"],\"legendgroup\":\"XGBRegressor\",\"line\":{\"color\":\"#46bac2\",\"dash\":\"solid\",\"width\":2},\"marker\":{\"symbol\":\"circle\"},\"mode\":\"lines\",\"name\":\"XGBRegressor\",\"orientation\":\"v\",\"showlegend\":true,\"x\":[7.237062305315275e-06,0.010006113762948597,0.020004990463591877,0.030003867164235157,0.04000274386487844,0.05000162056552172,0.060000497266165,0.06999937396680829,0.07999825066745157,0.08999712736809486,0.09999600406873814,0.10999488076938142,0.11999375747002469,0.12999263417066798,0.13999151087131126,0.14999038757195454,0.15998926427259783,0.1699881409732411,0.1799870176738844,0.18998589437452768,0.19998477107517096,0.20998364777581424,0.21998252447645752,0.2299814011771008,0.23998027787774406,0.24997915457838735,0.25997803127903063,0.26997690797967394,0.2799757846803172,0.2899746613809605,0.29997353808160376,0.3099724147822471,0.31997129148289033,0.3299701681835336,0.3399690448841769,0.34996792158482015,0.35996679828546346,0.3699656749861067,0.37996455168675003,0.3899634283873933,0.3999623050880366,0.40996118178867985,0.41996005848932316,0.4299589351899664,0.43995781189060973,0.449956688591253,0.4599555652918963,0.46995444199253955,0.4799533186931828,0.4899521953938261,0.4999510720944694,0.5099499487951127,0.5199488254957559,0.5299477021963992,0.5399465788970426,0.5499454555976858,0.5599443322983291,0.5699432089989723,0.5799420856996157,0.589940962400259,0.5999398391009022,0.6099387158015455,0.6199375925021888,0.6299364692028321,0.6399353459034753,0.6499342226041186,0.6599330993047618,0.6699319760054052,0.6799308527060485,0.6899297294066917,0.699928606107335,0.7099274828079783,0.7199263595086216,0.7299252362092649,0.7399241129099081,0.7499229896105515,0.7599218663111947,0.769920743011838,0.7799196197124812,0.7899184964131246,0.7999173731137679,0.8099162498144111,0.8199151265150544,0.8299140032156976,0.839912879916341,0.8499117566169843,0.8599106333176275,0.8699095100182708,0.8799083867189141,0.8899072634195574,0.8999061401202006,0.9099050168208439,0.9199038935214873,0.9299027702221305,0.9399016469227738,0.949900523623417,0.9598994003240603,0.9698982770247037,0.9798971537253469,0.9898960304259902,0.9998949071266335],\"xaxis\":\"x5\",\"y\":[194.1370849609375,84.08800506591797,84.50299835205078,69.33084869384766,63.91572570800781,79.3224105834961,78.25456237792969,83.02977752685547,79.12567138671875,87.5156021118164,88.64777374267578,107.91526794433594,134.61997985839844,118.11738586425781,100.9284896850586,96.82703399658203,99.12889862060547,99.288818359375,102.03943634033203,101.77183532714844,101.77183532714844,101.7125015258789,128.58609008789062,91.9583969116211,92.88755798339844,93.2413558959961,104.52444458007812,106.59869384765625,99.96742248535156,98.06562805175781,87.22843170166016,86.98582458496094,87.48211669921875,88.8658218383789,88.70359802246094,91.07182312011719,92.23037719726562,114.08766174316406,96.26631927490234,96.5149917602539,96.44908142089844,97.34119415283203,97.55733489990234,97.55733489990234,105.33056640625,105.33056640625,108.37555694580078,121.302001953125,120.27398681640625,117.70316314697266,124.59774017333984,128.09823608398438,128.22647094726562,127.87586975097656,178.70513916015625,207.57659912109375,166.00926208496094,164.9799041748047,133.1215362548828,132.90028381347656,132.66232299804688,389.7416076660156,265.7745666503906,268.2803955078125,268.3336486816406,203.8934326171875,282.14764404296875,258.84747314453125,262.3837890625,263.28973388671875,260.2310485839844,260.2310485839844,258.1756286621094,262.5125427246094,262.60272216796875,263.5466613769531,263.5271911621094,287.7020568847656,296.8049621582031,292.0516357421875,292.3488464355469,315.3274230957031,333.40625,333.47625732421875,333.47625732421875,334.5641174316406,336.9259948730469,336.9410095214844,336.97802734375,344.1163330078125,486.4453430175781,322.5518493652344,324.521484375,353.5417785644531,336.5341796875,330.408935546875,325.14617919921875,323.5157165527344,323.5157165527344,347.5016174316406,334.3361511230469],\"yaxis\":\"y5\",\"type\":\"scatter\",\"opacity\":1},{\"customdata\":[[94.37490844726562,\"XGBRegressor\",\"Topic 1\"],[94.37490844726562,\"XGBRegressor\",\"Topic 1\"],[94.37490844726562,\"XGBRegressor\",\"Topic 1\"],[94.37490844726562,\"XGBRegressor\",\"Topic 1\"],[94.37490844726562,\"XGBRegressor\",\"Topic 1\"],[94.37490844726562,\"XGBRegressor\",\"Topic 1\"],[94.37490844726562,\"XGBRegressor\",\"Topic 1\"],[94.37490844726562,\"XGBRegressor\",\"Topic 1\"],[94.37490844726562,\"XGBRegressor\",\"Topic 1\"],[94.37490844726562,\"XGBRegressor\",\"Topic 1\"],[94.37490844726562,\"XGBRegressor\",\"Topic 1\"],[94.37490844726562,\"XGBRegressor\",\"Topic 1\"],[94.37490844726562,\"XGBRegressor\",\"Topic 1\"],[94.37490844726562,\"XGBRegressor\",\"Topic 1\"],[94.37490844726562,\"XGBRegressor\",\"Topic 1\"],[94.37490844726562,\"XGBRegressor\",\"Topic 1\"],[94.37490844726562,\"XGBRegressor\",\"Topic 1\"],[94.37490844726562,\"XGBRegressor\",\"Topic 1\"],[94.37490844726562,\"XGBRegressor\",\"Topic 1\"],[94.37490844726562,\"XGBRegressor\",\"Topic 1\"],[94.37490844726562,\"XGBRegressor\",\"Topic 1\"],[94.37490844726562,\"XGBRegressor\",\"Topic 1\"],[94.37490844726562,\"XGBRegressor\",\"Topic 1\"],[94.37490844726562,\"XGBRegressor\",\"Topic 1\"],[94.37490844726562,\"XGBRegressor\",\"Topic 1\"],[94.37490844726562,\"XGBRegressor\",\"Topic 1\"],[94.37490844726562,\"XGBRegressor\",\"Topic 1\"],[94.37490844726562,\"XGBRegressor\",\"Topic 1\"],[94.37490844726562,\"XGBRegressor\",\"Topic 1\"],[94.37490844726562,\"XGBRegressor\",\"Topic 1\"],[94.37490844726562,\"XGBRegressor\",\"Topic 1\"],[94.37490844726562,\"XGBRegressor\",\"Topic 1\"],[94.37490844726562,\"XGBRegressor\",\"Topic 1\"],[94.37490844726562,\"XGBRegressor\",\"Topic 1\"],[94.37490844726562,\"XGBRegressor\",\"Topic 1\"],[94.37490844726562,\"XGBRegressor\",\"Topic 1\"],[94.37490844726562,\"XGBRegressor\",\"Topic 1\"],[94.37490844726562,\"XGBRegressor\",\"Topic 1\"],[94.37490844726562,\"XGBRegressor\",\"Topic 1\"],[94.37490844726562,\"XGBRegressor\",\"Topic 1\"],[94.37490844726562,\"XGBRegressor\",\"Topic 1\"],[94.37490844726562,\"XGBRegressor\",\"Topic 1\"],[94.37490844726562,\"XGBRegressor\",\"Topic 1\"],[94.37490844726562,\"XGBRegressor\",\"Topic 1\"],[94.37490844726562,\"XGBRegressor\",\"Topic 1\"],[94.37490844726562,\"XGBRegressor\",\"Topic 1\"],[94.37490844726562,\"XGBRegressor\",\"Topic 1\"],[94.37490844726562,\"XGBRegressor\",\"Topic 1\"],[94.37490844726562,\"XGBRegressor\",\"Topic 1\"],[94.37490844726562,\"XGBRegressor\",\"Topic 1\"],[94.37490844726562,\"XGBRegressor\",\"Topic 1\"],[94.37490844726562,\"XGBRegressor\",\"Topic 1\"],[94.37490844726562,\"XGBRegressor\",\"Topic 1\"],[94.37490844726562,\"XGBRegressor\",\"Topic 1\"],[94.37490844726562,\"XGBRegressor\",\"Topic 1\"],[94.37490844726562,\"XGBRegressor\",\"Topic 1\"],[94.37490844726562,\"XGBRegressor\",\"Topic 1\"],[94.37490844726562,\"XGBRegressor\",\"Topic 1\"],[94.37490844726562,\"XGBRegressor\",\"Topic 1\"],[94.37490844726562,\"XGBRegressor\",\"Topic 1\"],[94.37490844726562,\"XGBRegressor\",\"Topic 1\"],[94.37490844726562,\"XGBRegressor\",\"Topic 1\"],[94.37490844726562,\"XGBRegressor\",\"Topic 1\"],[94.37490844726562,\"XGBRegressor\",\"Topic 1\"],[94.37490844726562,\"XGBRegressor\",\"Topic 1\"],[94.37490844726562,\"XGBRegressor\",\"Topic 1\"],[94.37490844726562,\"XGBRegressor\",\"Topic 1\"],[94.37490844726562,\"XGBRegressor\",\"Topic 1\"],[94.37490844726562,\"XGBRegressor\",\"Topic 1\"],[94.37490844726562,\"XGBRegressor\",\"Topic 1\"],[94.37490844726562,\"XGBRegressor\",\"Topic 1\"],[94.37490844726562,\"XGBRegressor\",\"Topic 1\"],[94.37490844726562,\"XGBRegressor\",\"Topic 1\"],[94.37490844726562,\"XGBRegressor\",\"Topic 1\"],[94.37490844726562,\"XGBRegressor\",\"Topic 1\"],[94.37490844726562,\"XGBRegressor\",\"Topic 1\"],[94.37490844726562,\"XGBRegressor\",\"Topic 1\"],[94.37490844726562,\"XGBRegressor\",\"Topic 1\"],[94.37490844726562,\"XGBRegressor\",\"Topic 1\"],[94.37490844726562,\"XGBRegressor\",\"Topic 1\"],[94.37490844726562,\"XGBRegressor\",\"Topic 1\"],[94.37490844726562,\"XGBRegressor\",\"Topic 1\"],[94.37490844726562,\"XGBRegressor\",\"Topic 1\"],[94.37490844726562,\"XGBRegressor\",\"Topic 1\"],[94.37490844726562,\"XGBRegressor\",\"Topic 1\"],[94.37490844726562,\"XGBRegressor\",\"Topic 1\"],[94.37490844726562,\"XGBRegressor\",\"Topic 1\"],[94.37490844726562,\"XGBRegressor\",\"Topic 1\"],[94.37490844726562,\"XGBRegressor\",\"Topic 1\"],[94.37490844726562,\"XGBRegressor\",\"Topic 1\"],[94.37490844726562,\"XGBRegressor\",\"Topic 1\"],[94.37490844726562,\"XGBRegressor\",\"Topic 1\"],[94.37490844726562,\"XGBRegressor\",\"Topic 1\"],[94.37490844726562,\"XGBRegressor\",\"Topic 1\"],[94.37490844726562,\"XGBRegressor\",\"Topic 1\"],[94.37490844726562,\"XGBRegressor\",\"Topic 1\"],[94.37490844726562,\"XGBRegressor\",\"Topic 1\"],[94.37490844726562,\"XGBRegressor\",\"Topic 1\"],[94.37490844726562,\"XGBRegressor\",\"Topic 1\"],[94.37490844726562,\"XGBRegressor\",\"Topic 1\"],[94.37490844726562,\"XGBRegressor\",\"Topic 1\"]],\"hovertemplate\":\"<b>%{hovertext}</b><br><br>prediction=%{y:.3f}<br>mean_prediction=%{customdata[0]:.3f}<extra></extra>\",\"hovertext\":[\"XGBRegressor\",\"XGBRegressor\",\"XGBRegressor\",\"XGBRegressor\",\"XGBRegressor\",\"XGBRegressor\",\"XGBRegressor\",\"XGBRegressor\",\"XGBRegressor\",\"XGBRegressor\",\"XGBRegressor\",\"XGBRegressor\",\"XGBRegressor\",\"XGBRegressor\",\"XGBRegressor\",\"XGBRegressor\",\"XGBRegressor\",\"XGBRegressor\",\"XGBRegressor\",\"XGBRegressor\",\"XGBRegressor\",\"XGBRegressor\",\"XGBRegressor\",\"XGBRegressor\",\"XGBRegressor\",\"XGBRegressor\",\"XGBRegressor\",\"XGBRegressor\",\"XGBRegressor\",\"XGBRegressor\",\"XGBRegressor\",\"XGBRegressor\",\"XGBRegressor\",\"XGBRegressor\",\"XGBRegressor\",\"XGBRegressor\",\"XGBRegressor\",\"XGBRegressor\",\"XGBRegressor\",\"XGBRegressor\",\"XGBRegressor\",\"XGBRegressor\",\"XGBRegressor\",\"XGBRegressor\",\"XGBRegressor\",\"XGBRegressor\",\"XGBRegressor\",\"XGBRegressor\",\"XGBRegressor\",\"XGBRegressor\",\"XGBRegressor\",\"XGBRegressor\",\"XGBRegressor\",\"XGBRegressor\",\"XGBRegressor\",\"XGBRegressor\",\"XGBRegressor\",\"XGBRegressor\",\"XGBRegressor\",\"XGBRegressor\",\"XGBRegressor\",\"XGBRegressor\",\"XGBRegressor\",\"XGBRegressor\",\"XGBRegressor\",\"XGBRegressor\",\"XGBRegressor\",\"XGBRegressor\",\"XGBRegressor\",\"XGBRegressor\",\"XGBRegressor\",\"XGBRegressor\",\"XGBRegressor\",\"XGBRegressor\",\"XGBRegressor\",\"XGBRegressor\",\"XGBRegressor\",\"XGBRegressor\",\"XGBRegressor\",\"XGBRegressor\",\"XGBRegressor\",\"XGBRegressor\",\"XGBRegressor\",\"XGBRegressor\",\"XGBRegressor\",\"XGBRegressor\",\"XGBRegressor\",\"XGBRegressor\",\"XGBRegressor\",\"XGBRegressor\",\"XGBRegressor\",\"XGBRegressor\",\"XGBRegressor\",\"XGBRegressor\",\"XGBRegressor\",\"XGBRegressor\",\"XGBRegressor\",\"XGBRegressor\",\"XGBRegressor\",\"XGBRegressor\",\"XGBRegressor\"],\"legendgroup\":\"XGBRegressor\",\"line\":{\"color\":\"#46bac2\",\"dash\":\"solid\",\"width\":2},\"marker\":{\"symbol\":\"circle\"},\"mode\":\"lines\",\"name\":\"XGBRegressor\",\"orientation\":\"v\",\"showlegend\":false,\"x\":[6.470889395355169e-06,0.010006042237337254,0.02000561358527915,0.03000518493322105,0.04000475628116295,0.050004327629104846,0.06000389897704675,0.07000347032498865,0.08000304167293054,0.09000261302087244,0.10000218436881433,0.11000175571675623,0.12000132706469814,0.13000089841264,0.14000046976058192,0.1500000411085238,0.1599996124564657,0.16999918380440762,0.1799987551523495,0.18999832650029141,0.1999978978482333,0.2099974691961752,0.2199970405441171,0.229996611892059,0.2399961832400009,0.2499957545879428,0.2599953259358847,0.26999489728382664,0.2799944686317685,0.2899940399797104,0.2999936113276523,0.3099931826755942,0.3199927540235361,0.329992325371478,0.33999189671941993,0.3499914680673618,0.3599910394153037,0.3699906107632456,0.3799901821111875,0.3899897534591294,0.3999893248070713,0.4099888961550132,0.4199884675029551,0.429988038850897,0.43998761019883886,0.4499871815467808,0.4599867528947227,0.46998632424266457,0.4799858955906065,0.4899854669385484,0.49998503828649027,0.5099846096344322,0.519984180982374,0.5299837523303159,0.5399833236782579,0.5499828950261997,0.5599824663741416,0.5699820377220836,0.5799816090700254,0.5899811804179673,0.5999807517659091,0.6099803231138511,0.619979894461793,0.6299794658097349,0.6399790371576768,0.6499786085056187,0.6599781798535606,0.6699777512015025,0.6799773225494444,0.6899768938973863,0.6999764652453282,0.70997603659327,0.719975607941212,0.7299751792891539,0.7399747506370957,0.7499743219850377,0.7599738933329796,0.7699734646809214,0.7799730360288634,0.7899726073768053,0.7999721787247471,0.8099717500726891,0.819971321420631,0.8299708927685728,0.8399704641165148,0.8499700354644566,0.8599696068123985,0.8699691781603405,0.8799687495082823,0.8899683208562242,0.8999678922041662,0.909967463552108,0.9199670349000499,0.9299666062479919,0.9399661775959337,0.9499657489438756,0.9599653202918176,0.9699648916397594,0.9799644629877013,0.9899640343356432,0.9999636056835851],\"xaxis\":\"x6\",\"y\":[191.70274353027344,74.57281494140625,78.00859832763672,78.83052062988281,80.44112396240234,81.72711181640625,101.56913757324219,72.82884979248047,71.59014129638672,82.9775161743164,79.79690551757812,86.92451477050781,78.29385375976562,108.23396301269531,137.9635009765625,98.86568450927734,209.00714111328125,93.0016860961914,97.00643157958984,96.82549285888672,98.596435546875,95.9073257446289,95.84580993652344,96.06920623779297,95.72727966308594,92.59158325195312,91.85468292236328,91.1737289428711,182.66334533691406,220.12303161621094,101.34197998046875,97.18206787109375,99.81375122070312,99.85247039794922,99.85247039794922,100.08650970458984,100.32353210449219,102.0972671508789,102.0972671508789,102.0972671508789,102.06889343261719,99.83869934082031,100.10440826416016,104.982666015625,105.34969329833984,103.78791046142578,100.57991790771484,100.30797576904297,102.70674133300781,102.71147918701172,102.71147918701172,102.54694366455078,97.28961944580078,97.48464965820312,97.32859802246094,97.09661102294922,97.21117401123047,97.21117401123047,94.71959686279297,94.71959686279297,97.87793731689453,98.65481567382812,125.72813415527344,125.58810424804688,125.6584701538086,125.61658477783203,114.14625549316406,114.14625549316406,131.69305419921875,99.7751235961914,99.7751235961914,95.4659652709961,104.35579681396484,97.50009155273438,97.50009155273438,93.24597930908203,93.24597930908203,93.28807067871094,109.53193664550781,228.91021728515625,209.68890380859375,194.71633911132812,192.57948303222656,204.78622436523438,198.77020263671875,206.22987365722656,244.43568420410156,244.55282592773438,250.71170043945312,250.71966552734375,251.4053192138672,251.40151977539062,251.40151977539062,236.01658630371094,248.623291015625,248.578369140625,243.177978515625,243.39788818359375,252.8394012451172,283.6771545410156,328.9796447753906],\"yaxis\":\"y6\",\"type\":\"scatter\",\"opacity\":1},{\"customdata\":[[94.37490844726562,\"XGBRegressor\",\"Topic 2\"],[94.37490844726562,\"XGBRegressor\",\"Topic 2\"],[94.37490844726562,\"XGBRegressor\",\"Topic 2\"],[94.37490844726562,\"XGBRegressor\",\"Topic 2\"],[94.37490844726562,\"XGBRegressor\",\"Topic 2\"],[94.37490844726562,\"XGBRegressor\",\"Topic 2\"],[94.37490844726562,\"XGBRegressor\",\"Topic 2\"],[94.37490844726562,\"XGBRegressor\",\"Topic 2\"],[94.37490844726562,\"XGBRegressor\",\"Topic 2\"],[94.37490844726562,\"XGBRegressor\",\"Topic 2\"],[94.37490844726562,\"XGBRegressor\",\"Topic 2\"],[94.37490844726562,\"XGBRegressor\",\"Topic 2\"],[94.37490844726562,\"XGBRegressor\",\"Topic 2\"],[94.37490844726562,\"XGBRegressor\",\"Topic 2\"],[94.37490844726562,\"XGBRegressor\",\"Topic 2\"],[94.37490844726562,\"XGBRegressor\",\"Topic 2\"],[94.37490844726562,\"XGBRegressor\",\"Topic 2\"],[94.37490844726562,\"XGBRegressor\",\"Topic 2\"],[94.37490844726562,\"XGBRegressor\",\"Topic 2\"],[94.37490844726562,\"XGBRegressor\",\"Topic 2\"],[94.37490844726562,\"XGBRegressor\",\"Topic 2\"],[94.37490844726562,\"XGBRegressor\",\"Topic 2\"],[94.37490844726562,\"XGBRegressor\",\"Topic 2\"],[94.37490844726562,\"XGBRegressor\",\"Topic 2\"],[94.37490844726562,\"XGBRegressor\",\"Topic 2\"],[94.37490844726562,\"XGBRegressor\",\"Topic 2\"],[94.37490844726562,\"XGBRegressor\",\"Topic 2\"],[94.37490844726562,\"XGBRegressor\",\"Topic 2\"],[94.37490844726562,\"XGBRegressor\",\"Topic 2\"],[94.37490844726562,\"XGBRegressor\",\"Topic 2\"],[94.37490844726562,\"XGBRegressor\",\"Topic 2\"],[94.37490844726562,\"XGBRegressor\",\"Topic 2\"],[94.37490844726562,\"XGBRegressor\",\"Topic 2\"],[94.37490844726562,\"XGBRegressor\",\"Topic 2\"],[94.37490844726562,\"XGBRegressor\",\"Topic 2\"],[94.37490844726562,\"XGBRegressor\",\"Topic 2\"],[94.37490844726562,\"XGBRegressor\",\"Topic 2\"],[94.37490844726562,\"XGBRegressor\",\"Topic 2\"],[94.37490844726562,\"XGBRegressor\",\"Topic 2\"],[94.37490844726562,\"XGBRegressor\",\"Topic 2\"],[94.37490844726562,\"XGBRegressor\",\"Topic 2\"],[94.37490844726562,\"XGBRegressor\",\"Topic 2\"],[94.37490844726562,\"XGBRegressor\",\"Topic 2\"],[94.37490844726562,\"XGBRegressor\",\"Topic 2\"],[94.37490844726562,\"XGBRegressor\",\"Topic 2\"],[94.37490844726562,\"XGBRegressor\",\"Topic 2\"],[94.37490844726562,\"XGBRegressor\",\"Topic 2\"],[94.37490844726562,\"XGBRegressor\",\"Topic 2\"],[94.37490844726562,\"XGBRegressor\",\"Topic 2\"],[94.37490844726562,\"XGBRegressor\",\"Topic 2\"],[94.37490844726562,\"XGBRegressor\",\"Topic 2\"],[94.37490844726562,\"XGBRegressor\",\"Topic 2\"],[94.37490844726562,\"XGBRegressor\",\"Topic 2\"],[94.37490844726562,\"XGBRegressor\",\"Topic 2\"],[94.37490844726562,\"XGBRegressor\",\"Topic 2\"],[94.37490844726562,\"XGBRegressor\",\"Topic 2\"],[94.37490844726562,\"XGBRegressor\",\"Topic 2\"],[94.37490844726562,\"XGBRegressor\",\"Topic 2\"],[94.37490844726562,\"XGBRegressor\",\"Topic 2\"],[94.37490844726562,\"XGBRegressor\",\"Topic 2\"],[94.37490844726562,\"XGBRegressor\",\"Topic 2\"],[94.37490844726562,\"XGBRegressor\",\"Topic 2\"],[94.37490844726562,\"XGBRegressor\",\"Topic 2\"],[94.37490844726562,\"XGBRegressor\",\"Topic 2\"],[94.37490844726562,\"XGBRegressor\",\"Topic 2\"],[94.37490844726562,\"XGBRegressor\",\"Topic 2\"],[94.37490844726562,\"XGBRegressor\",\"Topic 2\"],[94.37490844726562,\"XGBRegressor\",\"Topic 2\"],[94.37490844726562,\"XGBRegressor\",\"Topic 2\"],[94.37490844726562,\"XGBRegressor\",\"Topic 2\"],[94.37490844726562,\"XGBRegressor\",\"Topic 2\"],[94.37490844726562,\"XGBRegressor\",\"Topic 2\"],[94.37490844726562,\"XGBRegressor\",\"Topic 2\"],[94.37490844726562,\"XGBRegressor\",\"Topic 2\"],[94.37490844726562,\"XGBRegressor\",\"Topic 2\"],[94.37490844726562,\"XGBRegressor\",\"Topic 2\"],[94.37490844726562,\"XGBRegressor\",\"Topic 2\"],[94.37490844726562,\"XGBRegressor\",\"Topic 2\"],[94.37490844726562,\"XGBRegressor\",\"Topic 2\"],[94.37490844726562,\"XGBRegressor\",\"Topic 2\"],[94.37490844726562,\"XGBRegressor\",\"Topic 2\"],[94.37490844726562,\"XGBRegressor\",\"Topic 2\"],[94.37490844726562,\"XGBRegressor\",\"Topic 2\"],[94.37490844726562,\"XGBRegressor\",\"Topic 2\"],[94.37490844726562,\"XGBRegressor\",\"Topic 2\"],[94.37490844726562,\"XGBRegressor\",\"Topic 2\"],[94.37490844726562,\"XGBRegressor\",\"Topic 2\"],[94.37490844726562,\"XGBRegressor\",\"Topic 2\"],[94.37490844726562,\"XGBRegressor\",\"Topic 2\"],[94.37490844726562,\"XGBRegressor\",\"Topic 2\"],[94.37490844726562,\"XGBRegressor\",\"Topic 2\"],[94.37490844726562,\"XGBRegressor\",\"Topic 2\"],[94.37490844726562,\"XGBRegressor\",\"Topic 2\"],[94.37490844726562,\"XGBRegressor\",\"Topic 2\"],[94.37490844726562,\"XGBRegressor\",\"Topic 2\"],[94.37490844726562,\"XGBRegressor\",\"Topic 2\"],[94.37490844726562,\"XGBRegressor\",\"Topic 2\"],[94.37490844726562,\"XGBRegressor\",\"Topic 2\"],[94.37490844726562,\"XGBRegressor\",\"Topic 2\"],[94.37490844726562,\"XGBRegressor\",\"Topic 2\"],[94.37490844726562,\"XGBRegressor\",\"Topic 2\"]],\"hovertemplate\":\"<b>%{hovertext}</b><br><br>prediction=%{y:.3f}<br>mean_prediction=%{customdata[0]:.3f}<extra></extra>\",\"hovertext\":[\"XGBRegressor\",\"XGBRegressor\",\"XGBRegressor\",\"XGBRegressor\",\"XGBRegressor\",\"XGBRegressor\",\"XGBRegressor\",\"XGBRegressor\",\"XGBRegressor\",\"XGBRegressor\",\"XGBRegressor\",\"XGBRegressor\",\"XGBRegressor\",\"XGBRegressor\",\"XGBRegressor\",\"XGBRegressor\",\"XGBRegressor\",\"XGBRegressor\",\"XGBRegressor\",\"XGBRegressor\",\"XGBRegressor\",\"XGBRegressor\",\"XGBRegressor\",\"XGBRegressor\",\"XGBRegressor\",\"XGBRegressor\",\"XGBRegressor\",\"XGBRegressor\",\"XGBRegressor\",\"XGBRegressor\",\"XGBRegressor\",\"XGBRegressor\",\"XGBRegressor\",\"XGBRegressor\",\"XGBRegressor\",\"XGBRegressor\",\"XGBRegressor\",\"XGBRegressor\",\"XGBRegressor\",\"XGBRegressor\",\"XGBRegressor\",\"XGBRegressor\",\"XGBRegressor\",\"XGBRegressor\",\"XGBRegressor\",\"XGBRegressor\",\"XGBRegressor\",\"XGBRegressor\",\"XGBRegressor\",\"XGBRegressor\",\"XGBRegressor\",\"XGBRegressor\",\"XGBRegressor\",\"XGBRegressor\",\"XGBRegressor\",\"XGBRegressor\",\"XGBRegressor\",\"XGBRegressor\",\"XGBRegressor\",\"XGBRegressor\",\"XGBRegressor\",\"XGBRegressor\",\"XGBRegressor\",\"XGBRegressor\",\"XGBRegressor\",\"XGBRegressor\",\"XGBRegressor\",\"XGBRegressor\",\"XGBRegressor\",\"XGBRegressor\",\"XGBRegressor\",\"XGBRegressor\",\"XGBRegressor\",\"XGBRegressor\",\"XGBRegressor\",\"XGBRegressor\",\"XGBRegressor\",\"XGBRegressor\",\"XGBRegressor\",\"XGBRegressor\",\"XGBRegressor\",\"XGBRegressor\",\"XGBRegressor\",\"XGBRegressor\",\"XGBRegressor\",\"XGBRegressor\",\"XGBRegressor\",\"XGBRegressor\",\"XGBRegressor\",\"XGBRegressor\",\"XGBRegressor\",\"XGBRegressor\",\"XGBRegressor\",\"XGBRegressor\",\"XGBRegressor\",\"XGBRegressor\",\"XGBRegressor\",\"XGBRegressor\",\"XGBRegressor\",\"XGBRegressor\",\"XGBRegressor\"],\"legendgroup\":\"XGBRegressor\",\"line\":{\"color\":\"#46bac2\",\"dash\":\"solid\",\"width\":2},\"marker\":{\"symbol\":\"circle\"},\"mode\":\"lines\",\"name\":\"XGBRegressor\",\"orientation\":\"v\",\"showlegend\":false,\"x\":[6.9928683482148765e-06,0.009474629133894784,0.01894226539944135,0.02840990166498792,0.03787753793053449,0.047345174196081065,0.05681281046162763,0.06628044672717419,0.07574808299272076,0.08521571925826733,0.0946833555238139,0.10415099178936046,0.11361862805490704,0.12308626432045361,0.13255390058600017,0.14202153685154675,0.1514891731170933,0.16095680938263987,0.17042444564818646,0.17989208191373302,0.1893597181792796,0.19882735444482616,0.20829499071037272,0.2177626269759193,0.22723026324146586,0.23669789950701242,0.246165535772559,0.2556331720381056,0.2651008083036521,0.2745684445691987,0.2840360808347453,0.2935037171002918,0.3029713533658384,0.312438989631385,0.32190662589693153,0.3313742621624781,0.3408418984280247,0.35030953469357123,0.3597771709591178,0.3692448072246644,0.378712443490211,0.3881800797557575,0.3976477160213041,0.4071153522868507,0.4165829885523972,0.4260506248179438,0.4355182610834904,0.44498589734903693,0.4544535336145835,0.4639211698801301,0.47338880614567663,0.4828564424112232,0.4923240786767698,0.5017917149423164,0.511259351207863,0.5207269874734095,0.5301946237389561,0.5396622600045027,0.5491298962700493,0.5585975325355959,0.5680651688011424,0.5775328050666889,0.5870004413322355,0.5964680775977821,0.6059357138633287,0.6154033501288753,0.6248709863944218,0.6343386226599684,0.6438062589255149,0.6532738951910615,0.6627415314566081,0.6722091677221547,0.6816768039877013,0.6911444402532478,0.7006120765187943,0.7100797127843409,0.7195473490498875,0.7290149853154341,0.7384826215809807,0.7479502578465272,0.7574178941120738,0.7668855303776203,0.7763531666431669,0.7858208029087135,0.7952884391742601,0.8047560754398067,0.8142237117053532,0.8236913479708997,0.8331589842364463,0.8426266205019929,0.8520942567675395,0.8615618930330861,0.8710295292986326,0.8804971655641791,0.8899648018297257,0.8994324380952723,0.9089000743608189,0.9183677106263655,0.927835346891912,0.9373029831574586,0.9467706194230051],\"xaxis\":\"x3\",\"y\":[254.82797241210938,80.090576171875,70.99906921386719,72.92935180664062,77.25025177001953,77.80333709716797,67.13261413574219,76.05294036865234,75.93778228759766,77.32976531982422,76.47918701171875,76.40798950195312,73.80236053466797,89.19962310791016,86.17195129394531,87.57450103759766,94.27155303955078,117.95692443847656,124.55628967285156,93.49899291992188,94.74513244628906,94.74513244628906,94.74513244628906,102.4215087890625,113.28754425048828,113.33076477050781,126.84616088867188,137.396728515625,108.24112701416016,189.3477783203125,145.39537048339844,121.54630279541016,102.6891098022461,100.99104309082031,112.410400390625,110.04133605957031,110.53727722167969,108.44878387451172,108.44878387451172,108.51884460449219,115.20216369628906,149.831787109375,150.2235107421875,153.0503692626953,161.61868286132812,162.30807495117188,174.4055633544922,176.22555541992188,176.22555541992188,166.61691284179688,166.61691284179688,205.55043029785156,157.23770141601562,157.23770141601562,158.3564910888672,163.64447021484375,163.64447021484375,163.64447021484375,163.64447021484375,170.58306884765625,158.03219604492188,158.03219604492188,156.46243286132812,156.46243286132812,157.7194061279297,192.87181091308594,192.9741973876953,257.7632141113281,319.5276794433594,319.9335021972656,273.0208435058594,269.03973388671875,269.03973388671875,270.6182556152344,269.81280517578125,267.27398681640625,277.51641845703125,276.7503356933594,274.12127685546875,274.59344482421875,295.6761474609375,264.7528076171875,264.7528076171875,264.2947998046875,264.8868103027344,286.1737365722656,278.6282043457031,279.2417297363281,279.2417297363281,279.2417297363281,266.4497375488281,266.03338623046875,266.03338623046875,266.03338623046875,266.42425537109375,267.1997375488281,267.4124755859375,274.50018310546875,275.7054138183594,275.7054138183594,275.7054138183594],\"yaxis\":\"y3\",\"type\":\"scatter\",\"opacity\":1},{\"customdata\":[[94.37490844726562,\"XGBRegressor\",\"Topic 3\"],[94.37490844726562,\"XGBRegressor\",\"Topic 3\"],[94.37490844726562,\"XGBRegressor\",\"Topic 3\"],[94.37490844726562,\"XGBRegressor\",\"Topic 3\"],[94.37490844726562,\"XGBRegressor\",\"Topic 3\"],[94.37490844726562,\"XGBRegressor\",\"Topic 3\"],[94.37490844726562,\"XGBRegressor\",\"Topic 3\"],[94.37490844726562,\"XGBRegressor\",\"Topic 3\"],[94.37490844726562,\"XGBRegressor\",\"Topic 3\"],[94.37490844726562,\"XGBRegressor\",\"Topic 3\"],[94.37490844726562,\"XGBRegressor\",\"Topic 3\"],[94.37490844726562,\"XGBRegressor\",\"Topic 3\"],[94.37490844726562,\"XGBRegressor\",\"Topic 3\"],[94.37490844726562,\"XGBRegressor\",\"Topic 3\"],[94.37490844726562,\"XGBRegressor\",\"Topic 3\"],[94.37490844726562,\"XGBRegressor\",\"Topic 3\"],[94.37490844726562,\"XGBRegressor\",\"Topic 3\"],[94.37490844726562,\"XGBRegressor\",\"Topic 3\"],[94.37490844726562,\"XGBRegressor\",\"Topic 3\"],[94.37490844726562,\"XGBRegressor\",\"Topic 3\"],[94.37490844726562,\"XGBRegressor\",\"Topic 3\"],[94.37490844726562,\"XGBRegressor\",\"Topic 3\"],[94.37490844726562,\"XGBRegressor\",\"Topic 3\"],[94.37490844726562,\"XGBRegressor\",\"Topic 3\"],[94.37490844726562,\"XGBRegressor\",\"Topic 3\"],[94.37490844726562,\"XGBRegressor\",\"Topic 3\"],[94.37490844726562,\"XGBRegressor\",\"Topic 3\"],[94.37490844726562,\"XGBRegressor\",\"Topic 3\"],[94.37490844726562,\"XGBRegressor\",\"Topic 3\"],[94.37490844726562,\"XGBRegressor\",\"Topic 3\"],[94.37490844726562,\"XGBRegressor\",\"Topic 3\"],[94.37490844726562,\"XGBRegressor\",\"Topic 3\"],[94.37490844726562,\"XGBRegressor\",\"Topic 3\"],[94.37490844726562,\"XGBRegressor\",\"Topic 3\"],[94.37490844726562,\"XGBRegressor\",\"Topic 3\"],[94.37490844726562,\"XGBRegressor\",\"Topic 3\"],[94.37490844726562,\"XGBRegressor\",\"Topic 3\"],[94.37490844726562,\"XGBRegressor\",\"Topic 3\"],[94.37490844726562,\"XGBRegressor\",\"Topic 3\"],[94.37490844726562,\"XGBRegressor\",\"Topic 3\"],[94.37490844726562,\"XGBRegressor\",\"Topic 3\"],[94.37490844726562,\"XGBRegressor\",\"Topic 3\"],[94.37490844726562,\"XGBRegressor\",\"Topic 3\"],[94.37490844726562,\"XGBRegressor\",\"Topic 3\"],[94.37490844726562,\"XGBRegressor\",\"Topic 3\"],[94.37490844726562,\"XGBRegressor\",\"Topic 3\"],[94.37490844726562,\"XGBRegressor\",\"Topic 3\"],[94.37490844726562,\"XGBRegressor\",\"Topic 3\"],[94.37490844726562,\"XGBRegressor\",\"Topic 3\"],[94.37490844726562,\"XGBRegressor\",\"Topic 3\"],[94.37490844726562,\"XGBRegressor\",\"Topic 3\"],[94.37490844726562,\"XGBRegressor\",\"Topic 3\"],[94.37490844726562,\"XGBRegressor\",\"Topic 3\"],[94.37490844726562,\"XGBRegressor\",\"Topic 3\"],[94.37490844726562,\"XGBRegressor\",\"Topic 3\"],[94.37490844726562,\"XGBRegressor\",\"Topic 3\"],[94.37490844726562,\"XGBRegressor\",\"Topic 3\"],[94.37490844726562,\"XGBRegressor\",\"Topic 3\"],[94.37490844726562,\"XGBRegressor\",\"Topic 3\"],[94.37490844726562,\"XGBRegressor\",\"Topic 3\"],[94.37490844726562,\"XGBRegressor\",\"Topic 3\"],[94.37490844726562,\"XGBRegressor\",\"Topic 3\"],[94.37490844726562,\"XGBRegressor\",\"Topic 3\"],[94.37490844726562,\"XGBRegressor\",\"Topic 3\"],[94.37490844726562,\"XGBRegressor\",\"Topic 3\"],[94.37490844726562,\"XGBRegressor\",\"Topic 3\"],[94.37490844726562,\"XGBRegressor\",\"Topic 3\"],[94.37490844726562,\"XGBRegressor\",\"Topic 3\"],[94.37490844726562,\"XGBRegressor\",\"Topic 3\"],[94.37490844726562,\"XGBRegressor\",\"Topic 3\"],[94.37490844726562,\"XGBRegressor\",\"Topic 3\"],[94.37490844726562,\"XGBRegressor\",\"Topic 3\"],[94.37490844726562,\"XGBRegressor\",\"Topic 3\"],[94.37490844726562,\"XGBRegressor\",\"Topic 3\"],[94.37490844726562,\"XGBRegressor\",\"Topic 3\"],[94.37490844726562,\"XGBRegressor\",\"Topic 3\"],[94.37490844726562,\"XGBRegressor\",\"Topic 3\"],[94.37490844726562,\"XGBRegressor\",\"Topic 3\"],[94.37490844726562,\"XGBRegressor\",\"Topic 3\"],[94.37490844726562,\"XGBRegressor\",\"Topic 3\"],[94.37490844726562,\"XGBRegressor\",\"Topic 3\"],[94.37490844726562,\"XGBRegressor\",\"Topic 3\"],[94.37490844726562,\"XGBRegressor\",\"Topic 3\"],[94.37490844726562,\"XGBRegressor\",\"Topic 3\"],[94.37490844726562,\"XGBRegressor\",\"Topic 3\"],[94.37490844726562,\"XGBRegressor\",\"Topic 3\"],[94.37490844726562,\"XGBRegressor\",\"Topic 3\"],[94.37490844726562,\"XGBRegressor\",\"Topic 3\"],[94.37490844726562,\"XGBRegressor\",\"Topic 3\"],[94.37490844726562,\"XGBRegressor\",\"Topic 3\"],[94.37490844726562,\"XGBRegressor\",\"Topic 3\"],[94.37490844726562,\"XGBRegressor\",\"Topic 3\"],[94.37490844726562,\"XGBRegressor\",\"Topic 3\"],[94.37490844726562,\"XGBRegressor\",\"Topic 3\"],[94.37490844726562,\"XGBRegressor\",\"Topic 3\"],[94.37490844726562,\"XGBRegressor\",\"Topic 3\"],[94.37490844726562,\"XGBRegressor\",\"Topic 3\"],[94.37490844726562,\"XGBRegressor\",\"Topic 3\"],[94.37490844726562,\"XGBRegressor\",\"Topic 3\"],[94.37490844726562,\"XGBRegressor\",\"Topic 3\"],[94.37490844726562,\"XGBRegressor\",\"Topic 3\"]],\"hovertemplate\":\"<b>%{hovertext}</b><br><br>prediction=%{y:.3f}<br>mean_prediction=%{customdata[0]:.3f}<extra></extra>\",\"hovertext\":[\"XGBRegressor\",\"XGBRegressor\",\"XGBRegressor\",\"XGBRegressor\",\"XGBRegressor\",\"XGBRegressor\",\"XGBRegressor\",\"XGBRegressor\",\"XGBRegressor\",\"XGBRegressor\",\"XGBRegressor\",\"XGBRegressor\",\"XGBRegressor\",\"XGBRegressor\",\"XGBRegressor\",\"XGBRegressor\",\"XGBRegressor\",\"XGBRegressor\",\"XGBRegressor\",\"XGBRegressor\",\"XGBRegressor\",\"XGBRegressor\",\"XGBRegressor\",\"XGBRegressor\",\"XGBRegressor\",\"XGBRegressor\",\"XGBRegressor\",\"XGBRegressor\",\"XGBRegressor\",\"XGBRegressor\",\"XGBRegressor\",\"XGBRegressor\",\"XGBRegressor\",\"XGBRegressor\",\"XGBRegressor\",\"XGBRegressor\",\"XGBRegressor\",\"XGBRegressor\",\"XGBRegressor\",\"XGBRegressor\",\"XGBRegressor\",\"XGBRegressor\",\"XGBRegressor\",\"XGBRegressor\",\"XGBRegressor\",\"XGBRegressor\",\"XGBRegressor\",\"XGBRegressor\",\"XGBRegressor\",\"XGBRegressor\",\"XGBRegressor\",\"XGBRegressor\",\"XGBRegressor\",\"XGBRegressor\",\"XGBRegressor\",\"XGBRegressor\",\"XGBRegressor\",\"XGBRegressor\",\"XGBRegressor\",\"XGBRegressor\",\"XGBRegressor\",\"XGBRegressor\",\"XGBRegressor\",\"XGBRegressor\",\"XGBRegressor\",\"XGBRegressor\",\"XGBRegressor\",\"XGBRegressor\",\"XGBRegressor\",\"XGBRegressor\",\"XGBRegressor\",\"XGBRegressor\",\"XGBRegressor\",\"XGBRegressor\",\"XGBRegressor\",\"XGBRegressor\",\"XGBRegressor\",\"XGBRegressor\",\"XGBRegressor\",\"XGBRegressor\",\"XGBRegressor\",\"XGBRegressor\",\"XGBRegressor\",\"XGBRegressor\",\"XGBRegressor\",\"XGBRegressor\",\"XGBRegressor\",\"XGBRegressor\",\"XGBRegressor\",\"XGBRegressor\",\"XGBRegressor\",\"XGBRegressor\",\"XGBRegressor\",\"XGBRegressor\",\"XGBRegressor\",\"XGBRegressor\",\"XGBRegressor\",\"XGBRegressor\",\"XGBRegressor\",\"XGBRegressor\",\"XGBRegressor\"],\"legendgroup\":\"XGBRegressor\",\"line\":{\"color\":\"#46bac2\",\"dash\":\"solid\",\"width\":2},\"marker\":{\"symbol\":\"circle\"},\"mode\":\"lines\",\"name\":\"XGBRegressor\",\"orientation\":\"v\",\"showlegend\":false,\"x\":[7.1951488203444125e-06,0.010005440313273113,0.02000368547772588,0.03000193064217865,0.04000017580663142,0.04999842097108419,0.05999666613553696,0.06999491129998972,0.0799931564644425,0.08999140162889527,0.09998964679334803,0.1099878919578008,0.11998613712225357,0.12998438228670633,0.13998262745115908,0.14998087261561185,0.15997911778006463,0.1699773629445174,0.17997560810897018,0.18997385327342292,0.1999720984378757,0.20997034360232847,0.21996858876678124,0.22996683393123402,0.2399650790956868,0.24996332426013954,0.25996156942459236,0.2699598145890451,0.27995805975349786,0.28995630491795066,0.2999545500824034,0.3099527952468562,0.31995104041130895,0.3299492855757617,0.3399475307402145,0.34994577590466724,0.35994402106912005,0.3699422662335728,0.37994051139802554,0.38993875656247834,0.3999370017269311,0.4099352468913839,0.41993349205583663,0.4299317372202894,0.4399299823847422,0.4499282275491949,0.4599264727136477,0.4699247178781005,0.4799229630425533,0.489921208207006,0.49991945337145877,0.5099176985359115,0.5199159437003643,0.529914188864817,0.5399124340292698,0.5499106791937226,0.5599089243581753,0.5699071695226281,0.5799054146870809,0.5899036598515336,0.5999019050159864,0.6099001501804392,0.619898395344892,0.6298966405093447,0.6398948856737975,0.6498931308382503,0.659891376002703,0.6698896211671558,0.6798878663316086,0.6898861114960614,0.6998843566605141,0.7098826018249669,0.7198808469894197,0.7298790921538724,0.7398773373183252,0.749875582482778,0.7598738276472307,0.7698720728116835,0.7798703179761363,0.7898685631405891,0.7998668083050418,0.8098650534694946,0.8198632986339474,0.8298615437984,0.8398597889628528,0.8498580341273057,0.8598562792917583,0.8698545244562111,0.8798527696206639,0.8898510147851167,0.8998492599495694,0.9098475051140222,0.919845750278475,0.9298439954429277,0.9398422406073805,0.9498404857718333,0.9598387309362861,0.9698369761007388,0.9798352212651916,0.9898334664296444,0.9998317115940972],\"xaxis\":\"x4\",\"y\":[81.77714538574219,72.3913345336914,70.333984375,70.76070404052734,131.20535278320312,73.5271224975586,74.04736328125,78.80411529541016,78.60314178466797,103.44828033447266,104.5013427734375,119.94742584228516,115.12062072753906,100.25328826904297,101.1177749633789,138.01824951171875,110.75688171386719,119.87692260742188,132.0641632080078,157.08984375,129.29336547851562,356.48626708984375,114.91548156738281,121.26663208007812,201.1195068359375,88.94219970703125,88.37859344482422,87.53836059570312,89.3632583618164,99.74520874023438,99.74520874023438,91.90089416503906,91.90089416503906,92.3125228881836,88.35150146484375,81.65766143798828,84.94247436523438,85.7531509399414,103.30766296386719,103.24651336669922,117.02396392822266,90.72319793701172,90.6799087524414,90.78691101074219,90.78691101074219,94.48371124267578,130.86227416992188,130.84230041503906,130.84230041503906,145.468994140625,108.2816162109375,108.2816162109375,108.2816162109375,126.85945892333984,112.36837005615234,112.36837005615234,112.36837005615234,105.12005615234375,80.45330047607422,80.45330047607422,85.55520629882812,85.55520629882812,85.55520629882812,85.55520629882812,85.55520629882812,85.55520629882812,85.56874084472656,85.56874084472656,85.56874084472656,79.2115478515625,109.42784881591797,597.8272094726562,121.49685668945312,121.49685668945312,121.49685668945312,123.96212005615234,123.96212005615234,123.96212005615234,119.96234130859375,119.96234130859375,119.96234130859375,120.50711059570312,120.50711059570312,128.65150451660156,147.49591064453125,147.49591064453125,106.91008758544922,115.47418212890625,115.47418212890625,115.39372253417969,115.39372253417969,107.21699523925781,109.93787384033203,109.93787384033203,109.93787384033203,109.93787384033203,111.20454406738281,109.35047912597656,109.35047912597656,109.35047912597656,199.98410034179688],\"yaxis\":\"y4\",\"type\":\"scatter\",\"opacity\":1},{\"customdata\":[[94.37490844726562,\"XGBRegressor\",\"Topic 4\"],[94.37490844726562,\"XGBRegressor\",\"Topic 4\"],[94.37490844726562,\"XGBRegressor\",\"Topic 4\"],[94.37490844726562,\"XGBRegressor\",\"Topic 4\"],[94.37490844726562,\"XGBRegressor\",\"Topic 4\"],[94.37490844726562,\"XGBRegressor\",\"Topic 4\"],[94.37490844726562,\"XGBRegressor\",\"Topic 4\"],[94.37490844726562,\"XGBRegressor\",\"Topic 4\"],[94.37490844726562,\"XGBRegressor\",\"Topic 4\"],[94.37490844726562,\"XGBRegressor\",\"Topic 4\"],[94.37490844726562,\"XGBRegressor\",\"Topic 4\"],[94.37490844726562,\"XGBRegressor\",\"Topic 4\"],[94.37490844726562,\"XGBRegressor\",\"Topic 4\"],[94.37490844726562,\"XGBRegressor\",\"Topic 4\"],[94.37490844726562,\"XGBRegressor\",\"Topic 4\"],[94.37490844726562,\"XGBRegressor\",\"Topic 4\"],[94.37490844726562,\"XGBRegressor\",\"Topic 4\"],[94.37490844726562,\"XGBRegressor\",\"Topic 4\"],[94.37490844726562,\"XGBRegressor\",\"Topic 4\"],[94.37490844726562,\"XGBRegressor\",\"Topic 4\"],[94.37490844726562,\"XGBRegressor\",\"Topic 4\"],[94.37490844726562,\"XGBRegressor\",\"Topic 4\"],[94.37490844726562,\"XGBRegressor\",\"Topic 4\"],[94.37490844726562,\"XGBRegressor\",\"Topic 4\"],[94.37490844726562,\"XGBRegressor\",\"Topic 4\"],[94.37490844726562,\"XGBRegressor\",\"Topic 4\"],[94.37490844726562,\"XGBRegressor\",\"Topic 4\"],[94.37490844726562,\"XGBRegressor\",\"Topic 4\"],[94.37490844726562,\"XGBRegressor\",\"Topic 4\"],[94.37490844726562,\"XGBRegressor\",\"Topic 4\"],[94.37490844726562,\"XGBRegressor\",\"Topic 4\"],[94.37490844726562,\"XGBRegressor\",\"Topic 4\"],[94.37490844726562,\"XGBRegressor\",\"Topic 4\"],[94.37490844726562,\"XGBRegressor\",\"Topic 4\"],[94.37490844726562,\"XGBRegressor\",\"Topic 4\"],[94.37490844726562,\"XGBRegressor\",\"Topic 4\"],[94.37490844726562,\"XGBRegressor\",\"Topic 4\"],[94.37490844726562,\"XGBRegressor\",\"Topic 4\"],[94.37490844726562,\"XGBRegressor\",\"Topic 4\"],[94.37490844726562,\"XGBRegressor\",\"Topic 4\"],[94.37490844726562,\"XGBRegressor\",\"Topic 4\"],[94.37490844726562,\"XGBRegressor\",\"Topic 4\"],[94.37490844726562,\"XGBRegressor\",\"Topic 4\"],[94.37490844726562,\"XGBRegressor\",\"Topic 4\"],[94.37490844726562,\"XGBRegressor\",\"Topic 4\"],[94.37490844726562,\"XGBRegressor\",\"Topic 4\"],[94.37490844726562,\"XGBRegressor\",\"Topic 4\"],[94.37490844726562,\"XGBRegressor\",\"Topic 4\"],[94.37490844726562,\"XGBRegressor\",\"Topic 4\"],[94.37490844726562,\"XGBRegressor\",\"Topic 4\"],[94.37490844726562,\"XGBRegressor\",\"Topic 4\"],[94.37490844726562,\"XGBRegressor\",\"Topic 4\"],[94.37490844726562,\"XGBRegressor\",\"Topic 4\"],[94.37490844726562,\"XGBRegressor\",\"Topic 4\"],[94.37490844726562,\"XGBRegressor\",\"Topic 4\"],[94.37490844726562,\"XGBRegressor\",\"Topic 4\"],[94.37490844726562,\"XGBRegressor\",\"Topic 4\"],[94.37490844726562,\"XGBRegressor\",\"Topic 4\"],[94.37490844726562,\"XGBRegressor\",\"Topic 4\"],[94.37490844726562,\"XGBRegressor\",\"Topic 4\"],[94.37490844726562,\"XGBRegressor\",\"Topic 4\"],[94.37490844726562,\"XGBRegressor\",\"Topic 4\"],[94.37490844726562,\"XGBRegressor\",\"Topic 4\"],[94.37490844726562,\"XGBRegressor\",\"Topic 4\"],[94.37490844726562,\"XGBRegressor\",\"Topic 4\"],[94.37490844726562,\"XGBRegressor\",\"Topic 4\"],[94.37490844726562,\"XGBRegressor\",\"Topic 4\"],[94.37490844726562,\"XGBRegressor\",\"Topic 4\"],[94.37490844726562,\"XGBRegressor\",\"Topic 4\"],[94.37490844726562,\"XGBRegressor\",\"Topic 4\"],[94.37490844726562,\"XGBRegressor\",\"Topic 4\"],[94.37490844726562,\"XGBRegressor\",\"Topic 4\"],[94.37490844726562,\"XGBRegressor\",\"Topic 4\"],[94.37490844726562,\"XGBRegressor\",\"Topic 4\"],[94.37490844726562,\"XGBRegressor\",\"Topic 4\"],[94.37490844726562,\"XGBRegressor\",\"Topic 4\"],[94.37490844726562,\"XGBRegressor\",\"Topic 4\"],[94.37490844726562,\"XGBRegressor\",\"Topic 4\"],[94.37490844726562,\"XGBRegressor\",\"Topic 4\"],[94.37490844726562,\"XGBRegressor\",\"Topic 4\"],[94.37490844726562,\"XGBRegressor\",\"Topic 4\"],[94.37490844726562,\"XGBRegressor\",\"Topic 4\"],[94.37490844726562,\"XGBRegressor\",\"Topic 4\"],[94.37490844726562,\"XGBRegressor\",\"Topic 4\"],[94.37490844726562,\"XGBRegressor\",\"Topic 4\"],[94.37490844726562,\"XGBRegressor\",\"Topic 4\"],[94.37490844726562,\"XGBRegressor\",\"Topic 4\"],[94.37490844726562,\"XGBRegressor\",\"Topic 4\"],[94.37490844726562,\"XGBRegressor\",\"Topic 4\"],[94.37490844726562,\"XGBRegressor\",\"Topic 4\"],[94.37490844726562,\"XGBRegressor\",\"Topic 4\"],[94.37490844726562,\"XGBRegressor\",\"Topic 4\"],[94.37490844726562,\"XGBRegressor\",\"Topic 4\"],[94.37490844726562,\"XGBRegressor\",\"Topic 4\"],[94.37490844726562,\"XGBRegressor\",\"Topic 4\"],[94.37490844726562,\"XGBRegressor\",\"Topic 4\"],[94.37490844726562,\"XGBRegressor\",\"Topic 4\"],[94.37490844726562,\"XGBRegressor\",\"Topic 4\"],[94.37490844726562,\"XGBRegressor\",\"Topic 4\"],[94.37490844726562,\"XGBRegressor\",\"Topic 4\"],[94.37490844726562,\"XGBRegressor\",\"Topic 4\"]],\"hovertemplate\":\"<b>%{hovertext}</b><br><br>prediction=%{y:.3f}<br>mean_prediction=%{customdata[0]:.3f}<extra></extra>\",\"hovertext\":[\"XGBRegressor\",\"XGBRegressor\",\"XGBRegressor\",\"XGBRegressor\",\"XGBRegressor\",\"XGBRegressor\",\"XGBRegressor\",\"XGBRegressor\",\"XGBRegressor\",\"XGBRegressor\",\"XGBRegressor\",\"XGBRegressor\",\"XGBRegressor\",\"XGBRegressor\",\"XGBRegressor\",\"XGBRegressor\",\"XGBRegressor\",\"XGBRegressor\",\"XGBRegressor\",\"XGBRegressor\",\"XGBRegressor\",\"XGBRegressor\",\"XGBRegressor\",\"XGBRegressor\",\"XGBRegressor\",\"XGBRegressor\",\"XGBRegressor\",\"XGBRegressor\",\"XGBRegressor\",\"XGBRegressor\",\"XGBRegressor\",\"XGBRegressor\",\"XGBRegressor\",\"XGBRegressor\",\"XGBRegressor\",\"XGBRegressor\",\"XGBRegressor\",\"XGBRegressor\",\"XGBRegressor\",\"XGBRegressor\",\"XGBRegressor\",\"XGBRegressor\",\"XGBRegressor\",\"XGBRegressor\",\"XGBRegressor\",\"XGBRegressor\",\"XGBRegressor\",\"XGBRegressor\",\"XGBRegressor\",\"XGBRegressor\",\"XGBRegressor\",\"XGBRegressor\",\"XGBRegressor\",\"XGBRegressor\",\"XGBRegressor\",\"XGBRegressor\",\"XGBRegressor\",\"XGBRegressor\",\"XGBRegressor\",\"XGBRegressor\",\"XGBRegressor\",\"XGBRegressor\",\"XGBRegressor\",\"XGBRegressor\",\"XGBRegressor\",\"XGBRegressor\",\"XGBRegressor\",\"XGBRegressor\",\"XGBRegressor\",\"XGBRegressor\",\"XGBRegressor\",\"XGBRegressor\",\"XGBRegressor\",\"XGBRegressor\",\"XGBRegressor\",\"XGBRegressor\",\"XGBRegressor\",\"XGBRegressor\",\"XGBRegressor\",\"XGBRegressor\",\"XGBRegressor\",\"XGBRegressor\",\"XGBRegressor\",\"XGBRegressor\",\"XGBRegressor\",\"XGBRegressor\",\"XGBRegressor\",\"XGBRegressor\",\"XGBRegressor\",\"XGBRegressor\",\"XGBRegressor\",\"XGBRegressor\",\"XGBRegressor\",\"XGBRegressor\",\"XGBRegressor\",\"XGBRegressor\",\"XGBRegressor\",\"XGBRegressor\",\"XGBRegressor\",\"XGBRegressor\",\"XGBRegressor\"],\"legendgroup\":\"XGBRegressor\",\"line\":{\"color\":\"#46bac2\",\"dash\":\"solid\",\"width\":2},\"marker\":{\"symbol\":\"circle\"},\"mode\":\"lines\",\"name\":\"XGBRegressor\",\"orientation\":\"v\",\"showlegend\":false,\"x\":[3.933428531555413e-06,0.010003053346274436,0.020002173264017317,0.030001293181760195,0.04000041309950308,0.04999953301724596,0.059998652934988836,0.06999777285273172,0.0799968927704746,0.08999601268821748,0.09999513260596037,0.10999425252370325,0.11999337244144612,0.129992492359189,0.13999161227693188,0.14999073219467476,0.15998985211241765,0.16998897203016053,0.1799880919479034,0.1899872118656463,0.19998633178338918,0.20998545170113206,0.21998457161887494,0.22998369153661782,0.23998281145436068,0.24998193137210356,0.25998105128984644,0.2699801712075893,0.2799792911253322,0.2899784110430751,0.299977530960818,0.30997665087856086,0.31997577079630374,0.3299748907140466,0.3399740106317895,0.3499731305495324,0.35997225046727527,0.36997137038501815,0.37997049030276103,0.3899696102205039,0.3999687301382468,0.4099678500559897,0.41996696997373256,0.42996608989147544,0.4399652098092183,0.4499643297269612,0.4599634496447041,0.469962569562447,0.4799616894801898,0.4899608093979327,0.49995992931567557,0.5099590492334185,0.5199581691511613,0.5299572890689043,0.5399564089866471,0.54995552890439,0.5599546488221329,0.5699537687398758,0.5799528886576186,0.5899520085753616,0.5999511284931044,0.6099502484108473,0.6199493683285902,0.6299484882463331,0.6399476081640759,0.6499467280818187,0.6599458479995617,0.6699449679173045,0.6799440878350475,0.6899432077527903,0.6999423276705332,0.709941447588276,0.719940567506019,0.7299396874237618,0.7399388073415047,0.7499379272592476,0.7599370471769905,0.7699361670947333,0.7799352870124763,0.7899344069302191,0.799933526847962,0.8099326467657049,0.8199317666834478,0.8299308866011906,0.8399300065189336,0.8499291264366764,0.8599282463544193,0.8699273662721622,0.8799264861899051,0.8899256061076479,0.8999247260253909,0.9099238459431337,0.9199229658608766,0.9299220857786195,0.9399212056963624,0.9499203256141052,0.959919445531848,0.969918565449591,0.9799176853673338,0.9899168052850768,0.9999159252028196],\"xaxis\":\"x\",\"y\":[643.6372680664062,103.15364074707031,102.01820373535156,104.32969665527344,112.3724136352539,101.35343170166016,102.53961181640625,102.39012145996094,136.2437286376953,76.97249603271484,75.83795166015625,75.97898864746094,76.79902648925781,82.89852142333984,83.505126953125,82.08845520019531,82.86865234375,100.64422607421875,103.64260864257812,102.2984848022461,309.41314697265625,132.01663208007812,111.16924285888672,109.07872772216797,109.15728759765625,108.26737976074219,108.82450866699219,100.60720825195312,122.9092788696289,121.50348663330078,129.60226440429688,129.76478576660156,99.51852416992188,99.51852416992188,99.51852416992188,99.51852416992188,99.48443603515625,99.48443603515625,98.39486694335938,99.99117279052734,97.12129974365234,97.73770904541016,97.73770904541016,104.51268768310547,106.26248168945312,107.13082122802734,129.75474548339844,119.99585723876953,119.99585723876953,162.7149658203125,131.3844451904297,128.62191772460938,128.62191772460938,143.94180297851562,172.7589111328125,172.7589111328125,172.2276153564453,147.7278594970703,140.9663543701172,141.29946899414062,141.29946899414062,141.91329956054688,156.4981689453125,150.12977600097656,150.12977600097656,150.17922973632812,150.17922973632812,149.90235900878906,149.19448852539062,149.19448852539062,149.3124237060547,149.3124237060547,149.3124237060547,149.62660217285156,155.824951171875,155.824951171875,151.59954833984375,154.46653747558594,154.46653747558594,153.49070739746094,153.49070739746094,153.49070739746094,153.65179443359375,161.63656616210938,170.8374786376953,170.8374786376953,170.8374786376953,580.1355590820312,484.82623291015625,484.82623291015625,484.82623291015625,484.82623291015625,484.82623291015625,484.82623291015625,484.82623291015625,485.7812194824219,485.7812194824219,488.0289611816406,488.0289611816406,488.0289611816406,488.0289611816406],\"yaxis\":\"y\",\"type\":\"scatter\",\"opacity\":1}],                        {\"template\":{\"data\":{\"scatter\":[{\"type\":\"scatter\"}]}},\"xaxis\":{\"anchor\":\"y\",\"domain\":[0.0,0.475],\"title\":{\"text\":\"\"},\"showticklabels\":true,\"type\":\"linear\",\"gridwidth\":2,\"zeroline\":false,\"automargin\":true,\"ticks\":\"outside\",\"tickcolor\":\"white\",\"ticklen\":3,\"fixedrange\":true},\"yaxis\":{\"anchor\":\"x\",\"domain\":[0.0,0.26666666666666666],\"title\":{\"text\":\"\"},\"range\":[5.94356994628906,701.609423828125],\"type\":\"linear\",\"gridwidth\":2,\"zeroline\":false,\"automargin\":true,\"ticks\":\"outside\",\"tickcolor\":\"white\",\"ticklen\":3,\"fixedrange\":true},\"xaxis2\":{\"anchor\":\"y2\",\"domain\":[0.525,1.0],\"title\":{\"text\":\"\"},\"showticklabels\":true,\"type\":\"linear\",\"gridwidth\":2,\"zeroline\":false,\"automargin\":true,\"ticks\":\"outside\",\"tickcolor\":\"white\",\"ticklen\":3,\"fixedrange\":true},\"yaxis2\":{\"anchor\":\"x2\",\"domain\":[0.0,0.26666666666666666],\"matches\":\"y\",\"showticklabels\":false,\"type\":\"linear\",\"gridwidth\":2,\"zeroline\":false,\"automargin\":true,\"ticks\":\"outside\",\"tickcolor\":\"white\",\"ticklen\":3,\"fixedrange\":true,\"title\":{\"text\":\"\"}},\"xaxis3\":{\"anchor\":\"y3\",\"domain\":[0.0,0.475],\"showticklabels\":true,\"type\":\"linear\",\"gridwidth\":2,\"zeroline\":false,\"automargin\":true,\"ticks\":\"outside\",\"tickcolor\":\"white\",\"ticklen\":3,\"fixedrange\":true,\"title\":{\"text\":\"\"}},\"yaxis3\":{\"anchor\":\"x3\",\"domain\":[0.36666666666666664,0.6333333333333333],\"matches\":\"y\",\"title\":{\"text\":\"\"},\"range\":[5.94356994628906,701.609423828125],\"type\":\"linear\",\"gridwidth\":2,\"zeroline\":false,\"automargin\":true,\"ticks\":\"outside\",\"tickcolor\":\"white\",\"ticklen\":3,\"fixedrange\":true},\"xaxis4\":{\"anchor\":\"y4\",\"domain\":[0.525,1.0],\"showticklabels\":true,\"type\":\"linear\",\"gridwidth\":2,\"zeroline\":false,\"automargin\":true,\"ticks\":\"outside\",\"tickcolor\":\"white\",\"ticklen\":3,\"fixedrange\":true,\"title\":{\"text\":\"\"}},\"yaxis4\":{\"anchor\":\"x4\",\"domain\":[0.36666666666666664,0.6333333333333333],\"matches\":\"y\",\"showticklabels\":false,\"type\":\"linear\",\"gridwidth\":2,\"zeroline\":false,\"automargin\":true,\"ticks\":\"outside\",\"tickcolor\":\"white\",\"ticklen\":3,\"fixedrange\":true,\"title\":{\"text\":\"\"}},\"xaxis5\":{\"anchor\":\"y5\",\"domain\":[0.0,0.475],\"showticklabels\":true,\"type\":\"linear\",\"gridwidth\":2,\"zeroline\":false,\"automargin\":true,\"ticks\":\"outside\",\"tickcolor\":\"white\",\"ticklen\":3,\"fixedrange\":true,\"title\":{\"text\":\"\"}},\"yaxis5\":{\"anchor\":\"x5\",\"domain\":[0.7333333333333333,1.0],\"matches\":\"y\",\"title\":{\"text\":\"\"},\"range\":[5.94356994628906,701.609423828125],\"type\":\"linear\",\"gridwidth\":2,\"zeroline\":false,\"automargin\":true,\"ticks\":\"outside\",\"tickcolor\":\"white\",\"ticklen\":3,\"fixedrange\":true},\"xaxis6\":{\"anchor\":\"y6\",\"domain\":[0.525,1.0],\"showticklabels\":true,\"type\":\"linear\",\"gridwidth\":2,\"zeroline\":false,\"automargin\":true,\"ticks\":\"outside\",\"tickcolor\":\"white\",\"ticklen\":3,\"fixedrange\":true,\"title\":{\"text\":\"\"}},\"yaxis6\":{\"anchor\":\"x6\",\"domain\":[0.7333333333333333,1.0],\"matches\":\"y\",\"showticklabels\":false,\"type\":\"linear\",\"gridwidth\":2,\"zeroline\":false,\"automargin\":true,\"ticks\":\"outside\",\"tickcolor\":\"white\",\"ticklen\":3,\"fixedrange\":true,\"title\":{\"text\":\"\"}},\"annotations\":[{\"font\":{\"size\":13},\"showarrow\":false,\"text\":\"Topic 4\",\"x\":0.2375,\"xanchor\":\"center\",\"xref\":\"paper\",\"y\":0.26666666666666666,\"yanchor\":\"bottom\",\"yref\":\"paper\"},{\"font\":{\"size\":13},\"showarrow\":false,\"text\":\"Topic 2\",\"x\":0.2375,\"xanchor\":\"center\",\"xref\":\"paper\",\"y\":0.6333333333333333,\"yanchor\":\"bottom\",\"yref\":\"paper\"},{\"font\":{\"size\":13},\"showarrow\":false,\"text\":\"Topic 3\",\"x\":0.7625,\"xanchor\":\"center\",\"xref\":\"paper\",\"y\":0.6333333333333333,\"yanchor\":\"bottom\",\"yref\":\"paper\"},{\"font\":{\"size\":13},\"showarrow\":false,\"text\":\"Topic 0\",\"x\":0.2375,\"xanchor\":\"center\",\"xref\":\"paper\",\"y\":1.0,\"yanchor\":\"bottom\",\"yref\":\"paper\"},{\"font\":{\"size\":13},\"showarrow\":false,\"text\":\"Topic 1\",\"x\":0.7625,\"xanchor\":\"center\",\"xref\":\"paper\",\"y\":1.0,\"yanchor\":\"bottom\",\"yref\":\"paper\"},{\"font\":{\"size\":13},\"showarrow\":false,\"text\":\"prediction\",\"textangle\":-90,\"x\":-0.07,\"xref\":\"paper\",\"y\":0.5,\"yref\":\"paper\"}],\"legend\":{\"title\":{\"text\":\"label\",\"font\":{\"size\":12}},\"tracegroupgap\":0,\"font\":{\"size\":11},\"orientation\":\"h\",\"yanchor\":\"bottom\",\"y\":1.0256629597946962,\"xanchor\":\"right\",\"x\":1,\"itemsizing\":\"constant\"},\"margin\":{\"t\":78,\"b\":71,\"r\":30},\"font\":{\"color\":\"#371ea3\"},\"title\":{\"font\":{\"size\":16},\"text\":\"Aggregated Profiles\",\"x\":0.15},\"hovermode\":\"x unified\",\"height\":1169},                        {\"responsive\": true}                    ).then(function(){\n                            \nvar gd = document.getElementById('4d298217-c530-4ee8-998d-f57a3f72d5d8');\nvar x = new MutationObserver(function (mutations, observer) {{\n        var display = window.getComputedStyle(gd).display;\n        if (!display || display === 'none') {{\n            console.log([gd, 'removed!']);\n            Plotly.purge(gd);\n            observer.disconnect();\n        }}\n}});\n\n// Listen for the removal of the full notebook cells\nvar notebookContainer = gd.closest('#notebook-container');\nif (notebookContainer) {{\n    x.observe(notebookContainer, {childList: true});\n}}\n\n// Listen for the clearing of the current output cell\nvar outputEl = gd.closest('.output');\nif (outputEl) {{\n    x.observe(outputEl, {childList: true});\n}}\n\n                        })                };                });            </script>        </div>"
     },
     "metadata": {},
     "output_type": "display_data"
    }
   ],
   "source": [
    "agg_profiles"
   ],
   "metadata": {
    "collapsed": false,
    "pycharm": {
     "name": "#%%\n"
    }
   }
  },
  {
   "cell_type": "code",
   "execution_count": 25,
   "outputs": [],
   "source": [
    "var_importance = exp.model_parts().plot(show=False)\n",
    "var_importance.write_html('var_importance.html')"
   ],
   "metadata": {
    "collapsed": false,
    "pycharm": {
     "name": "#%%\n"
    }
   }
  },
  {
   "cell_type": "code",
   "execution_count": 26,
   "outputs": [
    {
     "data": {
      "application/vnd.plotly.v1+json": {
       "data": [
        {
         "base": 19.7798793640463,
         "hoverinfo": "text",
         "hoverlabel": {
          "bgcolor": "rgba(0,0,0,0.8)"
         },
         "hovertext": [
          "Model: XGBRegressor loss after<br>variable: Topic 0 is permuted: 424.44<br>Drop-out loss change: +404.66",
          "Model: XGBRegressor loss after<br>variable: Topic 1 is permuted: 186.941<br>Drop-out loss change: +167.161",
          "Model: XGBRegressor loss after<br>variable: Topic 4 is permuted: 175.296<br>Drop-out loss change: +155.516",
          "Model: XGBRegressor loss after<br>variable: Topic 2 is permuted: 174.735<br>Drop-out loss change: +154.955",
          "Model: XGBRegressor loss after<br>variable: Topic 3 is permuted: 140.051<br>Drop-out loss change: +120.271"
         ],
         "marker": {
          "color": "#46bac2"
         },
         "orientation": "h",
         "showlegend": false,
         "text": [
          "+404.66",
          "+167.161",
          "+155.516",
          "+154.955",
          "+120.271"
         ],
         "textposition": "outside",
         "x": [
          404.6604404940844,
          167.1613424040113,
          155.51609153963298,
          154.9550238972644,
          120.27096903286608
         ],
         "y": [
          "Topic 0",
          "Topic 1",
          "Topic 4",
          "Topic 2",
          "Topic 3"
         ],
         "type": "bar",
         "xaxis": "x",
         "yaxis": "y"
        }
       ],
       "layout": {
        "template": {
         "data": {
          "scatter": [
           {
            "type": "scatter"
           }
          ]
         }
        },
        "xaxis": {
         "anchor": "y",
         "domain": [
          0.0,
          1.0
         ],
         "type": "linear",
         "gridwidth": 2,
         "zeroline": false,
         "automargin": true,
         "ticks": "outside",
         "tickcolor": "white",
         "ticklen": 3,
         "fixedrange": true,
         "range": [
          -40.919186710066356,
          485.13938593224333
         ]
        },
        "yaxis": {
         "anchor": "x",
         "domain": [
          0.0,
          1.0
         ],
         "type": "category",
         "autorange": "reversed",
         "gridwidth": 2,
         "automargin": true,
         "ticks": "outside",
         "tickcolor": "white",
         "ticklen": 10,
         "fixedrange": true
        },
        "annotations": [
         {
          "font": {
           "size": 16
          },
          "showarrow": false,
          "text": "XGBRegressor",
          "x": 0.5,
          "xanchor": "center",
          "xref": "paper",
          "y": 1.0,
          "yanchor": "bottom",
          "yref": "paper"
         },
         {
          "font": {
           "size": 16
          },
          "showarrow": false,
          "text": "drop-out loss",
          "x": 0.5,
          "xanchor": "center",
          "xref": "paper",
          "y": 0,
          "yanchor": "top",
          "yref": "paper",
          "yshift": -30
         }
        ],
        "shapes": [
         {
          "line": {
           "color": "#371ea3",
           "dash": "dot",
           "width": 1.5
          },
          "type": "line",
          "x0": 19.7798793640463,
          "x1": 19.7798793640463,
          "xref": "x",
          "y0": -1,
          "y1": 5,
          "yref": "y"
         }
        ],
        "title": {
         "text": "Variable Importance",
         "x": 0.15
        },
        "font": {
         "color": "#371ea3"
        },
        "margin": {
         "t": 78,
         "b": 71,
         "r": 30
        },
        "height": 283.0
       },
       "config": {
        "plotlyServerURL": "https://plot.ly"
       }
      },
      "text/html": "<div>                            <div id=\"1437dc15-57c4-445a-955c-509a453e4631\" class=\"plotly-graph-div\" style=\"height:283.0px; width:100%;\"></div>            <script type=\"text/javascript\">                require([\"plotly\"], function(Plotly) {                    window.PLOTLYENV=window.PLOTLYENV || {};                                    if (document.getElementById(\"1437dc15-57c4-445a-955c-509a453e4631\")) {                    Plotly.newPlot(                        \"1437dc15-57c4-445a-955c-509a453e4631\",                        [{\"base\":19.7798793640463,\"hoverinfo\":\"text\",\"hoverlabel\":{\"bgcolor\":\"rgba(0,0,0,0.8)\"},\"hovertext\":[\"Model: XGBRegressor loss after<br>variable: Topic 0 is permuted: 424.44<br>Drop-out loss change: +404.66\",\"Model: XGBRegressor loss after<br>variable: Topic 1 is permuted: 186.941<br>Drop-out loss change: +167.161\",\"Model: XGBRegressor loss after<br>variable: Topic 4 is permuted: 175.296<br>Drop-out loss change: +155.516\",\"Model: XGBRegressor loss after<br>variable: Topic 2 is permuted: 174.735<br>Drop-out loss change: +154.955\",\"Model: XGBRegressor loss after<br>variable: Topic 3 is permuted: 140.051<br>Drop-out loss change: +120.271\"],\"marker\":{\"color\":\"#46bac2\"},\"orientation\":\"h\",\"showlegend\":false,\"text\":[\"+404.66\",\"+167.161\",\"+155.516\",\"+154.955\",\"+120.271\"],\"textposition\":\"outside\",\"x\":[404.6604404940844,167.1613424040113,155.51609153963298,154.9550238972644,120.27096903286608],\"y\":[\"Topic 0\",\"Topic 1\",\"Topic 4\",\"Topic 2\",\"Topic 3\"],\"type\":\"bar\",\"xaxis\":\"x\",\"yaxis\":\"y\"}],                        {\"template\":{\"data\":{\"scatter\":[{\"type\":\"scatter\"}]}},\"xaxis\":{\"anchor\":\"y\",\"domain\":[0.0,1.0],\"type\":\"linear\",\"gridwidth\":2,\"zeroline\":false,\"automargin\":true,\"ticks\":\"outside\",\"tickcolor\":\"white\",\"ticklen\":3,\"fixedrange\":true,\"range\":[-40.919186710066356,485.13938593224333]},\"yaxis\":{\"anchor\":\"x\",\"domain\":[0.0,1.0],\"type\":\"category\",\"autorange\":\"reversed\",\"gridwidth\":2,\"automargin\":true,\"ticks\":\"outside\",\"tickcolor\":\"white\",\"ticklen\":10,\"fixedrange\":true},\"annotations\":[{\"font\":{\"size\":16},\"showarrow\":false,\"text\":\"XGBRegressor\",\"x\":0.5,\"xanchor\":\"center\",\"xref\":\"paper\",\"y\":1.0,\"yanchor\":\"bottom\",\"yref\":\"paper\"},{\"font\":{\"size\":16},\"showarrow\":false,\"text\":\"drop-out loss\",\"x\":0.5,\"xanchor\":\"center\",\"xref\":\"paper\",\"y\":0,\"yanchor\":\"top\",\"yref\":\"paper\",\"yshift\":-30}],\"shapes\":[{\"line\":{\"color\":\"#371ea3\",\"dash\":\"dot\",\"width\":1.5},\"type\":\"line\",\"x0\":19.7798793640463,\"x1\":19.7798793640463,\"xref\":\"x\",\"y0\":-1,\"y1\":5,\"yref\":\"y\"}],\"title\":{\"text\":\"Variable Importance\",\"x\":0.15},\"font\":{\"color\":\"#371ea3\"},\"margin\":{\"t\":78,\"b\":71,\"r\":30},\"height\":283.0},                        {\"responsive\": true}                    ).then(function(){\n                            \nvar gd = document.getElementById('1437dc15-57c4-445a-955c-509a453e4631');\nvar x = new MutationObserver(function (mutations, observer) {{\n        var display = window.getComputedStyle(gd).display;\n        if (!display || display === 'none') {{\n            console.log([gd, 'removed!']);\n            Plotly.purge(gd);\n            observer.disconnect();\n        }}\n}});\n\n// Listen for the removal of the full notebook cells\nvar notebookContainer = gd.closest('#notebook-container');\nif (notebookContainer) {{\n    x.observe(notebookContainer, {childList: true});\n}}\n\n// Listen for the clearing of the current output cell\nvar outputEl = gd.closest('.output');\nif (outputEl) {{\n    x.observe(outputEl, {childList: true});\n}}\n\n                        })                };                });            </script>        </div>"
     },
     "metadata": {},
     "output_type": "display_data"
    }
   ],
   "source": [
    "var_importance"
   ],
   "metadata": {
    "collapsed": false,
    "pycharm": {
     "name": "#%%\n"
    }
   }
  },
  {
   "cell_type": "code",
   "execution_count": 27,
   "outputs": [
    {
     "name": "stderr",
     "output_type": "stream",
     "text": [
      "E:\\anaconda\\lib\\site-packages\\sklearn\\utils\\deprecation.py:87: FutureWarning:\n",
      "\n",
      "Function get_feature_names is deprecated; get_feature_names is deprecated in 1.0 and will be removed in 1.2. Please use get_feature_names_out instead.\n",
      "\n"
     ]
    },
    {
     "name": "stdout",
     "output_type": "stream",
     "text": [
      "Topic 0:  ['attack', 'adversari', 'human', 'knowledg', 'decis', 'user', 'detect', 'privaci', 'ieee', 'differ']\n",
      "Topic 1:  ['bound', 'theorem', 'probabl', 'kernel', 'vector', 'estim', 'proof', 'loss', 'gradient', 'error']\n",
      "Topic 2:  ['layer', 'quantum', 'imag', 'neural network', 'graph', 'deep', 'physic', 'represent', 'structur', 'vector']\n",
      "Topic 3:  ['polici', 'deep', 'meta', 'agent', 'reinforc', 'represent', 'reward', 'reinforc learn', 'action', 'domain']\n",
      "Topic 4:  ['dataset', 'select', 'accuraci', 'figur', 'tabl', 'regress', 'evalu', 'random', 'tree', 'error']\n"
     ]
    }
   ],
   "source": [
    "for index, component in enumerate(lda.components_): #taking model's components, i.e. P(w|z)\n",
    "    zipped = zip(tf_vectorizer.get_feature_names(), component) #taking together tokens' names with components\n",
    "    top_terms_key=sorted(zipped, key = lambda t: t[1], reverse=True)[:10] #top 10 terms per topic\n",
    "    top_terms_list=list(dict(top_terms_key).keys()) #taking only tokens, no weights\n",
    "\n",
    "    print(\"Topic \"+str(index)+\": \",top_terms_list) #prints top 10 tokens per topic"
   ],
   "metadata": {
    "collapsed": false,
    "pycharm": {
     "name": "#%%\n"
    }
   }
  },
  {
   "cell_type": "code",
   "execution_count": 28,
   "outputs": [
    {
     "data": {
      "text/plain": "<dalex.model_explanations._model_performance.object.ModelPerformance at 0x1830fa1aa30>",
      "text/html": "<div>\n<style scoped>\n    .dataframe tbody tr th:only-of-type {\n        vertical-align: middle;\n    }\n\n    .dataframe tbody tr th {\n        vertical-align: top;\n    }\n\n    .dataframe thead th {\n        text-align: right;\n    }\n</style>\n<table border=\"1\" class=\"dataframe\">\n  <thead>\n    <tr style=\"text-align: right;\">\n      <th></th>\n      <th>mse</th>\n      <th>rmse</th>\n      <th>r2</th>\n      <th>mae</th>\n      <th>mad</th>\n    </tr>\n  </thead>\n  <tbody>\n    <tr>\n      <th>XGBRegressor</th>\n      <td>392.468776</td>\n      <td>19.810825</td>\n      <td>0.997745</td>\n      <td>13.057491</td>\n      <td>8.738222</td>\n    </tr>\n  </tbody>\n</table>\n</div>"
     },
     "execution_count": 28,
     "metadata": {},
     "output_type": "execute_result"
    }
   ],
   "source": [
    "exp.model_performance()"
   ],
   "metadata": {
    "collapsed": false,
    "pycharm": {
     "name": "#%%\n"
    }
   }
  },
  {
   "cell_type": "code",
   "execution_count": 21,
   "outputs": [],
   "source": [
    "variables = topics_df[['Topic 0', 'Topic 1', 'Topic 2', 'Topic 3', 'Topic 4']]\n",
    "target = topics_df[['citations']]"
   ],
   "metadata": {
    "collapsed": false,
    "pycharm": {
     "name": "#%%\n"
    }
   }
  },
  {
   "cell_type": "code",
   "execution_count": 23,
   "outputs": [
    {
     "data": {
      "text/plain": "1.162015251684972"
     },
     "execution_count": 23,
     "metadata": {},
     "output_type": "execute_result"
    }
   ],
   "source": [
    "mean_absolute_percentage_error(xg_model.predict(variables), target)"
   ],
   "metadata": {
    "collapsed": false,
    "pycharm": {
     "name": "#%%\n"
    }
   }
  }
 ],
 "metadata": {
  "kernelspec": {
   "display_name": "Python 3",
   "language": "python",
   "name": "python3"
  },
  "language_info": {
   "codemirror_mode": {
    "name": "ipython",
    "version": 2
   },
   "file_extension": ".py",
   "mimetype": "text/x-python",
   "name": "python",
   "nbconvert_exporter": "python",
   "pygments_lexer": "ipython2",
   "version": "2.7.6"
  }
 },
 "nbformat": 4,
 "nbformat_minor": 0
}