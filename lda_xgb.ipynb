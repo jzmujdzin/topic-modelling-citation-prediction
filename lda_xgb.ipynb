{
 "cells": [
  {
   "cell_type": "code",
   "execution_count": 21,
   "metadata": {
    "collapsed": true,
    "pycharm": {
     "name": "#%%\n"
    }
   },
   "outputs": [],
   "source": [
    "import pandas as pd\n",
    "from pathlib import Path\n",
    "from sklearn.decomposition import LatentDirichletAllocation\n",
    "from nltk.stem.porter import PorterStemmer\n",
    "import re\n",
    "from nltk.tokenize import RegexpTokenizer\n",
    "from sklearn.feature_extraction.text import CountVectorizer\n",
    "import pickle\n",
    "import xgboost as xgb\n",
    "import dalex as dx\n",
    "from sklearn.model_selection import RandomizedSearchCV\n",
    "import numpy as np\n",
    "from sklearn.model_selection import KFold\n",
    "from sklearn.model_selection import cross_val_score\n",
    "from sklearn.metrics import mean_absolute_percentage_error"
   ]
  },
  {
   "cell_type": "code",
   "execution_count": 2,
   "outputs": [],
   "source": [
    "df = pd.read_json(Path.cwd() / \"final_df\" / \"final_df.json\")"
   ],
   "metadata": {
    "collapsed": false,
    "pycharm": {
     "name": "#%%\n"
    }
   }
  },
  {
   "cell_type": "code",
   "execution_count": 3,
   "outputs": [
    {
     "data": {
      "text/plain": "                                                  title  \\\n0           Continual Reinforcement Learning with TELLA   \n1     An exact mapping between the Variational Renor...   \n2     Learning Generative Models across Incomparable...   \n3     On the Generalization Ability of Online Learni...   \n4              Geometric Understanding of Deep Learning   \n...                                                 ...   \n1230  Musical Word Embedding: Bridging the Gap betwe...   \n1231  Metrics for Multi-Class Classification: an Ove...   \n1232  Intelligence plays dice: Stochasticity is esse...   \n1233  Can AutoML outperform humans? An evaluation on...   \n1234  Nonsmoothness in Machine Learning: specific st...   \n\n                                   link  citations  \\\n0     http://arxiv.org/pdf/2208.04287v1          2   \n1      http://arxiv.org/pdf/1410.3831v1        295   \n2     http://arxiv.org/pdf/1905.05461v2         69   \n3      http://arxiv.org/pdf/1305.2505v1         74   \n4     http://arxiv.org/pdf/1805.10451v2        110   \n...                                 ...        ...   \n1230  http://arxiv.org/pdf/2008.01190v1          4   \n1231  http://arxiv.org/pdf/2008.05756v1        409   \n1232  http://arxiv.org/pdf/2008.07496v1          5   \n1233  http://arxiv.org/pdf/2009.01564v2         24   \n1234  http://arxiv.org/pdf/2010.00848v2         15   \n\n                                                   text  \n0     Workshop Track - 1st Conference on Lifelong Le...  \n1     arXiv:1410.3831v1  [stat.ML]  14 Oct 2014An ex...  \n2     Learning Generative Models across Incomparable...  \n3     On the Generalization Ability of Online Learni...  \n4     Geometric Understanding of Deep Learning\\nNa L...  \n...                                                 ...  \n1230  Musical Word Embedding: Bridging the Gap betwe...  \n1231  METRICS FOR MULTI -CLASS CLASSIFICATION :ANOVE...  \n1232  Intelligence plays dice: Stochasticity is esse...  \n1233  Can AutoML outperform humans? An evaluation \\n...  \n1234  Set-Valued and Variational Analysis manuscript...  \n\n[1235 rows x 4 columns]",
      "text/html": "<div>\n<style scoped>\n    .dataframe tbody tr th:only-of-type {\n        vertical-align: middle;\n    }\n\n    .dataframe tbody tr th {\n        vertical-align: top;\n    }\n\n    .dataframe thead th {\n        text-align: right;\n    }\n</style>\n<table border=\"1\" class=\"dataframe\">\n  <thead>\n    <tr style=\"text-align: right;\">\n      <th></th>\n      <th>title</th>\n      <th>link</th>\n      <th>citations</th>\n      <th>text</th>\n    </tr>\n  </thead>\n  <tbody>\n    <tr>\n      <th>0</th>\n      <td>Continual Reinforcement Learning with TELLA</td>\n      <td>http://arxiv.org/pdf/2208.04287v1</td>\n      <td>2</td>\n      <td>Workshop Track - 1st Conference on Lifelong Le...</td>\n    </tr>\n    <tr>\n      <th>1</th>\n      <td>An exact mapping between the Variational Renor...</td>\n      <td>http://arxiv.org/pdf/1410.3831v1</td>\n      <td>295</td>\n      <td>arXiv:1410.3831v1  [stat.ML]  14 Oct 2014An ex...</td>\n    </tr>\n    <tr>\n      <th>2</th>\n      <td>Learning Generative Models across Incomparable...</td>\n      <td>http://arxiv.org/pdf/1905.05461v2</td>\n      <td>69</td>\n      <td>Learning Generative Models across Incomparable...</td>\n    </tr>\n    <tr>\n      <th>3</th>\n      <td>On the Generalization Ability of Online Learni...</td>\n      <td>http://arxiv.org/pdf/1305.2505v1</td>\n      <td>74</td>\n      <td>On the Generalization Ability of Online Learni...</td>\n    </tr>\n    <tr>\n      <th>4</th>\n      <td>Geometric Understanding of Deep Learning</td>\n      <td>http://arxiv.org/pdf/1805.10451v2</td>\n      <td>110</td>\n      <td>Geometric Understanding of Deep Learning\\nNa L...</td>\n    </tr>\n    <tr>\n      <th>...</th>\n      <td>...</td>\n      <td>...</td>\n      <td>...</td>\n      <td>...</td>\n    </tr>\n    <tr>\n      <th>1230</th>\n      <td>Musical Word Embedding: Bridging the Gap betwe...</td>\n      <td>http://arxiv.org/pdf/2008.01190v1</td>\n      <td>4</td>\n      <td>Musical Word Embedding: Bridging the Gap betwe...</td>\n    </tr>\n    <tr>\n      <th>1231</th>\n      <td>Metrics for Multi-Class Classification: an Ove...</td>\n      <td>http://arxiv.org/pdf/2008.05756v1</td>\n      <td>409</td>\n      <td>METRICS FOR MULTI -CLASS CLASSIFICATION :ANOVE...</td>\n    </tr>\n    <tr>\n      <th>1232</th>\n      <td>Intelligence plays dice: Stochasticity is esse...</td>\n      <td>http://arxiv.org/pdf/2008.07496v1</td>\n      <td>5</td>\n      <td>Intelligence plays dice: Stochasticity is esse...</td>\n    </tr>\n    <tr>\n      <th>1233</th>\n      <td>Can AutoML outperform humans? An evaluation on...</td>\n      <td>http://arxiv.org/pdf/2009.01564v2</td>\n      <td>24</td>\n      <td>Can AutoML outperform humans? An evaluation \\n...</td>\n    </tr>\n    <tr>\n      <th>1234</th>\n      <td>Nonsmoothness in Machine Learning: specific st...</td>\n      <td>http://arxiv.org/pdf/2010.00848v2</td>\n      <td>15</td>\n      <td>Set-Valued and Variational Analysis manuscript...</td>\n    </tr>\n  </tbody>\n</table>\n<p>1235 rows × 4 columns</p>\n</div>"
     },
     "execution_count": 3,
     "metadata": {},
     "output_type": "execute_result"
    }
   ],
   "source": [
    "df"
   ],
   "metadata": {
    "collapsed": false,
    "pycharm": {
     "name": "#%%\n"
    }
   }
  },
  {
   "cell_type": "code",
   "execution_count": 4,
   "outputs": [
    {
     "data": {
      "text/plain": "12"
     },
     "execution_count": 4,
     "metadata": {},
     "output_type": "execute_result"
    }
   ],
   "source": [
    "df['text'].isna().sum()"
   ],
   "metadata": {
    "collapsed": false,
    "pycharm": {
     "name": "#%%\n"
    }
   }
  },
  {
   "cell_type": "code",
   "execution_count": 5,
   "outputs": [],
   "source": [
    "df.dropna(subset=['text'], inplace=True)"
   ],
   "metadata": {
    "collapsed": false,
    "pycharm": {
     "name": "#%%\n"
    }
   }
  },
  {
   "cell_type": "code",
   "execution_count": 74,
   "outputs": [],
   "source": [
    "stemmer = PorterStemmer()\n",
    "tokenizer = RegexpTokenizer(r'\\w+')\n",
    "def preprocess_text(text: str):\n",
    "    return ' '.join([stemmer.stem(word) for word in tokenizer.tokenize(' '.join([re.sub(r'[\\s\\d]+', ' ', word) for word in text.split()]))])\n"
   ],
   "metadata": {
    "collapsed": false,
    "pycharm": {
     "name": "#%%\n"
    }
   }
  },
  {
   "cell_type": "code",
   "execution_count": 75,
   "outputs": [],
   "source": [
    "df['text_pp'] = df['text'].apply(lambda x: preprocess_text(x))"
   ],
   "metadata": {
    "collapsed": false,
    "pycharm": {
     "name": "#%%\n"
    }
   }
  },
  {
   "cell_type": "code",
   "execution_count": 76,
   "outputs": [],
   "source": [
    "tf_vectorizer = CountVectorizer(ngram_range = (1, 3),\n",
    "                                max_df = 0.75,\n",
    "                                min_df = 0.01,\n",
    "                                tokenizer = tokenizer.tokenize,\n",
    "                                stop_words='english'\n",
    ")"
   ],
   "metadata": {
    "collapsed": false,
    "pycharm": {
     "name": "#%%\n"
    }
   }
  },
  {
   "cell_type": "code",
   "execution_count": 77,
   "outputs": [
    {
     "data": {
      "text/plain": "                                               title  \\\n0        Continual Reinforcement Learning with TELLA   \n1  An exact mapping between the Variational Renor...   \n2  Learning Generative Models across Incomparable...   \n3  On the Generalization Ability of Online Learni...   \n4           Geometric Understanding of Deep Learning   \n\n                                link  citations  \\\n0  http://arxiv.org/pdf/2208.04287v1          2   \n1   http://arxiv.org/pdf/1410.3831v1        295   \n2  http://arxiv.org/pdf/1905.05461v2         69   \n3   http://arxiv.org/pdf/1305.2505v1         74   \n4  http://arxiv.org/pdf/1805.10451v2        110   \n\n                                                text  \\\n0  Workshop Track - 1st Conference on Lifelong Le...   \n1  arXiv:1410.3831v1  [stat.ML]  14 Oct 2014An ex...   \n2  Learning Generative Models across Incomparable...   \n3  On the Generalization Ability of Online Learni...   \n4  Geometric Understanding of Deep Learning\\nNa L...   \n\n                                             text_pp  \n0  workshop track st confer on lifelong learn age...  \n1  arxiv v stat ml oct an exact map between the v...  \n2  learn gener model across incompar space charlo...  \n3  on the gener abil of onlin learn algorithm for...  \n4  geometr understand of deep learn na lei zhongx...  ",
      "text/html": "<div>\n<style scoped>\n    .dataframe tbody tr th:only-of-type {\n        vertical-align: middle;\n    }\n\n    .dataframe tbody tr th {\n        vertical-align: top;\n    }\n\n    .dataframe thead th {\n        text-align: right;\n    }\n</style>\n<table border=\"1\" class=\"dataframe\">\n  <thead>\n    <tr style=\"text-align: right;\">\n      <th></th>\n      <th>title</th>\n      <th>link</th>\n      <th>citations</th>\n      <th>text</th>\n      <th>text_pp</th>\n    </tr>\n  </thead>\n  <tbody>\n    <tr>\n      <th>0</th>\n      <td>Continual Reinforcement Learning with TELLA</td>\n      <td>http://arxiv.org/pdf/2208.04287v1</td>\n      <td>2</td>\n      <td>Workshop Track - 1st Conference on Lifelong Le...</td>\n      <td>workshop track st confer on lifelong learn age...</td>\n    </tr>\n    <tr>\n      <th>1</th>\n      <td>An exact mapping between the Variational Renor...</td>\n      <td>http://arxiv.org/pdf/1410.3831v1</td>\n      <td>295</td>\n      <td>arXiv:1410.3831v1  [stat.ML]  14 Oct 2014An ex...</td>\n      <td>arxiv v stat ml oct an exact map between the v...</td>\n    </tr>\n    <tr>\n      <th>2</th>\n      <td>Learning Generative Models across Incomparable...</td>\n      <td>http://arxiv.org/pdf/1905.05461v2</td>\n      <td>69</td>\n      <td>Learning Generative Models across Incomparable...</td>\n      <td>learn gener model across incompar space charlo...</td>\n    </tr>\n    <tr>\n      <th>3</th>\n      <td>On the Generalization Ability of Online Learni...</td>\n      <td>http://arxiv.org/pdf/1305.2505v1</td>\n      <td>74</td>\n      <td>On the Generalization Ability of Online Learni...</td>\n      <td>on the gener abil of onlin learn algorithm for...</td>\n    </tr>\n    <tr>\n      <th>4</th>\n      <td>Geometric Understanding of Deep Learning</td>\n      <td>http://arxiv.org/pdf/1805.10451v2</td>\n      <td>110</td>\n      <td>Geometric Understanding of Deep Learning\\nNa L...</td>\n      <td>geometr understand of deep learn na lei zhongx...</td>\n    </tr>\n  </tbody>\n</table>\n</div>"
     },
     "execution_count": 77,
     "metadata": {},
     "output_type": "execute_result"
    }
   ],
   "source": [
    "df.head()"
   ],
   "metadata": {
    "collapsed": false,
    "pycharm": {
     "name": "#%%\n"
    }
   }
  },
  {
   "cell_type": "code",
   "execution_count": 78,
   "outputs": [],
   "source": [
    "tf = tf_vectorizer.fit_transform(df['text_pp'])"
   ],
   "metadata": {
    "collapsed": false,
    "pycharm": {
     "name": "#%%\n"
    }
   }
  },
  {
   "cell_type": "code",
   "execution_count": 79,
   "outputs": [
    {
     "name": "stderr",
     "output_type": "stream",
     "text": [
      "[Parallel(n_jobs=4)]: Using backend LokyBackend with 4 concurrent workers.\n",
      "[Parallel(n_jobs=4)]: Done   2 out of   4 | elapsed:   13.6s remaining:   13.6s\n",
      "[Parallel(n_jobs=4)]: Done   4 out of   4 | elapsed:   13.7s finished\n",
      "[Parallel(n_jobs=4)]: Using backend LokyBackend with 4 concurrent workers.\n"
     ]
    },
    {
     "name": "stdout",
     "output_type": "stream",
     "text": [
      "iteration: 1 of max_iter: 200\n"
     ]
    },
    {
     "name": "stderr",
     "output_type": "stream",
     "text": [
      "[Parallel(n_jobs=4)]: Done   2 out of   4 | elapsed:    1.6s remaining:    1.6s\n",
      "[Parallel(n_jobs=4)]: Done   4 out of   4 | elapsed:    1.7s finished\n",
      "[Parallel(n_jobs=4)]: Using backend LokyBackend with 4 concurrent workers.\n"
     ]
    },
    {
     "name": "stdout",
     "output_type": "stream",
     "text": [
      "iteration: 2 of max_iter: 200\n"
     ]
    },
    {
     "name": "stderr",
     "output_type": "stream",
     "text": [
      "[Parallel(n_jobs=4)]: Done   2 out of   4 | elapsed:    2.0s remaining:    2.0s\n",
      "[Parallel(n_jobs=4)]: Done   4 out of   4 | elapsed:    2.1s finished\n",
      "[Parallel(n_jobs=4)]: Using backend LokyBackend with 4 concurrent workers.\n"
     ]
    },
    {
     "name": "stdout",
     "output_type": "stream",
     "text": [
      "iteration: 3 of max_iter: 200\n"
     ]
    },
    {
     "name": "stderr",
     "output_type": "stream",
     "text": [
      "[Parallel(n_jobs=4)]: Done   2 out of   4 | elapsed:    1.4s remaining:    1.4s\n",
      "[Parallel(n_jobs=4)]: Done   4 out of   4 | elapsed:    1.4s finished\n",
      "[Parallel(n_jobs=4)]: Using backend LokyBackend with 4 concurrent workers.\n"
     ]
    },
    {
     "name": "stdout",
     "output_type": "stream",
     "text": [
      "iteration: 4 of max_iter: 200\n"
     ]
    },
    {
     "name": "stderr",
     "output_type": "stream",
     "text": [
      "[Parallel(n_jobs=4)]: Done   2 out of   4 | elapsed:    1.2s remaining:    1.2s\n",
      "[Parallel(n_jobs=4)]: Done   4 out of   4 | elapsed:    1.2s finished\n",
      "[Parallel(n_jobs=4)]: Using backend LokyBackend with 4 concurrent workers.\n"
     ]
    },
    {
     "name": "stdout",
     "output_type": "stream",
     "text": [
      "iteration: 5 of max_iter: 200\n"
     ]
    },
    {
     "name": "stderr",
     "output_type": "stream",
     "text": [
      "[Parallel(n_jobs=4)]: Done   2 out of   4 | elapsed:    1.1s remaining:    1.1s\n",
      "[Parallel(n_jobs=4)]: Done   4 out of   4 | elapsed:    1.2s finished\n",
      "[Parallel(n_jobs=4)]: Using backend LokyBackend with 4 concurrent workers.\n"
     ]
    },
    {
     "name": "stdout",
     "output_type": "stream",
     "text": [
      "iteration: 6 of max_iter: 200\n"
     ]
    },
    {
     "name": "stderr",
     "output_type": "stream",
     "text": [
      "[Parallel(n_jobs=4)]: Done   2 out of   4 | elapsed:    1.3s remaining:    1.3s\n",
      "[Parallel(n_jobs=4)]: Done   4 out of   4 | elapsed:    1.3s finished\n",
      "[Parallel(n_jobs=4)]: Using backend LokyBackend with 4 concurrent workers.\n"
     ]
    },
    {
     "name": "stdout",
     "output_type": "stream",
     "text": [
      "iteration: 7 of max_iter: 200\n"
     ]
    },
    {
     "name": "stderr",
     "output_type": "stream",
     "text": [
      "[Parallel(n_jobs=4)]: Done   2 out of   4 | elapsed:    1.1s remaining:    1.1s\n",
      "[Parallel(n_jobs=4)]: Done   4 out of   4 | elapsed:    1.1s finished\n",
      "[Parallel(n_jobs=4)]: Using backend LokyBackend with 4 concurrent workers.\n"
     ]
    },
    {
     "name": "stdout",
     "output_type": "stream",
     "text": [
      "iteration: 8 of max_iter: 200\n"
     ]
    },
    {
     "name": "stderr",
     "output_type": "stream",
     "text": [
      "[Parallel(n_jobs=4)]: Done   2 out of   4 | elapsed:    1.1s remaining:    1.1s\n",
      "[Parallel(n_jobs=4)]: Done   4 out of   4 | elapsed:    1.1s finished\n",
      "[Parallel(n_jobs=4)]: Using backend LokyBackend with 4 concurrent workers.\n"
     ]
    },
    {
     "name": "stdout",
     "output_type": "stream",
     "text": [
      "iteration: 9 of max_iter: 200\n"
     ]
    },
    {
     "name": "stderr",
     "output_type": "stream",
     "text": [
      "[Parallel(n_jobs=4)]: Done   2 out of   4 | elapsed:    1.0s remaining:    1.0s\n",
      "[Parallel(n_jobs=4)]: Done   4 out of   4 | elapsed:    1.1s finished\n",
      "[Parallel(n_jobs=4)]: Using backend LokyBackend with 4 concurrent workers.\n"
     ]
    },
    {
     "name": "stdout",
     "output_type": "stream",
     "text": [
      "iteration: 10 of max_iter: 200\n"
     ]
    },
    {
     "name": "stderr",
     "output_type": "stream",
     "text": [
      "[Parallel(n_jobs=4)]: Done   2 out of   4 | elapsed:    1.1s remaining:    1.1s\n",
      "[Parallel(n_jobs=4)]: Done   4 out of   4 | elapsed:    1.1s finished\n",
      "[Parallel(n_jobs=4)]: Using backend LokyBackend with 4 concurrent workers.\n"
     ]
    },
    {
     "name": "stdout",
     "output_type": "stream",
     "text": [
      "iteration: 11 of max_iter: 200\n"
     ]
    },
    {
     "name": "stderr",
     "output_type": "stream",
     "text": [
      "[Parallel(n_jobs=4)]: Done   2 out of   4 | elapsed:    1.0s remaining:    1.0s\n",
      "[Parallel(n_jobs=4)]: Done   4 out of   4 | elapsed:    1.0s finished\n",
      "[Parallel(n_jobs=4)]: Using backend LokyBackend with 4 concurrent workers.\n"
     ]
    },
    {
     "name": "stdout",
     "output_type": "stream",
     "text": [
      "iteration: 12 of max_iter: 200\n"
     ]
    },
    {
     "name": "stderr",
     "output_type": "stream",
     "text": [
      "[Parallel(n_jobs=4)]: Done   2 out of   4 | elapsed:    1.0s remaining:    1.0s\n",
      "[Parallel(n_jobs=4)]: Done   4 out of   4 | elapsed:    1.0s finished\n",
      "[Parallel(n_jobs=4)]: Using backend LokyBackend with 4 concurrent workers.\n"
     ]
    },
    {
     "name": "stdout",
     "output_type": "stream",
     "text": [
      "iteration: 13 of max_iter: 200\n"
     ]
    },
    {
     "name": "stderr",
     "output_type": "stream",
     "text": [
      "[Parallel(n_jobs=4)]: Done   2 out of   4 | elapsed:    1.1s remaining:    1.1s\n",
      "[Parallel(n_jobs=4)]: Done   4 out of   4 | elapsed:    1.2s finished\n",
      "[Parallel(n_jobs=4)]: Using backend LokyBackend with 4 concurrent workers.\n"
     ]
    },
    {
     "name": "stdout",
     "output_type": "stream",
     "text": [
      "iteration: 14 of max_iter: 200\n"
     ]
    },
    {
     "name": "stderr",
     "output_type": "stream",
     "text": [
      "[Parallel(n_jobs=4)]: Done   2 out of   4 | elapsed:    1.0s remaining:    1.0s\n",
      "[Parallel(n_jobs=4)]: Done   4 out of   4 | elapsed:    1.1s finished\n",
      "[Parallel(n_jobs=4)]: Using backend LokyBackend with 4 concurrent workers.\n"
     ]
    },
    {
     "name": "stdout",
     "output_type": "stream",
     "text": [
      "iteration: 15 of max_iter: 200\n"
     ]
    },
    {
     "name": "stderr",
     "output_type": "stream",
     "text": [
      "[Parallel(n_jobs=4)]: Done   2 out of   4 | elapsed:    1.1s remaining:    1.1s\n",
      "[Parallel(n_jobs=4)]: Done   4 out of   4 | elapsed:    1.1s finished\n",
      "[Parallel(n_jobs=4)]: Using backend LokyBackend with 4 concurrent workers.\n"
     ]
    },
    {
     "name": "stdout",
     "output_type": "stream",
     "text": [
      "iteration: 16 of max_iter: 200\n"
     ]
    },
    {
     "name": "stderr",
     "output_type": "stream",
     "text": [
      "[Parallel(n_jobs=4)]: Done   2 out of   4 | elapsed:    1.0s remaining:    1.0s\n",
      "[Parallel(n_jobs=4)]: Done   4 out of   4 | elapsed:    1.1s finished\n",
      "[Parallel(n_jobs=4)]: Using backend LokyBackend with 4 concurrent workers.\n"
     ]
    },
    {
     "name": "stdout",
     "output_type": "stream",
     "text": [
      "iteration: 17 of max_iter: 200\n"
     ]
    },
    {
     "name": "stderr",
     "output_type": "stream",
     "text": [
      "[Parallel(n_jobs=4)]: Done   2 out of   4 | elapsed:    1.2s remaining:    1.2s\n",
      "[Parallel(n_jobs=4)]: Done   4 out of   4 | elapsed:    1.3s finished\n",
      "[Parallel(n_jobs=4)]: Using backend LokyBackend with 4 concurrent workers.\n"
     ]
    },
    {
     "name": "stdout",
     "output_type": "stream",
     "text": [
      "iteration: 18 of max_iter: 200\n"
     ]
    },
    {
     "name": "stderr",
     "output_type": "stream",
     "text": [
      "[Parallel(n_jobs=4)]: Done   2 out of   4 | elapsed:    1.0s remaining:    1.0s\n",
      "[Parallel(n_jobs=4)]: Done   4 out of   4 | elapsed:    1.1s finished\n",
      "[Parallel(n_jobs=4)]: Using backend LokyBackend with 4 concurrent workers.\n"
     ]
    },
    {
     "name": "stdout",
     "output_type": "stream",
     "text": [
      "iteration: 19 of max_iter: 200\n"
     ]
    },
    {
     "name": "stderr",
     "output_type": "stream",
     "text": [
      "[Parallel(n_jobs=4)]: Done   2 out of   4 | elapsed:    1.0s remaining:    1.0s\n",
      "[Parallel(n_jobs=4)]: Done   4 out of   4 | elapsed:    1.1s finished\n",
      "[Parallel(n_jobs=4)]: Using backend LokyBackend with 4 concurrent workers.\n"
     ]
    },
    {
     "name": "stdout",
     "output_type": "stream",
     "text": [
      "iteration: 20 of max_iter: 200\n"
     ]
    },
    {
     "name": "stderr",
     "output_type": "stream",
     "text": [
      "[Parallel(n_jobs=4)]: Done   2 out of   4 | elapsed:    1.0s remaining:    1.0s\n",
      "[Parallel(n_jobs=4)]: Done   4 out of   4 | elapsed:    1.1s finished\n",
      "[Parallel(n_jobs=4)]: Using backend LokyBackend with 4 concurrent workers.\n"
     ]
    },
    {
     "name": "stdout",
     "output_type": "stream",
     "text": [
      "iteration: 21 of max_iter: 200\n"
     ]
    },
    {
     "name": "stderr",
     "output_type": "stream",
     "text": [
      "[Parallel(n_jobs=4)]: Done   2 out of   4 | elapsed:    1.0s remaining:    1.0s\n",
      "[Parallel(n_jobs=4)]: Done   4 out of   4 | elapsed:    1.0s finished\n",
      "[Parallel(n_jobs=4)]: Using backend LokyBackend with 4 concurrent workers.\n"
     ]
    },
    {
     "name": "stdout",
     "output_type": "stream",
     "text": [
      "iteration: 22 of max_iter: 200\n"
     ]
    },
    {
     "name": "stderr",
     "output_type": "stream",
     "text": [
      "[Parallel(n_jobs=4)]: Done   2 out of   4 | elapsed:    1.0s remaining:    1.0s\n",
      "[Parallel(n_jobs=4)]: Done   4 out of   4 | elapsed:    1.0s finished\n",
      "[Parallel(n_jobs=4)]: Using backend LokyBackend with 4 concurrent workers.\n"
     ]
    },
    {
     "name": "stdout",
     "output_type": "stream",
     "text": [
      "iteration: 23 of max_iter: 200\n"
     ]
    },
    {
     "name": "stderr",
     "output_type": "stream",
     "text": [
      "[Parallel(n_jobs=4)]: Done   2 out of   4 | elapsed:    1.0s remaining:    1.0s\n",
      "[Parallel(n_jobs=4)]: Done   4 out of   4 | elapsed:    1.0s finished\n",
      "[Parallel(n_jobs=4)]: Using backend LokyBackend with 4 concurrent workers.\n"
     ]
    },
    {
     "name": "stdout",
     "output_type": "stream",
     "text": [
      "iteration: 24 of max_iter: 200\n"
     ]
    },
    {
     "name": "stderr",
     "output_type": "stream",
     "text": [
      "[Parallel(n_jobs=4)]: Done   2 out of   4 | elapsed:    0.9s remaining:    0.9s\n",
      "[Parallel(n_jobs=4)]: Done   4 out of   4 | elapsed:    1.0s finished\n",
      "[Parallel(n_jobs=4)]: Using backend LokyBackend with 4 concurrent workers.\n"
     ]
    },
    {
     "name": "stdout",
     "output_type": "stream",
     "text": [
      "iteration: 25 of max_iter: 200\n"
     ]
    },
    {
     "name": "stderr",
     "output_type": "stream",
     "text": [
      "[Parallel(n_jobs=4)]: Done   2 out of   4 | elapsed:    0.9s remaining:    0.9s\n",
      "[Parallel(n_jobs=4)]: Done   4 out of   4 | elapsed:    1.0s finished\n",
      "[Parallel(n_jobs=4)]: Using backend LokyBackend with 4 concurrent workers.\n"
     ]
    },
    {
     "name": "stdout",
     "output_type": "stream",
     "text": [
      "iteration: 26 of max_iter: 200\n"
     ]
    },
    {
     "name": "stderr",
     "output_type": "stream",
     "text": [
      "[Parallel(n_jobs=4)]: Done   2 out of   4 | elapsed:    1.1s remaining:    1.1s\n",
      "[Parallel(n_jobs=4)]: Done   4 out of   4 | elapsed:    1.2s finished\n",
      "[Parallel(n_jobs=4)]: Using backend LokyBackend with 4 concurrent workers.\n"
     ]
    },
    {
     "name": "stdout",
     "output_type": "stream",
     "text": [
      "iteration: 27 of max_iter: 200\n"
     ]
    },
    {
     "name": "stderr",
     "output_type": "stream",
     "text": [
      "[Parallel(n_jobs=4)]: Done   2 out of   4 | elapsed:    1.3s remaining:    1.3s\n",
      "[Parallel(n_jobs=4)]: Done   4 out of   4 | elapsed:    1.4s finished\n",
      "[Parallel(n_jobs=4)]: Using backend LokyBackend with 4 concurrent workers.\n"
     ]
    },
    {
     "name": "stdout",
     "output_type": "stream",
     "text": [
      "iteration: 28 of max_iter: 200\n"
     ]
    },
    {
     "name": "stderr",
     "output_type": "stream",
     "text": [
      "[Parallel(n_jobs=4)]: Done   2 out of   4 | elapsed:    1.3s remaining:    1.3s\n",
      "[Parallel(n_jobs=4)]: Done   4 out of   4 | elapsed:    1.4s finished\n",
      "[Parallel(n_jobs=4)]: Using backend LokyBackend with 4 concurrent workers.\n"
     ]
    },
    {
     "name": "stdout",
     "output_type": "stream",
     "text": [
      "iteration: 29 of max_iter: 200\n"
     ]
    },
    {
     "name": "stderr",
     "output_type": "stream",
     "text": [
      "[Parallel(n_jobs=4)]: Done   2 out of   4 | elapsed:    1.1s remaining:    1.1s\n",
      "[Parallel(n_jobs=4)]: Done   4 out of   4 | elapsed:    1.3s finished\n"
     ]
    },
    {
     "name": "stdout",
     "output_type": "stream",
     "text": [
      "iteration: 30 of max_iter: 200\n"
     ]
    },
    {
     "name": "stderr",
     "output_type": "stream",
     "text": [
      "[Parallel(n_jobs=4)]: Using backend LokyBackend with 4 concurrent workers.\n",
      "[Parallel(n_jobs=4)]: Done   2 out of   4 | elapsed:    1.5s remaining:    1.5s\n",
      "[Parallel(n_jobs=4)]: Done   4 out of   4 | elapsed:    1.7s finished\n"
     ]
    },
    {
     "name": "stdout",
     "output_type": "stream",
     "text": [
      "iteration: 31 of max_iter: 200\n"
     ]
    },
    {
     "name": "stderr",
     "output_type": "stream",
     "text": [
      "[Parallel(n_jobs=4)]: Using backend LokyBackend with 4 concurrent workers.\n",
      "[Parallel(n_jobs=4)]: Done   2 out of   4 | elapsed:    1.0s remaining:    1.0s\n",
      "[Parallel(n_jobs=4)]: Done   4 out of   4 | elapsed:    1.1s finished\n",
      "[Parallel(n_jobs=4)]: Using backend LokyBackend with 4 concurrent workers.\n"
     ]
    },
    {
     "name": "stdout",
     "output_type": "stream",
     "text": [
      "iteration: 32 of max_iter: 200\n"
     ]
    },
    {
     "name": "stderr",
     "output_type": "stream",
     "text": [
      "[Parallel(n_jobs=4)]: Done   2 out of   4 | elapsed:    1.0s remaining:    1.0s\n",
      "[Parallel(n_jobs=4)]: Done   4 out of   4 | elapsed:    1.0s finished\n",
      "[Parallel(n_jobs=4)]: Using backend LokyBackend with 4 concurrent workers.\n"
     ]
    },
    {
     "name": "stdout",
     "output_type": "stream",
     "text": [
      "iteration: 33 of max_iter: 200\n"
     ]
    },
    {
     "name": "stderr",
     "output_type": "stream",
     "text": [
      "[Parallel(n_jobs=4)]: Done   2 out of   4 | elapsed:    0.9s remaining:    0.9s\n",
      "[Parallel(n_jobs=4)]: Done   4 out of   4 | elapsed:    1.0s finished\n",
      "[Parallel(n_jobs=4)]: Using backend LokyBackend with 4 concurrent workers.\n"
     ]
    },
    {
     "name": "stdout",
     "output_type": "stream",
     "text": [
      "iteration: 34 of max_iter: 200\n"
     ]
    },
    {
     "name": "stderr",
     "output_type": "stream",
     "text": [
      "[Parallel(n_jobs=4)]: Done   2 out of   4 | elapsed:    1.5s remaining:    1.5s\n",
      "[Parallel(n_jobs=4)]: Done   4 out of   4 | elapsed:    1.5s finished\n",
      "[Parallel(n_jobs=4)]: Using backend LokyBackend with 4 concurrent workers.\n"
     ]
    },
    {
     "name": "stdout",
     "output_type": "stream",
     "text": [
      "iteration: 35 of max_iter: 200\n"
     ]
    },
    {
     "name": "stderr",
     "output_type": "stream",
     "text": [
      "[Parallel(n_jobs=4)]: Done   2 out of   4 | elapsed:    1.1s remaining:    1.1s\n",
      "[Parallel(n_jobs=4)]: Done   4 out of   4 | elapsed:    1.2s finished\n",
      "[Parallel(n_jobs=4)]: Using backend LokyBackend with 4 concurrent workers.\n"
     ]
    },
    {
     "name": "stdout",
     "output_type": "stream",
     "text": [
      "iteration: 36 of max_iter: 200\n"
     ]
    },
    {
     "name": "stderr",
     "output_type": "stream",
     "text": [
      "[Parallel(n_jobs=4)]: Done   2 out of   4 | elapsed:    0.9s remaining:    0.9s\n",
      "[Parallel(n_jobs=4)]: Done   4 out of   4 | elapsed:    1.0s finished\n",
      "[Parallel(n_jobs=4)]: Using backend LokyBackend with 4 concurrent workers.\n"
     ]
    },
    {
     "name": "stdout",
     "output_type": "stream",
     "text": [
      "iteration: 37 of max_iter: 200\n"
     ]
    },
    {
     "name": "stderr",
     "output_type": "stream",
     "text": [
      "[Parallel(n_jobs=4)]: Done   2 out of   4 | elapsed:    0.9s remaining:    0.9s\n",
      "[Parallel(n_jobs=4)]: Done   4 out of   4 | elapsed:    1.0s finished\n",
      "[Parallel(n_jobs=4)]: Using backend LokyBackend with 4 concurrent workers.\n"
     ]
    },
    {
     "name": "stdout",
     "output_type": "stream",
     "text": [
      "iteration: 38 of max_iter: 200\n"
     ]
    },
    {
     "name": "stderr",
     "output_type": "stream",
     "text": [
      "[Parallel(n_jobs=4)]: Done   2 out of   4 | elapsed:    0.9s remaining:    0.9s\n",
      "[Parallel(n_jobs=4)]: Done   4 out of   4 | elapsed:    1.0s finished\n",
      "[Parallel(n_jobs=4)]: Using backend LokyBackend with 4 concurrent workers.\n"
     ]
    },
    {
     "name": "stdout",
     "output_type": "stream",
     "text": [
      "iteration: 39 of max_iter: 200\n"
     ]
    },
    {
     "name": "stderr",
     "output_type": "stream",
     "text": [
      "[Parallel(n_jobs=4)]: Done   2 out of   4 | elapsed:    0.8s remaining:    0.8s\n",
      "[Parallel(n_jobs=4)]: Done   4 out of   4 | elapsed:    0.9s finished\n",
      "[Parallel(n_jobs=4)]: Using backend LokyBackend with 4 concurrent workers.\n"
     ]
    },
    {
     "name": "stdout",
     "output_type": "stream",
     "text": [
      "iteration: 40 of max_iter: 200\n"
     ]
    },
    {
     "name": "stderr",
     "output_type": "stream",
     "text": [
      "[Parallel(n_jobs=4)]: Done   2 out of   4 | elapsed:    0.8s remaining:    0.8s\n",
      "[Parallel(n_jobs=4)]: Done   4 out of   4 | elapsed:    0.9s finished\n",
      "[Parallel(n_jobs=4)]: Using backend LokyBackend with 4 concurrent workers.\n"
     ]
    },
    {
     "name": "stdout",
     "output_type": "stream",
     "text": [
      "iteration: 41 of max_iter: 200\n"
     ]
    },
    {
     "name": "stderr",
     "output_type": "stream",
     "text": [
      "[Parallel(n_jobs=4)]: Done   2 out of   4 | elapsed:    0.8s remaining:    0.8s\n",
      "[Parallel(n_jobs=4)]: Done   4 out of   4 | elapsed:    0.9s finished\n",
      "[Parallel(n_jobs=4)]: Using backend LokyBackend with 4 concurrent workers.\n"
     ]
    },
    {
     "name": "stdout",
     "output_type": "stream",
     "text": [
      "iteration: 42 of max_iter: 200\n"
     ]
    },
    {
     "name": "stderr",
     "output_type": "stream",
     "text": [
      "[Parallel(n_jobs=4)]: Done   2 out of   4 | elapsed:    0.8s remaining:    0.8s\n",
      "[Parallel(n_jobs=4)]: Done   4 out of   4 | elapsed:    0.9s finished\n",
      "[Parallel(n_jobs=4)]: Using backend LokyBackend with 4 concurrent workers.\n"
     ]
    },
    {
     "name": "stdout",
     "output_type": "stream",
     "text": [
      "iteration: 43 of max_iter: 200\n"
     ]
    },
    {
     "name": "stderr",
     "output_type": "stream",
     "text": [
      "[Parallel(n_jobs=4)]: Done   2 out of   4 | elapsed:    0.8s remaining:    0.8s\n",
      "[Parallel(n_jobs=4)]: Done   4 out of   4 | elapsed:    0.9s finished\n",
      "[Parallel(n_jobs=4)]: Using backend LokyBackend with 4 concurrent workers.\n"
     ]
    },
    {
     "name": "stdout",
     "output_type": "stream",
     "text": [
      "iteration: 44 of max_iter: 200\n"
     ]
    },
    {
     "name": "stderr",
     "output_type": "stream",
     "text": [
      "[Parallel(n_jobs=4)]: Done   2 out of   4 | elapsed:    0.8s remaining:    0.8s\n",
      "[Parallel(n_jobs=4)]: Done   4 out of   4 | elapsed:    0.9s finished\n",
      "[Parallel(n_jobs=4)]: Using backend LokyBackend with 4 concurrent workers.\n"
     ]
    },
    {
     "name": "stdout",
     "output_type": "stream",
     "text": [
      "iteration: 45 of max_iter: 200\n"
     ]
    },
    {
     "name": "stderr",
     "output_type": "stream",
     "text": [
      "[Parallel(n_jobs=4)]: Done   2 out of   4 | elapsed:    1.1s remaining:    1.1s\n",
      "[Parallel(n_jobs=4)]: Done   4 out of   4 | elapsed:    1.2s finished\n",
      "[Parallel(n_jobs=4)]: Using backend LokyBackend with 4 concurrent workers.\n"
     ]
    },
    {
     "name": "stdout",
     "output_type": "stream",
     "text": [
      "iteration: 46 of max_iter: 200\n"
     ]
    },
    {
     "name": "stderr",
     "output_type": "stream",
     "text": [
      "[Parallel(n_jobs=4)]: Done   2 out of   4 | elapsed:    0.9s remaining:    0.9s\n",
      "[Parallel(n_jobs=4)]: Done   4 out of   4 | elapsed:    1.0s finished\n",
      "[Parallel(n_jobs=4)]: Using backend LokyBackend with 4 concurrent workers.\n"
     ]
    },
    {
     "name": "stdout",
     "output_type": "stream",
     "text": [
      "iteration: 47 of max_iter: 200\n"
     ]
    },
    {
     "name": "stderr",
     "output_type": "stream",
     "text": [
      "[Parallel(n_jobs=4)]: Done   2 out of   4 | elapsed:    1.0s remaining:    1.0s\n",
      "[Parallel(n_jobs=4)]: Done   4 out of   4 | elapsed:    1.1s finished\n",
      "[Parallel(n_jobs=4)]: Using backend LokyBackend with 4 concurrent workers.\n"
     ]
    },
    {
     "name": "stdout",
     "output_type": "stream",
     "text": [
      "iteration: 48 of max_iter: 200\n"
     ]
    },
    {
     "name": "stderr",
     "output_type": "stream",
     "text": [
      "[Parallel(n_jobs=4)]: Done   2 out of   4 | elapsed:    1.1s remaining:    1.1s\n",
      "[Parallel(n_jobs=4)]: Done   4 out of   4 | elapsed:    1.1s finished\n",
      "[Parallel(n_jobs=4)]: Using backend LokyBackend with 4 concurrent workers.\n"
     ]
    },
    {
     "name": "stdout",
     "output_type": "stream",
     "text": [
      "iteration: 49 of max_iter: 200\n"
     ]
    },
    {
     "name": "stderr",
     "output_type": "stream",
     "text": [
      "[Parallel(n_jobs=4)]: Done   2 out of   4 | elapsed:    0.9s remaining:    0.9s\n",
      "[Parallel(n_jobs=4)]: Done   4 out of   4 | elapsed:    1.0s finished\n",
      "[Parallel(n_jobs=4)]: Using backend LokyBackend with 4 concurrent workers.\n"
     ]
    },
    {
     "name": "stdout",
     "output_type": "stream",
     "text": [
      "iteration: 50 of max_iter: 200\n"
     ]
    },
    {
     "name": "stderr",
     "output_type": "stream",
     "text": [
      "[Parallel(n_jobs=4)]: Done   2 out of   4 | elapsed:    0.8s remaining:    0.8s\n",
      "[Parallel(n_jobs=4)]: Done   4 out of   4 | elapsed:    0.9s finished\n",
      "[Parallel(n_jobs=4)]: Using backend LokyBackend with 4 concurrent workers.\n"
     ]
    },
    {
     "name": "stdout",
     "output_type": "stream",
     "text": [
      "iteration: 51 of max_iter: 200\n"
     ]
    },
    {
     "name": "stderr",
     "output_type": "stream",
     "text": [
      "[Parallel(n_jobs=4)]: Done   2 out of   4 | elapsed:    0.8s remaining:    0.8s\n",
      "[Parallel(n_jobs=4)]: Done   4 out of   4 | elapsed:    0.9s finished\n",
      "[Parallel(n_jobs=4)]: Using backend LokyBackend with 4 concurrent workers.\n"
     ]
    },
    {
     "name": "stdout",
     "output_type": "stream",
     "text": [
      "iteration: 52 of max_iter: 200\n"
     ]
    },
    {
     "name": "stderr",
     "output_type": "stream",
     "text": [
      "[Parallel(n_jobs=4)]: Done   2 out of   4 | elapsed:    0.8s remaining:    0.8s\n",
      "[Parallel(n_jobs=4)]: Done   4 out of   4 | elapsed:    0.9s finished\n",
      "[Parallel(n_jobs=4)]: Using backend LokyBackend with 4 concurrent workers.\n"
     ]
    },
    {
     "name": "stdout",
     "output_type": "stream",
     "text": [
      "iteration: 53 of max_iter: 200\n"
     ]
    },
    {
     "name": "stderr",
     "output_type": "stream",
     "text": [
      "[Parallel(n_jobs=4)]: Done   2 out of   4 | elapsed:    0.9s remaining:    0.9s\n",
      "[Parallel(n_jobs=4)]: Done   4 out of   4 | elapsed:    1.0s finished\n",
      "[Parallel(n_jobs=4)]: Using backend LokyBackend with 4 concurrent workers.\n"
     ]
    },
    {
     "name": "stdout",
     "output_type": "stream",
     "text": [
      "iteration: 54 of max_iter: 200\n"
     ]
    },
    {
     "name": "stderr",
     "output_type": "stream",
     "text": [
      "[Parallel(n_jobs=4)]: Done   2 out of   4 | elapsed:    0.8s remaining:    0.8s\n",
      "[Parallel(n_jobs=4)]: Done   4 out of   4 | elapsed:    0.9s finished\n",
      "[Parallel(n_jobs=4)]: Using backend LokyBackend with 4 concurrent workers.\n"
     ]
    },
    {
     "name": "stdout",
     "output_type": "stream",
     "text": [
      "iteration: 55 of max_iter: 200\n"
     ]
    },
    {
     "name": "stderr",
     "output_type": "stream",
     "text": [
      "[Parallel(n_jobs=4)]: Done   2 out of   4 | elapsed:    0.8s remaining:    0.8s\n",
      "[Parallel(n_jobs=4)]: Done   4 out of   4 | elapsed:    1.0s finished\n",
      "[Parallel(n_jobs=4)]: Using backend LokyBackend with 4 concurrent workers.\n"
     ]
    },
    {
     "name": "stdout",
     "output_type": "stream",
     "text": [
      "iteration: 56 of max_iter: 200\n"
     ]
    },
    {
     "name": "stderr",
     "output_type": "stream",
     "text": [
      "[Parallel(n_jobs=4)]: Done   2 out of   4 | elapsed:    0.8s remaining:    0.8s\n",
      "[Parallel(n_jobs=4)]: Done   4 out of   4 | elapsed:    0.9s finished\n",
      "[Parallel(n_jobs=4)]: Using backend LokyBackend with 4 concurrent workers.\n"
     ]
    },
    {
     "name": "stdout",
     "output_type": "stream",
     "text": [
      "iteration: 57 of max_iter: 200\n"
     ]
    },
    {
     "name": "stderr",
     "output_type": "stream",
     "text": [
      "[Parallel(n_jobs=4)]: Done   2 out of   4 | elapsed:    0.9s remaining:    0.9s\n",
      "[Parallel(n_jobs=4)]: Done   4 out of   4 | elapsed:    0.9s finished\n",
      "[Parallel(n_jobs=4)]: Using backend LokyBackend with 4 concurrent workers.\n"
     ]
    },
    {
     "name": "stdout",
     "output_type": "stream",
     "text": [
      "iteration: 58 of max_iter: 200\n"
     ]
    },
    {
     "name": "stderr",
     "output_type": "stream",
     "text": [
      "[Parallel(n_jobs=4)]: Done   2 out of   4 | elapsed:    0.9s remaining:    0.9s\n",
      "[Parallel(n_jobs=4)]: Done   4 out of   4 | elapsed:    0.9s finished\n",
      "[Parallel(n_jobs=4)]: Using backend LokyBackend with 4 concurrent workers.\n"
     ]
    },
    {
     "name": "stdout",
     "output_type": "stream",
     "text": [
      "iteration: 59 of max_iter: 200\n"
     ]
    },
    {
     "name": "stderr",
     "output_type": "stream",
     "text": [
      "[Parallel(n_jobs=4)]: Done   2 out of   4 | elapsed:    0.8s remaining:    0.8s\n",
      "[Parallel(n_jobs=4)]: Done   4 out of   4 | elapsed:    0.9s finished\n",
      "[Parallel(n_jobs=4)]: Using backend LokyBackend with 4 concurrent workers.\n"
     ]
    },
    {
     "name": "stdout",
     "output_type": "stream",
     "text": [
      "iteration: 60 of max_iter: 200\n"
     ]
    },
    {
     "name": "stderr",
     "output_type": "stream",
     "text": [
      "[Parallel(n_jobs=4)]: Done   2 out of   4 | elapsed:    0.8s remaining:    0.8s\n",
      "[Parallel(n_jobs=4)]: Done   4 out of   4 | elapsed:    0.9s finished\n",
      "[Parallel(n_jobs=4)]: Using backend LokyBackend with 4 concurrent workers.\n"
     ]
    },
    {
     "name": "stdout",
     "output_type": "stream",
     "text": [
      "iteration: 61 of max_iter: 200\n"
     ]
    },
    {
     "name": "stderr",
     "output_type": "stream",
     "text": [
      "[Parallel(n_jobs=4)]: Done   2 out of   4 | elapsed:    0.8s remaining:    0.8s\n",
      "[Parallel(n_jobs=4)]: Done   4 out of   4 | elapsed:    0.9s finished\n",
      "[Parallel(n_jobs=4)]: Using backend LokyBackend with 4 concurrent workers.\n"
     ]
    },
    {
     "name": "stdout",
     "output_type": "stream",
     "text": [
      "iteration: 62 of max_iter: 200\n"
     ]
    },
    {
     "name": "stderr",
     "output_type": "stream",
     "text": [
      "[Parallel(n_jobs=4)]: Done   2 out of   4 | elapsed:    0.9s remaining:    0.9s\n",
      "[Parallel(n_jobs=4)]: Done   4 out of   4 | elapsed:    1.0s finished\n",
      "[Parallel(n_jobs=4)]: Using backend LokyBackend with 4 concurrent workers.\n"
     ]
    },
    {
     "name": "stdout",
     "output_type": "stream",
     "text": [
      "iteration: 63 of max_iter: 200\n"
     ]
    },
    {
     "name": "stderr",
     "output_type": "stream",
     "text": [
      "[Parallel(n_jobs=4)]: Done   2 out of   4 | elapsed:    1.1s remaining:    1.1s\n",
      "[Parallel(n_jobs=4)]: Done   4 out of   4 | elapsed:    1.2s finished\n",
      "[Parallel(n_jobs=4)]: Using backend LokyBackend with 4 concurrent workers.\n"
     ]
    },
    {
     "name": "stdout",
     "output_type": "stream",
     "text": [
      "iteration: 64 of max_iter: 200\n"
     ]
    },
    {
     "name": "stderr",
     "output_type": "stream",
     "text": [
      "[Parallel(n_jobs=4)]: Done   2 out of   4 | elapsed:    1.2s remaining:    1.2s\n",
      "[Parallel(n_jobs=4)]: Done   4 out of   4 | elapsed:    1.3s finished\n",
      "[Parallel(n_jobs=4)]: Using backend LokyBackend with 4 concurrent workers.\n"
     ]
    },
    {
     "name": "stdout",
     "output_type": "stream",
     "text": [
      "iteration: 65 of max_iter: 200\n"
     ]
    },
    {
     "name": "stderr",
     "output_type": "stream",
     "text": [
      "[Parallel(n_jobs=4)]: Done   2 out of   4 | elapsed:    1.4s remaining:    1.4s\n",
      "[Parallel(n_jobs=4)]: Done   4 out of   4 | elapsed:    1.4s finished\n",
      "[Parallel(n_jobs=4)]: Using backend LokyBackend with 4 concurrent workers.\n"
     ]
    },
    {
     "name": "stdout",
     "output_type": "stream",
     "text": [
      "iteration: 66 of max_iter: 200\n"
     ]
    },
    {
     "name": "stderr",
     "output_type": "stream",
     "text": [
      "[Parallel(n_jobs=4)]: Done   2 out of   4 | elapsed:    0.8s remaining:    0.8s\n",
      "[Parallel(n_jobs=4)]: Done   4 out of   4 | elapsed:    0.9s finished\n",
      "[Parallel(n_jobs=4)]: Using backend LokyBackend with 4 concurrent workers.\n"
     ]
    },
    {
     "name": "stdout",
     "output_type": "stream",
     "text": [
      "iteration: 67 of max_iter: 200\n"
     ]
    },
    {
     "name": "stderr",
     "output_type": "stream",
     "text": [
      "[Parallel(n_jobs=4)]: Done   2 out of   4 | elapsed:    0.8s remaining:    0.8s\n",
      "[Parallel(n_jobs=4)]: Done   4 out of   4 | elapsed:    0.9s finished\n",
      "[Parallel(n_jobs=4)]: Using backend LokyBackend with 4 concurrent workers.\n"
     ]
    },
    {
     "name": "stdout",
     "output_type": "stream",
     "text": [
      "iteration: 68 of max_iter: 200\n"
     ]
    },
    {
     "name": "stderr",
     "output_type": "stream",
     "text": [
      "[Parallel(n_jobs=4)]: Done   2 out of   4 | elapsed:    0.8s remaining:    0.8s\n",
      "[Parallel(n_jobs=4)]: Done   4 out of   4 | elapsed:    0.8s finished\n",
      "[Parallel(n_jobs=4)]: Using backend LokyBackend with 4 concurrent workers.\n"
     ]
    },
    {
     "name": "stdout",
     "output_type": "stream",
     "text": [
      "iteration: 69 of max_iter: 200\n"
     ]
    },
    {
     "name": "stderr",
     "output_type": "stream",
     "text": [
      "[Parallel(n_jobs=4)]: Done   2 out of   4 | elapsed:    0.8s remaining:    0.8s\n",
      "[Parallel(n_jobs=4)]: Done   4 out of   4 | elapsed:    0.8s finished\n",
      "[Parallel(n_jobs=4)]: Using backend LokyBackend with 4 concurrent workers.\n"
     ]
    },
    {
     "name": "stdout",
     "output_type": "stream",
     "text": [
      "iteration: 70 of max_iter: 200\n"
     ]
    },
    {
     "name": "stderr",
     "output_type": "stream",
     "text": [
      "[Parallel(n_jobs=4)]: Done   2 out of   4 | elapsed:    0.8s remaining:    0.8s\n",
      "[Parallel(n_jobs=4)]: Done   4 out of   4 | elapsed:    0.9s finished\n",
      "[Parallel(n_jobs=4)]: Using backend LokyBackend with 4 concurrent workers.\n"
     ]
    },
    {
     "name": "stdout",
     "output_type": "stream",
     "text": [
      "iteration: 71 of max_iter: 200\n"
     ]
    },
    {
     "name": "stderr",
     "output_type": "stream",
     "text": [
      "[Parallel(n_jobs=4)]: Done   2 out of   4 | elapsed:    0.8s remaining:    0.8s\n",
      "[Parallel(n_jobs=4)]: Done   4 out of   4 | elapsed:    0.8s finished\n",
      "[Parallel(n_jobs=4)]: Using backend LokyBackend with 4 concurrent workers.\n"
     ]
    },
    {
     "name": "stdout",
     "output_type": "stream",
     "text": [
      "iteration: 72 of max_iter: 200\n"
     ]
    },
    {
     "name": "stderr",
     "output_type": "stream",
     "text": [
      "[Parallel(n_jobs=4)]: Done   2 out of   4 | elapsed:    1.0s remaining:    1.0s\n",
      "[Parallel(n_jobs=4)]: Done   4 out of   4 | elapsed:    1.1s finished\n",
      "[Parallel(n_jobs=4)]: Using backend LokyBackend with 4 concurrent workers.\n"
     ]
    },
    {
     "name": "stdout",
     "output_type": "stream",
     "text": [
      "iteration: 73 of max_iter: 200\n"
     ]
    },
    {
     "name": "stderr",
     "output_type": "stream",
     "text": [
      "[Parallel(n_jobs=4)]: Done   2 out of   4 | elapsed:    0.9s remaining:    0.9s\n",
      "[Parallel(n_jobs=4)]: Done   4 out of   4 | elapsed:    0.9s finished\n",
      "[Parallel(n_jobs=4)]: Using backend LokyBackend with 4 concurrent workers.\n"
     ]
    },
    {
     "name": "stdout",
     "output_type": "stream",
     "text": [
      "iteration: 74 of max_iter: 200\n"
     ]
    },
    {
     "name": "stderr",
     "output_type": "stream",
     "text": [
      "[Parallel(n_jobs=4)]: Done   2 out of   4 | elapsed:    0.9s remaining:    0.9s\n",
      "[Parallel(n_jobs=4)]: Done   4 out of   4 | elapsed:    0.9s finished\n",
      "[Parallel(n_jobs=4)]: Using backend LokyBackend with 4 concurrent workers.\n"
     ]
    },
    {
     "name": "stdout",
     "output_type": "stream",
     "text": [
      "iteration: 75 of max_iter: 200\n"
     ]
    },
    {
     "name": "stderr",
     "output_type": "stream",
     "text": [
      "[Parallel(n_jobs=4)]: Done   2 out of   4 | elapsed:    0.8s remaining:    0.8s\n",
      "[Parallel(n_jobs=4)]: Done   4 out of   4 | elapsed:    0.9s finished\n",
      "[Parallel(n_jobs=4)]: Using backend LokyBackend with 4 concurrent workers.\n"
     ]
    },
    {
     "name": "stdout",
     "output_type": "stream",
     "text": [
      "iteration: 76 of max_iter: 200\n"
     ]
    },
    {
     "name": "stderr",
     "output_type": "stream",
     "text": [
      "[Parallel(n_jobs=4)]: Done   2 out of   4 | elapsed:    1.2s remaining:    1.2s\n",
      "[Parallel(n_jobs=4)]: Done   4 out of   4 | elapsed:    1.3s finished\n",
      "[Parallel(n_jobs=4)]: Using backend LokyBackend with 4 concurrent workers.\n"
     ]
    },
    {
     "name": "stdout",
     "output_type": "stream",
     "text": [
      "iteration: 77 of max_iter: 200\n"
     ]
    },
    {
     "name": "stderr",
     "output_type": "stream",
     "text": [
      "[Parallel(n_jobs=4)]: Done   2 out of   4 | elapsed:    1.0s remaining:    1.0s\n",
      "[Parallel(n_jobs=4)]: Done   4 out of   4 | elapsed:    1.1s finished\n",
      "[Parallel(n_jobs=4)]: Using backend LokyBackend with 4 concurrent workers.\n"
     ]
    },
    {
     "name": "stdout",
     "output_type": "stream",
     "text": [
      "iteration: 78 of max_iter: 200\n"
     ]
    },
    {
     "name": "stderr",
     "output_type": "stream",
     "text": [
      "[Parallel(n_jobs=4)]: Done   2 out of   4 | elapsed:    0.9s remaining:    0.9s\n",
      "[Parallel(n_jobs=4)]: Done   4 out of   4 | elapsed:    1.0s finished\n",
      "[Parallel(n_jobs=4)]: Using backend LokyBackend with 4 concurrent workers.\n"
     ]
    },
    {
     "name": "stdout",
     "output_type": "stream",
     "text": [
      "iteration: 79 of max_iter: 200\n"
     ]
    },
    {
     "name": "stderr",
     "output_type": "stream",
     "text": [
      "[Parallel(n_jobs=4)]: Done   2 out of   4 | elapsed:    1.0s remaining:    1.0s\n",
      "[Parallel(n_jobs=4)]: Done   4 out of   4 | elapsed:    1.1s finished\n",
      "[Parallel(n_jobs=4)]: Using backend LokyBackend with 4 concurrent workers.\n"
     ]
    },
    {
     "name": "stdout",
     "output_type": "stream",
     "text": [
      "iteration: 80 of max_iter: 200\n"
     ]
    },
    {
     "name": "stderr",
     "output_type": "stream",
     "text": [
      "[Parallel(n_jobs=4)]: Done   2 out of   4 | elapsed:    1.4s remaining:    1.4s\n",
      "[Parallel(n_jobs=4)]: Done   4 out of   4 | elapsed:    1.5s finished\n",
      "[Parallel(n_jobs=4)]: Using backend LokyBackend with 4 concurrent workers.\n"
     ]
    },
    {
     "name": "stdout",
     "output_type": "stream",
     "text": [
      "iteration: 81 of max_iter: 200\n"
     ]
    },
    {
     "name": "stderr",
     "output_type": "stream",
     "text": [
      "[Parallel(n_jobs=4)]: Done   2 out of   4 | elapsed:    1.3s remaining:    1.3s\n",
      "[Parallel(n_jobs=4)]: Done   4 out of   4 | elapsed:    1.4s finished\n",
      "[Parallel(n_jobs=4)]: Using backend LokyBackend with 4 concurrent workers.\n"
     ]
    },
    {
     "name": "stdout",
     "output_type": "stream",
     "text": [
      "iteration: 82 of max_iter: 200\n"
     ]
    },
    {
     "name": "stderr",
     "output_type": "stream",
     "text": [
      "[Parallel(n_jobs=4)]: Done   2 out of   4 | elapsed:    1.3s remaining:    1.3s\n",
      "[Parallel(n_jobs=4)]: Done   4 out of   4 | elapsed:    1.4s finished\n",
      "[Parallel(n_jobs=4)]: Using backend LokyBackend with 4 concurrent workers.\n"
     ]
    },
    {
     "name": "stdout",
     "output_type": "stream",
     "text": [
      "iteration: 83 of max_iter: 200\n"
     ]
    },
    {
     "name": "stderr",
     "output_type": "stream",
     "text": [
      "[Parallel(n_jobs=4)]: Done   2 out of   4 | elapsed:    0.8s remaining:    0.8s\n",
      "[Parallel(n_jobs=4)]: Done   4 out of   4 | elapsed:    0.9s finished\n",
      "[Parallel(n_jobs=4)]: Using backend LokyBackend with 4 concurrent workers.\n"
     ]
    },
    {
     "name": "stdout",
     "output_type": "stream",
     "text": [
      "iteration: 84 of max_iter: 200\n"
     ]
    },
    {
     "name": "stderr",
     "output_type": "stream",
     "text": [
      "[Parallel(n_jobs=4)]: Done   2 out of   4 | elapsed:    0.8s remaining:    0.8s\n",
      "[Parallel(n_jobs=4)]: Done   4 out of   4 | elapsed:    0.9s finished\n",
      "[Parallel(n_jobs=4)]: Using backend LokyBackend with 4 concurrent workers.\n"
     ]
    },
    {
     "name": "stdout",
     "output_type": "stream",
     "text": [
      "iteration: 85 of max_iter: 200\n"
     ]
    },
    {
     "name": "stderr",
     "output_type": "stream",
     "text": [
      "[Parallel(n_jobs=4)]: Done   2 out of   4 | elapsed:    0.8s remaining:    0.8s\n",
      "[Parallel(n_jobs=4)]: Done   4 out of   4 | elapsed:    0.9s finished\n",
      "[Parallel(n_jobs=4)]: Using backend LokyBackend with 4 concurrent workers.\n"
     ]
    },
    {
     "name": "stdout",
     "output_type": "stream",
     "text": [
      "iteration: 86 of max_iter: 200\n"
     ]
    },
    {
     "name": "stderr",
     "output_type": "stream",
     "text": [
      "[Parallel(n_jobs=4)]: Done   2 out of   4 | elapsed:    0.8s remaining:    0.8s\n",
      "[Parallel(n_jobs=4)]: Done   4 out of   4 | elapsed:    0.9s finished\n",
      "[Parallel(n_jobs=4)]: Using backend LokyBackend with 4 concurrent workers.\n"
     ]
    },
    {
     "name": "stdout",
     "output_type": "stream",
     "text": [
      "iteration: 87 of max_iter: 200\n"
     ]
    },
    {
     "name": "stderr",
     "output_type": "stream",
     "text": [
      "[Parallel(n_jobs=4)]: Done   2 out of   4 | elapsed:    0.8s remaining:    0.8s\n",
      "[Parallel(n_jobs=4)]: Done   4 out of   4 | elapsed:    0.8s finished\n",
      "[Parallel(n_jobs=4)]: Using backend LokyBackend with 4 concurrent workers.\n"
     ]
    },
    {
     "name": "stdout",
     "output_type": "stream",
     "text": [
      "iteration: 88 of max_iter: 200\n"
     ]
    },
    {
     "name": "stderr",
     "output_type": "stream",
     "text": [
      "[Parallel(n_jobs=4)]: Done   2 out of   4 | elapsed:    0.8s remaining:    0.8s\n",
      "[Parallel(n_jobs=4)]: Done   4 out of   4 | elapsed:    0.8s finished\n",
      "[Parallel(n_jobs=4)]: Using backend LokyBackend with 4 concurrent workers.\n"
     ]
    },
    {
     "name": "stdout",
     "output_type": "stream",
     "text": [
      "iteration: 89 of max_iter: 200\n"
     ]
    },
    {
     "name": "stderr",
     "output_type": "stream",
     "text": [
      "[Parallel(n_jobs=4)]: Done   2 out of   4 | elapsed:    0.9s remaining:    0.9s\n",
      "[Parallel(n_jobs=4)]: Done   4 out of   4 | elapsed:    1.0s finished\n",
      "[Parallel(n_jobs=4)]: Using backend LokyBackend with 4 concurrent workers.\n"
     ]
    },
    {
     "name": "stdout",
     "output_type": "stream",
     "text": [
      "iteration: 90 of max_iter: 200\n"
     ]
    },
    {
     "name": "stderr",
     "output_type": "stream",
     "text": [
      "[Parallel(n_jobs=4)]: Done   2 out of   4 | elapsed:    0.8s remaining:    0.8s\n",
      "[Parallel(n_jobs=4)]: Done   4 out of   4 | elapsed:    0.9s finished\n",
      "[Parallel(n_jobs=4)]: Using backend LokyBackend with 4 concurrent workers.\n"
     ]
    },
    {
     "name": "stdout",
     "output_type": "stream",
     "text": [
      "iteration: 91 of max_iter: 200\n"
     ]
    },
    {
     "name": "stderr",
     "output_type": "stream",
     "text": [
      "[Parallel(n_jobs=4)]: Done   2 out of   4 | elapsed:    0.8s remaining:    0.8s\n",
      "[Parallel(n_jobs=4)]: Done   4 out of   4 | elapsed:    0.8s finished\n",
      "[Parallel(n_jobs=4)]: Using backend LokyBackend with 4 concurrent workers.\n"
     ]
    },
    {
     "name": "stdout",
     "output_type": "stream",
     "text": [
      "iteration: 92 of max_iter: 200\n"
     ]
    },
    {
     "name": "stderr",
     "output_type": "stream",
     "text": [
      "[Parallel(n_jobs=4)]: Done   2 out of   4 | elapsed:    0.8s remaining:    0.8s\n",
      "[Parallel(n_jobs=4)]: Done   4 out of   4 | elapsed:    0.8s finished\n",
      "[Parallel(n_jobs=4)]: Using backend LokyBackend with 4 concurrent workers.\n"
     ]
    },
    {
     "name": "stdout",
     "output_type": "stream",
     "text": [
      "iteration: 93 of max_iter: 200\n"
     ]
    },
    {
     "name": "stderr",
     "output_type": "stream",
     "text": [
      "[Parallel(n_jobs=4)]: Done   2 out of   4 | elapsed:    0.8s remaining:    0.8s\n",
      "[Parallel(n_jobs=4)]: Done   4 out of   4 | elapsed:    0.9s finished\n",
      "[Parallel(n_jobs=4)]: Using backend LokyBackend with 4 concurrent workers.\n"
     ]
    },
    {
     "name": "stdout",
     "output_type": "stream",
     "text": [
      "iteration: 94 of max_iter: 200\n"
     ]
    },
    {
     "name": "stderr",
     "output_type": "stream",
     "text": [
      "[Parallel(n_jobs=4)]: Done   2 out of   4 | elapsed:    0.8s remaining:    0.8s\n",
      "[Parallel(n_jobs=4)]: Done   4 out of   4 | elapsed:    0.8s finished\n",
      "[Parallel(n_jobs=4)]: Using backend LokyBackend with 4 concurrent workers.\n"
     ]
    },
    {
     "name": "stdout",
     "output_type": "stream",
     "text": [
      "iteration: 95 of max_iter: 200\n"
     ]
    },
    {
     "name": "stderr",
     "output_type": "stream",
     "text": [
      "[Parallel(n_jobs=4)]: Done   2 out of   4 | elapsed:    0.9s remaining:    0.9s\n",
      "[Parallel(n_jobs=4)]: Done   4 out of   4 | elapsed:    1.0s finished\n",
      "[Parallel(n_jobs=4)]: Using backend LokyBackend with 4 concurrent workers.\n"
     ]
    },
    {
     "name": "stdout",
     "output_type": "stream",
     "text": [
      "iteration: 96 of max_iter: 200\n"
     ]
    },
    {
     "name": "stderr",
     "output_type": "stream",
     "text": [
      "[Parallel(n_jobs=4)]: Done   2 out of   4 | elapsed:    0.8s remaining:    0.8s\n",
      "[Parallel(n_jobs=4)]: Done   4 out of   4 | elapsed:    0.9s finished\n",
      "[Parallel(n_jobs=4)]: Using backend LokyBackend with 4 concurrent workers.\n"
     ]
    },
    {
     "name": "stdout",
     "output_type": "stream",
     "text": [
      "iteration: 97 of max_iter: 200\n"
     ]
    },
    {
     "name": "stderr",
     "output_type": "stream",
     "text": [
      "[Parallel(n_jobs=4)]: Done   2 out of   4 | elapsed:    0.9s remaining:    0.9s\n",
      "[Parallel(n_jobs=4)]: Done   4 out of   4 | elapsed:    0.9s finished\n",
      "[Parallel(n_jobs=4)]: Using backend LokyBackend with 4 concurrent workers.\n"
     ]
    },
    {
     "name": "stdout",
     "output_type": "stream",
     "text": [
      "iteration: 98 of max_iter: 200\n"
     ]
    },
    {
     "name": "stderr",
     "output_type": "stream",
     "text": [
      "[Parallel(n_jobs=4)]: Done   2 out of   4 | elapsed:    0.8s remaining:    0.8s\n",
      "[Parallel(n_jobs=4)]: Done   4 out of   4 | elapsed:    0.9s finished\n",
      "[Parallel(n_jobs=4)]: Using backend LokyBackend with 4 concurrent workers.\n"
     ]
    },
    {
     "name": "stdout",
     "output_type": "stream",
     "text": [
      "iteration: 99 of max_iter: 200\n"
     ]
    },
    {
     "name": "stderr",
     "output_type": "stream",
     "text": [
      "[Parallel(n_jobs=4)]: Done   2 out of   4 | elapsed:    0.8s remaining:    0.8s\n",
      "[Parallel(n_jobs=4)]: Done   4 out of   4 | elapsed:    0.8s finished\n",
      "[Parallel(n_jobs=4)]: Using backend LokyBackend with 4 concurrent workers.\n"
     ]
    },
    {
     "name": "stdout",
     "output_type": "stream",
     "text": [
      "iteration: 100 of max_iter: 200\n"
     ]
    },
    {
     "name": "stderr",
     "output_type": "stream",
     "text": [
      "[Parallel(n_jobs=4)]: Done   2 out of   4 | elapsed:    0.8s remaining:    0.8s\n",
      "[Parallel(n_jobs=4)]: Done   4 out of   4 | elapsed:    0.9s finished\n",
      "[Parallel(n_jobs=4)]: Using backend LokyBackend with 4 concurrent workers.\n"
     ]
    },
    {
     "name": "stdout",
     "output_type": "stream",
     "text": [
      "iteration: 101 of max_iter: 200\n"
     ]
    },
    {
     "name": "stderr",
     "output_type": "stream",
     "text": [
      "[Parallel(n_jobs=4)]: Done   2 out of   4 | elapsed:    0.8s remaining:    0.8s\n",
      "[Parallel(n_jobs=4)]: Done   4 out of   4 | elapsed:    0.9s finished\n",
      "[Parallel(n_jobs=4)]: Using backend LokyBackend with 4 concurrent workers.\n"
     ]
    },
    {
     "name": "stdout",
     "output_type": "stream",
     "text": [
      "iteration: 102 of max_iter: 200\n"
     ]
    },
    {
     "name": "stderr",
     "output_type": "stream",
     "text": [
      "[Parallel(n_jobs=4)]: Done   2 out of   4 | elapsed:    0.8s remaining:    0.8s\n",
      "[Parallel(n_jobs=4)]: Done   4 out of   4 | elapsed:    0.8s finished\n",
      "[Parallel(n_jobs=4)]: Using backend LokyBackend with 4 concurrent workers.\n"
     ]
    },
    {
     "name": "stdout",
     "output_type": "stream",
     "text": [
      "iteration: 103 of max_iter: 200\n"
     ]
    },
    {
     "name": "stderr",
     "output_type": "stream",
     "text": [
      "[Parallel(n_jobs=4)]: Done   2 out of   4 | elapsed:    0.8s remaining:    0.8s\n",
      "[Parallel(n_jobs=4)]: Done   4 out of   4 | elapsed:    0.8s finished\n",
      "[Parallel(n_jobs=4)]: Using backend LokyBackend with 4 concurrent workers.\n"
     ]
    },
    {
     "name": "stdout",
     "output_type": "stream",
     "text": [
      "iteration: 104 of max_iter: 200\n"
     ]
    },
    {
     "name": "stderr",
     "output_type": "stream",
     "text": [
      "[Parallel(n_jobs=4)]: Done   2 out of   4 | elapsed:    0.8s remaining:    0.8s\n",
      "[Parallel(n_jobs=4)]: Done   4 out of   4 | elapsed:    0.8s finished\n",
      "[Parallel(n_jobs=4)]: Using backend LokyBackend with 4 concurrent workers.\n"
     ]
    },
    {
     "name": "stdout",
     "output_type": "stream",
     "text": [
      "iteration: 105 of max_iter: 200\n"
     ]
    },
    {
     "name": "stderr",
     "output_type": "stream",
     "text": [
      "[Parallel(n_jobs=4)]: Done   2 out of   4 | elapsed:    0.8s remaining:    0.8s\n",
      "[Parallel(n_jobs=4)]: Done   4 out of   4 | elapsed:    0.8s finished\n",
      "[Parallel(n_jobs=4)]: Using backend LokyBackend with 4 concurrent workers.\n"
     ]
    },
    {
     "name": "stdout",
     "output_type": "stream",
     "text": [
      "iteration: 106 of max_iter: 200\n"
     ]
    },
    {
     "name": "stderr",
     "output_type": "stream",
     "text": [
      "[Parallel(n_jobs=4)]: Done   2 out of   4 | elapsed:    0.8s remaining:    0.8s\n",
      "[Parallel(n_jobs=4)]: Done   4 out of   4 | elapsed:    0.8s finished\n",
      "[Parallel(n_jobs=4)]: Using backend LokyBackend with 4 concurrent workers.\n"
     ]
    },
    {
     "name": "stdout",
     "output_type": "stream",
     "text": [
      "iteration: 107 of max_iter: 200\n"
     ]
    },
    {
     "name": "stderr",
     "output_type": "stream",
     "text": [
      "[Parallel(n_jobs=4)]: Done   2 out of   4 | elapsed:    0.8s remaining:    0.8s\n",
      "[Parallel(n_jobs=4)]: Done   4 out of   4 | elapsed:    0.8s finished\n",
      "[Parallel(n_jobs=4)]: Using backend LokyBackend with 4 concurrent workers.\n"
     ]
    },
    {
     "name": "stdout",
     "output_type": "stream",
     "text": [
      "iteration: 108 of max_iter: 200\n"
     ]
    },
    {
     "name": "stderr",
     "output_type": "stream",
     "text": [
      "[Parallel(n_jobs=4)]: Done   2 out of   4 | elapsed:    0.8s remaining:    0.8s\n",
      "[Parallel(n_jobs=4)]: Done   4 out of   4 | elapsed:    0.8s finished\n",
      "[Parallel(n_jobs=4)]: Using backend LokyBackend with 4 concurrent workers.\n"
     ]
    },
    {
     "name": "stdout",
     "output_type": "stream",
     "text": [
      "iteration: 109 of max_iter: 200\n"
     ]
    },
    {
     "name": "stderr",
     "output_type": "stream",
     "text": [
      "[Parallel(n_jobs=4)]: Done   2 out of   4 | elapsed:    0.8s remaining:    0.8s\n",
      "[Parallel(n_jobs=4)]: Done   4 out of   4 | elapsed:    0.8s finished\n",
      "[Parallel(n_jobs=4)]: Using backend LokyBackend with 4 concurrent workers.\n"
     ]
    },
    {
     "name": "stdout",
     "output_type": "stream",
     "text": [
      "iteration: 110 of max_iter: 200\n"
     ]
    },
    {
     "name": "stderr",
     "output_type": "stream",
     "text": [
      "[Parallel(n_jobs=4)]: Done   2 out of   4 | elapsed:    0.9s remaining:    0.9s\n",
      "[Parallel(n_jobs=4)]: Done   4 out of   4 | elapsed:    1.0s finished\n",
      "[Parallel(n_jobs=4)]: Using backend LokyBackend with 4 concurrent workers.\n"
     ]
    },
    {
     "name": "stdout",
     "output_type": "stream",
     "text": [
      "iteration: 111 of max_iter: 200\n"
     ]
    },
    {
     "name": "stderr",
     "output_type": "stream",
     "text": [
      "[Parallel(n_jobs=4)]: Done   2 out of   4 | elapsed:    0.9s remaining:    0.9s\n",
      "[Parallel(n_jobs=4)]: Done   4 out of   4 | elapsed:    0.9s finished\n",
      "[Parallel(n_jobs=4)]: Using backend LokyBackend with 4 concurrent workers.\n"
     ]
    },
    {
     "name": "stdout",
     "output_type": "stream",
     "text": [
      "iteration: 112 of max_iter: 200\n"
     ]
    },
    {
     "name": "stderr",
     "output_type": "stream",
     "text": [
      "[Parallel(n_jobs=4)]: Done   2 out of   4 | elapsed:    0.8s remaining:    0.8s\n",
      "[Parallel(n_jobs=4)]: Done   4 out of   4 | elapsed:    0.9s finished\n",
      "[Parallel(n_jobs=4)]: Using backend LokyBackend with 4 concurrent workers.\n"
     ]
    },
    {
     "name": "stdout",
     "output_type": "stream",
     "text": [
      "iteration: 113 of max_iter: 200\n"
     ]
    },
    {
     "name": "stderr",
     "output_type": "stream",
     "text": [
      "[Parallel(n_jobs=4)]: Done   2 out of   4 | elapsed:    0.8s remaining:    0.8s\n",
      "[Parallel(n_jobs=4)]: Done   4 out of   4 | elapsed:    0.9s finished\n",
      "[Parallel(n_jobs=4)]: Using backend LokyBackend with 4 concurrent workers.\n"
     ]
    },
    {
     "name": "stdout",
     "output_type": "stream",
     "text": [
      "iteration: 114 of max_iter: 200\n"
     ]
    },
    {
     "name": "stderr",
     "output_type": "stream",
     "text": [
      "[Parallel(n_jobs=4)]: Done   2 out of   4 | elapsed:    0.8s remaining:    0.8s\n",
      "[Parallel(n_jobs=4)]: Done   4 out of   4 | elapsed:    0.9s finished\n",
      "[Parallel(n_jobs=4)]: Using backend LokyBackend with 4 concurrent workers.\n"
     ]
    },
    {
     "name": "stdout",
     "output_type": "stream",
     "text": [
      "iteration: 115 of max_iter: 200\n"
     ]
    },
    {
     "name": "stderr",
     "output_type": "stream",
     "text": [
      "[Parallel(n_jobs=4)]: Done   2 out of   4 | elapsed:    0.8s remaining:    0.8s\n",
      "[Parallel(n_jobs=4)]: Done   4 out of   4 | elapsed:    0.9s finished\n",
      "[Parallel(n_jobs=4)]: Using backend LokyBackend with 4 concurrent workers.\n"
     ]
    },
    {
     "name": "stdout",
     "output_type": "stream",
     "text": [
      "iteration: 116 of max_iter: 200\n"
     ]
    },
    {
     "name": "stderr",
     "output_type": "stream",
     "text": [
      "[Parallel(n_jobs=4)]: Done   2 out of   4 | elapsed:    0.8s remaining:    0.8s\n",
      "[Parallel(n_jobs=4)]: Done   4 out of   4 | elapsed:    0.8s finished\n",
      "[Parallel(n_jobs=4)]: Using backend LokyBackend with 4 concurrent workers.\n"
     ]
    },
    {
     "name": "stdout",
     "output_type": "stream",
     "text": [
      "iteration: 117 of max_iter: 200\n"
     ]
    },
    {
     "name": "stderr",
     "output_type": "stream",
     "text": [
      "[Parallel(n_jobs=4)]: Done   2 out of   4 | elapsed:    0.8s remaining:    0.8s\n",
      "[Parallel(n_jobs=4)]: Done   4 out of   4 | elapsed:    0.9s finished\n",
      "[Parallel(n_jobs=4)]: Using backend LokyBackend with 4 concurrent workers.\n"
     ]
    },
    {
     "name": "stdout",
     "output_type": "stream",
     "text": [
      "iteration: 118 of max_iter: 200\n"
     ]
    },
    {
     "name": "stderr",
     "output_type": "stream",
     "text": [
      "[Parallel(n_jobs=4)]: Done   2 out of   4 | elapsed:    0.8s remaining:    0.8s\n",
      "[Parallel(n_jobs=4)]: Done   4 out of   4 | elapsed:    0.9s finished\n",
      "[Parallel(n_jobs=4)]: Using backend LokyBackend with 4 concurrent workers.\n"
     ]
    },
    {
     "name": "stdout",
     "output_type": "stream",
     "text": [
      "iteration: 119 of max_iter: 200\n"
     ]
    },
    {
     "name": "stderr",
     "output_type": "stream",
     "text": [
      "[Parallel(n_jobs=4)]: Done   2 out of   4 | elapsed:    0.8s remaining:    0.8s\n",
      "[Parallel(n_jobs=4)]: Done   4 out of   4 | elapsed:    0.8s finished\n",
      "[Parallel(n_jobs=4)]: Using backend LokyBackend with 4 concurrent workers.\n"
     ]
    },
    {
     "name": "stdout",
     "output_type": "stream",
     "text": [
      "iteration: 120 of max_iter: 200\n"
     ]
    },
    {
     "name": "stderr",
     "output_type": "stream",
     "text": [
      "[Parallel(n_jobs=4)]: Done   2 out of   4 | elapsed:    0.8s remaining:    0.8s\n",
      "[Parallel(n_jobs=4)]: Done   4 out of   4 | elapsed:    0.9s finished\n",
      "[Parallel(n_jobs=4)]: Using backend LokyBackend with 4 concurrent workers.\n"
     ]
    },
    {
     "name": "stdout",
     "output_type": "stream",
     "text": [
      "iteration: 121 of max_iter: 200\n"
     ]
    },
    {
     "name": "stderr",
     "output_type": "stream",
     "text": [
      "[Parallel(n_jobs=4)]: Done   2 out of   4 | elapsed:    0.8s remaining:    0.8s\n",
      "[Parallel(n_jobs=4)]: Done   4 out of   4 | elapsed:    0.8s finished\n",
      "[Parallel(n_jobs=4)]: Using backend LokyBackend with 4 concurrent workers.\n"
     ]
    },
    {
     "name": "stdout",
     "output_type": "stream",
     "text": [
      "iteration: 122 of max_iter: 200\n"
     ]
    },
    {
     "name": "stderr",
     "output_type": "stream",
     "text": [
      "[Parallel(n_jobs=4)]: Done   2 out of   4 | elapsed:    0.8s remaining:    0.8s\n",
      "[Parallel(n_jobs=4)]: Done   4 out of   4 | elapsed:    1.0s finished\n",
      "[Parallel(n_jobs=4)]: Using backend LokyBackend with 4 concurrent workers.\n"
     ]
    },
    {
     "name": "stdout",
     "output_type": "stream",
     "text": [
      "iteration: 123 of max_iter: 200\n"
     ]
    },
    {
     "name": "stderr",
     "output_type": "stream",
     "text": [
      "[Parallel(n_jobs=4)]: Done   2 out of   4 | elapsed:    0.9s remaining:    0.9s\n",
      "[Parallel(n_jobs=4)]: Done   4 out of   4 | elapsed:    1.0s finished\n",
      "[Parallel(n_jobs=4)]: Using backend LokyBackend with 4 concurrent workers.\n"
     ]
    },
    {
     "name": "stdout",
     "output_type": "stream",
     "text": [
      "iteration: 124 of max_iter: 200\n"
     ]
    },
    {
     "name": "stderr",
     "output_type": "stream",
     "text": [
      "[Parallel(n_jobs=4)]: Done   2 out of   4 | elapsed:    1.1s remaining:    1.1s\n",
      "[Parallel(n_jobs=4)]: Done   4 out of   4 | elapsed:    1.2s finished\n",
      "[Parallel(n_jobs=4)]: Using backend LokyBackend with 4 concurrent workers.\n"
     ]
    },
    {
     "name": "stdout",
     "output_type": "stream",
     "text": [
      "iteration: 125 of max_iter: 200\n"
     ]
    },
    {
     "name": "stderr",
     "output_type": "stream",
     "text": [
      "[Parallel(n_jobs=4)]: Done   2 out of   4 | elapsed:    0.8s remaining:    0.8s\n",
      "[Parallel(n_jobs=4)]: Done   4 out of   4 | elapsed:    0.8s finished\n",
      "[Parallel(n_jobs=4)]: Using backend LokyBackend with 4 concurrent workers.\n"
     ]
    },
    {
     "name": "stdout",
     "output_type": "stream",
     "text": [
      "iteration: 126 of max_iter: 200\n"
     ]
    },
    {
     "name": "stderr",
     "output_type": "stream",
     "text": [
      "[Parallel(n_jobs=4)]: Done   2 out of   4 | elapsed:    0.8s remaining:    0.8s\n",
      "[Parallel(n_jobs=4)]: Done   4 out of   4 | elapsed:    0.8s finished\n",
      "[Parallel(n_jobs=4)]: Using backend LokyBackend with 4 concurrent workers.\n"
     ]
    },
    {
     "name": "stdout",
     "output_type": "stream",
     "text": [
      "iteration: 127 of max_iter: 200\n"
     ]
    },
    {
     "name": "stderr",
     "output_type": "stream",
     "text": [
      "[Parallel(n_jobs=4)]: Done   2 out of   4 | elapsed:    0.9s remaining:    0.9s\n",
      "[Parallel(n_jobs=4)]: Done   4 out of   4 | elapsed:    1.0s finished\n",
      "[Parallel(n_jobs=4)]: Using backend LokyBackend with 4 concurrent workers.\n"
     ]
    },
    {
     "name": "stdout",
     "output_type": "stream",
     "text": [
      "iteration: 128 of max_iter: 200\n"
     ]
    },
    {
     "name": "stderr",
     "output_type": "stream",
     "text": [
      "[Parallel(n_jobs=4)]: Done   2 out of   4 | elapsed:    0.9s remaining:    0.9s\n",
      "[Parallel(n_jobs=4)]: Done   4 out of   4 | elapsed:    1.0s finished\n",
      "[Parallel(n_jobs=4)]: Using backend LokyBackend with 4 concurrent workers.\n"
     ]
    },
    {
     "name": "stdout",
     "output_type": "stream",
     "text": [
      "iteration: 129 of max_iter: 200\n"
     ]
    },
    {
     "name": "stderr",
     "output_type": "stream",
     "text": [
      "[Parallel(n_jobs=4)]: Done   2 out of   4 | elapsed:    0.9s remaining:    0.9s\n",
      "[Parallel(n_jobs=4)]: Done   4 out of   4 | elapsed:    0.9s finished\n",
      "[Parallel(n_jobs=4)]: Using backend LokyBackend with 4 concurrent workers.\n"
     ]
    },
    {
     "name": "stdout",
     "output_type": "stream",
     "text": [
      "iteration: 130 of max_iter: 200\n"
     ]
    },
    {
     "name": "stderr",
     "output_type": "stream",
     "text": [
      "[Parallel(n_jobs=4)]: Done   2 out of   4 | elapsed:    0.9s remaining:    0.9s\n",
      "[Parallel(n_jobs=4)]: Done   4 out of   4 | elapsed:    1.0s finished\n",
      "[Parallel(n_jobs=4)]: Using backend LokyBackend with 4 concurrent workers.\n"
     ]
    },
    {
     "name": "stdout",
     "output_type": "stream",
     "text": [
      "iteration: 131 of max_iter: 200\n"
     ]
    },
    {
     "name": "stderr",
     "output_type": "stream",
     "text": [
      "[Parallel(n_jobs=4)]: Done   2 out of   4 | elapsed:    0.8s remaining:    0.8s\n",
      "[Parallel(n_jobs=4)]: Done   4 out of   4 | elapsed:    0.9s finished\n",
      "[Parallel(n_jobs=4)]: Using backend LokyBackend with 4 concurrent workers.\n"
     ]
    },
    {
     "name": "stdout",
     "output_type": "stream",
     "text": [
      "iteration: 132 of max_iter: 200\n"
     ]
    },
    {
     "name": "stderr",
     "output_type": "stream",
     "text": [
      "[Parallel(n_jobs=4)]: Done   2 out of   4 | elapsed:    0.8s remaining:    0.8s\n",
      "[Parallel(n_jobs=4)]: Done   4 out of   4 | elapsed:    0.8s finished\n",
      "[Parallel(n_jobs=4)]: Using backend LokyBackend with 4 concurrent workers.\n"
     ]
    },
    {
     "name": "stdout",
     "output_type": "stream",
     "text": [
      "iteration: 133 of max_iter: 200\n"
     ]
    },
    {
     "name": "stderr",
     "output_type": "stream",
     "text": [
      "[Parallel(n_jobs=4)]: Done   2 out of   4 | elapsed:    0.9s remaining:    0.9s\n",
      "[Parallel(n_jobs=4)]: Done   4 out of   4 | elapsed:    1.0s finished\n",
      "[Parallel(n_jobs=4)]: Using backend LokyBackend with 4 concurrent workers.\n"
     ]
    },
    {
     "name": "stdout",
     "output_type": "stream",
     "text": [
      "iteration: 134 of max_iter: 200\n"
     ]
    },
    {
     "name": "stderr",
     "output_type": "stream",
     "text": [
      "[Parallel(n_jobs=4)]: Done   2 out of   4 | elapsed:    1.0s remaining:    1.0s\n",
      "[Parallel(n_jobs=4)]: Done   4 out of   4 | elapsed:    1.1s finished\n",
      "[Parallel(n_jobs=4)]: Using backend LokyBackend with 4 concurrent workers.\n"
     ]
    },
    {
     "name": "stdout",
     "output_type": "stream",
     "text": [
      "iteration: 135 of max_iter: 200\n"
     ]
    },
    {
     "name": "stderr",
     "output_type": "stream",
     "text": [
      "[Parallel(n_jobs=4)]: Done   2 out of   4 | elapsed:    1.7s remaining:    1.7s\n",
      "[Parallel(n_jobs=4)]: Done   4 out of   4 | elapsed:    1.9s finished\n",
      "[Parallel(n_jobs=4)]: Using backend LokyBackend with 4 concurrent workers.\n"
     ]
    },
    {
     "name": "stdout",
     "output_type": "stream",
     "text": [
      "iteration: 136 of max_iter: 200\n"
     ]
    },
    {
     "name": "stderr",
     "output_type": "stream",
     "text": [
      "[Parallel(n_jobs=4)]: Done   2 out of   4 | elapsed:    1.0s remaining:    1.0s\n",
      "[Parallel(n_jobs=4)]: Done   4 out of   4 | elapsed:    1.1s finished\n",
      "[Parallel(n_jobs=4)]: Using backend LokyBackend with 4 concurrent workers.\n"
     ]
    },
    {
     "name": "stdout",
     "output_type": "stream",
     "text": [
      "iteration: 137 of max_iter: 200\n"
     ]
    },
    {
     "name": "stderr",
     "output_type": "stream",
     "text": [
      "[Parallel(n_jobs=4)]: Done   2 out of   4 | elapsed:    1.4s remaining:    1.4s\n",
      "[Parallel(n_jobs=4)]: Done   4 out of   4 | elapsed:    1.5s finished\n",
      "[Parallel(n_jobs=4)]: Using backend LokyBackend with 4 concurrent workers.\n"
     ]
    },
    {
     "name": "stdout",
     "output_type": "stream",
     "text": [
      "iteration: 138 of max_iter: 200\n"
     ]
    },
    {
     "name": "stderr",
     "output_type": "stream",
     "text": [
      "[Parallel(n_jobs=4)]: Done   2 out of   4 | elapsed:    1.3s remaining:    1.3s\n",
      "[Parallel(n_jobs=4)]: Done   4 out of   4 | elapsed:    1.4s finished\n",
      "[Parallel(n_jobs=4)]: Using backend LokyBackend with 4 concurrent workers.\n"
     ]
    },
    {
     "name": "stdout",
     "output_type": "stream",
     "text": [
      "iteration: 139 of max_iter: 200\n"
     ]
    },
    {
     "name": "stderr",
     "output_type": "stream",
     "text": [
      "[Parallel(n_jobs=4)]: Done   2 out of   4 | elapsed:    0.9s remaining:    0.9s\n",
      "[Parallel(n_jobs=4)]: Done   4 out of   4 | elapsed:    1.0s finished\n",
      "[Parallel(n_jobs=4)]: Using backend LokyBackend with 4 concurrent workers.\n"
     ]
    },
    {
     "name": "stdout",
     "output_type": "stream",
     "text": [
      "iteration: 140 of max_iter: 200\n"
     ]
    },
    {
     "name": "stderr",
     "output_type": "stream",
     "text": [
      "[Parallel(n_jobs=4)]: Done   2 out of   4 | elapsed:    0.8s remaining:    0.8s\n",
      "[Parallel(n_jobs=4)]: Done   4 out of   4 | elapsed:    0.9s finished\n",
      "[Parallel(n_jobs=4)]: Using backend LokyBackend with 4 concurrent workers.\n"
     ]
    },
    {
     "name": "stdout",
     "output_type": "stream",
     "text": [
      "iteration: 141 of max_iter: 200\n"
     ]
    },
    {
     "name": "stderr",
     "output_type": "stream",
     "text": [
      "[Parallel(n_jobs=4)]: Done   2 out of   4 | elapsed:    0.9s remaining:    0.9s\n",
      "[Parallel(n_jobs=4)]: Done   4 out of   4 | elapsed:    0.9s finished\n",
      "[Parallel(n_jobs=4)]: Using backend LokyBackend with 4 concurrent workers.\n"
     ]
    },
    {
     "name": "stdout",
     "output_type": "stream",
     "text": [
      "iteration: 142 of max_iter: 200\n"
     ]
    },
    {
     "name": "stderr",
     "output_type": "stream",
     "text": [
      "[Parallel(n_jobs=4)]: Done   2 out of   4 | elapsed:    0.8s remaining:    0.8s\n",
      "[Parallel(n_jobs=4)]: Done   4 out of   4 | elapsed:    0.9s finished\n",
      "[Parallel(n_jobs=4)]: Using backend LokyBackend with 4 concurrent workers.\n"
     ]
    },
    {
     "name": "stdout",
     "output_type": "stream",
     "text": [
      "iteration: 143 of max_iter: 200\n"
     ]
    },
    {
     "name": "stderr",
     "output_type": "stream",
     "text": [
      "[Parallel(n_jobs=4)]: Done   2 out of   4 | elapsed:    0.8s remaining:    0.8s\n",
      "[Parallel(n_jobs=4)]: Done   4 out of   4 | elapsed:    0.9s finished\n",
      "[Parallel(n_jobs=4)]: Using backend LokyBackend with 4 concurrent workers.\n"
     ]
    },
    {
     "name": "stdout",
     "output_type": "stream",
     "text": [
      "iteration: 144 of max_iter: 200\n"
     ]
    },
    {
     "name": "stderr",
     "output_type": "stream",
     "text": [
      "[Parallel(n_jobs=4)]: Done   2 out of   4 | elapsed:    0.8s remaining:    0.8s\n",
      "[Parallel(n_jobs=4)]: Done   4 out of   4 | elapsed:    0.9s finished\n",
      "[Parallel(n_jobs=4)]: Using backend LokyBackend with 4 concurrent workers.\n"
     ]
    },
    {
     "name": "stdout",
     "output_type": "stream",
     "text": [
      "iteration: 145 of max_iter: 200\n"
     ]
    },
    {
     "name": "stderr",
     "output_type": "stream",
     "text": [
      "[Parallel(n_jobs=4)]: Done   2 out of   4 | elapsed:    0.8s remaining:    0.8s\n",
      "[Parallel(n_jobs=4)]: Done   4 out of   4 | elapsed:    0.9s finished\n",
      "[Parallel(n_jobs=4)]: Using backend LokyBackend with 4 concurrent workers.\n"
     ]
    },
    {
     "name": "stdout",
     "output_type": "stream",
     "text": [
      "iteration: 146 of max_iter: 200\n"
     ]
    },
    {
     "name": "stderr",
     "output_type": "stream",
     "text": [
      "[Parallel(n_jobs=4)]: Done   2 out of   4 | elapsed:    1.1s remaining:    1.1s\n",
      "[Parallel(n_jobs=4)]: Done   4 out of   4 | elapsed:    1.2s finished\n",
      "[Parallel(n_jobs=4)]: Using backend LokyBackend with 4 concurrent workers.\n"
     ]
    },
    {
     "name": "stdout",
     "output_type": "stream",
     "text": [
      "iteration: 147 of max_iter: 200\n"
     ]
    },
    {
     "name": "stderr",
     "output_type": "stream",
     "text": [
      "[Parallel(n_jobs=4)]: Done   2 out of   4 | elapsed:    1.1s remaining:    1.1s\n",
      "[Parallel(n_jobs=4)]: Done   4 out of   4 | elapsed:    1.2s finished\n",
      "[Parallel(n_jobs=4)]: Using backend LokyBackend with 4 concurrent workers.\n"
     ]
    },
    {
     "name": "stdout",
     "output_type": "stream",
     "text": [
      "iteration: 148 of max_iter: 200\n"
     ]
    },
    {
     "name": "stderr",
     "output_type": "stream",
     "text": [
      "[Parallel(n_jobs=4)]: Done   2 out of   4 | elapsed:    0.8s remaining:    0.8s\n",
      "[Parallel(n_jobs=4)]: Done   4 out of   4 | elapsed:    0.9s finished\n",
      "[Parallel(n_jobs=4)]: Using backend LokyBackend with 4 concurrent workers.\n"
     ]
    },
    {
     "name": "stdout",
     "output_type": "stream",
     "text": [
      "iteration: 149 of max_iter: 200\n"
     ]
    },
    {
     "name": "stderr",
     "output_type": "stream",
     "text": [
      "[Parallel(n_jobs=4)]: Done   2 out of   4 | elapsed:    0.9s remaining:    0.9s\n",
      "[Parallel(n_jobs=4)]: Done   4 out of   4 | elapsed:    1.0s finished\n",
      "[Parallel(n_jobs=4)]: Using backend LokyBackend with 4 concurrent workers.\n"
     ]
    },
    {
     "name": "stdout",
     "output_type": "stream",
     "text": [
      "iteration: 150 of max_iter: 200\n"
     ]
    },
    {
     "name": "stderr",
     "output_type": "stream",
     "text": [
      "[Parallel(n_jobs=4)]: Done   2 out of   4 | elapsed:    1.3s remaining:    1.3s\n",
      "[Parallel(n_jobs=4)]: Done   4 out of   4 | elapsed:    1.4s finished\n",
      "[Parallel(n_jobs=4)]: Using backend LokyBackend with 4 concurrent workers.\n"
     ]
    },
    {
     "name": "stdout",
     "output_type": "stream",
     "text": [
      "iteration: 151 of max_iter: 200\n"
     ]
    },
    {
     "name": "stderr",
     "output_type": "stream",
     "text": [
      "[Parallel(n_jobs=4)]: Done   2 out of   4 | elapsed:    0.8s remaining:    0.8s\n",
      "[Parallel(n_jobs=4)]: Done   4 out of   4 | elapsed:    0.9s finished\n",
      "[Parallel(n_jobs=4)]: Using backend LokyBackend with 4 concurrent workers.\n"
     ]
    },
    {
     "name": "stdout",
     "output_type": "stream",
     "text": [
      "iteration: 152 of max_iter: 200\n"
     ]
    },
    {
     "name": "stderr",
     "output_type": "stream",
     "text": [
      "[Parallel(n_jobs=4)]: Done   2 out of   4 | elapsed:    0.9s remaining:    0.9s\n",
      "[Parallel(n_jobs=4)]: Done   4 out of   4 | elapsed:    0.9s finished\n",
      "[Parallel(n_jobs=4)]: Using backend LokyBackend with 4 concurrent workers.\n"
     ]
    },
    {
     "name": "stdout",
     "output_type": "stream",
     "text": [
      "iteration: 153 of max_iter: 200\n"
     ]
    },
    {
     "name": "stderr",
     "output_type": "stream",
     "text": [
      "[Parallel(n_jobs=4)]: Done   2 out of   4 | elapsed:    0.8s remaining:    0.8s\n",
      "[Parallel(n_jobs=4)]: Done   4 out of   4 | elapsed:    0.9s finished\n",
      "[Parallel(n_jobs=4)]: Using backend LokyBackend with 4 concurrent workers.\n"
     ]
    },
    {
     "name": "stdout",
     "output_type": "stream",
     "text": [
      "iteration: 154 of max_iter: 200\n"
     ]
    },
    {
     "name": "stderr",
     "output_type": "stream",
     "text": [
      "[Parallel(n_jobs=4)]: Done   2 out of   4 | elapsed:    0.8s remaining:    0.8s\n",
      "[Parallel(n_jobs=4)]: Done   4 out of   4 | elapsed:    0.9s finished\n",
      "[Parallel(n_jobs=4)]: Using backend LokyBackend with 4 concurrent workers.\n"
     ]
    },
    {
     "name": "stdout",
     "output_type": "stream",
     "text": [
      "iteration: 155 of max_iter: 200\n"
     ]
    },
    {
     "name": "stderr",
     "output_type": "stream",
     "text": [
      "[Parallel(n_jobs=4)]: Done   2 out of   4 | elapsed:    1.8s remaining:    1.8s\n",
      "[Parallel(n_jobs=4)]: Done   4 out of   4 | elapsed:    1.8s finished\n",
      "[Parallel(n_jobs=4)]: Using backend LokyBackend with 4 concurrent workers.\n"
     ]
    },
    {
     "name": "stdout",
     "output_type": "stream",
     "text": [
      "iteration: 156 of max_iter: 200\n"
     ]
    },
    {
     "name": "stderr",
     "output_type": "stream",
     "text": [
      "[Parallel(n_jobs=4)]: Done   2 out of   4 | elapsed:    1.2s remaining:    1.2s\n",
      "[Parallel(n_jobs=4)]: Done   4 out of   4 | elapsed:    1.2s finished\n",
      "[Parallel(n_jobs=4)]: Using backend LokyBackend with 4 concurrent workers.\n"
     ]
    },
    {
     "name": "stdout",
     "output_type": "stream",
     "text": [
      "iteration: 157 of max_iter: 200\n"
     ]
    },
    {
     "name": "stderr",
     "output_type": "stream",
     "text": [
      "[Parallel(n_jobs=4)]: Done   2 out of   4 | elapsed:    0.8s remaining:    0.8s\n",
      "[Parallel(n_jobs=4)]: Done   4 out of   4 | elapsed:    0.9s finished\n",
      "[Parallel(n_jobs=4)]: Using backend LokyBackend with 4 concurrent workers.\n"
     ]
    },
    {
     "name": "stdout",
     "output_type": "stream",
     "text": [
      "iteration: 158 of max_iter: 200\n"
     ]
    },
    {
     "name": "stderr",
     "output_type": "stream",
     "text": [
      "[Parallel(n_jobs=4)]: Done   2 out of   4 | elapsed:    1.0s remaining:    1.0s\n",
      "[Parallel(n_jobs=4)]: Done   4 out of   4 | elapsed:    1.0s finished\n",
      "[Parallel(n_jobs=4)]: Using backend LokyBackend with 4 concurrent workers.\n"
     ]
    },
    {
     "name": "stdout",
     "output_type": "stream",
     "text": [
      "iteration: 159 of max_iter: 200\n"
     ]
    },
    {
     "name": "stderr",
     "output_type": "stream",
     "text": [
      "[Parallel(n_jobs=4)]: Done   2 out of   4 | elapsed:    0.8s remaining:    0.8s\n",
      "[Parallel(n_jobs=4)]: Done   4 out of   4 | elapsed:    0.8s finished\n",
      "[Parallel(n_jobs=4)]: Using backend LokyBackend with 4 concurrent workers.\n"
     ]
    },
    {
     "name": "stdout",
     "output_type": "stream",
     "text": [
      "iteration: 160 of max_iter: 200\n"
     ]
    },
    {
     "name": "stderr",
     "output_type": "stream",
     "text": [
      "[Parallel(n_jobs=4)]: Done   2 out of   4 | elapsed:    0.9s remaining:    0.9s\n",
      "[Parallel(n_jobs=4)]: Done   4 out of   4 | elapsed:    1.0s finished\n",
      "[Parallel(n_jobs=4)]: Using backend LokyBackend with 4 concurrent workers.\n"
     ]
    },
    {
     "name": "stdout",
     "output_type": "stream",
     "text": [
      "iteration: 161 of max_iter: 200\n"
     ]
    },
    {
     "name": "stderr",
     "output_type": "stream",
     "text": [
      "[Parallel(n_jobs=4)]: Done   2 out of   4 | elapsed:    1.1s remaining:    1.1s\n",
      "[Parallel(n_jobs=4)]: Done   4 out of   4 | elapsed:    1.1s finished\n",
      "[Parallel(n_jobs=4)]: Using backend LokyBackend with 4 concurrent workers.\n"
     ]
    },
    {
     "name": "stdout",
     "output_type": "stream",
     "text": [
      "iteration: 162 of max_iter: 200\n"
     ]
    },
    {
     "name": "stderr",
     "output_type": "stream",
     "text": [
      "[Parallel(n_jobs=4)]: Done   2 out of   4 | elapsed:    0.9s remaining:    0.9s\n",
      "[Parallel(n_jobs=4)]: Done   4 out of   4 | elapsed:    0.9s finished\n",
      "[Parallel(n_jobs=4)]: Using backend LokyBackend with 4 concurrent workers.\n"
     ]
    },
    {
     "name": "stdout",
     "output_type": "stream",
     "text": [
      "iteration: 163 of max_iter: 200\n"
     ]
    },
    {
     "name": "stderr",
     "output_type": "stream",
     "text": [
      "[Parallel(n_jobs=4)]: Done   2 out of   4 | elapsed:    1.0s remaining:    1.0s\n",
      "[Parallel(n_jobs=4)]: Done   4 out of   4 | elapsed:    1.1s finished\n",
      "[Parallel(n_jobs=4)]: Using backend LokyBackend with 4 concurrent workers.\n"
     ]
    },
    {
     "name": "stdout",
     "output_type": "stream",
     "text": [
      "iteration: 164 of max_iter: 200\n"
     ]
    },
    {
     "name": "stderr",
     "output_type": "stream",
     "text": [
      "[Parallel(n_jobs=4)]: Done   2 out of   4 | elapsed:    0.8s remaining:    0.8s\n",
      "[Parallel(n_jobs=4)]: Done   4 out of   4 | elapsed:    0.8s finished\n",
      "[Parallel(n_jobs=4)]: Using backend LokyBackend with 4 concurrent workers.\n"
     ]
    },
    {
     "name": "stdout",
     "output_type": "stream",
     "text": [
      "iteration: 165 of max_iter: 200\n"
     ]
    },
    {
     "name": "stderr",
     "output_type": "stream",
     "text": [
      "[Parallel(n_jobs=4)]: Done   2 out of   4 | elapsed:    1.0s remaining:    1.0s\n",
      "[Parallel(n_jobs=4)]: Done   4 out of   4 | elapsed:    1.0s finished\n",
      "[Parallel(n_jobs=4)]: Using backend LokyBackend with 4 concurrent workers.\n"
     ]
    },
    {
     "name": "stdout",
     "output_type": "stream",
     "text": [
      "iteration: 166 of max_iter: 200\n"
     ]
    },
    {
     "name": "stderr",
     "output_type": "stream",
     "text": [
      "[Parallel(n_jobs=4)]: Done   2 out of   4 | elapsed:    0.9s remaining:    0.9s\n",
      "[Parallel(n_jobs=4)]: Done   4 out of   4 | elapsed:    0.9s finished\n",
      "[Parallel(n_jobs=4)]: Using backend LokyBackend with 4 concurrent workers.\n"
     ]
    },
    {
     "name": "stdout",
     "output_type": "stream",
     "text": [
      "iteration: 167 of max_iter: 200\n"
     ]
    },
    {
     "name": "stderr",
     "output_type": "stream",
     "text": [
      "[Parallel(n_jobs=4)]: Done   2 out of   4 | elapsed:    0.9s remaining:    0.9s\n",
      "[Parallel(n_jobs=4)]: Done   4 out of   4 | elapsed:    1.0s finished\n",
      "[Parallel(n_jobs=4)]: Using backend LokyBackend with 4 concurrent workers.\n"
     ]
    },
    {
     "name": "stdout",
     "output_type": "stream",
     "text": [
      "iteration: 168 of max_iter: 200\n"
     ]
    },
    {
     "name": "stderr",
     "output_type": "stream",
     "text": [
      "[Parallel(n_jobs=4)]: Done   2 out of   4 | elapsed:    1.1s remaining:    1.1s\n",
      "[Parallel(n_jobs=4)]: Done   4 out of   4 | elapsed:    1.2s finished\n",
      "[Parallel(n_jobs=4)]: Using backend LokyBackend with 4 concurrent workers.\n"
     ]
    },
    {
     "name": "stdout",
     "output_type": "stream",
     "text": [
      "iteration: 169 of max_iter: 200\n"
     ]
    },
    {
     "name": "stderr",
     "output_type": "stream",
     "text": [
      "[Parallel(n_jobs=4)]: Done   2 out of   4 | elapsed:    1.1s remaining:    1.1s\n",
      "[Parallel(n_jobs=4)]: Done   4 out of   4 | elapsed:    1.1s finished\n",
      "[Parallel(n_jobs=4)]: Using backend LokyBackend with 4 concurrent workers.\n"
     ]
    },
    {
     "name": "stdout",
     "output_type": "stream",
     "text": [
      "iteration: 170 of max_iter: 200\n"
     ]
    },
    {
     "name": "stderr",
     "output_type": "stream",
     "text": [
      "[Parallel(n_jobs=4)]: Done   2 out of   4 | elapsed:    0.9s remaining:    0.9s\n",
      "[Parallel(n_jobs=4)]: Done   4 out of   4 | elapsed:    1.1s finished\n",
      "[Parallel(n_jobs=4)]: Using backend LokyBackend with 4 concurrent workers.\n"
     ]
    },
    {
     "name": "stdout",
     "output_type": "stream",
     "text": [
      "iteration: 171 of max_iter: 200\n"
     ]
    },
    {
     "name": "stderr",
     "output_type": "stream",
     "text": [
      "[Parallel(n_jobs=4)]: Done   2 out of   4 | elapsed:    1.2s remaining:    1.2s\n",
      "[Parallel(n_jobs=4)]: Done   4 out of   4 | elapsed:    1.2s finished\n",
      "[Parallel(n_jobs=4)]: Using backend LokyBackend with 4 concurrent workers.\n"
     ]
    },
    {
     "name": "stdout",
     "output_type": "stream",
     "text": [
      "iteration: 172 of max_iter: 200\n"
     ]
    },
    {
     "name": "stderr",
     "output_type": "stream",
     "text": [
      "[Parallel(n_jobs=4)]: Done   2 out of   4 | elapsed:    1.1s remaining:    1.1s\n",
      "[Parallel(n_jobs=4)]: Done   4 out of   4 | elapsed:    1.2s finished\n",
      "[Parallel(n_jobs=4)]: Using backend LokyBackend with 4 concurrent workers.\n"
     ]
    },
    {
     "name": "stdout",
     "output_type": "stream",
     "text": [
      "iteration: 173 of max_iter: 200\n"
     ]
    },
    {
     "name": "stderr",
     "output_type": "stream",
     "text": [
      "[Parallel(n_jobs=4)]: Done   2 out of   4 | elapsed:    0.8s remaining:    0.8s\n",
      "[Parallel(n_jobs=4)]: Done   4 out of   4 | elapsed:    0.9s finished\n",
      "[Parallel(n_jobs=4)]: Using backend LokyBackend with 4 concurrent workers.\n"
     ]
    },
    {
     "name": "stdout",
     "output_type": "stream",
     "text": [
      "iteration: 174 of max_iter: 200\n"
     ]
    },
    {
     "name": "stderr",
     "output_type": "stream",
     "text": [
      "[Parallel(n_jobs=4)]: Done   2 out of   4 | elapsed:    0.8s remaining:    0.8s\n",
      "[Parallel(n_jobs=4)]: Done   4 out of   4 | elapsed:    0.9s finished\n",
      "[Parallel(n_jobs=4)]: Using backend LokyBackend with 4 concurrent workers.\n"
     ]
    },
    {
     "name": "stdout",
     "output_type": "stream",
     "text": [
      "iteration: 175 of max_iter: 200\n"
     ]
    },
    {
     "name": "stderr",
     "output_type": "stream",
     "text": [
      "[Parallel(n_jobs=4)]: Done   2 out of   4 | elapsed:    0.8s remaining:    0.8s\n",
      "[Parallel(n_jobs=4)]: Done   4 out of   4 | elapsed:    0.9s finished\n",
      "[Parallel(n_jobs=4)]: Using backend LokyBackend with 4 concurrent workers.\n"
     ]
    },
    {
     "name": "stdout",
     "output_type": "stream",
     "text": [
      "iteration: 176 of max_iter: 200\n"
     ]
    },
    {
     "name": "stderr",
     "output_type": "stream",
     "text": [
      "[Parallel(n_jobs=4)]: Done   2 out of   4 | elapsed:    0.8s remaining:    0.8s\n",
      "[Parallel(n_jobs=4)]: Done   4 out of   4 | elapsed:    0.9s finished\n",
      "[Parallel(n_jobs=4)]: Using backend LokyBackend with 4 concurrent workers.\n"
     ]
    },
    {
     "name": "stdout",
     "output_type": "stream",
     "text": [
      "iteration: 177 of max_iter: 200\n"
     ]
    },
    {
     "name": "stderr",
     "output_type": "stream",
     "text": [
      "[Parallel(n_jobs=4)]: Done   2 out of   4 | elapsed:    0.9s remaining:    0.9s\n",
      "[Parallel(n_jobs=4)]: Done   4 out of   4 | elapsed:    0.9s finished\n",
      "[Parallel(n_jobs=4)]: Using backend LokyBackend with 4 concurrent workers.\n"
     ]
    },
    {
     "name": "stdout",
     "output_type": "stream",
     "text": [
      "iteration: 178 of max_iter: 200\n"
     ]
    },
    {
     "name": "stderr",
     "output_type": "stream",
     "text": [
      "[Parallel(n_jobs=4)]: Done   2 out of   4 | elapsed:    1.1s remaining:    1.1s\n",
      "[Parallel(n_jobs=4)]: Done   4 out of   4 | elapsed:    1.2s finished\n",
      "[Parallel(n_jobs=4)]: Using backend LokyBackend with 4 concurrent workers.\n"
     ]
    },
    {
     "name": "stdout",
     "output_type": "stream",
     "text": [
      "iteration: 179 of max_iter: 200\n"
     ]
    },
    {
     "name": "stderr",
     "output_type": "stream",
     "text": [
      "[Parallel(n_jobs=4)]: Done   2 out of   4 | elapsed:    1.4s remaining:    1.4s\n",
      "[Parallel(n_jobs=4)]: Done   4 out of   4 | elapsed:    1.5s finished\n",
      "[Parallel(n_jobs=4)]: Using backend LokyBackend with 4 concurrent workers.\n"
     ]
    },
    {
     "name": "stdout",
     "output_type": "stream",
     "text": [
      "iteration: 180 of max_iter: 200\n"
     ]
    },
    {
     "name": "stderr",
     "output_type": "stream",
     "text": [
      "[Parallel(n_jobs=4)]: Done   2 out of   4 | elapsed:    1.3s remaining:    1.3s\n",
      "[Parallel(n_jobs=4)]: Done   4 out of   4 | elapsed:    1.4s finished\n",
      "[Parallel(n_jobs=4)]: Using backend LokyBackend with 4 concurrent workers.\n"
     ]
    },
    {
     "name": "stdout",
     "output_type": "stream",
     "text": [
      "iteration: 181 of max_iter: 200\n"
     ]
    },
    {
     "name": "stderr",
     "output_type": "stream",
     "text": [
      "[Parallel(n_jobs=4)]: Done   2 out of   4 | elapsed:    1.1s remaining:    1.1s\n",
      "[Parallel(n_jobs=4)]: Done   4 out of   4 | elapsed:    1.2s finished\n",
      "[Parallel(n_jobs=4)]: Using backend LokyBackend with 4 concurrent workers.\n"
     ]
    },
    {
     "name": "stdout",
     "output_type": "stream",
     "text": [
      "iteration: 182 of max_iter: 200\n"
     ]
    },
    {
     "name": "stderr",
     "output_type": "stream",
     "text": [
      "[Parallel(n_jobs=4)]: Done   2 out of   4 | elapsed:    0.8s remaining:    0.8s\n",
      "[Parallel(n_jobs=4)]: Done   4 out of   4 | elapsed:    0.9s finished\n",
      "[Parallel(n_jobs=4)]: Using backend LokyBackend with 4 concurrent workers.\n"
     ]
    },
    {
     "name": "stdout",
     "output_type": "stream",
     "text": [
      "iteration: 183 of max_iter: 200\n"
     ]
    },
    {
     "name": "stderr",
     "output_type": "stream",
     "text": [
      "[Parallel(n_jobs=4)]: Done   2 out of   4 | elapsed:    0.9s remaining:    0.9s\n",
      "[Parallel(n_jobs=4)]: Done   4 out of   4 | elapsed:    1.0s finished\n",
      "[Parallel(n_jobs=4)]: Using backend LokyBackend with 4 concurrent workers.\n"
     ]
    },
    {
     "name": "stdout",
     "output_type": "stream",
     "text": [
      "iteration: 184 of max_iter: 200\n"
     ]
    },
    {
     "name": "stderr",
     "output_type": "stream",
     "text": [
      "[Parallel(n_jobs=4)]: Done   2 out of   4 | elapsed:    0.9s remaining:    0.9s\n",
      "[Parallel(n_jobs=4)]: Done   4 out of   4 | elapsed:    1.0s finished\n",
      "[Parallel(n_jobs=4)]: Using backend LokyBackend with 4 concurrent workers.\n"
     ]
    },
    {
     "name": "stdout",
     "output_type": "stream",
     "text": [
      "iteration: 185 of max_iter: 200\n"
     ]
    },
    {
     "name": "stderr",
     "output_type": "stream",
     "text": [
      "[Parallel(n_jobs=4)]: Done   2 out of   4 | elapsed:    0.9s remaining:    0.9s\n",
      "[Parallel(n_jobs=4)]: Done   4 out of   4 | elapsed:    0.9s finished\n",
      "[Parallel(n_jobs=4)]: Using backend LokyBackend with 4 concurrent workers.\n"
     ]
    },
    {
     "name": "stdout",
     "output_type": "stream",
     "text": [
      "iteration: 186 of max_iter: 200\n"
     ]
    },
    {
     "name": "stderr",
     "output_type": "stream",
     "text": [
      "[Parallel(n_jobs=4)]: Done   2 out of   4 | elapsed:    0.9s remaining:    0.9s\n",
      "[Parallel(n_jobs=4)]: Done   4 out of   4 | elapsed:    0.9s finished\n",
      "[Parallel(n_jobs=4)]: Using backend LokyBackend with 4 concurrent workers.\n"
     ]
    },
    {
     "name": "stdout",
     "output_type": "stream",
     "text": [
      "iteration: 187 of max_iter: 200\n"
     ]
    },
    {
     "name": "stderr",
     "output_type": "stream",
     "text": [
      "[Parallel(n_jobs=4)]: Done   2 out of   4 | elapsed:    1.1s remaining:    1.1s\n",
      "[Parallel(n_jobs=4)]: Done   4 out of   4 | elapsed:    1.2s finished\n",
      "[Parallel(n_jobs=4)]: Using backend LokyBackend with 4 concurrent workers.\n"
     ]
    },
    {
     "name": "stdout",
     "output_type": "stream",
     "text": [
      "iteration: 188 of max_iter: 200\n"
     ]
    },
    {
     "name": "stderr",
     "output_type": "stream",
     "text": [
      "[Parallel(n_jobs=4)]: Done   2 out of   4 | elapsed:    1.1s remaining:    1.1s\n",
      "[Parallel(n_jobs=4)]: Done   4 out of   4 | elapsed:    1.2s finished\n",
      "[Parallel(n_jobs=4)]: Using backend LokyBackend with 4 concurrent workers.\n"
     ]
    },
    {
     "name": "stdout",
     "output_type": "stream",
     "text": [
      "iteration: 189 of max_iter: 200\n"
     ]
    },
    {
     "name": "stderr",
     "output_type": "stream",
     "text": [
      "[Parallel(n_jobs=4)]: Done   2 out of   4 | elapsed:    1.3s remaining:    1.3s\n",
      "[Parallel(n_jobs=4)]: Done   4 out of   4 | elapsed:    1.4s finished\n",
      "[Parallel(n_jobs=4)]: Using backend LokyBackend with 4 concurrent workers.\n"
     ]
    },
    {
     "name": "stdout",
     "output_type": "stream",
     "text": [
      "iteration: 190 of max_iter: 200\n"
     ]
    },
    {
     "name": "stderr",
     "output_type": "stream",
     "text": [
      "[Parallel(n_jobs=4)]: Done   2 out of   4 | elapsed:    1.0s remaining:    1.0s\n",
      "[Parallel(n_jobs=4)]: Done   4 out of   4 | elapsed:    1.2s finished\n",
      "[Parallel(n_jobs=4)]: Using backend LokyBackend with 4 concurrent workers.\n"
     ]
    },
    {
     "name": "stdout",
     "output_type": "stream",
     "text": [
      "iteration: 191 of max_iter: 200\n"
     ]
    },
    {
     "name": "stderr",
     "output_type": "stream",
     "text": [
      "[Parallel(n_jobs=4)]: Done   2 out of   4 | elapsed:    1.0s remaining:    1.0s\n",
      "[Parallel(n_jobs=4)]: Done   4 out of   4 | elapsed:    1.1s finished\n",
      "[Parallel(n_jobs=4)]: Using backend LokyBackend with 4 concurrent workers.\n"
     ]
    },
    {
     "name": "stdout",
     "output_type": "stream",
     "text": [
      "iteration: 192 of max_iter: 200\n"
     ]
    },
    {
     "name": "stderr",
     "output_type": "stream",
     "text": [
      "[Parallel(n_jobs=4)]: Done   2 out of   4 | elapsed:    1.1s remaining:    1.1s\n",
      "[Parallel(n_jobs=4)]: Done   4 out of   4 | elapsed:    1.2s finished\n",
      "[Parallel(n_jobs=4)]: Using backend LokyBackend with 4 concurrent workers.\n"
     ]
    },
    {
     "name": "stdout",
     "output_type": "stream",
     "text": [
      "iteration: 193 of max_iter: 200\n"
     ]
    },
    {
     "name": "stderr",
     "output_type": "stream",
     "text": [
      "[Parallel(n_jobs=4)]: Done   2 out of   4 | elapsed:    0.9s remaining:    0.9s\n",
      "[Parallel(n_jobs=4)]: Done   4 out of   4 | elapsed:    1.0s finished\n",
      "[Parallel(n_jobs=4)]: Using backend LokyBackend with 4 concurrent workers.\n"
     ]
    },
    {
     "name": "stdout",
     "output_type": "stream",
     "text": [
      "iteration: 194 of max_iter: 200\n"
     ]
    },
    {
     "name": "stderr",
     "output_type": "stream",
     "text": [
      "[Parallel(n_jobs=4)]: Done   2 out of   4 | elapsed:    1.2s remaining:    1.2s\n",
      "[Parallel(n_jobs=4)]: Done   4 out of   4 | elapsed:    1.3s finished\n",
      "[Parallel(n_jobs=4)]: Using backend LokyBackend with 4 concurrent workers.\n"
     ]
    },
    {
     "name": "stdout",
     "output_type": "stream",
     "text": [
      "iteration: 195 of max_iter: 200\n"
     ]
    },
    {
     "name": "stderr",
     "output_type": "stream",
     "text": [
      "[Parallel(n_jobs=4)]: Done   2 out of   4 | elapsed:    1.2s remaining:    1.2s\n",
      "[Parallel(n_jobs=4)]: Done   4 out of   4 | elapsed:    1.2s finished\n",
      "[Parallel(n_jobs=4)]: Using backend LokyBackend with 4 concurrent workers.\n"
     ]
    },
    {
     "name": "stdout",
     "output_type": "stream",
     "text": [
      "iteration: 196 of max_iter: 200\n"
     ]
    },
    {
     "name": "stderr",
     "output_type": "stream",
     "text": [
      "[Parallel(n_jobs=4)]: Done   2 out of   4 | elapsed:    1.1s remaining:    1.1s\n",
      "[Parallel(n_jobs=4)]: Done   4 out of   4 | elapsed:    1.3s finished\n",
      "[Parallel(n_jobs=4)]: Using backend LokyBackend with 4 concurrent workers.\n"
     ]
    },
    {
     "name": "stdout",
     "output_type": "stream",
     "text": [
      "iteration: 197 of max_iter: 200\n"
     ]
    },
    {
     "name": "stderr",
     "output_type": "stream",
     "text": [
      "[Parallel(n_jobs=4)]: Done   2 out of   4 | elapsed:    1.3s remaining:    1.3s\n",
      "[Parallel(n_jobs=4)]: Done   4 out of   4 | elapsed:    1.4s finished\n",
      "[Parallel(n_jobs=4)]: Using backend LokyBackend with 4 concurrent workers.\n"
     ]
    },
    {
     "name": "stdout",
     "output_type": "stream",
     "text": [
      "iteration: 198 of max_iter: 200\n"
     ]
    },
    {
     "name": "stderr",
     "output_type": "stream",
     "text": [
      "[Parallel(n_jobs=4)]: Done   2 out of   4 | elapsed:    1.0s remaining:    1.0s\n",
      "[Parallel(n_jobs=4)]: Done   4 out of   4 | elapsed:    1.1s finished\n",
      "[Parallel(n_jobs=4)]: Using backend LokyBackend with 4 concurrent workers.\n"
     ]
    },
    {
     "name": "stdout",
     "output_type": "stream",
     "text": [
      "iteration: 199 of max_iter: 200\n"
     ]
    },
    {
     "name": "stderr",
     "output_type": "stream",
     "text": [
      "[Parallel(n_jobs=4)]: Done   2 out of   4 | elapsed:    0.8s remaining:    0.8s\n",
      "[Parallel(n_jobs=4)]: Done   4 out of   4 | elapsed:    0.9s finished\n"
     ]
    },
    {
     "name": "stdout",
     "output_type": "stream",
     "text": [
      "iteration: 200 of max_iter: 200\n"
     ]
    },
    {
     "name": "stderr",
     "output_type": "stream",
     "text": [
      "[Parallel(n_jobs=4)]: Using backend LokyBackend with 4 concurrent workers.\n",
      "[Parallel(n_jobs=4)]: Done   2 out of   4 | elapsed:    0.7s remaining:    0.7s\n",
      "[Parallel(n_jobs=4)]: Done   4 out of   4 | elapsed:    0.8s finished\n"
     ]
    },
    {
     "data": {
      "text/plain": "LatentDirichletAllocation(learning_decay=0.6, learning_offset=30, max_iter=200,\n                          mean_change_tol=0.01, n_components=5, n_jobs=-1,\n                          verbose=2)",
      "text/html": "<style>#sk-container-id-11 {color: black;background-color: white;}#sk-container-id-11 pre{padding: 0;}#sk-container-id-11 div.sk-toggleable {background-color: white;}#sk-container-id-11 label.sk-toggleable__label {cursor: pointer;display: block;width: 100%;margin-bottom: 0;padding: 0.3em;box-sizing: border-box;text-align: center;}#sk-container-id-11 label.sk-toggleable__label-arrow:before {content: \"▸\";float: left;margin-right: 0.25em;color: #696969;}#sk-container-id-11 label.sk-toggleable__label-arrow:hover:before {color: black;}#sk-container-id-11 div.sk-estimator:hover label.sk-toggleable__label-arrow:before {color: black;}#sk-container-id-11 div.sk-toggleable__content {max-height: 0;max-width: 0;overflow: hidden;text-align: left;background-color: #f0f8ff;}#sk-container-id-11 div.sk-toggleable__content pre {margin: 0.2em;color: black;border-radius: 0.25em;background-color: #f0f8ff;}#sk-container-id-11 input.sk-toggleable__control:checked~div.sk-toggleable__content {max-height: 200px;max-width: 100%;overflow: auto;}#sk-container-id-11 input.sk-toggleable__control:checked~label.sk-toggleable__label-arrow:before {content: \"▾\";}#sk-container-id-11 div.sk-estimator input.sk-toggleable__control:checked~label.sk-toggleable__label {background-color: #d4ebff;}#sk-container-id-11 div.sk-label input.sk-toggleable__control:checked~label.sk-toggleable__label {background-color: #d4ebff;}#sk-container-id-11 input.sk-hidden--visually {border: 0;clip: rect(1px 1px 1px 1px);clip: rect(1px, 1px, 1px, 1px);height: 1px;margin: -1px;overflow: hidden;padding: 0;position: absolute;width: 1px;}#sk-container-id-11 div.sk-estimator {font-family: monospace;background-color: #f0f8ff;border: 1px dotted black;border-radius: 0.25em;box-sizing: border-box;margin-bottom: 0.5em;}#sk-container-id-11 div.sk-estimator:hover {background-color: #d4ebff;}#sk-container-id-11 div.sk-parallel-item::after {content: \"\";width: 100%;border-bottom: 1px solid gray;flex-grow: 1;}#sk-container-id-11 div.sk-label:hover label.sk-toggleable__label {background-color: #d4ebff;}#sk-container-id-11 div.sk-serial::before {content: \"\";position: absolute;border-left: 1px solid gray;box-sizing: border-box;top: 0;bottom: 0;left: 50%;z-index: 0;}#sk-container-id-11 div.sk-serial {display: flex;flex-direction: column;align-items: center;background-color: white;padding-right: 0.2em;padding-left: 0.2em;position: relative;}#sk-container-id-11 div.sk-item {position: relative;z-index: 1;}#sk-container-id-11 div.sk-parallel {display: flex;align-items: stretch;justify-content: center;background-color: white;position: relative;}#sk-container-id-11 div.sk-item::before, #sk-container-id-11 div.sk-parallel-item::before {content: \"\";position: absolute;border-left: 1px solid gray;box-sizing: border-box;top: 0;bottom: 0;left: 50%;z-index: -1;}#sk-container-id-11 div.sk-parallel-item {display: flex;flex-direction: column;z-index: 1;position: relative;background-color: white;}#sk-container-id-11 div.sk-parallel-item:first-child::after {align-self: flex-end;width: 50%;}#sk-container-id-11 div.sk-parallel-item:last-child::after {align-self: flex-start;width: 50%;}#sk-container-id-11 div.sk-parallel-item:only-child::after {width: 0;}#sk-container-id-11 div.sk-dashed-wrapped {border: 1px dashed gray;margin: 0 0.4em 0.5em 0.4em;box-sizing: border-box;padding-bottom: 0.4em;background-color: white;}#sk-container-id-11 div.sk-label label {font-family: monospace;font-weight: bold;display: inline-block;line-height: 1.2em;}#sk-container-id-11 div.sk-label-container {text-align: center;}#sk-container-id-11 div.sk-container {/* jupyter's `normalize.less` sets `[hidden] { display: none; }` but bootstrap.min.css set `[hidden] { display: none !important; }` so we also need the `!important` here to be able to override the default hidden behavior on the sphinx rendered scikit-learn.org. See: https://github.com/scikit-learn/scikit-learn/issues/21755 */display: inline-block !important;position: relative;}#sk-container-id-11 div.sk-text-repr-fallback {display: none;}</style><div id=\"sk-container-id-11\" class=\"sk-top-container\"><div class=\"sk-text-repr-fallback\"><pre>LatentDirichletAllocation(learning_decay=0.6, learning_offset=30, max_iter=200,\n                          mean_change_tol=0.01, n_components=5, n_jobs=-1,\n                          verbose=2)</pre><b>In a Jupyter environment, please rerun this cell to show the HTML representation or trust the notebook. <br />On GitHub, the HTML representation is unable to render, please try loading this page with nbviewer.org.</b></div><div class=\"sk-container\" hidden><div class=\"sk-item\"><div class=\"sk-estimator sk-toggleable\"><input class=\"sk-toggleable__control sk-hidden--visually\" id=\"sk-estimator-id-11\" type=\"checkbox\" checked><label for=\"sk-estimator-id-11\" class=\"sk-toggleable__label sk-toggleable__label-arrow\">LatentDirichletAllocation</label><div class=\"sk-toggleable__content\"><pre>LatentDirichletAllocation(learning_decay=0.6, learning_offset=30, max_iter=200,\n                          mean_change_tol=0.01, n_components=5, n_jobs=-1,\n                          verbose=2)</pre></div></div></div></div></div>"
     },
     "execution_count": 79,
     "metadata": {},
     "output_type": "execute_result"
    }
   ],
   "source": [
    "#params = {\n",
    "#    'n_components': list(range(5, 150, 5)),\n",
    "#    'learning_decay': np.arange(0.6, 0.9, 0.1),\n",
    "#    'learning_offset': np.arange(10, 150, 10),\n",
    "#    'perp_tol': [0.1],\n",
    "#    'max_iter': [20],\n",
    "#    'mean_change_tol': [1e-6, 1e-5, 1e-4, 1e-3, 1e-2],\n",
    "#    'max_doc_update_iter': [100]\n",
    "#}\n",
    "best_params = {'perp_tol': 0.1,\n",
    " 'n_components': 5,\n",
    " 'mean_change_tol': 0.01,\n",
    " 'max_iter': 200,\n",
    " 'max_doc_update_iter': 100,\n",
    " 'learning_offset': 30,\n",
    " 'learning_decay': 0.6,\n",
    " 'verbose': 2,\n",
    " 'n_jobs': -1}\n",
    "\n",
    "lda = LatentDirichletAllocation(**best_params)\n",
    "#rsearch = RandomizedSearchCV(lda, params, n_iter=30, verbose=3, cv=3, error_score='raise')\n",
    "#rsearch.fit(tf)\n",
    "lda.fit(tf)"
   ],
   "metadata": {
    "collapsed": false,
    "pycharm": {
     "name": "#%%\n"
    }
   }
  },
  {
   "cell_type": "code",
   "execution_count": 11,
   "outputs": [],
   "source": [
    "#best = rsearch.best_estimator_"
   ],
   "metadata": {
    "collapsed": false,
    "pycharm": {
     "name": "#%%\n"
    }
   }
  },
  {
   "cell_type": "code",
   "execution_count": 80,
   "outputs": [
    {
     "name": "stderr",
     "output_type": "stream",
     "text": [
      "[Parallel(n_jobs=4)]: Using backend LokyBackend with 4 concurrent workers.\n",
      "[Parallel(n_jobs=4)]: Done   2 out of   4 | elapsed:    1.1s remaining:    1.1s\n",
      "[Parallel(n_jobs=4)]: Done   4 out of   4 | elapsed:    1.2s finished\n"
     ]
    },
    {
     "data": {
      "text/plain": "10897.208046380869"
     },
     "execution_count": 80,
     "metadata": {},
     "output_type": "execute_result"
    }
   ],
   "source": [
    "#best.perplexity(tf)\n",
    "lda.perplexity(tf)"
   ],
   "metadata": {
    "collapsed": false,
    "pycharm": {
     "name": "#%%\n"
    }
   }
  },
  {
   "cell_type": "code",
   "execution_count": 82,
   "outputs": [],
   "source": [
    "pickle.dump(lda, open('model.pkl', 'wb'))\n",
    "#lda = pickle.load(open('model.pkl', 'rb'))"
   ],
   "metadata": {
    "collapsed": false,
    "pycharm": {
     "name": "#%%\n"
    }
   }
  },
  {
   "cell_type": "code",
   "execution_count": 81,
   "outputs": [
    {
     "name": "stderr",
     "output_type": "stream",
     "text": [
      "E:\\anaconda\\lib\\site-packages\\sklearn\\utils\\deprecation.py:87: FutureWarning:\n",
      "\n",
      "Function get_feature_names is deprecated; get_feature_names is deprecated in 1.0 and will be removed in 1.2. Please use get_feature_names_out instead.\n",
      "\n"
     ]
    },
    {
     "name": "stdout",
     "output_type": "stream",
     "text": [
      "Topic 0:  ['uni', 'uni uni', 'attack', 'adversari', 'privaci', 'commun', 'feder', 'secur', 'g g', 'g g g']\n",
      "Topic 1:  ['layer', 'quantum', 'dataset', 'error', 'linear', 'gradient', 'nn', 'rate', 'kernel', 'di']\n",
      "Topic 2:  ['dataset', 'ml', 'http', 'decis', 'pp', 'human', 'doi', 'class', 'tree', 'user']\n",
      "Topic 3:  ['d d', 'u', 'z', 'q', 'bound', 'ct', 'θ', 'theorem', 'xi', 'x x']\n",
      "Topic 4:  ['represent', 'polici', 'imag', 'meta', 'agent', 'reinforc', 'graph', 'domain', 'reward', 'reinforc learn']\n"
     ]
    }
   ],
   "source": [
    "for index, component in enumerate(lda.components_): #taking model's components, i.e. P(w|z)\n",
    "    zipped = zip(tf_vectorizer.get_feature_names(), component) #taking together tokens' names with components\n",
    "    top_terms_key=sorted(zipped, key = lambda t: t[1], reverse=True)[:10] #top 10 terms per topic\n",
    "    top_terms_list=list(dict(top_terms_key).keys()) #taking only tokens, no weights\n",
    "\n",
    "    print(\"Topic \"+str(index)+\": \",top_terms_list) #prints top 10 tokens per topic"
   ],
   "metadata": {
    "collapsed": false,
    "pycharm": {
     "name": "#%%\n"
    }
   }
  },
  {
   "cell_type": "code",
   "execution_count": 83,
   "outputs": [
    {
     "name": "stderr",
     "output_type": "stream",
     "text": [
      "[Parallel(n_jobs=4)]: Using backend LokyBackend with 4 concurrent workers.\n",
      "[Parallel(n_jobs=4)]: Done   2 out of   4 | elapsed:    1.0s remaining:    1.0s\n",
      "[Parallel(n_jobs=4)]: Done   4 out of   4 | elapsed:    1.1s finished\n"
     ]
    }
   ],
   "source": [
    "lda_output = lda.transform(tf)"
   ],
   "metadata": {
    "collapsed": false,
    "pycharm": {
     "name": "#%%\n"
    }
   }
  },
  {
   "cell_type": "code",
   "execution_count": 84,
   "outputs": [],
   "source": [
    "topics = [f'Topic {i}' for i in range(lda.n_components)]\n",
    "docnames = df.index.tolist()\n",
    "topics_df = pd.DataFrame(lda_output, columns=topics, index=docnames)"
   ],
   "metadata": {
    "collapsed": false,
    "pycharm": {
     "name": "#%%\n"
    }
   }
  },
  {
   "cell_type": "code",
   "execution_count": 85,
   "outputs": [],
   "source": [
    "topics_df['citations'] = df['citations']"
   ],
   "metadata": {
    "collapsed": false,
    "pycharm": {
     "name": "#%%\n"
    }
   }
  },
  {
   "cell_type": "code",
   "execution_count": 86,
   "outputs": [
    {
     "name": "stderr",
     "output_type": "stream",
     "text": [
      "E:\\anaconda\\lib\\site-packages\\xgboost\\data.py:250: FutureWarning:\n",
      "\n",
      "pandas.Int64Index is deprecated and will be removed from pandas in a future version. Use pandas.Index with the appropriate dtype instead.\n",
      "\n",
      "E:\\anaconda\\lib\\site-packages\\xgboost\\data.py:250: FutureWarning:\n",
      "\n",
      "pandas.Int64Index is deprecated and will be removed from pandas in a future version. Use pandas.Index with the appropriate dtype instead.\n",
      "\n",
      "E:\\anaconda\\lib\\site-packages\\xgboost\\data.py:250: FutureWarning:\n",
      "\n",
      "pandas.Int64Index is deprecated and will be removed from pandas in a future version. Use pandas.Index with the appropriate dtype instead.\n",
      "\n",
      "E:\\anaconda\\lib\\site-packages\\xgboost\\data.py:250: FutureWarning:\n",
      "\n",
      "pandas.Int64Index is deprecated and will be removed from pandas in a future version. Use pandas.Index with the appropriate dtype instead.\n",
      "\n",
      "E:\\anaconda\\lib\\site-packages\\xgboost\\data.py:250: FutureWarning:\n",
      "\n",
      "pandas.Int64Index is deprecated and will be removed from pandas in a future version. Use pandas.Index with the appropriate dtype instead.\n",
      "\n"
     ]
    },
    {
     "data": {
      "text/plain": "array([-14.17893892, -16.80485857, -12.56728666, -21.34428859,\n       -22.20727879])"
     },
     "execution_count": 86,
     "metadata": {},
     "output_type": "execute_result"
    }
   ],
   "source": [
    "xg_model = xgb.XGBRegressor()\n",
    "kf = KFold(n_splits=7, random_state=420602, shuffle=True)\n",
    "cross_val_score(xg_model, topics_df[[f'Topic {i}' for i in range(lda.n_components)]], topics_df['citations'], scoring='neg_mean_absolute_percentage_error')"
   ],
   "metadata": {
    "collapsed": false,
    "pycharm": {
     "name": "#%%\n"
    }
   }
  },
  {
   "cell_type": "code",
   "execution_count": 87,
   "outputs": [
    {
     "name": "stderr",
     "output_type": "stream",
     "text": [
      "E:\\anaconda\\lib\\site-packages\\xgboost\\data.py:250: FutureWarning:\n",
      "\n",
      "pandas.Int64Index is deprecated and will be removed from pandas in a future version. Use pandas.Index with the appropriate dtype instead.\n",
      "\n"
     ]
    },
    {
     "data": {
      "text/plain": "XGBRegressor(base_score=0.5, booster='gbtree', colsample_bylevel=1,\n             colsample_bynode=1, colsample_bytree=1, enable_categorical=False,\n             gamma=0, gpu_id=-1, importance_type=None,\n             interaction_constraints='', learning_rate=0.300000012,\n             max_delta_step=0, max_depth=6, min_child_weight=1, missing=nan,\n             monotone_constraints='()', n_estimators=100, n_jobs=4,\n             num_parallel_tree=1, predictor='auto', random_state=0, reg_alpha=0,\n             reg_lambda=1, scale_pos_weight=1, subsample=1, tree_method='exact',\n             validate_parameters=1, verbosity=None)",
      "text/html": "<style>#sk-container-id-12 {color: black;background-color: white;}#sk-container-id-12 pre{padding: 0;}#sk-container-id-12 div.sk-toggleable {background-color: white;}#sk-container-id-12 label.sk-toggleable__label {cursor: pointer;display: block;width: 100%;margin-bottom: 0;padding: 0.3em;box-sizing: border-box;text-align: center;}#sk-container-id-12 label.sk-toggleable__label-arrow:before {content: \"▸\";float: left;margin-right: 0.25em;color: #696969;}#sk-container-id-12 label.sk-toggleable__label-arrow:hover:before {color: black;}#sk-container-id-12 div.sk-estimator:hover label.sk-toggleable__label-arrow:before {color: black;}#sk-container-id-12 div.sk-toggleable__content {max-height: 0;max-width: 0;overflow: hidden;text-align: left;background-color: #f0f8ff;}#sk-container-id-12 div.sk-toggleable__content pre {margin: 0.2em;color: black;border-radius: 0.25em;background-color: #f0f8ff;}#sk-container-id-12 input.sk-toggleable__control:checked~div.sk-toggleable__content {max-height: 200px;max-width: 100%;overflow: auto;}#sk-container-id-12 input.sk-toggleable__control:checked~label.sk-toggleable__label-arrow:before {content: \"▾\";}#sk-container-id-12 div.sk-estimator input.sk-toggleable__control:checked~label.sk-toggleable__label {background-color: #d4ebff;}#sk-container-id-12 div.sk-label input.sk-toggleable__control:checked~label.sk-toggleable__label {background-color: #d4ebff;}#sk-container-id-12 input.sk-hidden--visually {border: 0;clip: rect(1px 1px 1px 1px);clip: rect(1px, 1px, 1px, 1px);height: 1px;margin: -1px;overflow: hidden;padding: 0;position: absolute;width: 1px;}#sk-container-id-12 div.sk-estimator {font-family: monospace;background-color: #f0f8ff;border: 1px dotted black;border-radius: 0.25em;box-sizing: border-box;margin-bottom: 0.5em;}#sk-container-id-12 div.sk-estimator:hover {background-color: #d4ebff;}#sk-container-id-12 div.sk-parallel-item::after {content: \"\";width: 100%;border-bottom: 1px solid gray;flex-grow: 1;}#sk-container-id-12 div.sk-label:hover label.sk-toggleable__label {background-color: #d4ebff;}#sk-container-id-12 div.sk-serial::before {content: \"\";position: absolute;border-left: 1px solid gray;box-sizing: border-box;top: 0;bottom: 0;left: 50%;z-index: 0;}#sk-container-id-12 div.sk-serial {display: flex;flex-direction: column;align-items: center;background-color: white;padding-right: 0.2em;padding-left: 0.2em;position: relative;}#sk-container-id-12 div.sk-item {position: relative;z-index: 1;}#sk-container-id-12 div.sk-parallel {display: flex;align-items: stretch;justify-content: center;background-color: white;position: relative;}#sk-container-id-12 div.sk-item::before, #sk-container-id-12 div.sk-parallel-item::before {content: \"\";position: absolute;border-left: 1px solid gray;box-sizing: border-box;top: 0;bottom: 0;left: 50%;z-index: -1;}#sk-container-id-12 div.sk-parallel-item {display: flex;flex-direction: column;z-index: 1;position: relative;background-color: white;}#sk-container-id-12 div.sk-parallel-item:first-child::after {align-self: flex-end;width: 50%;}#sk-container-id-12 div.sk-parallel-item:last-child::after {align-self: flex-start;width: 50%;}#sk-container-id-12 div.sk-parallel-item:only-child::after {width: 0;}#sk-container-id-12 div.sk-dashed-wrapped {border: 1px dashed gray;margin: 0 0.4em 0.5em 0.4em;box-sizing: border-box;padding-bottom: 0.4em;background-color: white;}#sk-container-id-12 div.sk-label label {font-family: monospace;font-weight: bold;display: inline-block;line-height: 1.2em;}#sk-container-id-12 div.sk-label-container {text-align: center;}#sk-container-id-12 div.sk-container {/* jupyter's `normalize.less` sets `[hidden] { display: none; }` but bootstrap.min.css set `[hidden] { display: none !important; }` so we also need the `!important` here to be able to override the default hidden behavior on the sphinx rendered scikit-learn.org. See: https://github.com/scikit-learn/scikit-learn/issues/21755 */display: inline-block !important;position: relative;}#sk-container-id-12 div.sk-text-repr-fallback {display: none;}</style><div id=\"sk-container-id-12\" class=\"sk-top-container\"><div class=\"sk-text-repr-fallback\"><pre>XGBRegressor(base_score=0.5, booster=&#x27;gbtree&#x27;, colsample_bylevel=1,\n             colsample_bynode=1, colsample_bytree=1, enable_categorical=False,\n             gamma=0, gpu_id=-1, importance_type=None,\n             interaction_constraints=&#x27;&#x27;, learning_rate=0.300000012,\n             max_delta_step=0, max_depth=6, min_child_weight=1, missing=nan,\n             monotone_constraints=&#x27;()&#x27;, n_estimators=100, n_jobs=4,\n             num_parallel_tree=1, predictor=&#x27;auto&#x27;, random_state=0, reg_alpha=0,\n             reg_lambda=1, scale_pos_weight=1, subsample=1, tree_method=&#x27;exact&#x27;,\n             validate_parameters=1, verbosity=None)</pre><b>In a Jupyter environment, please rerun this cell to show the HTML representation or trust the notebook. <br />On GitHub, the HTML representation is unable to render, please try loading this page with nbviewer.org.</b></div><div class=\"sk-container\" hidden><div class=\"sk-item\"><div class=\"sk-estimator sk-toggleable\"><input class=\"sk-toggleable__control sk-hidden--visually\" id=\"sk-estimator-id-12\" type=\"checkbox\" checked><label for=\"sk-estimator-id-12\" class=\"sk-toggleable__label sk-toggleable__label-arrow\">XGBRegressor</label><div class=\"sk-toggleable__content\"><pre>XGBRegressor(base_score=0.5, booster=&#x27;gbtree&#x27;, colsample_bylevel=1,\n             colsample_bynode=1, colsample_bytree=1, enable_categorical=False,\n             gamma=0, gpu_id=-1, importance_type=None,\n             interaction_constraints=&#x27;&#x27;, learning_rate=0.300000012,\n             max_delta_step=0, max_depth=6, min_child_weight=1, missing=nan,\n             monotone_constraints=&#x27;()&#x27;, n_estimators=100, n_jobs=4,\n             num_parallel_tree=1, predictor=&#x27;auto&#x27;, random_state=0, reg_alpha=0,\n             reg_lambda=1, scale_pos_weight=1, subsample=1, tree_method=&#x27;exact&#x27;,\n             validate_parameters=1, verbosity=None)</pre></div></div></div></div></div>"
     },
     "execution_count": 87,
     "metadata": {},
     "output_type": "execute_result"
    }
   ],
   "source": [
    "xg_model.fit(topics_df[[f'Topic {i}' for i in range(lda.n_components)]], topics_df['citations'])"
   ],
   "metadata": {
    "collapsed": false,
    "pycharm": {
     "name": "#%%\n"
    }
   }
  },
  {
   "cell_type": "code",
   "execution_count": 88,
   "outputs": [
    {
     "name": "stdout",
     "output_type": "stream",
     "text": [
      "Preparation of a new explainer is initiated\n",
      "\n",
      "  -> data              : 1223 rows 5 cols\n",
      "  -> target variable   : Parameter 'y' was a pandas.Series. Converted to a numpy.ndarray.\n",
      "  -> target variable   : 1223 values\n",
      "  -> model_class       : xgboost.sklearn.XGBRegressor (default)\n",
      "  -> label             : Not specified, model's class short name will be used. (default)\n",
      "  -> predict function  : <function yhat_default at 0x000001727C9D9AF0> will be used (default)\n",
      "  -> predict function  : Accepts pandas.DataFrame and numpy.ndarray.\n",
      "  -> predicted values  : min = -20.5, mean = 84.5, max = 1.17e+04\n",
      "  -> model type        : regression will be used (default)\n",
      "  -> residual function : difference between y and yhat (default)\n",
      "  -> residuals         : min = -46.0, mean = 0.116, max = 98.0\n",
      "  -> model_info        : package xgboost\n",
      "\n",
      "A new explainer has been created!\n"
     ]
    }
   ],
   "source": [
    "exp = dx.Explainer(xg_model, topics_df[['Topic 0', 'Topic 1', 'Topic 2', 'Topic 3', 'Topic 4']], topics_df['citations'])"
   ],
   "metadata": {
    "collapsed": false,
    "pycharm": {
     "name": "#%%\n"
    }
   }
  },
  {
   "cell_type": "code",
   "execution_count": 89,
   "outputs": [
    {
     "name": "stderr",
     "output_type": "stream",
     "text": [
      "Calculating ceteris paribus: 100%|██████████| 5/5 [00:00<00:00, 34.97it/s]\n"
     ]
    }
   ],
   "source": [
    "agg_profiles = exp.model_profile().plot(show=False)\n",
    "agg_profiles.write_html('agg_profiles.html')"
   ],
   "metadata": {
    "collapsed": false,
    "pycharm": {
     "name": "#%%\n"
    }
   }
  },
  {
   "cell_type": "code",
   "execution_count": 90,
   "outputs": [
    {
     "data": {
      "application/vnd.plotly.v1+json": {
       "data": [
        {
         "customdata": [
          [
           98.50381469726562,
           "XGBRegressor",
           "Topic 0"
          ],
          [
           98.50381469726562,
           "XGBRegressor",
           "Topic 0"
          ],
          [
           98.50381469726562,
           "XGBRegressor",
           "Topic 0"
          ],
          [
           98.50381469726562,
           "XGBRegressor",
           "Topic 0"
          ],
          [
           98.50381469726562,
           "XGBRegressor",
           "Topic 0"
          ],
          [
           98.50381469726562,
           "XGBRegressor",
           "Topic 0"
          ],
          [
           98.50381469726562,
           "XGBRegressor",
           "Topic 0"
          ],
          [
           98.50381469726562,
           "XGBRegressor",
           "Topic 0"
          ],
          [
           98.50381469726562,
           "XGBRegressor",
           "Topic 0"
          ],
          [
           98.50381469726562,
           "XGBRegressor",
           "Topic 0"
          ],
          [
           98.50381469726562,
           "XGBRegressor",
           "Topic 0"
          ],
          [
           98.50381469726562,
           "XGBRegressor",
           "Topic 0"
          ],
          [
           98.50381469726562,
           "XGBRegressor",
           "Topic 0"
          ],
          [
           98.50381469726562,
           "XGBRegressor",
           "Topic 0"
          ],
          [
           98.50381469726562,
           "XGBRegressor",
           "Topic 0"
          ],
          [
           98.50381469726562,
           "XGBRegressor",
           "Topic 0"
          ],
          [
           98.50381469726562,
           "XGBRegressor",
           "Topic 0"
          ],
          [
           98.50381469726562,
           "XGBRegressor",
           "Topic 0"
          ],
          [
           98.50381469726562,
           "XGBRegressor",
           "Topic 0"
          ],
          [
           98.50381469726562,
           "XGBRegressor",
           "Topic 0"
          ],
          [
           98.50381469726562,
           "XGBRegressor",
           "Topic 0"
          ],
          [
           98.50381469726562,
           "XGBRegressor",
           "Topic 0"
          ],
          [
           98.50381469726562,
           "XGBRegressor",
           "Topic 0"
          ],
          [
           98.50381469726562,
           "XGBRegressor",
           "Topic 0"
          ],
          [
           98.50381469726562,
           "XGBRegressor",
           "Topic 0"
          ],
          [
           98.50381469726562,
           "XGBRegressor",
           "Topic 0"
          ],
          [
           98.50381469726562,
           "XGBRegressor",
           "Topic 0"
          ],
          [
           98.50381469726562,
           "XGBRegressor",
           "Topic 0"
          ],
          [
           98.50381469726562,
           "XGBRegressor",
           "Topic 0"
          ],
          [
           98.50381469726562,
           "XGBRegressor",
           "Topic 0"
          ],
          [
           98.50381469726562,
           "XGBRegressor",
           "Topic 0"
          ],
          [
           98.50381469726562,
           "XGBRegressor",
           "Topic 0"
          ],
          [
           98.50381469726562,
           "XGBRegressor",
           "Topic 0"
          ],
          [
           98.50381469726562,
           "XGBRegressor",
           "Topic 0"
          ],
          [
           98.50381469726562,
           "XGBRegressor",
           "Topic 0"
          ],
          [
           98.50381469726562,
           "XGBRegressor",
           "Topic 0"
          ],
          [
           98.50381469726562,
           "XGBRegressor",
           "Topic 0"
          ],
          [
           98.50381469726562,
           "XGBRegressor",
           "Topic 0"
          ],
          [
           98.50381469726562,
           "XGBRegressor",
           "Topic 0"
          ],
          [
           98.50381469726562,
           "XGBRegressor",
           "Topic 0"
          ],
          [
           98.50381469726562,
           "XGBRegressor",
           "Topic 0"
          ],
          [
           98.50381469726562,
           "XGBRegressor",
           "Topic 0"
          ],
          [
           98.50381469726562,
           "XGBRegressor",
           "Topic 0"
          ],
          [
           98.50381469726562,
           "XGBRegressor",
           "Topic 0"
          ],
          [
           98.50381469726562,
           "XGBRegressor",
           "Topic 0"
          ],
          [
           98.50381469726562,
           "XGBRegressor",
           "Topic 0"
          ],
          [
           98.50381469726562,
           "XGBRegressor",
           "Topic 0"
          ],
          [
           98.50381469726562,
           "XGBRegressor",
           "Topic 0"
          ],
          [
           98.50381469726562,
           "XGBRegressor",
           "Topic 0"
          ],
          [
           98.50381469726562,
           "XGBRegressor",
           "Topic 0"
          ],
          [
           98.50381469726562,
           "XGBRegressor",
           "Topic 0"
          ],
          [
           98.50381469726562,
           "XGBRegressor",
           "Topic 0"
          ],
          [
           98.50381469726562,
           "XGBRegressor",
           "Topic 0"
          ],
          [
           98.50381469726562,
           "XGBRegressor",
           "Topic 0"
          ],
          [
           98.50381469726562,
           "XGBRegressor",
           "Topic 0"
          ],
          [
           98.50381469726562,
           "XGBRegressor",
           "Topic 0"
          ],
          [
           98.50381469726562,
           "XGBRegressor",
           "Topic 0"
          ],
          [
           98.50381469726562,
           "XGBRegressor",
           "Topic 0"
          ],
          [
           98.50381469726562,
           "XGBRegressor",
           "Topic 0"
          ],
          [
           98.50381469726562,
           "XGBRegressor",
           "Topic 0"
          ],
          [
           98.50381469726562,
           "XGBRegressor",
           "Topic 0"
          ],
          [
           98.50381469726562,
           "XGBRegressor",
           "Topic 0"
          ],
          [
           98.50381469726562,
           "XGBRegressor",
           "Topic 0"
          ],
          [
           98.50381469726562,
           "XGBRegressor",
           "Topic 0"
          ],
          [
           98.50381469726562,
           "XGBRegressor",
           "Topic 0"
          ],
          [
           98.50381469726562,
           "XGBRegressor",
           "Topic 0"
          ],
          [
           98.50381469726562,
           "XGBRegressor",
           "Topic 0"
          ],
          [
           98.50381469726562,
           "XGBRegressor",
           "Topic 0"
          ],
          [
           98.50381469726562,
           "XGBRegressor",
           "Topic 0"
          ],
          [
           98.50381469726562,
           "XGBRegressor",
           "Topic 0"
          ],
          [
           98.50381469726562,
           "XGBRegressor",
           "Topic 0"
          ],
          [
           98.50381469726562,
           "XGBRegressor",
           "Topic 0"
          ],
          [
           98.50381469726562,
           "XGBRegressor",
           "Topic 0"
          ],
          [
           98.50381469726562,
           "XGBRegressor",
           "Topic 0"
          ],
          [
           98.50381469726562,
           "XGBRegressor",
           "Topic 0"
          ],
          [
           98.50381469726562,
           "XGBRegressor",
           "Topic 0"
          ],
          [
           98.50381469726562,
           "XGBRegressor",
           "Topic 0"
          ],
          [
           98.50381469726562,
           "XGBRegressor",
           "Topic 0"
          ],
          [
           98.50381469726562,
           "XGBRegressor",
           "Topic 0"
          ],
          [
           98.50381469726562,
           "XGBRegressor",
           "Topic 0"
          ],
          [
           98.50381469726562,
           "XGBRegressor",
           "Topic 0"
          ],
          [
           98.50381469726562,
           "XGBRegressor",
           "Topic 0"
          ],
          [
           98.50381469726562,
           "XGBRegressor",
           "Topic 0"
          ],
          [
           98.50381469726562,
           "XGBRegressor",
           "Topic 0"
          ],
          [
           98.50381469726562,
           "XGBRegressor",
           "Topic 0"
          ],
          [
           98.50381469726562,
           "XGBRegressor",
           "Topic 0"
          ],
          [
           98.50381469726562,
           "XGBRegressor",
           "Topic 0"
          ],
          [
           98.50381469726562,
           "XGBRegressor",
           "Topic 0"
          ],
          [
           98.50381469726562,
           "XGBRegressor",
           "Topic 0"
          ],
          [
           98.50381469726562,
           "XGBRegressor",
           "Topic 0"
          ],
          [
           98.50381469726562,
           "XGBRegressor",
           "Topic 0"
          ],
          [
           98.50381469726562,
           "XGBRegressor",
           "Topic 0"
          ],
          [
           98.50381469726562,
           "XGBRegressor",
           "Topic 0"
          ],
          [
           98.50381469726562,
           "XGBRegressor",
           "Topic 0"
          ],
          [
           98.50381469726562,
           "XGBRegressor",
           "Topic 0"
          ],
          [
           98.50381469726562,
           "XGBRegressor",
           "Topic 0"
          ],
          [
           98.50381469726562,
           "XGBRegressor",
           "Topic 0"
          ],
          [
           98.50381469726562,
           "XGBRegressor",
           "Topic 0"
          ],
          [
           98.50381469726562,
           "XGBRegressor",
           "Topic 0"
          ],
          [
           98.50381469726562,
           "XGBRegressor",
           "Topic 0"
          ],
          [
           98.50381469726562,
           "XGBRegressor",
           "Topic 0"
          ]
         ],
         "hovertemplate": "<b>%{hovertext}</b><br><br>prediction=%{y:.3f}<br>mean_prediction=%{customdata[0]:.3f}<extra></extra>",
         "hovertext": [
          "XGBRegressor",
          "XGBRegressor",
          "XGBRegressor",
          "XGBRegressor",
          "XGBRegressor",
          "XGBRegressor",
          "XGBRegressor",
          "XGBRegressor",
          "XGBRegressor",
          "XGBRegressor",
          "XGBRegressor",
          "XGBRegressor",
          "XGBRegressor",
          "XGBRegressor",
          "XGBRegressor",
          "XGBRegressor",
          "XGBRegressor",
          "XGBRegressor",
          "XGBRegressor",
          "XGBRegressor",
          "XGBRegressor",
          "XGBRegressor",
          "XGBRegressor",
          "XGBRegressor",
          "XGBRegressor",
          "XGBRegressor",
          "XGBRegressor",
          "XGBRegressor",
          "XGBRegressor",
          "XGBRegressor",
          "XGBRegressor",
          "XGBRegressor",
          "XGBRegressor",
          "XGBRegressor",
          "XGBRegressor",
          "XGBRegressor",
          "XGBRegressor",
          "XGBRegressor",
          "XGBRegressor",
          "XGBRegressor",
          "XGBRegressor",
          "XGBRegressor",
          "XGBRegressor",
          "XGBRegressor",
          "XGBRegressor",
          "XGBRegressor",
          "XGBRegressor",
          "XGBRegressor",
          "XGBRegressor",
          "XGBRegressor",
          "XGBRegressor",
          "XGBRegressor",
          "XGBRegressor",
          "XGBRegressor",
          "XGBRegressor",
          "XGBRegressor",
          "XGBRegressor",
          "XGBRegressor",
          "XGBRegressor",
          "XGBRegressor",
          "XGBRegressor",
          "XGBRegressor",
          "XGBRegressor",
          "XGBRegressor",
          "XGBRegressor",
          "XGBRegressor",
          "XGBRegressor",
          "XGBRegressor",
          "XGBRegressor",
          "XGBRegressor",
          "XGBRegressor",
          "XGBRegressor",
          "XGBRegressor",
          "XGBRegressor",
          "XGBRegressor",
          "XGBRegressor",
          "XGBRegressor",
          "XGBRegressor",
          "XGBRegressor",
          "XGBRegressor",
          "XGBRegressor",
          "XGBRegressor",
          "XGBRegressor",
          "XGBRegressor",
          "XGBRegressor",
          "XGBRegressor",
          "XGBRegressor",
          "XGBRegressor",
          "XGBRegressor",
          "XGBRegressor",
          "XGBRegressor",
          "XGBRegressor",
          "XGBRegressor",
          "XGBRegressor",
          "XGBRegressor",
          "XGBRegressor",
          "XGBRegressor",
          "XGBRegressor",
          "XGBRegressor",
          "XGBRegressor",
          "XGBRegressor"
         ],
         "legendgroup": "XGBRegressor",
         "line": {
          "color": "#46bac2",
          "dash": "solid",
          "width": 2
         },
         "marker": {
          "symbol": "circle"
         },
         "mode": "lines",
         "name": "XGBRegressor",
         "orientation": "v",
         "showlegend": true,
         "x": [
          5.529725088220039E-6,
          0.010005050285362955,
          0.02000457084563769,
          0.03000409140591243,
          0.040003611966187166,
          0.0500031325264619,
          0.06000265308673664,
          0.07000217364701136,
          0.0800016942072861,
          0.09000121476756084,
          0.10000073532783557,
          0.11000025588811031,
          0.11999977644838505,
          0.12999929700865978,
          0.1399988175689345,
          0.14999833812920926,
          0.159997858689484,
          0.16999737924975872,
          0.17999689981003347,
          0.1899964203703082,
          0.19999594093058293,
          0.20999546149085768,
          0.2199949820511324,
          0.22999450261140714,
          0.2399940231716819,
          0.24999354373195662,
          0.25999306429223135,
          0.2699925848525061,
          0.2799921054127808,
          0.28999162597305556,
          0.2999911465333303,
          0.309990667093605,
          0.31999018765387977,
          0.3299897082141545,
          0.3399892287744292,
          0.349988749334704,
          0.35998826989497873,
          0.36998779045525343,
          0.3799873110155282,
          0.38998683157580294,
          0.39998635213607764,
          0.4099858726963524,
          0.41998539325662715,
          0.42998491381690185,
          0.4399844343771766,
          0.44998395493745136,
          0.45998347549772606,
          0.4699829960580008,
          0.47998251661827557,
          0.48998203717855027,
          0.499981557738825,
          0.5099810782990998,
          0.5199805988593745,
          0.5299801194196493,
          0.539979639979924,
          0.5499791605401988,
          0.5599786811004734,
          0.5699782016607482,
          0.579977722221023,
          0.5899772427812977,
          0.5999767633415725,
          0.6099762839018472,
          0.6199758044621219,
          0.6299753250223966,
          0.6399748455826714,
          0.6499743661429461,
          0.6599738867032209,
          0.6699734072634955,
          0.6799729278237703,
          0.689972448384045,
          0.6999719689443198,
          0.7099714895045945,
          0.7199710100648693,
          0.7299705306251439,
          0.7399700511854187,
          0.7499695717456935,
          0.7599690923059682,
          0.769968612866243,
          0.7799681334265177,
          0.7899676539867924,
          0.7999671745470671,
          0.8099666951073419,
          0.8199662156676166,
          0.8299657362278914,
          0.8399652567881661,
          0.8499647773484408,
          0.8599642979087155,
          0.8699638184689903,
          0.879963339029265,
          0.8899628595895398,
          0.8999623801498146,
          0.9099619007100892,
          0.919961421270364,
          0.9299609418306387,
          0.9399604623909135,
          0.9499599829511882,
          0.959959503511463,
          0.9699590240717376,
          0.9799585446320124,
          0.9899580651922871,
          0.9999575857525619
         ],
         "xaxis": "x5",
         "y": [
          296.010986328125,
          125.89434814453125,
          95.17671966552734,
          114.52708435058594,
          80.03091430664062,
          81.40878295898438,
          82.81755828857422,
          85.24629974365234,
          81.60490417480469,
          82.05391693115234,
          81.97051239013672,
          82.7296371459961,
          82.40541076660156,
          83.20094299316406,
          83.75448608398438,
          83.58299255371094,
          83.58299255371094,
          89.7802505493164,
          89.6146240234375,
          90.12382507324219,
          90.12382507324219,
          90.12382507324219,
          90.12382507324219,
          89.82068634033203,
          89.82068634033203,
          89.82068634033203,
          89.82068634033203,
          93.94906616210938,
          93.94906616210938,
          93.44725799560547,
          93.44725799560547,
          93.12340545654297,
          151.32432556152344,
          151.51675415039062,
          151.88116455078125,
          151.88116455078125,
          151.88116455078125,
          185.6946563720703,
          127.12548828125,
          133.064697265625,
          188.92832946777344,
          187.37359619140625,
          225.66134643554688,
          228.04522705078125,
          228.04522705078125,
          193.18701171875,
          193.19033813476562,
          189.5638885498047,
          189.5638885498047,
          165.98733520507812,
          148.01063537597656,
          148.01063537597656,
          144.41012573242188,
          143.8417205810547,
          144.1474609375,
          144.1474609375,
          146.27745056152344,
          147.63771057128906,
          148.5099639892578,
          148.7640380859375,
          148.7640380859375,
          156.6823272705078,
          157.135498046875,
          156.4747314453125,
          154.18777465820312,
          154.19876098632812,
          159.03878784179688,
          179.3567657470703,
          177.00628662109375,
          181.822021484375,
          188.77159118652344,
          184.01405334472656,
          181.01914978027344,
          181.59597778320312,
          186.94619750976562,
          208.22817993164062,
          208.22232055664062,
          182.73146057128906,
          182.92335510253906,
          183.16822814941406,
          183.16822814941406,
          183.16822814941406,
          182.17684936523438,
          182.17684936523438,
          181.51339721679688,
          181.51339721679688,
          181.51339721679688,
          192.79290771484375,
          556.6912841796875,
          559.676025390625,
          1070.983642578125,
          679.43408203125,
          679.43408203125,
          646.6250610351562,
          551.634765625,
          543.0940551757812,
          543.0940551757812,
          543.0791015625,
          543.0791015625,
          541.2815551757812,
          541.2815551757812
         ],
         "yaxis": "y5",
         "type": "scatter",
         "opacity": 1
        },
        {
         "customdata": [
          [
           98.50381469726562,
           "XGBRegressor",
           "Topic 1"
          ],
          [
           98.50381469726562,
           "XGBRegressor",
           "Topic 1"
          ],
          [
           98.50381469726562,
           "XGBRegressor",
           "Topic 1"
          ],
          [
           98.50381469726562,
           "XGBRegressor",
           "Topic 1"
          ],
          [
           98.50381469726562,
           "XGBRegressor",
           "Topic 1"
          ],
          [
           98.50381469726562,
           "XGBRegressor",
           "Topic 1"
          ],
          [
           98.50381469726562,
           "XGBRegressor",
           "Topic 1"
          ],
          [
           98.50381469726562,
           "XGBRegressor",
           "Topic 1"
          ],
          [
           98.50381469726562,
           "XGBRegressor",
           "Topic 1"
          ],
          [
           98.50381469726562,
           "XGBRegressor",
           "Topic 1"
          ],
          [
           98.50381469726562,
           "XGBRegressor",
           "Topic 1"
          ],
          [
           98.50381469726562,
           "XGBRegressor",
           "Topic 1"
          ],
          [
           98.50381469726562,
           "XGBRegressor",
           "Topic 1"
          ],
          [
           98.50381469726562,
           "XGBRegressor",
           "Topic 1"
          ],
          [
           98.50381469726562,
           "XGBRegressor",
           "Topic 1"
          ],
          [
           98.50381469726562,
           "XGBRegressor",
           "Topic 1"
          ],
          [
           98.50381469726562,
           "XGBRegressor",
           "Topic 1"
          ],
          [
           98.50381469726562,
           "XGBRegressor",
           "Topic 1"
          ],
          [
           98.50381469726562,
           "XGBRegressor",
           "Topic 1"
          ],
          [
           98.50381469726562,
           "XGBRegressor",
           "Topic 1"
          ],
          [
           98.50381469726562,
           "XGBRegressor",
           "Topic 1"
          ],
          [
           98.50381469726562,
           "XGBRegressor",
           "Topic 1"
          ],
          [
           98.50381469726562,
           "XGBRegressor",
           "Topic 1"
          ],
          [
           98.50381469726562,
           "XGBRegressor",
           "Topic 1"
          ],
          [
           98.50381469726562,
           "XGBRegressor",
           "Topic 1"
          ],
          [
           98.50381469726562,
           "XGBRegressor",
           "Topic 1"
          ],
          [
           98.50381469726562,
           "XGBRegressor",
           "Topic 1"
          ],
          [
           98.50381469726562,
           "XGBRegressor",
           "Topic 1"
          ],
          [
           98.50381469726562,
           "XGBRegressor",
           "Topic 1"
          ],
          [
           98.50381469726562,
           "XGBRegressor",
           "Topic 1"
          ],
          [
           98.50381469726562,
           "XGBRegressor",
           "Topic 1"
          ],
          [
           98.50381469726562,
           "XGBRegressor",
           "Topic 1"
          ],
          [
           98.50381469726562,
           "XGBRegressor",
           "Topic 1"
          ],
          [
           98.50381469726562,
           "XGBRegressor",
           "Topic 1"
          ],
          [
           98.50381469726562,
           "XGBRegressor",
           "Topic 1"
          ],
          [
           98.50381469726562,
           "XGBRegressor",
           "Topic 1"
          ],
          [
           98.50381469726562,
           "XGBRegressor",
           "Topic 1"
          ],
          [
           98.50381469726562,
           "XGBRegressor",
           "Topic 1"
          ],
          [
           98.50381469726562,
           "XGBRegressor",
           "Topic 1"
          ],
          [
           98.50381469726562,
           "XGBRegressor",
           "Topic 1"
          ],
          [
           98.50381469726562,
           "XGBRegressor",
           "Topic 1"
          ],
          [
           98.50381469726562,
           "XGBRegressor",
           "Topic 1"
          ],
          [
           98.50381469726562,
           "XGBRegressor",
           "Topic 1"
          ],
          [
           98.50381469726562,
           "XGBRegressor",
           "Topic 1"
          ],
          [
           98.50381469726562,
           "XGBRegressor",
           "Topic 1"
          ],
          [
           98.50381469726562,
           "XGBRegressor",
           "Topic 1"
          ],
          [
           98.50381469726562,
           "XGBRegressor",
           "Topic 1"
          ],
          [
           98.50381469726562,
           "XGBRegressor",
           "Topic 1"
          ],
          [
           98.50381469726562,
           "XGBRegressor",
           "Topic 1"
          ],
          [
           98.50381469726562,
           "XGBRegressor",
           "Topic 1"
          ],
          [
           98.50381469726562,
           "XGBRegressor",
           "Topic 1"
          ],
          [
           98.50381469726562,
           "XGBRegressor",
           "Topic 1"
          ],
          [
           98.50381469726562,
           "XGBRegressor",
           "Topic 1"
          ],
          [
           98.50381469726562,
           "XGBRegressor",
           "Topic 1"
          ],
          [
           98.50381469726562,
           "XGBRegressor",
           "Topic 1"
          ],
          [
           98.50381469726562,
           "XGBRegressor",
           "Topic 1"
          ],
          [
           98.50381469726562,
           "XGBRegressor",
           "Topic 1"
          ],
          [
           98.50381469726562,
           "XGBRegressor",
           "Topic 1"
          ],
          [
           98.50381469726562,
           "XGBRegressor",
           "Topic 1"
          ],
          [
           98.50381469726562,
           "XGBRegressor",
           "Topic 1"
          ],
          [
           98.50381469726562,
           "XGBRegressor",
           "Topic 1"
          ],
          [
           98.50381469726562,
           "XGBRegressor",
           "Topic 1"
          ],
          [
           98.50381469726562,
           "XGBRegressor",
           "Topic 1"
          ],
          [
           98.50381469726562,
           "XGBRegressor",
           "Topic 1"
          ],
          [
           98.50381469726562,
           "XGBRegressor",
           "Topic 1"
          ],
          [
           98.50381469726562,
           "XGBRegressor",
           "Topic 1"
          ],
          [
           98.50381469726562,
           "XGBRegressor",
           "Topic 1"
          ],
          [
           98.50381469726562,
           "XGBRegressor",
           "Topic 1"
          ],
          [
           98.50381469726562,
           "XGBRegressor",
           "Topic 1"
          ],
          [
           98.50381469726562,
           "XGBRegressor",
           "Topic 1"
          ],
          [
           98.50381469726562,
           "XGBRegressor",
           "Topic 1"
          ],
          [
           98.50381469726562,
           "XGBRegressor",
           "Topic 1"
          ],
          [
           98.50381469726562,
           "XGBRegressor",
           "Topic 1"
          ],
          [
           98.50381469726562,
           "XGBRegressor",
           "Topic 1"
          ],
          [
           98.50381469726562,
           "XGBRegressor",
           "Topic 1"
          ],
          [
           98.50381469726562,
           "XGBRegressor",
           "Topic 1"
          ],
          [
           98.50381469726562,
           "XGBRegressor",
           "Topic 1"
          ],
          [
           98.50381469726562,
           "XGBRegressor",
           "Topic 1"
          ],
          [
           98.50381469726562,
           "XGBRegressor",
           "Topic 1"
          ],
          [
           98.50381469726562,
           "XGBRegressor",
           "Topic 1"
          ],
          [
           98.50381469726562,
           "XGBRegressor",
           "Topic 1"
          ],
          [
           98.50381469726562,
           "XGBRegressor",
           "Topic 1"
          ],
          [
           98.50381469726562,
           "XGBRegressor",
           "Topic 1"
          ],
          [
           98.50381469726562,
           "XGBRegressor",
           "Topic 1"
          ],
          [
           98.50381469726562,
           "XGBRegressor",
           "Topic 1"
          ],
          [
           98.50381469726562,
           "XGBRegressor",
           "Topic 1"
          ],
          [
           98.50381469726562,
           "XGBRegressor",
           "Topic 1"
          ],
          [
           98.50381469726562,
           "XGBRegressor",
           "Topic 1"
          ],
          [
           98.50381469726562,
           "XGBRegressor",
           "Topic 1"
          ],
          [
           98.50381469726562,
           "XGBRegressor",
           "Topic 1"
          ],
          [
           98.50381469726562,
           "XGBRegressor",
           "Topic 1"
          ],
          [
           98.50381469726562,
           "XGBRegressor",
           "Topic 1"
          ],
          [
           98.50381469726562,
           "XGBRegressor",
           "Topic 1"
          ],
          [
           98.50381469726562,
           "XGBRegressor",
           "Topic 1"
          ],
          [
           98.50381469726562,
           "XGBRegressor",
           "Topic 1"
          ],
          [
           98.50381469726562,
           "XGBRegressor",
           "Topic 1"
          ],
          [
           98.50381469726562,
           "XGBRegressor",
           "Topic 1"
          ],
          [
           98.50381469726562,
           "XGBRegressor",
           "Topic 1"
          ],
          [
           98.50381469726562,
           "XGBRegressor",
           "Topic 1"
          ],
          [
           98.50381469726562,
           "XGBRegressor",
           "Topic 1"
          ],
          [
           98.50381469726562,
           "XGBRegressor",
           "Topic 1"
          ]
         ],
         "hovertemplate": "<b>%{hovertext}</b><br><br>prediction=%{y:.3f}<br>mean_prediction=%{customdata[0]:.3f}<extra></extra>",
         "hovertext": [
          "XGBRegressor",
          "XGBRegressor",
          "XGBRegressor",
          "XGBRegressor",
          "XGBRegressor",
          "XGBRegressor",
          "XGBRegressor",
          "XGBRegressor",
          "XGBRegressor",
          "XGBRegressor",
          "XGBRegressor",
          "XGBRegressor",
          "XGBRegressor",
          "XGBRegressor",
          "XGBRegressor",
          "XGBRegressor",
          "XGBRegressor",
          "XGBRegressor",
          "XGBRegressor",
          "XGBRegressor",
          "XGBRegressor",
          "XGBRegressor",
          "XGBRegressor",
          "XGBRegressor",
          "XGBRegressor",
          "XGBRegressor",
          "XGBRegressor",
          "XGBRegressor",
          "XGBRegressor",
          "XGBRegressor",
          "XGBRegressor",
          "XGBRegressor",
          "XGBRegressor",
          "XGBRegressor",
          "XGBRegressor",
          "XGBRegressor",
          "XGBRegressor",
          "XGBRegressor",
          "XGBRegressor",
          "XGBRegressor",
          "XGBRegressor",
          "XGBRegressor",
          "XGBRegressor",
          "XGBRegressor",
          "XGBRegressor",
          "XGBRegressor",
          "XGBRegressor",
          "XGBRegressor",
          "XGBRegressor",
          "XGBRegressor",
          "XGBRegressor",
          "XGBRegressor",
          "XGBRegressor",
          "XGBRegressor",
          "XGBRegressor",
          "XGBRegressor",
          "XGBRegressor",
          "XGBRegressor",
          "XGBRegressor",
          "XGBRegressor",
          "XGBRegressor",
          "XGBRegressor",
          "XGBRegressor",
          "XGBRegressor",
          "XGBRegressor",
          "XGBRegressor",
          "XGBRegressor",
          "XGBRegressor",
          "XGBRegressor",
          "XGBRegressor",
          "XGBRegressor",
          "XGBRegressor",
          "XGBRegressor",
          "XGBRegressor",
          "XGBRegressor",
          "XGBRegressor",
          "XGBRegressor",
          "XGBRegressor",
          "XGBRegressor",
          "XGBRegressor",
          "XGBRegressor",
          "XGBRegressor",
          "XGBRegressor",
          "XGBRegressor",
          "XGBRegressor",
          "XGBRegressor",
          "XGBRegressor",
          "XGBRegressor",
          "XGBRegressor",
          "XGBRegressor",
          "XGBRegressor",
          "XGBRegressor",
          "XGBRegressor",
          "XGBRegressor",
          "XGBRegressor",
          "XGBRegressor",
          "XGBRegressor",
          "XGBRegressor",
          "XGBRegressor",
          "XGBRegressor",
          "XGBRegressor"
         ],
         "legendgroup": "XGBRegressor",
         "line": {
          "color": "#46bac2",
          "dash": "solid",
          "width": 2
         },
         "marker": {
          "symbol": "circle"
         },
         "mode": "lines",
         "name": "XGBRegressor",
         "orientation": "v",
         "showlegend": false,
         "x": [
          5.5312556993607244E-6,
          0.009867139814019286,
          0.019728748372339212,
          0.029590356930659138,
          0.039451965488979064,
          0.04931357404729899,
          0.059175182605618916,
          0.06903679116393885,
          0.07889839972225877,
          0.0887600082805787,
          0.09862161683889863,
          0.10848322539721855,
          0.11834483395553848,
          0.12820644251385838,
          0.13806805107217832,
          0.14792965963049826,
          0.15779126818881817,
          0.16765287674713808,
          0.17751448530545802,
          0.18737609386377796,
          0.19723770242209787,
          0.20709931098041778,
          0.21696091953873772,
          0.22682252809705766,
          0.23668413665537757,
          0.2465457452136975,
          0.2564073537720174,
          0.26626896233033737,
          0.2761305708886573,
          0.2859921794469772,
          0.29585378800529716,
          0.30571539656361707,
          0.315577005121937,
          0.3254386136802569,
          0.3353002222385768,
          0.3451618307968968,
          0.3550234393552167,
          0.3648850479135366,
          0.37474665647185657,
          0.3846082650301765,
          0.3944698735884964,
          0.4043314821468163,
          0.4141930907051362,
          0.4240546992634562,
          0.4339163078217761,
          0.443777916380096,
          0.45363952493841597,
          0.4635011334967359,
          0.4733627420550558,
          0.4832243506133757,
          0.4930859591716956,
          0.5029475677300156,
          0.5128091762883354,
          0.5226707848466554,
          0.5325323934049754,
          0.5423940019632952,
          0.5522556105216152,
          0.5621172190799352,
          0.571978827638255,
          0.581840436196575,
          0.591702044754895,
          0.6015636533132148,
          0.6114252618715348,
          0.6212868704298546,
          0.6311484789881746,
          0.6410100875464946,
          0.6508716961048144,
          0.6607333046631344,
          0.6705949132214543,
          0.6804565217797742,
          0.6903181303380942,
          0.700179738896414,
          0.710041347454734,
          0.719902956013054,
          0.7297645645713738,
          0.7396261731296938,
          0.7494877816880138,
          0.7593493902463336,
          0.7692109988046536,
          0.7790726073629735,
          0.7889342159212934,
          0.7987958244796134,
          0.8086574330379332,
          0.8185190415962532,
          0.8283806501545731,
          0.838242258712893,
          0.848103867271213,
          0.8579654758295329,
          0.8678270843878528,
          0.8776886929461728,
          0.8875503015044927,
          0.8974119100628126,
          0.9072735186211326,
          0.9171351271794524,
          0.9269967357377724,
          0.9368583442960923,
          0.9467199528544122,
          0.9565815614127322,
          0.9664431699710521,
          0.976304778529372,
          0.986166387087692
         ],
         "xaxis": "x6",
         "y": [
          409.81903076171875,
          80.13884735107422,
          96.92159271240234,
          112.09028625488281,
          100.80561828613281,
          83.39744567871094,
          89.7203140258789,
          89.16678619384766,
          85.84900665283203,
          84.68576049804688,
          94.13129425048828,
          85.98776245117188,
          92.33502197265625,
          83.46455383300781,
          89.87464904785156,
          92.92452239990234,
          96.90513610839844,
          93.2326431274414,
          94.56501770019531,
          107.76103973388672,
          108.16370391845703,
          114.40386199951172,
          109.38580322265625,
          135.95123291015625,
          143.03330993652344,
          205.5038604736328,
          134.50926208496094,
          135.39117431640625,
          135.3735809326172,
          135.33642578125,
          135.69654846191406,
          134.5170135498047,
          134.63560485839844,
          139.06100463867188,
          175.42245483398438,
          164.8976593017578,
          165.13352966308594,
          165.22909545898438,
          159.86444091796875,
          160.845947265625,
          165.2517852783203,
          175.5287628173828,
          153.88816833496094,
          128.97021484375,
          110.77031707763672,
          114.00668334960938,
          115.79907989501953,
          109.1418228149414,
          108.86360168457031,
          109.20472717285156,
          111.10492706298828,
          110.97260284423828,
          110.42427062988281,
          110.42427062988281,
          110.43730163574219,
          110.88530731201172,
          123.60205841064453,
          123.63164520263672,
          169.4962615966797,
          137.2175750732422,
          137.2175750732422,
          137.2175750732422,
          137.2798309326172,
          137.2798309326172,
          145.74354553222656,
          145.89454650878906,
          145.89454650878906,
          150.4073944091797,
          178.4871063232422,
          142.4097442626953,
          138.17294311523438,
          138.17294311523438,
          144.4381561279297,
          144.4381561279297,
          134.5907440185547,
          136.17405700683594,
          136.17405700683594,
          136.19509887695312,
          136.19509887695312,
          138.39134216308594,
          138.39134216308594,
          163.11465454101562,
          163.11465454101562,
          163.11465454101562,
          167.2625274658203,
          152.88339233398438,
          152.88339233398438,
          152.88339233398438,
          152.88339233398438,
          153.7938995361328,
          153.7938995361328,
          187.68896484375,
          186.814453125,
          160.29074096679688,
          160.29074096679688,
          160.29074096679688,
          128.78753662109375,
          128.78753662109375,
          123.85270690917969,
          123.85270690917969,
          123.85270690917969
         ],
         "yaxis": "y6",
         "type": "scatter",
         "opacity": 1
        },
        {
         "customdata": [
          [
           98.50381469726562,
           "XGBRegressor",
           "Topic 2"
          ],
          [
           98.50381469726562,
           "XGBRegressor",
           "Topic 2"
          ],
          [
           98.50381469726562,
           "XGBRegressor",
           "Topic 2"
          ],
          [
           98.50381469726562,
           "XGBRegressor",
           "Topic 2"
          ],
          [
           98.50381469726562,
           "XGBRegressor",
           "Topic 2"
          ],
          [
           98.50381469726562,
           "XGBRegressor",
           "Topic 2"
          ],
          [
           98.50381469726562,
           "XGBRegressor",
           "Topic 2"
          ],
          [
           98.50381469726562,
           "XGBRegressor",
           "Topic 2"
          ],
          [
           98.50381469726562,
           "XGBRegressor",
           "Topic 2"
          ],
          [
           98.50381469726562,
           "XGBRegressor",
           "Topic 2"
          ],
          [
           98.50381469726562,
           "XGBRegressor",
           "Topic 2"
          ],
          [
           98.50381469726562,
           "XGBRegressor",
           "Topic 2"
          ],
          [
           98.50381469726562,
           "XGBRegressor",
           "Topic 2"
          ],
          [
           98.50381469726562,
           "XGBRegressor",
           "Topic 2"
          ],
          [
           98.50381469726562,
           "XGBRegressor",
           "Topic 2"
          ],
          [
           98.50381469726562,
           "XGBRegressor",
           "Topic 2"
          ],
          [
           98.50381469726562,
           "XGBRegressor",
           "Topic 2"
          ],
          [
           98.50381469726562,
           "XGBRegressor",
           "Topic 2"
          ],
          [
           98.50381469726562,
           "XGBRegressor",
           "Topic 2"
          ],
          [
           98.50381469726562,
           "XGBRegressor",
           "Topic 2"
          ],
          [
           98.50381469726562,
           "XGBRegressor",
           "Topic 2"
          ],
          [
           98.50381469726562,
           "XGBRegressor",
           "Topic 2"
          ],
          [
           98.50381469726562,
           "XGBRegressor",
           "Topic 2"
          ],
          [
           98.50381469726562,
           "XGBRegressor",
           "Topic 2"
          ],
          [
           98.50381469726562,
           "XGBRegressor",
           "Topic 2"
          ],
          [
           98.50381469726562,
           "XGBRegressor",
           "Topic 2"
          ],
          [
           98.50381469726562,
           "XGBRegressor",
           "Topic 2"
          ],
          [
           98.50381469726562,
           "XGBRegressor",
           "Topic 2"
          ],
          [
           98.50381469726562,
           "XGBRegressor",
           "Topic 2"
          ],
          [
           98.50381469726562,
           "XGBRegressor",
           "Topic 2"
          ],
          [
           98.50381469726562,
           "XGBRegressor",
           "Topic 2"
          ],
          [
           98.50381469726562,
           "XGBRegressor",
           "Topic 2"
          ],
          [
           98.50381469726562,
           "XGBRegressor",
           "Topic 2"
          ],
          [
           98.50381469726562,
           "XGBRegressor",
           "Topic 2"
          ],
          [
           98.50381469726562,
           "XGBRegressor",
           "Topic 2"
          ],
          [
           98.50381469726562,
           "XGBRegressor",
           "Topic 2"
          ],
          [
           98.50381469726562,
           "XGBRegressor",
           "Topic 2"
          ],
          [
           98.50381469726562,
           "XGBRegressor",
           "Topic 2"
          ],
          [
           98.50381469726562,
           "XGBRegressor",
           "Topic 2"
          ],
          [
           98.50381469726562,
           "XGBRegressor",
           "Topic 2"
          ],
          [
           98.50381469726562,
           "XGBRegressor",
           "Topic 2"
          ],
          [
           98.50381469726562,
           "XGBRegressor",
           "Topic 2"
          ],
          [
           98.50381469726562,
           "XGBRegressor",
           "Topic 2"
          ],
          [
           98.50381469726562,
           "XGBRegressor",
           "Topic 2"
          ],
          [
           98.50381469726562,
           "XGBRegressor",
           "Topic 2"
          ],
          [
           98.50381469726562,
           "XGBRegressor",
           "Topic 2"
          ],
          [
           98.50381469726562,
           "XGBRegressor",
           "Topic 2"
          ],
          [
           98.50381469726562,
           "XGBRegressor",
           "Topic 2"
          ],
          [
           98.50381469726562,
           "XGBRegressor",
           "Topic 2"
          ],
          [
           98.50381469726562,
           "XGBRegressor",
           "Topic 2"
          ],
          [
           98.50381469726562,
           "XGBRegressor",
           "Topic 2"
          ],
          [
           98.50381469726562,
           "XGBRegressor",
           "Topic 2"
          ],
          [
           98.50381469726562,
           "XGBRegressor",
           "Topic 2"
          ],
          [
           98.50381469726562,
           "XGBRegressor",
           "Topic 2"
          ],
          [
           98.50381469726562,
           "XGBRegressor",
           "Topic 2"
          ],
          [
           98.50381469726562,
           "XGBRegressor",
           "Topic 2"
          ],
          [
           98.50381469726562,
           "XGBRegressor",
           "Topic 2"
          ],
          [
           98.50381469726562,
           "XGBRegressor",
           "Topic 2"
          ],
          [
           98.50381469726562,
           "XGBRegressor",
           "Topic 2"
          ],
          [
           98.50381469726562,
           "XGBRegressor",
           "Topic 2"
          ],
          [
           98.50381469726562,
           "XGBRegressor",
           "Topic 2"
          ],
          [
           98.50381469726562,
           "XGBRegressor",
           "Topic 2"
          ],
          [
           98.50381469726562,
           "XGBRegressor",
           "Topic 2"
          ],
          [
           98.50381469726562,
           "XGBRegressor",
           "Topic 2"
          ],
          [
           98.50381469726562,
           "XGBRegressor",
           "Topic 2"
          ],
          [
           98.50381469726562,
           "XGBRegressor",
           "Topic 2"
          ],
          [
           98.50381469726562,
           "XGBRegressor",
           "Topic 2"
          ],
          [
           98.50381469726562,
           "XGBRegressor",
           "Topic 2"
          ],
          [
           98.50381469726562,
           "XGBRegressor",
           "Topic 2"
          ],
          [
           98.50381469726562,
           "XGBRegressor",
           "Topic 2"
          ],
          [
           98.50381469726562,
           "XGBRegressor",
           "Topic 2"
          ],
          [
           98.50381469726562,
           "XGBRegressor",
           "Topic 2"
          ],
          [
           98.50381469726562,
           "XGBRegressor",
           "Topic 2"
          ],
          [
           98.50381469726562,
           "XGBRegressor",
           "Topic 2"
          ],
          [
           98.50381469726562,
           "XGBRegressor",
           "Topic 2"
          ],
          [
           98.50381469726562,
           "XGBRegressor",
           "Topic 2"
          ],
          [
           98.50381469726562,
           "XGBRegressor",
           "Topic 2"
          ],
          [
           98.50381469726562,
           "XGBRegressor",
           "Topic 2"
          ],
          [
           98.50381469726562,
           "XGBRegressor",
           "Topic 2"
          ],
          [
           98.50381469726562,
           "XGBRegressor",
           "Topic 2"
          ],
          [
           98.50381469726562,
           "XGBRegressor",
           "Topic 2"
          ],
          [
           98.50381469726562,
           "XGBRegressor",
           "Topic 2"
          ],
          [
           98.50381469726562,
           "XGBRegressor",
           "Topic 2"
          ],
          [
           98.50381469726562,
           "XGBRegressor",
           "Topic 2"
          ],
          [
           98.50381469726562,
           "XGBRegressor",
           "Topic 2"
          ],
          [
           98.50381469726562,
           "XGBRegressor",
           "Topic 2"
          ],
          [
           98.50381469726562,
           "XGBRegressor",
           "Topic 2"
          ],
          [
           98.50381469726562,
           "XGBRegressor",
           "Topic 2"
          ],
          [
           98.50381469726562,
           "XGBRegressor",
           "Topic 2"
          ],
          [
           98.50381469726562,
           "XGBRegressor",
           "Topic 2"
          ],
          [
           98.50381469726562,
           "XGBRegressor",
           "Topic 2"
          ],
          [
           98.50381469726562,
           "XGBRegressor",
           "Topic 2"
          ],
          [
           98.50381469726562,
           "XGBRegressor",
           "Topic 2"
          ],
          [
           98.50381469726562,
           "XGBRegressor",
           "Topic 2"
          ],
          [
           98.50381469726562,
           "XGBRegressor",
           "Topic 2"
          ],
          [
           98.50381469726562,
           "XGBRegressor",
           "Topic 2"
          ],
          [
           98.50381469726562,
           "XGBRegressor",
           "Topic 2"
          ],
          [
           98.50381469726562,
           "XGBRegressor",
           "Topic 2"
          ],
          [
           98.50381469726562,
           "XGBRegressor",
           "Topic 2"
          ],
          [
           98.50381469726562,
           "XGBRegressor",
           "Topic 2"
          ],
          [
           98.50381469726562,
           "XGBRegressor",
           "Topic 2"
          ]
         ],
         "hovertemplate": "<b>%{hovertext}</b><br><br>prediction=%{y:.3f}<br>mean_prediction=%{customdata[0]:.3f}<extra></extra>",
         "hovertext": [
          "XGBRegressor",
          "XGBRegressor",
          "XGBRegressor",
          "XGBRegressor",
          "XGBRegressor",
          "XGBRegressor",
          "XGBRegressor",
          "XGBRegressor",
          "XGBRegressor",
          "XGBRegressor",
          "XGBRegressor",
          "XGBRegressor",
          "XGBRegressor",
          "XGBRegressor",
          "XGBRegressor",
          "XGBRegressor",
          "XGBRegressor",
          "XGBRegressor",
          "XGBRegressor",
          "XGBRegressor",
          "XGBRegressor",
          "XGBRegressor",
          "XGBRegressor",
          "XGBRegressor",
          "XGBRegressor",
          "XGBRegressor",
          "XGBRegressor",
          "XGBRegressor",
          "XGBRegressor",
          "XGBRegressor",
          "XGBRegressor",
          "XGBRegressor",
          "XGBRegressor",
          "XGBRegressor",
          "XGBRegressor",
          "XGBRegressor",
          "XGBRegressor",
          "XGBRegressor",
          "XGBRegressor",
          "XGBRegressor",
          "XGBRegressor",
          "XGBRegressor",
          "XGBRegressor",
          "XGBRegressor",
          "XGBRegressor",
          "XGBRegressor",
          "XGBRegressor",
          "XGBRegressor",
          "XGBRegressor",
          "XGBRegressor",
          "XGBRegressor",
          "XGBRegressor",
          "XGBRegressor",
          "XGBRegressor",
          "XGBRegressor",
          "XGBRegressor",
          "XGBRegressor",
          "XGBRegressor",
          "XGBRegressor",
          "XGBRegressor",
          "XGBRegressor",
          "XGBRegressor",
          "XGBRegressor",
          "XGBRegressor",
          "XGBRegressor",
          "XGBRegressor",
          "XGBRegressor",
          "XGBRegressor",
          "XGBRegressor",
          "XGBRegressor",
          "XGBRegressor",
          "XGBRegressor",
          "XGBRegressor",
          "XGBRegressor",
          "XGBRegressor",
          "XGBRegressor",
          "XGBRegressor",
          "XGBRegressor",
          "XGBRegressor",
          "XGBRegressor",
          "XGBRegressor",
          "XGBRegressor",
          "XGBRegressor",
          "XGBRegressor",
          "XGBRegressor",
          "XGBRegressor",
          "XGBRegressor",
          "XGBRegressor",
          "XGBRegressor",
          "XGBRegressor",
          "XGBRegressor",
          "XGBRegressor",
          "XGBRegressor",
          "XGBRegressor",
          "XGBRegressor",
          "XGBRegressor",
          "XGBRegressor",
          "XGBRegressor",
          "XGBRegressor",
          "XGBRegressor",
          "XGBRegressor"
         ],
         "legendgroup": "XGBRegressor",
         "line": {
          "color": "#46bac2",
          "dash": "solid",
          "width": 2
         },
         "marker": {
          "symbol": "circle"
         },
         "mode": "lines",
         "name": "XGBRegressor",
         "orientation": "v",
         "showlegend": false,
         "x": [
          5.531031768232235E-6,
          0.010004168880822596,
          0.020002806729876962,
          0.030001444578931325,
          0.04000008242798569,
          0.049998720277040054,
          0.05999735812609441,
          0.06999599597514879,
          0.07999463382420315,
          0.0899932716732575,
          0.09999190952231188,
          0.10999054737136624,
          0.1199891852204206,
          0.12998782306947496,
          0.13998646091852934,
          0.1499850987675837,
          0.15998373661663806,
          0.16998237446569242,
          0.17998101231474678,
          0.18997965016380117,
          0.19997828801285553,
          0.20997692586190989,
          0.21997556371096424,
          0.2299742015600186,
          0.23997283940907296,
          0.24997147725812735,
          0.2599701151071817,
          0.2699687529562361,
          0.2799673908052905,
          0.28996602865434484,
          0.2999646665033992,
          0.30996330435245356,
          0.3199619422015079,
          0.3299605800505623,
          0.33995921789961664,
          0.349957855748671,
          0.35995649359772536,
          0.3699551314467797,
          0.37995376929583413,
          0.3899524071448885,
          0.39995104499394285,
          0.4099496828429972,
          0.41994832069205157,
          0.42994695854110593,
          0.4399455963901603,
          0.44994423423921465,
          0.459942872088269,
          0.46994150993732337,
          0.4799401477863777,
          0.48993878563543214,
          0.4999374234844865,
          0.5099360613335409,
          0.5199346991825952,
          0.5299333370316496,
          0.539931974880704,
          0.5499306127297583,
          0.5599292505788127,
          0.569927888427867,
          0.5799265262769214,
          0.5899251641259757,
          0.5999238019750301,
          0.6099224398240845,
          0.6199210776731389,
          0.6299197155221932,
          0.6399183533712476,
          0.649916991220302,
          0.6599156290693563,
          0.6699142669184107,
          0.679912904767465,
          0.6899115426165194,
          0.6999101804655737,
          0.7099088183146282,
          0.7199074561636825,
          0.7299060940127369,
          0.7399047318617912,
          0.7499033697108456,
          0.7599020075599,
          0.7699006454089543,
          0.7798992832580087,
          0.789897921107063,
          0.7998965589561174,
          0.8098951968051717,
          0.8198938346542262,
          0.8298924725032805,
          0.8398911103523349,
          0.8498897482013892,
          0.8598883860504436,
          0.869887023899498,
          0.8798856617485523,
          0.8898842995976067,
          0.899882937446661,
          0.9098815752957155,
          0.9198802131447698,
          0.9298788509938242,
          0.9398774888428785,
          0.9498761266919329,
          0.9598747645409872,
          0.9698734023900416,
          0.979872040239096,
          0.9898706780881503,
          0.9998693159372046
         ],
         "xaxis": "x3",
         "y": [
          80.38739013671875,
          93.36588287353516,
          53.98431396484375,
          52.66454315185547,
          59.062217712402344,
          61.280906677246094,
          60.005008697509766,
          59.427711486816406,
          68.6937484741211,
          77.36508178710938,
          75.00411987304688,
          90.12740325927734,
          96.84365844726562,
          110.01956176757812,
          108.80440521240234,
          97.5263442993164,
          96.42250061035156,
          103.08079528808594,
          103.2552261352539,
          78.74402618408203,
          78.74402618408203,
          78.88156127929688,
          79.55435943603516,
          80.24964141845703,
          82.7103042602539,
          79.95402526855469,
          80.47850036621094,
          80.47850036621094,
          83.073974609375,
          82.32720184326172,
          82.56813049316406,
          82.93807983398438,
          77.49149322509766,
          77.92601013183594,
          132.90017700195312,
          79.95037078857422,
          80.05323791503906,
          80.35953521728516,
          61.940372467041016,
          61.940372467041016,
          61.940372467041016,
          61.8139533996582,
          61.8139533996582,
          60.13703155517578,
          60.38008499145508,
          60.38008499145508,
          65.98177337646484,
          66.04210662841797,
          65.89356994628906,
          63.15507888793945,
          63.905967712402344,
          77.7665023803711,
          92.54375457763672,
          70.90599822998047,
          70.37199401855469,
          70.66488647460938,
          70.66488647460938,
          70.66488647460938,
          70.66488647460938,
          72.97701263427734,
          72.97701263427734,
          72.69242095947266,
          68.46875762939453,
          77.22145080566406,
          80.3329086303711,
          90.0706787109375,
          72.48346710205078,
          79.59709930419922,
          83.90875244140625,
          84.93879699707031,
          93.50575256347656,
          94.692138671875,
          77.04956817626953,
          77.272216796875,
          108.3848876953125,
          82.18740844726562,
          93.01986694335938,
          93.75859832763672,
          93.75859832763672,
          91.67383575439453,
          91.67383575439453,
          892.7896728515625,
          219.03262329101562,
          219.03262329101562,
          230.36660766601562,
          277.94091796875,
          249.5683135986328,
          232.65805053710938,
          233.02426147460938,
          235.83578491210938,
          235.83578491210938,
          239.3779754638672,
          239.3779754638672,
          253.67047119140625,
          253.67047119140625,
          732.4533081054688,
          338.6180725097656,
          338.6180725097656,
          338.6180725097656,
          341.9495544433594,
          398.62017822265625
         ],
         "yaxis": "y3",
         "type": "scatter",
         "opacity": 1
        },
        {
         "customdata": [
          [
           98.50381469726562,
           "XGBRegressor",
           "Topic 3"
          ],
          [
           98.50381469726562,
           "XGBRegressor",
           "Topic 3"
          ],
          [
           98.50381469726562,
           "XGBRegressor",
           "Topic 3"
          ],
          [
           98.50381469726562,
           "XGBRegressor",
           "Topic 3"
          ],
          [
           98.50381469726562,
           "XGBRegressor",
           "Topic 3"
          ],
          [
           98.50381469726562,
           "XGBRegressor",
           "Topic 3"
          ],
          [
           98.50381469726562,
           "XGBRegressor",
           "Topic 3"
          ],
          [
           98.50381469726562,
           "XGBRegressor",
           "Topic 3"
          ],
          [
           98.50381469726562,
           "XGBRegressor",
           "Topic 3"
          ],
          [
           98.50381469726562,
           "XGBRegressor",
           "Topic 3"
          ],
          [
           98.50381469726562,
           "XGBRegressor",
           "Topic 3"
          ],
          [
           98.50381469726562,
           "XGBRegressor",
           "Topic 3"
          ],
          [
           98.50381469726562,
           "XGBRegressor",
           "Topic 3"
          ],
          [
           98.50381469726562,
           "XGBRegressor",
           "Topic 3"
          ],
          [
           98.50381469726562,
           "XGBRegressor",
           "Topic 3"
          ],
          [
           98.50381469726562,
           "XGBRegressor",
           "Topic 3"
          ],
          [
           98.50381469726562,
           "XGBRegressor",
           "Topic 3"
          ],
          [
           98.50381469726562,
           "XGBRegressor",
           "Topic 3"
          ],
          [
           98.50381469726562,
           "XGBRegressor",
           "Topic 3"
          ],
          [
           98.50381469726562,
           "XGBRegressor",
           "Topic 3"
          ],
          [
           98.50381469726562,
           "XGBRegressor",
           "Topic 3"
          ],
          [
           98.50381469726562,
           "XGBRegressor",
           "Topic 3"
          ],
          [
           98.50381469726562,
           "XGBRegressor",
           "Topic 3"
          ],
          [
           98.50381469726562,
           "XGBRegressor",
           "Topic 3"
          ],
          [
           98.50381469726562,
           "XGBRegressor",
           "Topic 3"
          ],
          [
           98.50381469726562,
           "XGBRegressor",
           "Topic 3"
          ],
          [
           98.50381469726562,
           "XGBRegressor",
           "Topic 3"
          ],
          [
           98.50381469726562,
           "XGBRegressor",
           "Topic 3"
          ],
          [
           98.50381469726562,
           "XGBRegressor",
           "Topic 3"
          ],
          [
           98.50381469726562,
           "XGBRegressor",
           "Topic 3"
          ],
          [
           98.50381469726562,
           "XGBRegressor",
           "Topic 3"
          ],
          [
           98.50381469726562,
           "XGBRegressor",
           "Topic 3"
          ],
          [
           98.50381469726562,
           "XGBRegressor",
           "Topic 3"
          ],
          [
           98.50381469726562,
           "XGBRegressor",
           "Topic 3"
          ],
          [
           98.50381469726562,
           "XGBRegressor",
           "Topic 3"
          ],
          [
           98.50381469726562,
           "XGBRegressor",
           "Topic 3"
          ],
          [
           98.50381469726562,
           "XGBRegressor",
           "Topic 3"
          ],
          [
           98.50381469726562,
           "XGBRegressor",
           "Topic 3"
          ],
          [
           98.50381469726562,
           "XGBRegressor",
           "Topic 3"
          ],
          [
           98.50381469726562,
           "XGBRegressor",
           "Topic 3"
          ],
          [
           98.50381469726562,
           "XGBRegressor",
           "Topic 3"
          ],
          [
           98.50381469726562,
           "XGBRegressor",
           "Topic 3"
          ],
          [
           98.50381469726562,
           "XGBRegressor",
           "Topic 3"
          ],
          [
           98.50381469726562,
           "XGBRegressor",
           "Topic 3"
          ],
          [
           98.50381469726562,
           "XGBRegressor",
           "Topic 3"
          ],
          [
           98.50381469726562,
           "XGBRegressor",
           "Topic 3"
          ],
          [
           98.50381469726562,
           "XGBRegressor",
           "Topic 3"
          ],
          [
           98.50381469726562,
           "XGBRegressor",
           "Topic 3"
          ],
          [
           98.50381469726562,
           "XGBRegressor",
           "Topic 3"
          ],
          [
           98.50381469726562,
           "XGBRegressor",
           "Topic 3"
          ],
          [
           98.50381469726562,
           "XGBRegressor",
           "Topic 3"
          ],
          [
           98.50381469726562,
           "XGBRegressor",
           "Topic 3"
          ],
          [
           98.50381469726562,
           "XGBRegressor",
           "Topic 3"
          ],
          [
           98.50381469726562,
           "XGBRegressor",
           "Topic 3"
          ],
          [
           98.50381469726562,
           "XGBRegressor",
           "Topic 3"
          ],
          [
           98.50381469726562,
           "XGBRegressor",
           "Topic 3"
          ],
          [
           98.50381469726562,
           "XGBRegressor",
           "Topic 3"
          ],
          [
           98.50381469726562,
           "XGBRegressor",
           "Topic 3"
          ],
          [
           98.50381469726562,
           "XGBRegressor",
           "Topic 3"
          ],
          [
           98.50381469726562,
           "XGBRegressor",
           "Topic 3"
          ],
          [
           98.50381469726562,
           "XGBRegressor",
           "Topic 3"
          ],
          [
           98.50381469726562,
           "XGBRegressor",
           "Topic 3"
          ],
          [
           98.50381469726562,
           "XGBRegressor",
           "Topic 3"
          ],
          [
           98.50381469726562,
           "XGBRegressor",
           "Topic 3"
          ],
          [
           98.50381469726562,
           "XGBRegressor",
           "Topic 3"
          ],
          [
           98.50381469726562,
           "XGBRegressor",
           "Topic 3"
          ],
          [
           98.50381469726562,
           "XGBRegressor",
           "Topic 3"
          ],
          [
           98.50381469726562,
           "XGBRegressor",
           "Topic 3"
          ],
          [
           98.50381469726562,
           "XGBRegressor",
           "Topic 3"
          ],
          [
           98.50381469726562,
           "XGBRegressor",
           "Topic 3"
          ],
          [
           98.50381469726562,
           "XGBRegressor",
           "Topic 3"
          ],
          [
           98.50381469726562,
           "XGBRegressor",
           "Topic 3"
          ],
          [
           98.50381469726562,
           "XGBRegressor",
           "Topic 3"
          ],
          [
           98.50381469726562,
           "XGBRegressor",
           "Topic 3"
          ],
          [
           98.50381469726562,
           "XGBRegressor",
           "Topic 3"
          ],
          [
           98.50381469726562,
           "XGBRegressor",
           "Topic 3"
          ],
          [
           98.50381469726562,
           "XGBRegressor",
           "Topic 3"
          ],
          [
           98.50381469726562,
           "XGBRegressor",
           "Topic 3"
          ],
          [
           98.50381469726562,
           "XGBRegressor",
           "Topic 3"
          ],
          [
           98.50381469726562,
           "XGBRegressor",
           "Topic 3"
          ],
          [
           98.50381469726562,
           "XGBRegressor",
           "Topic 3"
          ],
          [
           98.50381469726562,
           "XGBRegressor",
           "Topic 3"
          ],
          [
           98.50381469726562,
           "XGBRegressor",
           "Topic 3"
          ],
          [
           98.50381469726562,
           "XGBRegressor",
           "Topic 3"
          ],
          [
           98.50381469726562,
           "XGBRegressor",
           "Topic 3"
          ],
          [
           98.50381469726562,
           "XGBRegressor",
           "Topic 3"
          ],
          [
           98.50381469726562,
           "XGBRegressor",
           "Topic 3"
          ],
          [
           98.50381469726562,
           "XGBRegressor",
           "Topic 3"
          ],
          [
           98.50381469726562,
           "XGBRegressor",
           "Topic 3"
          ],
          [
           98.50381469726562,
           "XGBRegressor",
           "Topic 3"
          ],
          [
           98.50381469726562,
           "XGBRegressor",
           "Topic 3"
          ],
          [
           98.50381469726562,
           "XGBRegressor",
           "Topic 3"
          ],
          [
           98.50381469726562,
           "XGBRegressor",
           "Topic 3"
          ],
          [
           98.50381469726562,
           "XGBRegressor",
           "Topic 3"
          ],
          [
           98.50381469726562,
           "XGBRegressor",
           "Topic 3"
          ],
          [
           98.50381469726562,
           "XGBRegressor",
           "Topic 3"
          ],
          [
           98.50381469726562,
           "XGBRegressor",
           "Topic 3"
          ],
          [
           98.50381469726562,
           "XGBRegressor",
           "Topic 3"
          ],
          [
           98.50381469726562,
           "XGBRegressor",
           "Topic 3"
          ],
          [
           98.50381469726562,
           "XGBRegressor",
           "Topic 3"
          ],
          [
           98.50381469726562,
           "XGBRegressor",
           "Topic 3"
          ]
         ],
         "hovertemplate": "<b>%{hovertext}</b><br><br>prediction=%{y:.3f}<br>mean_prediction=%{customdata[0]:.3f}<extra></extra>",
         "hovertext": [
          "XGBRegressor",
          "XGBRegressor",
          "XGBRegressor",
          "XGBRegressor",
          "XGBRegressor",
          "XGBRegressor",
          "XGBRegressor",
          "XGBRegressor",
          "XGBRegressor",
          "XGBRegressor",
          "XGBRegressor",
          "XGBRegressor",
          "XGBRegressor",
          "XGBRegressor",
          "XGBRegressor",
          "XGBRegressor",
          "XGBRegressor",
          "XGBRegressor",
          "XGBRegressor",
          "XGBRegressor",
          "XGBRegressor",
          "XGBRegressor",
          "XGBRegressor",
          "XGBRegressor",
          "XGBRegressor",
          "XGBRegressor",
          "XGBRegressor",
          "XGBRegressor",
          "XGBRegressor",
          "XGBRegressor",
          "XGBRegressor",
          "XGBRegressor",
          "XGBRegressor",
          "XGBRegressor",
          "XGBRegressor",
          "XGBRegressor",
          "XGBRegressor",
          "XGBRegressor",
          "XGBRegressor",
          "XGBRegressor",
          "XGBRegressor",
          "XGBRegressor",
          "XGBRegressor",
          "XGBRegressor",
          "XGBRegressor",
          "XGBRegressor",
          "XGBRegressor",
          "XGBRegressor",
          "XGBRegressor",
          "XGBRegressor",
          "XGBRegressor",
          "XGBRegressor",
          "XGBRegressor",
          "XGBRegressor",
          "XGBRegressor",
          "XGBRegressor",
          "XGBRegressor",
          "XGBRegressor",
          "XGBRegressor",
          "XGBRegressor",
          "XGBRegressor",
          "XGBRegressor",
          "XGBRegressor",
          "XGBRegressor",
          "XGBRegressor",
          "XGBRegressor",
          "XGBRegressor",
          "XGBRegressor",
          "XGBRegressor",
          "XGBRegressor",
          "XGBRegressor",
          "XGBRegressor",
          "XGBRegressor",
          "XGBRegressor",
          "XGBRegressor",
          "XGBRegressor",
          "XGBRegressor",
          "XGBRegressor",
          "XGBRegressor",
          "XGBRegressor",
          "XGBRegressor",
          "XGBRegressor",
          "XGBRegressor",
          "XGBRegressor",
          "XGBRegressor",
          "XGBRegressor",
          "XGBRegressor",
          "XGBRegressor",
          "XGBRegressor",
          "XGBRegressor",
          "XGBRegressor",
          "XGBRegressor",
          "XGBRegressor",
          "XGBRegressor",
          "XGBRegressor",
          "XGBRegressor",
          "XGBRegressor",
          "XGBRegressor",
          "XGBRegressor",
          "XGBRegressor",
          "XGBRegressor"
         ],
         "legendgroup": "XGBRegressor",
         "line": {
          "color": "#46bac2",
          "dash": "solid",
          "width": 2
         },
         "marker": {
          "symbol": "circle"
         },
         "mode": "lines",
         "name": "XGBRegressor",
         "orientation": "v",
         "showlegend": false,
         "x": [
          5.869311768951484E-6,
          0.010005589402973088,
          0.020005309494177226,
          0.03000502958538136,
          0.040004749676585495,
          0.05000446976778963,
          0.060004189858993764,
          0.07000390995019791,
          0.08000363004140204,
          0.09000335013260617,
          0.10000307022381032,
          0.11000279031501445,
          0.12000251040621858,
          0.13000223049742274,
          0.14000195058862688,
          0.150001670679831,
          0.16000139077103515,
          0.1700011108622393,
          0.1800008309534434,
          0.19000055104464755,
          0.2000002711358517,
          0.20999999122705582,
          0.21999971131825996,
          0.2299994314094641,
          0.23999915150066822,
          0.24999887159187237,
          0.2599985916830765,
          0.26999831177428063,
          0.2799980318654848,
          0.28999775195668887,
          0.299997472047893,
          0.30999719213909716,
          0.3199969122303013,
          0.32999663232150545,
          0.3399963524127096,
          0.34999607250391374,
          0.3599957925951178,
          0.36999551268632197,
          0.3799952327775261,
          0.38999495286873026,
          0.3999946729599344,
          0.40999439305113855,
          0.41999411314234264,
          0.4299938332335468,
          0.43999355332475093,
          0.4499932734159551,
          0.4599929935071592,
          0.46999271359836337,
          0.47999243368956745,
          0.4899921537807716,
          0.49999187387197574,
          0.50999159396318,
          0.519991314054384,
          0.5299910341455881,
          0.5399907542367923,
          0.5499904743279964,
          0.5599901944192006,
          0.5699899145104047,
          0.5799896346016088,
          0.589989354692813,
          0.5999890747840171,
          0.6099887948752213,
          0.6199885149664254,
          0.6299882350576296,
          0.6399879551488337,
          0.6499876752400378,
          0.659987395331242,
          0.669987115422446,
          0.6799868355136502,
          0.6899865556048543,
          0.6999862756960585,
          0.7099859957872626,
          0.7199857158784667,
          0.7299854359696709,
          0.739985156060875,
          0.7499848761520792,
          0.7599845962432833,
          0.7699843163344874,
          0.7799840364256916,
          0.7899837565168957,
          0.7999834766080999,
          0.809983196699304,
          0.8199829167905082,
          0.8299826368817123,
          0.8399823569729163,
          0.8499820770641205,
          0.8599817971553246,
          0.8699815172465288,
          0.8799812373377329,
          0.8899809574289371,
          0.8999806775201412,
          0.9099803976113453,
          0.9199801177025495,
          0.9299798377937536,
          0.9399795578849578,
          0.9499792779761619,
          0.959978998067366,
          0.9699787181585702,
          0.9799784382497743,
          0.9899781583409785,
          0.9999778784321826
         ],
         "xaxis": "x4",
         "y": [
          153.25909423828125,
          71.72026062011719,
          67.55481719970703,
          73.88919067382812,
          75.11910247802734,
          71.22266387939453,
          72.86532592773438,
          68.7510986328125,
          69.10335540771484,
          71.06199645996094,
          69.18508911132812,
          74.63713073730469,
          74.16771697998047,
          95.84284973144531,
          95.4613037109375,
          109.03958892822266,
          112.07711029052734,
          110.8390121459961,
          90.85723876953125,
          90.85723876953125,
          95.38105773925781,
          95.01380157470703,
          95.0420150756836,
          97.24632263183594,
          95.94217681884766,
          92.31958770751953,
          92.34355163574219,
          90.68865203857422,
          93.7430191040039,
          93.12825012207031,
          92.9493179321289,
          90.18739318847656,
          90.34033203125,
          90.6624984741211,
          90.6624984741211,
          86.1520004272461,
          98.37340545654297,
          108.22516632080078,
          108.18709564208984,
          108.49650573730469,
          105.87403869628906,
          105.8249282836914,
          109.2848892211914,
          123.17240142822266,
          129.62274169921875,
          114.88170623779297,
          114.88884735107422,
          105.06199645996094,
          105.90374755859375,
          103.25995635986328,
          103.25995635986328,
          103.25995635986328,
          103.25995635986328,
          111.8537368774414,
          112.1486587524414,
          112.19462585449219,
          112.19462585449219,
          112.19462585449219,
          112.19462585449219,
          112.46868133544922,
          112.46868133544922,
          112.46868133544922,
          112.46868133544922,
          105.87042999267578,
          119.66012573242188,
          119.66012573242188,
          119.66012573242188,
          107.87090301513672,
          107.139892578125,
          114.00257873535156,
          200.91436767578125,
          117.59806060791016,
          117.59806060791016,
          118.05058288574219,
          118.05058288574219,
          118.05058288574219,
          112.18802642822266,
          112.18802642822266,
          107.63641357421875,
          108.82914733886719,
          125.57414245605469,
          177.48663330078125,
          195.44711303710938,
          175.78271484375,
          175.74380493164062,
          175.83001708984375,
          175.83001708984375,
          175.91297912597656,
          176.50267028808594,
          221.90994262695312,
          241.77610778808594,
          240.24813842773438,
          240.24813842773438,
          240.0906219482422,
          225.54107666015625,
          225.54107666015625,
          221.32843017578125,
          221.32843017578125,
          219.86390686035156,
          213.36285400390625,
          192.29278564453125
         ],
         "yaxis": "y4",
         "type": "scatter",
         "opacity": 1
        },
        {
         "customdata": [
          [
           98.50381469726562,
           "XGBRegressor",
           "Topic 4"
          ],
          [
           98.50381469726562,
           "XGBRegressor",
           "Topic 4"
          ],
          [
           98.50381469726562,
           "XGBRegressor",
           "Topic 4"
          ],
          [
           98.50381469726562,
           "XGBRegressor",
           "Topic 4"
          ],
          [
           98.50381469726562,
           "XGBRegressor",
           "Topic 4"
          ],
          [
           98.50381469726562,
           "XGBRegressor",
           "Topic 4"
          ],
          [
           98.50381469726562,
           "XGBRegressor",
           "Topic 4"
          ],
          [
           98.50381469726562,
           "XGBRegressor",
           "Topic 4"
          ],
          [
           98.50381469726562,
           "XGBRegressor",
           "Topic 4"
          ],
          [
           98.50381469726562,
           "XGBRegressor",
           "Topic 4"
          ],
          [
           98.50381469726562,
           "XGBRegressor",
           "Topic 4"
          ],
          [
           98.50381469726562,
           "XGBRegressor",
           "Topic 4"
          ],
          [
           98.50381469726562,
           "XGBRegressor",
           "Topic 4"
          ],
          [
           98.50381469726562,
           "XGBRegressor",
           "Topic 4"
          ],
          [
           98.50381469726562,
           "XGBRegressor",
           "Topic 4"
          ],
          [
           98.50381469726562,
           "XGBRegressor",
           "Topic 4"
          ],
          [
           98.50381469726562,
           "XGBRegressor",
           "Topic 4"
          ],
          [
           98.50381469726562,
           "XGBRegressor",
           "Topic 4"
          ],
          [
           98.50381469726562,
           "XGBRegressor",
           "Topic 4"
          ],
          [
           98.50381469726562,
           "XGBRegressor",
           "Topic 4"
          ],
          [
           98.50381469726562,
           "XGBRegressor",
           "Topic 4"
          ],
          [
           98.50381469726562,
           "XGBRegressor",
           "Topic 4"
          ],
          [
           98.50381469726562,
           "XGBRegressor",
           "Topic 4"
          ],
          [
           98.50381469726562,
           "XGBRegressor",
           "Topic 4"
          ],
          [
           98.50381469726562,
           "XGBRegressor",
           "Topic 4"
          ],
          [
           98.50381469726562,
           "XGBRegressor",
           "Topic 4"
          ],
          [
           98.50381469726562,
           "XGBRegressor",
           "Topic 4"
          ],
          [
           98.50381469726562,
           "XGBRegressor",
           "Topic 4"
          ],
          [
           98.50381469726562,
           "XGBRegressor",
           "Topic 4"
          ],
          [
           98.50381469726562,
           "XGBRegressor",
           "Topic 4"
          ],
          [
           98.50381469726562,
           "XGBRegressor",
           "Topic 4"
          ],
          [
           98.50381469726562,
           "XGBRegressor",
           "Topic 4"
          ],
          [
           98.50381469726562,
           "XGBRegressor",
           "Topic 4"
          ],
          [
           98.50381469726562,
           "XGBRegressor",
           "Topic 4"
          ],
          [
           98.50381469726562,
           "XGBRegressor",
           "Topic 4"
          ],
          [
           98.50381469726562,
           "XGBRegressor",
           "Topic 4"
          ],
          [
           98.50381469726562,
           "XGBRegressor",
           "Topic 4"
          ],
          [
           98.50381469726562,
           "XGBRegressor",
           "Topic 4"
          ],
          [
           98.50381469726562,
           "XGBRegressor",
           "Topic 4"
          ],
          [
           98.50381469726562,
           "XGBRegressor",
           "Topic 4"
          ],
          [
           98.50381469726562,
           "XGBRegressor",
           "Topic 4"
          ],
          [
           98.50381469726562,
           "XGBRegressor",
           "Topic 4"
          ],
          [
           98.50381469726562,
           "XGBRegressor",
           "Topic 4"
          ],
          [
           98.50381469726562,
           "XGBRegressor",
           "Topic 4"
          ],
          [
           98.50381469726562,
           "XGBRegressor",
           "Topic 4"
          ],
          [
           98.50381469726562,
           "XGBRegressor",
           "Topic 4"
          ],
          [
           98.50381469726562,
           "XGBRegressor",
           "Topic 4"
          ],
          [
           98.50381469726562,
           "XGBRegressor",
           "Topic 4"
          ],
          [
           98.50381469726562,
           "XGBRegressor",
           "Topic 4"
          ],
          [
           98.50381469726562,
           "XGBRegressor",
           "Topic 4"
          ],
          [
           98.50381469726562,
           "XGBRegressor",
           "Topic 4"
          ],
          [
           98.50381469726562,
           "XGBRegressor",
           "Topic 4"
          ],
          [
           98.50381469726562,
           "XGBRegressor",
           "Topic 4"
          ],
          [
           98.50381469726562,
           "XGBRegressor",
           "Topic 4"
          ],
          [
           98.50381469726562,
           "XGBRegressor",
           "Topic 4"
          ],
          [
           98.50381469726562,
           "XGBRegressor",
           "Topic 4"
          ],
          [
           98.50381469726562,
           "XGBRegressor",
           "Topic 4"
          ],
          [
           98.50381469726562,
           "XGBRegressor",
           "Topic 4"
          ],
          [
           98.50381469726562,
           "XGBRegressor",
           "Topic 4"
          ],
          [
           98.50381469726562,
           "XGBRegressor",
           "Topic 4"
          ],
          [
           98.50381469726562,
           "XGBRegressor",
           "Topic 4"
          ],
          [
           98.50381469726562,
           "XGBRegressor",
           "Topic 4"
          ],
          [
           98.50381469726562,
           "XGBRegressor",
           "Topic 4"
          ],
          [
           98.50381469726562,
           "XGBRegressor",
           "Topic 4"
          ],
          [
           98.50381469726562,
           "XGBRegressor",
           "Topic 4"
          ],
          [
           98.50381469726562,
           "XGBRegressor",
           "Topic 4"
          ],
          [
           98.50381469726562,
           "XGBRegressor",
           "Topic 4"
          ],
          [
           98.50381469726562,
           "XGBRegressor",
           "Topic 4"
          ],
          [
           98.50381469726562,
           "XGBRegressor",
           "Topic 4"
          ],
          [
           98.50381469726562,
           "XGBRegressor",
           "Topic 4"
          ],
          [
           98.50381469726562,
           "XGBRegressor",
           "Topic 4"
          ],
          [
           98.50381469726562,
           "XGBRegressor",
           "Topic 4"
          ],
          [
           98.50381469726562,
           "XGBRegressor",
           "Topic 4"
          ],
          [
           98.50381469726562,
           "XGBRegressor",
           "Topic 4"
          ],
          [
           98.50381469726562,
           "XGBRegressor",
           "Topic 4"
          ],
          [
           98.50381469726562,
           "XGBRegressor",
           "Topic 4"
          ],
          [
           98.50381469726562,
           "XGBRegressor",
           "Topic 4"
          ],
          [
           98.50381469726562,
           "XGBRegressor",
           "Topic 4"
          ],
          [
           98.50381469726562,
           "XGBRegressor",
           "Topic 4"
          ],
          [
           98.50381469726562,
           "XGBRegressor",
           "Topic 4"
          ],
          [
           98.50381469726562,
           "XGBRegressor",
           "Topic 4"
          ],
          [
           98.50381469726562,
           "XGBRegressor",
           "Topic 4"
          ],
          [
           98.50381469726562,
           "XGBRegressor",
           "Topic 4"
          ],
          [
           98.50381469726562,
           "XGBRegressor",
           "Topic 4"
          ],
          [
           98.50381469726562,
           "XGBRegressor",
           "Topic 4"
          ],
          [
           98.50381469726562,
           "XGBRegressor",
           "Topic 4"
          ],
          [
           98.50381469726562,
           "XGBRegressor",
           "Topic 4"
          ],
          [
           98.50381469726562,
           "XGBRegressor",
           "Topic 4"
          ],
          [
           98.50381469726562,
           "XGBRegressor",
           "Topic 4"
          ],
          [
           98.50381469726562,
           "XGBRegressor",
           "Topic 4"
          ],
          [
           98.50381469726562,
           "XGBRegressor",
           "Topic 4"
          ],
          [
           98.50381469726562,
           "XGBRegressor",
           "Topic 4"
          ],
          [
           98.50381469726562,
           "XGBRegressor",
           "Topic 4"
          ],
          [
           98.50381469726562,
           "XGBRegressor",
           "Topic 4"
          ],
          [
           98.50381469726562,
           "XGBRegressor",
           "Topic 4"
          ],
          [
           98.50381469726562,
           "XGBRegressor",
           "Topic 4"
          ],
          [
           98.50381469726562,
           "XGBRegressor",
           "Topic 4"
          ],
          [
           98.50381469726562,
           "XGBRegressor",
           "Topic 4"
          ],
          [
           98.50381469726562,
           "XGBRegressor",
           "Topic 4"
          ],
          [
           98.50381469726562,
           "XGBRegressor",
           "Topic 4"
          ],
          [
           98.50381469726562,
           "XGBRegressor",
           "Topic 4"
          ]
         ],
         "hovertemplate": "<b>%{hovertext}</b><br><br>prediction=%{y:.3f}<br>mean_prediction=%{customdata[0]:.3f}<extra></extra>",
         "hovertext": [
          "XGBRegressor",
          "XGBRegressor",
          "XGBRegressor",
          "XGBRegressor",
          "XGBRegressor",
          "XGBRegressor",
          "XGBRegressor",
          "XGBRegressor",
          "XGBRegressor",
          "XGBRegressor",
          "XGBRegressor",
          "XGBRegressor",
          "XGBRegressor",
          "XGBRegressor",
          "XGBRegressor",
          "XGBRegressor",
          "XGBRegressor",
          "XGBRegressor",
          "XGBRegressor",
          "XGBRegressor",
          "XGBRegressor",
          "XGBRegressor",
          "XGBRegressor",
          "XGBRegressor",
          "XGBRegressor",
          "XGBRegressor",
          "XGBRegressor",
          "XGBRegressor",
          "XGBRegressor",
          "XGBRegressor",
          "XGBRegressor",
          "XGBRegressor",
          "XGBRegressor",
          "XGBRegressor",
          "XGBRegressor",
          "XGBRegressor",
          "XGBRegressor",
          "XGBRegressor",
          "XGBRegressor",
          "XGBRegressor",
          "XGBRegressor",
          "XGBRegressor",
          "XGBRegressor",
          "XGBRegressor",
          "XGBRegressor",
          "XGBRegressor",
          "XGBRegressor",
          "XGBRegressor",
          "XGBRegressor",
          "XGBRegressor",
          "XGBRegressor",
          "XGBRegressor",
          "XGBRegressor",
          "XGBRegressor",
          "XGBRegressor",
          "XGBRegressor",
          "XGBRegressor",
          "XGBRegressor",
          "XGBRegressor",
          "XGBRegressor",
          "XGBRegressor",
          "XGBRegressor",
          "XGBRegressor",
          "XGBRegressor",
          "XGBRegressor",
          "XGBRegressor",
          "XGBRegressor",
          "XGBRegressor",
          "XGBRegressor",
          "XGBRegressor",
          "XGBRegressor",
          "XGBRegressor",
          "XGBRegressor",
          "XGBRegressor",
          "XGBRegressor",
          "XGBRegressor",
          "XGBRegressor",
          "XGBRegressor",
          "XGBRegressor",
          "XGBRegressor",
          "XGBRegressor",
          "XGBRegressor",
          "XGBRegressor",
          "XGBRegressor",
          "XGBRegressor",
          "XGBRegressor",
          "XGBRegressor",
          "XGBRegressor",
          "XGBRegressor",
          "XGBRegressor",
          "XGBRegressor",
          "XGBRegressor",
          "XGBRegressor",
          "XGBRegressor",
          "XGBRegressor",
          "XGBRegressor",
          "XGBRegressor",
          "XGBRegressor",
          "XGBRegressor",
          "XGBRegressor",
          "XGBRegressor"
         ],
         "legendgroup": "XGBRegressor",
         "line": {
          "color": "#46bac2",
          "dash": "solid",
          "width": 2
         },
         "marker": {
          "symbol": "circle"
         },
         "mode": "lines",
         "name": "XGBRegressor",
         "orientation": "v",
         "showlegend": false,
         "x": [
          5.529555261667837E-6,
          0.009837982327559508,
          0.019670435099857348,
          0.029502887872155187,
          0.03933534064445303,
          0.04916779341675087,
          0.059000246189048706,
          0.06883269896134656,
          0.0786651517336444,
          0.08849760450594224,
          0.09833005727824008,
          0.10816251005053792,
          0.11799496282283575,
          0.1278274155951336,
          0.13765986836743144,
          0.1474923211397293,
          0.15732477391202712,
          0.16715722668432495,
          0.1769896794566228,
          0.18682213222892063,
          0.1966545850012185,
          0.20648703777351632,
          0.21631949054581417,
          0.226151943318112,
          0.23598439609040983,
          0.2458168488627077,
          0.25564930163500554,
          0.26548175440730337,
          0.2753142071796012,
          0.28514665995189903,
          0.2949791127241969,
          0.30481156549649474,
          0.31464401826879257,
          0.3244764710410904,
          0.3343089238133882,
          0.3441413765856861,
          0.35397382935798394,
          0.36380628213028177,
          0.3736387349025796,
          0.3834711876748775,
          0.3933036404471753,
          0.40313609321947314,
          0.41296854599177096,
          0.4228009987640688,
          0.4326334515363667,
          0.4424659043086645,
          0.45229835708096233,
          0.46213080985326016,
          0.471963262625558,
          0.4817957153978559,
          0.4916281681701537,
          0.5014606209424516,
          0.5112930737147494,
          0.5211255264870472,
          0.5309579792593451,
          0.5407904320316429,
          0.5506228848039407,
          0.5604553375762386,
          0.5702877903485364,
          0.5801202431208342,
          0.5899526958931322,
          0.59978514866543,
          0.6096176014377278,
          0.6194500542100256,
          0.6292825069823235,
          0.6391149597546213,
          0.6489474125269191,
          0.658779865299217,
          0.6686123180715148,
          0.6784447708438127,
          0.6882772236161105,
          0.6981096763884084,
          0.7079421291607062,
          0.717774581933004,
          0.7276070347053019,
          0.7374394874775997,
          0.7472719402498975,
          0.7571043930221953,
          0.7669368457944933,
          0.7767692985667911,
          0.7866017513390889,
          0.7964342041113868,
          0.8062666568836846,
          0.8160991096559824,
          0.8259315624282803,
          0.8357640152005781,
          0.8455964679728759,
          0.8554289207451738,
          0.8652613735174717,
          0.8750938262897695,
          0.8849262790620673,
          0.8947587318343652,
          0.904591184606663,
          0.9144236373789608,
          0.9242560901512586,
          0.9340885429235565,
          0.9439209956958543,
          0.9537534484681522,
          0.9635859012404501,
          0.9734183540127479,
          0.9832508067850457
         ],
         "xaxis": "x",
         "y": [
          283.03936767578125,
          75.72128295898438,
          93.8849868774414,
          97.47264099121094,
          92.41192626953125,
          109.28462982177734,
          105.04618072509766,
          93.71070861816406,
          106.31219482421875,
          102.49754333496094,
          93.22681427001953,
          84.42675018310547,
          93.62098693847656,
          91.14181518554688,
          99.53233337402344,
          113.22474670410156,
          126.20914459228516,
          123.00934600830078,
          122.6556396484375,
          102.79338836669922,
          100.04232025146484,
          110.24212646484375,
          110.32670593261719,
          105.1014404296875,
          94.69969940185547,
          95.10334014892578,
          114.3193359375,
          113.16036987304688,
          111.4214859008789,
          119.3114242553711,
          127.94367218017578,
          112.22593688964844,
          114.34056091308594,
          112.73725128173828,
          112.40961456298828,
          110.97249603271484,
          110.97249603271484,
          109.7247085571289,
          101.15587615966797,
          105.16433715820312,
          107.16692352294922,
          107.16692352294922,
          136.79937744140625,
          226.55213928222656,
          135.4128875732422,
          135.35154724121094,
          139.23406982421875,
          139.15164184570312,
          246.54953002929688,
          136.65684509277344,
          136.69097900390625,
          176.47938537597656,
          168.05039978027344,
          133.66917419433594,
          149.95498657226562,
          153.84982299804688,
          166.37704467773438,
          197.041748046875,
          183.4004364013672,
          183.76930236816406,
          179.7337188720703,
          179.7337188720703,
          155.07044982910156,
          158.5268096923828,
          167.76449584960938,
          159.6747589111328,
          164.7099151611328,
          164.7099151611328,
          161.56536865234375,
          161.56536865234375,
          161.56536865234375,
          166.74786376953125,
          789.4636840820312,
          194.20106506347656,
          185.2100067138672,
          185.2100067138672,
          185.2100067138672,
          165.49522399902344,
          171.41851806640625,
          176.77545166015625,
          176.77545166015625,
          237.5295867919922,
          253.79779052734375,
          242.4467315673828,
          504.6322937011719,
          295.3672790527344,
          295.3672790527344,
          295.3672790527344,
          295.6209411621094,
          300.75872802734375,
          293.33868408203125,
          293.33868408203125,
          293.33868408203125,
          293.33868408203125,
          293.33868408203125,
          317.2234191894531,
          394.6639404296875,
          369.6108093261719,
          376.9651794433594,
          376.9651794433594,
          376.9651794433594
         ],
         "yaxis": "y",
         "type": "scatter",
         "opacity": 1
        }
       ],
       "layout": {
        "template": {
         "data": {
          "scatter": [
           {
            "type": "scatter"
           }
          ]
         }
        },
        "xaxis": {
         "anchor": "y",
         "domain": [
          0.0,
          0.475
         ],
         "title": {
          "text": ""
         },
         "showticklabels": true,
         "type": "linear",
         "gridwidth": 2,
         "zeroline": false,
         "automargin": true,
         "ticks": "outside",
         "tickcolor": "white",
         "ticklen": 3,
         "fixedrange": true
        },
        "yaxis": {
         "anchor": "x",
         "domain": [
          0.0,
          0.26666666666666666
         ],
         "title": {
          "text": ""
         },
         "range": [
          -49.16736602783203,
          1172.8155517578125
         ],
         "type": "linear",
         "gridwidth": 2,
         "zeroline": false,
         "automargin": true,
         "ticks": "outside",
         "tickcolor": "white",
         "ticklen": 3,
         "fixedrange": true
        },
        "xaxis2": {
         "anchor": "y2",
         "domain": [
          0.525,
          1.0
         ],
         "title": {
          "text": ""
         },
         "showticklabels": true,
         "type": "linear",
         "gridwidth": 2,
         "zeroline": false,
         "automargin": true,
         "ticks": "outside",
         "tickcolor": "white",
         "ticklen": 3,
         "fixedrange": true
        },
        "yaxis2": {
         "anchor": "x2",
         "domain": [
          0.0,
          0.26666666666666666
         ],
         "matches": "y",
         "showticklabels": false,
         "type": "linear",
         "gridwidth": 2,
         "zeroline": false,
         "automargin": true,
         "ticks": "outside",
         "tickcolor": "white",
         "ticklen": 3,
         "fixedrange": true,
         "title": {
          "text": ""
         }
        },
        "xaxis3": {
         "anchor": "y3",
         "domain": [
          0.0,
          0.475
         ],
         "showticklabels": true,
         "type": "linear",
         "gridwidth": 2,
         "zeroline": false,
         "automargin": true,
         "ticks": "outside",
         "tickcolor": "white",
         "ticklen": 3,
         "fixedrange": true,
         "title": {
          "text": ""
         }
        },
        "yaxis3": {
         "anchor": "x3",
         "domain": [
          0.36666666666666664,
          0.6333333333333333
         ],
         "matches": "y",
         "title": {
          "text": ""
         },
         "range": [
          -49.16736602783203,
          1172.8155517578125
         ],
         "type": "linear",
         "gridwidth": 2,
         "zeroline": false,
         "automargin": true,
         "ticks": "outside",
         "tickcolor": "white",
         "ticklen": 3,
         "fixedrange": true
        },
        "xaxis4": {
         "anchor": "y4",
         "domain": [
          0.525,
          1.0
         ],
         "showticklabels": true,
         "type": "linear",
         "gridwidth": 2,
         "zeroline": false,
         "automargin": true,
         "ticks": "outside",
         "tickcolor": "white",
         "ticklen": 3,
         "fixedrange": true,
         "title": {
          "text": ""
         }
        },
        "yaxis4": {
         "anchor": "x4",
         "domain": [
          0.36666666666666664,
          0.6333333333333333
         ],
         "matches": "y",
         "showticklabels": false,
         "type": "linear",
         "gridwidth": 2,
         "zeroline": false,
         "automargin": true,
         "ticks": "outside",
         "tickcolor": "white",
         "ticklen": 3,
         "fixedrange": true,
         "title": {
          "text": ""
         }
        },
        "xaxis5": {
         "anchor": "y5",
         "domain": [
          0.0,
          0.475
         ],
         "showticklabels": true,
         "type": "linear",
         "gridwidth": 2,
         "zeroline": false,
         "automargin": true,
         "ticks": "outside",
         "tickcolor": "white",
         "ticklen": 3,
         "fixedrange": true,
         "title": {
          "text": ""
         }
        },
        "yaxis5": {
         "anchor": "x5",
         "domain": [
          0.7333333333333333,
          1.0
         ],
         "matches": "y",
         "title": {
          "text": ""
         },
         "range": [
          -49.16736602783203,
          1172.8155517578125
         ],
         "type": "linear",
         "gridwidth": 2,
         "zeroline": false,
         "automargin": true,
         "ticks": "outside",
         "tickcolor": "white",
         "ticklen": 3,
         "fixedrange": true
        },
        "xaxis6": {
         "anchor": "y6",
         "domain": [
          0.525,
          1.0
         ],
         "showticklabels": true,
         "type": "linear",
         "gridwidth": 2,
         "zeroline": false,
         "automargin": true,
         "ticks": "outside",
         "tickcolor": "white",
         "ticklen": 3,
         "fixedrange": true,
         "title": {
          "text": ""
         }
        },
        "yaxis6": {
         "anchor": "x6",
         "domain": [
          0.7333333333333333,
          1.0
         ],
         "matches": "y",
         "showticklabels": false,
         "type": "linear",
         "gridwidth": 2,
         "zeroline": false,
         "automargin": true,
         "ticks": "outside",
         "tickcolor": "white",
         "ticklen": 3,
         "fixedrange": true,
         "title": {
          "text": ""
         }
        },
        "annotations": [
         {
          "font": {
           "size": 13
          },
          "showarrow": false,
          "text": "Topic 4",
          "x": 0.2375,
          "xanchor": "center",
          "xref": "paper",
          "y": 0.26666666666666666,
          "yanchor": "bottom",
          "yref": "paper"
         },
         {
          "font": {
           "size": 13
          },
          "showarrow": false,
          "text": "Topic 2",
          "x": 0.2375,
          "xanchor": "center",
          "xref": "paper",
          "y": 0.6333333333333333,
          "yanchor": "bottom",
          "yref": "paper"
         },
         {
          "font": {
           "size": 13
          },
          "showarrow": false,
          "text": "Topic 3",
          "x": 0.7625,
          "xanchor": "center",
          "xref": "paper",
          "y": 0.6333333333333333,
          "yanchor": "bottom",
          "yref": "paper"
         },
         {
          "font": {
           "size": 13
          },
          "showarrow": false,
          "text": "Topic 0",
          "x": 0.2375,
          "xanchor": "center",
          "xref": "paper",
          "y": 1.0,
          "yanchor": "bottom",
          "yref": "paper"
         },
         {
          "font": {
           "size": 13
          },
          "showarrow": false,
          "text": "Topic 1",
          "x": 0.7625,
          "xanchor": "center",
          "xref": "paper",
          "y": 1.0,
          "yanchor": "bottom",
          "yref": "paper"
         },
         {
          "font": {
           "size": 13
          },
          "showarrow": false,
          "text": "prediction",
          "textangle": -90,
          "x": -0.07,
          "xref": "paper",
          "y": 0.5,
          "yref": "paper"
         }
        ],
        "legend": {
         "title": {
          "text": "label",
          "font": {
           "size": 12
          }
         },
         "tracegroupgap": 0,
         "font": {
          "size": 11
         },
         "orientation": "h",
         "yanchor": "bottom",
         "y": 1.0256629597946962,
         "xanchor": "right",
         "x": 1,
         "itemsizing": "constant"
        },
        "margin": {
         "t": 78,
         "b": 71,
         "r": 30
        },
        "font": {
         "color": "#371ea3"
        },
        "title": {
         "font": {
          "size": 16
         },
         "text": "Aggregated Profiles",
         "x": 0.15
        },
        "hovermode": "x unified",
        "height": 1169
       },
       "config": {
        "plotlyServerURL": "https://plot.ly"
       }
      },
      "text/html": "<div>                            <div id=\"50a1c311-8945-444c-8911-687e2b5836f9\" class=\"plotly-graph-div\" style=\"height:1169px; width:100%;\"></div>            <script type=\"text/javascript\">                require([\"plotly\"], function(Plotly) {                    window.PLOTLYENV=window.PLOTLYENV || {};                                    if (document.getElementById(\"50a1c311-8945-444c-8911-687e2b5836f9\")) {                    Plotly.newPlot(                        \"50a1c311-8945-444c-8911-687e2b5836f9\",                        [{\"customdata\":[[98.50381469726562,\"XGBRegressor\",\"Topic 0\"],[98.50381469726562,\"XGBRegressor\",\"Topic 0\"],[98.50381469726562,\"XGBRegressor\",\"Topic 0\"],[98.50381469726562,\"XGBRegressor\",\"Topic 0\"],[98.50381469726562,\"XGBRegressor\",\"Topic 0\"],[98.50381469726562,\"XGBRegressor\",\"Topic 0\"],[98.50381469726562,\"XGBRegressor\",\"Topic 0\"],[98.50381469726562,\"XGBRegressor\",\"Topic 0\"],[98.50381469726562,\"XGBRegressor\",\"Topic 0\"],[98.50381469726562,\"XGBRegressor\",\"Topic 0\"],[98.50381469726562,\"XGBRegressor\",\"Topic 0\"],[98.50381469726562,\"XGBRegressor\",\"Topic 0\"],[98.50381469726562,\"XGBRegressor\",\"Topic 0\"],[98.50381469726562,\"XGBRegressor\",\"Topic 0\"],[98.50381469726562,\"XGBRegressor\",\"Topic 0\"],[98.50381469726562,\"XGBRegressor\",\"Topic 0\"],[98.50381469726562,\"XGBRegressor\",\"Topic 0\"],[98.50381469726562,\"XGBRegressor\",\"Topic 0\"],[98.50381469726562,\"XGBRegressor\",\"Topic 0\"],[98.50381469726562,\"XGBRegressor\",\"Topic 0\"],[98.50381469726562,\"XGBRegressor\",\"Topic 0\"],[98.50381469726562,\"XGBRegressor\",\"Topic 0\"],[98.50381469726562,\"XGBRegressor\",\"Topic 0\"],[98.50381469726562,\"XGBRegressor\",\"Topic 0\"],[98.50381469726562,\"XGBRegressor\",\"Topic 0\"],[98.50381469726562,\"XGBRegressor\",\"Topic 0\"],[98.50381469726562,\"XGBRegressor\",\"Topic 0\"],[98.50381469726562,\"XGBRegressor\",\"Topic 0\"],[98.50381469726562,\"XGBRegressor\",\"Topic 0\"],[98.50381469726562,\"XGBRegressor\",\"Topic 0\"],[98.50381469726562,\"XGBRegressor\",\"Topic 0\"],[98.50381469726562,\"XGBRegressor\",\"Topic 0\"],[98.50381469726562,\"XGBRegressor\",\"Topic 0\"],[98.50381469726562,\"XGBRegressor\",\"Topic 0\"],[98.50381469726562,\"XGBRegressor\",\"Topic 0\"],[98.50381469726562,\"XGBRegressor\",\"Topic 0\"],[98.50381469726562,\"XGBRegressor\",\"Topic 0\"],[98.50381469726562,\"XGBRegressor\",\"Topic 0\"],[98.50381469726562,\"XGBRegressor\",\"Topic 0\"],[98.50381469726562,\"XGBRegressor\",\"Topic 0\"],[98.50381469726562,\"XGBRegressor\",\"Topic 0\"],[98.50381469726562,\"XGBRegressor\",\"Topic 0\"],[98.50381469726562,\"XGBRegressor\",\"Topic 0\"],[98.50381469726562,\"XGBRegressor\",\"Topic 0\"],[98.50381469726562,\"XGBRegressor\",\"Topic 0\"],[98.50381469726562,\"XGBRegressor\",\"Topic 0\"],[98.50381469726562,\"XGBRegressor\",\"Topic 0\"],[98.50381469726562,\"XGBRegressor\",\"Topic 0\"],[98.50381469726562,\"XGBRegressor\",\"Topic 0\"],[98.50381469726562,\"XGBRegressor\",\"Topic 0\"],[98.50381469726562,\"XGBRegressor\",\"Topic 0\"],[98.50381469726562,\"XGBRegressor\",\"Topic 0\"],[98.50381469726562,\"XGBRegressor\",\"Topic 0\"],[98.50381469726562,\"XGBRegressor\",\"Topic 0\"],[98.50381469726562,\"XGBRegressor\",\"Topic 0\"],[98.50381469726562,\"XGBRegressor\",\"Topic 0\"],[98.50381469726562,\"XGBRegressor\",\"Topic 0\"],[98.50381469726562,\"XGBRegressor\",\"Topic 0\"],[98.50381469726562,\"XGBRegressor\",\"Topic 0\"],[98.50381469726562,\"XGBRegressor\",\"Topic 0\"],[98.50381469726562,\"XGBRegressor\",\"Topic 0\"],[98.50381469726562,\"XGBRegressor\",\"Topic 0\"],[98.50381469726562,\"XGBRegressor\",\"Topic 0\"],[98.50381469726562,\"XGBRegressor\",\"Topic 0\"],[98.50381469726562,\"XGBRegressor\",\"Topic 0\"],[98.50381469726562,\"XGBRegressor\",\"Topic 0\"],[98.50381469726562,\"XGBRegressor\",\"Topic 0\"],[98.50381469726562,\"XGBRegressor\",\"Topic 0\"],[98.50381469726562,\"XGBRegressor\",\"Topic 0\"],[98.50381469726562,\"XGBRegressor\",\"Topic 0\"],[98.50381469726562,\"XGBRegressor\",\"Topic 0\"],[98.50381469726562,\"XGBRegressor\",\"Topic 0\"],[98.50381469726562,\"XGBRegressor\",\"Topic 0\"],[98.50381469726562,\"XGBRegressor\",\"Topic 0\"],[98.50381469726562,\"XGBRegressor\",\"Topic 0\"],[98.50381469726562,\"XGBRegressor\",\"Topic 0\"],[98.50381469726562,\"XGBRegressor\",\"Topic 0\"],[98.50381469726562,\"XGBRegressor\",\"Topic 0\"],[98.50381469726562,\"XGBRegressor\",\"Topic 0\"],[98.50381469726562,\"XGBRegressor\",\"Topic 0\"],[98.50381469726562,\"XGBRegressor\",\"Topic 0\"],[98.50381469726562,\"XGBRegressor\",\"Topic 0\"],[98.50381469726562,\"XGBRegressor\",\"Topic 0\"],[98.50381469726562,\"XGBRegressor\",\"Topic 0\"],[98.50381469726562,\"XGBRegressor\",\"Topic 0\"],[98.50381469726562,\"XGBRegressor\",\"Topic 0\"],[98.50381469726562,\"XGBRegressor\",\"Topic 0\"],[98.50381469726562,\"XGBRegressor\",\"Topic 0\"],[98.50381469726562,\"XGBRegressor\",\"Topic 0\"],[98.50381469726562,\"XGBRegressor\",\"Topic 0\"],[98.50381469726562,\"XGBRegressor\",\"Topic 0\"],[98.50381469726562,\"XGBRegressor\",\"Topic 0\"],[98.50381469726562,\"XGBRegressor\",\"Topic 0\"],[98.50381469726562,\"XGBRegressor\",\"Topic 0\"],[98.50381469726562,\"XGBRegressor\",\"Topic 0\"],[98.50381469726562,\"XGBRegressor\",\"Topic 0\"],[98.50381469726562,\"XGBRegressor\",\"Topic 0\"],[98.50381469726562,\"XGBRegressor\",\"Topic 0\"],[98.50381469726562,\"XGBRegressor\",\"Topic 0\"],[98.50381469726562,\"XGBRegressor\",\"Topic 0\"],[98.50381469726562,\"XGBRegressor\",\"Topic 0\"]],\"hovertemplate\":\"<b>%{hovertext}</b><br><br>prediction=%{y:.3f}<br>mean_prediction=%{customdata[0]:.3f}<extra></extra>\",\"hovertext\":[\"XGBRegressor\",\"XGBRegressor\",\"XGBRegressor\",\"XGBRegressor\",\"XGBRegressor\",\"XGBRegressor\",\"XGBRegressor\",\"XGBRegressor\",\"XGBRegressor\",\"XGBRegressor\",\"XGBRegressor\",\"XGBRegressor\",\"XGBRegressor\",\"XGBRegressor\",\"XGBRegressor\",\"XGBRegressor\",\"XGBRegressor\",\"XGBRegressor\",\"XGBRegressor\",\"XGBRegressor\",\"XGBRegressor\",\"XGBRegressor\",\"XGBRegressor\",\"XGBRegressor\",\"XGBRegressor\",\"XGBRegressor\",\"XGBRegressor\",\"XGBRegressor\",\"XGBRegressor\",\"XGBRegressor\",\"XGBRegressor\",\"XGBRegressor\",\"XGBRegressor\",\"XGBRegressor\",\"XGBRegressor\",\"XGBRegressor\",\"XGBRegressor\",\"XGBRegressor\",\"XGBRegressor\",\"XGBRegressor\",\"XGBRegressor\",\"XGBRegressor\",\"XGBRegressor\",\"XGBRegressor\",\"XGBRegressor\",\"XGBRegressor\",\"XGBRegressor\",\"XGBRegressor\",\"XGBRegressor\",\"XGBRegressor\",\"XGBRegressor\",\"XGBRegressor\",\"XGBRegressor\",\"XGBRegressor\",\"XGBRegressor\",\"XGBRegressor\",\"XGBRegressor\",\"XGBRegressor\",\"XGBRegressor\",\"XGBRegressor\",\"XGBRegressor\",\"XGBRegressor\",\"XGBRegressor\",\"XGBRegressor\",\"XGBRegressor\",\"XGBRegressor\",\"XGBRegressor\",\"XGBRegressor\",\"XGBRegressor\",\"XGBRegressor\",\"XGBRegressor\",\"XGBRegressor\",\"XGBRegressor\",\"XGBRegressor\",\"XGBRegressor\",\"XGBRegressor\",\"XGBRegressor\",\"XGBRegressor\",\"XGBRegressor\",\"XGBRegressor\",\"XGBRegressor\",\"XGBRegressor\",\"XGBRegressor\",\"XGBRegressor\",\"XGBRegressor\",\"XGBRegressor\",\"XGBRegressor\",\"XGBRegressor\",\"XGBRegressor\",\"XGBRegressor\",\"XGBRegressor\",\"XGBRegressor\",\"XGBRegressor\",\"XGBRegressor\",\"XGBRegressor\",\"XGBRegressor\",\"XGBRegressor\",\"XGBRegressor\",\"XGBRegressor\",\"XGBRegressor\",\"XGBRegressor\"],\"legendgroup\":\"XGBRegressor\",\"line\":{\"color\":\"#46bac2\",\"dash\":\"solid\",\"width\":2},\"marker\":{\"symbol\":\"circle\"},\"mode\":\"lines\",\"name\":\"XGBRegressor\",\"orientation\":\"v\",\"showlegend\":true,\"x\":[5.529725088220039e-06,0.010005050285362955,0.02000457084563769,0.03000409140591243,0.040003611966187166,0.0500031325264619,0.06000265308673664,0.07000217364701136,0.0800016942072861,0.09000121476756084,0.10000073532783557,0.11000025588811031,0.11999977644838505,0.12999929700865978,0.1399988175689345,0.14999833812920926,0.159997858689484,0.16999737924975872,0.17999689981003347,0.1899964203703082,0.19999594093058293,0.20999546149085768,0.2199949820511324,0.22999450261140714,0.2399940231716819,0.24999354373195662,0.25999306429223135,0.2699925848525061,0.2799921054127808,0.28999162597305556,0.2999911465333303,0.309990667093605,0.31999018765387977,0.3299897082141545,0.3399892287744292,0.349988749334704,0.35998826989497873,0.36998779045525343,0.3799873110155282,0.38998683157580294,0.39998635213607764,0.4099858726963524,0.41998539325662715,0.42998491381690185,0.4399844343771766,0.44998395493745136,0.45998347549772606,0.4699829960580008,0.47998251661827557,0.48998203717855027,0.499981557738825,0.5099810782990998,0.5199805988593745,0.5299801194196493,0.539979639979924,0.5499791605401988,0.5599786811004734,0.5699782016607482,0.579977722221023,0.5899772427812977,0.5999767633415725,0.6099762839018472,0.6199758044621219,0.6299753250223966,0.6399748455826714,0.6499743661429461,0.6599738867032209,0.6699734072634955,0.6799729278237703,0.689972448384045,0.6999719689443198,0.7099714895045945,0.7199710100648693,0.7299705306251439,0.7399700511854187,0.7499695717456935,0.7599690923059682,0.769968612866243,0.7799681334265177,0.7899676539867924,0.7999671745470671,0.8099666951073419,0.8199662156676166,0.8299657362278914,0.8399652567881661,0.8499647773484408,0.8599642979087155,0.8699638184689903,0.879963339029265,0.8899628595895398,0.8999623801498146,0.9099619007100892,0.919961421270364,0.9299609418306387,0.9399604623909135,0.9499599829511882,0.959959503511463,0.9699590240717376,0.9799585446320124,0.9899580651922871,0.9999575857525619],\"xaxis\":\"x5\",\"y\":[296.010986328125,125.89434814453125,95.17671966552734,114.52708435058594,80.03091430664062,81.40878295898438,82.81755828857422,85.24629974365234,81.60490417480469,82.05391693115234,81.97051239013672,82.7296371459961,82.40541076660156,83.20094299316406,83.75448608398438,83.58299255371094,83.58299255371094,89.7802505493164,89.6146240234375,90.12382507324219,90.12382507324219,90.12382507324219,90.12382507324219,89.82068634033203,89.82068634033203,89.82068634033203,89.82068634033203,93.94906616210938,93.94906616210938,93.44725799560547,93.44725799560547,93.12340545654297,151.32432556152344,151.51675415039062,151.88116455078125,151.88116455078125,151.88116455078125,185.6946563720703,127.12548828125,133.064697265625,188.92832946777344,187.37359619140625,225.66134643554688,228.04522705078125,228.04522705078125,193.18701171875,193.19033813476562,189.5638885498047,189.5638885498047,165.98733520507812,148.01063537597656,148.01063537597656,144.41012573242188,143.8417205810547,144.1474609375,144.1474609375,146.27745056152344,147.63771057128906,148.5099639892578,148.7640380859375,148.7640380859375,156.6823272705078,157.135498046875,156.4747314453125,154.18777465820312,154.19876098632812,159.03878784179688,179.3567657470703,177.00628662109375,181.822021484375,188.77159118652344,184.01405334472656,181.01914978027344,181.59597778320312,186.94619750976562,208.22817993164062,208.22232055664062,182.73146057128906,182.92335510253906,183.16822814941406,183.16822814941406,183.16822814941406,182.17684936523438,182.17684936523438,181.51339721679688,181.51339721679688,181.51339721679688,192.79290771484375,556.6912841796875,559.676025390625,1070.983642578125,679.43408203125,679.43408203125,646.6250610351562,551.634765625,543.0940551757812,543.0940551757812,543.0791015625,543.0791015625,541.2815551757812,541.2815551757812],\"yaxis\":\"y5\",\"type\":\"scatter\",\"opacity\":1},{\"customdata\":[[98.50381469726562,\"XGBRegressor\",\"Topic 1\"],[98.50381469726562,\"XGBRegressor\",\"Topic 1\"],[98.50381469726562,\"XGBRegressor\",\"Topic 1\"],[98.50381469726562,\"XGBRegressor\",\"Topic 1\"],[98.50381469726562,\"XGBRegressor\",\"Topic 1\"],[98.50381469726562,\"XGBRegressor\",\"Topic 1\"],[98.50381469726562,\"XGBRegressor\",\"Topic 1\"],[98.50381469726562,\"XGBRegressor\",\"Topic 1\"],[98.50381469726562,\"XGBRegressor\",\"Topic 1\"],[98.50381469726562,\"XGBRegressor\",\"Topic 1\"],[98.50381469726562,\"XGBRegressor\",\"Topic 1\"],[98.50381469726562,\"XGBRegressor\",\"Topic 1\"],[98.50381469726562,\"XGBRegressor\",\"Topic 1\"],[98.50381469726562,\"XGBRegressor\",\"Topic 1\"],[98.50381469726562,\"XGBRegressor\",\"Topic 1\"],[98.50381469726562,\"XGBRegressor\",\"Topic 1\"],[98.50381469726562,\"XGBRegressor\",\"Topic 1\"],[98.50381469726562,\"XGBRegressor\",\"Topic 1\"],[98.50381469726562,\"XGBRegressor\",\"Topic 1\"],[98.50381469726562,\"XGBRegressor\",\"Topic 1\"],[98.50381469726562,\"XGBRegressor\",\"Topic 1\"],[98.50381469726562,\"XGBRegressor\",\"Topic 1\"],[98.50381469726562,\"XGBRegressor\",\"Topic 1\"],[98.50381469726562,\"XGBRegressor\",\"Topic 1\"],[98.50381469726562,\"XGBRegressor\",\"Topic 1\"],[98.50381469726562,\"XGBRegressor\",\"Topic 1\"],[98.50381469726562,\"XGBRegressor\",\"Topic 1\"],[98.50381469726562,\"XGBRegressor\",\"Topic 1\"],[98.50381469726562,\"XGBRegressor\",\"Topic 1\"],[98.50381469726562,\"XGBRegressor\",\"Topic 1\"],[98.50381469726562,\"XGBRegressor\",\"Topic 1\"],[98.50381469726562,\"XGBRegressor\",\"Topic 1\"],[98.50381469726562,\"XGBRegressor\",\"Topic 1\"],[98.50381469726562,\"XGBRegressor\",\"Topic 1\"],[98.50381469726562,\"XGBRegressor\",\"Topic 1\"],[98.50381469726562,\"XGBRegressor\",\"Topic 1\"],[98.50381469726562,\"XGBRegressor\",\"Topic 1\"],[98.50381469726562,\"XGBRegressor\",\"Topic 1\"],[98.50381469726562,\"XGBRegressor\",\"Topic 1\"],[98.50381469726562,\"XGBRegressor\",\"Topic 1\"],[98.50381469726562,\"XGBRegressor\",\"Topic 1\"],[98.50381469726562,\"XGBRegressor\",\"Topic 1\"],[98.50381469726562,\"XGBRegressor\",\"Topic 1\"],[98.50381469726562,\"XGBRegressor\",\"Topic 1\"],[98.50381469726562,\"XGBRegressor\",\"Topic 1\"],[98.50381469726562,\"XGBRegressor\",\"Topic 1\"],[98.50381469726562,\"XGBRegressor\",\"Topic 1\"],[98.50381469726562,\"XGBRegressor\",\"Topic 1\"],[98.50381469726562,\"XGBRegressor\",\"Topic 1\"],[98.50381469726562,\"XGBRegressor\",\"Topic 1\"],[98.50381469726562,\"XGBRegressor\",\"Topic 1\"],[98.50381469726562,\"XGBRegressor\",\"Topic 1\"],[98.50381469726562,\"XGBRegressor\",\"Topic 1\"],[98.50381469726562,\"XGBRegressor\",\"Topic 1\"],[98.50381469726562,\"XGBRegressor\",\"Topic 1\"],[98.50381469726562,\"XGBRegressor\",\"Topic 1\"],[98.50381469726562,\"XGBRegressor\",\"Topic 1\"],[98.50381469726562,\"XGBRegressor\",\"Topic 1\"],[98.50381469726562,\"XGBRegressor\",\"Topic 1\"],[98.50381469726562,\"XGBRegressor\",\"Topic 1\"],[98.50381469726562,\"XGBRegressor\",\"Topic 1\"],[98.50381469726562,\"XGBRegressor\",\"Topic 1\"],[98.50381469726562,\"XGBRegressor\",\"Topic 1\"],[98.50381469726562,\"XGBRegressor\",\"Topic 1\"],[98.50381469726562,\"XGBRegressor\",\"Topic 1\"],[98.50381469726562,\"XGBRegressor\",\"Topic 1\"],[98.50381469726562,\"XGBRegressor\",\"Topic 1\"],[98.50381469726562,\"XGBRegressor\",\"Topic 1\"],[98.50381469726562,\"XGBRegressor\",\"Topic 1\"],[98.50381469726562,\"XGBRegressor\",\"Topic 1\"],[98.50381469726562,\"XGBRegressor\",\"Topic 1\"],[98.50381469726562,\"XGBRegressor\",\"Topic 1\"],[98.50381469726562,\"XGBRegressor\",\"Topic 1\"],[98.50381469726562,\"XGBRegressor\",\"Topic 1\"],[98.50381469726562,\"XGBRegressor\",\"Topic 1\"],[98.50381469726562,\"XGBRegressor\",\"Topic 1\"],[98.50381469726562,\"XGBRegressor\",\"Topic 1\"],[98.50381469726562,\"XGBRegressor\",\"Topic 1\"],[98.50381469726562,\"XGBRegressor\",\"Topic 1\"],[98.50381469726562,\"XGBRegressor\",\"Topic 1\"],[98.50381469726562,\"XGBRegressor\",\"Topic 1\"],[98.50381469726562,\"XGBRegressor\",\"Topic 1\"],[98.50381469726562,\"XGBRegressor\",\"Topic 1\"],[98.50381469726562,\"XGBRegressor\",\"Topic 1\"],[98.50381469726562,\"XGBRegressor\",\"Topic 1\"],[98.50381469726562,\"XGBRegressor\",\"Topic 1\"],[98.50381469726562,\"XGBRegressor\",\"Topic 1\"],[98.50381469726562,\"XGBRegressor\",\"Topic 1\"],[98.50381469726562,\"XGBRegressor\",\"Topic 1\"],[98.50381469726562,\"XGBRegressor\",\"Topic 1\"],[98.50381469726562,\"XGBRegressor\",\"Topic 1\"],[98.50381469726562,\"XGBRegressor\",\"Topic 1\"],[98.50381469726562,\"XGBRegressor\",\"Topic 1\"],[98.50381469726562,\"XGBRegressor\",\"Topic 1\"],[98.50381469726562,\"XGBRegressor\",\"Topic 1\"],[98.50381469726562,\"XGBRegressor\",\"Topic 1\"],[98.50381469726562,\"XGBRegressor\",\"Topic 1\"],[98.50381469726562,\"XGBRegressor\",\"Topic 1\"],[98.50381469726562,\"XGBRegressor\",\"Topic 1\"],[98.50381469726562,\"XGBRegressor\",\"Topic 1\"],[98.50381469726562,\"XGBRegressor\",\"Topic 1\"]],\"hovertemplate\":\"<b>%{hovertext}</b><br><br>prediction=%{y:.3f}<br>mean_prediction=%{customdata[0]:.3f}<extra></extra>\",\"hovertext\":[\"XGBRegressor\",\"XGBRegressor\",\"XGBRegressor\",\"XGBRegressor\",\"XGBRegressor\",\"XGBRegressor\",\"XGBRegressor\",\"XGBRegressor\",\"XGBRegressor\",\"XGBRegressor\",\"XGBRegressor\",\"XGBRegressor\",\"XGBRegressor\",\"XGBRegressor\",\"XGBRegressor\",\"XGBRegressor\",\"XGBRegressor\",\"XGBRegressor\",\"XGBRegressor\",\"XGBRegressor\",\"XGBRegressor\",\"XGBRegressor\",\"XGBRegressor\",\"XGBRegressor\",\"XGBRegressor\",\"XGBRegressor\",\"XGBRegressor\",\"XGBRegressor\",\"XGBRegressor\",\"XGBRegressor\",\"XGBRegressor\",\"XGBRegressor\",\"XGBRegressor\",\"XGBRegressor\",\"XGBRegressor\",\"XGBRegressor\",\"XGBRegressor\",\"XGBRegressor\",\"XGBRegressor\",\"XGBRegressor\",\"XGBRegressor\",\"XGBRegressor\",\"XGBRegressor\",\"XGBRegressor\",\"XGBRegressor\",\"XGBRegressor\",\"XGBRegressor\",\"XGBRegressor\",\"XGBRegressor\",\"XGBRegressor\",\"XGBRegressor\",\"XGBRegressor\",\"XGBRegressor\",\"XGBRegressor\",\"XGBRegressor\",\"XGBRegressor\",\"XGBRegressor\",\"XGBRegressor\",\"XGBRegressor\",\"XGBRegressor\",\"XGBRegressor\",\"XGBRegressor\",\"XGBRegressor\",\"XGBRegressor\",\"XGBRegressor\",\"XGBRegressor\",\"XGBRegressor\",\"XGBRegressor\",\"XGBRegressor\",\"XGBRegressor\",\"XGBRegressor\",\"XGBRegressor\",\"XGBRegressor\",\"XGBRegressor\",\"XGBRegressor\",\"XGBRegressor\",\"XGBRegressor\",\"XGBRegressor\",\"XGBRegressor\",\"XGBRegressor\",\"XGBRegressor\",\"XGBRegressor\",\"XGBRegressor\",\"XGBRegressor\",\"XGBRegressor\",\"XGBRegressor\",\"XGBRegressor\",\"XGBRegressor\",\"XGBRegressor\",\"XGBRegressor\",\"XGBRegressor\",\"XGBRegressor\",\"XGBRegressor\",\"XGBRegressor\",\"XGBRegressor\",\"XGBRegressor\",\"XGBRegressor\",\"XGBRegressor\",\"XGBRegressor\",\"XGBRegressor\",\"XGBRegressor\"],\"legendgroup\":\"XGBRegressor\",\"line\":{\"color\":\"#46bac2\",\"dash\":\"solid\",\"width\":2},\"marker\":{\"symbol\":\"circle\"},\"mode\":\"lines\",\"name\":\"XGBRegressor\",\"orientation\":\"v\",\"showlegend\":false,\"x\":[5.5312556993607244e-06,0.009867139814019286,0.019728748372339212,0.029590356930659138,0.039451965488979064,0.04931357404729899,0.059175182605618916,0.06903679116393885,0.07889839972225877,0.0887600082805787,0.09862161683889863,0.10848322539721855,0.11834483395553848,0.12820644251385838,0.13806805107217832,0.14792965963049826,0.15779126818881817,0.16765287674713808,0.17751448530545802,0.18737609386377796,0.19723770242209787,0.20709931098041778,0.21696091953873772,0.22682252809705766,0.23668413665537757,0.2465457452136975,0.2564073537720174,0.26626896233033737,0.2761305708886573,0.2859921794469772,0.29585378800529716,0.30571539656361707,0.315577005121937,0.3254386136802569,0.3353002222385768,0.3451618307968968,0.3550234393552167,0.3648850479135366,0.37474665647185657,0.3846082650301765,0.3944698735884964,0.4043314821468163,0.4141930907051362,0.4240546992634562,0.4339163078217761,0.443777916380096,0.45363952493841597,0.4635011334967359,0.4733627420550558,0.4832243506133757,0.4930859591716956,0.5029475677300156,0.5128091762883354,0.5226707848466554,0.5325323934049754,0.5423940019632952,0.5522556105216152,0.5621172190799352,0.571978827638255,0.581840436196575,0.591702044754895,0.6015636533132148,0.6114252618715348,0.6212868704298546,0.6311484789881746,0.6410100875464946,0.6508716961048144,0.6607333046631344,0.6705949132214543,0.6804565217797742,0.6903181303380942,0.700179738896414,0.710041347454734,0.719902956013054,0.7297645645713738,0.7396261731296938,0.7494877816880138,0.7593493902463336,0.7692109988046536,0.7790726073629735,0.7889342159212934,0.7987958244796134,0.8086574330379332,0.8185190415962532,0.8283806501545731,0.838242258712893,0.848103867271213,0.8579654758295329,0.8678270843878528,0.8776886929461728,0.8875503015044927,0.8974119100628126,0.9072735186211326,0.9171351271794524,0.9269967357377724,0.9368583442960923,0.9467199528544122,0.9565815614127322,0.9664431699710521,0.976304778529372,0.986166387087692],\"xaxis\":\"x6\",\"y\":[409.81903076171875,80.13884735107422,96.92159271240234,112.09028625488281,100.80561828613281,83.39744567871094,89.7203140258789,89.16678619384766,85.84900665283203,84.68576049804688,94.13129425048828,85.98776245117188,92.33502197265625,83.46455383300781,89.87464904785156,92.92452239990234,96.90513610839844,93.2326431274414,94.56501770019531,107.76103973388672,108.16370391845703,114.40386199951172,109.38580322265625,135.95123291015625,143.03330993652344,205.5038604736328,134.50926208496094,135.39117431640625,135.3735809326172,135.33642578125,135.69654846191406,134.5170135498047,134.63560485839844,139.06100463867188,175.42245483398438,164.8976593017578,165.13352966308594,165.22909545898438,159.86444091796875,160.845947265625,165.2517852783203,175.5287628173828,153.88816833496094,128.97021484375,110.77031707763672,114.00668334960938,115.79907989501953,109.1418228149414,108.86360168457031,109.20472717285156,111.10492706298828,110.97260284423828,110.42427062988281,110.42427062988281,110.43730163574219,110.88530731201172,123.60205841064453,123.63164520263672,169.4962615966797,137.2175750732422,137.2175750732422,137.2175750732422,137.2798309326172,137.2798309326172,145.74354553222656,145.89454650878906,145.89454650878906,150.4073944091797,178.4871063232422,142.4097442626953,138.17294311523438,138.17294311523438,144.4381561279297,144.4381561279297,134.5907440185547,136.17405700683594,136.17405700683594,136.19509887695312,136.19509887695312,138.39134216308594,138.39134216308594,163.11465454101562,163.11465454101562,163.11465454101562,167.2625274658203,152.88339233398438,152.88339233398438,152.88339233398438,152.88339233398438,153.7938995361328,153.7938995361328,187.68896484375,186.814453125,160.29074096679688,160.29074096679688,160.29074096679688,128.78753662109375,128.78753662109375,123.85270690917969,123.85270690917969,123.85270690917969],\"yaxis\":\"y6\",\"type\":\"scatter\",\"opacity\":1},{\"customdata\":[[98.50381469726562,\"XGBRegressor\",\"Topic 2\"],[98.50381469726562,\"XGBRegressor\",\"Topic 2\"],[98.50381469726562,\"XGBRegressor\",\"Topic 2\"],[98.50381469726562,\"XGBRegressor\",\"Topic 2\"],[98.50381469726562,\"XGBRegressor\",\"Topic 2\"],[98.50381469726562,\"XGBRegressor\",\"Topic 2\"],[98.50381469726562,\"XGBRegressor\",\"Topic 2\"],[98.50381469726562,\"XGBRegressor\",\"Topic 2\"],[98.50381469726562,\"XGBRegressor\",\"Topic 2\"],[98.50381469726562,\"XGBRegressor\",\"Topic 2\"],[98.50381469726562,\"XGBRegressor\",\"Topic 2\"],[98.50381469726562,\"XGBRegressor\",\"Topic 2\"],[98.50381469726562,\"XGBRegressor\",\"Topic 2\"],[98.50381469726562,\"XGBRegressor\",\"Topic 2\"],[98.50381469726562,\"XGBRegressor\",\"Topic 2\"],[98.50381469726562,\"XGBRegressor\",\"Topic 2\"],[98.50381469726562,\"XGBRegressor\",\"Topic 2\"],[98.50381469726562,\"XGBRegressor\",\"Topic 2\"],[98.50381469726562,\"XGBRegressor\",\"Topic 2\"],[98.50381469726562,\"XGBRegressor\",\"Topic 2\"],[98.50381469726562,\"XGBRegressor\",\"Topic 2\"],[98.50381469726562,\"XGBRegressor\",\"Topic 2\"],[98.50381469726562,\"XGBRegressor\",\"Topic 2\"],[98.50381469726562,\"XGBRegressor\",\"Topic 2\"],[98.50381469726562,\"XGBRegressor\",\"Topic 2\"],[98.50381469726562,\"XGBRegressor\",\"Topic 2\"],[98.50381469726562,\"XGBRegressor\",\"Topic 2\"],[98.50381469726562,\"XGBRegressor\",\"Topic 2\"],[98.50381469726562,\"XGBRegressor\",\"Topic 2\"],[98.50381469726562,\"XGBRegressor\",\"Topic 2\"],[98.50381469726562,\"XGBRegressor\",\"Topic 2\"],[98.50381469726562,\"XGBRegressor\",\"Topic 2\"],[98.50381469726562,\"XGBRegressor\",\"Topic 2\"],[98.50381469726562,\"XGBRegressor\",\"Topic 2\"],[98.50381469726562,\"XGBRegressor\",\"Topic 2\"],[98.50381469726562,\"XGBRegressor\",\"Topic 2\"],[98.50381469726562,\"XGBRegressor\",\"Topic 2\"],[98.50381469726562,\"XGBRegressor\",\"Topic 2\"],[98.50381469726562,\"XGBRegressor\",\"Topic 2\"],[98.50381469726562,\"XGBRegressor\",\"Topic 2\"],[98.50381469726562,\"XGBRegressor\",\"Topic 2\"],[98.50381469726562,\"XGBRegressor\",\"Topic 2\"],[98.50381469726562,\"XGBRegressor\",\"Topic 2\"],[98.50381469726562,\"XGBRegressor\",\"Topic 2\"],[98.50381469726562,\"XGBRegressor\",\"Topic 2\"],[98.50381469726562,\"XGBRegressor\",\"Topic 2\"],[98.50381469726562,\"XGBRegressor\",\"Topic 2\"],[98.50381469726562,\"XGBRegressor\",\"Topic 2\"],[98.50381469726562,\"XGBRegressor\",\"Topic 2\"],[98.50381469726562,\"XGBRegressor\",\"Topic 2\"],[98.50381469726562,\"XGBRegressor\",\"Topic 2\"],[98.50381469726562,\"XGBRegressor\",\"Topic 2\"],[98.50381469726562,\"XGBRegressor\",\"Topic 2\"],[98.50381469726562,\"XGBRegressor\",\"Topic 2\"],[98.50381469726562,\"XGBRegressor\",\"Topic 2\"],[98.50381469726562,\"XGBRegressor\",\"Topic 2\"],[98.50381469726562,\"XGBRegressor\",\"Topic 2\"],[98.50381469726562,\"XGBRegressor\",\"Topic 2\"],[98.50381469726562,\"XGBRegressor\",\"Topic 2\"],[98.50381469726562,\"XGBRegressor\",\"Topic 2\"],[98.50381469726562,\"XGBRegressor\",\"Topic 2\"],[98.50381469726562,\"XGBRegressor\",\"Topic 2\"],[98.50381469726562,\"XGBRegressor\",\"Topic 2\"],[98.50381469726562,\"XGBRegressor\",\"Topic 2\"],[98.50381469726562,\"XGBRegressor\",\"Topic 2\"],[98.50381469726562,\"XGBRegressor\",\"Topic 2\"],[98.50381469726562,\"XGBRegressor\",\"Topic 2\"],[98.50381469726562,\"XGBRegressor\",\"Topic 2\"],[98.50381469726562,\"XGBRegressor\",\"Topic 2\"],[98.50381469726562,\"XGBRegressor\",\"Topic 2\"],[98.50381469726562,\"XGBRegressor\",\"Topic 2\"],[98.50381469726562,\"XGBRegressor\",\"Topic 2\"],[98.50381469726562,\"XGBRegressor\",\"Topic 2\"],[98.50381469726562,\"XGBRegressor\",\"Topic 2\"],[98.50381469726562,\"XGBRegressor\",\"Topic 2\"],[98.50381469726562,\"XGBRegressor\",\"Topic 2\"],[98.50381469726562,\"XGBRegressor\",\"Topic 2\"],[98.50381469726562,\"XGBRegressor\",\"Topic 2\"],[98.50381469726562,\"XGBRegressor\",\"Topic 2\"],[98.50381469726562,\"XGBRegressor\",\"Topic 2\"],[98.50381469726562,\"XGBRegressor\",\"Topic 2\"],[98.50381469726562,\"XGBRegressor\",\"Topic 2\"],[98.50381469726562,\"XGBRegressor\",\"Topic 2\"],[98.50381469726562,\"XGBRegressor\",\"Topic 2\"],[98.50381469726562,\"XGBRegressor\",\"Topic 2\"],[98.50381469726562,\"XGBRegressor\",\"Topic 2\"],[98.50381469726562,\"XGBRegressor\",\"Topic 2\"],[98.50381469726562,\"XGBRegressor\",\"Topic 2\"],[98.50381469726562,\"XGBRegressor\",\"Topic 2\"],[98.50381469726562,\"XGBRegressor\",\"Topic 2\"],[98.50381469726562,\"XGBRegressor\",\"Topic 2\"],[98.50381469726562,\"XGBRegressor\",\"Topic 2\"],[98.50381469726562,\"XGBRegressor\",\"Topic 2\"],[98.50381469726562,\"XGBRegressor\",\"Topic 2\"],[98.50381469726562,\"XGBRegressor\",\"Topic 2\"],[98.50381469726562,\"XGBRegressor\",\"Topic 2\"],[98.50381469726562,\"XGBRegressor\",\"Topic 2\"],[98.50381469726562,\"XGBRegressor\",\"Topic 2\"],[98.50381469726562,\"XGBRegressor\",\"Topic 2\"],[98.50381469726562,\"XGBRegressor\",\"Topic 2\"],[98.50381469726562,\"XGBRegressor\",\"Topic 2\"]],\"hovertemplate\":\"<b>%{hovertext}</b><br><br>prediction=%{y:.3f}<br>mean_prediction=%{customdata[0]:.3f}<extra></extra>\",\"hovertext\":[\"XGBRegressor\",\"XGBRegressor\",\"XGBRegressor\",\"XGBRegressor\",\"XGBRegressor\",\"XGBRegressor\",\"XGBRegressor\",\"XGBRegressor\",\"XGBRegressor\",\"XGBRegressor\",\"XGBRegressor\",\"XGBRegressor\",\"XGBRegressor\",\"XGBRegressor\",\"XGBRegressor\",\"XGBRegressor\",\"XGBRegressor\",\"XGBRegressor\",\"XGBRegressor\",\"XGBRegressor\",\"XGBRegressor\",\"XGBRegressor\",\"XGBRegressor\",\"XGBRegressor\",\"XGBRegressor\",\"XGBRegressor\",\"XGBRegressor\",\"XGBRegressor\",\"XGBRegressor\",\"XGBRegressor\",\"XGBRegressor\",\"XGBRegressor\",\"XGBRegressor\",\"XGBRegressor\",\"XGBRegressor\",\"XGBRegressor\",\"XGBRegressor\",\"XGBRegressor\",\"XGBRegressor\",\"XGBRegressor\",\"XGBRegressor\",\"XGBRegressor\",\"XGBRegressor\",\"XGBRegressor\",\"XGBRegressor\",\"XGBRegressor\",\"XGBRegressor\",\"XGBRegressor\",\"XGBRegressor\",\"XGBRegressor\",\"XGBRegressor\",\"XGBRegressor\",\"XGBRegressor\",\"XGBRegressor\",\"XGBRegressor\",\"XGBRegressor\",\"XGBRegressor\",\"XGBRegressor\",\"XGBRegressor\",\"XGBRegressor\",\"XGBRegressor\",\"XGBRegressor\",\"XGBRegressor\",\"XGBRegressor\",\"XGBRegressor\",\"XGBRegressor\",\"XGBRegressor\",\"XGBRegressor\",\"XGBRegressor\",\"XGBRegressor\",\"XGBRegressor\",\"XGBRegressor\",\"XGBRegressor\",\"XGBRegressor\",\"XGBRegressor\",\"XGBRegressor\",\"XGBRegressor\",\"XGBRegressor\",\"XGBRegressor\",\"XGBRegressor\",\"XGBRegressor\",\"XGBRegressor\",\"XGBRegressor\",\"XGBRegressor\",\"XGBRegressor\",\"XGBRegressor\",\"XGBRegressor\",\"XGBRegressor\",\"XGBRegressor\",\"XGBRegressor\",\"XGBRegressor\",\"XGBRegressor\",\"XGBRegressor\",\"XGBRegressor\",\"XGBRegressor\",\"XGBRegressor\",\"XGBRegressor\",\"XGBRegressor\",\"XGBRegressor\",\"XGBRegressor\",\"XGBRegressor\"],\"legendgroup\":\"XGBRegressor\",\"line\":{\"color\":\"#46bac2\",\"dash\":\"solid\",\"width\":2},\"marker\":{\"symbol\":\"circle\"},\"mode\":\"lines\",\"name\":\"XGBRegressor\",\"orientation\":\"v\",\"showlegend\":false,\"x\":[5.531031768232235e-06,0.010004168880822596,0.020002806729876962,0.030001444578931325,0.04000008242798569,0.049998720277040054,0.05999735812609441,0.06999599597514879,0.07999463382420315,0.0899932716732575,0.09999190952231188,0.10999054737136624,0.1199891852204206,0.12998782306947496,0.13998646091852934,0.1499850987675837,0.15998373661663806,0.16998237446569242,0.17998101231474678,0.18997965016380117,0.19997828801285553,0.20997692586190989,0.21997556371096424,0.2299742015600186,0.23997283940907296,0.24997147725812735,0.2599701151071817,0.2699687529562361,0.2799673908052905,0.28996602865434484,0.2999646665033992,0.30996330435245356,0.3199619422015079,0.3299605800505623,0.33995921789961664,0.349957855748671,0.35995649359772536,0.3699551314467797,0.37995376929583413,0.3899524071448885,0.39995104499394285,0.4099496828429972,0.41994832069205157,0.42994695854110593,0.4399455963901603,0.44994423423921465,0.459942872088269,0.46994150993732337,0.4799401477863777,0.48993878563543214,0.4999374234844865,0.5099360613335409,0.5199346991825952,0.5299333370316496,0.539931974880704,0.5499306127297583,0.5599292505788127,0.569927888427867,0.5799265262769214,0.5899251641259757,0.5999238019750301,0.6099224398240845,0.6199210776731389,0.6299197155221932,0.6399183533712476,0.649916991220302,0.6599156290693563,0.6699142669184107,0.679912904767465,0.6899115426165194,0.6999101804655737,0.7099088183146282,0.7199074561636825,0.7299060940127369,0.7399047318617912,0.7499033697108456,0.7599020075599,0.7699006454089543,0.7798992832580087,0.789897921107063,0.7998965589561174,0.8098951968051717,0.8198938346542262,0.8298924725032805,0.8398911103523349,0.8498897482013892,0.8598883860504436,0.869887023899498,0.8798856617485523,0.8898842995976067,0.899882937446661,0.9098815752957155,0.9198802131447698,0.9298788509938242,0.9398774888428785,0.9498761266919329,0.9598747645409872,0.9698734023900416,0.979872040239096,0.9898706780881503,0.9998693159372046],\"xaxis\":\"x3\",\"y\":[80.38739013671875,93.36588287353516,53.98431396484375,52.66454315185547,59.062217712402344,61.280906677246094,60.005008697509766,59.427711486816406,68.6937484741211,77.36508178710938,75.00411987304688,90.12740325927734,96.84365844726562,110.01956176757812,108.80440521240234,97.5263442993164,96.42250061035156,103.08079528808594,103.2552261352539,78.74402618408203,78.74402618408203,78.88156127929688,79.55435943603516,80.24964141845703,82.7103042602539,79.95402526855469,80.47850036621094,80.47850036621094,83.073974609375,82.32720184326172,82.56813049316406,82.93807983398438,77.49149322509766,77.92601013183594,132.90017700195312,79.95037078857422,80.05323791503906,80.35953521728516,61.940372467041016,61.940372467041016,61.940372467041016,61.8139533996582,61.8139533996582,60.13703155517578,60.38008499145508,60.38008499145508,65.98177337646484,66.04210662841797,65.89356994628906,63.15507888793945,63.905967712402344,77.7665023803711,92.54375457763672,70.90599822998047,70.37199401855469,70.66488647460938,70.66488647460938,70.66488647460938,70.66488647460938,72.97701263427734,72.97701263427734,72.69242095947266,68.46875762939453,77.22145080566406,80.3329086303711,90.0706787109375,72.48346710205078,79.59709930419922,83.90875244140625,84.93879699707031,93.50575256347656,94.692138671875,77.04956817626953,77.272216796875,108.3848876953125,82.18740844726562,93.01986694335938,93.75859832763672,93.75859832763672,91.67383575439453,91.67383575439453,892.7896728515625,219.03262329101562,219.03262329101562,230.36660766601562,277.94091796875,249.5683135986328,232.65805053710938,233.02426147460938,235.83578491210938,235.83578491210938,239.3779754638672,239.3779754638672,253.67047119140625,253.67047119140625,732.4533081054688,338.6180725097656,338.6180725097656,338.6180725097656,341.9495544433594,398.62017822265625],\"yaxis\":\"y3\",\"type\":\"scatter\",\"opacity\":1},{\"customdata\":[[98.50381469726562,\"XGBRegressor\",\"Topic 3\"],[98.50381469726562,\"XGBRegressor\",\"Topic 3\"],[98.50381469726562,\"XGBRegressor\",\"Topic 3\"],[98.50381469726562,\"XGBRegressor\",\"Topic 3\"],[98.50381469726562,\"XGBRegressor\",\"Topic 3\"],[98.50381469726562,\"XGBRegressor\",\"Topic 3\"],[98.50381469726562,\"XGBRegressor\",\"Topic 3\"],[98.50381469726562,\"XGBRegressor\",\"Topic 3\"],[98.50381469726562,\"XGBRegressor\",\"Topic 3\"],[98.50381469726562,\"XGBRegressor\",\"Topic 3\"],[98.50381469726562,\"XGBRegressor\",\"Topic 3\"],[98.50381469726562,\"XGBRegressor\",\"Topic 3\"],[98.50381469726562,\"XGBRegressor\",\"Topic 3\"],[98.50381469726562,\"XGBRegressor\",\"Topic 3\"],[98.50381469726562,\"XGBRegressor\",\"Topic 3\"],[98.50381469726562,\"XGBRegressor\",\"Topic 3\"],[98.50381469726562,\"XGBRegressor\",\"Topic 3\"],[98.50381469726562,\"XGBRegressor\",\"Topic 3\"],[98.50381469726562,\"XGBRegressor\",\"Topic 3\"],[98.50381469726562,\"XGBRegressor\",\"Topic 3\"],[98.50381469726562,\"XGBRegressor\",\"Topic 3\"],[98.50381469726562,\"XGBRegressor\",\"Topic 3\"],[98.50381469726562,\"XGBRegressor\",\"Topic 3\"],[98.50381469726562,\"XGBRegressor\",\"Topic 3\"],[98.50381469726562,\"XGBRegressor\",\"Topic 3\"],[98.50381469726562,\"XGBRegressor\",\"Topic 3\"],[98.50381469726562,\"XGBRegressor\",\"Topic 3\"],[98.50381469726562,\"XGBRegressor\",\"Topic 3\"],[98.50381469726562,\"XGBRegressor\",\"Topic 3\"],[98.50381469726562,\"XGBRegressor\",\"Topic 3\"],[98.50381469726562,\"XGBRegressor\",\"Topic 3\"],[98.50381469726562,\"XGBRegressor\",\"Topic 3\"],[98.50381469726562,\"XGBRegressor\",\"Topic 3\"],[98.50381469726562,\"XGBRegressor\",\"Topic 3\"],[98.50381469726562,\"XGBRegressor\",\"Topic 3\"],[98.50381469726562,\"XGBRegressor\",\"Topic 3\"],[98.50381469726562,\"XGBRegressor\",\"Topic 3\"],[98.50381469726562,\"XGBRegressor\",\"Topic 3\"],[98.50381469726562,\"XGBRegressor\",\"Topic 3\"],[98.50381469726562,\"XGBRegressor\",\"Topic 3\"],[98.50381469726562,\"XGBRegressor\",\"Topic 3\"],[98.50381469726562,\"XGBRegressor\",\"Topic 3\"],[98.50381469726562,\"XGBRegressor\",\"Topic 3\"],[98.50381469726562,\"XGBRegressor\",\"Topic 3\"],[98.50381469726562,\"XGBRegressor\",\"Topic 3\"],[98.50381469726562,\"XGBRegressor\",\"Topic 3\"],[98.50381469726562,\"XGBRegressor\",\"Topic 3\"],[98.50381469726562,\"XGBRegressor\",\"Topic 3\"],[98.50381469726562,\"XGBRegressor\",\"Topic 3\"],[98.50381469726562,\"XGBRegressor\",\"Topic 3\"],[98.50381469726562,\"XGBRegressor\",\"Topic 3\"],[98.50381469726562,\"XGBRegressor\",\"Topic 3\"],[98.50381469726562,\"XGBRegressor\",\"Topic 3\"],[98.50381469726562,\"XGBRegressor\",\"Topic 3\"],[98.50381469726562,\"XGBRegressor\",\"Topic 3\"],[98.50381469726562,\"XGBRegressor\",\"Topic 3\"],[98.50381469726562,\"XGBRegressor\",\"Topic 3\"],[98.50381469726562,\"XGBRegressor\",\"Topic 3\"],[98.50381469726562,\"XGBRegressor\",\"Topic 3\"],[98.50381469726562,\"XGBRegressor\",\"Topic 3\"],[98.50381469726562,\"XGBRegressor\",\"Topic 3\"],[98.50381469726562,\"XGBRegressor\",\"Topic 3\"],[98.50381469726562,\"XGBRegressor\",\"Topic 3\"],[98.50381469726562,\"XGBRegressor\",\"Topic 3\"],[98.50381469726562,\"XGBRegressor\",\"Topic 3\"],[98.50381469726562,\"XGBRegressor\",\"Topic 3\"],[98.50381469726562,\"XGBRegressor\",\"Topic 3\"],[98.50381469726562,\"XGBRegressor\",\"Topic 3\"],[98.50381469726562,\"XGBRegressor\",\"Topic 3\"],[98.50381469726562,\"XGBRegressor\",\"Topic 3\"],[98.50381469726562,\"XGBRegressor\",\"Topic 3\"],[98.50381469726562,\"XGBRegressor\",\"Topic 3\"],[98.50381469726562,\"XGBRegressor\",\"Topic 3\"],[98.50381469726562,\"XGBRegressor\",\"Topic 3\"],[98.50381469726562,\"XGBRegressor\",\"Topic 3\"],[98.50381469726562,\"XGBRegressor\",\"Topic 3\"],[98.50381469726562,\"XGBRegressor\",\"Topic 3\"],[98.50381469726562,\"XGBRegressor\",\"Topic 3\"],[98.50381469726562,\"XGBRegressor\",\"Topic 3\"],[98.50381469726562,\"XGBRegressor\",\"Topic 3\"],[98.50381469726562,\"XGBRegressor\",\"Topic 3\"],[98.50381469726562,\"XGBRegressor\",\"Topic 3\"],[98.50381469726562,\"XGBRegressor\",\"Topic 3\"],[98.50381469726562,\"XGBRegressor\",\"Topic 3\"],[98.50381469726562,\"XGBRegressor\",\"Topic 3\"],[98.50381469726562,\"XGBRegressor\",\"Topic 3\"],[98.50381469726562,\"XGBRegressor\",\"Topic 3\"],[98.50381469726562,\"XGBRegressor\",\"Topic 3\"],[98.50381469726562,\"XGBRegressor\",\"Topic 3\"],[98.50381469726562,\"XGBRegressor\",\"Topic 3\"],[98.50381469726562,\"XGBRegressor\",\"Topic 3\"],[98.50381469726562,\"XGBRegressor\",\"Topic 3\"],[98.50381469726562,\"XGBRegressor\",\"Topic 3\"],[98.50381469726562,\"XGBRegressor\",\"Topic 3\"],[98.50381469726562,\"XGBRegressor\",\"Topic 3\"],[98.50381469726562,\"XGBRegressor\",\"Topic 3\"],[98.50381469726562,\"XGBRegressor\",\"Topic 3\"],[98.50381469726562,\"XGBRegressor\",\"Topic 3\"],[98.50381469726562,\"XGBRegressor\",\"Topic 3\"],[98.50381469726562,\"XGBRegressor\",\"Topic 3\"],[98.50381469726562,\"XGBRegressor\",\"Topic 3\"]],\"hovertemplate\":\"<b>%{hovertext}</b><br><br>prediction=%{y:.3f}<br>mean_prediction=%{customdata[0]:.3f}<extra></extra>\",\"hovertext\":[\"XGBRegressor\",\"XGBRegressor\",\"XGBRegressor\",\"XGBRegressor\",\"XGBRegressor\",\"XGBRegressor\",\"XGBRegressor\",\"XGBRegressor\",\"XGBRegressor\",\"XGBRegressor\",\"XGBRegressor\",\"XGBRegressor\",\"XGBRegressor\",\"XGBRegressor\",\"XGBRegressor\",\"XGBRegressor\",\"XGBRegressor\",\"XGBRegressor\",\"XGBRegressor\",\"XGBRegressor\",\"XGBRegressor\",\"XGBRegressor\",\"XGBRegressor\",\"XGBRegressor\",\"XGBRegressor\",\"XGBRegressor\",\"XGBRegressor\",\"XGBRegressor\",\"XGBRegressor\",\"XGBRegressor\",\"XGBRegressor\",\"XGBRegressor\",\"XGBRegressor\",\"XGBRegressor\",\"XGBRegressor\",\"XGBRegressor\",\"XGBRegressor\",\"XGBRegressor\",\"XGBRegressor\",\"XGBRegressor\",\"XGBRegressor\",\"XGBRegressor\",\"XGBRegressor\",\"XGBRegressor\",\"XGBRegressor\",\"XGBRegressor\",\"XGBRegressor\",\"XGBRegressor\",\"XGBRegressor\",\"XGBRegressor\",\"XGBRegressor\",\"XGBRegressor\",\"XGBRegressor\",\"XGBRegressor\",\"XGBRegressor\",\"XGBRegressor\",\"XGBRegressor\",\"XGBRegressor\",\"XGBRegressor\",\"XGBRegressor\",\"XGBRegressor\",\"XGBRegressor\",\"XGBRegressor\",\"XGBRegressor\",\"XGBRegressor\",\"XGBRegressor\",\"XGBRegressor\",\"XGBRegressor\",\"XGBRegressor\",\"XGBRegressor\",\"XGBRegressor\",\"XGBRegressor\",\"XGBRegressor\",\"XGBRegressor\",\"XGBRegressor\",\"XGBRegressor\",\"XGBRegressor\",\"XGBRegressor\",\"XGBRegressor\",\"XGBRegressor\",\"XGBRegressor\",\"XGBRegressor\",\"XGBRegressor\",\"XGBRegressor\",\"XGBRegressor\",\"XGBRegressor\",\"XGBRegressor\",\"XGBRegressor\",\"XGBRegressor\",\"XGBRegressor\",\"XGBRegressor\",\"XGBRegressor\",\"XGBRegressor\",\"XGBRegressor\",\"XGBRegressor\",\"XGBRegressor\",\"XGBRegressor\",\"XGBRegressor\",\"XGBRegressor\",\"XGBRegressor\",\"XGBRegressor\"],\"legendgroup\":\"XGBRegressor\",\"line\":{\"color\":\"#46bac2\",\"dash\":\"solid\",\"width\":2},\"marker\":{\"symbol\":\"circle\"},\"mode\":\"lines\",\"name\":\"XGBRegressor\",\"orientation\":\"v\",\"showlegend\":false,\"x\":[5.869311768951484e-06,0.010005589402973088,0.020005309494177226,0.03000502958538136,0.040004749676585495,0.05000446976778963,0.060004189858993764,0.07000390995019791,0.08000363004140204,0.09000335013260617,0.10000307022381032,0.11000279031501445,0.12000251040621858,0.13000223049742274,0.14000195058862688,0.150001670679831,0.16000139077103515,0.1700011108622393,0.1800008309534434,0.19000055104464755,0.2000002711358517,0.20999999122705582,0.21999971131825996,0.2299994314094641,0.23999915150066822,0.24999887159187237,0.2599985916830765,0.26999831177428063,0.2799980318654848,0.28999775195668887,0.299997472047893,0.30999719213909716,0.3199969122303013,0.32999663232150545,0.3399963524127096,0.34999607250391374,0.3599957925951178,0.36999551268632197,0.3799952327775261,0.38999495286873026,0.3999946729599344,0.40999439305113855,0.41999411314234264,0.4299938332335468,0.43999355332475093,0.4499932734159551,0.4599929935071592,0.46999271359836337,0.47999243368956745,0.4899921537807716,0.49999187387197574,0.50999159396318,0.519991314054384,0.5299910341455881,0.5399907542367923,0.5499904743279964,0.5599901944192006,0.5699899145104047,0.5799896346016088,0.589989354692813,0.5999890747840171,0.6099887948752213,0.6199885149664254,0.6299882350576296,0.6399879551488337,0.6499876752400378,0.659987395331242,0.669987115422446,0.6799868355136502,0.6899865556048543,0.6999862756960585,0.7099859957872626,0.7199857158784667,0.7299854359696709,0.739985156060875,0.7499848761520792,0.7599845962432833,0.7699843163344874,0.7799840364256916,0.7899837565168957,0.7999834766080999,0.809983196699304,0.8199829167905082,0.8299826368817123,0.8399823569729163,0.8499820770641205,0.8599817971553246,0.8699815172465288,0.8799812373377329,0.8899809574289371,0.8999806775201412,0.9099803976113453,0.9199801177025495,0.9299798377937536,0.9399795578849578,0.9499792779761619,0.959978998067366,0.9699787181585702,0.9799784382497743,0.9899781583409785,0.9999778784321826],\"xaxis\":\"x4\",\"y\":[153.25909423828125,71.72026062011719,67.55481719970703,73.88919067382812,75.11910247802734,71.22266387939453,72.86532592773438,68.7510986328125,69.10335540771484,71.06199645996094,69.18508911132812,74.63713073730469,74.16771697998047,95.84284973144531,95.4613037109375,109.03958892822266,112.07711029052734,110.8390121459961,90.85723876953125,90.85723876953125,95.38105773925781,95.01380157470703,95.0420150756836,97.24632263183594,95.94217681884766,92.31958770751953,92.34355163574219,90.68865203857422,93.7430191040039,93.12825012207031,92.9493179321289,90.18739318847656,90.34033203125,90.6624984741211,90.6624984741211,86.1520004272461,98.37340545654297,108.22516632080078,108.18709564208984,108.49650573730469,105.87403869628906,105.8249282836914,109.2848892211914,123.17240142822266,129.62274169921875,114.88170623779297,114.88884735107422,105.06199645996094,105.90374755859375,103.25995635986328,103.25995635986328,103.25995635986328,103.25995635986328,111.8537368774414,112.1486587524414,112.19462585449219,112.19462585449219,112.19462585449219,112.19462585449219,112.46868133544922,112.46868133544922,112.46868133544922,112.46868133544922,105.87042999267578,119.66012573242188,119.66012573242188,119.66012573242188,107.87090301513672,107.139892578125,114.00257873535156,200.91436767578125,117.59806060791016,117.59806060791016,118.05058288574219,118.05058288574219,118.05058288574219,112.18802642822266,112.18802642822266,107.63641357421875,108.82914733886719,125.57414245605469,177.48663330078125,195.44711303710938,175.78271484375,175.74380493164062,175.83001708984375,175.83001708984375,175.91297912597656,176.50267028808594,221.90994262695312,241.77610778808594,240.24813842773438,240.24813842773438,240.0906219482422,225.54107666015625,225.54107666015625,221.32843017578125,221.32843017578125,219.86390686035156,213.36285400390625,192.29278564453125],\"yaxis\":\"y4\",\"type\":\"scatter\",\"opacity\":1},{\"customdata\":[[98.50381469726562,\"XGBRegressor\",\"Topic 4\"],[98.50381469726562,\"XGBRegressor\",\"Topic 4\"],[98.50381469726562,\"XGBRegressor\",\"Topic 4\"],[98.50381469726562,\"XGBRegressor\",\"Topic 4\"],[98.50381469726562,\"XGBRegressor\",\"Topic 4\"],[98.50381469726562,\"XGBRegressor\",\"Topic 4\"],[98.50381469726562,\"XGBRegressor\",\"Topic 4\"],[98.50381469726562,\"XGBRegressor\",\"Topic 4\"],[98.50381469726562,\"XGBRegressor\",\"Topic 4\"],[98.50381469726562,\"XGBRegressor\",\"Topic 4\"],[98.50381469726562,\"XGBRegressor\",\"Topic 4\"],[98.50381469726562,\"XGBRegressor\",\"Topic 4\"],[98.50381469726562,\"XGBRegressor\",\"Topic 4\"],[98.50381469726562,\"XGBRegressor\",\"Topic 4\"],[98.50381469726562,\"XGBRegressor\",\"Topic 4\"],[98.50381469726562,\"XGBRegressor\",\"Topic 4\"],[98.50381469726562,\"XGBRegressor\",\"Topic 4\"],[98.50381469726562,\"XGBRegressor\",\"Topic 4\"],[98.50381469726562,\"XGBRegressor\",\"Topic 4\"],[98.50381469726562,\"XGBRegressor\",\"Topic 4\"],[98.50381469726562,\"XGBRegressor\",\"Topic 4\"],[98.50381469726562,\"XGBRegressor\",\"Topic 4\"],[98.50381469726562,\"XGBRegressor\",\"Topic 4\"],[98.50381469726562,\"XGBRegressor\",\"Topic 4\"],[98.50381469726562,\"XGBRegressor\",\"Topic 4\"],[98.50381469726562,\"XGBRegressor\",\"Topic 4\"],[98.50381469726562,\"XGBRegressor\",\"Topic 4\"],[98.50381469726562,\"XGBRegressor\",\"Topic 4\"],[98.50381469726562,\"XGBRegressor\",\"Topic 4\"],[98.50381469726562,\"XGBRegressor\",\"Topic 4\"],[98.50381469726562,\"XGBRegressor\",\"Topic 4\"],[98.50381469726562,\"XGBRegressor\",\"Topic 4\"],[98.50381469726562,\"XGBRegressor\",\"Topic 4\"],[98.50381469726562,\"XGBRegressor\",\"Topic 4\"],[98.50381469726562,\"XGBRegressor\",\"Topic 4\"],[98.50381469726562,\"XGBRegressor\",\"Topic 4\"],[98.50381469726562,\"XGBRegressor\",\"Topic 4\"],[98.50381469726562,\"XGBRegressor\",\"Topic 4\"],[98.50381469726562,\"XGBRegressor\",\"Topic 4\"],[98.50381469726562,\"XGBRegressor\",\"Topic 4\"],[98.50381469726562,\"XGBRegressor\",\"Topic 4\"],[98.50381469726562,\"XGBRegressor\",\"Topic 4\"],[98.50381469726562,\"XGBRegressor\",\"Topic 4\"],[98.50381469726562,\"XGBRegressor\",\"Topic 4\"],[98.50381469726562,\"XGBRegressor\",\"Topic 4\"],[98.50381469726562,\"XGBRegressor\",\"Topic 4\"],[98.50381469726562,\"XGBRegressor\",\"Topic 4\"],[98.50381469726562,\"XGBRegressor\",\"Topic 4\"],[98.50381469726562,\"XGBRegressor\",\"Topic 4\"],[98.50381469726562,\"XGBRegressor\",\"Topic 4\"],[98.50381469726562,\"XGBRegressor\",\"Topic 4\"],[98.50381469726562,\"XGBRegressor\",\"Topic 4\"],[98.50381469726562,\"XGBRegressor\",\"Topic 4\"],[98.50381469726562,\"XGBRegressor\",\"Topic 4\"],[98.50381469726562,\"XGBRegressor\",\"Topic 4\"],[98.50381469726562,\"XGBRegressor\",\"Topic 4\"],[98.50381469726562,\"XGBRegressor\",\"Topic 4\"],[98.50381469726562,\"XGBRegressor\",\"Topic 4\"],[98.50381469726562,\"XGBRegressor\",\"Topic 4\"],[98.50381469726562,\"XGBRegressor\",\"Topic 4\"],[98.50381469726562,\"XGBRegressor\",\"Topic 4\"],[98.50381469726562,\"XGBRegressor\",\"Topic 4\"],[98.50381469726562,\"XGBRegressor\",\"Topic 4\"],[98.50381469726562,\"XGBRegressor\",\"Topic 4\"],[98.50381469726562,\"XGBRegressor\",\"Topic 4\"],[98.50381469726562,\"XGBRegressor\",\"Topic 4\"],[98.50381469726562,\"XGBRegressor\",\"Topic 4\"],[98.50381469726562,\"XGBRegressor\",\"Topic 4\"],[98.50381469726562,\"XGBRegressor\",\"Topic 4\"],[98.50381469726562,\"XGBRegressor\",\"Topic 4\"],[98.50381469726562,\"XGBRegressor\",\"Topic 4\"],[98.50381469726562,\"XGBRegressor\",\"Topic 4\"],[98.50381469726562,\"XGBRegressor\",\"Topic 4\"],[98.50381469726562,\"XGBRegressor\",\"Topic 4\"],[98.50381469726562,\"XGBRegressor\",\"Topic 4\"],[98.50381469726562,\"XGBRegressor\",\"Topic 4\"],[98.50381469726562,\"XGBRegressor\",\"Topic 4\"],[98.50381469726562,\"XGBRegressor\",\"Topic 4\"],[98.50381469726562,\"XGBRegressor\",\"Topic 4\"],[98.50381469726562,\"XGBRegressor\",\"Topic 4\"],[98.50381469726562,\"XGBRegressor\",\"Topic 4\"],[98.50381469726562,\"XGBRegressor\",\"Topic 4\"],[98.50381469726562,\"XGBRegressor\",\"Topic 4\"],[98.50381469726562,\"XGBRegressor\",\"Topic 4\"],[98.50381469726562,\"XGBRegressor\",\"Topic 4\"],[98.50381469726562,\"XGBRegressor\",\"Topic 4\"],[98.50381469726562,\"XGBRegressor\",\"Topic 4\"],[98.50381469726562,\"XGBRegressor\",\"Topic 4\"],[98.50381469726562,\"XGBRegressor\",\"Topic 4\"],[98.50381469726562,\"XGBRegressor\",\"Topic 4\"],[98.50381469726562,\"XGBRegressor\",\"Topic 4\"],[98.50381469726562,\"XGBRegressor\",\"Topic 4\"],[98.50381469726562,\"XGBRegressor\",\"Topic 4\"],[98.50381469726562,\"XGBRegressor\",\"Topic 4\"],[98.50381469726562,\"XGBRegressor\",\"Topic 4\"],[98.50381469726562,\"XGBRegressor\",\"Topic 4\"],[98.50381469726562,\"XGBRegressor\",\"Topic 4\"],[98.50381469726562,\"XGBRegressor\",\"Topic 4\"],[98.50381469726562,\"XGBRegressor\",\"Topic 4\"],[98.50381469726562,\"XGBRegressor\",\"Topic 4\"],[98.50381469726562,\"XGBRegressor\",\"Topic 4\"]],\"hovertemplate\":\"<b>%{hovertext}</b><br><br>prediction=%{y:.3f}<br>mean_prediction=%{customdata[0]:.3f}<extra></extra>\",\"hovertext\":[\"XGBRegressor\",\"XGBRegressor\",\"XGBRegressor\",\"XGBRegressor\",\"XGBRegressor\",\"XGBRegressor\",\"XGBRegressor\",\"XGBRegressor\",\"XGBRegressor\",\"XGBRegressor\",\"XGBRegressor\",\"XGBRegressor\",\"XGBRegressor\",\"XGBRegressor\",\"XGBRegressor\",\"XGBRegressor\",\"XGBRegressor\",\"XGBRegressor\",\"XGBRegressor\",\"XGBRegressor\",\"XGBRegressor\",\"XGBRegressor\",\"XGBRegressor\",\"XGBRegressor\",\"XGBRegressor\",\"XGBRegressor\",\"XGBRegressor\",\"XGBRegressor\",\"XGBRegressor\",\"XGBRegressor\",\"XGBRegressor\",\"XGBRegressor\",\"XGBRegressor\",\"XGBRegressor\",\"XGBRegressor\",\"XGBRegressor\",\"XGBRegressor\",\"XGBRegressor\",\"XGBRegressor\",\"XGBRegressor\",\"XGBRegressor\",\"XGBRegressor\",\"XGBRegressor\",\"XGBRegressor\",\"XGBRegressor\",\"XGBRegressor\",\"XGBRegressor\",\"XGBRegressor\",\"XGBRegressor\",\"XGBRegressor\",\"XGBRegressor\",\"XGBRegressor\",\"XGBRegressor\",\"XGBRegressor\",\"XGBRegressor\",\"XGBRegressor\",\"XGBRegressor\",\"XGBRegressor\",\"XGBRegressor\",\"XGBRegressor\",\"XGBRegressor\",\"XGBRegressor\",\"XGBRegressor\",\"XGBRegressor\",\"XGBRegressor\",\"XGBRegressor\",\"XGBRegressor\",\"XGBRegressor\",\"XGBRegressor\",\"XGBRegressor\",\"XGBRegressor\",\"XGBRegressor\",\"XGBRegressor\",\"XGBRegressor\",\"XGBRegressor\",\"XGBRegressor\",\"XGBRegressor\",\"XGBRegressor\",\"XGBRegressor\",\"XGBRegressor\",\"XGBRegressor\",\"XGBRegressor\",\"XGBRegressor\",\"XGBRegressor\",\"XGBRegressor\",\"XGBRegressor\",\"XGBRegressor\",\"XGBRegressor\",\"XGBRegressor\",\"XGBRegressor\",\"XGBRegressor\",\"XGBRegressor\",\"XGBRegressor\",\"XGBRegressor\",\"XGBRegressor\",\"XGBRegressor\",\"XGBRegressor\",\"XGBRegressor\",\"XGBRegressor\",\"XGBRegressor\",\"XGBRegressor\"],\"legendgroup\":\"XGBRegressor\",\"line\":{\"color\":\"#46bac2\",\"dash\":\"solid\",\"width\":2},\"marker\":{\"symbol\":\"circle\"},\"mode\":\"lines\",\"name\":\"XGBRegressor\",\"orientation\":\"v\",\"showlegend\":false,\"x\":[5.529555261667837e-06,0.009837982327559508,0.019670435099857348,0.029502887872155187,0.03933534064445303,0.04916779341675087,0.059000246189048706,0.06883269896134656,0.0786651517336444,0.08849760450594224,0.09833005727824008,0.10816251005053792,0.11799496282283575,0.1278274155951336,0.13765986836743144,0.1474923211397293,0.15732477391202712,0.16715722668432495,0.1769896794566228,0.18682213222892063,0.1966545850012185,0.20648703777351632,0.21631949054581417,0.226151943318112,0.23598439609040983,0.2458168488627077,0.25564930163500554,0.26548175440730337,0.2753142071796012,0.28514665995189903,0.2949791127241969,0.30481156549649474,0.31464401826879257,0.3244764710410904,0.3343089238133882,0.3441413765856861,0.35397382935798394,0.36380628213028177,0.3736387349025796,0.3834711876748775,0.3933036404471753,0.40313609321947314,0.41296854599177096,0.4228009987640688,0.4326334515363667,0.4424659043086645,0.45229835708096233,0.46213080985326016,0.471963262625558,0.4817957153978559,0.4916281681701537,0.5014606209424516,0.5112930737147494,0.5211255264870472,0.5309579792593451,0.5407904320316429,0.5506228848039407,0.5604553375762386,0.5702877903485364,0.5801202431208342,0.5899526958931322,0.59978514866543,0.6096176014377278,0.6194500542100256,0.6292825069823235,0.6391149597546213,0.6489474125269191,0.658779865299217,0.6686123180715148,0.6784447708438127,0.6882772236161105,0.6981096763884084,0.7079421291607062,0.717774581933004,0.7276070347053019,0.7374394874775997,0.7472719402498975,0.7571043930221953,0.7669368457944933,0.7767692985667911,0.7866017513390889,0.7964342041113868,0.8062666568836846,0.8160991096559824,0.8259315624282803,0.8357640152005781,0.8455964679728759,0.8554289207451738,0.8652613735174717,0.8750938262897695,0.8849262790620673,0.8947587318343652,0.904591184606663,0.9144236373789608,0.9242560901512586,0.9340885429235565,0.9439209956958543,0.9537534484681522,0.9635859012404501,0.9734183540127479,0.9832508067850457],\"xaxis\":\"x\",\"y\":[283.03936767578125,75.72128295898438,93.8849868774414,97.47264099121094,92.41192626953125,109.28462982177734,105.04618072509766,93.71070861816406,106.31219482421875,102.49754333496094,93.22681427001953,84.42675018310547,93.62098693847656,91.14181518554688,99.53233337402344,113.22474670410156,126.20914459228516,123.00934600830078,122.6556396484375,102.79338836669922,100.04232025146484,110.24212646484375,110.32670593261719,105.1014404296875,94.69969940185547,95.10334014892578,114.3193359375,113.16036987304688,111.4214859008789,119.3114242553711,127.94367218017578,112.22593688964844,114.34056091308594,112.73725128173828,112.40961456298828,110.97249603271484,110.97249603271484,109.7247085571289,101.15587615966797,105.16433715820312,107.16692352294922,107.16692352294922,136.79937744140625,226.55213928222656,135.4128875732422,135.35154724121094,139.23406982421875,139.15164184570312,246.54953002929688,136.65684509277344,136.69097900390625,176.47938537597656,168.05039978027344,133.66917419433594,149.95498657226562,153.84982299804688,166.37704467773438,197.041748046875,183.4004364013672,183.76930236816406,179.7337188720703,179.7337188720703,155.07044982910156,158.5268096923828,167.76449584960938,159.6747589111328,164.7099151611328,164.7099151611328,161.56536865234375,161.56536865234375,161.56536865234375,166.74786376953125,789.4636840820312,194.20106506347656,185.2100067138672,185.2100067138672,185.2100067138672,165.49522399902344,171.41851806640625,176.77545166015625,176.77545166015625,237.5295867919922,253.79779052734375,242.4467315673828,504.6322937011719,295.3672790527344,295.3672790527344,295.3672790527344,295.6209411621094,300.75872802734375,293.33868408203125,293.33868408203125,293.33868408203125,293.33868408203125,293.33868408203125,317.2234191894531,394.6639404296875,369.6108093261719,376.9651794433594,376.9651794433594,376.9651794433594],\"yaxis\":\"y\",\"type\":\"scatter\",\"opacity\":1}],                        {\"template\":{\"data\":{\"scatter\":[{\"type\":\"scatter\"}]}},\"xaxis\":{\"anchor\":\"y\",\"domain\":[0.0,0.475],\"title\":{\"text\":\"\"},\"showticklabels\":true,\"type\":\"linear\",\"gridwidth\":2,\"zeroline\":false,\"automargin\":true,\"ticks\":\"outside\",\"tickcolor\":\"white\",\"ticklen\":3,\"fixedrange\":true},\"yaxis\":{\"anchor\":\"x\",\"domain\":[0.0,0.26666666666666666],\"title\":{\"text\":\"\"},\"range\":[-49.16736602783203,1172.8155517578125],\"type\":\"linear\",\"gridwidth\":2,\"zeroline\":false,\"automargin\":true,\"ticks\":\"outside\",\"tickcolor\":\"white\",\"ticklen\":3,\"fixedrange\":true},\"xaxis2\":{\"anchor\":\"y2\",\"domain\":[0.525,1.0],\"title\":{\"text\":\"\"},\"showticklabels\":true,\"type\":\"linear\",\"gridwidth\":2,\"zeroline\":false,\"automargin\":true,\"ticks\":\"outside\",\"tickcolor\":\"white\",\"ticklen\":3,\"fixedrange\":true},\"yaxis2\":{\"anchor\":\"x2\",\"domain\":[0.0,0.26666666666666666],\"matches\":\"y\",\"showticklabels\":false,\"type\":\"linear\",\"gridwidth\":2,\"zeroline\":false,\"automargin\":true,\"ticks\":\"outside\",\"tickcolor\":\"white\",\"ticklen\":3,\"fixedrange\":true,\"title\":{\"text\":\"\"}},\"xaxis3\":{\"anchor\":\"y3\",\"domain\":[0.0,0.475],\"showticklabels\":true,\"type\":\"linear\",\"gridwidth\":2,\"zeroline\":false,\"automargin\":true,\"ticks\":\"outside\",\"tickcolor\":\"white\",\"ticklen\":3,\"fixedrange\":true,\"title\":{\"text\":\"\"}},\"yaxis3\":{\"anchor\":\"x3\",\"domain\":[0.36666666666666664,0.6333333333333333],\"matches\":\"y\",\"title\":{\"text\":\"\"},\"range\":[-49.16736602783203,1172.8155517578125],\"type\":\"linear\",\"gridwidth\":2,\"zeroline\":false,\"automargin\":true,\"ticks\":\"outside\",\"tickcolor\":\"white\",\"ticklen\":3,\"fixedrange\":true},\"xaxis4\":{\"anchor\":\"y4\",\"domain\":[0.525,1.0],\"showticklabels\":true,\"type\":\"linear\",\"gridwidth\":2,\"zeroline\":false,\"automargin\":true,\"ticks\":\"outside\",\"tickcolor\":\"white\",\"ticklen\":3,\"fixedrange\":true,\"title\":{\"text\":\"\"}},\"yaxis4\":{\"anchor\":\"x4\",\"domain\":[0.36666666666666664,0.6333333333333333],\"matches\":\"y\",\"showticklabels\":false,\"type\":\"linear\",\"gridwidth\":2,\"zeroline\":false,\"automargin\":true,\"ticks\":\"outside\",\"tickcolor\":\"white\",\"ticklen\":3,\"fixedrange\":true,\"title\":{\"text\":\"\"}},\"xaxis5\":{\"anchor\":\"y5\",\"domain\":[0.0,0.475],\"showticklabels\":true,\"type\":\"linear\",\"gridwidth\":2,\"zeroline\":false,\"automargin\":true,\"ticks\":\"outside\",\"tickcolor\":\"white\",\"ticklen\":3,\"fixedrange\":true,\"title\":{\"text\":\"\"}},\"yaxis5\":{\"anchor\":\"x5\",\"domain\":[0.7333333333333333,1.0],\"matches\":\"y\",\"title\":{\"text\":\"\"},\"range\":[-49.16736602783203,1172.8155517578125],\"type\":\"linear\",\"gridwidth\":2,\"zeroline\":false,\"automargin\":true,\"ticks\":\"outside\",\"tickcolor\":\"white\",\"ticklen\":3,\"fixedrange\":true},\"xaxis6\":{\"anchor\":\"y6\",\"domain\":[0.525,1.0],\"showticklabels\":true,\"type\":\"linear\",\"gridwidth\":2,\"zeroline\":false,\"automargin\":true,\"ticks\":\"outside\",\"tickcolor\":\"white\",\"ticklen\":3,\"fixedrange\":true,\"title\":{\"text\":\"\"}},\"yaxis6\":{\"anchor\":\"x6\",\"domain\":[0.7333333333333333,1.0],\"matches\":\"y\",\"showticklabels\":false,\"type\":\"linear\",\"gridwidth\":2,\"zeroline\":false,\"automargin\":true,\"ticks\":\"outside\",\"tickcolor\":\"white\",\"ticklen\":3,\"fixedrange\":true,\"title\":{\"text\":\"\"}},\"annotations\":[{\"font\":{\"size\":13},\"showarrow\":false,\"text\":\"Topic 4\",\"x\":0.2375,\"xanchor\":\"center\",\"xref\":\"paper\",\"y\":0.26666666666666666,\"yanchor\":\"bottom\",\"yref\":\"paper\"},{\"font\":{\"size\":13},\"showarrow\":false,\"text\":\"Topic 2\",\"x\":0.2375,\"xanchor\":\"center\",\"xref\":\"paper\",\"y\":0.6333333333333333,\"yanchor\":\"bottom\",\"yref\":\"paper\"},{\"font\":{\"size\":13},\"showarrow\":false,\"text\":\"Topic 3\",\"x\":0.7625,\"xanchor\":\"center\",\"xref\":\"paper\",\"y\":0.6333333333333333,\"yanchor\":\"bottom\",\"yref\":\"paper\"},{\"font\":{\"size\":13},\"showarrow\":false,\"text\":\"Topic 0\",\"x\":0.2375,\"xanchor\":\"center\",\"xref\":\"paper\",\"y\":1.0,\"yanchor\":\"bottom\",\"yref\":\"paper\"},{\"font\":{\"size\":13},\"showarrow\":false,\"text\":\"Topic 1\",\"x\":0.7625,\"xanchor\":\"center\",\"xref\":\"paper\",\"y\":1.0,\"yanchor\":\"bottom\",\"yref\":\"paper\"},{\"font\":{\"size\":13},\"showarrow\":false,\"text\":\"prediction\",\"textangle\":-90,\"x\":-0.07,\"xref\":\"paper\",\"y\":0.5,\"yref\":\"paper\"}],\"legend\":{\"title\":{\"text\":\"label\",\"font\":{\"size\":12}},\"tracegroupgap\":0,\"font\":{\"size\":11},\"orientation\":\"h\",\"yanchor\":\"bottom\",\"y\":1.0256629597946962,\"xanchor\":\"right\",\"x\":1,\"itemsizing\":\"constant\"},\"margin\":{\"t\":78,\"b\":71,\"r\":30},\"font\":{\"color\":\"#371ea3\"},\"title\":{\"font\":{\"size\":16},\"text\":\"Aggregated Profiles\",\"x\":0.15},\"hovermode\":\"x unified\",\"height\":1169},                        {\"responsive\": true}                    ).then(function(){\n                            \nvar gd = document.getElementById('50a1c311-8945-444c-8911-687e2b5836f9');\nvar x = new MutationObserver(function (mutations, observer) {{\n        var display = window.getComputedStyle(gd).display;\n        if (!display || display === 'none') {{\n            console.log([gd, 'removed!']);\n            Plotly.purge(gd);\n            observer.disconnect();\n        }}\n}});\n\n// Listen for the removal of the full notebook cells\nvar notebookContainer = gd.closest('#notebook-container');\nif (notebookContainer) {{\n    x.observe(notebookContainer, {childList: true});\n}}\n\n// Listen for the clearing of the current output cell\nvar outputEl = gd.closest('.output');\nif (outputEl) {{\n    x.observe(outputEl, {childList: true});\n}}\n\n                        })                };                });            </script>        </div>"
     },
     "metadata": {},
     "output_type": "display_data"
    }
   ],
   "source": [
    "agg_profiles"
   ],
   "metadata": {
    "collapsed": false,
    "pycharm": {
     "name": "#%%\n"
    }
   }
  },
  {
   "cell_type": "code",
   "execution_count": 91,
   "outputs": [],
   "source": [
    "var_importance = exp.model_parts().plot(show=False)\n",
    "var_importance.write_html('var_importance.html')"
   ],
   "metadata": {
    "collapsed": false,
    "pycharm": {
     "name": "#%%\n"
    }
   }
  },
  {
   "cell_type": "code",
   "execution_count": 92,
   "outputs": [
    {
     "data": {
      "application/vnd.plotly.v1+json": {
       "data": [
        {
         "base": 15.95144425041849,
         "hoverinfo": "text",
         "hoverlabel": {
          "bgcolor": "rgba(0,0,0,0.8)"
         },
         "hovertext": [
          "Model: XGBRegressor loss after<br>variable: Topic 3 is permuted: 407.712<br>Drop-out loss change: +391.761",
          "Model: XGBRegressor loss after<br>variable: Topic 2 is permuted: 397.002<br>Drop-out loss change: +381.05",
          "Model: XGBRegressor loss after<br>variable: Topic 0 is permuted: 213.172<br>Drop-out loss change: +197.221",
          "Model: XGBRegressor loss after<br>variable: Topic 1 is permuted: 171.089<br>Drop-out loss change: +155.138",
          "Model: XGBRegressor loss after<br>variable: Topic 4 is permuted: 169.384<br>Drop-out loss change: +153.433"
         ],
         "marker": {
          "color": "#46bac2"
         },
         "orientation": "h",
         "showlegend": false,
         "text": [
          "+391.761",
          "+381.05",
          "+197.221",
          "+155.138",
          "+153.433"
         ],
         "textposition": "outside",
         "x": [
          391.7609477538029,
          381.0502877930925,
          197.22066014508104,
          155.1375835447776,
          153.4325094259865
         ],
         "y": [
          "Topic 3",
          "Topic 2",
          "Topic 0",
          "Topic 1",
          "Topic 4"
         ],
         "type": "bar",
         "xaxis": "x",
         "yaxis": "y"
        }
       ],
       "layout": {
        "template": {
         "data": {
          "scatter": [
           {
            "type": "scatter"
           }
          ]
         }
        },
        "xaxis": {
         "anchor": "y",
         "domain": [
          0.0,
          1.0
         ],
         "type": "linear",
         "gridwidth": 2,
         "zeroline": false,
         "automargin": true,
         "ticks": "outside",
         "tickcolor": "white",
         "ticklen": 3,
         "fixedrange": true,
         "range": [
          -42.81269791265194,
          466.4765341672918
         ]
        },
        "yaxis": {
         "anchor": "x",
         "domain": [
          0.0,
          1.0
         ],
         "type": "category",
         "autorange": "reversed",
         "gridwidth": 2,
         "automargin": true,
         "ticks": "outside",
         "tickcolor": "white",
         "ticklen": 10,
         "fixedrange": true
        },
        "annotations": [
         {
          "font": {
           "size": 16
          },
          "showarrow": false,
          "text": "XGBRegressor",
          "x": 0.5,
          "xanchor": "center",
          "xref": "paper",
          "y": 1.0,
          "yanchor": "bottom",
          "yref": "paper"
         },
         {
          "font": {
           "size": 16
          },
          "showarrow": false,
          "text": "drop-out loss",
          "x": 0.5,
          "xanchor": "center",
          "xref": "paper",
          "y": 0,
          "yanchor": "top",
          "yref": "paper",
          "yshift": -30
         }
        ],
        "shapes": [
         {
          "line": {
           "color": "#371ea3",
           "dash": "dot",
           "width": 1.5
          },
          "type": "line",
          "x0": 15.95144425041849,
          "x1": 15.95144425041849,
          "xref": "x",
          "y0": -1,
          "y1": 5,
          "yref": "y"
         }
        ],
        "title": {
         "text": "Variable Importance",
         "x": 0.15
        },
        "font": {
         "color": "#371ea3"
        },
        "margin": {
         "t": 78,
         "b": 71,
         "r": 30
        },
        "height": 283.0
       },
       "config": {
        "plotlyServerURL": "https://plot.ly"
       }
      },
      "text/html": "<div>                            <div id=\"8ab0d922-ce12-4551-8b3a-cf5e9d68d145\" class=\"plotly-graph-div\" style=\"height:283.0px; width:100%;\"></div>            <script type=\"text/javascript\">                require([\"plotly\"], function(Plotly) {                    window.PLOTLYENV=window.PLOTLYENV || {};                                    if (document.getElementById(\"8ab0d922-ce12-4551-8b3a-cf5e9d68d145\")) {                    Plotly.newPlot(                        \"8ab0d922-ce12-4551-8b3a-cf5e9d68d145\",                        [{\"base\":15.95144425041849,\"hoverinfo\":\"text\",\"hoverlabel\":{\"bgcolor\":\"rgba(0,0,0,0.8)\"},\"hovertext\":[\"Model: XGBRegressor loss after<br>variable: Topic 3 is permuted: 407.712<br>Drop-out loss change: +391.761\",\"Model: XGBRegressor loss after<br>variable: Topic 2 is permuted: 397.002<br>Drop-out loss change: +381.05\",\"Model: XGBRegressor loss after<br>variable: Topic 0 is permuted: 213.172<br>Drop-out loss change: +197.221\",\"Model: XGBRegressor loss after<br>variable: Topic 1 is permuted: 171.089<br>Drop-out loss change: +155.138\",\"Model: XGBRegressor loss after<br>variable: Topic 4 is permuted: 169.384<br>Drop-out loss change: +153.433\"],\"marker\":{\"color\":\"#46bac2\"},\"orientation\":\"h\",\"showlegend\":false,\"text\":[\"+391.761\",\"+381.05\",\"+197.221\",\"+155.138\",\"+153.433\"],\"textposition\":\"outside\",\"x\":[391.7609477538029,381.0502877930925,197.22066014508104,155.1375835447776,153.4325094259865],\"y\":[\"Topic 3\",\"Topic 2\",\"Topic 0\",\"Topic 1\",\"Topic 4\"],\"type\":\"bar\",\"xaxis\":\"x\",\"yaxis\":\"y\"}],                        {\"template\":{\"data\":{\"scatter\":[{\"type\":\"scatter\"}]}},\"xaxis\":{\"anchor\":\"y\",\"domain\":[0.0,1.0],\"type\":\"linear\",\"gridwidth\":2,\"zeroline\":false,\"automargin\":true,\"ticks\":\"outside\",\"tickcolor\":\"white\",\"ticklen\":3,\"fixedrange\":true,\"range\":[-42.81269791265194,466.4765341672918]},\"yaxis\":{\"anchor\":\"x\",\"domain\":[0.0,1.0],\"type\":\"category\",\"autorange\":\"reversed\",\"gridwidth\":2,\"automargin\":true,\"ticks\":\"outside\",\"tickcolor\":\"white\",\"ticklen\":10,\"fixedrange\":true},\"annotations\":[{\"font\":{\"size\":16},\"showarrow\":false,\"text\":\"XGBRegressor\",\"x\":0.5,\"xanchor\":\"center\",\"xref\":\"paper\",\"y\":1.0,\"yanchor\":\"bottom\",\"yref\":\"paper\"},{\"font\":{\"size\":16},\"showarrow\":false,\"text\":\"drop-out loss\",\"x\":0.5,\"xanchor\":\"center\",\"xref\":\"paper\",\"y\":0,\"yanchor\":\"top\",\"yref\":\"paper\",\"yshift\":-30}],\"shapes\":[{\"line\":{\"color\":\"#371ea3\",\"dash\":\"dot\",\"width\":1.5},\"type\":\"line\",\"x0\":15.95144425041849,\"x1\":15.95144425041849,\"xref\":\"x\",\"y0\":-1,\"y1\":5,\"yref\":\"y\"}],\"title\":{\"text\":\"Variable Importance\",\"x\":0.15},\"font\":{\"color\":\"#371ea3\"},\"margin\":{\"t\":78,\"b\":71,\"r\":30},\"height\":283.0},                        {\"responsive\": true}                    ).then(function(){\n                            \nvar gd = document.getElementById('8ab0d922-ce12-4551-8b3a-cf5e9d68d145');\nvar x = new MutationObserver(function (mutations, observer) {{\n        var display = window.getComputedStyle(gd).display;\n        if (!display || display === 'none') {{\n            console.log([gd, 'removed!']);\n            Plotly.purge(gd);\n            observer.disconnect();\n        }}\n}});\n\n// Listen for the removal of the full notebook cells\nvar notebookContainer = gd.closest('#notebook-container');\nif (notebookContainer) {{\n    x.observe(notebookContainer, {childList: true});\n}}\n\n// Listen for the clearing of the current output cell\nvar outputEl = gd.closest('.output');\nif (outputEl) {{\n    x.observe(outputEl, {childList: true});\n}}\n\n                        })                };                });            </script>        </div>"
     },
     "metadata": {},
     "output_type": "display_data"
    }
   ],
   "source": [
    "var_importance"
   ],
   "metadata": {
    "collapsed": false,
    "pycharm": {
     "name": "#%%\n"
    }
   }
  },
  {
   "cell_type": "code",
   "execution_count": 93,
   "outputs": [
    {
     "name": "stderr",
     "output_type": "stream",
     "text": [
      "E:\\anaconda\\lib\\site-packages\\sklearn\\utils\\deprecation.py:87: FutureWarning:\n",
      "\n",
      "Function get_feature_names is deprecated; get_feature_names is deprecated in 1.0 and will be removed in 1.2. Please use get_feature_names_out instead.\n",
      "\n"
     ]
    },
    {
     "name": "stdout",
     "output_type": "stream",
     "text": [
      "Topic 0:  ['uni', 'uni uni', 'attack', 'adversari', 'privaci', 'commun', 'feder', 'secur', 'g g', 'g g g']\n",
      "Topic 1:  ['layer', 'quantum', 'dataset', 'error', 'linear', 'gradient', 'nn', 'rate', 'kernel', 'di']\n",
      "Topic 2:  ['dataset', 'ml', 'http', 'decis', 'pp', 'human', 'doi', 'class', 'tree', 'user']\n",
      "Topic 3:  ['d d', 'u', 'z', 'q', 'bound', 'ct', 'θ', 'theorem', 'xi', 'x x']\n",
      "Topic 4:  ['represent', 'polici', 'imag', 'meta', 'agent', 'reinforc', 'graph', 'domain', 'reward', 'reinforc learn']\n"
     ]
    }
   ],
   "source": [
    "for index, component in enumerate(lda.components_): #taking model's components, i.e. P(w|z)\n",
    "    zipped = zip(tf_vectorizer.get_feature_names(), component) #taking together tokens' names with components\n",
    "    top_terms_key=sorted(zipped, key = lambda t: t[1], reverse=True)[:10] #top 10 terms per topic\n",
    "    top_terms_list=list(dict(top_terms_key).keys()) #taking only tokens, no weights\n",
    "\n",
    "    print(\"Topic \"+str(index)+\": \",top_terms_list) #prints top 10 tokens per topic"
   ],
   "metadata": {
    "collapsed": false,
    "pycharm": {
     "name": "#%%\n"
    }
   }
  },
  {
   "cell_type": "code",
   "execution_count": 94,
   "outputs": [
    {
     "data": {
      "text/plain": "<dalex.model_explanations._model_performance.object.ModelPerformance at 0x17222041550>",
      "text/html": "<div>\n<style scoped>\n    .dataframe tbody tr th:only-of-type {\n        vertical-align: middle;\n    }\n\n    .dataframe tbody tr th {\n        vertical-align: top;\n    }\n\n    .dataframe thead th {\n        text-align: right;\n    }\n</style>\n<table border=\"1\" class=\"dataframe\">\n  <thead>\n    <tr style=\"text-align: right;\">\n      <th></th>\n      <th>mse</th>\n      <th>rmse</th>\n      <th>r2</th>\n      <th>mae</th>\n      <th>mad</th>\n    </tr>\n  </thead>\n  <tbody>\n    <tr>\n      <th>XGBRegressor</th>\n      <td>253.769159</td>\n      <td>15.930134</td>\n      <td>0.998542</td>\n      <td>10.415174</td>\n      <td>6.718426</td>\n    </tr>\n  </tbody>\n</table>\n</div>"
     },
     "execution_count": 94,
     "metadata": {},
     "output_type": "execute_result"
    }
   ],
   "source": [
    "exp.model_performance()"
   ],
   "metadata": {
    "collapsed": false,
    "pycharm": {
     "name": "#%%\n"
    }
   }
  }
 ],
 "metadata": {
  "kernelspec": {
   "display_name": "Python 3",
   "language": "python",
   "name": "python3"
  },
  "language_info": {
   "codemirror_mode": {
    "name": "ipython",
    "version": 2
   },
   "file_extension": ".py",
   "mimetype": "text/x-python",
   "name": "python",
   "nbconvert_exporter": "python",
   "pygments_lexer": "ipython2",
   "version": "2.7.6"
  }
 },
 "nbformat": 4,
 "nbformat_minor": 0
}