{
 "cells": [
  {
   "cell_type": "code",
   "execution_count": 1,
   "metadata": {
    "collapsed": true,
    "pycharm": {
     "name": "#%%\n"
    }
   },
   "outputs": [],
   "source": [
    "import tomotopy as tp\n",
    "import pandas as pd"
   ]
  },
  {
   "cell_type": "code",
   "execution_count": 2,
   "outputs": [],
   "source": [
    "df = pd.read_json(r'C:\\Users\\jzmuj\\OneDrive\\Pulpit\\uczelnia\\topic modelling\\dataset.json').T"
   ],
   "metadata": {
    "collapsed": false,
    "pycharm": {
     "name": "#%%\n"
    }
   }
  },
  {
   "cell_type": "code",
   "execution_count": 3,
   "outputs": [
    {
     "data": {
      "text/plain": "                                                                                                 text  \\\nMachine Learning for Sociology                      SO45CH26_Garip\\nARjats.cls\\nMay 3, 2019\\n12:9\\...   \nMachine-learning approaches in drug discovery m...  Please cite this article in press as: Lavecchi...   \nMLbase A Distributed Machine-learning System        MLbase: A Distributed Machine-learning System\\...   \nMachine learning and software engineering           Software Quality Journal, 11, 87–119, 2003\\n ...   \nA survey of multi-view machine learning             INVITED REVIEW\\nA survey of multi-view machine...   \nmlr Machine Learning in R                           Journal of Machine Learning Research 17 (2016)...   \nMachine learning                                    Annu. Rev. Comput. Sci. 1990. 4:255-306 \\nCopy...   \nAutomatic differentiation in machine learning a...  Journal of Machine Learning Research 18 (2018)...   \nArgument based machine learning                     Artiﬁcial Intelligence 171 (2007) 922–937\\nwww...   \nA Machine Learning Approach to Workflow Management  A Machine Learning Approach to Workﬂow\\nManage...   \nMachine learning for molecular simulation           PC71CH16_Noe\\nARjats.cls\\nFebruary 14, 2020\\n1...   \nFrom machine learning to deep learning progress...  REVIEWS\\nDrug Discovery Today � Volume 22, Num...   \nMachine learning and radiology                      Survey Paper\\nMachine learning and radiology\\n...   \nA survey on the explainability of supervised ma...  Journal of Artiﬁcial Intelligence Research 70 ...   \nMachine learning in medicine                        1920\\nAbstract—Spurred by advances in processi...   \nDlib-ml A machine learning toolkit                  Journal of Machine Learning Research 10 (2009)...   \nMachine learning at central banks                   Staff Working Paper No. 674\\nMachine learning ...   \nMachine learning that matters                       Machine Learning that Matters\\nKiri L. Wagstaﬀ...   \nMachine learning in catalysis                       230\\ncomment\\n© 2018 Macmillan Publishers Limi...   \nMachine learning in the electrocardiogram           Review\\nMachine learning in the electrocardiog...   \nIntroduction to machine learning                    105\\nMalik Yousef and Jens Allmer (eds.), miRN...   \nMachine learning in agriculture A review            sensors\\nReview\\nMachine Learning in Agricultu...   \nAdversarial machine learning                        Adversarial Machine Learning\\n∗\\nLing Huang\\nI...   \nMachine learning of temporal relations              Proceedings of the 21st International Conferen...   \nMachine learning applications in epilepsy           Epilepsia. 2019;60:2037–2047. \\nwileyonlinelib...   \nGaussian processes for machine learning             International Journal of Neural Systems, Vol. ...   \nMachine learning models that remember too much      Machine Learning Models that Remember Too Much...   \nMachine learning social learning and the govern...  https://doi.org/10.1177/0306312717741687\\nSoci...   \nWrapper maintenance A machine learning approach     Journal of Artiﬁcial Intelligence Research 18 ...   \nMachine learning for active matter                  Review ARticle\\nhttps://doi.org/10.1038/s42256...   \nA survey on machine-learning techniques in cogn...  IEEE COMMUNICATIONS SURVEYS & TUTORIALS, ACCEP...   \nPylearn2 a machine learning research library        arXiv:1308.4214v1  [stat.ML]  20 Aug 2013\\nPyl...   \nDiversity in Machine Learning                       Received April 26, 2019, accepted May 15, 2019...   \nAn introduction to machine learning                 CLINICAL PHARMACOLOGY & THERAPEUTICS | VOLUME ...   \nThe immune system adaptation and machine learning   Physica 22D (1986) 187-204 \\nNorth-Holland, Am...   \nThe SHOGUN machine learning toolbox                 Journal of Machine Learning Research 11 (2010)...   \nThe ALAMO approach to machine learning              Accepted Manuscript\\nTitle: The ALAMO approach...   \nAccelerating the machine learning lifecycle wit...  Accelerating the Machine Learning Lifecycle wi...   \nMachine learning approaches to manufacturing        Technical Report\\nMachine Learning Approaches ...   \nOn-line algorithms in machine learning              4 \\nOn-line Algorithms in \\nMachine Learning \\...   \nQuantum machine learning                            1 4  s e p t e m b e r  2 0 1 7  |  V O L  5 4...   \nA machine learning approach to android malware ...  A Machine Learning Approach to Android Malware...   \nA survey of deep learning and its applications ...  Vol.:(0123456789)\\n1 3\\nArchives of Computatio...   \nTechniques for interpretable machine learning       68    COMMUNICATIONS OF THE ACM   |  JANUARY 2...   \nMachine learning techniques in spam filtering       Machine Learning Techniques in Spam Filtering\\...   \nInterpretable machine learning in healthcare        Interpretable Machine Learning in Healthcare\\n...   \nUnderstanding from machine learning models          \\t\\n\\t\\nUnderstanding from Machine Learning Mo...   \nWeka A machine learning workbench                   WEKA: A Machine Learning Workbench \\nGeoffrey ...   \nCryptography and machine learning                   Cryptography and Machine Learning \\nRonald L. ...   \nMachine learning and its applications A review.pdf  Machine Learning and its Applications:\\nA Revi...   \n\n                                                   citations  \nMachine Learning for Sociology                         169.0  \nMachine-learning approaches in drug discovery m...     585.0  \nMLbase A Distributed Machine-learning System           444.0  \nMachine learning and software engineering              214.0  \nA survey of multi-view machine learning                829.0  \nmlr Machine Learning in R                              720.0  \nMachine learning                                       211.0  \nAutomatic differentiation in machine learning a...    1975.0  \nArgument based machine learning                        170.0  \nA Machine Learning Approach to Workflow Management      80.0  \nMachine learning for molecular simulation              366.0  \nFrom machine learning to deep learning progress...     478.0  \nMachine learning and radiology                         615.0  \nA survey on the explainability of supervised ma...     253.0  \nMachine learning in medicine                          1801.0  \nDlib-ml A machine learning toolkit                    3202.0  \nMachine learning at central banks                      169.0  \nMachine learning that matters                          324.0  \nMachine learning in catalysis                          291.0  \nMachine learning in the electrocardiogram               67.0  \nIntroduction to machine learning                       294.0  \nMachine learning in agriculture A review              1444.0  \nAdversarial machine learning                          1219.0  \nMachine learning of temporal relations                 345.0  \nMachine learning applications in epilepsy              176.0  \nGaussian processes for machine learning                875.0  \nMachine learning models that remember too much         386.0  \nMachine learning social learning and the govern...     324.0  \nWrapper maintenance A machine learning approach        256.0  \nMachine learning for active matter                     143.0  \nA survey on machine-learning techniques in cogn...     598.0  \nPylearn2 a machine learning research library           357.0  \nDiversity in Machine Learning                          106.0  \nAn introduction to machine learning                    140.0  \nThe immune system adaptation and machine learning     2176.0  \nThe SHOGUN machine learning toolbox                    364.0  \nThe ALAMO approach to machine learning                 140.0  \nAccelerating the machine learning lifecycle wit...     237.0  \nMachine learning approaches to manufacturing           243.0  \nOn-line algorithms in machine learning                 333.0  \nQuantum machine learning                              2296.0  \nA machine learning approach to android malware ...     424.0  \nA survey of deep learning and its applications ...     491.0  \nTechniques for interpretable machine learning          764.0  \nMachine learning techniques in spam filtering          199.0  \nInterpretable machine learning in healthcare           426.0  \nUnderstanding from machine learning models              74.0  \nWeka A machine learning workbench                     1404.0  \nCryptography and machine learning                      114.0  \nMachine learning and its applications A review.pdf       170  ",
      "text/html": "<div>\n<style scoped>\n    .dataframe tbody tr th:only-of-type {\n        vertical-align: middle;\n    }\n\n    .dataframe tbody tr th {\n        vertical-align: top;\n    }\n\n    .dataframe thead th {\n        text-align: right;\n    }\n</style>\n<table border=\"1\" class=\"dataframe\">\n  <thead>\n    <tr style=\"text-align: right;\">\n      <th></th>\n      <th>text</th>\n      <th>citations</th>\n    </tr>\n  </thead>\n  <tbody>\n    <tr>\n      <th>Machine Learning for Sociology</th>\n      <td>SO45CH26_Garip\\nARjats.cls\\nMay 3, 2019\\n12:9\\...</td>\n      <td>169.0</td>\n    </tr>\n    <tr>\n      <th>Machine-learning approaches in drug discovery methods and applications</th>\n      <td>Please cite this article in press as: Lavecchi...</td>\n      <td>585.0</td>\n    </tr>\n    <tr>\n      <th>MLbase A Distributed Machine-learning System</th>\n      <td>MLbase: A Distributed Machine-learning System\\...</td>\n      <td>444.0</td>\n    </tr>\n    <tr>\n      <th>Machine learning and software engineering</th>\n      <td>Software Quality Journal, 11, 87–119, 2003\\n ...</td>\n      <td>214.0</td>\n    </tr>\n    <tr>\n      <th>A survey of multi-view machine learning</th>\n      <td>INVITED REVIEW\\nA survey of multi-view machine...</td>\n      <td>829.0</td>\n    </tr>\n    <tr>\n      <th>mlr Machine Learning in R</th>\n      <td>Journal of Machine Learning Research 17 (2016)...</td>\n      <td>720.0</td>\n    </tr>\n    <tr>\n      <th>Machine learning</th>\n      <td>Annu. Rev. Comput. Sci. 1990. 4:255-306 \\nCopy...</td>\n      <td>211.0</td>\n    </tr>\n    <tr>\n      <th>Automatic differentiation in machine learning a survey</th>\n      <td>Journal of Machine Learning Research 18 (2018)...</td>\n      <td>1975.0</td>\n    </tr>\n    <tr>\n      <th>Argument based machine learning</th>\n      <td>Artiﬁcial Intelligence 171 (2007) 922–937\\nwww...</td>\n      <td>170.0</td>\n    </tr>\n    <tr>\n      <th>A Machine Learning Approach to Workflow Management</th>\n      <td>A Machine Learning Approach to Workﬂow\\nManage...</td>\n      <td>80.0</td>\n    </tr>\n    <tr>\n      <th>Machine learning for molecular simulation</th>\n      <td>PC71CH16_Noe\\nARjats.cls\\nFebruary 14, 2020\\n1...</td>\n      <td>366.0</td>\n    </tr>\n    <tr>\n      <th>From machine learning to deep learning progress in machine intelligence for rational drug discovery</th>\n      <td>REVIEWS\\nDrug Discovery Today � Volume 22, Num...</td>\n      <td>478.0</td>\n    </tr>\n    <tr>\n      <th>Machine learning and radiology</th>\n      <td>Survey Paper\\nMachine learning and radiology\\n...</td>\n      <td>615.0</td>\n    </tr>\n    <tr>\n      <th>A survey on the explainability of supervised machine learning</th>\n      <td>Journal of Artiﬁcial Intelligence Research 70 ...</td>\n      <td>253.0</td>\n    </tr>\n    <tr>\n      <th>Machine learning in medicine</th>\n      <td>1920\\nAbstract—Spurred by advances in processi...</td>\n      <td>1801.0</td>\n    </tr>\n    <tr>\n      <th>Dlib-ml A machine learning toolkit</th>\n      <td>Journal of Machine Learning Research 10 (2009)...</td>\n      <td>3202.0</td>\n    </tr>\n    <tr>\n      <th>Machine learning at central banks</th>\n      <td>Staff Working Paper No. 674\\nMachine learning ...</td>\n      <td>169.0</td>\n    </tr>\n    <tr>\n      <th>Machine learning that matters</th>\n      <td>Machine Learning that Matters\\nKiri L. Wagstaﬀ...</td>\n      <td>324.0</td>\n    </tr>\n    <tr>\n      <th>Machine learning in catalysis</th>\n      <td>230\\ncomment\\n© 2018 Macmillan Publishers Limi...</td>\n      <td>291.0</td>\n    </tr>\n    <tr>\n      <th>Machine learning in the electrocardiogram</th>\n      <td>Review\\nMachine learning in the electrocardiog...</td>\n      <td>67.0</td>\n    </tr>\n    <tr>\n      <th>Introduction to machine learning</th>\n      <td>105\\nMalik Yousef and Jens Allmer (eds.), miRN...</td>\n      <td>294.0</td>\n    </tr>\n    <tr>\n      <th>Machine learning in agriculture A review</th>\n      <td>sensors\\nReview\\nMachine Learning in Agricultu...</td>\n      <td>1444.0</td>\n    </tr>\n    <tr>\n      <th>Adversarial machine learning</th>\n      <td>Adversarial Machine Learning\\n∗\\nLing Huang\\nI...</td>\n      <td>1219.0</td>\n    </tr>\n    <tr>\n      <th>Machine learning of temporal relations</th>\n      <td>Proceedings of the 21st International Conferen...</td>\n      <td>345.0</td>\n    </tr>\n    <tr>\n      <th>Machine learning applications in epilepsy</th>\n      <td>Epilepsia. 2019;60:2037–2047. \\nwileyonlinelib...</td>\n      <td>176.0</td>\n    </tr>\n    <tr>\n      <th>Gaussian processes for machine learning</th>\n      <td>International Journal of Neural Systems, Vol. ...</td>\n      <td>875.0</td>\n    </tr>\n    <tr>\n      <th>Machine learning models that remember too much</th>\n      <td>Machine Learning Models that Remember Too Much...</td>\n      <td>386.0</td>\n    </tr>\n    <tr>\n      <th>Machine learning social learning and the governance of self-driving cars</th>\n      <td>https://doi.org/10.1177/0306312717741687\\nSoci...</td>\n      <td>324.0</td>\n    </tr>\n    <tr>\n      <th>Wrapper maintenance A machine learning approach</th>\n      <td>Journal of Artiﬁcial Intelligence Research 18 ...</td>\n      <td>256.0</td>\n    </tr>\n    <tr>\n      <th>Machine learning for active matter</th>\n      <td>Review ARticle\\nhttps://doi.org/10.1038/s42256...</td>\n      <td>143.0</td>\n    </tr>\n    <tr>\n      <th>A survey on machine-learning techniques in cognitive radios</th>\n      <td>IEEE COMMUNICATIONS SURVEYS &amp; TUTORIALS, ACCEP...</td>\n      <td>598.0</td>\n    </tr>\n    <tr>\n      <th>Pylearn2 a machine learning research library</th>\n      <td>arXiv:1308.4214v1  [stat.ML]  20 Aug 2013\\nPyl...</td>\n      <td>357.0</td>\n    </tr>\n    <tr>\n      <th>Diversity in Machine Learning</th>\n      <td>Received April 26, 2019, accepted May 15, 2019...</td>\n      <td>106.0</td>\n    </tr>\n    <tr>\n      <th>An introduction to machine learning</th>\n      <td>CLINICAL PHARMACOLOGY &amp; THERAPEUTICS | VOLUME ...</td>\n      <td>140.0</td>\n    </tr>\n    <tr>\n      <th>The immune system adaptation and machine learning</th>\n      <td>Physica 22D (1986) 187-204 \\nNorth-Holland, Am...</td>\n      <td>2176.0</td>\n    </tr>\n    <tr>\n      <th>The SHOGUN machine learning toolbox</th>\n      <td>Journal of Machine Learning Research 11 (2010)...</td>\n      <td>364.0</td>\n    </tr>\n    <tr>\n      <th>The ALAMO approach to machine learning</th>\n      <td>Accepted Manuscript\\nTitle: The ALAMO approach...</td>\n      <td>140.0</td>\n    </tr>\n    <tr>\n      <th>Accelerating the machine learning lifecycle with MLflow</th>\n      <td>Accelerating the Machine Learning Lifecycle wi...</td>\n      <td>237.0</td>\n    </tr>\n    <tr>\n      <th>Machine learning approaches to manufacturing</th>\n      <td>Technical Report\\nMachine Learning Approaches ...</td>\n      <td>243.0</td>\n    </tr>\n    <tr>\n      <th>On-line algorithms in machine learning</th>\n      <td>4 \\nOn-line Algorithms in \\nMachine Learning \\...</td>\n      <td>333.0</td>\n    </tr>\n    <tr>\n      <th>Quantum machine learning</th>\n      <td>1 4  s e p t e m b e r  2 0 1 7  |  V O L  5 4...</td>\n      <td>2296.0</td>\n    </tr>\n    <tr>\n      <th>A machine learning approach to android malware detection</th>\n      <td>A Machine Learning Approach to Android Malware...</td>\n      <td>424.0</td>\n    </tr>\n    <tr>\n      <th>A survey of deep learning and its applications a new paradigm to machine learning</th>\n      <td>Vol.:(0123456789)\\n1 3\\nArchives of Computatio...</td>\n      <td>491.0</td>\n    </tr>\n    <tr>\n      <th>Techniques for interpretable machine learning</th>\n      <td>68    COMMUNICATIONS OF THE ACM   |  JANUARY 2...</td>\n      <td>764.0</td>\n    </tr>\n    <tr>\n      <th>Machine learning techniques in spam filtering</th>\n      <td>Machine Learning Techniques in Spam Filtering\\...</td>\n      <td>199.0</td>\n    </tr>\n    <tr>\n      <th>Interpretable machine learning in healthcare</th>\n      <td>Interpretable Machine Learning in Healthcare\\n...</td>\n      <td>426.0</td>\n    </tr>\n    <tr>\n      <th>Understanding from machine learning models</th>\n      <td>\\t\\n\\t\\nUnderstanding from Machine Learning Mo...</td>\n      <td>74.0</td>\n    </tr>\n    <tr>\n      <th>Weka A machine learning workbench</th>\n      <td>WEKA: A Machine Learning Workbench \\nGeoffrey ...</td>\n      <td>1404.0</td>\n    </tr>\n    <tr>\n      <th>Cryptography and machine learning</th>\n      <td>Cryptography and Machine Learning \\nRonald L. ...</td>\n      <td>114.0</td>\n    </tr>\n    <tr>\n      <th>Machine learning and its applications A review.pdf</th>\n      <td>Machine Learning and its Applications:\\nA Revi...</td>\n      <td>170</td>\n    </tr>\n  </tbody>\n</table>\n</div>"
     },
     "execution_count": 3,
     "metadata": {},
     "output_type": "execute_result"
    }
   ],
   "source": [
    "df"
   ],
   "metadata": {
    "collapsed": false,
    "pycharm": {
     "name": "#%%\n"
    }
   }
  },
  {
   "cell_type": "code",
   "execution_count": 4,
   "outputs": [],
   "source": [
    "from sklearn.decomposition import LatentDirichletAllocation\n",
    "from nltk.stem.porter import PorterStemmer\n",
    "import re\n",
    "from nltk.tokenize import RegexpTokenizer\n",
    "stemmer = PorterStemmer()\n",
    "tokenizer = RegexpTokenizer(r'\\w+')\n",
    "def preprocess_text(text: str):\n",
    "    return ' '.join([stemmer.stem(word) for word in tokenizer.tokenize(' '.join([re.sub(r'\\s+', ' ', word) for word in text.split()]))])\n"
   ],
   "metadata": {
    "collapsed": false,
    "pycharm": {
     "name": "#%%\n"
    }
   }
  },
  {
   "cell_type": "code",
   "execution_count": 5,
   "outputs": [],
   "source": [
    "df['text_pp'] = df['text'].apply(lambda x: preprocess_text(x))"
   ],
   "metadata": {
    "collapsed": false,
    "pycharm": {
     "name": "#%%\n"
    }
   }
  },
  {
   "cell_type": "code",
   "execution_count": 6,
   "outputs": [],
   "source": [
    "from sklearn.feature_extraction.text import CountVectorizer\n",
    "\n",
    "tf_vectorizer = CountVectorizer(ngram_range = (1, 3),\n",
    "                                max_df = 0.75,\n",
    "                                min_df = 0.01,\n",
    "                                tokenizer = tokenizer.tokenize,\n",
    "                                stop_words='english'\n",
    ")"
   ],
   "metadata": {
    "collapsed": false,
    "pycharm": {
     "name": "#%%\n"
    }
   }
  },
  {
   "cell_type": "code",
   "execution_count": 7,
   "outputs": [
    {
     "data": {
      "text/plain": "                                                                                                 text  \\\nMachine Learning for Sociology                      SO45CH26_Garip\\nARjats.cls\\nMay 3, 2019\\n12:9\\...   \nMachine-learning approaches in drug discovery m...  Please cite this article in press as: Lavecchi...   \nMLbase A Distributed Machine-learning System        MLbase: A Distributed Machine-learning System\\...   \nMachine learning and software engineering           Software Quality Journal, 11, 87–119, 2003\\n ...   \nA survey of multi-view machine learning             INVITED REVIEW\\nA survey of multi-view machine...   \n\n                                                   citations  \\\nMachine Learning for Sociology                         169.0   \nMachine-learning approaches in drug discovery m...     585.0   \nMLbase A Distributed Machine-learning System           444.0   \nMachine learning and software engineering              214.0   \nA survey of multi-view machine learning                829.0   \n\n                                                                                              text_pp  \nMachine Learning for Sociology                      so45ch26_garip arjat cl may 3 2019 12 9 annual...  \nMachine-learning approaches in drug discovery m...  pleas cite thi articl in press as lavecchia a ...  \nMLbase A Distributed Machine-learning System        mlbase a distribut machin learn system tim kra...  \nMachine learning and software engineering           softwar qualiti journal 11 87 119 2003 2003 kl...  \nA survey of multi-view machine learning             invit review a survey of multi view machin lea...  ",
      "text/html": "<div>\n<style scoped>\n    .dataframe tbody tr th:only-of-type {\n        vertical-align: middle;\n    }\n\n    .dataframe tbody tr th {\n        vertical-align: top;\n    }\n\n    .dataframe thead th {\n        text-align: right;\n    }\n</style>\n<table border=\"1\" class=\"dataframe\">\n  <thead>\n    <tr style=\"text-align: right;\">\n      <th></th>\n      <th>text</th>\n      <th>citations</th>\n      <th>text_pp</th>\n    </tr>\n  </thead>\n  <tbody>\n    <tr>\n      <th>Machine Learning for Sociology</th>\n      <td>SO45CH26_Garip\\nARjats.cls\\nMay 3, 2019\\n12:9\\...</td>\n      <td>169.0</td>\n      <td>so45ch26_garip arjat cl may 3 2019 12 9 annual...</td>\n    </tr>\n    <tr>\n      <th>Machine-learning approaches in drug discovery methods and applications</th>\n      <td>Please cite this article in press as: Lavecchi...</td>\n      <td>585.0</td>\n      <td>pleas cite thi articl in press as lavecchia a ...</td>\n    </tr>\n    <tr>\n      <th>MLbase A Distributed Machine-learning System</th>\n      <td>MLbase: A Distributed Machine-learning System\\...</td>\n      <td>444.0</td>\n      <td>mlbase a distribut machin learn system tim kra...</td>\n    </tr>\n    <tr>\n      <th>Machine learning and software engineering</th>\n      <td>Software Quality Journal, 11, 87–119, 2003\\n ...</td>\n      <td>214.0</td>\n      <td>softwar qualiti journal 11 87 119 2003 2003 kl...</td>\n    </tr>\n    <tr>\n      <th>A survey of multi-view machine learning</th>\n      <td>INVITED REVIEW\\nA survey of multi-view machine...</td>\n      <td>829.0</td>\n      <td>invit review a survey of multi view machin lea...</td>\n    </tr>\n  </tbody>\n</table>\n</div>"
     },
     "execution_count": 7,
     "metadata": {},
     "output_type": "execute_result"
    }
   ],
   "source": [
    "df.head()"
   ],
   "metadata": {
    "collapsed": false,
    "pycharm": {
     "name": "#%%\n"
    }
   }
  },
  {
   "cell_type": "code",
   "execution_count": 8,
   "outputs": [],
   "source": [
    "tf = tf_vectorizer.fit_transform(df['text_pp'])"
   ],
   "metadata": {
    "collapsed": false,
    "pycharm": {
     "name": "#%%\n"
    }
   }
  },
  {
   "cell_type": "code",
   "execution_count": 9,
   "outputs": [
    {
     "name": "stdout",
     "output_type": "stream",
     "text": [
      "Fitting 3 folds for each of 30 candidates, totalling 90 fits\n",
      "[CV 1/3] END learning_decay=0.7999999999999999, learning_offset=90, max_doc_update_iter=100, max_iter=20, mean_change_tol=1e-06, n_components=65, perp_tol=0.1;, score=-23257697.852 total time= 1.3min\n",
      "[CV 2/3] END learning_decay=0.7999999999999999, learning_offset=90, max_doc_update_iter=100, max_iter=20, mean_change_tol=1e-06, n_components=65, perp_tol=0.1;, score=-21658335.713 total time= 1.2min\n",
      "[CV 3/3] END learning_decay=0.7999999999999999, learning_offset=90, max_doc_update_iter=100, max_iter=20, mean_change_tol=1e-06, n_components=65, perp_tol=0.1;, score=-14654811.774 total time= 1.3min\n",
      "[CV 1/3] END learning_decay=0.8999999999999999, learning_offset=80, max_doc_update_iter=100, max_iter=20, mean_change_tol=0.01, n_components=145, perp_tol=0.1;, score=-46540642.898 total time= 2.9min\n",
      "[CV 2/3] END learning_decay=0.8999999999999999, learning_offset=80, max_doc_update_iter=100, max_iter=20, mean_change_tol=0.01, n_components=145, perp_tol=0.1;, score=-42912806.948 total time= 2.9min\n",
      "[CV 3/3] END learning_decay=0.8999999999999999, learning_offset=80, max_doc_update_iter=100, max_iter=20, mean_change_tol=0.01, n_components=145, perp_tol=0.1;, score=-27858949.792 total time= 3.2min\n",
      "[CV 1/3] END learning_decay=0.8999999999999999, learning_offset=140, max_doc_update_iter=100, max_iter=20, mean_change_tol=0.01, n_components=55, perp_tol=0.1;, score=-20571190.948 total time=  55.3s\n",
      "[CV 2/3] END learning_decay=0.8999999999999999, learning_offset=140, max_doc_update_iter=100, max_iter=20, mean_change_tol=0.01, n_components=55, perp_tol=0.1;, score=-19154180.079 total time=  57.0s\n",
      "[CV 3/3] END learning_decay=0.8999999999999999, learning_offset=140, max_doc_update_iter=100, max_iter=20, mean_change_tol=0.01, n_components=55, perp_tol=0.1;, score=-13029011.828 total time= 1.1min\n",
      "[CV 1/3] END learning_decay=0.7999999999999999, learning_offset=110, max_doc_update_iter=100, max_iter=20, mean_change_tol=0.01, n_components=115, perp_tol=0.1;, score=-37610751.140 total time= 2.1min\n",
      "[CV 2/3] END learning_decay=0.7999999999999999, learning_offset=110, max_doc_update_iter=100, max_iter=20, mean_change_tol=0.01, n_components=115, perp_tol=0.1;, score=-34652521.737 total time= 2.2min\n",
      "[CV 3/3] END learning_decay=0.7999999999999999, learning_offset=110, max_doc_update_iter=100, max_iter=20, mean_change_tol=0.01, n_components=115, perp_tol=0.1;, score=-22599668.145 total time= 2.5min\n",
      "[CV 1/3] END learning_decay=0.7999999999999999, learning_offset=50, max_doc_update_iter=100, max_iter=20, mean_change_tol=0.001, n_components=70, perp_tol=0.1;, score=-24597971.640 total time= 1.2min\n",
      "[CV 2/3] END learning_decay=0.7999999999999999, learning_offset=50, max_doc_update_iter=100, max_iter=20, mean_change_tol=0.001, n_components=70, perp_tol=0.1;, score=-22902952.801 total time= 1.3min\n",
      "[CV 3/3] END learning_decay=0.7999999999999999, learning_offset=50, max_doc_update_iter=100, max_iter=20, mean_change_tol=0.001, n_components=70, perp_tol=0.1;, score=-15447368.709 total time= 1.4min\n",
      "[CV 1/3] END learning_decay=0.7, learning_offset=90, max_doc_update_iter=100, max_iter=20, mean_change_tol=0.001, n_components=55, perp_tol=0.1;, score=-20568060.056 total time=  55.6s\n",
      "[CV 2/3] END learning_decay=0.7, learning_offset=90, max_doc_update_iter=100, max_iter=20, mean_change_tol=0.001, n_components=55, perp_tol=0.1;, score=-19148797.966 total time=  57.4s\n",
      "[CV 3/3] END learning_decay=0.7, learning_offset=90, max_doc_update_iter=100, max_iter=20, mean_change_tol=0.001, n_components=55, perp_tol=0.1;, score=-13011269.841 total time= 1.1min\n",
      "[CV 1/3] END learning_decay=0.7999999999999999, learning_offset=50, max_doc_update_iter=100, max_iter=20, mean_change_tol=1e-06, n_components=140, perp_tol=0.1;, score=-45155388.930 total time= 3.1min\n",
      "[CV 2/3] END learning_decay=0.7999999999999999, learning_offset=50, max_doc_update_iter=100, max_iter=20, mean_change_tol=1e-06, n_components=140, perp_tol=0.1;, score=-41481959.049 total time= 3.2min\n",
      "[CV 3/3] END learning_decay=0.7999999999999999, learning_offset=50, max_doc_update_iter=100, max_iter=20, mean_change_tol=1e-06, n_components=140, perp_tol=0.1;, score=-26955991.174 total time= 3.5min\n",
      "[CV 1/3] END learning_decay=0.7, learning_offset=70, max_doc_update_iter=100, max_iter=20, mean_change_tol=0.0001, n_components=35, perp_tol=0.1;, score=-15165486.846 total time=  33.1s\n",
      "[CV 2/3] END learning_decay=0.7, learning_offset=70, max_doc_update_iter=100, max_iter=20, mean_change_tol=0.0001, n_components=35, perp_tol=0.1;, score=-14135427.350 total time=  34.3s\n",
      "[CV 3/3] END learning_decay=0.7, learning_offset=70, max_doc_update_iter=100, max_iter=20, mean_change_tol=0.0001, n_components=35, perp_tol=0.1;, score=-9739319.541 total time=  37.7s\n",
      "[CV 1/3] END learning_decay=0.6, learning_offset=40, max_doc_update_iter=100, max_iter=20, mean_change_tol=1e-06, n_components=50, perp_tol=0.1;, score=-19230762.379 total time=  50.9s\n",
      "[CV 2/3] END learning_decay=0.6, learning_offset=40, max_doc_update_iter=100, max_iter=20, mean_change_tol=1e-06, n_components=50, perp_tol=0.1;, score=-17902625.621 total time=  52.5s\n",
      "[CV 3/3] END learning_decay=0.6, learning_offset=40, max_doc_update_iter=100, max_iter=20, mean_change_tol=1e-06, n_components=50, perp_tol=0.1;, score=-12215178.830 total time=  57.7s\n",
      "[CV 1/3] END learning_decay=0.7999999999999999, learning_offset=70, max_doc_update_iter=100, max_iter=20, mean_change_tol=0.001, n_components=25, perp_tol=0.1;, score=-12399338.731 total time=  23.3s\n",
      "[CV 2/3] END learning_decay=0.7999999999999999, learning_offset=70, max_doc_update_iter=100, max_iter=20, mean_change_tol=0.001, n_components=25, perp_tol=0.1;, score=-11524520.182 total time=  23.9s\n",
      "[CV 3/3] END learning_decay=0.7999999999999999, learning_offset=70, max_doc_update_iter=100, max_iter=20, mean_change_tol=0.001, n_components=25, perp_tol=0.1;, score=-8021017.303 total time=  26.0s\n",
      "[CV 1/3] END learning_decay=0.7, learning_offset=20, max_doc_update_iter=100, max_iter=20, mean_change_tol=0.01, n_components=10, perp_tol=0.1;, score=-8269963.367 total time=   9.6s\n",
      "[CV 2/3] END learning_decay=0.7, learning_offset=20, max_doc_update_iter=100, max_iter=20, mean_change_tol=0.01, n_components=10, perp_tol=0.1;, score=-7643253.039 total time=   9.7s\n",
      "[CV 3/3] END learning_decay=0.7, learning_offset=20, max_doc_update_iter=100, max_iter=20, mean_change_tol=0.01, n_components=10, perp_tol=0.1;, score=-5386190.129 total time=  10.5s\n",
      "[CV 1/3] END learning_decay=0.6, learning_offset=50, max_doc_update_iter=100, max_iter=20, mean_change_tol=0.01, n_components=10, perp_tol=0.1;, score=-8253135.567 total time=   9.3s\n",
      "[CV 2/3] END learning_decay=0.6, learning_offset=50, max_doc_update_iter=100, max_iter=20, mean_change_tol=0.01, n_components=10, perp_tol=0.1;, score=-7694699.562 total time=   9.6s\n",
      "[CV 3/3] END learning_decay=0.6, learning_offset=50, max_doc_update_iter=100, max_iter=20, mean_change_tol=0.01, n_components=10, perp_tol=0.1;, score=-5370678.328 total time=  10.6s\n",
      "[CV 1/3] END learning_decay=0.7999999999999999, learning_offset=60, max_doc_update_iter=100, max_iter=20, mean_change_tol=0.0001, n_components=110, perp_tol=0.1;, score=-36138558.917 total time= 2.1min\n",
      "[CV 2/3] END learning_decay=0.7999999999999999, learning_offset=60, max_doc_update_iter=100, max_iter=20, mean_change_tol=0.0001, n_components=110, perp_tol=0.1;, score=-33291929.937 total time= 2.2min\n",
      "[CV 3/3] END learning_decay=0.7999999999999999, learning_offset=60, max_doc_update_iter=100, max_iter=20, mean_change_tol=0.0001, n_components=110, perp_tol=0.1;, score=-21771243.855 total time= 2.5min\n",
      "[CV 1/3] END learning_decay=0.7, learning_offset=40, max_doc_update_iter=100, max_iter=20, mean_change_tol=1e-05, n_components=10, perp_tol=0.1;, score=-8259314.051 total time=   9.5s\n",
      "[CV 2/3] END learning_decay=0.7, learning_offset=40, max_doc_update_iter=100, max_iter=20, mean_change_tol=1e-05, n_components=10, perp_tol=0.1;, score=-7641835.801 total time=   9.8s\n",
      "[CV 3/3] END learning_decay=0.7, learning_offset=40, max_doc_update_iter=100, max_iter=20, mean_change_tol=1e-05, n_components=10, perp_tol=0.1;, score=-5376657.755 total time=  10.7s\n",
      "[CV 1/3] END learning_decay=0.7999999999999999, learning_offset=140, max_doc_update_iter=100, max_iter=20, mean_change_tol=0.001, n_components=55, perp_tol=0.1;, score=-20564149.373 total time=  55.7s\n",
      "[CV 2/3] END learning_decay=0.7999999999999999, learning_offset=140, max_doc_update_iter=100, max_iter=20, mean_change_tol=0.001, n_components=55, perp_tol=0.1;, score=-19157597.749 total time=  59.2s\n",
      "[CV 3/3] END learning_decay=0.7999999999999999, learning_offset=140, max_doc_update_iter=100, max_iter=20, mean_change_tol=0.001, n_components=55, perp_tol=0.1;, score=-13023896.305 total time= 1.1min\n",
      "[CV 1/3] END learning_decay=0.8999999999999999, learning_offset=120, max_doc_update_iter=100, max_iter=20, mean_change_tol=0.0001, n_components=25, perp_tol=0.1;, score=-12410452.998 total time=  23.9s\n",
      "[CV 2/3] END learning_decay=0.8999999999999999, learning_offset=120, max_doc_update_iter=100, max_iter=20, mean_change_tol=0.0001, n_components=25, perp_tol=0.1;, score=-11547569.583 total time=  24.9s\n",
      "[CV 3/3] END learning_decay=0.8999999999999999, learning_offset=120, max_doc_update_iter=100, max_iter=20, mean_change_tol=0.0001, n_components=25, perp_tol=0.1;, score=-7996950.099 total time=  26.8s\n",
      "[CV 1/3] END learning_decay=0.6, learning_offset=90, max_doc_update_iter=100, max_iter=20, mean_change_tol=0.0001, n_components=35, perp_tol=0.1;, score=-15167072.511 total time=  34.1s\n",
      "[CV 2/3] END learning_decay=0.6, learning_offset=90, max_doc_update_iter=100, max_iter=20, mean_change_tol=0.0001, n_components=35, perp_tol=0.1;, score=-14139813.595 total time=  35.3s\n",
      "[CV 3/3] END learning_decay=0.6, learning_offset=90, max_doc_update_iter=100, max_iter=20, mean_change_tol=0.0001, n_components=35, perp_tol=0.1;, score=-9747076.818 total time=  38.8s\n",
      "[CV 1/3] END learning_decay=0.6, learning_offset=60, max_doc_update_iter=100, max_iter=20, mean_change_tol=1e-06, n_components=115, perp_tol=0.1;, score=-37557126.293 total time= 2.4min\n",
      "[CV 2/3] END learning_decay=0.6, learning_offset=60, max_doc_update_iter=100, max_iter=20, mean_change_tol=1e-06, n_components=115, perp_tol=0.1;, score=-34682993.118 total time= 3.0min\n",
      "[CV 3/3] END learning_decay=0.6, learning_offset=60, max_doc_update_iter=100, max_iter=20, mean_change_tol=1e-06, n_components=115, perp_tol=0.1;, score=-22584479.970 total time= 2.7min\n",
      "[CV 1/3] END learning_decay=0.7, learning_offset=120, max_doc_update_iter=100, max_iter=20, mean_change_tol=0.01, n_components=45, perp_tol=0.1;, score=-17862530.666 total time=  48.6s\n",
      "[CV 2/3] END learning_decay=0.7, learning_offset=120, max_doc_update_iter=100, max_iter=20, mean_change_tol=0.01, n_components=45, perp_tol=0.1;, score=-16650057.365 total time=  53.6s\n",
      "[CV 3/3] END learning_decay=0.7, learning_offset=120, max_doc_update_iter=100, max_iter=20, mean_change_tol=0.01, n_components=45, perp_tol=0.1;, score=-11383420.377 total time= 1.1min\n",
      "[CV 1/3] END learning_decay=0.7, learning_offset=100, max_doc_update_iter=100, max_iter=20, mean_change_tol=1e-06, n_components=45, perp_tol=0.1;, score=-17872974.088 total time=  53.9s\n",
      "[CV 2/3] END learning_decay=0.7, learning_offset=100, max_doc_update_iter=100, max_iter=20, mean_change_tol=1e-06, n_components=45, perp_tol=0.1;, score=-16652424.788 total time=  57.1s\n",
      "[CV 3/3] END learning_decay=0.7, learning_offset=100, max_doc_update_iter=100, max_iter=20, mean_change_tol=1e-06, n_components=45, perp_tol=0.1;, score=-11392810.295 total time=  59.3s\n",
      "[CV 1/3] END learning_decay=0.6, learning_offset=120, max_doc_update_iter=100, max_iter=20, mean_change_tol=0.01, n_components=105, perp_tol=0.1;, score=-34667382.693 total time= 2.0min\n",
      "[CV 2/3] END learning_decay=0.6, learning_offset=120, max_doc_update_iter=100, max_iter=20, mean_change_tol=0.01, n_components=105, perp_tol=0.1;, score=-31994828.989 total time= 1.9min\n",
      "[CV 3/3] END learning_decay=0.6, learning_offset=120, max_doc_update_iter=100, max_iter=20, mean_change_tol=0.01, n_components=105, perp_tol=0.1;, score=-20927491.263 total time= 2.1min\n",
      "[CV 1/3] END learning_decay=0.6, learning_offset=50, max_doc_update_iter=100, max_iter=20, mean_change_tol=0.01, n_components=50, perp_tol=0.1;, score=-19199536.709 total time=  50.2s\n",
      "[CV 2/3] END learning_decay=0.6, learning_offset=50, max_doc_update_iter=100, max_iter=20, mean_change_tol=0.01, n_components=50, perp_tol=0.1;, score=-17904597.484 total time=  51.8s\n",
      "[CV 3/3] END learning_decay=0.6, learning_offset=50, max_doc_update_iter=100, max_iter=20, mean_change_tol=0.01, n_components=50, perp_tol=0.1;, score=-12208013.331 total time=  57.0s\n",
      "[CV 1/3] END learning_decay=0.6, learning_offset=10, max_doc_update_iter=100, max_iter=20, mean_change_tol=1e-06, n_components=80, perp_tol=0.1;, score=-27381722.338 total time= 1.4min\n",
      "[CV 2/3] END learning_decay=0.6, learning_offset=10, max_doc_update_iter=100, max_iter=20, mean_change_tol=1e-06, n_components=80, perp_tol=0.1;, score=-25399318.234 total time= 1.5min\n",
      "[CV 3/3] END learning_decay=0.6, learning_offset=10, max_doc_update_iter=100, max_iter=20, mean_change_tol=1e-06, n_components=80, perp_tol=0.1;, score=-16990448.857 total time= 1.6min\n",
      "[CV 1/3] END learning_decay=0.7, learning_offset=30, max_doc_update_iter=100, max_iter=20, mean_change_tol=1e-05, n_components=75, perp_tol=0.1;, score=-25963368.482 total time= 1.3min\n",
      "[CV 2/3] END learning_decay=0.7, learning_offset=30, max_doc_update_iter=100, max_iter=20, mean_change_tol=1e-05, n_components=75, perp_tol=0.1;, score=-24151621.202 total time= 1.3min\n",
      "[CV 3/3] END learning_decay=0.7, learning_offset=30, max_doc_update_iter=100, max_iter=20, mean_change_tol=1e-05, n_components=75, perp_tol=0.1;, score=-16239889.760 total time= 1.4min\n",
      "[CV 1/3] END learning_decay=0.8999999999999999, learning_offset=90, max_doc_update_iter=100, max_iter=20, mean_change_tol=0.0001, n_components=85, perp_tol=0.1;, score=-28748121.816 total time= 1.5min\n",
      "[CV 2/3] END learning_decay=0.8999999999999999, learning_offset=90, max_doc_update_iter=100, max_iter=20, mean_change_tol=0.0001, n_components=85, perp_tol=0.1;, score=-26709932.979 total time= 1.5min\n",
      "[CV 3/3] END learning_decay=0.8999999999999999, learning_offset=90, max_doc_update_iter=100, max_iter=20, mean_change_tol=0.0001, n_components=85, perp_tol=0.1;, score=-17715401.820 total time= 1.7min\n",
      "[CV 1/3] END learning_decay=0.7, learning_offset=70, max_doc_update_iter=100, max_iter=20, mean_change_tol=0.0001, n_components=5, perp_tol=0.1;, score=-6816298.753 total time=   5.9s\n",
      "[CV 2/3] END learning_decay=0.7, learning_offset=70, max_doc_update_iter=100, max_iter=20, mean_change_tol=0.0001, n_components=5, perp_tol=0.1;, score=-6344460.423 total time=   6.1s\n",
      "[CV 3/3] END learning_decay=0.7, learning_offset=70, max_doc_update_iter=100, max_iter=20, mean_change_tol=0.0001, n_components=5, perp_tol=0.1;, score=-4403097.641 total time=   6.7s\n",
      "[CV 1/3] END learning_decay=0.8999999999999999, learning_offset=130, max_doc_update_iter=100, max_iter=20, mean_change_tol=1e-06, n_components=120, perp_tol=0.1;, score=-38997882.097 total time= 2.3min\n",
      "[CV 2/3] END learning_decay=0.8999999999999999, learning_offset=130, max_doc_update_iter=100, max_iter=20, mean_change_tol=1e-06, n_components=120, perp_tol=0.1;, score=-35920410.691 total time= 2.4min\n",
      "[CV 3/3] END learning_decay=0.8999999999999999, learning_offset=130, max_doc_update_iter=100, max_iter=20, mean_change_tol=1e-06, n_components=120, perp_tol=0.1;, score=-23437073.343 total time= 2.6min\n",
      "[CV 1/3] END learning_decay=0.8999999999999999, learning_offset=60, max_doc_update_iter=100, max_iter=20, mean_change_tol=0.0001, n_components=85, perp_tol=0.1;, score=-28741846.107 total time= 1.5min\n",
      "[CV 2/3] END learning_decay=0.8999999999999999, learning_offset=60, max_doc_update_iter=100, max_iter=20, mean_change_tol=0.0001, n_components=85, perp_tol=0.1;, score=-26695793.019 total time= 1.5min\n",
      "[CV 3/3] END learning_decay=0.8999999999999999, learning_offset=60, max_doc_update_iter=100, max_iter=20, mean_change_tol=0.0001, n_components=85, perp_tol=0.1;, score=-17750143.448 total time= 1.7min\n",
      "[CV 1/3] END learning_decay=0.7999999999999999, learning_offset=60, max_doc_update_iter=100, max_iter=20, mean_change_tol=0.01, n_components=80, perp_tol=0.1;, score=-27330529.781 total time= 1.3min\n",
      "[CV 2/3] END learning_decay=0.7999999999999999, learning_offset=60, max_doc_update_iter=100, max_iter=20, mean_change_tol=0.01, n_components=80, perp_tol=0.1;, score=-25417723.115 total time= 1.4min\n",
      "[CV 3/3] END learning_decay=0.7999999999999999, learning_offset=60, max_doc_update_iter=100, max_iter=20, mean_change_tol=0.01, n_components=80, perp_tol=0.1;, score=-17015749.896 total time= 1.5min\n",
      "[CV 1/3] END learning_decay=0.7999999999999999, learning_offset=120, max_doc_update_iter=100, max_iter=20, mean_change_tol=1e-06, n_components=120, perp_tol=0.1;, score=-39064456.163 total time= 2.3min\n",
      "[CV 2/3] END learning_decay=0.7999999999999999, learning_offset=120, max_doc_update_iter=100, max_iter=20, mean_change_tol=1e-06, n_components=120, perp_tol=0.1;, score=-36055264.003 total time= 2.4min\n",
      "[CV 3/3] END learning_decay=0.7999999999999999, learning_offset=120, max_doc_update_iter=100, max_iter=20, mean_change_tol=1e-06, n_components=120, perp_tol=0.1;, score=-23421455.063 total time= 2.7min\n"
     ]
    },
    {
     "data": {
      "text/plain": "RandomizedSearchCV(cv=3, error_score='raise',\n                   estimator=LatentDirichletAllocation(), n_iter=30,\n                   param_distributions={'learning_decay': array([0.6, 0.7, 0.8, 0.9]),\n                                        'learning_offset': array([ 10,  20,  30,  40,  50,  60,  70,  80,  90, 100, 110, 120, 130,\n       140]),\n                                        'max_doc_update_iter': [100],\n                                        'max_iter': [20],\n                                        'mean_change_tol': [1e-06, 1e-05,\n                                                            0.0001, 0.001,\n                                                            0.01],\n                                        'n_components': [5, 10, 15, 20, 25, 30,\n                                                         35, 40, 45, 50, 55, 60,\n                                                         65, 70, 75, 80, 85, 90,\n                                                         95, 100, 105, 110, 115,\n                                                         120, 125, 130, 135,\n                                                         140, 145],\n                                        'perp_tol': [0.1]},\n                   verbose=3)",
      "text/html": "<style>#sk-container-id-1 {color: black;background-color: white;}#sk-container-id-1 pre{padding: 0;}#sk-container-id-1 div.sk-toggleable {background-color: white;}#sk-container-id-1 label.sk-toggleable__label {cursor: pointer;display: block;width: 100%;margin-bottom: 0;padding: 0.3em;box-sizing: border-box;text-align: center;}#sk-container-id-1 label.sk-toggleable__label-arrow:before {content: \"▸\";float: left;margin-right: 0.25em;color: #696969;}#sk-container-id-1 label.sk-toggleable__label-arrow:hover:before {color: black;}#sk-container-id-1 div.sk-estimator:hover label.sk-toggleable__label-arrow:before {color: black;}#sk-container-id-1 div.sk-toggleable__content {max-height: 0;max-width: 0;overflow: hidden;text-align: left;background-color: #f0f8ff;}#sk-container-id-1 div.sk-toggleable__content pre {margin: 0.2em;color: black;border-radius: 0.25em;background-color: #f0f8ff;}#sk-container-id-1 input.sk-toggleable__control:checked~div.sk-toggleable__content {max-height: 200px;max-width: 100%;overflow: auto;}#sk-container-id-1 input.sk-toggleable__control:checked~label.sk-toggleable__label-arrow:before {content: \"▾\";}#sk-container-id-1 div.sk-estimator input.sk-toggleable__control:checked~label.sk-toggleable__label {background-color: #d4ebff;}#sk-container-id-1 div.sk-label input.sk-toggleable__control:checked~label.sk-toggleable__label {background-color: #d4ebff;}#sk-container-id-1 input.sk-hidden--visually {border: 0;clip: rect(1px 1px 1px 1px);clip: rect(1px, 1px, 1px, 1px);height: 1px;margin: -1px;overflow: hidden;padding: 0;position: absolute;width: 1px;}#sk-container-id-1 div.sk-estimator {font-family: monospace;background-color: #f0f8ff;border: 1px dotted black;border-radius: 0.25em;box-sizing: border-box;margin-bottom: 0.5em;}#sk-container-id-1 div.sk-estimator:hover {background-color: #d4ebff;}#sk-container-id-1 div.sk-parallel-item::after {content: \"\";width: 100%;border-bottom: 1px solid gray;flex-grow: 1;}#sk-container-id-1 div.sk-label:hover label.sk-toggleable__label {background-color: #d4ebff;}#sk-container-id-1 div.sk-serial::before {content: \"\";position: absolute;border-left: 1px solid gray;box-sizing: border-box;top: 0;bottom: 0;left: 50%;z-index: 0;}#sk-container-id-1 div.sk-serial {display: flex;flex-direction: column;align-items: center;background-color: white;padding-right: 0.2em;padding-left: 0.2em;position: relative;}#sk-container-id-1 div.sk-item {position: relative;z-index: 1;}#sk-container-id-1 div.sk-parallel {display: flex;align-items: stretch;justify-content: center;background-color: white;position: relative;}#sk-container-id-1 div.sk-item::before, #sk-container-id-1 div.sk-parallel-item::before {content: \"\";position: absolute;border-left: 1px solid gray;box-sizing: border-box;top: 0;bottom: 0;left: 50%;z-index: -1;}#sk-container-id-1 div.sk-parallel-item {display: flex;flex-direction: column;z-index: 1;position: relative;background-color: white;}#sk-container-id-1 div.sk-parallel-item:first-child::after {align-self: flex-end;width: 50%;}#sk-container-id-1 div.sk-parallel-item:last-child::after {align-self: flex-start;width: 50%;}#sk-container-id-1 div.sk-parallel-item:only-child::after {width: 0;}#sk-container-id-1 div.sk-dashed-wrapped {border: 1px dashed gray;margin: 0 0.4em 0.5em 0.4em;box-sizing: border-box;padding-bottom: 0.4em;background-color: white;}#sk-container-id-1 div.sk-label label {font-family: monospace;font-weight: bold;display: inline-block;line-height: 1.2em;}#sk-container-id-1 div.sk-label-container {text-align: center;}#sk-container-id-1 div.sk-container {/* jupyter's `normalize.less` sets `[hidden] { display: none; }` but bootstrap.min.css set `[hidden] { display: none !important; }` so we also need the `!important` here to be able to override the default hidden behavior on the sphinx rendered scikit-learn.org. See: https://github.com/scikit-learn/scikit-learn/issues/21755 */display: inline-block !important;position: relative;}#sk-container-id-1 div.sk-text-repr-fallback {display: none;}</style><div id=\"sk-container-id-1\" class=\"sk-top-container\"><div class=\"sk-text-repr-fallback\"><pre>RandomizedSearchCV(cv=3, error_score=&#x27;raise&#x27;,\n                   estimator=LatentDirichletAllocation(), n_iter=30,\n                   param_distributions={&#x27;learning_decay&#x27;: array([0.6, 0.7, 0.8, 0.9]),\n                                        &#x27;learning_offset&#x27;: array([ 10,  20,  30,  40,  50,  60,  70,  80,  90, 100, 110, 120, 130,\n       140]),\n                                        &#x27;max_doc_update_iter&#x27;: [100],\n                                        &#x27;max_iter&#x27;: [20],\n                                        &#x27;mean_change_tol&#x27;: [1e-06, 1e-05,\n                                                            0.0001, 0.001,\n                                                            0.01],\n                                        &#x27;n_components&#x27;: [5, 10, 15, 20, 25, 30,\n                                                         35, 40, 45, 50, 55, 60,\n                                                         65, 70, 75, 80, 85, 90,\n                                                         95, 100, 105, 110, 115,\n                                                         120, 125, 130, 135,\n                                                         140, 145],\n                                        &#x27;perp_tol&#x27;: [0.1]},\n                   verbose=3)</pre><b>In a Jupyter environment, please rerun this cell to show the HTML representation or trust the notebook. <br />On GitHub, the HTML representation is unable to render, please try loading this page with nbviewer.org.</b></div><div class=\"sk-container\" hidden><div class=\"sk-item sk-dashed-wrapped\"><div class=\"sk-label-container\"><div class=\"sk-label sk-toggleable\"><input class=\"sk-toggleable__control sk-hidden--visually\" id=\"sk-estimator-id-1\" type=\"checkbox\" ><label for=\"sk-estimator-id-1\" class=\"sk-toggleable__label sk-toggleable__label-arrow\">RandomizedSearchCV</label><div class=\"sk-toggleable__content\"><pre>RandomizedSearchCV(cv=3, error_score=&#x27;raise&#x27;,\n                   estimator=LatentDirichletAllocation(), n_iter=30,\n                   param_distributions={&#x27;learning_decay&#x27;: array([0.6, 0.7, 0.8, 0.9]),\n                                        &#x27;learning_offset&#x27;: array([ 10,  20,  30,  40,  50,  60,  70,  80,  90, 100, 110, 120, 130,\n       140]),\n                                        &#x27;max_doc_update_iter&#x27;: [100],\n                                        &#x27;max_iter&#x27;: [20],\n                                        &#x27;mean_change_tol&#x27;: [1e-06, 1e-05,\n                                                            0.0001, 0.001,\n                                                            0.01],\n                                        &#x27;n_components&#x27;: [5, 10, 15, 20, 25, 30,\n                                                         35, 40, 45, 50, 55, 60,\n                                                         65, 70, 75, 80, 85, 90,\n                                                         95, 100, 105, 110, 115,\n                                                         120, 125, 130, 135,\n                                                         140, 145],\n                                        &#x27;perp_tol&#x27;: [0.1]},\n                   verbose=3)</pre></div></div></div><div class=\"sk-parallel\"><div class=\"sk-parallel-item\"><div class=\"sk-item\"><div class=\"sk-label-container\"><div class=\"sk-label sk-toggleable\"><input class=\"sk-toggleable__control sk-hidden--visually\" id=\"sk-estimator-id-2\" type=\"checkbox\" ><label for=\"sk-estimator-id-2\" class=\"sk-toggleable__label sk-toggleable__label-arrow\">estimator: LatentDirichletAllocation</label><div class=\"sk-toggleable__content\"><pre>LatentDirichletAllocation()</pre></div></div></div><div class=\"sk-serial\"><div class=\"sk-item\"><div class=\"sk-estimator sk-toggleable\"><input class=\"sk-toggleable__control sk-hidden--visually\" id=\"sk-estimator-id-3\" type=\"checkbox\" ><label for=\"sk-estimator-id-3\" class=\"sk-toggleable__label sk-toggleable__label-arrow\">LatentDirichletAllocation</label><div class=\"sk-toggleable__content\"><pre>LatentDirichletAllocation()</pre></div></div></div></div></div></div></div></div></div></div>"
     },
     "execution_count": 9,
     "metadata": {},
     "output_type": "execute_result"
    }
   ],
   "source": [
    "from sklearn.model_selection import RandomizedSearchCV\n",
    "import numpy as np\n",
    "params = {\n",
    "    'n_components': list(range(5, 150, 5)),\n",
    "    'learning_decay': np.arange(0.6, 0.9, 0.1),\n",
    "    'learning_offset': np.arange(10, 150, 10),\n",
    "    'perp_tol': [0.1],\n",
    "    'max_iter': [20],\n",
    "    'mean_change_tol': [1e-6, 1e-5, 1e-4, 1e-3, 1e-2],\n",
    "    'max_doc_update_iter': [100]\n",
    "}\n",
    "lda = LatentDirichletAllocation()\n",
    "rsearch = RandomizedSearchCV(lda, params, n_iter=30, verbose=3, cv=3, error_score='raise')\n",
    "rsearch.fit(tf)"
   ],
   "metadata": {
    "collapsed": false,
    "pycharm": {
     "name": "#%%\n"
    }
   }
  },
  {
   "cell_type": "code",
   "execution_count": 11,
   "outputs": [],
   "source": [
    "best = rsearch.best_estimator_"
   ],
   "metadata": {
    "collapsed": false,
    "pycharm": {
     "name": "#%%\n"
    }
   }
  },
  {
   "cell_type": "code",
   "execution_count": 13,
   "outputs": [
    {
     "data": {
      "text/plain": "344173.8171033977"
     },
     "execution_count": 13,
     "metadata": {},
     "output_type": "execute_result"
    }
   ],
   "source": [
    "best.perplexity(tf)"
   ],
   "metadata": {
    "collapsed": false,
    "pycharm": {
     "name": "#%%\n"
    }
   }
  },
  {
   "cell_type": "code",
   "execution_count": 14,
   "outputs": [],
   "source": [
    "import pickle\n",
    "pickle.dump(best, open('model.pkl', 'wb'))"
   ],
   "metadata": {
    "collapsed": false,
    "pycharm": {
     "name": "#%%\n"
    }
   }
  }
 ],
 "metadata": {
  "kernelspec": {
   "display_name": "Python 3",
   "language": "python",
   "name": "python3"
  },
  "language_info": {
   "codemirror_mode": {
    "name": "ipython",
    "version": 2
   },
   "file_extension": ".py",
   "mimetype": "text/x-python",
   "name": "python",
   "nbconvert_exporter": "python",
   "pygments_lexer": "ipython2",
   "version": "2.7.6"
  }
 },
 "nbformat": 4,
 "nbformat_minor": 0
}