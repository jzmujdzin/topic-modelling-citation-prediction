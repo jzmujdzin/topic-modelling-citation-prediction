{
 "cells": [
  {
   "cell_type": "code",
   "execution_count": 10,
   "metadata": {
    "collapsed": true,
    "pycharm": {
     "name": "#%%\n"
    }
   },
   "outputs": [
    {
     "name": "stderr",
     "output_type": "stream",
     "text": [
      "E:\\anaconda\\lib\\site-packages\\xgboost\\compat.py:36: FutureWarning: pandas.Int64Index is deprecated and will be removed from pandas in a future version. Use pandas.Index with the appropriate dtype instead.\n",
      "  from pandas import MultiIndex, Int64Index\n"
     ]
    }
   ],
   "source": [
    "import pandas as pd\n",
    "from pathlib import Path\n",
    "from sklearn.decomposition import LatentDirichletAllocation\n",
    "from nltk.stem.porter import PorterStemmer\n",
    "import re\n",
    "from nltk.tokenize import RegexpTokenizer\n",
    "from sklearn.feature_extraction.text import CountVectorizer\n",
    "import pickle\n",
    "import xgboost as xgb\n",
    "import dalex as dx\n",
    "from sklearn.model_selection import RandomizedSearchCV\n",
    "import numpy as np"
   ]
  },
  {
   "cell_type": "code",
   "execution_count": 4,
   "outputs": [],
   "source": [
    "df = pd.read_json(Path.cwd() / \"final_df\" / \"final_df.json\")"
   ],
   "metadata": {
    "collapsed": false,
    "pycharm": {
     "name": "#%%\n"
    }
   }
  },
  {
   "cell_type": "code",
   "execution_count": 5,
   "outputs": [
    {
     "data": {
      "text/plain": "                                                  title  \\\n0           Continual Reinforcement Learning with TELLA   \n1     An exact mapping between the Variational Renor...   \n2     Learning Generative Models across Incomparable...   \n3     On the Generalization Ability of Online Learni...   \n4              Geometric Understanding of Deep Learning   \n...                                                 ...   \n1230  Musical Word Embedding: Bridging the Gap betwe...   \n1231  Metrics for Multi-Class Classification: an Ove...   \n1232  Intelligence plays dice: Stochasticity is esse...   \n1233  Can AutoML outperform humans? An evaluation on...   \n1234  Nonsmoothness in Machine Learning: specific st...   \n\n                                   link  citations  \\\n0     http://arxiv.org/pdf/2208.04287v1          2   \n1      http://arxiv.org/pdf/1410.3831v1        295   \n2     http://arxiv.org/pdf/1905.05461v2         69   \n3      http://arxiv.org/pdf/1305.2505v1         74   \n4     http://arxiv.org/pdf/1805.10451v2        110   \n...                                 ...        ...   \n1230  http://arxiv.org/pdf/2008.01190v1          4   \n1231  http://arxiv.org/pdf/2008.05756v1        409   \n1232  http://arxiv.org/pdf/2008.07496v1          5   \n1233  http://arxiv.org/pdf/2009.01564v2         24   \n1234  http://arxiv.org/pdf/2010.00848v2         15   \n\n                                                   text  \n0     Workshop Track - 1st Conference on Lifelong Le...  \n1     arXiv:1410.3831v1  [stat.ML]  14 Oct 2014An ex...  \n2     Learning Generative Models across Incomparable...  \n3     On the Generalization Ability of Online Learni...  \n4     Geometric Understanding of Deep Learning\\nNa L...  \n...                                                 ...  \n1230  Musical Word Embedding: Bridging the Gap betwe...  \n1231  METRICS FOR MULTI -CLASS CLASSIFICATION :ANOVE...  \n1232  Intelligence plays dice: Stochasticity is esse...  \n1233  Can AutoML outperform humans? An evaluation \\n...  \n1234  Set-Valued and Variational Analysis manuscript...  \n\n[1235 rows x 4 columns]",
      "text/html": "<div>\n<style scoped>\n    .dataframe tbody tr th:only-of-type {\n        vertical-align: middle;\n    }\n\n    .dataframe tbody tr th {\n        vertical-align: top;\n    }\n\n    .dataframe thead th {\n        text-align: right;\n    }\n</style>\n<table border=\"1\" class=\"dataframe\">\n  <thead>\n    <tr style=\"text-align: right;\">\n      <th></th>\n      <th>title</th>\n      <th>link</th>\n      <th>citations</th>\n      <th>text</th>\n    </tr>\n  </thead>\n  <tbody>\n    <tr>\n      <th>0</th>\n      <td>Continual Reinforcement Learning with TELLA</td>\n      <td>http://arxiv.org/pdf/2208.04287v1</td>\n      <td>2</td>\n      <td>Workshop Track - 1st Conference on Lifelong Le...</td>\n    </tr>\n    <tr>\n      <th>1</th>\n      <td>An exact mapping between the Variational Renor...</td>\n      <td>http://arxiv.org/pdf/1410.3831v1</td>\n      <td>295</td>\n      <td>arXiv:1410.3831v1  [stat.ML]  14 Oct 2014An ex...</td>\n    </tr>\n    <tr>\n      <th>2</th>\n      <td>Learning Generative Models across Incomparable...</td>\n      <td>http://arxiv.org/pdf/1905.05461v2</td>\n      <td>69</td>\n      <td>Learning Generative Models across Incomparable...</td>\n    </tr>\n    <tr>\n      <th>3</th>\n      <td>On the Generalization Ability of Online Learni...</td>\n      <td>http://arxiv.org/pdf/1305.2505v1</td>\n      <td>74</td>\n      <td>On the Generalization Ability of Online Learni...</td>\n    </tr>\n    <tr>\n      <th>4</th>\n      <td>Geometric Understanding of Deep Learning</td>\n      <td>http://arxiv.org/pdf/1805.10451v2</td>\n      <td>110</td>\n      <td>Geometric Understanding of Deep Learning\\nNa L...</td>\n    </tr>\n    <tr>\n      <th>...</th>\n      <td>...</td>\n      <td>...</td>\n      <td>...</td>\n      <td>...</td>\n    </tr>\n    <tr>\n      <th>1230</th>\n      <td>Musical Word Embedding: Bridging the Gap betwe...</td>\n      <td>http://arxiv.org/pdf/2008.01190v1</td>\n      <td>4</td>\n      <td>Musical Word Embedding: Bridging the Gap betwe...</td>\n    </tr>\n    <tr>\n      <th>1231</th>\n      <td>Metrics for Multi-Class Classification: an Ove...</td>\n      <td>http://arxiv.org/pdf/2008.05756v1</td>\n      <td>409</td>\n      <td>METRICS FOR MULTI -CLASS CLASSIFICATION :ANOVE...</td>\n    </tr>\n    <tr>\n      <th>1232</th>\n      <td>Intelligence plays dice: Stochasticity is esse...</td>\n      <td>http://arxiv.org/pdf/2008.07496v1</td>\n      <td>5</td>\n      <td>Intelligence plays dice: Stochasticity is esse...</td>\n    </tr>\n    <tr>\n      <th>1233</th>\n      <td>Can AutoML outperform humans? An evaluation on...</td>\n      <td>http://arxiv.org/pdf/2009.01564v2</td>\n      <td>24</td>\n      <td>Can AutoML outperform humans? An evaluation \\n...</td>\n    </tr>\n    <tr>\n      <th>1234</th>\n      <td>Nonsmoothness in Machine Learning: specific st...</td>\n      <td>http://arxiv.org/pdf/2010.00848v2</td>\n      <td>15</td>\n      <td>Set-Valued and Variational Analysis manuscript...</td>\n    </tr>\n  </tbody>\n</table>\n<p>1235 rows × 4 columns</p>\n</div>"
     },
     "execution_count": 5,
     "metadata": {},
     "output_type": "execute_result"
    }
   ],
   "source": [
    "df"
   ],
   "metadata": {
    "collapsed": false,
    "pycharm": {
     "name": "#%%\n"
    }
   }
  },
  {
   "cell_type": "code",
   "execution_count": 6,
   "outputs": [
    {
     "data": {
      "text/plain": "12"
     },
     "execution_count": 6,
     "metadata": {},
     "output_type": "execute_result"
    }
   ],
   "source": [
    "df['text'].isna().sum()"
   ],
   "metadata": {
    "collapsed": false,
    "pycharm": {
     "name": "#%%\n"
    }
   }
  },
  {
   "cell_type": "code",
   "execution_count": 7,
   "outputs": [],
   "source": [
    "df.dropna(subset=['text'], inplace=True)"
   ],
   "metadata": {
    "collapsed": false,
    "pycharm": {
     "name": "#%%\n"
    }
   }
  },
  {
   "cell_type": "code",
   "execution_count": 8,
   "outputs": [],
   "source": [
    "stemmer = PorterStemmer()\n",
    "tokenizer = RegexpTokenizer(r'\\w+')\n",
    "def preprocess_text(text: str):\n",
    "    return ' '.join([stemmer.stem(word) for word in tokenizer.tokenize(' '.join([re.sub(r'\\s+', ' ', word) for word in text.split()]))])\n"
   ],
   "metadata": {
    "collapsed": false,
    "pycharm": {
     "name": "#%%\n"
    }
   }
  },
  {
   "cell_type": "code",
   "execution_count": 9,
   "outputs": [],
   "source": [
    "df['text_pp'] = df['text'].apply(lambda x: preprocess_text(x))"
   ],
   "metadata": {
    "collapsed": false,
    "pycharm": {
     "name": "#%%\n"
    }
   }
  },
  {
   "cell_type": "code",
   "execution_count": 11,
   "outputs": [],
   "source": [
    "tf_vectorizer = CountVectorizer(ngram_range = (1, 3),\n",
    "                                max_df = 0.75,\n",
    "                                min_df = 0.01,\n",
    "                                tokenizer = tokenizer.tokenize,\n",
    "                                stop_words='english'\n",
    ")"
   ],
   "metadata": {
    "collapsed": false,
    "pycharm": {
     "name": "#%%\n"
    }
   }
  },
  {
   "cell_type": "code",
   "execution_count": 12,
   "outputs": [
    {
     "data": {
      "text/plain": "                                               title  \\\n0        Continual Reinforcement Learning with TELLA   \n1  An exact mapping between the Variational Renor...   \n2  Learning Generative Models across Incomparable...   \n3  On the Generalization Ability of Online Learni...   \n4           Geometric Understanding of Deep Learning   \n\n                                link  citations  \\\n0  http://arxiv.org/pdf/2208.04287v1          2   \n1   http://arxiv.org/pdf/1410.3831v1        295   \n2  http://arxiv.org/pdf/1905.05461v2         69   \n3   http://arxiv.org/pdf/1305.2505v1         74   \n4  http://arxiv.org/pdf/1805.10451v2        110   \n\n                                                text  \\\n0  Workshop Track - 1st Conference on Lifelong Le...   \n1  arXiv:1410.3831v1  [stat.ML]  14 Oct 2014An ex...   \n2  Learning Generative Models across Incomparable...   \n3  On the Generalization Ability of Online Learni...   \n4  Geometric Understanding of Deep Learning\\nNa L...   \n\n                                             text_pp  \n0  workshop track 1st confer on lifelong learn ag...  \n1  arxiv 1410 3831v1 stat ml 14 oct 2014an exact ...  \n2  learn gener model across incompar space charlo...  \n3  on the gener abil of onlin learn algorithm for...  \n4  geometr understand of deep learn na lei zhongx...  ",
      "text/html": "<div>\n<style scoped>\n    .dataframe tbody tr th:only-of-type {\n        vertical-align: middle;\n    }\n\n    .dataframe tbody tr th {\n        vertical-align: top;\n    }\n\n    .dataframe thead th {\n        text-align: right;\n    }\n</style>\n<table border=\"1\" class=\"dataframe\">\n  <thead>\n    <tr style=\"text-align: right;\">\n      <th></th>\n      <th>title</th>\n      <th>link</th>\n      <th>citations</th>\n      <th>text</th>\n      <th>text_pp</th>\n    </tr>\n  </thead>\n  <tbody>\n    <tr>\n      <th>0</th>\n      <td>Continual Reinforcement Learning with TELLA</td>\n      <td>http://arxiv.org/pdf/2208.04287v1</td>\n      <td>2</td>\n      <td>Workshop Track - 1st Conference on Lifelong Le...</td>\n      <td>workshop track 1st confer on lifelong learn ag...</td>\n    </tr>\n    <tr>\n      <th>1</th>\n      <td>An exact mapping between the Variational Renor...</td>\n      <td>http://arxiv.org/pdf/1410.3831v1</td>\n      <td>295</td>\n      <td>arXiv:1410.3831v1  [stat.ML]  14 Oct 2014An ex...</td>\n      <td>arxiv 1410 3831v1 stat ml 14 oct 2014an exact ...</td>\n    </tr>\n    <tr>\n      <th>2</th>\n      <td>Learning Generative Models across Incomparable...</td>\n      <td>http://arxiv.org/pdf/1905.05461v2</td>\n      <td>69</td>\n      <td>Learning Generative Models across Incomparable...</td>\n      <td>learn gener model across incompar space charlo...</td>\n    </tr>\n    <tr>\n      <th>3</th>\n      <td>On the Generalization Ability of Online Learni...</td>\n      <td>http://arxiv.org/pdf/1305.2505v1</td>\n      <td>74</td>\n      <td>On the Generalization Ability of Online Learni...</td>\n      <td>on the gener abil of onlin learn algorithm for...</td>\n    </tr>\n    <tr>\n      <th>4</th>\n      <td>Geometric Understanding of Deep Learning</td>\n      <td>http://arxiv.org/pdf/1805.10451v2</td>\n      <td>110</td>\n      <td>Geometric Understanding of Deep Learning\\nNa L...</td>\n      <td>geometr understand of deep learn na lei zhongx...</td>\n    </tr>\n  </tbody>\n</table>\n</div>"
     },
     "execution_count": 12,
     "metadata": {},
     "output_type": "execute_result"
    }
   ],
   "source": [
    "df.head()"
   ],
   "metadata": {
    "collapsed": false,
    "pycharm": {
     "name": "#%%\n"
    }
   }
  },
  {
   "cell_type": "code",
   "execution_count": 13,
   "outputs": [],
   "source": [
    "tf = tf_vectorizer.fit_transform(df['text_pp'])"
   ],
   "metadata": {
    "collapsed": false,
    "pycharm": {
     "name": "#%%\n"
    }
   }
  },
  {
   "cell_type": "code",
   "execution_count": 16,
   "outputs": [
    {
     "name": "stderr",
     "output_type": "stream",
     "text": [
      "[Parallel(n_jobs=4)]: Using backend LokyBackend with 4 concurrent workers.\n",
      "[Parallel(n_jobs=4)]: Done   4 out of   4 | elapsed:    6.8s finished\n",
      "[Parallel(n_jobs=4)]: Using backend LokyBackend with 4 concurrent workers.\n"
     ]
    },
    {
     "name": "stdout",
     "output_type": "stream",
     "text": [
      "iteration: 1 of max_iter: 20\n"
     ]
    },
    {
     "name": "stderr",
     "output_type": "stream",
     "text": [
      "[Parallel(n_jobs=4)]: Done   4 out of   4 | elapsed:    1.9s finished\n",
      "[Parallel(n_jobs=4)]: Using backend LokyBackend with 4 concurrent workers.\n"
     ]
    },
    {
     "name": "stdout",
     "output_type": "stream",
     "text": [
      "iteration: 2 of max_iter: 20\n"
     ]
    },
    {
     "name": "stderr",
     "output_type": "stream",
     "text": [
      "[Parallel(n_jobs=4)]: Done   4 out of   4 | elapsed:    1.6s finished\n",
      "[Parallel(n_jobs=4)]: Using backend LokyBackend with 4 concurrent workers.\n"
     ]
    },
    {
     "name": "stdout",
     "output_type": "stream",
     "text": [
      "iteration: 3 of max_iter: 20\n"
     ]
    },
    {
     "name": "stderr",
     "output_type": "stream",
     "text": [
      "[Parallel(n_jobs=4)]: Done   4 out of   4 | elapsed:    1.6s finished\n",
      "[Parallel(n_jobs=4)]: Using backend LokyBackend with 4 concurrent workers.\n"
     ]
    },
    {
     "name": "stdout",
     "output_type": "stream",
     "text": [
      "iteration: 4 of max_iter: 20\n"
     ]
    },
    {
     "name": "stderr",
     "output_type": "stream",
     "text": [
      "[Parallel(n_jobs=4)]: Done   4 out of   4 | elapsed:    1.7s finished\n",
      "[Parallel(n_jobs=4)]: Using backend LokyBackend with 4 concurrent workers.\n"
     ]
    },
    {
     "name": "stdout",
     "output_type": "stream",
     "text": [
      "iteration: 5 of max_iter: 20\n"
     ]
    },
    {
     "name": "stderr",
     "output_type": "stream",
     "text": [
      "[Parallel(n_jobs=4)]: Done   4 out of   4 | elapsed:    1.5s finished\n",
      "[Parallel(n_jobs=4)]: Using backend LokyBackend with 4 concurrent workers.\n"
     ]
    },
    {
     "name": "stdout",
     "output_type": "stream",
     "text": [
      "iteration: 6 of max_iter: 20\n"
     ]
    },
    {
     "name": "stderr",
     "output_type": "stream",
     "text": [
      "[Parallel(n_jobs=4)]: Done   4 out of   4 | elapsed:    2.1s finished\n",
      "[Parallel(n_jobs=4)]: Using backend LokyBackend with 4 concurrent workers.\n"
     ]
    },
    {
     "name": "stdout",
     "output_type": "stream",
     "text": [
      "iteration: 7 of max_iter: 20\n"
     ]
    },
    {
     "name": "stderr",
     "output_type": "stream",
     "text": [
      "[Parallel(n_jobs=4)]: Done   4 out of   4 | elapsed:    1.4s finished\n",
      "[Parallel(n_jobs=4)]: Using backend LokyBackend with 4 concurrent workers.\n"
     ]
    },
    {
     "name": "stdout",
     "output_type": "stream",
     "text": [
      "iteration: 8 of max_iter: 20\n"
     ]
    },
    {
     "name": "stderr",
     "output_type": "stream",
     "text": [
      "[Parallel(n_jobs=4)]: Done   4 out of   4 | elapsed:    1.6s finished\n",
      "[Parallel(n_jobs=4)]: Using backend LokyBackend with 4 concurrent workers.\n"
     ]
    },
    {
     "name": "stdout",
     "output_type": "stream",
     "text": [
      "iteration: 9 of max_iter: 20\n"
     ]
    },
    {
     "name": "stderr",
     "output_type": "stream",
     "text": [
      "[Parallel(n_jobs=4)]: Done   4 out of   4 | elapsed:    1.4s finished\n",
      "[Parallel(n_jobs=4)]: Using backend LokyBackend with 4 concurrent workers.\n"
     ]
    },
    {
     "name": "stdout",
     "output_type": "stream",
     "text": [
      "iteration: 10 of max_iter: 20\n"
     ]
    },
    {
     "name": "stderr",
     "output_type": "stream",
     "text": [
      "[Parallel(n_jobs=4)]: Done   4 out of   4 | elapsed:    1.3s finished\n",
      "[Parallel(n_jobs=4)]: Using backend LokyBackend with 4 concurrent workers.\n"
     ]
    },
    {
     "name": "stdout",
     "output_type": "stream",
     "text": [
      "iteration: 11 of max_iter: 20\n"
     ]
    },
    {
     "name": "stderr",
     "output_type": "stream",
     "text": [
      "[Parallel(n_jobs=4)]: Done   4 out of   4 | elapsed:    1.4s finished\n",
      "[Parallel(n_jobs=4)]: Using backend LokyBackend with 4 concurrent workers.\n"
     ]
    },
    {
     "name": "stdout",
     "output_type": "stream",
     "text": [
      "iteration: 12 of max_iter: 20\n"
     ]
    },
    {
     "name": "stderr",
     "output_type": "stream",
     "text": [
      "[Parallel(n_jobs=4)]: Done   4 out of   4 | elapsed:    1.4s finished\n",
      "[Parallel(n_jobs=4)]: Using backend LokyBackend with 4 concurrent workers.\n"
     ]
    },
    {
     "name": "stdout",
     "output_type": "stream",
     "text": [
      "iteration: 13 of max_iter: 20\n"
     ]
    },
    {
     "name": "stderr",
     "output_type": "stream",
     "text": [
      "[Parallel(n_jobs=4)]: Done   4 out of   4 | elapsed:    1.3s finished\n",
      "[Parallel(n_jobs=4)]: Using backend LokyBackend with 4 concurrent workers.\n"
     ]
    },
    {
     "name": "stdout",
     "output_type": "stream",
     "text": [
      "iteration: 14 of max_iter: 20\n"
     ]
    },
    {
     "name": "stderr",
     "output_type": "stream",
     "text": [
      "[Parallel(n_jobs=4)]: Done   4 out of   4 | elapsed:    1.2s finished\n",
      "[Parallel(n_jobs=4)]: Using backend LokyBackend with 4 concurrent workers.\n"
     ]
    },
    {
     "name": "stdout",
     "output_type": "stream",
     "text": [
      "iteration: 15 of max_iter: 20\n"
     ]
    },
    {
     "name": "stderr",
     "output_type": "stream",
     "text": [
      "[Parallel(n_jobs=4)]: Done   4 out of   4 | elapsed:    1.4s finished\n",
      "[Parallel(n_jobs=4)]: Using backend LokyBackend with 4 concurrent workers.\n"
     ]
    },
    {
     "name": "stdout",
     "output_type": "stream",
     "text": [
      "iteration: 16 of max_iter: 20\n"
     ]
    },
    {
     "name": "stderr",
     "output_type": "stream",
     "text": [
      "[Parallel(n_jobs=4)]: Done   4 out of   4 | elapsed:    1.2s finished\n",
      "[Parallel(n_jobs=4)]: Using backend LokyBackend with 4 concurrent workers.\n"
     ]
    },
    {
     "name": "stdout",
     "output_type": "stream",
     "text": [
      "iteration: 17 of max_iter: 20\n"
     ]
    },
    {
     "name": "stderr",
     "output_type": "stream",
     "text": [
      "[Parallel(n_jobs=4)]: Done   4 out of   4 | elapsed:    1.2s finished\n",
      "[Parallel(n_jobs=4)]: Using backend LokyBackend with 4 concurrent workers.\n"
     ]
    },
    {
     "name": "stdout",
     "output_type": "stream",
     "text": [
      "iteration: 18 of max_iter: 20\n"
     ]
    },
    {
     "name": "stderr",
     "output_type": "stream",
     "text": [
      "[Parallel(n_jobs=4)]: Done   4 out of   4 | elapsed:    1.1s finished\n",
      "[Parallel(n_jobs=4)]: Using backend LokyBackend with 4 concurrent workers.\n"
     ]
    },
    {
     "name": "stdout",
     "output_type": "stream",
     "text": [
      "iteration: 19 of max_iter: 20\n"
     ]
    },
    {
     "name": "stderr",
     "output_type": "stream",
     "text": [
      "[Parallel(n_jobs=4)]: Done   4 out of   4 | elapsed:    1.2s finished\n"
     ]
    },
    {
     "name": "stdout",
     "output_type": "stream",
     "text": [
      "iteration: 20 of max_iter: 20\n"
     ]
    },
    {
     "name": "stderr",
     "output_type": "stream",
     "text": [
      "[Parallel(n_jobs=4)]: Using backend LokyBackend with 4 concurrent workers.\n",
      "[Parallel(n_jobs=4)]: Done   4 out of   4 | elapsed:    1.0s finished\n"
     ]
    },
    {
     "data": {
      "text/plain": "LatentDirichletAllocation(learning_decay=0.6, learning_offset=30, max_iter=20,\n                          mean_change_tol=0.01, n_components=5, n_jobs=-1,\n                          verbose=3)",
      "text/html": "<style>#sk-container-id-1 {color: black;background-color: white;}#sk-container-id-1 pre{padding: 0;}#sk-container-id-1 div.sk-toggleable {background-color: white;}#sk-container-id-1 label.sk-toggleable__label {cursor: pointer;display: block;width: 100%;margin-bottom: 0;padding: 0.3em;box-sizing: border-box;text-align: center;}#sk-container-id-1 label.sk-toggleable__label-arrow:before {content: \"▸\";float: left;margin-right: 0.25em;color: #696969;}#sk-container-id-1 label.sk-toggleable__label-arrow:hover:before {color: black;}#sk-container-id-1 div.sk-estimator:hover label.sk-toggleable__label-arrow:before {color: black;}#sk-container-id-1 div.sk-toggleable__content {max-height: 0;max-width: 0;overflow: hidden;text-align: left;background-color: #f0f8ff;}#sk-container-id-1 div.sk-toggleable__content pre {margin: 0.2em;color: black;border-radius: 0.25em;background-color: #f0f8ff;}#sk-container-id-1 input.sk-toggleable__control:checked~div.sk-toggleable__content {max-height: 200px;max-width: 100%;overflow: auto;}#sk-container-id-1 input.sk-toggleable__control:checked~label.sk-toggleable__label-arrow:before {content: \"▾\";}#sk-container-id-1 div.sk-estimator input.sk-toggleable__control:checked~label.sk-toggleable__label {background-color: #d4ebff;}#sk-container-id-1 div.sk-label input.sk-toggleable__control:checked~label.sk-toggleable__label {background-color: #d4ebff;}#sk-container-id-1 input.sk-hidden--visually {border: 0;clip: rect(1px 1px 1px 1px);clip: rect(1px, 1px, 1px, 1px);height: 1px;margin: -1px;overflow: hidden;padding: 0;position: absolute;width: 1px;}#sk-container-id-1 div.sk-estimator {font-family: monospace;background-color: #f0f8ff;border: 1px dotted black;border-radius: 0.25em;box-sizing: border-box;margin-bottom: 0.5em;}#sk-container-id-1 div.sk-estimator:hover {background-color: #d4ebff;}#sk-container-id-1 div.sk-parallel-item::after {content: \"\";width: 100%;border-bottom: 1px solid gray;flex-grow: 1;}#sk-container-id-1 div.sk-label:hover label.sk-toggleable__label {background-color: #d4ebff;}#sk-container-id-1 div.sk-serial::before {content: \"\";position: absolute;border-left: 1px solid gray;box-sizing: border-box;top: 0;bottom: 0;left: 50%;z-index: 0;}#sk-container-id-1 div.sk-serial {display: flex;flex-direction: column;align-items: center;background-color: white;padding-right: 0.2em;padding-left: 0.2em;position: relative;}#sk-container-id-1 div.sk-item {position: relative;z-index: 1;}#sk-container-id-1 div.sk-parallel {display: flex;align-items: stretch;justify-content: center;background-color: white;position: relative;}#sk-container-id-1 div.sk-item::before, #sk-container-id-1 div.sk-parallel-item::before {content: \"\";position: absolute;border-left: 1px solid gray;box-sizing: border-box;top: 0;bottom: 0;left: 50%;z-index: -1;}#sk-container-id-1 div.sk-parallel-item {display: flex;flex-direction: column;z-index: 1;position: relative;background-color: white;}#sk-container-id-1 div.sk-parallel-item:first-child::after {align-self: flex-end;width: 50%;}#sk-container-id-1 div.sk-parallel-item:last-child::after {align-self: flex-start;width: 50%;}#sk-container-id-1 div.sk-parallel-item:only-child::after {width: 0;}#sk-container-id-1 div.sk-dashed-wrapped {border: 1px dashed gray;margin: 0 0.4em 0.5em 0.4em;box-sizing: border-box;padding-bottom: 0.4em;background-color: white;}#sk-container-id-1 div.sk-label label {font-family: monospace;font-weight: bold;display: inline-block;line-height: 1.2em;}#sk-container-id-1 div.sk-label-container {text-align: center;}#sk-container-id-1 div.sk-container {/* jupyter's `normalize.less` sets `[hidden] { display: none; }` but bootstrap.min.css set `[hidden] { display: none !important; }` so we also need the `!important` here to be able to override the default hidden behavior on the sphinx rendered scikit-learn.org. See: https://github.com/scikit-learn/scikit-learn/issues/21755 */display: inline-block !important;position: relative;}#sk-container-id-1 div.sk-text-repr-fallback {display: none;}</style><div id=\"sk-container-id-1\" class=\"sk-top-container\"><div class=\"sk-text-repr-fallback\"><pre>LatentDirichletAllocation(learning_decay=0.6, learning_offset=30, max_iter=20,\n                          mean_change_tol=0.01, n_components=5, n_jobs=-1,\n                          verbose=3)</pre><b>In a Jupyter environment, please rerun this cell to show the HTML representation or trust the notebook. <br />On GitHub, the HTML representation is unable to render, please try loading this page with nbviewer.org.</b></div><div class=\"sk-container\" hidden><div class=\"sk-item\"><div class=\"sk-estimator sk-toggleable\"><input class=\"sk-toggleable__control sk-hidden--visually\" id=\"sk-estimator-id-1\" type=\"checkbox\" checked><label for=\"sk-estimator-id-1\" class=\"sk-toggleable__label sk-toggleable__label-arrow\">LatentDirichletAllocation</label><div class=\"sk-toggleable__content\"><pre>LatentDirichletAllocation(learning_decay=0.6, learning_offset=30, max_iter=20,\n                          mean_change_tol=0.01, n_components=5, n_jobs=-1,\n                          verbose=3)</pre></div></div></div></div></div>"
     },
     "execution_count": 16,
     "metadata": {},
     "output_type": "execute_result"
    }
   ],
   "source": [
    "#params = {\n",
    "#    'n_components': list(range(5, 150, 5)),\n",
    "#    'learning_decay': np.arange(0.6, 0.9, 0.1),\n",
    "#    'learning_offset': np.arange(10, 150, 10),\n",
    "#    'perp_tol': [0.1],\n",
    "#    'max_iter': [20],\n",
    "#    'mean_change_tol': [1e-6, 1e-5, 1e-4, 1e-3, 1e-2],\n",
    "#    'max_doc_update_iter': [100]\n",
    "#}\n",
    "best_params = {'perp_tol': 0.1,\n",
    " 'n_components': 5,\n",
    " 'mean_change_tol': 0.01,\n",
    " 'max_iter': 20,\n",
    " 'max_doc_update_iter': 100,\n",
    " 'learning_offset': 30,\n",
    " 'learning_decay': 0.6,\n",
    " 'verbose': 3,\n",
    " 'n_jobs': -1}\n",
    "\n",
    "lda = LatentDirichletAllocation(**best_params)\n",
    "#rsearch = RandomizedSearchCV(lda, params, n_iter=30, verbose=3, cv=3, error_score='raise')\n",
    "#rsearch.fit(tf)\n",
    "lda.fit(tf)"
   ],
   "metadata": {
    "collapsed": false,
    "pycharm": {
     "name": "#%%\n"
    }
   }
  },
  {
   "cell_type": "code",
   "execution_count": 11,
   "outputs": [],
   "source": [
    "#best = rsearch.best_estimator_"
   ],
   "metadata": {
    "collapsed": false,
    "pycharm": {
     "name": "#%%\n"
    }
   }
  },
  {
   "cell_type": "code",
   "execution_count": 17,
   "outputs": [
    {
     "name": "stderr",
     "output_type": "stream",
     "text": [
      "[Parallel(n_jobs=4)]: Using backend LokyBackend with 4 concurrent workers.\n",
      "[Parallel(n_jobs=4)]: Done   4 out of   4 | elapsed:    1.5s finished\n"
     ]
    },
    {
     "data": {
      "text/plain": "13080.968063222543"
     },
     "execution_count": 17,
     "metadata": {},
     "output_type": "execute_result"
    }
   ],
   "source": [
    "#best.perplexity(tf)\n",
    "lda.perplexity(tf)"
   ],
   "metadata": {
    "collapsed": false,
    "pycharm": {
     "name": "#%%\n"
    }
   }
  },
  {
   "cell_type": "code",
   "execution_count": 18,
   "outputs": [],
   "source": [
    "pickle.dump(lda, open('model.pkl', 'wb'))"
   ],
   "metadata": {
    "collapsed": false,
    "pycharm": {
     "name": "#%%\n"
    }
   }
  },
  {
   "cell_type": "code",
   "execution_count": 19,
   "outputs": [
    {
     "name": "stderr",
     "output_type": "stream",
     "text": [
      "E:\\anaconda\\lib\\site-packages\\sklearn\\utils\\deprecation.py:87: FutureWarning: Function get_feature_names is deprecated; get_feature_names is deprecated in 1.0 and will be removed in 1.2. Please use get_feature_names_out instead.\n",
      "  warnings.warn(msg, category=FutureWarning)\n"
     ]
    },
    {
     "name": "stdout",
     "output_type": "stream",
     "text": [
      "Topic 0:  ['layer', 'dataset', '00', 'tabl', '100', 'nn', '0 0', 'class', 'accuraci', '000']\n",
      "Topic 1:  ['z', 'bound', 'u', 'q', 'quantum', 'theorem', '1 2', 'probabl', 'xi', 'kernel']\n",
      "Topic 2:  ['imag', 'pp', 'adversari', 'graph', 'attack', 'knowledg', 'represent', 'vol', 'structur', 'ieee']\n",
      "Topic 3:  ['dataset', 'ml', 'http', 'user', '2018', '2019', 'differ', 'human', 'doi', 'decis']\n",
      "Topic 4:  ['polici', 'ct', 'meta', 'agent', 'reinforc', 'reward', 'reinforc learn', 'action', 'd2', 'cp']\n"
     ]
    }
   ],
   "source": [
    "for index, component in enumerate(lda.components_): #taking model's components, i.e. P(w|z)\n",
    "    zipped = zip(tf_vectorizer.get_feature_names(), component) #taking together tokens' names with components\n",
    "    top_terms_key=sorted(zipped, key = lambda t: t[1], reverse=True)[:10] #top 10 terms per topic\n",
    "    top_terms_list=list(dict(top_terms_key).keys()) #taking only tokens, no weights\n",
    "\n",
    "    print(\"Topic \"+str(index)+\": \",top_terms_list) #prints top 10 tokens per topic"
   ],
   "metadata": {
    "collapsed": false,
    "pycharm": {
     "name": "#%%\n"
    }
   }
  },
  {
   "cell_type": "code",
   "execution_count": 20,
   "outputs": [
    {
     "name": "stderr",
     "output_type": "stream",
     "text": [
      "[Parallel(n_jobs=4)]: Using backend LokyBackend with 4 concurrent workers.\n",
      "[Parallel(n_jobs=4)]: Done   4 out of   4 | elapsed:    1.4s finished\n"
     ]
    }
   ],
   "source": [
    "lda_output = lda.transform(tf)"
   ],
   "metadata": {
    "collapsed": false,
    "pycharm": {
     "name": "#%%\n"
    }
   }
  },
  {
   "cell_type": "code",
   "execution_count": 21,
   "outputs": [],
   "source": [
    "topics = [f'Topic {i}' for i in range(lda.n_components)]\n",
    "docnames = df.index.tolist()\n",
    "topics_df = pd.DataFrame(lda_output, columns=topics, index=docnames)"
   ],
   "metadata": {
    "collapsed": false,
    "pycharm": {
     "name": "#%%\n"
    }
   }
  },
  {
   "cell_type": "code",
   "execution_count": 22,
   "outputs": [],
   "source": [
    "topics_df['citations'] = df['citations']"
   ],
   "metadata": {
    "collapsed": false,
    "pycharm": {
     "name": "#%%\n"
    }
   }
  },
  {
   "cell_type": "code",
   "execution_count": 23,
   "outputs": [
    {
     "name": "stderr",
     "output_type": "stream",
     "text": [
      "E:\\anaconda\\lib\\site-packages\\xgboost\\data.py:250: FutureWarning: pandas.Int64Index is deprecated and will be removed from pandas in a future version. Use pandas.Index with the appropriate dtype instead.\n",
      "  elif isinstance(data.columns, (pd.Int64Index, pd.RangeIndex)):\n"
     ]
    },
    {
     "data": {
      "text/plain": "XGBRegressor(base_score=0.5, booster='gbtree', colsample_bylevel=1,\n             colsample_bynode=1, colsample_bytree=1, enable_categorical=False,\n             gamma=0, gpu_id=-1, importance_type=None,\n             interaction_constraints='', learning_rate=0.300000012,\n             max_delta_step=0, max_depth=6, min_child_weight=1, missing=nan,\n             monotone_constraints='()', n_estimators=100, n_jobs=4,\n             num_parallel_tree=1, predictor='auto', random_state=0, reg_alpha=0,\n             reg_lambda=1, scale_pos_weight=1, subsample=1, tree_method='exact',\n             validate_parameters=1, verbosity=None)",
      "text/html": "<style>#sk-container-id-2 {color: black;background-color: white;}#sk-container-id-2 pre{padding: 0;}#sk-container-id-2 div.sk-toggleable {background-color: white;}#sk-container-id-2 label.sk-toggleable__label {cursor: pointer;display: block;width: 100%;margin-bottom: 0;padding: 0.3em;box-sizing: border-box;text-align: center;}#sk-container-id-2 label.sk-toggleable__label-arrow:before {content: \"▸\";float: left;margin-right: 0.25em;color: #696969;}#sk-container-id-2 label.sk-toggleable__label-arrow:hover:before {color: black;}#sk-container-id-2 div.sk-estimator:hover label.sk-toggleable__label-arrow:before {color: black;}#sk-container-id-2 div.sk-toggleable__content {max-height: 0;max-width: 0;overflow: hidden;text-align: left;background-color: #f0f8ff;}#sk-container-id-2 div.sk-toggleable__content pre {margin: 0.2em;color: black;border-radius: 0.25em;background-color: #f0f8ff;}#sk-container-id-2 input.sk-toggleable__control:checked~div.sk-toggleable__content {max-height: 200px;max-width: 100%;overflow: auto;}#sk-container-id-2 input.sk-toggleable__control:checked~label.sk-toggleable__label-arrow:before {content: \"▾\";}#sk-container-id-2 div.sk-estimator input.sk-toggleable__control:checked~label.sk-toggleable__label {background-color: #d4ebff;}#sk-container-id-2 div.sk-label input.sk-toggleable__control:checked~label.sk-toggleable__label {background-color: #d4ebff;}#sk-container-id-2 input.sk-hidden--visually {border: 0;clip: rect(1px 1px 1px 1px);clip: rect(1px, 1px, 1px, 1px);height: 1px;margin: -1px;overflow: hidden;padding: 0;position: absolute;width: 1px;}#sk-container-id-2 div.sk-estimator {font-family: monospace;background-color: #f0f8ff;border: 1px dotted black;border-radius: 0.25em;box-sizing: border-box;margin-bottom: 0.5em;}#sk-container-id-2 div.sk-estimator:hover {background-color: #d4ebff;}#sk-container-id-2 div.sk-parallel-item::after {content: \"\";width: 100%;border-bottom: 1px solid gray;flex-grow: 1;}#sk-container-id-2 div.sk-label:hover label.sk-toggleable__label {background-color: #d4ebff;}#sk-container-id-2 div.sk-serial::before {content: \"\";position: absolute;border-left: 1px solid gray;box-sizing: border-box;top: 0;bottom: 0;left: 50%;z-index: 0;}#sk-container-id-2 div.sk-serial {display: flex;flex-direction: column;align-items: center;background-color: white;padding-right: 0.2em;padding-left: 0.2em;position: relative;}#sk-container-id-2 div.sk-item {position: relative;z-index: 1;}#sk-container-id-2 div.sk-parallel {display: flex;align-items: stretch;justify-content: center;background-color: white;position: relative;}#sk-container-id-2 div.sk-item::before, #sk-container-id-2 div.sk-parallel-item::before {content: \"\";position: absolute;border-left: 1px solid gray;box-sizing: border-box;top: 0;bottom: 0;left: 50%;z-index: -1;}#sk-container-id-2 div.sk-parallel-item {display: flex;flex-direction: column;z-index: 1;position: relative;background-color: white;}#sk-container-id-2 div.sk-parallel-item:first-child::after {align-self: flex-end;width: 50%;}#sk-container-id-2 div.sk-parallel-item:last-child::after {align-self: flex-start;width: 50%;}#sk-container-id-2 div.sk-parallel-item:only-child::after {width: 0;}#sk-container-id-2 div.sk-dashed-wrapped {border: 1px dashed gray;margin: 0 0.4em 0.5em 0.4em;box-sizing: border-box;padding-bottom: 0.4em;background-color: white;}#sk-container-id-2 div.sk-label label {font-family: monospace;font-weight: bold;display: inline-block;line-height: 1.2em;}#sk-container-id-2 div.sk-label-container {text-align: center;}#sk-container-id-2 div.sk-container {/* jupyter's `normalize.less` sets `[hidden] { display: none; }` but bootstrap.min.css set `[hidden] { display: none !important; }` so we also need the `!important` here to be able to override the default hidden behavior on the sphinx rendered scikit-learn.org. See: https://github.com/scikit-learn/scikit-learn/issues/21755 */display: inline-block !important;position: relative;}#sk-container-id-2 div.sk-text-repr-fallback {display: none;}</style><div id=\"sk-container-id-2\" class=\"sk-top-container\"><div class=\"sk-text-repr-fallback\"><pre>XGBRegressor(base_score=0.5, booster=&#x27;gbtree&#x27;, colsample_bylevel=1,\n             colsample_bynode=1, colsample_bytree=1, enable_categorical=False,\n             gamma=0, gpu_id=-1, importance_type=None,\n             interaction_constraints=&#x27;&#x27;, learning_rate=0.300000012,\n             max_delta_step=0, max_depth=6, min_child_weight=1, missing=nan,\n             monotone_constraints=&#x27;()&#x27;, n_estimators=100, n_jobs=4,\n             num_parallel_tree=1, predictor=&#x27;auto&#x27;, random_state=0, reg_alpha=0,\n             reg_lambda=1, scale_pos_weight=1, subsample=1, tree_method=&#x27;exact&#x27;,\n             validate_parameters=1, verbosity=None)</pre><b>In a Jupyter environment, please rerun this cell to show the HTML representation or trust the notebook. <br />On GitHub, the HTML representation is unable to render, please try loading this page with nbviewer.org.</b></div><div class=\"sk-container\" hidden><div class=\"sk-item\"><div class=\"sk-estimator sk-toggleable\"><input class=\"sk-toggleable__control sk-hidden--visually\" id=\"sk-estimator-id-2\" type=\"checkbox\" checked><label for=\"sk-estimator-id-2\" class=\"sk-toggleable__label sk-toggleable__label-arrow\">XGBRegressor</label><div class=\"sk-toggleable__content\"><pre>XGBRegressor(base_score=0.5, booster=&#x27;gbtree&#x27;, colsample_bylevel=1,\n             colsample_bynode=1, colsample_bytree=1, enable_categorical=False,\n             gamma=0, gpu_id=-1, importance_type=None,\n             interaction_constraints=&#x27;&#x27;, learning_rate=0.300000012,\n             max_delta_step=0, max_depth=6, min_child_weight=1, missing=nan,\n             monotone_constraints=&#x27;()&#x27;, n_estimators=100, n_jobs=4,\n             num_parallel_tree=1, predictor=&#x27;auto&#x27;, random_state=0, reg_alpha=0,\n             reg_lambda=1, scale_pos_weight=1, subsample=1, tree_method=&#x27;exact&#x27;,\n             validate_parameters=1, verbosity=None)</pre></div></div></div></div></div>"
     },
     "execution_count": 23,
     "metadata": {},
     "output_type": "execute_result"
    }
   ],
   "source": [
    "xg_model = xgb.XGBRegressor()\n",
    "xg_model.fit(topics_df[[f'Topic {i}' for i in range(lda.n_components)]], topics_df['citations'])"
   ],
   "metadata": {
    "collapsed": false,
    "pycharm": {
     "name": "#%%\n"
    }
   }
  },
  {
   "cell_type": "code",
   "execution_count": 24,
   "outputs": [
    {
     "name": "stdout",
     "output_type": "stream",
     "text": [
      "Preparation of a new explainer is initiated\n",
      "\n",
      "  -> data              : 1223 rows 5 cols\n",
      "  -> target variable   : Parameter 'y' was a pandas.Series. Converted to a numpy.ndarray.\n",
      "  -> target variable   : 1223 values\n",
      "  -> model_class       : xgboost.sklearn.XGBRegressor (default)\n",
      "  -> label             : Not specified, model's class short name will be used. (default)\n",
      "  -> predict function  : <function yhat_default at 0x0000028451EF19D0> will be used (default)\n",
      "  -> predict function  : Accepts pandas.DataFrame and numpy.ndarray.\n",
      "  -> predicted values  : min = -19.7, mean = 84.5, max = 1.16e+04\n",
      "  -> model type        : regression will be used (default)\n",
      "  -> residual function : difference between y and yhat (default)\n",
      "  -> residuals         : min = -1.06e+02, mean = 0.104, max = 1.27e+02\n",
      "  -> model_info        : package xgboost\n",
      "\n",
      "A new explainer has been created!\n"
     ]
    }
   ],
   "source": [
    "exp = dx.Explainer(xg_model, topics_df[['Topic 0', 'Topic 1', 'Topic 2', 'Topic 3', 'Topic 4']], topics_df['citations'])"
   ],
   "metadata": {
    "collapsed": false,
    "pycharm": {
     "name": "#%%\n"
    }
   }
  },
  {
   "cell_type": "code",
   "execution_count": 30,
   "outputs": [
    {
     "name": "stderr",
     "output_type": "stream",
     "text": [
      "Calculating ceteris paribus: 100%|██████████| 5/5 [00:00<00:00, 35.97it/s]\n"
     ]
    }
   ],
   "source": [
    "agg_profiles = exp.model_profile().plot(show=False)\n",
    "agg_profiles.write_html('agg_profiles.html')"
   ],
   "metadata": {
    "collapsed": false,
    "pycharm": {
     "name": "#%%\n"
    }
   }
  },
  {
   "cell_type": "code",
   "execution_count": 31,
   "outputs": [
    {
     "data": {
      "application/vnd.plotly.v1+json": {
       "data": [
        {
         "customdata": [
          [
           68.2059555053711,
           "XGBRegressor",
           "Topic 0"
          ],
          [
           68.2059555053711,
           "XGBRegressor",
           "Topic 0"
          ],
          [
           68.2059555053711,
           "XGBRegressor",
           "Topic 0"
          ],
          [
           68.2059555053711,
           "XGBRegressor",
           "Topic 0"
          ],
          [
           68.2059555053711,
           "XGBRegressor",
           "Topic 0"
          ],
          [
           68.2059555053711,
           "XGBRegressor",
           "Topic 0"
          ],
          [
           68.2059555053711,
           "XGBRegressor",
           "Topic 0"
          ],
          [
           68.2059555053711,
           "XGBRegressor",
           "Topic 0"
          ],
          [
           68.2059555053711,
           "XGBRegressor",
           "Topic 0"
          ],
          [
           68.2059555053711,
           "XGBRegressor",
           "Topic 0"
          ],
          [
           68.2059555053711,
           "XGBRegressor",
           "Topic 0"
          ],
          [
           68.2059555053711,
           "XGBRegressor",
           "Topic 0"
          ],
          [
           68.2059555053711,
           "XGBRegressor",
           "Topic 0"
          ],
          [
           68.2059555053711,
           "XGBRegressor",
           "Topic 0"
          ],
          [
           68.2059555053711,
           "XGBRegressor",
           "Topic 0"
          ],
          [
           68.2059555053711,
           "XGBRegressor",
           "Topic 0"
          ],
          [
           68.2059555053711,
           "XGBRegressor",
           "Topic 0"
          ],
          [
           68.2059555053711,
           "XGBRegressor",
           "Topic 0"
          ],
          [
           68.2059555053711,
           "XGBRegressor",
           "Topic 0"
          ],
          [
           68.2059555053711,
           "XGBRegressor",
           "Topic 0"
          ],
          [
           68.2059555053711,
           "XGBRegressor",
           "Topic 0"
          ],
          [
           68.2059555053711,
           "XGBRegressor",
           "Topic 0"
          ],
          [
           68.2059555053711,
           "XGBRegressor",
           "Topic 0"
          ],
          [
           68.2059555053711,
           "XGBRegressor",
           "Topic 0"
          ],
          [
           68.2059555053711,
           "XGBRegressor",
           "Topic 0"
          ],
          [
           68.2059555053711,
           "XGBRegressor",
           "Topic 0"
          ],
          [
           68.2059555053711,
           "XGBRegressor",
           "Topic 0"
          ],
          [
           68.2059555053711,
           "XGBRegressor",
           "Topic 0"
          ],
          [
           68.2059555053711,
           "XGBRegressor",
           "Topic 0"
          ],
          [
           68.2059555053711,
           "XGBRegressor",
           "Topic 0"
          ],
          [
           68.2059555053711,
           "XGBRegressor",
           "Topic 0"
          ],
          [
           68.2059555053711,
           "XGBRegressor",
           "Topic 0"
          ],
          [
           68.2059555053711,
           "XGBRegressor",
           "Topic 0"
          ],
          [
           68.2059555053711,
           "XGBRegressor",
           "Topic 0"
          ],
          [
           68.2059555053711,
           "XGBRegressor",
           "Topic 0"
          ],
          [
           68.2059555053711,
           "XGBRegressor",
           "Topic 0"
          ],
          [
           68.2059555053711,
           "XGBRegressor",
           "Topic 0"
          ],
          [
           68.2059555053711,
           "XGBRegressor",
           "Topic 0"
          ],
          [
           68.2059555053711,
           "XGBRegressor",
           "Topic 0"
          ],
          [
           68.2059555053711,
           "XGBRegressor",
           "Topic 0"
          ],
          [
           68.2059555053711,
           "XGBRegressor",
           "Topic 0"
          ],
          [
           68.2059555053711,
           "XGBRegressor",
           "Topic 0"
          ],
          [
           68.2059555053711,
           "XGBRegressor",
           "Topic 0"
          ],
          [
           68.2059555053711,
           "XGBRegressor",
           "Topic 0"
          ],
          [
           68.2059555053711,
           "XGBRegressor",
           "Topic 0"
          ],
          [
           68.2059555053711,
           "XGBRegressor",
           "Topic 0"
          ],
          [
           68.2059555053711,
           "XGBRegressor",
           "Topic 0"
          ],
          [
           68.2059555053711,
           "XGBRegressor",
           "Topic 0"
          ],
          [
           68.2059555053711,
           "XGBRegressor",
           "Topic 0"
          ],
          [
           68.2059555053711,
           "XGBRegressor",
           "Topic 0"
          ],
          [
           68.2059555053711,
           "XGBRegressor",
           "Topic 0"
          ],
          [
           68.2059555053711,
           "XGBRegressor",
           "Topic 0"
          ],
          [
           68.2059555053711,
           "XGBRegressor",
           "Topic 0"
          ],
          [
           68.2059555053711,
           "XGBRegressor",
           "Topic 0"
          ],
          [
           68.2059555053711,
           "XGBRegressor",
           "Topic 0"
          ],
          [
           68.2059555053711,
           "XGBRegressor",
           "Topic 0"
          ],
          [
           68.2059555053711,
           "XGBRegressor",
           "Topic 0"
          ],
          [
           68.2059555053711,
           "XGBRegressor",
           "Topic 0"
          ],
          [
           68.2059555053711,
           "XGBRegressor",
           "Topic 0"
          ],
          [
           68.2059555053711,
           "XGBRegressor",
           "Topic 0"
          ],
          [
           68.2059555053711,
           "XGBRegressor",
           "Topic 0"
          ],
          [
           68.2059555053711,
           "XGBRegressor",
           "Topic 0"
          ],
          [
           68.2059555053711,
           "XGBRegressor",
           "Topic 0"
          ],
          [
           68.2059555053711,
           "XGBRegressor",
           "Topic 0"
          ],
          [
           68.2059555053711,
           "XGBRegressor",
           "Topic 0"
          ],
          [
           68.2059555053711,
           "XGBRegressor",
           "Topic 0"
          ],
          [
           68.2059555053711,
           "XGBRegressor",
           "Topic 0"
          ],
          [
           68.2059555053711,
           "XGBRegressor",
           "Topic 0"
          ],
          [
           68.2059555053711,
           "XGBRegressor",
           "Topic 0"
          ],
          [
           68.2059555053711,
           "XGBRegressor",
           "Topic 0"
          ],
          [
           68.2059555053711,
           "XGBRegressor",
           "Topic 0"
          ],
          [
           68.2059555053711,
           "XGBRegressor",
           "Topic 0"
          ],
          [
           68.2059555053711,
           "XGBRegressor",
           "Topic 0"
          ],
          [
           68.2059555053711,
           "XGBRegressor",
           "Topic 0"
          ],
          [
           68.2059555053711,
           "XGBRegressor",
           "Topic 0"
          ],
          [
           68.2059555053711,
           "XGBRegressor",
           "Topic 0"
          ],
          [
           68.2059555053711,
           "XGBRegressor",
           "Topic 0"
          ],
          [
           68.2059555053711,
           "XGBRegressor",
           "Topic 0"
          ],
          [
           68.2059555053711,
           "XGBRegressor",
           "Topic 0"
          ],
          [
           68.2059555053711,
           "XGBRegressor",
           "Topic 0"
          ],
          [
           68.2059555053711,
           "XGBRegressor",
           "Topic 0"
          ],
          [
           68.2059555053711,
           "XGBRegressor",
           "Topic 0"
          ],
          [
           68.2059555053711,
           "XGBRegressor",
           "Topic 0"
          ],
          [
           68.2059555053711,
           "XGBRegressor",
           "Topic 0"
          ],
          [
           68.2059555053711,
           "XGBRegressor",
           "Topic 0"
          ],
          [
           68.2059555053711,
           "XGBRegressor",
           "Topic 0"
          ],
          [
           68.2059555053711,
           "XGBRegressor",
           "Topic 0"
          ],
          [
           68.2059555053711,
           "XGBRegressor",
           "Topic 0"
          ],
          [
           68.2059555053711,
           "XGBRegressor",
           "Topic 0"
          ],
          [
           68.2059555053711,
           "XGBRegressor",
           "Topic 0"
          ],
          [
           68.2059555053711,
           "XGBRegressor",
           "Topic 0"
          ],
          [
           68.2059555053711,
           "XGBRegressor",
           "Topic 0"
          ],
          [
           68.2059555053711,
           "XGBRegressor",
           "Topic 0"
          ],
          [
           68.2059555053711,
           "XGBRegressor",
           "Topic 0"
          ],
          [
           68.2059555053711,
           "XGBRegressor",
           "Topic 0"
          ],
          [
           68.2059555053711,
           "XGBRegressor",
           "Topic 0"
          ],
          [
           68.2059555053711,
           "XGBRegressor",
           "Topic 0"
          ],
          [
           68.2059555053711,
           "XGBRegressor",
           "Topic 0"
          ],
          [
           68.2059555053711,
           "XGBRegressor",
           "Topic 0"
          ],
          [
           68.2059555053711,
           "XGBRegressor",
           "Topic 0"
          ],
          [
           68.2059555053711,
           "XGBRegressor",
           "Topic 0"
          ]
         ],
         "hovertemplate": "<b>%{hovertext}</b><br><br>prediction=%{y:.3f}<br>mean_prediction=%{customdata[0]:.3f}<extra></extra>",
         "hovertext": [
          "XGBRegressor",
          "XGBRegressor",
          "XGBRegressor",
          "XGBRegressor",
          "XGBRegressor",
          "XGBRegressor",
          "XGBRegressor",
          "XGBRegressor",
          "XGBRegressor",
          "XGBRegressor",
          "XGBRegressor",
          "XGBRegressor",
          "XGBRegressor",
          "XGBRegressor",
          "XGBRegressor",
          "XGBRegressor",
          "XGBRegressor",
          "XGBRegressor",
          "XGBRegressor",
          "XGBRegressor",
          "XGBRegressor",
          "XGBRegressor",
          "XGBRegressor",
          "XGBRegressor",
          "XGBRegressor",
          "XGBRegressor",
          "XGBRegressor",
          "XGBRegressor",
          "XGBRegressor",
          "XGBRegressor",
          "XGBRegressor",
          "XGBRegressor",
          "XGBRegressor",
          "XGBRegressor",
          "XGBRegressor",
          "XGBRegressor",
          "XGBRegressor",
          "XGBRegressor",
          "XGBRegressor",
          "XGBRegressor",
          "XGBRegressor",
          "XGBRegressor",
          "XGBRegressor",
          "XGBRegressor",
          "XGBRegressor",
          "XGBRegressor",
          "XGBRegressor",
          "XGBRegressor",
          "XGBRegressor",
          "XGBRegressor",
          "XGBRegressor",
          "XGBRegressor",
          "XGBRegressor",
          "XGBRegressor",
          "XGBRegressor",
          "XGBRegressor",
          "XGBRegressor",
          "XGBRegressor",
          "XGBRegressor",
          "XGBRegressor",
          "XGBRegressor",
          "XGBRegressor",
          "XGBRegressor",
          "XGBRegressor",
          "XGBRegressor",
          "XGBRegressor",
          "XGBRegressor",
          "XGBRegressor",
          "XGBRegressor",
          "XGBRegressor",
          "XGBRegressor",
          "XGBRegressor",
          "XGBRegressor",
          "XGBRegressor",
          "XGBRegressor",
          "XGBRegressor",
          "XGBRegressor",
          "XGBRegressor",
          "XGBRegressor",
          "XGBRegressor",
          "XGBRegressor",
          "XGBRegressor",
          "XGBRegressor",
          "XGBRegressor",
          "XGBRegressor",
          "XGBRegressor",
          "XGBRegressor",
          "XGBRegressor",
          "XGBRegressor",
          "XGBRegressor",
          "XGBRegressor",
          "XGBRegressor",
          "XGBRegressor",
          "XGBRegressor",
          "XGBRegressor",
          "XGBRegressor",
          "XGBRegressor",
          "XGBRegressor",
          "XGBRegressor",
          "XGBRegressor",
          "XGBRegressor"
         ],
         "legendgroup": "XGBRegressor",
         "line": {
          "color": "#46bac2",
          "dash": "solid",
          "width": 2
         },
         "marker": {
          "symbol": "circle"
         },
         "mode": "lines",
         "name": "XGBRegressor",
         "orientation": "v",
         "showlegend": true,
         "x": [
          3.231581582371686E-6,
          0.009975923399353636,
          0.0199486152171249,
          0.029921307034896164,
          0.03989399885266743,
          0.049866690670438696,
          0.059839382488209955,
          0.06981207430598123,
          0.07978476612375249,
          0.08975745794152375,
          0.09973014975929502,
          0.10970284157706628,
          0.11967553339483754,
          0.1296482252126088,
          0.13962091703038007,
          0.14959360884815132,
          0.1595663006659226,
          0.16953899248369386,
          0.1795116843014651,
          0.18948437611923638,
          0.19945706793700765,
          0.2094297597547789,
          0.21940245157255017,
          0.22937514339032145,
          0.2393478352080927,
          0.24932052702586396,
          0.25929321884363526,
          0.26926591066140654,
          0.2792386024791778,
          0.28921129429694903,
          0.2991839861147203,
          0.3091566779324916,
          0.31912936975026285,
          0.3291020615680341,
          0.3390747533858054,
          0.34904744520357667,
          0.3590201370213479,
          0.36899282883911916,
          0.37896552065689043,
          0.3889382124746617,
          0.398910904292433,
          0.40888359611020425,
          0.41885628792797547,
          0.42882897974574674,
          0.438801671563518,
          0.4487743633812893,
          0.45874705519906056,
          0.46871974701683183,
          0.47869243883460305,
          0.4886651306523743,
          0.4986378224701456,
          0.5086105142879168,
          0.5185832061056881,
          0.5285558979234594,
          0.5385285897412306,
          0.5485012815590019,
          0.5584739733767732,
          0.5684466651945445,
          0.5784193570123156,
          0.5883920488300869,
          0.5983647406478582,
          0.6083374324656294,
          0.6183101242834007,
          0.628282816101172,
          0.6382555079189433,
          0.6482281997367145,
          0.6582008915544858,
          0.6681735833722571,
          0.6781462751900283,
          0.6881189670077996,
          0.6980916588255709,
          0.708064350643342,
          0.7180370424611133,
          0.7280097342788846,
          0.7379824260966559,
          0.7479551179144271,
          0.7579278097321984,
          0.7679005015499697,
          0.777873193367741,
          0.7878458851855122,
          0.7978185770032835,
          0.8077912688210548,
          0.8177639606388261,
          0.8277366524565973,
          0.8377093442743685,
          0.8476820360921398,
          0.857654727909911,
          0.8676274197276823,
          0.8776001115454536,
          0.8875728033632249,
          0.8975454951809961,
          0.9075181869987674,
          0.9174908788165387,
          0.92746357063431,
          0.9374362624520812,
          0.9474089542698525,
          0.9573816460876237,
          0.9673543379053949,
          0.9773270297231662,
          0.9872997215409375,
          0.9972724133587088
         ],
         "xaxis": "x5",
         "y": [
          207.31178283691406,
          84.90369415283203,
          65.6448745727539,
          113.19588470458984,
          112.17733764648438,
          78.79337310791016,
          82.2619857788086,
          88.80596160888672,
          86.63571166992188,
          76.39151000976562,
          129.6016387939453,
          69.40692138671875,
          75.85424041748047,
          77.77609252929688,
          79.8746109008789,
          79.83233642578125,
          77.9830093383789,
          77.9504623413086,
          80.18160247802734,
          79.5822525024414,
          79.59928894042969,
          79.28422546386719,
          78.10645294189453,
          78.58240509033203,
          77.99327850341797,
          78.47710418701172,
          78.51730346679688,
          78.93179321289062,
          79.01039123535156,
          79.18313598632812,
          75.09030151367188,
          78.88067626953125,
          79.5823974609375,
          81.77906036376953,
          82.74362182617188,
          80.3930892944336,
          80.65681457519531,
          81.14175415039062,
          81.14464569091797,
          83.32979583740234,
          87.70592498779297,
          87.7657241821289,
          87.82193756103516,
          82.2731704711914,
          89.94979095458984,
          314.052490234375,
          78.00798034667969,
          77.997802734375,
          82.1055908203125,
          82.1055908203125,
          82.6215591430664,
          82.6215591430664,
          79.4590072631836,
          85.89097595214844,
          89.08216857910156,
          97.55706787109375,
          94.77950286865234,
          101.0657958984375,
          145.54495239257812,
          145.60107421875,
          246.49053955078125,
          234.11068725585938,
          191.16497802734375,
          191.03224182128906,
          191.03224182128906,
          191.88717651367188,
          189.12367248535156,
          189.45387268066406,
          189.46324157714844,
          189.46324157714844,
          120.20806884765625,
          120.20806884765625,
          120.20806884765625,
          120.20806884765625,
          119.80125427246094,
          121.33720397949219,
          94.02247619628906,
          105.10424041748047,
          105.10424041748047,
          106.60636901855469,
          123.271728515625,
          125.54570770263672,
          125.54570770263672,
          125.51365661621094,
          125.56100463867188,
          125.56100463867188,
          125.56100463867188,
          125.56100463867188,
          125.56100463867188,
          125.56100463867188,
          125.3959732055664,
          125.3959732055664,
          125.3959732055664,
          125.3959732055664,
          125.3959732055664,
          125.40245056152344,
          125.30960083007812,
          125.30960083007812,
          125.30960083007812,
          125.30960083007812,
          121.18464660644531
         ],
         "yaxis": "y5",
         "type": "scatter",
         "opacity": 1
        },
        {
         "customdata": [
          [
           68.2059555053711,
           "XGBRegressor",
           "Topic 1"
          ],
          [
           68.2059555053711,
           "XGBRegressor",
           "Topic 1"
          ],
          [
           68.2059555053711,
           "XGBRegressor",
           "Topic 1"
          ],
          [
           68.2059555053711,
           "XGBRegressor",
           "Topic 1"
          ],
          [
           68.2059555053711,
           "XGBRegressor",
           "Topic 1"
          ],
          [
           68.2059555053711,
           "XGBRegressor",
           "Topic 1"
          ],
          [
           68.2059555053711,
           "XGBRegressor",
           "Topic 1"
          ],
          [
           68.2059555053711,
           "XGBRegressor",
           "Topic 1"
          ],
          [
           68.2059555053711,
           "XGBRegressor",
           "Topic 1"
          ],
          [
           68.2059555053711,
           "XGBRegressor",
           "Topic 1"
          ],
          [
           68.2059555053711,
           "XGBRegressor",
           "Topic 1"
          ],
          [
           68.2059555053711,
           "XGBRegressor",
           "Topic 1"
          ],
          [
           68.2059555053711,
           "XGBRegressor",
           "Topic 1"
          ],
          [
           68.2059555053711,
           "XGBRegressor",
           "Topic 1"
          ],
          [
           68.2059555053711,
           "XGBRegressor",
           "Topic 1"
          ],
          [
           68.2059555053711,
           "XGBRegressor",
           "Topic 1"
          ],
          [
           68.2059555053711,
           "XGBRegressor",
           "Topic 1"
          ],
          [
           68.2059555053711,
           "XGBRegressor",
           "Topic 1"
          ],
          [
           68.2059555053711,
           "XGBRegressor",
           "Topic 1"
          ],
          [
           68.2059555053711,
           "XGBRegressor",
           "Topic 1"
          ],
          [
           68.2059555053711,
           "XGBRegressor",
           "Topic 1"
          ],
          [
           68.2059555053711,
           "XGBRegressor",
           "Topic 1"
          ],
          [
           68.2059555053711,
           "XGBRegressor",
           "Topic 1"
          ],
          [
           68.2059555053711,
           "XGBRegressor",
           "Topic 1"
          ],
          [
           68.2059555053711,
           "XGBRegressor",
           "Topic 1"
          ],
          [
           68.2059555053711,
           "XGBRegressor",
           "Topic 1"
          ],
          [
           68.2059555053711,
           "XGBRegressor",
           "Topic 1"
          ],
          [
           68.2059555053711,
           "XGBRegressor",
           "Topic 1"
          ],
          [
           68.2059555053711,
           "XGBRegressor",
           "Topic 1"
          ],
          [
           68.2059555053711,
           "XGBRegressor",
           "Topic 1"
          ],
          [
           68.2059555053711,
           "XGBRegressor",
           "Topic 1"
          ],
          [
           68.2059555053711,
           "XGBRegressor",
           "Topic 1"
          ],
          [
           68.2059555053711,
           "XGBRegressor",
           "Topic 1"
          ],
          [
           68.2059555053711,
           "XGBRegressor",
           "Topic 1"
          ],
          [
           68.2059555053711,
           "XGBRegressor",
           "Topic 1"
          ],
          [
           68.2059555053711,
           "XGBRegressor",
           "Topic 1"
          ],
          [
           68.2059555053711,
           "XGBRegressor",
           "Topic 1"
          ],
          [
           68.2059555053711,
           "XGBRegressor",
           "Topic 1"
          ],
          [
           68.2059555053711,
           "XGBRegressor",
           "Topic 1"
          ],
          [
           68.2059555053711,
           "XGBRegressor",
           "Topic 1"
          ],
          [
           68.2059555053711,
           "XGBRegressor",
           "Topic 1"
          ],
          [
           68.2059555053711,
           "XGBRegressor",
           "Topic 1"
          ],
          [
           68.2059555053711,
           "XGBRegressor",
           "Topic 1"
          ],
          [
           68.2059555053711,
           "XGBRegressor",
           "Topic 1"
          ],
          [
           68.2059555053711,
           "XGBRegressor",
           "Topic 1"
          ],
          [
           68.2059555053711,
           "XGBRegressor",
           "Topic 1"
          ],
          [
           68.2059555053711,
           "XGBRegressor",
           "Topic 1"
          ],
          [
           68.2059555053711,
           "XGBRegressor",
           "Topic 1"
          ],
          [
           68.2059555053711,
           "XGBRegressor",
           "Topic 1"
          ],
          [
           68.2059555053711,
           "XGBRegressor",
           "Topic 1"
          ],
          [
           68.2059555053711,
           "XGBRegressor",
           "Topic 1"
          ],
          [
           68.2059555053711,
           "XGBRegressor",
           "Topic 1"
          ],
          [
           68.2059555053711,
           "XGBRegressor",
           "Topic 1"
          ],
          [
           68.2059555053711,
           "XGBRegressor",
           "Topic 1"
          ],
          [
           68.2059555053711,
           "XGBRegressor",
           "Topic 1"
          ],
          [
           68.2059555053711,
           "XGBRegressor",
           "Topic 1"
          ],
          [
           68.2059555053711,
           "XGBRegressor",
           "Topic 1"
          ],
          [
           68.2059555053711,
           "XGBRegressor",
           "Topic 1"
          ],
          [
           68.2059555053711,
           "XGBRegressor",
           "Topic 1"
          ],
          [
           68.2059555053711,
           "XGBRegressor",
           "Topic 1"
          ],
          [
           68.2059555053711,
           "XGBRegressor",
           "Topic 1"
          ],
          [
           68.2059555053711,
           "XGBRegressor",
           "Topic 1"
          ],
          [
           68.2059555053711,
           "XGBRegressor",
           "Topic 1"
          ],
          [
           68.2059555053711,
           "XGBRegressor",
           "Topic 1"
          ],
          [
           68.2059555053711,
           "XGBRegressor",
           "Topic 1"
          ],
          [
           68.2059555053711,
           "XGBRegressor",
           "Topic 1"
          ],
          [
           68.2059555053711,
           "XGBRegressor",
           "Topic 1"
          ],
          [
           68.2059555053711,
           "XGBRegressor",
           "Topic 1"
          ],
          [
           68.2059555053711,
           "XGBRegressor",
           "Topic 1"
          ],
          [
           68.2059555053711,
           "XGBRegressor",
           "Topic 1"
          ],
          [
           68.2059555053711,
           "XGBRegressor",
           "Topic 1"
          ],
          [
           68.2059555053711,
           "XGBRegressor",
           "Topic 1"
          ],
          [
           68.2059555053711,
           "XGBRegressor",
           "Topic 1"
          ],
          [
           68.2059555053711,
           "XGBRegressor",
           "Topic 1"
          ],
          [
           68.2059555053711,
           "XGBRegressor",
           "Topic 1"
          ],
          [
           68.2059555053711,
           "XGBRegressor",
           "Topic 1"
          ],
          [
           68.2059555053711,
           "XGBRegressor",
           "Topic 1"
          ],
          [
           68.2059555053711,
           "XGBRegressor",
           "Topic 1"
          ],
          [
           68.2059555053711,
           "XGBRegressor",
           "Topic 1"
          ],
          [
           68.2059555053711,
           "XGBRegressor",
           "Topic 1"
          ],
          [
           68.2059555053711,
           "XGBRegressor",
           "Topic 1"
          ],
          [
           68.2059555053711,
           "XGBRegressor",
           "Topic 1"
          ],
          [
           68.2059555053711,
           "XGBRegressor",
           "Topic 1"
          ],
          [
           68.2059555053711,
           "XGBRegressor",
           "Topic 1"
          ],
          [
           68.2059555053711,
           "XGBRegressor",
           "Topic 1"
          ],
          [
           68.2059555053711,
           "XGBRegressor",
           "Topic 1"
          ],
          [
           68.2059555053711,
           "XGBRegressor",
           "Topic 1"
          ],
          [
           68.2059555053711,
           "XGBRegressor",
           "Topic 1"
          ],
          [
           68.2059555053711,
           "XGBRegressor",
           "Topic 1"
          ],
          [
           68.2059555053711,
           "XGBRegressor",
           "Topic 1"
          ],
          [
           68.2059555053711,
           "XGBRegressor",
           "Topic 1"
          ],
          [
           68.2059555053711,
           "XGBRegressor",
           "Topic 1"
          ],
          [
           68.2059555053711,
           "XGBRegressor",
           "Topic 1"
          ],
          [
           68.2059555053711,
           "XGBRegressor",
           "Topic 1"
          ],
          [
           68.2059555053711,
           "XGBRegressor",
           "Topic 1"
          ],
          [
           68.2059555053711,
           "XGBRegressor",
           "Topic 1"
          ],
          [
           68.2059555053711,
           "XGBRegressor",
           "Topic 1"
          ],
          [
           68.2059555053711,
           "XGBRegressor",
           "Topic 1"
          ],
          [
           68.2059555053711,
           "XGBRegressor",
           "Topic 1"
          ],
          [
           68.2059555053711,
           "XGBRegressor",
           "Topic 1"
          ],
          [
           68.2059555053711,
           "XGBRegressor",
           "Topic 1"
          ]
         ],
         "hovertemplate": "<b>%{hovertext}</b><br><br>prediction=%{y:.3f}<br>mean_prediction=%{customdata[0]:.3f}<extra></extra>",
         "hovertext": [
          "XGBRegressor",
          "XGBRegressor",
          "XGBRegressor",
          "XGBRegressor",
          "XGBRegressor",
          "XGBRegressor",
          "XGBRegressor",
          "XGBRegressor",
          "XGBRegressor",
          "XGBRegressor",
          "XGBRegressor",
          "XGBRegressor",
          "XGBRegressor",
          "XGBRegressor",
          "XGBRegressor",
          "XGBRegressor",
          "XGBRegressor",
          "XGBRegressor",
          "XGBRegressor",
          "XGBRegressor",
          "XGBRegressor",
          "XGBRegressor",
          "XGBRegressor",
          "XGBRegressor",
          "XGBRegressor",
          "XGBRegressor",
          "XGBRegressor",
          "XGBRegressor",
          "XGBRegressor",
          "XGBRegressor",
          "XGBRegressor",
          "XGBRegressor",
          "XGBRegressor",
          "XGBRegressor",
          "XGBRegressor",
          "XGBRegressor",
          "XGBRegressor",
          "XGBRegressor",
          "XGBRegressor",
          "XGBRegressor",
          "XGBRegressor",
          "XGBRegressor",
          "XGBRegressor",
          "XGBRegressor",
          "XGBRegressor",
          "XGBRegressor",
          "XGBRegressor",
          "XGBRegressor",
          "XGBRegressor",
          "XGBRegressor",
          "XGBRegressor",
          "XGBRegressor",
          "XGBRegressor",
          "XGBRegressor",
          "XGBRegressor",
          "XGBRegressor",
          "XGBRegressor",
          "XGBRegressor",
          "XGBRegressor",
          "XGBRegressor",
          "XGBRegressor",
          "XGBRegressor",
          "XGBRegressor",
          "XGBRegressor",
          "XGBRegressor",
          "XGBRegressor",
          "XGBRegressor",
          "XGBRegressor",
          "XGBRegressor",
          "XGBRegressor",
          "XGBRegressor",
          "XGBRegressor",
          "XGBRegressor",
          "XGBRegressor",
          "XGBRegressor",
          "XGBRegressor",
          "XGBRegressor",
          "XGBRegressor",
          "XGBRegressor",
          "XGBRegressor",
          "XGBRegressor",
          "XGBRegressor",
          "XGBRegressor",
          "XGBRegressor",
          "XGBRegressor",
          "XGBRegressor",
          "XGBRegressor",
          "XGBRegressor",
          "XGBRegressor",
          "XGBRegressor",
          "XGBRegressor",
          "XGBRegressor",
          "XGBRegressor",
          "XGBRegressor",
          "XGBRegressor",
          "XGBRegressor",
          "XGBRegressor",
          "XGBRegressor",
          "XGBRegressor",
          "XGBRegressor",
          "XGBRegressor"
         ],
         "legendgroup": "XGBRegressor",
         "line": {
          "color": "#46bac2",
          "dash": "solid",
          "width": 2
         },
         "marker": {
          "symbol": "circle"
         },
         "mode": "lines",
         "name": "XGBRegressor",
         "orientation": "v",
         "showlegend": false,
         "x": [
          3.233412208712053E-6,
          0.010002974639041526,
          0.020002715865874342,
          0.030002457092707154,
          0.04000219831953997,
          0.05000193954637278,
          0.06000168077320559,
          0.07000142200003842,
          0.08000116322687123,
          0.09000090445370404,
          0.10000064568053686,
          0.11000038690736967,
          0.12000012813420248,
          0.12999986936103528,
          0.1399996105878681,
          0.14999935181470092,
          0.15999909304153373,
          0.16999883426836654,
          0.17999857549519935,
          0.18999831672203218,
          0.199998057948865,
          0.2099977991756978,
          0.2199975404025306,
          0.22999728162936342,
          0.23999702285619623,
          0.24999676408302907,
          0.25999650530986185,
          0.2699962465366947,
          0.2799959877635275,
          0.2899957289903603,
          0.29999547021719314,
          0.3099952114440259,
          0.31999495267085876,
          0.3299946938976916,
          0.3399944351245244,
          0.3499941763513572,
          0.35999391757819,
          0.36999365880502283,
          0.37999340003185567,
          0.38999314125868845,
          0.3999928824855213,
          0.40999262371235407,
          0.4199923649391869,
          0.42999210616601974,
          0.4399918473928525,
          0.44999158861968536,
          0.45999132984651814,
          0.469991071073351,
          0.47999081230018376,
          0.4899905535270166,
          0.49999029475384943,
          0.5099900359806823,
          0.519989777207515,
          0.5299895184343479,
          0.5399892596611807,
          0.5499890008880135,
          0.5599887421148464,
          0.5699884833416792,
          0.579988224568512,
          0.5899879657953448,
          0.5999877070221776,
          0.6099874482490104,
          0.6199871894758432,
          0.6299869307026761,
          0.6399866719295089,
          0.6499864131563416,
          0.6599861543831745,
          0.6699858956100073,
          0.6799856368368401,
          0.6899853780636729,
          0.6999851192905058,
          0.7099848605173386,
          0.7199846017441713,
          0.7299843429710042,
          0.739984084197837,
          0.7499838254246698,
          0.7599835666515027,
          0.7699833078783355,
          0.7799830491051682,
          0.789982790332001,
          0.7999825315588339,
          0.8099822727856667,
          0.8199820140124995,
          0.8299817552393324,
          0.8399814964661652,
          0.8499812376929979,
          0.8599809789198308,
          0.8699807201466636,
          0.8799804613734964,
          0.8899802026003292,
          0.8999799438271621,
          0.9099796850539948,
          0.9199794262808276,
          0.9299791675076605,
          0.9399789087344933,
          0.9499786499613261,
          0.9599783911881589,
          0.9699781324149918,
          0.9799778736418245,
          0.9899776148686573,
          0.9999773560954901
         ],
         "xaxis": "x6",
         "y": [
          737.2822875976562,
          87.68476104736328,
          60.97361373901367,
          54.47852325439453,
          54.30508804321289,
          69.9902572631836,
          70.01175689697266,
          117.35215759277344,
          100.8463363647461,
          92.42829132080078,
          90.7164077758789,
          80.50668334960938,
          76.09425354003906,
          81.15027618408203,
          83.62638092041016,
          81.81190490722656,
          81.9100341796875,
          81.9100341796875,
          82.0353012084961,
          82.34126281738281,
          85.29956817626953,
          78.5200424194336,
          78.73756408691406,
          78.73756408691406,
          78.73756408691406,
          88.92601013183594,
          116.4450454711914,
          78.22132110595703,
          87.88142395019531,
          87.88142395019531,
          96.21835327148438,
          127.29373168945312,
          97.8937759399414,
          94.4181900024414,
          94.48759460449219,
          93.22537994384766,
          93.22537994384766,
          93.92215728759766,
          93.92215728759766,
          92.78707885742188,
          92.78707885742188,
          92.78707885742188,
          92.78707885742188,
          92.78707885742188,
          92.78707885742188,
          92.78707885742188,
          99.45870208740234,
          101.4227294921875,
          102.07464599609375,
          103.2447738647461,
          206.0116729736328,
          209.91876220703125,
          205.2049560546875,
          207.3427276611328,
          207.14878845214844,
          219.45794677734375,
          211.39364624023438,
          211.39364624023438,
          211.39364624023438,
          212.78517150878906,
          212.77761840820312,
          212.87423706054688,
          212.97206115722656,
          212.97206115722656,
          241.52938842773438,
          210.88438415527344,
          210.88438415527344,
          210.92996215820312,
          210.92996215820312,
          210.92996215820312,
          210.92996215820312,
          210.812744140625,
          210.84207153320312,
          225.14981079101562,
          217.18026733398438,
          214.8674774169922,
          215.92813110351562,
          240.1061553955078,
          240.1061553955078,
          240.1789093017578,
          240.1789093017578,
          240.1789093017578,
          240.1789093017578,
          240.2311248779297,
          240.31825256347656,
          240.31825256347656,
          238.28306579589844,
          238.28306579589844,
          238.28306579589844,
          237.8804168701172,
          237.8804168701172,
          238.38548278808594,
          238.7445068359375,
          232.28253173828125,
          297.1777648925781,
          237.93421936035156,
          299.53826904296875,
          299.53826904296875,
          299.7832336425781,
          300.3175964355469,
          320.74041748046875
         ],
         "yaxis": "y6",
         "type": "scatter",
         "opacity": 1
        },
        {
         "customdata": [
          [
           68.2059555053711,
           "XGBRegressor",
           "Topic 2"
          ],
          [
           68.2059555053711,
           "XGBRegressor",
           "Topic 2"
          ],
          [
           68.2059555053711,
           "XGBRegressor",
           "Topic 2"
          ],
          [
           68.2059555053711,
           "XGBRegressor",
           "Topic 2"
          ],
          [
           68.2059555053711,
           "XGBRegressor",
           "Topic 2"
          ],
          [
           68.2059555053711,
           "XGBRegressor",
           "Topic 2"
          ],
          [
           68.2059555053711,
           "XGBRegressor",
           "Topic 2"
          ],
          [
           68.2059555053711,
           "XGBRegressor",
           "Topic 2"
          ],
          [
           68.2059555053711,
           "XGBRegressor",
           "Topic 2"
          ],
          [
           68.2059555053711,
           "XGBRegressor",
           "Topic 2"
          ],
          [
           68.2059555053711,
           "XGBRegressor",
           "Topic 2"
          ],
          [
           68.2059555053711,
           "XGBRegressor",
           "Topic 2"
          ],
          [
           68.2059555053711,
           "XGBRegressor",
           "Topic 2"
          ],
          [
           68.2059555053711,
           "XGBRegressor",
           "Topic 2"
          ],
          [
           68.2059555053711,
           "XGBRegressor",
           "Topic 2"
          ],
          [
           68.2059555053711,
           "XGBRegressor",
           "Topic 2"
          ],
          [
           68.2059555053711,
           "XGBRegressor",
           "Topic 2"
          ],
          [
           68.2059555053711,
           "XGBRegressor",
           "Topic 2"
          ],
          [
           68.2059555053711,
           "XGBRegressor",
           "Topic 2"
          ],
          [
           68.2059555053711,
           "XGBRegressor",
           "Topic 2"
          ],
          [
           68.2059555053711,
           "XGBRegressor",
           "Topic 2"
          ],
          [
           68.2059555053711,
           "XGBRegressor",
           "Topic 2"
          ],
          [
           68.2059555053711,
           "XGBRegressor",
           "Topic 2"
          ],
          [
           68.2059555053711,
           "XGBRegressor",
           "Topic 2"
          ],
          [
           68.2059555053711,
           "XGBRegressor",
           "Topic 2"
          ],
          [
           68.2059555053711,
           "XGBRegressor",
           "Topic 2"
          ],
          [
           68.2059555053711,
           "XGBRegressor",
           "Topic 2"
          ],
          [
           68.2059555053711,
           "XGBRegressor",
           "Topic 2"
          ],
          [
           68.2059555053711,
           "XGBRegressor",
           "Topic 2"
          ],
          [
           68.2059555053711,
           "XGBRegressor",
           "Topic 2"
          ],
          [
           68.2059555053711,
           "XGBRegressor",
           "Topic 2"
          ],
          [
           68.2059555053711,
           "XGBRegressor",
           "Topic 2"
          ],
          [
           68.2059555053711,
           "XGBRegressor",
           "Topic 2"
          ],
          [
           68.2059555053711,
           "XGBRegressor",
           "Topic 2"
          ],
          [
           68.2059555053711,
           "XGBRegressor",
           "Topic 2"
          ],
          [
           68.2059555053711,
           "XGBRegressor",
           "Topic 2"
          ],
          [
           68.2059555053711,
           "XGBRegressor",
           "Topic 2"
          ],
          [
           68.2059555053711,
           "XGBRegressor",
           "Topic 2"
          ],
          [
           68.2059555053711,
           "XGBRegressor",
           "Topic 2"
          ],
          [
           68.2059555053711,
           "XGBRegressor",
           "Topic 2"
          ],
          [
           68.2059555053711,
           "XGBRegressor",
           "Topic 2"
          ],
          [
           68.2059555053711,
           "XGBRegressor",
           "Topic 2"
          ],
          [
           68.2059555053711,
           "XGBRegressor",
           "Topic 2"
          ],
          [
           68.2059555053711,
           "XGBRegressor",
           "Topic 2"
          ],
          [
           68.2059555053711,
           "XGBRegressor",
           "Topic 2"
          ],
          [
           68.2059555053711,
           "XGBRegressor",
           "Topic 2"
          ],
          [
           68.2059555053711,
           "XGBRegressor",
           "Topic 2"
          ],
          [
           68.2059555053711,
           "XGBRegressor",
           "Topic 2"
          ],
          [
           68.2059555053711,
           "XGBRegressor",
           "Topic 2"
          ],
          [
           68.2059555053711,
           "XGBRegressor",
           "Topic 2"
          ],
          [
           68.2059555053711,
           "XGBRegressor",
           "Topic 2"
          ],
          [
           68.2059555053711,
           "XGBRegressor",
           "Topic 2"
          ],
          [
           68.2059555053711,
           "XGBRegressor",
           "Topic 2"
          ],
          [
           68.2059555053711,
           "XGBRegressor",
           "Topic 2"
          ],
          [
           68.2059555053711,
           "XGBRegressor",
           "Topic 2"
          ],
          [
           68.2059555053711,
           "XGBRegressor",
           "Topic 2"
          ],
          [
           68.2059555053711,
           "XGBRegressor",
           "Topic 2"
          ],
          [
           68.2059555053711,
           "XGBRegressor",
           "Topic 2"
          ],
          [
           68.2059555053711,
           "XGBRegressor",
           "Topic 2"
          ],
          [
           68.2059555053711,
           "XGBRegressor",
           "Topic 2"
          ],
          [
           68.2059555053711,
           "XGBRegressor",
           "Topic 2"
          ],
          [
           68.2059555053711,
           "XGBRegressor",
           "Topic 2"
          ],
          [
           68.2059555053711,
           "XGBRegressor",
           "Topic 2"
          ],
          [
           68.2059555053711,
           "XGBRegressor",
           "Topic 2"
          ],
          [
           68.2059555053711,
           "XGBRegressor",
           "Topic 2"
          ],
          [
           68.2059555053711,
           "XGBRegressor",
           "Topic 2"
          ],
          [
           68.2059555053711,
           "XGBRegressor",
           "Topic 2"
          ],
          [
           68.2059555053711,
           "XGBRegressor",
           "Topic 2"
          ],
          [
           68.2059555053711,
           "XGBRegressor",
           "Topic 2"
          ],
          [
           68.2059555053711,
           "XGBRegressor",
           "Topic 2"
          ],
          [
           68.2059555053711,
           "XGBRegressor",
           "Topic 2"
          ],
          [
           68.2059555053711,
           "XGBRegressor",
           "Topic 2"
          ],
          [
           68.2059555053711,
           "XGBRegressor",
           "Topic 2"
          ],
          [
           68.2059555053711,
           "XGBRegressor",
           "Topic 2"
          ],
          [
           68.2059555053711,
           "XGBRegressor",
           "Topic 2"
          ],
          [
           68.2059555053711,
           "XGBRegressor",
           "Topic 2"
          ],
          [
           68.2059555053711,
           "XGBRegressor",
           "Topic 2"
          ],
          [
           68.2059555053711,
           "XGBRegressor",
           "Topic 2"
          ],
          [
           68.2059555053711,
           "XGBRegressor",
           "Topic 2"
          ],
          [
           68.2059555053711,
           "XGBRegressor",
           "Topic 2"
          ],
          [
           68.2059555053711,
           "XGBRegressor",
           "Topic 2"
          ],
          [
           68.2059555053711,
           "XGBRegressor",
           "Topic 2"
          ],
          [
           68.2059555053711,
           "XGBRegressor",
           "Topic 2"
          ],
          [
           68.2059555053711,
           "XGBRegressor",
           "Topic 2"
          ],
          [
           68.2059555053711,
           "XGBRegressor",
           "Topic 2"
          ],
          [
           68.2059555053711,
           "XGBRegressor",
           "Topic 2"
          ],
          [
           68.2059555053711,
           "XGBRegressor",
           "Topic 2"
          ],
          [
           68.2059555053711,
           "XGBRegressor",
           "Topic 2"
          ],
          [
           68.2059555053711,
           "XGBRegressor",
           "Topic 2"
          ],
          [
           68.2059555053711,
           "XGBRegressor",
           "Topic 2"
          ],
          [
           68.2059555053711,
           "XGBRegressor",
           "Topic 2"
          ],
          [
           68.2059555053711,
           "XGBRegressor",
           "Topic 2"
          ],
          [
           68.2059555053711,
           "XGBRegressor",
           "Topic 2"
          ],
          [
           68.2059555053711,
           "XGBRegressor",
           "Topic 2"
          ],
          [
           68.2059555053711,
           "XGBRegressor",
           "Topic 2"
          ],
          [
           68.2059555053711,
           "XGBRegressor",
           "Topic 2"
          ],
          [
           68.2059555053711,
           "XGBRegressor",
           "Topic 2"
          ],
          [
           68.2059555053711,
           "XGBRegressor",
           "Topic 2"
          ],
          [
           68.2059555053711,
           "XGBRegressor",
           "Topic 2"
          ],
          [
           68.2059555053711,
           "XGBRegressor",
           "Topic 2"
          ],
          [
           68.2059555053711,
           "XGBRegressor",
           "Topic 2"
          ]
         ],
         "hovertemplate": "<b>%{hovertext}</b><br><br>prediction=%{y:.3f}<br>mean_prediction=%{customdata[0]:.3f}<extra></extra>",
         "hovertext": [
          "XGBRegressor",
          "XGBRegressor",
          "XGBRegressor",
          "XGBRegressor",
          "XGBRegressor",
          "XGBRegressor",
          "XGBRegressor",
          "XGBRegressor",
          "XGBRegressor",
          "XGBRegressor",
          "XGBRegressor",
          "XGBRegressor",
          "XGBRegressor",
          "XGBRegressor",
          "XGBRegressor",
          "XGBRegressor",
          "XGBRegressor",
          "XGBRegressor",
          "XGBRegressor",
          "XGBRegressor",
          "XGBRegressor",
          "XGBRegressor",
          "XGBRegressor",
          "XGBRegressor",
          "XGBRegressor",
          "XGBRegressor",
          "XGBRegressor",
          "XGBRegressor",
          "XGBRegressor",
          "XGBRegressor",
          "XGBRegressor",
          "XGBRegressor",
          "XGBRegressor",
          "XGBRegressor",
          "XGBRegressor",
          "XGBRegressor",
          "XGBRegressor",
          "XGBRegressor",
          "XGBRegressor",
          "XGBRegressor",
          "XGBRegressor",
          "XGBRegressor",
          "XGBRegressor",
          "XGBRegressor",
          "XGBRegressor",
          "XGBRegressor",
          "XGBRegressor",
          "XGBRegressor",
          "XGBRegressor",
          "XGBRegressor",
          "XGBRegressor",
          "XGBRegressor",
          "XGBRegressor",
          "XGBRegressor",
          "XGBRegressor",
          "XGBRegressor",
          "XGBRegressor",
          "XGBRegressor",
          "XGBRegressor",
          "XGBRegressor",
          "XGBRegressor",
          "XGBRegressor",
          "XGBRegressor",
          "XGBRegressor",
          "XGBRegressor",
          "XGBRegressor",
          "XGBRegressor",
          "XGBRegressor",
          "XGBRegressor",
          "XGBRegressor",
          "XGBRegressor",
          "XGBRegressor",
          "XGBRegressor",
          "XGBRegressor",
          "XGBRegressor",
          "XGBRegressor",
          "XGBRegressor",
          "XGBRegressor",
          "XGBRegressor",
          "XGBRegressor",
          "XGBRegressor",
          "XGBRegressor",
          "XGBRegressor",
          "XGBRegressor",
          "XGBRegressor",
          "XGBRegressor",
          "XGBRegressor",
          "XGBRegressor",
          "XGBRegressor",
          "XGBRegressor",
          "XGBRegressor",
          "XGBRegressor",
          "XGBRegressor",
          "XGBRegressor",
          "XGBRegressor",
          "XGBRegressor",
          "XGBRegressor",
          "XGBRegressor",
          "XGBRegressor",
          "XGBRegressor",
          "XGBRegressor"
         ],
         "legendgroup": "XGBRegressor",
         "line": {
          "color": "#46bac2",
          "dash": "solid",
          "width": 2
         },
         "marker": {
          "symbol": "circle"
         },
         "mode": "lines",
         "name": "XGBRegressor",
         "orientation": "v",
         "showlegend": false,
         "x": [
          5.639989965440909E-6,
          0.009996378300861827,
          0.019987116611758213,
          0.0299778549226546,
          0.03996859323355098,
          0.049959331544447365,
          0.059950069855343756,
          0.06994080816624014,
          0.07993154647713653,
          0.08992228478803292,
          0.0999130230989293,
          0.10990376140982569,
          0.11989449972072208,
          0.12988523803161847,
          0.13987597634251484,
          0.14986671465341123,
          0.15985745296430762,
          0.169848191275204,
          0.1798389295861004,
          0.18982966789699676,
          0.19982040620789315,
          0.20981114451878954,
          0.21980188282968594,
          0.22979262114058233,
          0.23978335945147872,
          0.24977409776237508,
          0.2597648360732715,
          0.26975557438416786,
          0.2797463126950642,
          0.28973705100596064,
          0.299727789316857,
          0.3097185276277534,
          0.3197092659386498,
          0.32970000424954615,
          0.33969074256044257,
          0.34968148087133893,
          0.35967221918223535,
          0.3696629574931317,
          0.3796536958040281,
          0.3896444341149245,
          0.39963517242582086,
          0.4096259107367173,
          0.41961664904761364,
          0.42960738735851,
          0.4395981256694064,
          0.4495888639803028,
          0.4595796022911992,
          0.46957034060209557,
          0.479561078912992,
          0.48955181722388835,
          0.4995425555347847,
          0.509533293845681,
          0.5195240321565775,
          0.5295147704674739,
          0.5395055087783702,
          0.5494962470892666,
          0.559486985400163,
          0.5694777237110594,
          0.5794684620219558,
          0.5894592003328522,
          0.5994499386437485,
          0.6094406769546449,
          0.6194314152655414,
          0.6294221535764377,
          0.6394128918873341,
          0.6494036301982304,
          0.6593943685091268,
          0.6693851068200233,
          0.6793758451309196,
          0.689366583441816,
          0.6993573217527124,
          0.7093480600636087,
          0.7193387983745052,
          0.7293295366854016,
          0.7393202749962979,
          0.7493110133071943,
          0.7593017516180907,
          0.7692924899289871,
          0.7792832282398835,
          0.7892739665507799,
          0.7992647048616762,
          0.8092554431725726,
          0.8192461814834691,
          0.8292369197943654,
          0.8392276581052618,
          0.8492183964161581,
          0.8592091347270545,
          0.869199873037951,
          0.8791906113488474,
          0.8891813496597437,
          0.8991720879706401,
          0.9091628262815364,
          0.9191535645924329,
          0.9291443029033293,
          0.9391350412142256,
          0.949125779525122,
          0.9591165178360185,
          0.9691072561469148,
          0.9790979944578112,
          0.9890887327687076,
          0.999079471079604
         ],
         "xaxis": "x3",
         "y": [
          54.18599319458008,
          41.192989349365234,
          41.44776153564453,
          43.018890380859375,
          47.37644577026367,
          62.61505126953125,
          177.04322814941406,
          58.10856628417969,
          62.48652267456055,
          62.431888580322266,
          100.1327896118164,
          99.28987121582031,
          91.9732666015625,
          85.26665496826172,
          68.33589935302734,
          68.03050994873047,
          66.9916763305664,
          354.6869812011719,
          86.98299407958984,
          94.38052368164062,
          95.20365142822266,
          80.37554931640625,
          86.65626525878906,
          95.42390441894531,
          102.88736724853516,
          148.92347717285156,
          94.65191650390625,
          132.72463989257812,
          94.34477233886719,
          94.34477233886719,
          94.2646713256836,
          94.67667388916016,
          94.65726470947266,
          93.04228210449219,
          134.37037658691406,
          201.2913818359375,
          200.326171875,
          201.6360626220703,
          201.55580139160156,
          201.79559326171875,
          171.82980346679688,
          225.69703674316406,
          170.1884765625,
          201.04861450195312,
          198.65472412109375,
          215.2080535888672,
          190.45455932617188,
          143.75897216796875,
          125.21660614013672,
          125.8735580444336,
          126.72732543945312,
          133.19830322265625,
          128.84912109375,
          138.94740295410156,
          113.2899398803711,
          146.4955291748047,
          119.38011169433594,
          115.1331558227539,
          114.77306365966797,
          113.63954162597656,
          119.1221694946289,
          118.9419937133789,
          121.5252456665039,
          121.6475601196289,
          124.08052825927734,
          124.83853912353516,
          139.1525421142578,
          139.15090942382812,
          139.2792510986328,
          139.2792510986328,
          155.20651245117188,
          159.28485107421875,
          159.28485107421875,
          162.21829223632812,
          156.71726989746094,
          153.6881866455078,
          153.76329040527344,
          153.76329040527344,
          446.5182189941406,
          458.2157897949219,
          261.4508972167969,
          260.969482421875,
          260.85101318359375,
          263.7304992675781,
          263.7304992675781,
          263.7304992675781,
          263.7304992675781,
          263.7304992675781,
          293.3940734863281,
          410.4915466308594,
          410.4915466308594,
          410.5457458496094,
          410.5457458496094,
          418.63946533203125,
          418.63946533203125,
          418.63946533203125,
          418.63946533203125,
          418.63946533203125,
          418.63946533203125,
          418.63946533203125,
          418.63946533203125
         ],
         "yaxis": "y3",
         "type": "scatter",
         "opacity": 1
        },
        {
         "customdata": [
          [
           68.2059555053711,
           "XGBRegressor",
           "Topic 3"
          ],
          [
           68.2059555053711,
           "XGBRegressor",
           "Topic 3"
          ],
          [
           68.2059555053711,
           "XGBRegressor",
           "Topic 3"
          ],
          [
           68.2059555053711,
           "XGBRegressor",
           "Topic 3"
          ],
          [
           68.2059555053711,
           "XGBRegressor",
           "Topic 3"
          ],
          [
           68.2059555053711,
           "XGBRegressor",
           "Topic 3"
          ],
          [
           68.2059555053711,
           "XGBRegressor",
           "Topic 3"
          ],
          [
           68.2059555053711,
           "XGBRegressor",
           "Topic 3"
          ],
          [
           68.2059555053711,
           "XGBRegressor",
           "Topic 3"
          ],
          [
           68.2059555053711,
           "XGBRegressor",
           "Topic 3"
          ],
          [
           68.2059555053711,
           "XGBRegressor",
           "Topic 3"
          ],
          [
           68.2059555053711,
           "XGBRegressor",
           "Topic 3"
          ],
          [
           68.2059555053711,
           "XGBRegressor",
           "Topic 3"
          ],
          [
           68.2059555053711,
           "XGBRegressor",
           "Topic 3"
          ],
          [
           68.2059555053711,
           "XGBRegressor",
           "Topic 3"
          ],
          [
           68.2059555053711,
           "XGBRegressor",
           "Topic 3"
          ],
          [
           68.2059555053711,
           "XGBRegressor",
           "Topic 3"
          ],
          [
           68.2059555053711,
           "XGBRegressor",
           "Topic 3"
          ],
          [
           68.2059555053711,
           "XGBRegressor",
           "Topic 3"
          ],
          [
           68.2059555053711,
           "XGBRegressor",
           "Topic 3"
          ],
          [
           68.2059555053711,
           "XGBRegressor",
           "Topic 3"
          ],
          [
           68.2059555053711,
           "XGBRegressor",
           "Topic 3"
          ],
          [
           68.2059555053711,
           "XGBRegressor",
           "Topic 3"
          ],
          [
           68.2059555053711,
           "XGBRegressor",
           "Topic 3"
          ],
          [
           68.2059555053711,
           "XGBRegressor",
           "Topic 3"
          ],
          [
           68.2059555053711,
           "XGBRegressor",
           "Topic 3"
          ],
          [
           68.2059555053711,
           "XGBRegressor",
           "Topic 3"
          ],
          [
           68.2059555053711,
           "XGBRegressor",
           "Topic 3"
          ],
          [
           68.2059555053711,
           "XGBRegressor",
           "Topic 3"
          ],
          [
           68.2059555053711,
           "XGBRegressor",
           "Topic 3"
          ],
          [
           68.2059555053711,
           "XGBRegressor",
           "Topic 3"
          ],
          [
           68.2059555053711,
           "XGBRegressor",
           "Topic 3"
          ],
          [
           68.2059555053711,
           "XGBRegressor",
           "Topic 3"
          ],
          [
           68.2059555053711,
           "XGBRegressor",
           "Topic 3"
          ],
          [
           68.2059555053711,
           "XGBRegressor",
           "Topic 3"
          ],
          [
           68.2059555053711,
           "XGBRegressor",
           "Topic 3"
          ],
          [
           68.2059555053711,
           "XGBRegressor",
           "Topic 3"
          ],
          [
           68.2059555053711,
           "XGBRegressor",
           "Topic 3"
          ],
          [
           68.2059555053711,
           "XGBRegressor",
           "Topic 3"
          ],
          [
           68.2059555053711,
           "XGBRegressor",
           "Topic 3"
          ],
          [
           68.2059555053711,
           "XGBRegressor",
           "Topic 3"
          ],
          [
           68.2059555053711,
           "XGBRegressor",
           "Topic 3"
          ],
          [
           68.2059555053711,
           "XGBRegressor",
           "Topic 3"
          ],
          [
           68.2059555053711,
           "XGBRegressor",
           "Topic 3"
          ],
          [
           68.2059555053711,
           "XGBRegressor",
           "Topic 3"
          ],
          [
           68.2059555053711,
           "XGBRegressor",
           "Topic 3"
          ],
          [
           68.2059555053711,
           "XGBRegressor",
           "Topic 3"
          ],
          [
           68.2059555053711,
           "XGBRegressor",
           "Topic 3"
          ],
          [
           68.2059555053711,
           "XGBRegressor",
           "Topic 3"
          ],
          [
           68.2059555053711,
           "XGBRegressor",
           "Topic 3"
          ],
          [
           68.2059555053711,
           "XGBRegressor",
           "Topic 3"
          ],
          [
           68.2059555053711,
           "XGBRegressor",
           "Topic 3"
          ],
          [
           68.2059555053711,
           "XGBRegressor",
           "Topic 3"
          ],
          [
           68.2059555053711,
           "XGBRegressor",
           "Topic 3"
          ],
          [
           68.2059555053711,
           "XGBRegressor",
           "Topic 3"
          ],
          [
           68.2059555053711,
           "XGBRegressor",
           "Topic 3"
          ],
          [
           68.2059555053711,
           "XGBRegressor",
           "Topic 3"
          ],
          [
           68.2059555053711,
           "XGBRegressor",
           "Topic 3"
          ],
          [
           68.2059555053711,
           "XGBRegressor",
           "Topic 3"
          ],
          [
           68.2059555053711,
           "XGBRegressor",
           "Topic 3"
          ],
          [
           68.2059555053711,
           "XGBRegressor",
           "Topic 3"
          ],
          [
           68.2059555053711,
           "XGBRegressor",
           "Topic 3"
          ],
          [
           68.2059555053711,
           "XGBRegressor",
           "Topic 3"
          ],
          [
           68.2059555053711,
           "XGBRegressor",
           "Topic 3"
          ],
          [
           68.2059555053711,
           "XGBRegressor",
           "Topic 3"
          ],
          [
           68.2059555053711,
           "XGBRegressor",
           "Topic 3"
          ],
          [
           68.2059555053711,
           "XGBRegressor",
           "Topic 3"
          ],
          [
           68.2059555053711,
           "XGBRegressor",
           "Topic 3"
          ],
          [
           68.2059555053711,
           "XGBRegressor",
           "Topic 3"
          ],
          [
           68.2059555053711,
           "XGBRegressor",
           "Topic 3"
          ],
          [
           68.2059555053711,
           "XGBRegressor",
           "Topic 3"
          ],
          [
           68.2059555053711,
           "XGBRegressor",
           "Topic 3"
          ],
          [
           68.2059555053711,
           "XGBRegressor",
           "Topic 3"
          ],
          [
           68.2059555053711,
           "XGBRegressor",
           "Topic 3"
          ],
          [
           68.2059555053711,
           "XGBRegressor",
           "Topic 3"
          ],
          [
           68.2059555053711,
           "XGBRegressor",
           "Topic 3"
          ],
          [
           68.2059555053711,
           "XGBRegressor",
           "Topic 3"
          ],
          [
           68.2059555053711,
           "XGBRegressor",
           "Topic 3"
          ],
          [
           68.2059555053711,
           "XGBRegressor",
           "Topic 3"
          ],
          [
           68.2059555053711,
           "XGBRegressor",
           "Topic 3"
          ],
          [
           68.2059555053711,
           "XGBRegressor",
           "Topic 3"
          ],
          [
           68.2059555053711,
           "XGBRegressor",
           "Topic 3"
          ],
          [
           68.2059555053711,
           "XGBRegressor",
           "Topic 3"
          ],
          [
           68.2059555053711,
           "XGBRegressor",
           "Topic 3"
          ],
          [
           68.2059555053711,
           "XGBRegressor",
           "Topic 3"
          ],
          [
           68.2059555053711,
           "XGBRegressor",
           "Topic 3"
          ],
          [
           68.2059555053711,
           "XGBRegressor",
           "Topic 3"
          ],
          [
           68.2059555053711,
           "XGBRegressor",
           "Topic 3"
          ],
          [
           68.2059555053711,
           "XGBRegressor",
           "Topic 3"
          ],
          [
           68.2059555053711,
           "XGBRegressor",
           "Topic 3"
          ],
          [
           68.2059555053711,
           "XGBRegressor",
           "Topic 3"
          ],
          [
           68.2059555053711,
           "XGBRegressor",
           "Topic 3"
          ],
          [
           68.2059555053711,
           "XGBRegressor",
           "Topic 3"
          ],
          [
           68.2059555053711,
           "XGBRegressor",
           "Topic 3"
          ],
          [
           68.2059555053711,
           "XGBRegressor",
           "Topic 3"
          ],
          [
           68.2059555053711,
           "XGBRegressor",
           "Topic 3"
          ],
          [
           68.2059555053711,
           "XGBRegressor",
           "Topic 3"
          ],
          [
           68.2059555053711,
           "XGBRegressor",
           "Topic 3"
          ],
          [
           68.2059555053711,
           "XGBRegressor",
           "Topic 3"
          ],
          [
           68.2059555053711,
           "XGBRegressor",
           "Topic 3"
          ],
          [
           68.2059555053711,
           "XGBRegressor",
           "Topic 3"
          ]
         ],
         "hovertemplate": "<b>%{hovertext}</b><br><br>prediction=%{y:.3f}<br>mean_prediction=%{customdata[0]:.3f}<extra></extra>",
         "hovertext": [
          "XGBRegressor",
          "XGBRegressor",
          "XGBRegressor",
          "XGBRegressor",
          "XGBRegressor",
          "XGBRegressor",
          "XGBRegressor",
          "XGBRegressor",
          "XGBRegressor",
          "XGBRegressor",
          "XGBRegressor",
          "XGBRegressor",
          "XGBRegressor",
          "XGBRegressor",
          "XGBRegressor",
          "XGBRegressor",
          "XGBRegressor",
          "XGBRegressor",
          "XGBRegressor",
          "XGBRegressor",
          "XGBRegressor",
          "XGBRegressor",
          "XGBRegressor",
          "XGBRegressor",
          "XGBRegressor",
          "XGBRegressor",
          "XGBRegressor",
          "XGBRegressor",
          "XGBRegressor",
          "XGBRegressor",
          "XGBRegressor",
          "XGBRegressor",
          "XGBRegressor",
          "XGBRegressor",
          "XGBRegressor",
          "XGBRegressor",
          "XGBRegressor",
          "XGBRegressor",
          "XGBRegressor",
          "XGBRegressor",
          "XGBRegressor",
          "XGBRegressor",
          "XGBRegressor",
          "XGBRegressor",
          "XGBRegressor",
          "XGBRegressor",
          "XGBRegressor",
          "XGBRegressor",
          "XGBRegressor",
          "XGBRegressor",
          "XGBRegressor",
          "XGBRegressor",
          "XGBRegressor",
          "XGBRegressor",
          "XGBRegressor",
          "XGBRegressor",
          "XGBRegressor",
          "XGBRegressor",
          "XGBRegressor",
          "XGBRegressor",
          "XGBRegressor",
          "XGBRegressor",
          "XGBRegressor",
          "XGBRegressor",
          "XGBRegressor",
          "XGBRegressor",
          "XGBRegressor",
          "XGBRegressor",
          "XGBRegressor",
          "XGBRegressor",
          "XGBRegressor",
          "XGBRegressor",
          "XGBRegressor",
          "XGBRegressor",
          "XGBRegressor",
          "XGBRegressor",
          "XGBRegressor",
          "XGBRegressor",
          "XGBRegressor",
          "XGBRegressor",
          "XGBRegressor",
          "XGBRegressor",
          "XGBRegressor",
          "XGBRegressor",
          "XGBRegressor",
          "XGBRegressor",
          "XGBRegressor",
          "XGBRegressor",
          "XGBRegressor",
          "XGBRegressor",
          "XGBRegressor",
          "XGBRegressor",
          "XGBRegressor",
          "XGBRegressor",
          "XGBRegressor",
          "XGBRegressor",
          "XGBRegressor",
          "XGBRegressor",
          "XGBRegressor",
          "XGBRegressor",
          "XGBRegressor"
         ],
         "legendgroup": "XGBRegressor",
         "line": {
          "color": "#46bac2",
          "dash": "solid",
          "width": 2
         },
         "marker": {
          "symbol": "circle"
         },
         "mode": "lines",
         "name": "XGBRegressor",
         "orientation": "v",
         "showlegend": false,
         "x": [
          5.240236240247019E-6,
          0.010004592272325865,
          0.020003944308411483,
          0.030003296344497103,
          0.04000264838058272,
          0.05000200041666834,
          0.06000135245275396,
          0.07000070448883958,
          0.0800000565249252,
          0.08999940856101082,
          0.09999876059709643,
          0.10999811263318206,
          0.11999746466926768,
          0.1299968167053533,
          0.1399961687414389,
          0.1499955207775245,
          0.15999487281361013,
          0.16999422484969576,
          0.17999357688578138,
          0.18999292892186698,
          0.1999922809579526,
          0.20999163299403822,
          0.21999098503012385,
          0.22999033706620947,
          0.2399896891022951,
          0.2499890411383807,
          0.25998839317446637,
          0.26998774521055197,
          0.27998709724663756,
          0.2899864492827232,
          0.2999858013188088,
          0.30998515335489446,
          0.31998450539098006,
          0.32998385742706565,
          0.3399832094631513,
          0.3499825614992369,
          0.35998191353532255,
          0.36998126557140815,
          0.37998061760749374,
          0.3899799696435794,
          0.399979321679665,
          0.40997867371575064,
          0.41997802575183624,
          0.42997737778792183,
          0.4399767298240075,
          0.4499760818600931,
          0.45997543389617873,
          0.4699747859322643,
          0.47997413796835,
          0.4899734900044356,
          0.49997284204052117,
          0.5099721940766068,
          0.5199715461126925,
          0.5299708981487781,
          0.5399702501848637,
          0.5499696022209493,
          0.5599689542570349,
          0.5699683062931206,
          0.5799676583292062,
          0.5899670103652918,
          0.5999663624013774,
          0.609965714437463,
          0.6199650664735487,
          0.6299644185096342,
          0.6399637705457198,
          0.6499631225818054,
          0.659962474617891,
          0.6699618266539767,
          0.6799611786900623,
          0.6899605307261479,
          0.6999598827622335,
          0.7099592347983191,
          0.7199585868344048,
          0.7299579388704904,
          0.739957290906576,
          0.7499566429426616,
          0.7599559949787472,
          0.7699553470148329,
          0.7799546990509185,
          0.7899540510870041,
          0.7999534031230897,
          0.8099527551591753,
          0.819952107195261,
          0.8299514592313466,
          0.8399508112674322,
          0.8499501633035178,
          0.8599495153396034,
          0.8699488673756891,
          0.8799482194117747,
          0.8899475714478603,
          0.8999469234839459,
          0.9099462755200315,
          0.9199456275561172,
          0.9299449795922028,
          0.9399443316282884,
          0.949943683664374,
          0.9599430357004597,
          0.9699423877365453,
          0.9799417397726309,
          0.9899410918087165,
          0.9999404438448021
         ],
         "xaxis": "x4",
         "y": [
          207.8691864013672,
          57.272239685058594,
          62.787757873535156,
          48.663307189941406,
          48.08028793334961,
          68.80465698242188,
          69.15660095214844,
          87.97616577148438,
          78.61896514892578,
          60.93702697753906,
          52.548736572265625,
          52.76911544799805,
          51.755706787109375,
          62.65747833251953,
          42.779300689697266,
          43.03123092651367,
          43.212589263916016,
          43.16608810424805,
          39.51041030883789,
          39.51041030883789,
          41.44699478149414,
          48.02363967895508,
          50.20856475830078,
          50.19368362426758,
          49.998779296875,
          49.998779296875,
          46.45351791381836,
          46.45351791381836,
          46.51858139038086,
          46.54674530029297,
          46.54674530029297,
          46.54674530029297,
          46.54674530029297,
          46.713539123535156,
          55.21294021606445,
          50.287200927734375,
          40.498966217041016,
          40.430015563964844,
          41.715274810791016,
          171.17251586914062,
          171.1859588623047,
          134.05322265625,
          134.05322265625,
          151.1682586669922,
          150.1240692138672,
          132.0544891357422,
          132.0544891357422,
          130.24563598632812,
          130.24563598632812,
          131.8998565673828,
          133.2468719482422,
          122.95581817626953,
          122.95581817626953,
          123.27901458740234,
          123.27901458740234,
          125.65202331542969,
          122.36870574951172,
          122.36870574951172,
          124.46786499023438,
          149.7017364501953,
          98.08873748779297,
          98.08873748779297,
          103.9104995727539,
          83.55815887451172,
          88.00403594970703,
          177.25653076171875,
          177.05047607421875,
          174.79348754882812,
          185.00033569335938,
          210.50779724121094,
          210.50779724121094,
          210.50779724121094,
          213.67562866210938,
          214.751953125,
          224.48300170898438,
          226.24557495117188,
          242.56494140625,
          212.89974975585938,
          217.843994140625,
          234.47915649414062,
          225.6741180419922,
          215.62557983398438,
          215.62557983398438,
          215.8267822265625,
          228.43919372558594,
          235.70603942871094,
          219.8633270263672,
          219.8633270263672,
          241.21026611328125,
          359.15826416015625,
          276.75653076171875,
          276.75653076171875,
          276.75653076171875,
          277.48004150390625,
          277.8795166015625,
          282.7242126464844,
          282.1478576660156,
          573.2843017578125,
          402.2010498046875,
          351.3220520019531,
          336.8038635253906
         ],
         "yaxis": "y4",
         "type": "scatter",
         "opacity": 1
        },
        {
         "customdata": [
          [
           68.2059555053711,
           "XGBRegressor",
           "Topic 4"
          ],
          [
           68.2059555053711,
           "XGBRegressor",
           "Topic 4"
          ],
          [
           68.2059555053711,
           "XGBRegressor",
           "Topic 4"
          ],
          [
           68.2059555053711,
           "XGBRegressor",
           "Topic 4"
          ],
          [
           68.2059555053711,
           "XGBRegressor",
           "Topic 4"
          ],
          [
           68.2059555053711,
           "XGBRegressor",
           "Topic 4"
          ],
          [
           68.2059555053711,
           "XGBRegressor",
           "Topic 4"
          ],
          [
           68.2059555053711,
           "XGBRegressor",
           "Topic 4"
          ],
          [
           68.2059555053711,
           "XGBRegressor",
           "Topic 4"
          ],
          [
           68.2059555053711,
           "XGBRegressor",
           "Topic 4"
          ],
          [
           68.2059555053711,
           "XGBRegressor",
           "Topic 4"
          ],
          [
           68.2059555053711,
           "XGBRegressor",
           "Topic 4"
          ],
          [
           68.2059555053711,
           "XGBRegressor",
           "Topic 4"
          ],
          [
           68.2059555053711,
           "XGBRegressor",
           "Topic 4"
          ],
          [
           68.2059555053711,
           "XGBRegressor",
           "Topic 4"
          ],
          [
           68.2059555053711,
           "XGBRegressor",
           "Topic 4"
          ],
          [
           68.2059555053711,
           "XGBRegressor",
           "Topic 4"
          ],
          [
           68.2059555053711,
           "XGBRegressor",
           "Topic 4"
          ],
          [
           68.2059555053711,
           "XGBRegressor",
           "Topic 4"
          ],
          [
           68.2059555053711,
           "XGBRegressor",
           "Topic 4"
          ],
          [
           68.2059555053711,
           "XGBRegressor",
           "Topic 4"
          ],
          [
           68.2059555053711,
           "XGBRegressor",
           "Topic 4"
          ],
          [
           68.2059555053711,
           "XGBRegressor",
           "Topic 4"
          ],
          [
           68.2059555053711,
           "XGBRegressor",
           "Topic 4"
          ],
          [
           68.2059555053711,
           "XGBRegressor",
           "Topic 4"
          ],
          [
           68.2059555053711,
           "XGBRegressor",
           "Topic 4"
          ],
          [
           68.2059555053711,
           "XGBRegressor",
           "Topic 4"
          ],
          [
           68.2059555053711,
           "XGBRegressor",
           "Topic 4"
          ],
          [
           68.2059555053711,
           "XGBRegressor",
           "Topic 4"
          ],
          [
           68.2059555053711,
           "XGBRegressor",
           "Topic 4"
          ],
          [
           68.2059555053711,
           "XGBRegressor",
           "Topic 4"
          ],
          [
           68.2059555053711,
           "XGBRegressor",
           "Topic 4"
          ],
          [
           68.2059555053711,
           "XGBRegressor",
           "Topic 4"
          ],
          [
           68.2059555053711,
           "XGBRegressor",
           "Topic 4"
          ],
          [
           68.2059555053711,
           "XGBRegressor",
           "Topic 4"
          ],
          [
           68.2059555053711,
           "XGBRegressor",
           "Topic 4"
          ],
          [
           68.2059555053711,
           "XGBRegressor",
           "Topic 4"
          ],
          [
           68.2059555053711,
           "XGBRegressor",
           "Topic 4"
          ],
          [
           68.2059555053711,
           "XGBRegressor",
           "Topic 4"
          ],
          [
           68.2059555053711,
           "XGBRegressor",
           "Topic 4"
          ],
          [
           68.2059555053711,
           "XGBRegressor",
           "Topic 4"
          ],
          [
           68.2059555053711,
           "XGBRegressor",
           "Topic 4"
          ],
          [
           68.2059555053711,
           "XGBRegressor",
           "Topic 4"
          ],
          [
           68.2059555053711,
           "XGBRegressor",
           "Topic 4"
          ],
          [
           68.2059555053711,
           "XGBRegressor",
           "Topic 4"
          ],
          [
           68.2059555053711,
           "XGBRegressor",
           "Topic 4"
          ],
          [
           68.2059555053711,
           "XGBRegressor",
           "Topic 4"
          ],
          [
           68.2059555053711,
           "XGBRegressor",
           "Topic 4"
          ],
          [
           68.2059555053711,
           "XGBRegressor",
           "Topic 4"
          ],
          [
           68.2059555053711,
           "XGBRegressor",
           "Topic 4"
          ],
          [
           68.2059555053711,
           "XGBRegressor",
           "Topic 4"
          ],
          [
           68.2059555053711,
           "XGBRegressor",
           "Topic 4"
          ],
          [
           68.2059555053711,
           "XGBRegressor",
           "Topic 4"
          ],
          [
           68.2059555053711,
           "XGBRegressor",
           "Topic 4"
          ],
          [
           68.2059555053711,
           "XGBRegressor",
           "Topic 4"
          ],
          [
           68.2059555053711,
           "XGBRegressor",
           "Topic 4"
          ],
          [
           68.2059555053711,
           "XGBRegressor",
           "Topic 4"
          ],
          [
           68.2059555053711,
           "XGBRegressor",
           "Topic 4"
          ],
          [
           68.2059555053711,
           "XGBRegressor",
           "Topic 4"
          ],
          [
           68.2059555053711,
           "XGBRegressor",
           "Topic 4"
          ],
          [
           68.2059555053711,
           "XGBRegressor",
           "Topic 4"
          ],
          [
           68.2059555053711,
           "XGBRegressor",
           "Topic 4"
          ],
          [
           68.2059555053711,
           "XGBRegressor",
           "Topic 4"
          ],
          [
           68.2059555053711,
           "XGBRegressor",
           "Topic 4"
          ],
          [
           68.2059555053711,
           "XGBRegressor",
           "Topic 4"
          ],
          [
           68.2059555053711,
           "XGBRegressor",
           "Topic 4"
          ],
          [
           68.2059555053711,
           "XGBRegressor",
           "Topic 4"
          ],
          [
           68.2059555053711,
           "XGBRegressor",
           "Topic 4"
          ],
          [
           68.2059555053711,
           "XGBRegressor",
           "Topic 4"
          ],
          [
           68.2059555053711,
           "XGBRegressor",
           "Topic 4"
          ],
          [
           68.2059555053711,
           "XGBRegressor",
           "Topic 4"
          ],
          [
           68.2059555053711,
           "XGBRegressor",
           "Topic 4"
          ],
          [
           68.2059555053711,
           "XGBRegressor",
           "Topic 4"
          ],
          [
           68.2059555053711,
           "XGBRegressor",
           "Topic 4"
          ],
          [
           68.2059555053711,
           "XGBRegressor",
           "Topic 4"
          ],
          [
           68.2059555053711,
           "XGBRegressor",
           "Topic 4"
          ],
          [
           68.2059555053711,
           "XGBRegressor",
           "Topic 4"
          ],
          [
           68.2059555053711,
           "XGBRegressor",
           "Topic 4"
          ],
          [
           68.2059555053711,
           "XGBRegressor",
           "Topic 4"
          ],
          [
           68.2059555053711,
           "XGBRegressor",
           "Topic 4"
          ],
          [
           68.2059555053711,
           "XGBRegressor",
           "Topic 4"
          ],
          [
           68.2059555053711,
           "XGBRegressor",
           "Topic 4"
          ],
          [
           68.2059555053711,
           "XGBRegressor",
           "Topic 4"
          ],
          [
           68.2059555053711,
           "XGBRegressor",
           "Topic 4"
          ],
          [
           68.2059555053711,
           "XGBRegressor",
           "Topic 4"
          ],
          [
           68.2059555053711,
           "XGBRegressor",
           "Topic 4"
          ],
          [
           68.2059555053711,
           "XGBRegressor",
           "Topic 4"
          ],
          [
           68.2059555053711,
           "XGBRegressor",
           "Topic 4"
          ],
          [
           68.2059555053711,
           "XGBRegressor",
           "Topic 4"
          ],
          [
           68.2059555053711,
           "XGBRegressor",
           "Topic 4"
          ],
          [
           68.2059555053711,
           "XGBRegressor",
           "Topic 4"
          ],
          [
           68.2059555053711,
           "XGBRegressor",
           "Topic 4"
          ],
          [
           68.2059555053711,
           "XGBRegressor",
           "Topic 4"
          ],
          [
           68.2059555053711,
           "XGBRegressor",
           "Topic 4"
          ],
          [
           68.2059555053711,
           "XGBRegressor",
           "Topic 4"
          ],
          [
           68.2059555053711,
           "XGBRegressor",
           "Topic 4"
          ],
          [
           68.2059555053711,
           "XGBRegressor",
           "Topic 4"
          ],
          [
           68.2059555053711,
           "XGBRegressor",
           "Topic 4"
          ],
          [
           68.2059555053711,
           "XGBRegressor",
           "Topic 4"
          ],
          [
           68.2059555053711,
           "XGBRegressor",
           "Topic 4"
          ],
          [
           68.2059555053711,
           "XGBRegressor",
           "Topic 4"
          ]
         ],
         "hovertemplate": "<b>%{hovertext}</b><br><br>prediction=%{y:.3f}<br>mean_prediction=%{customdata[0]:.3f}<extra></extra>",
         "hovertext": [
          "XGBRegressor",
          "XGBRegressor",
          "XGBRegressor",
          "XGBRegressor",
          "XGBRegressor",
          "XGBRegressor",
          "XGBRegressor",
          "XGBRegressor",
          "XGBRegressor",
          "XGBRegressor",
          "XGBRegressor",
          "XGBRegressor",
          "XGBRegressor",
          "XGBRegressor",
          "XGBRegressor",
          "XGBRegressor",
          "XGBRegressor",
          "XGBRegressor",
          "XGBRegressor",
          "XGBRegressor",
          "XGBRegressor",
          "XGBRegressor",
          "XGBRegressor",
          "XGBRegressor",
          "XGBRegressor",
          "XGBRegressor",
          "XGBRegressor",
          "XGBRegressor",
          "XGBRegressor",
          "XGBRegressor",
          "XGBRegressor",
          "XGBRegressor",
          "XGBRegressor",
          "XGBRegressor",
          "XGBRegressor",
          "XGBRegressor",
          "XGBRegressor",
          "XGBRegressor",
          "XGBRegressor",
          "XGBRegressor",
          "XGBRegressor",
          "XGBRegressor",
          "XGBRegressor",
          "XGBRegressor",
          "XGBRegressor",
          "XGBRegressor",
          "XGBRegressor",
          "XGBRegressor",
          "XGBRegressor",
          "XGBRegressor",
          "XGBRegressor",
          "XGBRegressor",
          "XGBRegressor",
          "XGBRegressor",
          "XGBRegressor",
          "XGBRegressor",
          "XGBRegressor",
          "XGBRegressor",
          "XGBRegressor",
          "XGBRegressor",
          "XGBRegressor",
          "XGBRegressor",
          "XGBRegressor",
          "XGBRegressor",
          "XGBRegressor",
          "XGBRegressor",
          "XGBRegressor",
          "XGBRegressor",
          "XGBRegressor",
          "XGBRegressor",
          "XGBRegressor",
          "XGBRegressor",
          "XGBRegressor",
          "XGBRegressor",
          "XGBRegressor",
          "XGBRegressor",
          "XGBRegressor",
          "XGBRegressor",
          "XGBRegressor",
          "XGBRegressor",
          "XGBRegressor",
          "XGBRegressor",
          "XGBRegressor",
          "XGBRegressor",
          "XGBRegressor",
          "XGBRegressor",
          "XGBRegressor",
          "XGBRegressor",
          "XGBRegressor",
          "XGBRegressor",
          "XGBRegressor",
          "XGBRegressor",
          "XGBRegressor",
          "XGBRegressor",
          "XGBRegressor",
          "XGBRegressor",
          "XGBRegressor",
          "XGBRegressor",
          "XGBRegressor",
          "XGBRegressor",
          "XGBRegressor"
         ],
         "legendgroup": "XGBRegressor",
         "line": {
          "color": "#46bac2",
          "dash": "solid",
          "width": 2
         },
         "marker": {
          "symbol": "circle"
         },
         "mode": "lines",
         "name": "XGBRegressor",
         "orientation": "v",
         "showlegend": false,
         "x": [
          5.477720501240879E-6,
          0.010005175719442452,
          0.020004873718383664,
          0.030004571717324877,
          0.04000426971626608,
          0.05000396771520729,
          0.06000366571414851,
          0.07000336371308973,
          0.08000306171203093,
          0.09000275971097214,
          0.10000245770991335,
          0.11000215570885456,
          0.12000185370779579,
          0.130001551706737,
          0.1400012497056782,
          0.15000094770461941,
          0.16000064570356062,
          0.17000034370250183,
          0.18000004170144304,
          0.18999973970038425,
          0.19999943769932546,
          0.20999913569826667,
          0.21999883369720788,
          0.2299985316961491,
          0.23999822969509033,
          0.24999792769403154,
          0.25999762569297274,
          0.2699973236919139,
          0.27999702169085516,
          0.28999671968979635,
          0.2999964176887376,
          0.30999611568767876,
          0.31999581368662,
          0.32999551168556124,
          0.3399952096845024,
          0.34999490768344366,
          0.35999460568238484,
          0.3699943036813261,
          0.37999400168026726,
          0.3899936996792085,
          0.3999933976781497,
          0.4099930956770909,
          0.4199927936760321,
          0.42999249167497333,
          0.4399921896739145,
          0.44999188767285575,
          0.45999158567179693,
          0.46999128367073817,
          0.4799909816696794,
          0.4899906796686206,
          0.4999903776675618,
          0.509990075666503,
          0.5199897736654442,
          0.5299894716643854,
          0.5399891696633266,
          0.5499888676622678,
          0.559988565661209,
          0.5699882636601502,
          0.5799879616590914,
          0.5899876596580327,
          0.5999873576569739,
          0.609987055655915,
          0.6199867536548562,
          0.6299864516537975,
          0.6399861496527387,
          0.6499858476516799,
          0.6599855456506212,
          0.6699852436495624,
          0.6799849416485035,
          0.6899846396474447,
          0.699984337646386,
          0.7099840356453272,
          0.7199837336442684,
          0.7299834316432096,
          0.7399831296421508,
          0.749982827641092,
          0.7599825256400332,
          0.7699822236389744,
          0.7799819216379157,
          0.7899816196368569,
          0.799981317635798,
          0.8099810156347393,
          0.8199807136336805,
          0.8299804116326217,
          0.8399801096315629,
          0.8499798076305042,
          0.8599795056294454,
          0.8699792036283865,
          0.8799789016273277,
          0.889978599626269,
          0.8999782976252102,
          0.9099779956241514,
          0.9199776936230926,
          0.9299773916220339,
          0.939977089620975,
          0.9499767876199162,
          0.9599764856188575,
          0.9699761836177987,
          0.9799758816167399,
          0.9899755796156811,
          0.9999752776146223
         ],
         "xaxis": "x",
         "y": [
          1391.821533203125,
          153.80255126953125,
          58.11323165893555,
          57.605979919433594,
          62.017887115478516,
          73.8126449584961,
          78.2647476196289,
          68.20182037353516,
          77.98310852050781,
          67.76326751708984,
          86.90892791748047,
          84.25299072265625,
          81.2679214477539,
          133.51620483398438,
          97.5020980834961,
          298.7148132324219,
          162.66436767578125,
          152.70753479003906,
          152.70753479003906,
          152.70753479003906,
          152.73683166503906,
          153.7398681640625,
          153.7398681640625,
          156.72059631347656,
          173.21449279785156,
          173.81375122070312,
          154.02687072753906,
          154.02687072753906,
          156.0682373046875,
          290.5382995605469,
          225.8174285888672,
          227.47824096679688,
          227.9321746826172,
          227.9321746826172,
          205.83119201660156,
          210.2081298828125,
          210.2081298828125,
          210.2081298828125,
          210.2081298828125,
          210.18023681640625,
          210.63636779785156,
          211.68939208984375,
          217.02220153808594,
          216.3603515625,
          226.88990783691406,
          357.53662109375,
          367.0724182128906,
          208.1098175048828,
          208.1098175048828,
          187.1237030029297,
          184.92710876464844,
          184.92710876464844,
          184.92710876464844,
          184.92710876464844,
          184.92710876464844,
          185.26226806640625,
          185.26226806640625,
          185.26226806640625,
          229.7188720703125,
          229.8639678955078,
          231.9250946044922,
          231.9250946044922,
          235.22738647460938,
          235.22738647460938,
          235.22738647460938,
          235.22738647460938,
          245.37176513671875,
          245.37176513671875,
          239.7883758544922,
          239.97288513183594,
          239.97288513183594,
          239.97288513183594,
          239.97288513183594,
          236.96981811523438,
          236.96981811523438,
          242.50631713867188,
          242.50631713867188,
          243.36312866210938,
          287.5091857910156,
          287.5091857910156,
          344.32342529296875,
          344.32342529296875,
          321.1774597167969,
          321.1774597167969,
          321.1774597167969,
          321.1774597167969,
          321.1774597167969,
          321.1774597167969,
          321.074462890625,
          321.074462890625,
          321.074462890625,
          321.074462890625,
          321.074462890625,
          321.074462890625,
          321.074462890625,
          321.074462890625,
          321.074462890625,
          321.074462890625,
          321.074462890625,
          321.074462890625,
          321.074462890625
         ],
         "yaxis": "y",
         "type": "scatter",
         "opacity": 1
        }
       ],
       "layout": {
        "template": {
         "data": {
          "scatter": [
           {
            "type": "scatter"
           }
          ]
         }
        },
        "xaxis": {
         "anchor": "y",
         "domain": [
          0.0,
          0.475
         ],
         "title": {
          "text": ""
         },
         "showticklabels": true,
         "type": "linear",
         "gridwidth": 2,
         "zeroline": false,
         "automargin": true,
         "ticks": "outside",
         "tickcolor": "white",
         "ticklen": 3,
         "fixedrange": true
        },
        "yaxis": {
         "anchor": "x",
         "domain": [
          0.0,
          0.26666666666666666
         ],
         "title": {
          "text": ""
         },
         "range": [
          -95.72070541381837,
          1527.0526489257813
         ],
         "type": "linear",
         "gridwidth": 2,
         "zeroline": false,
         "automargin": true,
         "ticks": "outside",
         "tickcolor": "white",
         "ticklen": 3,
         "fixedrange": true
        },
        "xaxis2": {
         "anchor": "y2",
         "domain": [
          0.525,
          1.0
         ],
         "title": {
          "text": ""
         },
         "showticklabels": true,
         "type": "linear",
         "gridwidth": 2,
         "zeroline": false,
         "automargin": true,
         "ticks": "outside",
         "tickcolor": "white",
         "ticklen": 3,
         "fixedrange": true
        },
        "yaxis2": {
         "anchor": "x2",
         "domain": [
          0.0,
          0.26666666666666666
         ],
         "matches": "y",
         "showticklabels": false,
         "type": "linear",
         "gridwidth": 2,
         "zeroline": false,
         "automargin": true,
         "ticks": "outside",
         "tickcolor": "white",
         "ticklen": 3,
         "fixedrange": true,
         "title": {
          "text": ""
         }
        },
        "xaxis3": {
         "anchor": "y3",
         "domain": [
          0.0,
          0.475
         ],
         "showticklabels": true,
         "type": "linear",
         "gridwidth": 2,
         "zeroline": false,
         "automargin": true,
         "ticks": "outside",
         "tickcolor": "white",
         "ticklen": 3,
         "fixedrange": true,
         "title": {
          "text": ""
         }
        },
        "yaxis3": {
         "anchor": "x3",
         "domain": [
          0.36666666666666664,
          0.6333333333333333
         ],
         "matches": "y",
         "title": {
          "text": ""
         },
         "range": [
          -95.72070541381837,
          1527.0526489257813
         ],
         "type": "linear",
         "gridwidth": 2,
         "zeroline": false,
         "automargin": true,
         "ticks": "outside",
         "tickcolor": "white",
         "ticklen": 3,
         "fixedrange": true
        },
        "xaxis4": {
         "anchor": "y4",
         "domain": [
          0.525,
          1.0
         ],
         "showticklabels": true,
         "type": "linear",
         "gridwidth": 2,
         "zeroline": false,
         "automargin": true,
         "ticks": "outside",
         "tickcolor": "white",
         "ticklen": 3,
         "fixedrange": true,
         "title": {
          "text": ""
         }
        },
        "yaxis4": {
         "anchor": "x4",
         "domain": [
          0.36666666666666664,
          0.6333333333333333
         ],
         "matches": "y",
         "showticklabels": false,
         "type": "linear",
         "gridwidth": 2,
         "zeroline": false,
         "automargin": true,
         "ticks": "outside",
         "tickcolor": "white",
         "ticklen": 3,
         "fixedrange": true,
         "title": {
          "text": ""
         }
        },
        "xaxis5": {
         "anchor": "y5",
         "domain": [
          0.0,
          0.475
         ],
         "showticklabels": true,
         "type": "linear",
         "gridwidth": 2,
         "zeroline": false,
         "automargin": true,
         "ticks": "outside",
         "tickcolor": "white",
         "ticklen": 3,
         "fixedrange": true,
         "title": {
          "text": ""
         }
        },
        "yaxis5": {
         "anchor": "x5",
         "domain": [
          0.7333333333333333,
          1.0
         ],
         "matches": "y",
         "title": {
          "text": ""
         },
         "range": [
          -95.72070541381837,
          1527.0526489257813
         ],
         "type": "linear",
         "gridwidth": 2,
         "zeroline": false,
         "automargin": true,
         "ticks": "outside",
         "tickcolor": "white",
         "ticklen": 3,
         "fixedrange": true
        },
        "xaxis6": {
         "anchor": "y6",
         "domain": [
          0.525,
          1.0
         ],
         "showticklabels": true,
         "type": "linear",
         "gridwidth": 2,
         "zeroline": false,
         "automargin": true,
         "ticks": "outside",
         "tickcolor": "white",
         "ticklen": 3,
         "fixedrange": true,
         "title": {
          "text": ""
         }
        },
        "yaxis6": {
         "anchor": "x6",
         "domain": [
          0.7333333333333333,
          1.0
         ],
         "matches": "y",
         "showticklabels": false,
         "type": "linear",
         "gridwidth": 2,
         "zeroline": false,
         "automargin": true,
         "ticks": "outside",
         "tickcolor": "white",
         "ticklen": 3,
         "fixedrange": true,
         "title": {
          "text": ""
         }
        },
        "annotations": [
         {
          "font": {
           "size": 13
          },
          "showarrow": false,
          "text": "Topic 4",
          "x": 0.2375,
          "xanchor": "center",
          "xref": "paper",
          "y": 0.26666666666666666,
          "yanchor": "bottom",
          "yref": "paper"
         },
         {
          "font": {
           "size": 13
          },
          "showarrow": false,
          "text": "Topic 2",
          "x": 0.2375,
          "xanchor": "center",
          "xref": "paper",
          "y": 0.6333333333333333,
          "yanchor": "bottom",
          "yref": "paper"
         },
         {
          "font": {
           "size": 13
          },
          "showarrow": false,
          "text": "Topic 3",
          "x": 0.7625,
          "xanchor": "center",
          "xref": "paper",
          "y": 0.6333333333333333,
          "yanchor": "bottom",
          "yref": "paper"
         },
         {
          "font": {
           "size": 13
          },
          "showarrow": false,
          "text": "Topic 0",
          "x": 0.2375,
          "xanchor": "center",
          "xref": "paper",
          "y": 1.0,
          "yanchor": "bottom",
          "yref": "paper"
         },
         {
          "font": {
           "size": 13
          },
          "showarrow": false,
          "text": "Topic 1",
          "x": 0.7625,
          "xanchor": "center",
          "xref": "paper",
          "y": 1.0,
          "yanchor": "bottom",
          "yref": "paper"
         },
         {
          "font": {
           "size": 13
          },
          "showarrow": false,
          "text": "prediction",
          "textangle": -90,
          "x": -0.07,
          "xref": "paper",
          "y": 0.5,
          "yref": "paper"
         }
        ],
        "legend": {
         "title": {
          "text": "label",
          "font": {
           "size": 12
          }
         },
         "tracegroupgap": 0,
         "font": {
          "size": 11
         },
         "orientation": "h",
         "yanchor": "bottom",
         "y": 1.0256629597946962,
         "xanchor": "right",
         "x": 1,
         "itemsizing": "constant"
        },
        "margin": {
         "t": 78,
         "b": 71,
         "r": 30
        },
        "font": {
         "color": "#371ea3"
        },
        "title": {
         "font": {
          "size": 16
         },
         "text": "Aggregated Profiles",
         "x": 0.15
        },
        "hovermode": "x unified",
        "height": 1169
       },
       "config": {
        "plotlyServerURL": "https://plot.ly"
       }
      },
      "text/html": "<div>                            <div id=\"17e0c783-f27d-499d-a2d4-7a07edb0a59a\" class=\"plotly-graph-div\" style=\"height:1169px; width:100%;\"></div>            <script type=\"text/javascript\">                require([\"plotly\"], function(Plotly) {                    window.PLOTLYENV=window.PLOTLYENV || {};                                    if (document.getElementById(\"17e0c783-f27d-499d-a2d4-7a07edb0a59a\")) {                    Plotly.newPlot(                        \"17e0c783-f27d-499d-a2d4-7a07edb0a59a\",                        [{\"customdata\":[[68.2059555053711,\"XGBRegressor\",\"Topic 0\"],[68.2059555053711,\"XGBRegressor\",\"Topic 0\"],[68.2059555053711,\"XGBRegressor\",\"Topic 0\"],[68.2059555053711,\"XGBRegressor\",\"Topic 0\"],[68.2059555053711,\"XGBRegressor\",\"Topic 0\"],[68.2059555053711,\"XGBRegressor\",\"Topic 0\"],[68.2059555053711,\"XGBRegressor\",\"Topic 0\"],[68.2059555053711,\"XGBRegressor\",\"Topic 0\"],[68.2059555053711,\"XGBRegressor\",\"Topic 0\"],[68.2059555053711,\"XGBRegressor\",\"Topic 0\"],[68.2059555053711,\"XGBRegressor\",\"Topic 0\"],[68.2059555053711,\"XGBRegressor\",\"Topic 0\"],[68.2059555053711,\"XGBRegressor\",\"Topic 0\"],[68.2059555053711,\"XGBRegressor\",\"Topic 0\"],[68.2059555053711,\"XGBRegressor\",\"Topic 0\"],[68.2059555053711,\"XGBRegressor\",\"Topic 0\"],[68.2059555053711,\"XGBRegressor\",\"Topic 0\"],[68.2059555053711,\"XGBRegressor\",\"Topic 0\"],[68.2059555053711,\"XGBRegressor\",\"Topic 0\"],[68.2059555053711,\"XGBRegressor\",\"Topic 0\"],[68.2059555053711,\"XGBRegressor\",\"Topic 0\"],[68.2059555053711,\"XGBRegressor\",\"Topic 0\"],[68.2059555053711,\"XGBRegressor\",\"Topic 0\"],[68.2059555053711,\"XGBRegressor\",\"Topic 0\"],[68.2059555053711,\"XGBRegressor\",\"Topic 0\"],[68.2059555053711,\"XGBRegressor\",\"Topic 0\"],[68.2059555053711,\"XGBRegressor\",\"Topic 0\"],[68.2059555053711,\"XGBRegressor\",\"Topic 0\"],[68.2059555053711,\"XGBRegressor\",\"Topic 0\"],[68.2059555053711,\"XGBRegressor\",\"Topic 0\"],[68.2059555053711,\"XGBRegressor\",\"Topic 0\"],[68.2059555053711,\"XGBRegressor\",\"Topic 0\"],[68.2059555053711,\"XGBRegressor\",\"Topic 0\"],[68.2059555053711,\"XGBRegressor\",\"Topic 0\"],[68.2059555053711,\"XGBRegressor\",\"Topic 0\"],[68.2059555053711,\"XGBRegressor\",\"Topic 0\"],[68.2059555053711,\"XGBRegressor\",\"Topic 0\"],[68.2059555053711,\"XGBRegressor\",\"Topic 0\"],[68.2059555053711,\"XGBRegressor\",\"Topic 0\"],[68.2059555053711,\"XGBRegressor\",\"Topic 0\"],[68.2059555053711,\"XGBRegressor\",\"Topic 0\"],[68.2059555053711,\"XGBRegressor\",\"Topic 0\"],[68.2059555053711,\"XGBRegressor\",\"Topic 0\"],[68.2059555053711,\"XGBRegressor\",\"Topic 0\"],[68.2059555053711,\"XGBRegressor\",\"Topic 0\"],[68.2059555053711,\"XGBRegressor\",\"Topic 0\"],[68.2059555053711,\"XGBRegressor\",\"Topic 0\"],[68.2059555053711,\"XGBRegressor\",\"Topic 0\"],[68.2059555053711,\"XGBRegressor\",\"Topic 0\"],[68.2059555053711,\"XGBRegressor\",\"Topic 0\"],[68.2059555053711,\"XGBRegressor\",\"Topic 0\"],[68.2059555053711,\"XGBRegressor\",\"Topic 0\"],[68.2059555053711,\"XGBRegressor\",\"Topic 0\"],[68.2059555053711,\"XGBRegressor\",\"Topic 0\"],[68.2059555053711,\"XGBRegressor\",\"Topic 0\"],[68.2059555053711,\"XGBRegressor\",\"Topic 0\"],[68.2059555053711,\"XGBRegressor\",\"Topic 0\"],[68.2059555053711,\"XGBRegressor\",\"Topic 0\"],[68.2059555053711,\"XGBRegressor\",\"Topic 0\"],[68.2059555053711,\"XGBRegressor\",\"Topic 0\"],[68.2059555053711,\"XGBRegressor\",\"Topic 0\"],[68.2059555053711,\"XGBRegressor\",\"Topic 0\"],[68.2059555053711,\"XGBRegressor\",\"Topic 0\"],[68.2059555053711,\"XGBRegressor\",\"Topic 0\"],[68.2059555053711,\"XGBRegressor\",\"Topic 0\"],[68.2059555053711,\"XGBRegressor\",\"Topic 0\"],[68.2059555053711,\"XGBRegressor\",\"Topic 0\"],[68.2059555053711,\"XGBRegressor\",\"Topic 0\"],[68.2059555053711,\"XGBRegressor\",\"Topic 0\"],[68.2059555053711,\"XGBRegressor\",\"Topic 0\"],[68.2059555053711,\"XGBRegressor\",\"Topic 0\"],[68.2059555053711,\"XGBRegressor\",\"Topic 0\"],[68.2059555053711,\"XGBRegressor\",\"Topic 0\"],[68.2059555053711,\"XGBRegressor\",\"Topic 0\"],[68.2059555053711,\"XGBRegressor\",\"Topic 0\"],[68.2059555053711,\"XGBRegressor\",\"Topic 0\"],[68.2059555053711,\"XGBRegressor\",\"Topic 0\"],[68.2059555053711,\"XGBRegressor\",\"Topic 0\"],[68.2059555053711,\"XGBRegressor\",\"Topic 0\"],[68.2059555053711,\"XGBRegressor\",\"Topic 0\"],[68.2059555053711,\"XGBRegressor\",\"Topic 0\"],[68.2059555053711,\"XGBRegressor\",\"Topic 0\"],[68.2059555053711,\"XGBRegressor\",\"Topic 0\"],[68.2059555053711,\"XGBRegressor\",\"Topic 0\"],[68.2059555053711,\"XGBRegressor\",\"Topic 0\"],[68.2059555053711,\"XGBRegressor\",\"Topic 0\"],[68.2059555053711,\"XGBRegressor\",\"Topic 0\"],[68.2059555053711,\"XGBRegressor\",\"Topic 0\"],[68.2059555053711,\"XGBRegressor\",\"Topic 0\"],[68.2059555053711,\"XGBRegressor\",\"Topic 0\"],[68.2059555053711,\"XGBRegressor\",\"Topic 0\"],[68.2059555053711,\"XGBRegressor\",\"Topic 0\"],[68.2059555053711,\"XGBRegressor\",\"Topic 0\"],[68.2059555053711,\"XGBRegressor\",\"Topic 0\"],[68.2059555053711,\"XGBRegressor\",\"Topic 0\"],[68.2059555053711,\"XGBRegressor\",\"Topic 0\"],[68.2059555053711,\"XGBRegressor\",\"Topic 0\"],[68.2059555053711,\"XGBRegressor\",\"Topic 0\"],[68.2059555053711,\"XGBRegressor\",\"Topic 0\"],[68.2059555053711,\"XGBRegressor\",\"Topic 0\"],[68.2059555053711,\"XGBRegressor\",\"Topic 0\"]],\"hovertemplate\":\"<b>%{hovertext}</b><br><br>prediction=%{y:.3f}<br>mean_prediction=%{customdata[0]:.3f}<extra></extra>\",\"hovertext\":[\"XGBRegressor\",\"XGBRegressor\",\"XGBRegressor\",\"XGBRegressor\",\"XGBRegressor\",\"XGBRegressor\",\"XGBRegressor\",\"XGBRegressor\",\"XGBRegressor\",\"XGBRegressor\",\"XGBRegressor\",\"XGBRegressor\",\"XGBRegressor\",\"XGBRegressor\",\"XGBRegressor\",\"XGBRegressor\",\"XGBRegressor\",\"XGBRegressor\",\"XGBRegressor\",\"XGBRegressor\",\"XGBRegressor\",\"XGBRegressor\",\"XGBRegressor\",\"XGBRegressor\",\"XGBRegressor\",\"XGBRegressor\",\"XGBRegressor\",\"XGBRegressor\",\"XGBRegressor\",\"XGBRegressor\",\"XGBRegressor\",\"XGBRegressor\",\"XGBRegressor\",\"XGBRegressor\",\"XGBRegressor\",\"XGBRegressor\",\"XGBRegressor\",\"XGBRegressor\",\"XGBRegressor\",\"XGBRegressor\",\"XGBRegressor\",\"XGBRegressor\",\"XGBRegressor\",\"XGBRegressor\",\"XGBRegressor\",\"XGBRegressor\",\"XGBRegressor\",\"XGBRegressor\",\"XGBRegressor\",\"XGBRegressor\",\"XGBRegressor\",\"XGBRegressor\",\"XGBRegressor\",\"XGBRegressor\",\"XGBRegressor\",\"XGBRegressor\",\"XGBRegressor\",\"XGBRegressor\",\"XGBRegressor\",\"XGBRegressor\",\"XGBRegressor\",\"XGBRegressor\",\"XGBRegressor\",\"XGBRegressor\",\"XGBRegressor\",\"XGBRegressor\",\"XGBRegressor\",\"XGBRegressor\",\"XGBRegressor\",\"XGBRegressor\",\"XGBRegressor\",\"XGBRegressor\",\"XGBRegressor\",\"XGBRegressor\",\"XGBRegressor\",\"XGBRegressor\",\"XGBRegressor\",\"XGBRegressor\",\"XGBRegressor\",\"XGBRegressor\",\"XGBRegressor\",\"XGBRegressor\",\"XGBRegressor\",\"XGBRegressor\",\"XGBRegressor\",\"XGBRegressor\",\"XGBRegressor\",\"XGBRegressor\",\"XGBRegressor\",\"XGBRegressor\",\"XGBRegressor\",\"XGBRegressor\",\"XGBRegressor\",\"XGBRegressor\",\"XGBRegressor\",\"XGBRegressor\",\"XGBRegressor\",\"XGBRegressor\",\"XGBRegressor\",\"XGBRegressor\",\"XGBRegressor\"],\"legendgroup\":\"XGBRegressor\",\"line\":{\"color\":\"#46bac2\",\"dash\":\"solid\",\"width\":2},\"marker\":{\"symbol\":\"circle\"},\"mode\":\"lines\",\"name\":\"XGBRegressor\",\"orientation\":\"v\",\"showlegend\":true,\"x\":[3.231581582371686e-06,0.009975923399353636,0.0199486152171249,0.029921307034896164,0.03989399885266743,0.049866690670438696,0.059839382488209955,0.06981207430598123,0.07978476612375249,0.08975745794152375,0.09973014975929502,0.10970284157706628,0.11967553339483754,0.1296482252126088,0.13962091703038007,0.14959360884815132,0.1595663006659226,0.16953899248369386,0.1795116843014651,0.18948437611923638,0.19945706793700765,0.2094297597547789,0.21940245157255017,0.22937514339032145,0.2393478352080927,0.24932052702586396,0.25929321884363526,0.26926591066140654,0.2792386024791778,0.28921129429694903,0.2991839861147203,0.3091566779324916,0.31912936975026285,0.3291020615680341,0.3390747533858054,0.34904744520357667,0.3590201370213479,0.36899282883911916,0.37896552065689043,0.3889382124746617,0.398910904292433,0.40888359611020425,0.41885628792797547,0.42882897974574674,0.438801671563518,0.4487743633812893,0.45874705519906056,0.46871974701683183,0.47869243883460305,0.4886651306523743,0.4986378224701456,0.5086105142879168,0.5185832061056881,0.5285558979234594,0.5385285897412306,0.5485012815590019,0.5584739733767732,0.5684466651945445,0.5784193570123156,0.5883920488300869,0.5983647406478582,0.6083374324656294,0.6183101242834007,0.628282816101172,0.6382555079189433,0.6482281997367145,0.6582008915544858,0.6681735833722571,0.6781462751900283,0.6881189670077996,0.6980916588255709,0.708064350643342,0.7180370424611133,0.7280097342788846,0.7379824260966559,0.7479551179144271,0.7579278097321984,0.7679005015499697,0.777873193367741,0.7878458851855122,0.7978185770032835,0.8077912688210548,0.8177639606388261,0.8277366524565973,0.8377093442743685,0.8476820360921398,0.857654727909911,0.8676274197276823,0.8776001115454536,0.8875728033632249,0.8975454951809961,0.9075181869987674,0.9174908788165387,0.92746357063431,0.9374362624520812,0.9474089542698525,0.9573816460876237,0.9673543379053949,0.9773270297231662,0.9872997215409375,0.9972724133587088],\"xaxis\":\"x5\",\"y\":[207.31178283691406,84.90369415283203,65.6448745727539,113.19588470458984,112.17733764648438,78.79337310791016,82.2619857788086,88.80596160888672,86.63571166992188,76.39151000976562,129.6016387939453,69.40692138671875,75.85424041748047,77.77609252929688,79.8746109008789,79.83233642578125,77.9830093383789,77.9504623413086,80.18160247802734,79.5822525024414,79.59928894042969,79.28422546386719,78.10645294189453,78.58240509033203,77.99327850341797,78.47710418701172,78.51730346679688,78.93179321289062,79.01039123535156,79.18313598632812,75.09030151367188,78.88067626953125,79.5823974609375,81.77906036376953,82.74362182617188,80.3930892944336,80.65681457519531,81.14175415039062,81.14464569091797,83.32979583740234,87.70592498779297,87.7657241821289,87.82193756103516,82.2731704711914,89.94979095458984,314.052490234375,78.00798034667969,77.997802734375,82.1055908203125,82.1055908203125,82.6215591430664,82.6215591430664,79.4590072631836,85.89097595214844,89.08216857910156,97.55706787109375,94.77950286865234,101.0657958984375,145.54495239257812,145.60107421875,246.49053955078125,234.11068725585938,191.16497802734375,191.03224182128906,191.03224182128906,191.88717651367188,189.12367248535156,189.45387268066406,189.46324157714844,189.46324157714844,120.20806884765625,120.20806884765625,120.20806884765625,120.20806884765625,119.80125427246094,121.33720397949219,94.02247619628906,105.10424041748047,105.10424041748047,106.60636901855469,123.271728515625,125.54570770263672,125.54570770263672,125.51365661621094,125.56100463867188,125.56100463867188,125.56100463867188,125.56100463867188,125.56100463867188,125.56100463867188,125.3959732055664,125.3959732055664,125.3959732055664,125.3959732055664,125.3959732055664,125.40245056152344,125.30960083007812,125.30960083007812,125.30960083007812,125.30960083007812,121.18464660644531],\"yaxis\":\"y5\",\"type\":\"scatter\",\"opacity\":1},{\"customdata\":[[68.2059555053711,\"XGBRegressor\",\"Topic 1\"],[68.2059555053711,\"XGBRegressor\",\"Topic 1\"],[68.2059555053711,\"XGBRegressor\",\"Topic 1\"],[68.2059555053711,\"XGBRegressor\",\"Topic 1\"],[68.2059555053711,\"XGBRegressor\",\"Topic 1\"],[68.2059555053711,\"XGBRegressor\",\"Topic 1\"],[68.2059555053711,\"XGBRegressor\",\"Topic 1\"],[68.2059555053711,\"XGBRegressor\",\"Topic 1\"],[68.2059555053711,\"XGBRegressor\",\"Topic 1\"],[68.2059555053711,\"XGBRegressor\",\"Topic 1\"],[68.2059555053711,\"XGBRegressor\",\"Topic 1\"],[68.2059555053711,\"XGBRegressor\",\"Topic 1\"],[68.2059555053711,\"XGBRegressor\",\"Topic 1\"],[68.2059555053711,\"XGBRegressor\",\"Topic 1\"],[68.2059555053711,\"XGBRegressor\",\"Topic 1\"],[68.2059555053711,\"XGBRegressor\",\"Topic 1\"],[68.2059555053711,\"XGBRegressor\",\"Topic 1\"],[68.2059555053711,\"XGBRegressor\",\"Topic 1\"],[68.2059555053711,\"XGBRegressor\",\"Topic 1\"],[68.2059555053711,\"XGBRegressor\",\"Topic 1\"],[68.2059555053711,\"XGBRegressor\",\"Topic 1\"],[68.2059555053711,\"XGBRegressor\",\"Topic 1\"],[68.2059555053711,\"XGBRegressor\",\"Topic 1\"],[68.2059555053711,\"XGBRegressor\",\"Topic 1\"],[68.2059555053711,\"XGBRegressor\",\"Topic 1\"],[68.2059555053711,\"XGBRegressor\",\"Topic 1\"],[68.2059555053711,\"XGBRegressor\",\"Topic 1\"],[68.2059555053711,\"XGBRegressor\",\"Topic 1\"],[68.2059555053711,\"XGBRegressor\",\"Topic 1\"],[68.2059555053711,\"XGBRegressor\",\"Topic 1\"],[68.2059555053711,\"XGBRegressor\",\"Topic 1\"],[68.2059555053711,\"XGBRegressor\",\"Topic 1\"],[68.2059555053711,\"XGBRegressor\",\"Topic 1\"],[68.2059555053711,\"XGBRegressor\",\"Topic 1\"],[68.2059555053711,\"XGBRegressor\",\"Topic 1\"],[68.2059555053711,\"XGBRegressor\",\"Topic 1\"],[68.2059555053711,\"XGBRegressor\",\"Topic 1\"],[68.2059555053711,\"XGBRegressor\",\"Topic 1\"],[68.2059555053711,\"XGBRegressor\",\"Topic 1\"],[68.2059555053711,\"XGBRegressor\",\"Topic 1\"],[68.2059555053711,\"XGBRegressor\",\"Topic 1\"],[68.2059555053711,\"XGBRegressor\",\"Topic 1\"],[68.2059555053711,\"XGBRegressor\",\"Topic 1\"],[68.2059555053711,\"XGBRegressor\",\"Topic 1\"],[68.2059555053711,\"XGBRegressor\",\"Topic 1\"],[68.2059555053711,\"XGBRegressor\",\"Topic 1\"],[68.2059555053711,\"XGBRegressor\",\"Topic 1\"],[68.2059555053711,\"XGBRegressor\",\"Topic 1\"],[68.2059555053711,\"XGBRegressor\",\"Topic 1\"],[68.2059555053711,\"XGBRegressor\",\"Topic 1\"],[68.2059555053711,\"XGBRegressor\",\"Topic 1\"],[68.2059555053711,\"XGBRegressor\",\"Topic 1\"],[68.2059555053711,\"XGBRegressor\",\"Topic 1\"],[68.2059555053711,\"XGBRegressor\",\"Topic 1\"],[68.2059555053711,\"XGBRegressor\",\"Topic 1\"],[68.2059555053711,\"XGBRegressor\",\"Topic 1\"],[68.2059555053711,\"XGBRegressor\",\"Topic 1\"],[68.2059555053711,\"XGBRegressor\",\"Topic 1\"],[68.2059555053711,\"XGBRegressor\",\"Topic 1\"],[68.2059555053711,\"XGBRegressor\",\"Topic 1\"],[68.2059555053711,\"XGBRegressor\",\"Topic 1\"],[68.2059555053711,\"XGBRegressor\",\"Topic 1\"],[68.2059555053711,\"XGBRegressor\",\"Topic 1\"],[68.2059555053711,\"XGBRegressor\",\"Topic 1\"],[68.2059555053711,\"XGBRegressor\",\"Topic 1\"],[68.2059555053711,\"XGBRegressor\",\"Topic 1\"],[68.2059555053711,\"XGBRegressor\",\"Topic 1\"],[68.2059555053711,\"XGBRegressor\",\"Topic 1\"],[68.2059555053711,\"XGBRegressor\",\"Topic 1\"],[68.2059555053711,\"XGBRegressor\",\"Topic 1\"],[68.2059555053711,\"XGBRegressor\",\"Topic 1\"],[68.2059555053711,\"XGBRegressor\",\"Topic 1\"],[68.2059555053711,\"XGBRegressor\",\"Topic 1\"],[68.2059555053711,\"XGBRegressor\",\"Topic 1\"],[68.2059555053711,\"XGBRegressor\",\"Topic 1\"],[68.2059555053711,\"XGBRegressor\",\"Topic 1\"],[68.2059555053711,\"XGBRegressor\",\"Topic 1\"],[68.2059555053711,\"XGBRegressor\",\"Topic 1\"],[68.2059555053711,\"XGBRegressor\",\"Topic 1\"],[68.2059555053711,\"XGBRegressor\",\"Topic 1\"],[68.2059555053711,\"XGBRegressor\",\"Topic 1\"],[68.2059555053711,\"XGBRegressor\",\"Topic 1\"],[68.2059555053711,\"XGBRegressor\",\"Topic 1\"],[68.2059555053711,\"XGBRegressor\",\"Topic 1\"],[68.2059555053711,\"XGBRegressor\",\"Topic 1\"],[68.2059555053711,\"XGBRegressor\",\"Topic 1\"],[68.2059555053711,\"XGBRegressor\",\"Topic 1\"],[68.2059555053711,\"XGBRegressor\",\"Topic 1\"],[68.2059555053711,\"XGBRegressor\",\"Topic 1\"],[68.2059555053711,\"XGBRegressor\",\"Topic 1\"],[68.2059555053711,\"XGBRegressor\",\"Topic 1\"],[68.2059555053711,\"XGBRegressor\",\"Topic 1\"],[68.2059555053711,\"XGBRegressor\",\"Topic 1\"],[68.2059555053711,\"XGBRegressor\",\"Topic 1\"],[68.2059555053711,\"XGBRegressor\",\"Topic 1\"],[68.2059555053711,\"XGBRegressor\",\"Topic 1\"],[68.2059555053711,\"XGBRegressor\",\"Topic 1\"],[68.2059555053711,\"XGBRegressor\",\"Topic 1\"],[68.2059555053711,\"XGBRegressor\",\"Topic 1\"],[68.2059555053711,\"XGBRegressor\",\"Topic 1\"],[68.2059555053711,\"XGBRegressor\",\"Topic 1\"]],\"hovertemplate\":\"<b>%{hovertext}</b><br><br>prediction=%{y:.3f}<br>mean_prediction=%{customdata[0]:.3f}<extra></extra>\",\"hovertext\":[\"XGBRegressor\",\"XGBRegressor\",\"XGBRegressor\",\"XGBRegressor\",\"XGBRegressor\",\"XGBRegressor\",\"XGBRegressor\",\"XGBRegressor\",\"XGBRegressor\",\"XGBRegressor\",\"XGBRegressor\",\"XGBRegressor\",\"XGBRegressor\",\"XGBRegressor\",\"XGBRegressor\",\"XGBRegressor\",\"XGBRegressor\",\"XGBRegressor\",\"XGBRegressor\",\"XGBRegressor\",\"XGBRegressor\",\"XGBRegressor\",\"XGBRegressor\",\"XGBRegressor\",\"XGBRegressor\",\"XGBRegressor\",\"XGBRegressor\",\"XGBRegressor\",\"XGBRegressor\",\"XGBRegressor\",\"XGBRegressor\",\"XGBRegressor\",\"XGBRegressor\",\"XGBRegressor\",\"XGBRegressor\",\"XGBRegressor\",\"XGBRegressor\",\"XGBRegressor\",\"XGBRegressor\",\"XGBRegressor\",\"XGBRegressor\",\"XGBRegressor\",\"XGBRegressor\",\"XGBRegressor\",\"XGBRegressor\",\"XGBRegressor\",\"XGBRegressor\",\"XGBRegressor\",\"XGBRegressor\",\"XGBRegressor\",\"XGBRegressor\",\"XGBRegressor\",\"XGBRegressor\",\"XGBRegressor\",\"XGBRegressor\",\"XGBRegressor\",\"XGBRegressor\",\"XGBRegressor\",\"XGBRegressor\",\"XGBRegressor\",\"XGBRegressor\",\"XGBRegressor\",\"XGBRegressor\",\"XGBRegressor\",\"XGBRegressor\",\"XGBRegressor\",\"XGBRegressor\",\"XGBRegressor\",\"XGBRegressor\",\"XGBRegressor\",\"XGBRegressor\",\"XGBRegressor\",\"XGBRegressor\",\"XGBRegressor\",\"XGBRegressor\",\"XGBRegressor\",\"XGBRegressor\",\"XGBRegressor\",\"XGBRegressor\",\"XGBRegressor\",\"XGBRegressor\",\"XGBRegressor\",\"XGBRegressor\",\"XGBRegressor\",\"XGBRegressor\",\"XGBRegressor\",\"XGBRegressor\",\"XGBRegressor\",\"XGBRegressor\",\"XGBRegressor\",\"XGBRegressor\",\"XGBRegressor\",\"XGBRegressor\",\"XGBRegressor\",\"XGBRegressor\",\"XGBRegressor\",\"XGBRegressor\",\"XGBRegressor\",\"XGBRegressor\",\"XGBRegressor\",\"XGBRegressor\"],\"legendgroup\":\"XGBRegressor\",\"line\":{\"color\":\"#46bac2\",\"dash\":\"solid\",\"width\":2},\"marker\":{\"symbol\":\"circle\"},\"mode\":\"lines\",\"name\":\"XGBRegressor\",\"orientation\":\"v\",\"showlegend\":false,\"x\":[3.233412208712053e-06,0.010002974639041526,0.020002715865874342,0.030002457092707154,0.04000219831953997,0.05000193954637278,0.06000168077320559,0.07000142200003842,0.08000116322687123,0.09000090445370404,0.10000064568053686,0.11000038690736967,0.12000012813420248,0.12999986936103528,0.1399996105878681,0.14999935181470092,0.15999909304153373,0.16999883426836654,0.17999857549519935,0.18999831672203218,0.199998057948865,0.2099977991756978,0.2199975404025306,0.22999728162936342,0.23999702285619623,0.24999676408302907,0.25999650530986185,0.2699962465366947,0.2799959877635275,0.2899957289903603,0.29999547021719314,0.3099952114440259,0.31999495267085876,0.3299946938976916,0.3399944351245244,0.3499941763513572,0.35999391757819,0.36999365880502283,0.37999340003185567,0.38999314125868845,0.3999928824855213,0.40999262371235407,0.4199923649391869,0.42999210616601974,0.4399918473928525,0.44999158861968536,0.45999132984651814,0.469991071073351,0.47999081230018376,0.4899905535270166,0.49999029475384943,0.5099900359806823,0.519989777207515,0.5299895184343479,0.5399892596611807,0.5499890008880135,0.5599887421148464,0.5699884833416792,0.579988224568512,0.5899879657953448,0.5999877070221776,0.6099874482490104,0.6199871894758432,0.6299869307026761,0.6399866719295089,0.6499864131563416,0.6599861543831745,0.6699858956100073,0.6799856368368401,0.6899853780636729,0.6999851192905058,0.7099848605173386,0.7199846017441713,0.7299843429710042,0.739984084197837,0.7499838254246698,0.7599835666515027,0.7699833078783355,0.7799830491051682,0.789982790332001,0.7999825315588339,0.8099822727856667,0.8199820140124995,0.8299817552393324,0.8399814964661652,0.8499812376929979,0.8599809789198308,0.8699807201466636,0.8799804613734964,0.8899802026003292,0.8999799438271621,0.9099796850539948,0.9199794262808276,0.9299791675076605,0.9399789087344933,0.9499786499613261,0.9599783911881589,0.9699781324149918,0.9799778736418245,0.9899776148686573,0.9999773560954901],\"xaxis\":\"x6\",\"y\":[737.2822875976562,87.68476104736328,60.97361373901367,54.47852325439453,54.30508804321289,69.9902572631836,70.01175689697266,117.35215759277344,100.8463363647461,92.42829132080078,90.7164077758789,80.50668334960938,76.09425354003906,81.15027618408203,83.62638092041016,81.81190490722656,81.9100341796875,81.9100341796875,82.0353012084961,82.34126281738281,85.29956817626953,78.5200424194336,78.73756408691406,78.73756408691406,78.73756408691406,88.92601013183594,116.4450454711914,78.22132110595703,87.88142395019531,87.88142395019531,96.21835327148438,127.29373168945312,97.8937759399414,94.4181900024414,94.48759460449219,93.22537994384766,93.22537994384766,93.92215728759766,93.92215728759766,92.78707885742188,92.78707885742188,92.78707885742188,92.78707885742188,92.78707885742188,92.78707885742188,92.78707885742188,99.45870208740234,101.4227294921875,102.07464599609375,103.2447738647461,206.0116729736328,209.91876220703125,205.2049560546875,207.3427276611328,207.14878845214844,219.45794677734375,211.39364624023438,211.39364624023438,211.39364624023438,212.78517150878906,212.77761840820312,212.87423706054688,212.97206115722656,212.97206115722656,241.52938842773438,210.88438415527344,210.88438415527344,210.92996215820312,210.92996215820312,210.92996215820312,210.92996215820312,210.812744140625,210.84207153320312,225.14981079101562,217.18026733398438,214.8674774169922,215.92813110351562,240.1061553955078,240.1061553955078,240.1789093017578,240.1789093017578,240.1789093017578,240.1789093017578,240.2311248779297,240.31825256347656,240.31825256347656,238.28306579589844,238.28306579589844,238.28306579589844,237.8804168701172,237.8804168701172,238.38548278808594,238.7445068359375,232.28253173828125,297.1777648925781,237.93421936035156,299.53826904296875,299.53826904296875,299.7832336425781,300.3175964355469,320.74041748046875],\"yaxis\":\"y6\",\"type\":\"scatter\",\"opacity\":1},{\"customdata\":[[68.2059555053711,\"XGBRegressor\",\"Topic 2\"],[68.2059555053711,\"XGBRegressor\",\"Topic 2\"],[68.2059555053711,\"XGBRegressor\",\"Topic 2\"],[68.2059555053711,\"XGBRegressor\",\"Topic 2\"],[68.2059555053711,\"XGBRegressor\",\"Topic 2\"],[68.2059555053711,\"XGBRegressor\",\"Topic 2\"],[68.2059555053711,\"XGBRegressor\",\"Topic 2\"],[68.2059555053711,\"XGBRegressor\",\"Topic 2\"],[68.2059555053711,\"XGBRegressor\",\"Topic 2\"],[68.2059555053711,\"XGBRegressor\",\"Topic 2\"],[68.2059555053711,\"XGBRegressor\",\"Topic 2\"],[68.2059555053711,\"XGBRegressor\",\"Topic 2\"],[68.2059555053711,\"XGBRegressor\",\"Topic 2\"],[68.2059555053711,\"XGBRegressor\",\"Topic 2\"],[68.2059555053711,\"XGBRegressor\",\"Topic 2\"],[68.2059555053711,\"XGBRegressor\",\"Topic 2\"],[68.2059555053711,\"XGBRegressor\",\"Topic 2\"],[68.2059555053711,\"XGBRegressor\",\"Topic 2\"],[68.2059555053711,\"XGBRegressor\",\"Topic 2\"],[68.2059555053711,\"XGBRegressor\",\"Topic 2\"],[68.2059555053711,\"XGBRegressor\",\"Topic 2\"],[68.2059555053711,\"XGBRegressor\",\"Topic 2\"],[68.2059555053711,\"XGBRegressor\",\"Topic 2\"],[68.2059555053711,\"XGBRegressor\",\"Topic 2\"],[68.2059555053711,\"XGBRegressor\",\"Topic 2\"],[68.2059555053711,\"XGBRegressor\",\"Topic 2\"],[68.2059555053711,\"XGBRegressor\",\"Topic 2\"],[68.2059555053711,\"XGBRegressor\",\"Topic 2\"],[68.2059555053711,\"XGBRegressor\",\"Topic 2\"],[68.2059555053711,\"XGBRegressor\",\"Topic 2\"],[68.2059555053711,\"XGBRegressor\",\"Topic 2\"],[68.2059555053711,\"XGBRegressor\",\"Topic 2\"],[68.2059555053711,\"XGBRegressor\",\"Topic 2\"],[68.2059555053711,\"XGBRegressor\",\"Topic 2\"],[68.2059555053711,\"XGBRegressor\",\"Topic 2\"],[68.2059555053711,\"XGBRegressor\",\"Topic 2\"],[68.2059555053711,\"XGBRegressor\",\"Topic 2\"],[68.2059555053711,\"XGBRegressor\",\"Topic 2\"],[68.2059555053711,\"XGBRegressor\",\"Topic 2\"],[68.2059555053711,\"XGBRegressor\",\"Topic 2\"],[68.2059555053711,\"XGBRegressor\",\"Topic 2\"],[68.2059555053711,\"XGBRegressor\",\"Topic 2\"],[68.2059555053711,\"XGBRegressor\",\"Topic 2\"],[68.2059555053711,\"XGBRegressor\",\"Topic 2\"],[68.2059555053711,\"XGBRegressor\",\"Topic 2\"],[68.2059555053711,\"XGBRegressor\",\"Topic 2\"],[68.2059555053711,\"XGBRegressor\",\"Topic 2\"],[68.2059555053711,\"XGBRegressor\",\"Topic 2\"],[68.2059555053711,\"XGBRegressor\",\"Topic 2\"],[68.2059555053711,\"XGBRegressor\",\"Topic 2\"],[68.2059555053711,\"XGBRegressor\",\"Topic 2\"],[68.2059555053711,\"XGBRegressor\",\"Topic 2\"],[68.2059555053711,\"XGBRegressor\",\"Topic 2\"],[68.2059555053711,\"XGBRegressor\",\"Topic 2\"],[68.2059555053711,\"XGBRegressor\",\"Topic 2\"],[68.2059555053711,\"XGBRegressor\",\"Topic 2\"],[68.2059555053711,\"XGBRegressor\",\"Topic 2\"],[68.2059555053711,\"XGBRegressor\",\"Topic 2\"],[68.2059555053711,\"XGBRegressor\",\"Topic 2\"],[68.2059555053711,\"XGBRegressor\",\"Topic 2\"],[68.2059555053711,\"XGBRegressor\",\"Topic 2\"],[68.2059555053711,\"XGBRegressor\",\"Topic 2\"],[68.2059555053711,\"XGBRegressor\",\"Topic 2\"],[68.2059555053711,\"XGBRegressor\",\"Topic 2\"],[68.2059555053711,\"XGBRegressor\",\"Topic 2\"],[68.2059555053711,\"XGBRegressor\",\"Topic 2\"],[68.2059555053711,\"XGBRegressor\",\"Topic 2\"],[68.2059555053711,\"XGBRegressor\",\"Topic 2\"],[68.2059555053711,\"XGBRegressor\",\"Topic 2\"],[68.2059555053711,\"XGBRegressor\",\"Topic 2\"],[68.2059555053711,\"XGBRegressor\",\"Topic 2\"],[68.2059555053711,\"XGBRegressor\",\"Topic 2\"],[68.2059555053711,\"XGBRegressor\",\"Topic 2\"],[68.2059555053711,\"XGBRegressor\",\"Topic 2\"],[68.2059555053711,\"XGBRegressor\",\"Topic 2\"],[68.2059555053711,\"XGBRegressor\",\"Topic 2\"],[68.2059555053711,\"XGBRegressor\",\"Topic 2\"],[68.2059555053711,\"XGBRegressor\",\"Topic 2\"],[68.2059555053711,\"XGBRegressor\",\"Topic 2\"],[68.2059555053711,\"XGBRegressor\",\"Topic 2\"],[68.2059555053711,\"XGBRegressor\",\"Topic 2\"],[68.2059555053711,\"XGBRegressor\",\"Topic 2\"],[68.2059555053711,\"XGBRegressor\",\"Topic 2\"],[68.2059555053711,\"XGBRegressor\",\"Topic 2\"],[68.2059555053711,\"XGBRegressor\",\"Topic 2\"],[68.2059555053711,\"XGBRegressor\",\"Topic 2\"],[68.2059555053711,\"XGBRegressor\",\"Topic 2\"],[68.2059555053711,\"XGBRegressor\",\"Topic 2\"],[68.2059555053711,\"XGBRegressor\",\"Topic 2\"],[68.2059555053711,\"XGBRegressor\",\"Topic 2\"],[68.2059555053711,\"XGBRegressor\",\"Topic 2\"],[68.2059555053711,\"XGBRegressor\",\"Topic 2\"],[68.2059555053711,\"XGBRegressor\",\"Topic 2\"],[68.2059555053711,\"XGBRegressor\",\"Topic 2\"],[68.2059555053711,\"XGBRegressor\",\"Topic 2\"],[68.2059555053711,\"XGBRegressor\",\"Topic 2\"],[68.2059555053711,\"XGBRegressor\",\"Topic 2\"],[68.2059555053711,\"XGBRegressor\",\"Topic 2\"],[68.2059555053711,\"XGBRegressor\",\"Topic 2\"],[68.2059555053711,\"XGBRegressor\",\"Topic 2\"],[68.2059555053711,\"XGBRegressor\",\"Topic 2\"]],\"hovertemplate\":\"<b>%{hovertext}</b><br><br>prediction=%{y:.3f}<br>mean_prediction=%{customdata[0]:.3f}<extra></extra>\",\"hovertext\":[\"XGBRegressor\",\"XGBRegressor\",\"XGBRegressor\",\"XGBRegressor\",\"XGBRegressor\",\"XGBRegressor\",\"XGBRegressor\",\"XGBRegressor\",\"XGBRegressor\",\"XGBRegressor\",\"XGBRegressor\",\"XGBRegressor\",\"XGBRegressor\",\"XGBRegressor\",\"XGBRegressor\",\"XGBRegressor\",\"XGBRegressor\",\"XGBRegressor\",\"XGBRegressor\",\"XGBRegressor\",\"XGBRegressor\",\"XGBRegressor\",\"XGBRegressor\",\"XGBRegressor\",\"XGBRegressor\",\"XGBRegressor\",\"XGBRegressor\",\"XGBRegressor\",\"XGBRegressor\",\"XGBRegressor\",\"XGBRegressor\",\"XGBRegressor\",\"XGBRegressor\",\"XGBRegressor\",\"XGBRegressor\",\"XGBRegressor\",\"XGBRegressor\",\"XGBRegressor\",\"XGBRegressor\",\"XGBRegressor\",\"XGBRegressor\",\"XGBRegressor\",\"XGBRegressor\",\"XGBRegressor\",\"XGBRegressor\",\"XGBRegressor\",\"XGBRegressor\",\"XGBRegressor\",\"XGBRegressor\",\"XGBRegressor\",\"XGBRegressor\",\"XGBRegressor\",\"XGBRegressor\",\"XGBRegressor\",\"XGBRegressor\",\"XGBRegressor\",\"XGBRegressor\",\"XGBRegressor\",\"XGBRegressor\",\"XGBRegressor\",\"XGBRegressor\",\"XGBRegressor\",\"XGBRegressor\",\"XGBRegressor\",\"XGBRegressor\",\"XGBRegressor\",\"XGBRegressor\",\"XGBRegressor\",\"XGBRegressor\",\"XGBRegressor\",\"XGBRegressor\",\"XGBRegressor\",\"XGBRegressor\",\"XGBRegressor\",\"XGBRegressor\",\"XGBRegressor\",\"XGBRegressor\",\"XGBRegressor\",\"XGBRegressor\",\"XGBRegressor\",\"XGBRegressor\",\"XGBRegressor\",\"XGBRegressor\",\"XGBRegressor\",\"XGBRegressor\",\"XGBRegressor\",\"XGBRegressor\",\"XGBRegressor\",\"XGBRegressor\",\"XGBRegressor\",\"XGBRegressor\",\"XGBRegressor\",\"XGBRegressor\",\"XGBRegressor\",\"XGBRegressor\",\"XGBRegressor\",\"XGBRegressor\",\"XGBRegressor\",\"XGBRegressor\",\"XGBRegressor\",\"XGBRegressor\"],\"legendgroup\":\"XGBRegressor\",\"line\":{\"color\":\"#46bac2\",\"dash\":\"solid\",\"width\":2},\"marker\":{\"symbol\":\"circle\"},\"mode\":\"lines\",\"name\":\"XGBRegressor\",\"orientation\":\"v\",\"showlegend\":false,\"x\":[5.639989965440909e-06,0.009996378300861827,0.019987116611758213,0.0299778549226546,0.03996859323355098,0.049959331544447365,0.059950069855343756,0.06994080816624014,0.07993154647713653,0.08992228478803292,0.0999130230989293,0.10990376140982569,0.11989449972072208,0.12988523803161847,0.13987597634251484,0.14986671465341123,0.15985745296430762,0.169848191275204,0.1798389295861004,0.18982966789699676,0.19982040620789315,0.20981114451878954,0.21980188282968594,0.22979262114058233,0.23978335945147872,0.24977409776237508,0.2597648360732715,0.26975557438416786,0.2797463126950642,0.28973705100596064,0.299727789316857,0.3097185276277534,0.3197092659386498,0.32970000424954615,0.33969074256044257,0.34968148087133893,0.35967221918223535,0.3696629574931317,0.3796536958040281,0.3896444341149245,0.39963517242582086,0.4096259107367173,0.41961664904761364,0.42960738735851,0.4395981256694064,0.4495888639803028,0.4595796022911992,0.46957034060209557,0.479561078912992,0.48955181722388835,0.4995425555347847,0.509533293845681,0.5195240321565775,0.5295147704674739,0.5395055087783702,0.5494962470892666,0.559486985400163,0.5694777237110594,0.5794684620219558,0.5894592003328522,0.5994499386437485,0.6094406769546449,0.6194314152655414,0.6294221535764377,0.6394128918873341,0.6494036301982304,0.6593943685091268,0.6693851068200233,0.6793758451309196,0.689366583441816,0.6993573217527124,0.7093480600636087,0.7193387983745052,0.7293295366854016,0.7393202749962979,0.7493110133071943,0.7593017516180907,0.7692924899289871,0.7792832282398835,0.7892739665507799,0.7992647048616762,0.8092554431725726,0.8192461814834691,0.8292369197943654,0.8392276581052618,0.8492183964161581,0.8592091347270545,0.869199873037951,0.8791906113488474,0.8891813496597437,0.8991720879706401,0.9091628262815364,0.9191535645924329,0.9291443029033293,0.9391350412142256,0.949125779525122,0.9591165178360185,0.9691072561469148,0.9790979944578112,0.9890887327687076,0.999079471079604],\"xaxis\":\"x3\",\"y\":[54.18599319458008,41.192989349365234,41.44776153564453,43.018890380859375,47.37644577026367,62.61505126953125,177.04322814941406,58.10856628417969,62.48652267456055,62.431888580322266,100.1327896118164,99.28987121582031,91.9732666015625,85.26665496826172,68.33589935302734,68.03050994873047,66.9916763305664,354.6869812011719,86.98299407958984,94.38052368164062,95.20365142822266,80.37554931640625,86.65626525878906,95.42390441894531,102.88736724853516,148.92347717285156,94.65191650390625,132.72463989257812,94.34477233886719,94.34477233886719,94.2646713256836,94.67667388916016,94.65726470947266,93.04228210449219,134.37037658691406,201.2913818359375,200.326171875,201.6360626220703,201.55580139160156,201.79559326171875,171.82980346679688,225.69703674316406,170.1884765625,201.04861450195312,198.65472412109375,215.2080535888672,190.45455932617188,143.75897216796875,125.21660614013672,125.8735580444336,126.72732543945312,133.19830322265625,128.84912109375,138.94740295410156,113.2899398803711,146.4955291748047,119.38011169433594,115.1331558227539,114.77306365966797,113.63954162597656,119.1221694946289,118.9419937133789,121.5252456665039,121.6475601196289,124.08052825927734,124.83853912353516,139.1525421142578,139.15090942382812,139.2792510986328,139.2792510986328,155.20651245117188,159.28485107421875,159.28485107421875,162.21829223632812,156.71726989746094,153.6881866455078,153.76329040527344,153.76329040527344,446.5182189941406,458.2157897949219,261.4508972167969,260.969482421875,260.85101318359375,263.7304992675781,263.7304992675781,263.7304992675781,263.7304992675781,263.7304992675781,293.3940734863281,410.4915466308594,410.4915466308594,410.5457458496094,410.5457458496094,418.63946533203125,418.63946533203125,418.63946533203125,418.63946533203125,418.63946533203125,418.63946533203125,418.63946533203125,418.63946533203125],\"yaxis\":\"y3\",\"type\":\"scatter\",\"opacity\":1},{\"customdata\":[[68.2059555053711,\"XGBRegressor\",\"Topic 3\"],[68.2059555053711,\"XGBRegressor\",\"Topic 3\"],[68.2059555053711,\"XGBRegressor\",\"Topic 3\"],[68.2059555053711,\"XGBRegressor\",\"Topic 3\"],[68.2059555053711,\"XGBRegressor\",\"Topic 3\"],[68.2059555053711,\"XGBRegressor\",\"Topic 3\"],[68.2059555053711,\"XGBRegressor\",\"Topic 3\"],[68.2059555053711,\"XGBRegressor\",\"Topic 3\"],[68.2059555053711,\"XGBRegressor\",\"Topic 3\"],[68.2059555053711,\"XGBRegressor\",\"Topic 3\"],[68.2059555053711,\"XGBRegressor\",\"Topic 3\"],[68.2059555053711,\"XGBRegressor\",\"Topic 3\"],[68.2059555053711,\"XGBRegressor\",\"Topic 3\"],[68.2059555053711,\"XGBRegressor\",\"Topic 3\"],[68.2059555053711,\"XGBRegressor\",\"Topic 3\"],[68.2059555053711,\"XGBRegressor\",\"Topic 3\"],[68.2059555053711,\"XGBRegressor\",\"Topic 3\"],[68.2059555053711,\"XGBRegressor\",\"Topic 3\"],[68.2059555053711,\"XGBRegressor\",\"Topic 3\"],[68.2059555053711,\"XGBRegressor\",\"Topic 3\"],[68.2059555053711,\"XGBRegressor\",\"Topic 3\"],[68.2059555053711,\"XGBRegressor\",\"Topic 3\"],[68.2059555053711,\"XGBRegressor\",\"Topic 3\"],[68.2059555053711,\"XGBRegressor\",\"Topic 3\"],[68.2059555053711,\"XGBRegressor\",\"Topic 3\"],[68.2059555053711,\"XGBRegressor\",\"Topic 3\"],[68.2059555053711,\"XGBRegressor\",\"Topic 3\"],[68.2059555053711,\"XGBRegressor\",\"Topic 3\"],[68.2059555053711,\"XGBRegressor\",\"Topic 3\"],[68.2059555053711,\"XGBRegressor\",\"Topic 3\"],[68.2059555053711,\"XGBRegressor\",\"Topic 3\"],[68.2059555053711,\"XGBRegressor\",\"Topic 3\"],[68.2059555053711,\"XGBRegressor\",\"Topic 3\"],[68.2059555053711,\"XGBRegressor\",\"Topic 3\"],[68.2059555053711,\"XGBRegressor\",\"Topic 3\"],[68.2059555053711,\"XGBRegressor\",\"Topic 3\"],[68.2059555053711,\"XGBRegressor\",\"Topic 3\"],[68.2059555053711,\"XGBRegressor\",\"Topic 3\"],[68.2059555053711,\"XGBRegressor\",\"Topic 3\"],[68.2059555053711,\"XGBRegressor\",\"Topic 3\"],[68.2059555053711,\"XGBRegressor\",\"Topic 3\"],[68.2059555053711,\"XGBRegressor\",\"Topic 3\"],[68.2059555053711,\"XGBRegressor\",\"Topic 3\"],[68.2059555053711,\"XGBRegressor\",\"Topic 3\"],[68.2059555053711,\"XGBRegressor\",\"Topic 3\"],[68.2059555053711,\"XGBRegressor\",\"Topic 3\"],[68.2059555053711,\"XGBRegressor\",\"Topic 3\"],[68.2059555053711,\"XGBRegressor\",\"Topic 3\"],[68.2059555053711,\"XGBRegressor\",\"Topic 3\"],[68.2059555053711,\"XGBRegressor\",\"Topic 3\"],[68.2059555053711,\"XGBRegressor\",\"Topic 3\"],[68.2059555053711,\"XGBRegressor\",\"Topic 3\"],[68.2059555053711,\"XGBRegressor\",\"Topic 3\"],[68.2059555053711,\"XGBRegressor\",\"Topic 3\"],[68.2059555053711,\"XGBRegressor\",\"Topic 3\"],[68.2059555053711,\"XGBRegressor\",\"Topic 3\"],[68.2059555053711,\"XGBRegressor\",\"Topic 3\"],[68.2059555053711,\"XGBRegressor\",\"Topic 3\"],[68.2059555053711,\"XGBRegressor\",\"Topic 3\"],[68.2059555053711,\"XGBRegressor\",\"Topic 3\"],[68.2059555053711,\"XGBRegressor\",\"Topic 3\"],[68.2059555053711,\"XGBRegressor\",\"Topic 3\"],[68.2059555053711,\"XGBRegressor\",\"Topic 3\"],[68.2059555053711,\"XGBRegressor\",\"Topic 3\"],[68.2059555053711,\"XGBRegressor\",\"Topic 3\"],[68.2059555053711,\"XGBRegressor\",\"Topic 3\"],[68.2059555053711,\"XGBRegressor\",\"Topic 3\"],[68.2059555053711,\"XGBRegressor\",\"Topic 3\"],[68.2059555053711,\"XGBRegressor\",\"Topic 3\"],[68.2059555053711,\"XGBRegressor\",\"Topic 3\"],[68.2059555053711,\"XGBRegressor\",\"Topic 3\"],[68.2059555053711,\"XGBRegressor\",\"Topic 3\"],[68.2059555053711,\"XGBRegressor\",\"Topic 3\"],[68.2059555053711,\"XGBRegressor\",\"Topic 3\"],[68.2059555053711,\"XGBRegressor\",\"Topic 3\"],[68.2059555053711,\"XGBRegressor\",\"Topic 3\"],[68.2059555053711,\"XGBRegressor\",\"Topic 3\"],[68.2059555053711,\"XGBRegressor\",\"Topic 3\"],[68.2059555053711,\"XGBRegressor\",\"Topic 3\"],[68.2059555053711,\"XGBRegressor\",\"Topic 3\"],[68.2059555053711,\"XGBRegressor\",\"Topic 3\"],[68.2059555053711,\"XGBRegressor\",\"Topic 3\"],[68.2059555053711,\"XGBRegressor\",\"Topic 3\"],[68.2059555053711,\"XGBRegressor\",\"Topic 3\"],[68.2059555053711,\"XGBRegressor\",\"Topic 3\"],[68.2059555053711,\"XGBRegressor\",\"Topic 3\"],[68.2059555053711,\"XGBRegressor\",\"Topic 3\"],[68.2059555053711,\"XGBRegressor\",\"Topic 3\"],[68.2059555053711,\"XGBRegressor\",\"Topic 3\"],[68.2059555053711,\"XGBRegressor\",\"Topic 3\"],[68.2059555053711,\"XGBRegressor\",\"Topic 3\"],[68.2059555053711,\"XGBRegressor\",\"Topic 3\"],[68.2059555053711,\"XGBRegressor\",\"Topic 3\"],[68.2059555053711,\"XGBRegressor\",\"Topic 3\"],[68.2059555053711,\"XGBRegressor\",\"Topic 3\"],[68.2059555053711,\"XGBRegressor\",\"Topic 3\"],[68.2059555053711,\"XGBRegressor\",\"Topic 3\"],[68.2059555053711,\"XGBRegressor\",\"Topic 3\"],[68.2059555053711,\"XGBRegressor\",\"Topic 3\"],[68.2059555053711,\"XGBRegressor\",\"Topic 3\"],[68.2059555053711,\"XGBRegressor\",\"Topic 3\"]],\"hovertemplate\":\"<b>%{hovertext}</b><br><br>prediction=%{y:.3f}<br>mean_prediction=%{customdata[0]:.3f}<extra></extra>\",\"hovertext\":[\"XGBRegressor\",\"XGBRegressor\",\"XGBRegressor\",\"XGBRegressor\",\"XGBRegressor\",\"XGBRegressor\",\"XGBRegressor\",\"XGBRegressor\",\"XGBRegressor\",\"XGBRegressor\",\"XGBRegressor\",\"XGBRegressor\",\"XGBRegressor\",\"XGBRegressor\",\"XGBRegressor\",\"XGBRegressor\",\"XGBRegressor\",\"XGBRegressor\",\"XGBRegressor\",\"XGBRegressor\",\"XGBRegressor\",\"XGBRegressor\",\"XGBRegressor\",\"XGBRegressor\",\"XGBRegressor\",\"XGBRegressor\",\"XGBRegressor\",\"XGBRegressor\",\"XGBRegressor\",\"XGBRegressor\",\"XGBRegressor\",\"XGBRegressor\",\"XGBRegressor\",\"XGBRegressor\",\"XGBRegressor\",\"XGBRegressor\",\"XGBRegressor\",\"XGBRegressor\",\"XGBRegressor\",\"XGBRegressor\",\"XGBRegressor\",\"XGBRegressor\",\"XGBRegressor\",\"XGBRegressor\",\"XGBRegressor\",\"XGBRegressor\",\"XGBRegressor\",\"XGBRegressor\",\"XGBRegressor\",\"XGBRegressor\",\"XGBRegressor\",\"XGBRegressor\",\"XGBRegressor\",\"XGBRegressor\",\"XGBRegressor\",\"XGBRegressor\",\"XGBRegressor\",\"XGBRegressor\",\"XGBRegressor\",\"XGBRegressor\",\"XGBRegressor\",\"XGBRegressor\",\"XGBRegressor\",\"XGBRegressor\",\"XGBRegressor\",\"XGBRegressor\",\"XGBRegressor\",\"XGBRegressor\",\"XGBRegressor\",\"XGBRegressor\",\"XGBRegressor\",\"XGBRegressor\",\"XGBRegressor\",\"XGBRegressor\",\"XGBRegressor\",\"XGBRegressor\",\"XGBRegressor\",\"XGBRegressor\",\"XGBRegressor\",\"XGBRegressor\",\"XGBRegressor\",\"XGBRegressor\",\"XGBRegressor\",\"XGBRegressor\",\"XGBRegressor\",\"XGBRegressor\",\"XGBRegressor\",\"XGBRegressor\",\"XGBRegressor\",\"XGBRegressor\",\"XGBRegressor\",\"XGBRegressor\",\"XGBRegressor\",\"XGBRegressor\",\"XGBRegressor\",\"XGBRegressor\",\"XGBRegressor\",\"XGBRegressor\",\"XGBRegressor\",\"XGBRegressor\",\"XGBRegressor\"],\"legendgroup\":\"XGBRegressor\",\"line\":{\"color\":\"#46bac2\",\"dash\":\"solid\",\"width\":2},\"marker\":{\"symbol\":\"circle\"},\"mode\":\"lines\",\"name\":\"XGBRegressor\",\"orientation\":\"v\",\"showlegend\":false,\"x\":[5.240236240247019e-06,0.010004592272325865,0.020003944308411483,0.030003296344497103,0.04000264838058272,0.05000200041666834,0.06000135245275396,0.07000070448883958,0.0800000565249252,0.08999940856101082,0.09999876059709643,0.10999811263318206,0.11999746466926768,0.1299968167053533,0.1399961687414389,0.1499955207775245,0.15999487281361013,0.16999422484969576,0.17999357688578138,0.18999292892186698,0.1999922809579526,0.20999163299403822,0.21999098503012385,0.22999033706620947,0.2399896891022951,0.2499890411383807,0.25998839317446637,0.26998774521055197,0.27998709724663756,0.2899864492827232,0.2999858013188088,0.30998515335489446,0.31998450539098006,0.32998385742706565,0.3399832094631513,0.3499825614992369,0.35998191353532255,0.36998126557140815,0.37998061760749374,0.3899799696435794,0.399979321679665,0.40997867371575064,0.41997802575183624,0.42997737778792183,0.4399767298240075,0.4499760818600931,0.45997543389617873,0.4699747859322643,0.47997413796835,0.4899734900044356,0.49997284204052117,0.5099721940766068,0.5199715461126925,0.5299708981487781,0.5399702501848637,0.5499696022209493,0.5599689542570349,0.5699683062931206,0.5799676583292062,0.5899670103652918,0.5999663624013774,0.609965714437463,0.6199650664735487,0.6299644185096342,0.6399637705457198,0.6499631225818054,0.659962474617891,0.6699618266539767,0.6799611786900623,0.6899605307261479,0.6999598827622335,0.7099592347983191,0.7199585868344048,0.7299579388704904,0.739957290906576,0.7499566429426616,0.7599559949787472,0.7699553470148329,0.7799546990509185,0.7899540510870041,0.7999534031230897,0.8099527551591753,0.819952107195261,0.8299514592313466,0.8399508112674322,0.8499501633035178,0.8599495153396034,0.8699488673756891,0.8799482194117747,0.8899475714478603,0.8999469234839459,0.9099462755200315,0.9199456275561172,0.9299449795922028,0.9399443316282884,0.949943683664374,0.9599430357004597,0.9699423877365453,0.9799417397726309,0.9899410918087165,0.9999404438448021],\"xaxis\":\"x4\",\"y\":[207.8691864013672,57.272239685058594,62.787757873535156,48.663307189941406,48.08028793334961,68.80465698242188,69.15660095214844,87.97616577148438,78.61896514892578,60.93702697753906,52.548736572265625,52.76911544799805,51.755706787109375,62.65747833251953,42.779300689697266,43.03123092651367,43.212589263916016,43.16608810424805,39.51041030883789,39.51041030883789,41.44699478149414,48.02363967895508,50.20856475830078,50.19368362426758,49.998779296875,49.998779296875,46.45351791381836,46.45351791381836,46.51858139038086,46.54674530029297,46.54674530029297,46.54674530029297,46.54674530029297,46.713539123535156,55.21294021606445,50.287200927734375,40.498966217041016,40.430015563964844,41.715274810791016,171.17251586914062,171.1859588623047,134.05322265625,134.05322265625,151.1682586669922,150.1240692138672,132.0544891357422,132.0544891357422,130.24563598632812,130.24563598632812,131.8998565673828,133.2468719482422,122.95581817626953,122.95581817626953,123.27901458740234,123.27901458740234,125.65202331542969,122.36870574951172,122.36870574951172,124.46786499023438,149.7017364501953,98.08873748779297,98.08873748779297,103.9104995727539,83.55815887451172,88.00403594970703,177.25653076171875,177.05047607421875,174.79348754882812,185.00033569335938,210.50779724121094,210.50779724121094,210.50779724121094,213.67562866210938,214.751953125,224.48300170898438,226.24557495117188,242.56494140625,212.89974975585938,217.843994140625,234.47915649414062,225.6741180419922,215.62557983398438,215.62557983398438,215.8267822265625,228.43919372558594,235.70603942871094,219.8633270263672,219.8633270263672,241.21026611328125,359.15826416015625,276.75653076171875,276.75653076171875,276.75653076171875,277.48004150390625,277.8795166015625,282.7242126464844,282.1478576660156,573.2843017578125,402.2010498046875,351.3220520019531,336.8038635253906],\"yaxis\":\"y4\",\"type\":\"scatter\",\"opacity\":1},{\"customdata\":[[68.2059555053711,\"XGBRegressor\",\"Topic 4\"],[68.2059555053711,\"XGBRegressor\",\"Topic 4\"],[68.2059555053711,\"XGBRegressor\",\"Topic 4\"],[68.2059555053711,\"XGBRegressor\",\"Topic 4\"],[68.2059555053711,\"XGBRegressor\",\"Topic 4\"],[68.2059555053711,\"XGBRegressor\",\"Topic 4\"],[68.2059555053711,\"XGBRegressor\",\"Topic 4\"],[68.2059555053711,\"XGBRegressor\",\"Topic 4\"],[68.2059555053711,\"XGBRegressor\",\"Topic 4\"],[68.2059555053711,\"XGBRegressor\",\"Topic 4\"],[68.2059555053711,\"XGBRegressor\",\"Topic 4\"],[68.2059555053711,\"XGBRegressor\",\"Topic 4\"],[68.2059555053711,\"XGBRegressor\",\"Topic 4\"],[68.2059555053711,\"XGBRegressor\",\"Topic 4\"],[68.2059555053711,\"XGBRegressor\",\"Topic 4\"],[68.2059555053711,\"XGBRegressor\",\"Topic 4\"],[68.2059555053711,\"XGBRegressor\",\"Topic 4\"],[68.2059555053711,\"XGBRegressor\",\"Topic 4\"],[68.2059555053711,\"XGBRegressor\",\"Topic 4\"],[68.2059555053711,\"XGBRegressor\",\"Topic 4\"],[68.2059555053711,\"XGBRegressor\",\"Topic 4\"],[68.2059555053711,\"XGBRegressor\",\"Topic 4\"],[68.2059555053711,\"XGBRegressor\",\"Topic 4\"],[68.2059555053711,\"XGBRegressor\",\"Topic 4\"],[68.2059555053711,\"XGBRegressor\",\"Topic 4\"],[68.2059555053711,\"XGBRegressor\",\"Topic 4\"],[68.2059555053711,\"XGBRegressor\",\"Topic 4\"],[68.2059555053711,\"XGBRegressor\",\"Topic 4\"],[68.2059555053711,\"XGBRegressor\",\"Topic 4\"],[68.2059555053711,\"XGBRegressor\",\"Topic 4\"],[68.2059555053711,\"XGBRegressor\",\"Topic 4\"],[68.2059555053711,\"XGBRegressor\",\"Topic 4\"],[68.2059555053711,\"XGBRegressor\",\"Topic 4\"],[68.2059555053711,\"XGBRegressor\",\"Topic 4\"],[68.2059555053711,\"XGBRegressor\",\"Topic 4\"],[68.2059555053711,\"XGBRegressor\",\"Topic 4\"],[68.2059555053711,\"XGBRegressor\",\"Topic 4\"],[68.2059555053711,\"XGBRegressor\",\"Topic 4\"],[68.2059555053711,\"XGBRegressor\",\"Topic 4\"],[68.2059555053711,\"XGBRegressor\",\"Topic 4\"],[68.2059555053711,\"XGBRegressor\",\"Topic 4\"],[68.2059555053711,\"XGBRegressor\",\"Topic 4\"],[68.2059555053711,\"XGBRegressor\",\"Topic 4\"],[68.2059555053711,\"XGBRegressor\",\"Topic 4\"],[68.2059555053711,\"XGBRegressor\",\"Topic 4\"],[68.2059555053711,\"XGBRegressor\",\"Topic 4\"],[68.2059555053711,\"XGBRegressor\",\"Topic 4\"],[68.2059555053711,\"XGBRegressor\",\"Topic 4\"],[68.2059555053711,\"XGBRegressor\",\"Topic 4\"],[68.2059555053711,\"XGBRegressor\",\"Topic 4\"],[68.2059555053711,\"XGBRegressor\",\"Topic 4\"],[68.2059555053711,\"XGBRegressor\",\"Topic 4\"],[68.2059555053711,\"XGBRegressor\",\"Topic 4\"],[68.2059555053711,\"XGBRegressor\",\"Topic 4\"],[68.2059555053711,\"XGBRegressor\",\"Topic 4\"],[68.2059555053711,\"XGBRegressor\",\"Topic 4\"],[68.2059555053711,\"XGBRegressor\",\"Topic 4\"],[68.2059555053711,\"XGBRegressor\",\"Topic 4\"],[68.2059555053711,\"XGBRegressor\",\"Topic 4\"],[68.2059555053711,\"XGBRegressor\",\"Topic 4\"],[68.2059555053711,\"XGBRegressor\",\"Topic 4\"],[68.2059555053711,\"XGBRegressor\",\"Topic 4\"],[68.2059555053711,\"XGBRegressor\",\"Topic 4\"],[68.2059555053711,\"XGBRegressor\",\"Topic 4\"],[68.2059555053711,\"XGBRegressor\",\"Topic 4\"],[68.2059555053711,\"XGBRegressor\",\"Topic 4\"],[68.2059555053711,\"XGBRegressor\",\"Topic 4\"],[68.2059555053711,\"XGBRegressor\",\"Topic 4\"],[68.2059555053711,\"XGBRegressor\",\"Topic 4\"],[68.2059555053711,\"XGBRegressor\",\"Topic 4\"],[68.2059555053711,\"XGBRegressor\",\"Topic 4\"],[68.2059555053711,\"XGBRegressor\",\"Topic 4\"],[68.2059555053711,\"XGBRegressor\",\"Topic 4\"],[68.2059555053711,\"XGBRegressor\",\"Topic 4\"],[68.2059555053711,\"XGBRegressor\",\"Topic 4\"],[68.2059555053711,\"XGBRegressor\",\"Topic 4\"],[68.2059555053711,\"XGBRegressor\",\"Topic 4\"],[68.2059555053711,\"XGBRegressor\",\"Topic 4\"],[68.2059555053711,\"XGBRegressor\",\"Topic 4\"],[68.2059555053711,\"XGBRegressor\",\"Topic 4\"],[68.2059555053711,\"XGBRegressor\",\"Topic 4\"],[68.2059555053711,\"XGBRegressor\",\"Topic 4\"],[68.2059555053711,\"XGBRegressor\",\"Topic 4\"],[68.2059555053711,\"XGBRegressor\",\"Topic 4\"],[68.2059555053711,\"XGBRegressor\",\"Topic 4\"],[68.2059555053711,\"XGBRegressor\",\"Topic 4\"],[68.2059555053711,\"XGBRegressor\",\"Topic 4\"],[68.2059555053711,\"XGBRegressor\",\"Topic 4\"],[68.2059555053711,\"XGBRegressor\",\"Topic 4\"],[68.2059555053711,\"XGBRegressor\",\"Topic 4\"],[68.2059555053711,\"XGBRegressor\",\"Topic 4\"],[68.2059555053711,\"XGBRegressor\",\"Topic 4\"],[68.2059555053711,\"XGBRegressor\",\"Topic 4\"],[68.2059555053711,\"XGBRegressor\",\"Topic 4\"],[68.2059555053711,\"XGBRegressor\",\"Topic 4\"],[68.2059555053711,\"XGBRegressor\",\"Topic 4\"],[68.2059555053711,\"XGBRegressor\",\"Topic 4\"],[68.2059555053711,\"XGBRegressor\",\"Topic 4\"],[68.2059555053711,\"XGBRegressor\",\"Topic 4\"],[68.2059555053711,\"XGBRegressor\",\"Topic 4\"],[68.2059555053711,\"XGBRegressor\",\"Topic 4\"]],\"hovertemplate\":\"<b>%{hovertext}</b><br><br>prediction=%{y:.3f}<br>mean_prediction=%{customdata[0]:.3f}<extra></extra>\",\"hovertext\":[\"XGBRegressor\",\"XGBRegressor\",\"XGBRegressor\",\"XGBRegressor\",\"XGBRegressor\",\"XGBRegressor\",\"XGBRegressor\",\"XGBRegressor\",\"XGBRegressor\",\"XGBRegressor\",\"XGBRegressor\",\"XGBRegressor\",\"XGBRegressor\",\"XGBRegressor\",\"XGBRegressor\",\"XGBRegressor\",\"XGBRegressor\",\"XGBRegressor\",\"XGBRegressor\",\"XGBRegressor\",\"XGBRegressor\",\"XGBRegressor\",\"XGBRegressor\",\"XGBRegressor\",\"XGBRegressor\",\"XGBRegressor\",\"XGBRegressor\",\"XGBRegressor\",\"XGBRegressor\",\"XGBRegressor\",\"XGBRegressor\",\"XGBRegressor\",\"XGBRegressor\",\"XGBRegressor\",\"XGBRegressor\",\"XGBRegressor\",\"XGBRegressor\",\"XGBRegressor\",\"XGBRegressor\",\"XGBRegressor\",\"XGBRegressor\",\"XGBRegressor\",\"XGBRegressor\",\"XGBRegressor\",\"XGBRegressor\",\"XGBRegressor\",\"XGBRegressor\",\"XGBRegressor\",\"XGBRegressor\",\"XGBRegressor\",\"XGBRegressor\",\"XGBRegressor\",\"XGBRegressor\",\"XGBRegressor\",\"XGBRegressor\",\"XGBRegressor\",\"XGBRegressor\",\"XGBRegressor\",\"XGBRegressor\",\"XGBRegressor\",\"XGBRegressor\",\"XGBRegressor\",\"XGBRegressor\",\"XGBRegressor\",\"XGBRegressor\",\"XGBRegressor\",\"XGBRegressor\",\"XGBRegressor\",\"XGBRegressor\",\"XGBRegressor\",\"XGBRegressor\",\"XGBRegressor\",\"XGBRegressor\",\"XGBRegressor\",\"XGBRegressor\",\"XGBRegressor\",\"XGBRegressor\",\"XGBRegressor\",\"XGBRegressor\",\"XGBRegressor\",\"XGBRegressor\",\"XGBRegressor\",\"XGBRegressor\",\"XGBRegressor\",\"XGBRegressor\",\"XGBRegressor\",\"XGBRegressor\",\"XGBRegressor\",\"XGBRegressor\",\"XGBRegressor\",\"XGBRegressor\",\"XGBRegressor\",\"XGBRegressor\",\"XGBRegressor\",\"XGBRegressor\",\"XGBRegressor\",\"XGBRegressor\",\"XGBRegressor\",\"XGBRegressor\",\"XGBRegressor\",\"XGBRegressor\"],\"legendgroup\":\"XGBRegressor\",\"line\":{\"color\":\"#46bac2\",\"dash\":\"solid\",\"width\":2},\"marker\":{\"symbol\":\"circle\"},\"mode\":\"lines\",\"name\":\"XGBRegressor\",\"orientation\":\"v\",\"showlegend\":false,\"x\":[5.477720501240879e-06,0.010005175719442452,0.020004873718383664,0.030004571717324877,0.04000426971626608,0.05000396771520729,0.06000366571414851,0.07000336371308973,0.08000306171203093,0.09000275971097214,0.10000245770991335,0.11000215570885456,0.12000185370779579,0.130001551706737,0.1400012497056782,0.15000094770461941,0.16000064570356062,0.17000034370250183,0.18000004170144304,0.18999973970038425,0.19999943769932546,0.20999913569826667,0.21999883369720788,0.2299985316961491,0.23999822969509033,0.24999792769403154,0.25999762569297274,0.2699973236919139,0.27999702169085516,0.28999671968979635,0.2999964176887376,0.30999611568767876,0.31999581368662,0.32999551168556124,0.3399952096845024,0.34999490768344366,0.35999460568238484,0.3699943036813261,0.37999400168026726,0.3899936996792085,0.3999933976781497,0.4099930956770909,0.4199927936760321,0.42999249167497333,0.4399921896739145,0.44999188767285575,0.45999158567179693,0.46999128367073817,0.4799909816696794,0.4899906796686206,0.4999903776675618,0.509990075666503,0.5199897736654442,0.5299894716643854,0.5399891696633266,0.5499888676622678,0.559988565661209,0.5699882636601502,0.5799879616590914,0.5899876596580327,0.5999873576569739,0.609987055655915,0.6199867536548562,0.6299864516537975,0.6399861496527387,0.6499858476516799,0.6599855456506212,0.6699852436495624,0.6799849416485035,0.6899846396474447,0.699984337646386,0.7099840356453272,0.7199837336442684,0.7299834316432096,0.7399831296421508,0.749982827641092,0.7599825256400332,0.7699822236389744,0.7799819216379157,0.7899816196368569,0.799981317635798,0.8099810156347393,0.8199807136336805,0.8299804116326217,0.8399801096315629,0.8499798076305042,0.8599795056294454,0.8699792036283865,0.8799789016273277,0.889978599626269,0.8999782976252102,0.9099779956241514,0.9199776936230926,0.9299773916220339,0.939977089620975,0.9499767876199162,0.9599764856188575,0.9699761836177987,0.9799758816167399,0.9899755796156811,0.9999752776146223],\"xaxis\":\"x\",\"y\":[1391.821533203125,153.80255126953125,58.11323165893555,57.605979919433594,62.017887115478516,73.8126449584961,78.2647476196289,68.20182037353516,77.98310852050781,67.76326751708984,86.90892791748047,84.25299072265625,81.2679214477539,133.51620483398438,97.5020980834961,298.7148132324219,162.66436767578125,152.70753479003906,152.70753479003906,152.70753479003906,152.73683166503906,153.7398681640625,153.7398681640625,156.72059631347656,173.21449279785156,173.81375122070312,154.02687072753906,154.02687072753906,156.0682373046875,290.5382995605469,225.8174285888672,227.47824096679688,227.9321746826172,227.9321746826172,205.83119201660156,210.2081298828125,210.2081298828125,210.2081298828125,210.2081298828125,210.18023681640625,210.63636779785156,211.68939208984375,217.02220153808594,216.3603515625,226.88990783691406,357.53662109375,367.0724182128906,208.1098175048828,208.1098175048828,187.1237030029297,184.92710876464844,184.92710876464844,184.92710876464844,184.92710876464844,184.92710876464844,185.26226806640625,185.26226806640625,185.26226806640625,229.7188720703125,229.8639678955078,231.9250946044922,231.9250946044922,235.22738647460938,235.22738647460938,235.22738647460938,235.22738647460938,245.37176513671875,245.37176513671875,239.7883758544922,239.97288513183594,239.97288513183594,239.97288513183594,239.97288513183594,236.96981811523438,236.96981811523438,242.50631713867188,242.50631713867188,243.36312866210938,287.5091857910156,287.5091857910156,344.32342529296875,344.32342529296875,321.1774597167969,321.1774597167969,321.1774597167969,321.1774597167969,321.1774597167969,321.1774597167969,321.074462890625,321.074462890625,321.074462890625,321.074462890625,321.074462890625,321.074462890625,321.074462890625,321.074462890625,321.074462890625,321.074462890625,321.074462890625,321.074462890625,321.074462890625],\"yaxis\":\"y\",\"type\":\"scatter\",\"opacity\":1}],                        {\"template\":{\"data\":{\"scatter\":[{\"type\":\"scatter\"}]}},\"xaxis\":{\"anchor\":\"y\",\"domain\":[0.0,0.475],\"title\":{\"text\":\"\"},\"showticklabels\":true,\"type\":\"linear\",\"gridwidth\":2,\"zeroline\":false,\"automargin\":true,\"ticks\":\"outside\",\"tickcolor\":\"white\",\"ticklen\":3,\"fixedrange\":true},\"yaxis\":{\"anchor\":\"x\",\"domain\":[0.0,0.26666666666666666],\"title\":{\"text\":\"\"},\"range\":[-95.72070541381837,1527.0526489257813],\"type\":\"linear\",\"gridwidth\":2,\"zeroline\":false,\"automargin\":true,\"ticks\":\"outside\",\"tickcolor\":\"white\",\"ticklen\":3,\"fixedrange\":true},\"xaxis2\":{\"anchor\":\"y2\",\"domain\":[0.525,1.0],\"title\":{\"text\":\"\"},\"showticklabels\":true,\"type\":\"linear\",\"gridwidth\":2,\"zeroline\":false,\"automargin\":true,\"ticks\":\"outside\",\"tickcolor\":\"white\",\"ticklen\":3,\"fixedrange\":true},\"yaxis2\":{\"anchor\":\"x2\",\"domain\":[0.0,0.26666666666666666],\"matches\":\"y\",\"showticklabels\":false,\"type\":\"linear\",\"gridwidth\":2,\"zeroline\":false,\"automargin\":true,\"ticks\":\"outside\",\"tickcolor\":\"white\",\"ticklen\":3,\"fixedrange\":true,\"title\":{\"text\":\"\"}},\"xaxis3\":{\"anchor\":\"y3\",\"domain\":[0.0,0.475],\"showticklabels\":true,\"type\":\"linear\",\"gridwidth\":2,\"zeroline\":false,\"automargin\":true,\"ticks\":\"outside\",\"tickcolor\":\"white\",\"ticklen\":3,\"fixedrange\":true,\"title\":{\"text\":\"\"}},\"yaxis3\":{\"anchor\":\"x3\",\"domain\":[0.36666666666666664,0.6333333333333333],\"matches\":\"y\",\"title\":{\"text\":\"\"},\"range\":[-95.72070541381837,1527.0526489257813],\"type\":\"linear\",\"gridwidth\":2,\"zeroline\":false,\"automargin\":true,\"ticks\":\"outside\",\"tickcolor\":\"white\",\"ticklen\":3,\"fixedrange\":true},\"xaxis4\":{\"anchor\":\"y4\",\"domain\":[0.525,1.0],\"showticklabels\":true,\"type\":\"linear\",\"gridwidth\":2,\"zeroline\":false,\"automargin\":true,\"ticks\":\"outside\",\"tickcolor\":\"white\",\"ticklen\":3,\"fixedrange\":true,\"title\":{\"text\":\"\"}},\"yaxis4\":{\"anchor\":\"x4\",\"domain\":[0.36666666666666664,0.6333333333333333],\"matches\":\"y\",\"showticklabels\":false,\"type\":\"linear\",\"gridwidth\":2,\"zeroline\":false,\"automargin\":true,\"ticks\":\"outside\",\"tickcolor\":\"white\",\"ticklen\":3,\"fixedrange\":true,\"title\":{\"text\":\"\"}},\"xaxis5\":{\"anchor\":\"y5\",\"domain\":[0.0,0.475],\"showticklabels\":true,\"type\":\"linear\",\"gridwidth\":2,\"zeroline\":false,\"automargin\":true,\"ticks\":\"outside\",\"tickcolor\":\"white\",\"ticklen\":3,\"fixedrange\":true,\"title\":{\"text\":\"\"}},\"yaxis5\":{\"anchor\":\"x5\",\"domain\":[0.7333333333333333,1.0],\"matches\":\"y\",\"title\":{\"text\":\"\"},\"range\":[-95.72070541381837,1527.0526489257813],\"type\":\"linear\",\"gridwidth\":2,\"zeroline\":false,\"automargin\":true,\"ticks\":\"outside\",\"tickcolor\":\"white\",\"ticklen\":3,\"fixedrange\":true},\"xaxis6\":{\"anchor\":\"y6\",\"domain\":[0.525,1.0],\"showticklabels\":true,\"type\":\"linear\",\"gridwidth\":2,\"zeroline\":false,\"automargin\":true,\"ticks\":\"outside\",\"tickcolor\":\"white\",\"ticklen\":3,\"fixedrange\":true,\"title\":{\"text\":\"\"}},\"yaxis6\":{\"anchor\":\"x6\",\"domain\":[0.7333333333333333,1.0],\"matches\":\"y\",\"showticklabels\":false,\"type\":\"linear\",\"gridwidth\":2,\"zeroline\":false,\"automargin\":true,\"ticks\":\"outside\",\"tickcolor\":\"white\",\"ticklen\":3,\"fixedrange\":true,\"title\":{\"text\":\"\"}},\"annotations\":[{\"font\":{\"size\":13},\"showarrow\":false,\"text\":\"Topic 4\",\"x\":0.2375,\"xanchor\":\"center\",\"xref\":\"paper\",\"y\":0.26666666666666666,\"yanchor\":\"bottom\",\"yref\":\"paper\"},{\"font\":{\"size\":13},\"showarrow\":false,\"text\":\"Topic 2\",\"x\":0.2375,\"xanchor\":\"center\",\"xref\":\"paper\",\"y\":0.6333333333333333,\"yanchor\":\"bottom\",\"yref\":\"paper\"},{\"font\":{\"size\":13},\"showarrow\":false,\"text\":\"Topic 3\",\"x\":0.7625,\"xanchor\":\"center\",\"xref\":\"paper\",\"y\":0.6333333333333333,\"yanchor\":\"bottom\",\"yref\":\"paper\"},{\"font\":{\"size\":13},\"showarrow\":false,\"text\":\"Topic 0\",\"x\":0.2375,\"xanchor\":\"center\",\"xref\":\"paper\",\"y\":1.0,\"yanchor\":\"bottom\",\"yref\":\"paper\"},{\"font\":{\"size\":13},\"showarrow\":false,\"text\":\"Topic 1\",\"x\":0.7625,\"xanchor\":\"center\",\"xref\":\"paper\",\"y\":1.0,\"yanchor\":\"bottom\",\"yref\":\"paper\"},{\"font\":{\"size\":13},\"showarrow\":false,\"text\":\"prediction\",\"textangle\":-90,\"x\":-0.07,\"xref\":\"paper\",\"y\":0.5,\"yref\":\"paper\"}],\"legend\":{\"title\":{\"text\":\"label\",\"font\":{\"size\":12}},\"tracegroupgap\":0,\"font\":{\"size\":11},\"orientation\":\"h\",\"yanchor\":\"bottom\",\"y\":1.0256629597946962,\"xanchor\":\"right\",\"x\":1,\"itemsizing\":\"constant\"},\"margin\":{\"t\":78,\"b\":71,\"r\":30},\"font\":{\"color\":\"#371ea3\"},\"title\":{\"font\":{\"size\":16},\"text\":\"Aggregated Profiles\",\"x\":0.15},\"hovermode\":\"x unified\",\"height\":1169},                        {\"responsive\": true}                    ).then(function(){\n                            \nvar gd = document.getElementById('17e0c783-f27d-499d-a2d4-7a07edb0a59a');\nvar x = new MutationObserver(function (mutations, observer) {{\n        var display = window.getComputedStyle(gd).display;\n        if (!display || display === 'none') {{\n            console.log([gd, 'removed!']);\n            Plotly.purge(gd);\n            observer.disconnect();\n        }}\n}});\n\n// Listen for the removal of the full notebook cells\nvar notebookContainer = gd.closest('#notebook-container');\nif (notebookContainer) {{\n    x.observe(notebookContainer, {childList: true});\n}}\n\n// Listen for the clearing of the current output cell\nvar outputEl = gd.closest('.output');\nif (outputEl) {{\n    x.observe(outputEl, {childList: true});\n}}\n\n                        })                };                });            </script>        </div>"
     },
     "metadata": {},
     "output_type": "display_data"
    }
   ],
   "source": [
    "agg_profiles"
   ],
   "metadata": {
    "collapsed": false,
    "pycharm": {
     "name": "#%%\n"
    }
   }
  },
  {
   "cell_type": "code",
   "execution_count": 32,
   "outputs": [],
   "source": [
    "var_importance = exp.model_parts().plot(show=False)\n",
    "var_importance.write_html('var_importance.html')"
   ],
   "metadata": {
    "collapsed": false,
    "pycharm": {
     "name": "#%%\n"
    }
   }
  },
  {
   "cell_type": "code",
   "execution_count": 33,
   "outputs": [
    {
     "data": {
      "application/vnd.plotly.v1+json": {
       "data": [
        {
         "base": 20.060735265367704,
         "hoverinfo": "text",
         "hoverlabel": {
          "bgcolor": "rgba(0,0,0,0.8)"
         },
         "hovertext": [
          "Model: XGBRegressor loss after<br>variable: Topic 3 is permuted: 347.913<br>Drop-out loss change: +327.853",
          "Model: XGBRegressor loss after<br>variable: Topic 1 is permuted: 267.842<br>Drop-out loss change: +247.781",
          "Model: XGBRegressor loss after<br>variable: Topic 4 is permuted: 199.754<br>Drop-out loss change: +179.693",
          "Model: XGBRegressor loss after<br>variable: Topic 2 is permuted: 170.559<br>Drop-out loss change: +150.499",
          "Model: XGBRegressor loss after<br>variable: Topic 0 is permuted: 169.934<br>Drop-out loss change: +149.874"
         ],
         "marker": {
          "color": "#46bac2"
         },
         "orientation": "h",
         "showlegend": false,
         "text": [
          "+327.853",
          "+247.781",
          "+179.693",
          "+150.499",
          "+149.874"
         ],
         "textposition": "outside",
         "x": [
          327.8527126668848,
          247.78110657908374,
          179.69288457284821,
          150.4986738210602,
          149.87354166187487
         ],
         "y": [
          "Topic 3",
          "Topic 1",
          "Topic 4",
          "Topic 2",
          "Topic 0"
         ],
         "type": "bar",
         "xaxis": "x",
         "yaxis": "y"
        }
       ],
       "layout": {
        "template": {
         "data": {
          "scatter": [
           {
            "type": "scatter"
           }
          ]
         }
        },
        "xaxis": {
         "anchor": "y",
         "domain": [
          0.0,
          1.0
         ],
         "type": "linear",
         "gridwidth": 2,
         "zeroline": false,
         "automargin": true,
         "ticks": "outside",
         "tickcolor": "white",
         "ticklen": 3,
         "fixedrange": true,
         "range": [
          -29.11717163466502,
          397.0913548322853
         ]
        },
        "yaxis": {
         "anchor": "x",
         "domain": [
          0.0,
          1.0
         ],
         "type": "category",
         "autorange": "reversed",
         "gridwidth": 2,
         "automargin": true,
         "ticks": "outside",
         "tickcolor": "white",
         "ticklen": 10,
         "fixedrange": true
        },
        "annotations": [
         {
          "font": {
           "size": 16
          },
          "showarrow": false,
          "text": "XGBRegressor",
          "x": 0.5,
          "xanchor": "center",
          "xref": "paper",
          "y": 1.0,
          "yanchor": "bottom",
          "yref": "paper"
         },
         {
          "font": {
           "size": 16
          },
          "showarrow": false,
          "text": "drop-out loss",
          "x": 0.5,
          "xanchor": "center",
          "xref": "paper",
          "y": 0,
          "yanchor": "top",
          "yref": "paper",
          "yshift": -30
         }
        ],
        "shapes": [
         {
          "line": {
           "color": "#371ea3",
           "dash": "dot",
           "width": 1.5
          },
          "type": "line",
          "x0": 20.060735265367704,
          "x1": 20.060735265367704,
          "xref": "x",
          "y0": -1,
          "y1": 5,
          "yref": "y"
         }
        ],
        "title": {
         "text": "Variable Importance",
         "x": 0.15
        },
        "font": {
         "color": "#371ea3"
        },
        "margin": {
         "t": 78,
         "b": 71,
         "r": 30
        },
        "height": 283.0
       },
       "config": {
        "plotlyServerURL": "https://plot.ly"
       }
      },
      "text/html": "<div>                            <div id=\"50fa475a-1463-43ef-a9b0-a9dfc9a6f199\" class=\"plotly-graph-div\" style=\"height:283.0px; width:100%;\"></div>            <script type=\"text/javascript\">                require([\"plotly\"], function(Plotly) {                    window.PLOTLYENV=window.PLOTLYENV || {};                                    if (document.getElementById(\"50fa475a-1463-43ef-a9b0-a9dfc9a6f199\")) {                    Plotly.newPlot(                        \"50fa475a-1463-43ef-a9b0-a9dfc9a6f199\",                        [{\"base\":20.060735265367704,\"hoverinfo\":\"text\",\"hoverlabel\":{\"bgcolor\":\"rgba(0,0,0,0.8)\"},\"hovertext\":[\"Model: XGBRegressor loss after<br>variable: Topic 3 is permuted: 347.913<br>Drop-out loss change: +327.853\",\"Model: XGBRegressor loss after<br>variable: Topic 1 is permuted: 267.842<br>Drop-out loss change: +247.781\",\"Model: XGBRegressor loss after<br>variable: Topic 4 is permuted: 199.754<br>Drop-out loss change: +179.693\",\"Model: XGBRegressor loss after<br>variable: Topic 2 is permuted: 170.559<br>Drop-out loss change: +150.499\",\"Model: XGBRegressor loss after<br>variable: Topic 0 is permuted: 169.934<br>Drop-out loss change: +149.874\"],\"marker\":{\"color\":\"#46bac2\"},\"orientation\":\"h\",\"showlegend\":false,\"text\":[\"+327.853\",\"+247.781\",\"+179.693\",\"+150.499\",\"+149.874\"],\"textposition\":\"outside\",\"x\":[327.8527126668848,247.78110657908374,179.69288457284821,150.4986738210602,149.87354166187487],\"y\":[\"Topic 3\",\"Topic 1\",\"Topic 4\",\"Topic 2\",\"Topic 0\"],\"type\":\"bar\",\"xaxis\":\"x\",\"yaxis\":\"y\"}],                        {\"template\":{\"data\":{\"scatter\":[{\"type\":\"scatter\"}]}},\"xaxis\":{\"anchor\":\"y\",\"domain\":[0.0,1.0],\"type\":\"linear\",\"gridwidth\":2,\"zeroline\":false,\"automargin\":true,\"ticks\":\"outside\",\"tickcolor\":\"white\",\"ticklen\":3,\"fixedrange\":true,\"range\":[-29.11717163466502,397.0913548322853]},\"yaxis\":{\"anchor\":\"x\",\"domain\":[0.0,1.0],\"type\":\"category\",\"autorange\":\"reversed\",\"gridwidth\":2,\"automargin\":true,\"ticks\":\"outside\",\"tickcolor\":\"white\",\"ticklen\":10,\"fixedrange\":true},\"annotations\":[{\"font\":{\"size\":16},\"showarrow\":false,\"text\":\"XGBRegressor\",\"x\":0.5,\"xanchor\":\"center\",\"xref\":\"paper\",\"y\":1.0,\"yanchor\":\"bottom\",\"yref\":\"paper\"},{\"font\":{\"size\":16},\"showarrow\":false,\"text\":\"drop-out loss\",\"x\":0.5,\"xanchor\":\"center\",\"xref\":\"paper\",\"y\":0,\"yanchor\":\"top\",\"yref\":\"paper\",\"yshift\":-30}],\"shapes\":[{\"line\":{\"color\":\"#371ea3\",\"dash\":\"dot\",\"width\":1.5},\"type\":\"line\",\"x0\":20.060735265367704,\"x1\":20.060735265367704,\"xref\":\"x\",\"y0\":-1,\"y1\":5,\"yref\":\"y\"}],\"title\":{\"text\":\"Variable Importance\",\"x\":0.15},\"font\":{\"color\":\"#371ea3\"},\"margin\":{\"t\":78,\"b\":71,\"r\":30},\"height\":283.0},                        {\"responsive\": true}                    ).then(function(){\n                            \nvar gd = document.getElementById('50fa475a-1463-43ef-a9b0-a9dfc9a6f199');\nvar x = new MutationObserver(function (mutations, observer) {{\n        var display = window.getComputedStyle(gd).display;\n        if (!display || display === 'none') {{\n            console.log([gd, 'removed!']);\n            Plotly.purge(gd);\n            observer.disconnect();\n        }}\n}});\n\n// Listen for the removal of the full notebook cells\nvar notebookContainer = gd.closest('#notebook-container');\nif (notebookContainer) {{\n    x.observe(notebookContainer, {childList: true});\n}}\n\n// Listen for the clearing of the current output cell\nvar outputEl = gd.closest('.output');\nif (outputEl) {{\n    x.observe(outputEl, {childList: true});\n}}\n\n                        })                };                });            </script>        </div>"
     },
     "metadata": {},
     "output_type": "display_data"
    }
   ],
   "source": [
    "var_importance"
   ],
   "metadata": {
    "collapsed": false,
    "pycharm": {
     "name": "#%%\n"
    }
   }
  },
  {
   "cell_type": "code",
   "execution_count": 27,
   "outputs": [
    {
     "name": "stderr",
     "output_type": "stream",
     "text": [
      "E:\\anaconda\\lib\\site-packages\\sklearn\\utils\\deprecation.py:87: FutureWarning:\n",
      "\n",
      "Function get_feature_names is deprecated; get_feature_names is deprecated in 1.0 and will be removed in 1.2. Please use get_feature_names_out instead.\n",
      "\n"
     ]
    },
    {
     "name": "stdout",
     "output_type": "stream",
     "text": [
      "Topic 0:  ['layer', 'dataset', '00', 'tabl', '100', 'nn', '0 0', 'class', 'accuraci', '000']\n",
      "Topic 1:  ['z', 'bound', 'u', 'q', 'quantum', 'theorem', '1 2', 'probabl', 'xi', 'kernel']\n",
      "Topic 2:  ['imag', 'pp', 'adversari', 'graph', 'attack', 'knowledg', 'represent', 'vol', 'structur', 'ieee']\n",
      "Topic 3:  ['dataset', 'ml', 'http', 'user', '2018', '2019', 'differ', 'human', 'doi', 'decis']\n",
      "Topic 4:  ['polici', 'ct', 'meta', 'agent', 'reinforc', 'reward', 'reinforc learn', 'action', 'd2', 'cp']\n"
     ]
    }
   ],
   "source": [
    "for index, component in enumerate(lda.components_): #taking model's components, i.e. P(w|z)\n",
    "    zipped = zip(tf_vectorizer.get_feature_names(), component) #taking together tokens' names with components\n",
    "    top_terms_key=sorted(zipped, key = lambda t: t[1], reverse=True)[:10] #top 10 terms per topic\n",
    "    top_terms_list=list(dict(top_terms_key).keys()) #taking only tokens, no weights\n",
    "\n",
    "    print(\"Topic \"+str(index)+\": \",top_terms_list) #prints top 10 tokens per topic"
   ],
   "metadata": {
    "collapsed": false,
    "pycharm": {
     "name": "#%%\n"
    }
   }
  },
  {
   "cell_type": "code",
   "execution_count": 36,
   "outputs": [
    {
     "data": {
      "text/plain": "<dalex.model_explanations._model_performance.object.ModelPerformance at 0x28403380eb0>",
      "text/html": "<div>\n<style scoped>\n    .dataframe tbody tr th:only-of-type {\n        vertical-align: middle;\n    }\n\n    .dataframe tbody tr th {\n        vertical-align: top;\n    }\n\n    .dataframe thead th {\n        text-align: right;\n    }\n</style>\n<table border=\"1\" class=\"dataframe\">\n  <thead>\n    <tr style=\"text-align: right;\">\n      <th></th>\n      <th>mse</th>\n      <th>rmse</th>\n      <th>r2</th>\n      <th>mae</th>\n      <th>mad</th>\n    </tr>\n  </thead>\n  <tbody>\n    <tr>\n      <th>XGBRegressor</th>\n      <td>399.014798</td>\n      <td>19.975355</td>\n      <td>0.997707</td>\n      <td>12.688974</td>\n      <td>8.000488</td>\n    </tr>\n  </tbody>\n</table>\n</div>"
     },
     "execution_count": 36,
     "metadata": {},
     "output_type": "execute_result"
    }
   ],
   "source": [
    "exp.model_performance()"
   ],
   "metadata": {
    "collapsed": false,
    "pycharm": {
     "name": "#%%\n"
    }
   }
  }
 ],
 "metadata": {
  "kernelspec": {
   "display_name": "Python 3",
   "language": "python",
   "name": "python3"
  },
  "language_info": {
   "codemirror_mode": {
    "name": "ipython",
    "version": 2
   },
   "file_extension": ".py",
   "mimetype": "text/x-python",
   "name": "python",
   "nbconvert_exporter": "python",
   "pygments_lexer": "ipython2",
   "version": "2.7.6"
  }
 },
 "nbformat": 4,
 "nbformat_minor": 0
}