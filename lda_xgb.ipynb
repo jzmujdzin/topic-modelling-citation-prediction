{
 "cells": [
  {
   "cell_type": "code",
   "execution_count": 21,
   "metadata": {
    "collapsed": true,
    "pycharm": {
     "name": "#%%\n"
    }
   },
   "outputs": [],
   "source": [
    "import pandas as pd\n",
    "from pathlib import Path\n",
    "from sklearn.decomposition import LatentDirichletAllocation\n",
    "from nltk.stem.porter import PorterStemmer\n",
    "import re\n",
    "from nltk.tokenize import RegexpTokenizer\n",
    "from sklearn.feature_extraction.text import CountVectorizer\n",
    "import pickle\n",
    "import xgboost as xgb\n",
    "import dalex as dx\n",
    "from sklearn.model_selection import RandomizedSearchCV\n",
    "import numpy as np\n",
    "from sklearn.model_selection import KFold\n",
    "from sklearn.model_selection import cross_val_score\n",
    "from sklearn.metrics import mean_absolute_percentage_error"
   ]
  },
  {
   "cell_type": "code",
   "execution_count": 2,
   "outputs": [],
   "source": [
    "df = pd.read_json(Path.cwd() / \"final_df\" / \"final_df.json\")"
   ],
   "metadata": {
    "collapsed": false,
    "pycharm": {
     "name": "#%%\n"
    }
   }
  },
  {
   "cell_type": "code",
   "execution_count": 3,
   "outputs": [
    {
     "data": {
      "text/plain": "                                                  title  \\\n0           Continual Reinforcement Learning with TELLA   \n1     An exact mapping between the Variational Renor...   \n2     Learning Generative Models across Incomparable...   \n3     On the Generalization Ability of Online Learni...   \n4              Geometric Understanding of Deep Learning   \n...                                                 ...   \n1230  Musical Word Embedding: Bridging the Gap betwe...   \n1231  Metrics for Multi-Class Classification: an Ove...   \n1232  Intelligence plays dice: Stochasticity is esse...   \n1233  Can AutoML outperform humans? An evaluation on...   \n1234  Nonsmoothness in Machine Learning: specific st...   \n\n                                   link  citations  \\\n0     http://arxiv.org/pdf/2208.04287v1          2   \n1      http://arxiv.org/pdf/1410.3831v1        295   \n2     http://arxiv.org/pdf/1905.05461v2         69   \n3      http://arxiv.org/pdf/1305.2505v1         74   \n4     http://arxiv.org/pdf/1805.10451v2        110   \n...                                 ...        ...   \n1230  http://arxiv.org/pdf/2008.01190v1          4   \n1231  http://arxiv.org/pdf/2008.05756v1        409   \n1232  http://arxiv.org/pdf/2008.07496v1          5   \n1233  http://arxiv.org/pdf/2009.01564v2         24   \n1234  http://arxiv.org/pdf/2010.00848v2         15   \n\n                                                   text  \n0     Workshop Track - 1st Conference on Lifelong Le...  \n1     arXiv:1410.3831v1  [stat.ML]  14 Oct 2014An ex...  \n2     Learning Generative Models across Incomparable...  \n3     On the Generalization Ability of Online Learni...  \n4     Geometric Understanding of Deep Learning\\nNa L...  \n...                                                 ...  \n1230  Musical Word Embedding: Bridging the Gap betwe...  \n1231  METRICS FOR MULTI -CLASS CLASSIFICATION :ANOVE...  \n1232  Intelligence plays dice: Stochasticity is esse...  \n1233  Can AutoML outperform humans? An evaluation \\n...  \n1234  Set-Valued and Variational Analysis manuscript...  \n\n[1235 rows x 4 columns]",
      "text/html": "<div>\n<style scoped>\n    .dataframe tbody tr th:only-of-type {\n        vertical-align: middle;\n    }\n\n    .dataframe tbody tr th {\n        vertical-align: top;\n    }\n\n    .dataframe thead th {\n        text-align: right;\n    }\n</style>\n<table border=\"1\" class=\"dataframe\">\n  <thead>\n    <tr style=\"text-align: right;\">\n      <th></th>\n      <th>title</th>\n      <th>link</th>\n      <th>citations</th>\n      <th>text</th>\n    </tr>\n  </thead>\n  <tbody>\n    <tr>\n      <th>0</th>\n      <td>Continual Reinforcement Learning with TELLA</td>\n      <td>http://arxiv.org/pdf/2208.04287v1</td>\n      <td>2</td>\n      <td>Workshop Track - 1st Conference on Lifelong Le...</td>\n    </tr>\n    <tr>\n      <th>1</th>\n      <td>An exact mapping between the Variational Renor...</td>\n      <td>http://arxiv.org/pdf/1410.3831v1</td>\n      <td>295</td>\n      <td>arXiv:1410.3831v1  [stat.ML]  14 Oct 2014An ex...</td>\n    </tr>\n    <tr>\n      <th>2</th>\n      <td>Learning Generative Models across Incomparable...</td>\n      <td>http://arxiv.org/pdf/1905.05461v2</td>\n      <td>69</td>\n      <td>Learning Generative Models across Incomparable...</td>\n    </tr>\n    <tr>\n      <th>3</th>\n      <td>On the Generalization Ability of Online Learni...</td>\n      <td>http://arxiv.org/pdf/1305.2505v1</td>\n      <td>74</td>\n      <td>On the Generalization Ability of Online Learni...</td>\n    </tr>\n    <tr>\n      <th>4</th>\n      <td>Geometric Understanding of Deep Learning</td>\n      <td>http://arxiv.org/pdf/1805.10451v2</td>\n      <td>110</td>\n      <td>Geometric Understanding of Deep Learning\\nNa L...</td>\n    </tr>\n    <tr>\n      <th>...</th>\n      <td>...</td>\n      <td>...</td>\n      <td>...</td>\n      <td>...</td>\n    </tr>\n    <tr>\n      <th>1230</th>\n      <td>Musical Word Embedding: Bridging the Gap betwe...</td>\n      <td>http://arxiv.org/pdf/2008.01190v1</td>\n      <td>4</td>\n      <td>Musical Word Embedding: Bridging the Gap betwe...</td>\n    </tr>\n    <tr>\n      <th>1231</th>\n      <td>Metrics for Multi-Class Classification: an Ove...</td>\n      <td>http://arxiv.org/pdf/2008.05756v1</td>\n      <td>409</td>\n      <td>METRICS FOR MULTI -CLASS CLASSIFICATION :ANOVE...</td>\n    </tr>\n    <tr>\n      <th>1232</th>\n      <td>Intelligence plays dice: Stochasticity is esse...</td>\n      <td>http://arxiv.org/pdf/2008.07496v1</td>\n      <td>5</td>\n      <td>Intelligence plays dice: Stochasticity is esse...</td>\n    </tr>\n    <tr>\n      <th>1233</th>\n      <td>Can AutoML outperform humans? An evaluation on...</td>\n      <td>http://arxiv.org/pdf/2009.01564v2</td>\n      <td>24</td>\n      <td>Can AutoML outperform humans? An evaluation \\n...</td>\n    </tr>\n    <tr>\n      <th>1234</th>\n      <td>Nonsmoothness in Machine Learning: specific st...</td>\n      <td>http://arxiv.org/pdf/2010.00848v2</td>\n      <td>15</td>\n      <td>Set-Valued and Variational Analysis manuscript...</td>\n    </tr>\n  </tbody>\n</table>\n<p>1235 rows × 4 columns</p>\n</div>"
     },
     "execution_count": 3,
     "metadata": {},
     "output_type": "execute_result"
    }
   ],
   "source": [
    "df"
   ],
   "metadata": {
    "collapsed": false,
    "pycharm": {
     "name": "#%%\n"
    }
   }
  },
  {
   "cell_type": "code",
   "execution_count": 4,
   "outputs": [
    {
     "data": {
      "text/plain": "12"
     },
     "execution_count": 4,
     "metadata": {},
     "output_type": "execute_result"
    }
   ],
   "source": [
    "df['text'].isna().sum()"
   ],
   "metadata": {
    "collapsed": false,
    "pycharm": {
     "name": "#%%\n"
    }
   }
  },
  {
   "cell_type": "code",
   "execution_count": 5,
   "outputs": [],
   "source": [
    "df.dropna(subset=['text'], inplace=True)"
   ],
   "metadata": {
    "collapsed": false,
    "pycharm": {
     "name": "#%%\n"
    }
   }
  },
  {
   "cell_type": "code",
   "execution_count": 6,
   "outputs": [],
   "source": [
    "stemmer = PorterStemmer()\n",
    "tokenizer = RegexpTokenizer(r'\\w+')\n",
    "def preprocess_text(text: str):\n",
    "    return ' '.join([stemmer.stem(word) for word in tokenizer.tokenize(' '.join([re.sub(r'\\s+', ' ', word) for word in text.split()]))])\n"
   ],
   "metadata": {
    "collapsed": false,
    "pycharm": {
     "name": "#%%\n"
    }
   }
  },
  {
   "cell_type": "code",
   "execution_count": 7,
   "outputs": [],
   "source": [
    "df['text_pp'] = df['text'].apply(lambda x: preprocess_text(x))"
   ],
   "metadata": {
    "collapsed": false,
    "pycharm": {
     "name": "#%%\n"
    }
   }
  },
  {
   "cell_type": "code",
   "execution_count": 8,
   "outputs": [],
   "source": [
    "tf_vectorizer = CountVectorizer(ngram_range = (1, 3),\n",
    "                                max_df = 0.75,\n",
    "                                min_df = 0.01,\n",
    "                                tokenizer = tokenizer.tokenize,\n",
    "                                stop_words='english'\n",
    ")"
   ],
   "metadata": {
    "collapsed": false,
    "pycharm": {
     "name": "#%%\n"
    }
   }
  },
  {
   "cell_type": "code",
   "execution_count": 9,
   "outputs": [
    {
     "data": {
      "text/plain": "                                               title  \\\n0        Continual Reinforcement Learning with TELLA   \n1  An exact mapping between the Variational Renor...   \n2  Learning Generative Models across Incomparable...   \n3  On the Generalization Ability of Online Learni...   \n4           Geometric Understanding of Deep Learning   \n\n                                link  citations  \\\n0  http://arxiv.org/pdf/2208.04287v1          2   \n1   http://arxiv.org/pdf/1410.3831v1        295   \n2  http://arxiv.org/pdf/1905.05461v2         69   \n3   http://arxiv.org/pdf/1305.2505v1         74   \n4  http://arxiv.org/pdf/1805.10451v2        110   \n\n                                                text  \\\n0  Workshop Track - 1st Conference on Lifelong Le...   \n1  arXiv:1410.3831v1  [stat.ML]  14 Oct 2014An ex...   \n2  Learning Generative Models across Incomparable...   \n3  On the Generalization Ability of Online Learni...   \n4  Geometric Understanding of Deep Learning\\nNa L...   \n\n                                             text_pp  \n0  workshop track 1st confer on lifelong learn ag...  \n1  arxiv 1410 3831v1 stat ml 14 oct 2014an exact ...  \n2  learn gener model across incompar space charlo...  \n3  on the gener abil of onlin learn algorithm for...  \n4  geometr understand of deep learn na lei zhongx...  ",
      "text/html": "<div>\n<style scoped>\n    .dataframe tbody tr th:only-of-type {\n        vertical-align: middle;\n    }\n\n    .dataframe tbody tr th {\n        vertical-align: top;\n    }\n\n    .dataframe thead th {\n        text-align: right;\n    }\n</style>\n<table border=\"1\" class=\"dataframe\">\n  <thead>\n    <tr style=\"text-align: right;\">\n      <th></th>\n      <th>title</th>\n      <th>link</th>\n      <th>citations</th>\n      <th>text</th>\n      <th>text_pp</th>\n    </tr>\n  </thead>\n  <tbody>\n    <tr>\n      <th>0</th>\n      <td>Continual Reinforcement Learning with TELLA</td>\n      <td>http://arxiv.org/pdf/2208.04287v1</td>\n      <td>2</td>\n      <td>Workshop Track - 1st Conference on Lifelong Le...</td>\n      <td>workshop track 1st confer on lifelong learn ag...</td>\n    </tr>\n    <tr>\n      <th>1</th>\n      <td>An exact mapping between the Variational Renor...</td>\n      <td>http://arxiv.org/pdf/1410.3831v1</td>\n      <td>295</td>\n      <td>arXiv:1410.3831v1  [stat.ML]  14 Oct 2014An ex...</td>\n      <td>arxiv 1410 3831v1 stat ml 14 oct 2014an exact ...</td>\n    </tr>\n    <tr>\n      <th>2</th>\n      <td>Learning Generative Models across Incomparable...</td>\n      <td>http://arxiv.org/pdf/1905.05461v2</td>\n      <td>69</td>\n      <td>Learning Generative Models across Incomparable...</td>\n      <td>learn gener model across incompar space charlo...</td>\n    </tr>\n    <tr>\n      <th>3</th>\n      <td>On the Generalization Ability of Online Learni...</td>\n      <td>http://arxiv.org/pdf/1305.2505v1</td>\n      <td>74</td>\n      <td>On the Generalization Ability of Online Learni...</td>\n      <td>on the gener abil of onlin learn algorithm for...</td>\n    </tr>\n    <tr>\n      <th>4</th>\n      <td>Geometric Understanding of Deep Learning</td>\n      <td>http://arxiv.org/pdf/1805.10451v2</td>\n      <td>110</td>\n      <td>Geometric Understanding of Deep Learning\\nNa L...</td>\n      <td>geometr understand of deep learn na lei zhongx...</td>\n    </tr>\n  </tbody>\n</table>\n</div>"
     },
     "execution_count": 9,
     "metadata": {},
     "output_type": "execute_result"
    }
   ],
   "source": [
    "df.head()"
   ],
   "metadata": {
    "collapsed": false,
    "pycharm": {
     "name": "#%%\n"
    }
   }
  },
  {
   "cell_type": "code",
   "execution_count": 10,
   "outputs": [],
   "source": [
    "tf = tf_vectorizer.fit_transform(df['text_pp'])"
   ],
   "metadata": {
    "collapsed": false,
    "pycharm": {
     "name": "#%%\n"
    }
   }
  },
  {
   "cell_type": "code",
   "execution_count": 50,
   "outputs": [
    {
     "name": "stderr",
     "output_type": "stream",
     "text": [
      "[Parallel(n_jobs=4)]: Using backend LokyBackend with 4 concurrent workers.\n",
      "[Parallel(n_jobs=4)]: Done   4 out of   4 | elapsed:    2.8s finished\n",
      "[Parallel(n_jobs=4)]: Using backend LokyBackend with 4 concurrent workers.\n"
     ]
    },
    {
     "name": "stdout",
     "output_type": "stream",
     "text": [
      "iteration: 1 of max_iter: 200\n"
     ]
    },
    {
     "name": "stderr",
     "output_type": "stream",
     "text": [
      "[Parallel(n_jobs=4)]: Done   4 out of   4 | elapsed:    2.6s finished\n",
      "[Parallel(n_jobs=4)]: Using backend LokyBackend with 4 concurrent workers.\n"
     ]
    },
    {
     "name": "stdout",
     "output_type": "stream",
     "text": [
      "iteration: 2 of max_iter: 200\n"
     ]
    },
    {
     "name": "stderr",
     "output_type": "stream",
     "text": [
      "[Parallel(n_jobs=4)]: Done   4 out of   4 | elapsed:    1.8s finished\n",
      "[Parallel(n_jobs=4)]: Using backend LokyBackend with 4 concurrent workers.\n"
     ]
    },
    {
     "name": "stdout",
     "output_type": "stream",
     "text": [
      "iteration: 3 of max_iter: 200\n"
     ]
    },
    {
     "name": "stderr",
     "output_type": "stream",
     "text": [
      "[Parallel(n_jobs=4)]: Done   4 out of   4 | elapsed:    2.3s finished\n",
      "[Parallel(n_jobs=4)]: Using backend LokyBackend with 4 concurrent workers.\n"
     ]
    },
    {
     "name": "stdout",
     "output_type": "stream",
     "text": [
      "iteration: 4 of max_iter: 200\n"
     ]
    },
    {
     "name": "stderr",
     "output_type": "stream",
     "text": [
      "[Parallel(n_jobs=4)]: Done   4 out of   4 | elapsed:    1.9s finished\n",
      "[Parallel(n_jobs=4)]: Using backend LokyBackend with 4 concurrent workers.\n"
     ]
    },
    {
     "name": "stdout",
     "output_type": "stream",
     "text": [
      "iteration: 5 of max_iter: 200\n"
     ]
    },
    {
     "name": "stderr",
     "output_type": "stream",
     "text": [
      "[Parallel(n_jobs=4)]: Done   4 out of   4 | elapsed:    1.4s finished\n",
      "[Parallel(n_jobs=4)]: Using backend LokyBackend with 4 concurrent workers.\n"
     ]
    },
    {
     "name": "stdout",
     "output_type": "stream",
     "text": [
      "iteration: 6 of max_iter: 200\n"
     ]
    },
    {
     "name": "stderr",
     "output_type": "stream",
     "text": [
      "[Parallel(n_jobs=4)]: Done   4 out of   4 | elapsed:    1.7s finished\n",
      "[Parallel(n_jobs=4)]: Using backend LokyBackend with 4 concurrent workers.\n"
     ]
    },
    {
     "name": "stdout",
     "output_type": "stream",
     "text": [
      "iteration: 7 of max_iter: 200\n"
     ]
    },
    {
     "name": "stderr",
     "output_type": "stream",
     "text": [
      "[Parallel(n_jobs=4)]: Done   4 out of   4 | elapsed:    1.4s finished\n",
      "[Parallel(n_jobs=4)]: Using backend LokyBackend with 4 concurrent workers.\n"
     ]
    },
    {
     "name": "stdout",
     "output_type": "stream",
     "text": [
      "iteration: 8 of max_iter: 200\n"
     ]
    },
    {
     "name": "stderr",
     "output_type": "stream",
     "text": [
      "[Parallel(n_jobs=4)]: Done   4 out of   4 | elapsed:    1.4s finished\n",
      "[Parallel(n_jobs=4)]: Using backend LokyBackend with 4 concurrent workers.\n"
     ]
    },
    {
     "name": "stdout",
     "output_type": "stream",
     "text": [
      "iteration: 9 of max_iter: 200\n"
     ]
    },
    {
     "name": "stderr",
     "output_type": "stream",
     "text": [
      "[Parallel(n_jobs=4)]: Done   4 out of   4 | elapsed:    1.3s finished\n",
      "[Parallel(n_jobs=4)]: Using backend LokyBackend with 4 concurrent workers.\n"
     ]
    },
    {
     "name": "stdout",
     "output_type": "stream",
     "text": [
      "iteration: 10 of max_iter: 200\n"
     ]
    },
    {
     "name": "stderr",
     "output_type": "stream",
     "text": [
      "[Parallel(n_jobs=4)]: Done   4 out of   4 | elapsed:    1.3s finished\n",
      "[Parallel(n_jobs=4)]: Using backend LokyBackend with 4 concurrent workers.\n"
     ]
    },
    {
     "name": "stdout",
     "output_type": "stream",
     "text": [
      "iteration: 11 of max_iter: 200\n"
     ]
    },
    {
     "name": "stderr",
     "output_type": "stream",
     "text": [
      "[Parallel(n_jobs=4)]: Done   4 out of   4 | elapsed:    1.3s finished\n",
      "[Parallel(n_jobs=4)]: Using backend LokyBackend with 4 concurrent workers.\n"
     ]
    },
    {
     "name": "stdout",
     "output_type": "stream",
     "text": [
      "iteration: 12 of max_iter: 200\n"
     ]
    },
    {
     "name": "stderr",
     "output_type": "stream",
     "text": [
      "[Parallel(n_jobs=4)]: Done   4 out of   4 | elapsed:    1.3s finished\n",
      "[Parallel(n_jobs=4)]: Using backend LokyBackend with 4 concurrent workers.\n"
     ]
    },
    {
     "name": "stdout",
     "output_type": "stream",
     "text": [
      "iteration: 13 of max_iter: 200\n"
     ]
    },
    {
     "name": "stderr",
     "output_type": "stream",
     "text": [
      "[Parallel(n_jobs=4)]: Done   4 out of   4 | elapsed:    1.3s finished\n",
      "[Parallel(n_jobs=4)]: Using backend LokyBackend with 4 concurrent workers.\n"
     ]
    },
    {
     "name": "stdout",
     "output_type": "stream",
     "text": [
      "iteration: 14 of max_iter: 200\n"
     ]
    },
    {
     "name": "stderr",
     "output_type": "stream",
     "text": [
      "[Parallel(n_jobs=4)]: Done   4 out of   4 | elapsed:    1.2s finished\n",
      "[Parallel(n_jobs=4)]: Using backend LokyBackend with 4 concurrent workers.\n"
     ]
    },
    {
     "name": "stdout",
     "output_type": "stream",
     "text": [
      "iteration: 15 of max_iter: 200\n"
     ]
    },
    {
     "name": "stderr",
     "output_type": "stream",
     "text": [
      "[Parallel(n_jobs=4)]: Done   4 out of   4 | elapsed:    1.2s finished\n",
      "[Parallel(n_jobs=4)]: Using backend LokyBackend with 4 concurrent workers.\n"
     ]
    },
    {
     "name": "stdout",
     "output_type": "stream",
     "text": [
      "iteration: 16 of max_iter: 200\n"
     ]
    },
    {
     "name": "stderr",
     "output_type": "stream",
     "text": [
      "[Parallel(n_jobs=4)]: Done   4 out of   4 | elapsed:    1.2s finished\n",
      "[Parallel(n_jobs=4)]: Using backend LokyBackend with 4 concurrent workers.\n"
     ]
    },
    {
     "name": "stdout",
     "output_type": "stream",
     "text": [
      "iteration: 17 of max_iter: 200\n"
     ]
    },
    {
     "name": "stderr",
     "output_type": "stream",
     "text": [
      "[Parallel(n_jobs=4)]: Done   4 out of   4 | elapsed:    1.4s finished\n",
      "[Parallel(n_jobs=4)]: Using backend LokyBackend with 4 concurrent workers.\n"
     ]
    },
    {
     "name": "stdout",
     "output_type": "stream",
     "text": [
      "iteration: 18 of max_iter: 200\n"
     ]
    },
    {
     "name": "stderr",
     "output_type": "stream",
     "text": [
      "[Parallel(n_jobs=4)]: Done   4 out of   4 | elapsed:    1.3s finished\n",
      "[Parallel(n_jobs=4)]: Using backend LokyBackend with 4 concurrent workers.\n"
     ]
    },
    {
     "name": "stdout",
     "output_type": "stream",
     "text": [
      "iteration: 19 of max_iter: 200\n"
     ]
    },
    {
     "name": "stderr",
     "output_type": "stream",
     "text": [
      "[Parallel(n_jobs=4)]: Done   4 out of   4 | elapsed:    1.2s finished\n",
      "[Parallel(n_jobs=4)]: Using backend LokyBackend with 4 concurrent workers.\n"
     ]
    },
    {
     "name": "stdout",
     "output_type": "stream",
     "text": [
      "iteration: 20 of max_iter: 200\n"
     ]
    },
    {
     "name": "stderr",
     "output_type": "stream",
     "text": [
      "[Parallel(n_jobs=4)]: Done   4 out of   4 | elapsed:    1.1s finished\n",
      "[Parallel(n_jobs=4)]: Using backend LokyBackend with 4 concurrent workers.\n"
     ]
    },
    {
     "name": "stdout",
     "output_type": "stream",
     "text": [
      "iteration: 21 of max_iter: 200\n"
     ]
    },
    {
     "name": "stderr",
     "output_type": "stream",
     "text": [
      "[Parallel(n_jobs=4)]: Done   4 out of   4 | elapsed:    1.2s finished\n",
      "[Parallel(n_jobs=4)]: Using backend LokyBackend with 4 concurrent workers.\n"
     ]
    },
    {
     "name": "stdout",
     "output_type": "stream",
     "text": [
      "iteration: 22 of max_iter: 200\n"
     ]
    },
    {
     "name": "stderr",
     "output_type": "stream",
     "text": [
      "[Parallel(n_jobs=4)]: Done   4 out of   4 | elapsed:    1.2s finished\n",
      "[Parallel(n_jobs=4)]: Using backend LokyBackend with 4 concurrent workers.\n"
     ]
    },
    {
     "name": "stdout",
     "output_type": "stream",
     "text": [
      "iteration: 23 of max_iter: 200\n"
     ]
    },
    {
     "name": "stderr",
     "output_type": "stream",
     "text": [
      "[Parallel(n_jobs=4)]: Done   4 out of   4 | elapsed:    1.1s finished\n",
      "[Parallel(n_jobs=4)]: Using backend LokyBackend with 4 concurrent workers.\n"
     ]
    },
    {
     "name": "stdout",
     "output_type": "stream",
     "text": [
      "iteration: 24 of max_iter: 200\n"
     ]
    },
    {
     "name": "stderr",
     "output_type": "stream",
     "text": [
      "[Parallel(n_jobs=4)]: Done   4 out of   4 | elapsed:    1.2s finished\n",
      "[Parallel(n_jobs=4)]: Using backend LokyBackend with 4 concurrent workers.\n"
     ]
    },
    {
     "name": "stdout",
     "output_type": "stream",
     "text": [
      "iteration: 25 of max_iter: 200\n"
     ]
    },
    {
     "name": "stderr",
     "output_type": "stream",
     "text": [
      "[Parallel(n_jobs=4)]: Done   4 out of   4 | elapsed:    1.1s finished\n",
      "[Parallel(n_jobs=4)]: Using backend LokyBackend with 4 concurrent workers.\n"
     ]
    },
    {
     "name": "stdout",
     "output_type": "stream",
     "text": [
      "iteration: 26 of max_iter: 200\n"
     ]
    },
    {
     "name": "stderr",
     "output_type": "stream",
     "text": [
      "[Parallel(n_jobs=4)]: Done   4 out of   4 | elapsed:    1.1s finished\n",
      "[Parallel(n_jobs=4)]: Using backend LokyBackend with 4 concurrent workers.\n"
     ]
    },
    {
     "name": "stdout",
     "output_type": "stream",
     "text": [
      "iteration: 27 of max_iter: 200\n"
     ]
    },
    {
     "name": "stderr",
     "output_type": "stream",
     "text": [
      "[Parallel(n_jobs=4)]: Done   4 out of   4 | elapsed:    1.1s finished\n",
      "[Parallel(n_jobs=4)]: Using backend LokyBackend with 4 concurrent workers.\n"
     ]
    },
    {
     "name": "stdout",
     "output_type": "stream",
     "text": [
      "iteration: 28 of max_iter: 200\n"
     ]
    },
    {
     "name": "stderr",
     "output_type": "stream",
     "text": [
      "[Parallel(n_jobs=4)]: Done   4 out of   4 | elapsed:    1.1s finished\n",
      "[Parallel(n_jobs=4)]: Using backend LokyBackend with 4 concurrent workers.\n"
     ]
    },
    {
     "name": "stdout",
     "output_type": "stream",
     "text": [
      "iteration: 29 of max_iter: 200\n"
     ]
    },
    {
     "name": "stderr",
     "output_type": "stream",
     "text": [
      "[Parallel(n_jobs=4)]: Done   4 out of   4 | elapsed:    1.1s finished\n",
      "[Parallel(n_jobs=4)]: Using backend LokyBackend with 4 concurrent workers.\n"
     ]
    },
    {
     "name": "stdout",
     "output_type": "stream",
     "text": [
      "iteration: 30 of max_iter: 200\n"
     ]
    },
    {
     "name": "stderr",
     "output_type": "stream",
     "text": [
      "[Parallel(n_jobs=4)]: Done   4 out of   4 | elapsed:    1.1s finished\n",
      "[Parallel(n_jobs=4)]: Using backend LokyBackend with 4 concurrent workers.\n"
     ]
    },
    {
     "name": "stdout",
     "output_type": "stream",
     "text": [
      "iteration: 31 of max_iter: 200\n"
     ]
    },
    {
     "name": "stderr",
     "output_type": "stream",
     "text": [
      "[Parallel(n_jobs=4)]: Done   4 out of   4 | elapsed:    1.3s finished\n",
      "[Parallel(n_jobs=4)]: Using backend LokyBackend with 4 concurrent workers.\n"
     ]
    },
    {
     "name": "stdout",
     "output_type": "stream",
     "text": [
      "iteration: 32 of max_iter: 200\n"
     ]
    },
    {
     "name": "stderr",
     "output_type": "stream",
     "text": [
      "[Parallel(n_jobs=4)]: Done   4 out of   4 | elapsed:    1.1s finished\n",
      "[Parallel(n_jobs=4)]: Using backend LokyBackend with 4 concurrent workers.\n"
     ]
    },
    {
     "name": "stdout",
     "output_type": "stream",
     "text": [
      "iteration: 33 of max_iter: 200\n"
     ]
    },
    {
     "name": "stderr",
     "output_type": "stream",
     "text": [
      "[Parallel(n_jobs=4)]: Done   4 out of   4 | elapsed:    1.1s finished\n",
      "[Parallel(n_jobs=4)]: Using backend LokyBackend with 4 concurrent workers.\n"
     ]
    },
    {
     "name": "stdout",
     "output_type": "stream",
     "text": [
      "iteration: 34 of max_iter: 200\n"
     ]
    },
    {
     "name": "stderr",
     "output_type": "stream",
     "text": [
      "[Parallel(n_jobs=4)]: Done   4 out of   4 | elapsed:    1.1s finished\n",
      "[Parallel(n_jobs=4)]: Using backend LokyBackend with 4 concurrent workers.\n"
     ]
    },
    {
     "name": "stdout",
     "output_type": "stream",
     "text": [
      "iteration: 35 of max_iter: 200\n"
     ]
    },
    {
     "name": "stderr",
     "output_type": "stream",
     "text": [
      "[Parallel(n_jobs=4)]: Done   4 out of   4 | elapsed:    1.1s finished\n",
      "[Parallel(n_jobs=4)]: Using backend LokyBackend with 4 concurrent workers.\n"
     ]
    },
    {
     "name": "stdout",
     "output_type": "stream",
     "text": [
      "iteration: 36 of max_iter: 200\n"
     ]
    },
    {
     "name": "stderr",
     "output_type": "stream",
     "text": [
      "[Parallel(n_jobs=4)]: Done   4 out of   4 | elapsed:    1.1s finished\n",
      "[Parallel(n_jobs=4)]: Using backend LokyBackend with 4 concurrent workers.\n"
     ]
    },
    {
     "name": "stdout",
     "output_type": "stream",
     "text": [
      "iteration: 37 of max_iter: 200\n"
     ]
    },
    {
     "name": "stderr",
     "output_type": "stream",
     "text": [
      "[Parallel(n_jobs=4)]: Done   4 out of   4 | elapsed:    1.1s finished\n",
      "[Parallel(n_jobs=4)]: Using backend LokyBackend with 4 concurrent workers.\n"
     ]
    },
    {
     "name": "stdout",
     "output_type": "stream",
     "text": [
      "iteration: 38 of max_iter: 200\n"
     ]
    },
    {
     "name": "stderr",
     "output_type": "stream",
     "text": [
      "[Parallel(n_jobs=4)]: Done   4 out of   4 | elapsed:    1.0s finished\n",
      "[Parallel(n_jobs=4)]: Using backend LokyBackend with 4 concurrent workers.\n"
     ]
    },
    {
     "name": "stdout",
     "output_type": "stream",
     "text": [
      "iteration: 39 of max_iter: 200\n"
     ]
    },
    {
     "name": "stderr",
     "output_type": "stream",
     "text": [
      "[Parallel(n_jobs=4)]: Done   4 out of   4 | elapsed:    1.1s finished\n",
      "[Parallel(n_jobs=4)]: Using backend LokyBackend with 4 concurrent workers.\n"
     ]
    },
    {
     "name": "stdout",
     "output_type": "stream",
     "text": [
      "iteration: 40 of max_iter: 200\n"
     ]
    },
    {
     "name": "stderr",
     "output_type": "stream",
     "text": [
      "[Parallel(n_jobs=4)]: Done   4 out of   4 | elapsed:    1.0s finished\n",
      "[Parallel(n_jobs=4)]: Using backend LokyBackend with 4 concurrent workers.\n"
     ]
    },
    {
     "name": "stdout",
     "output_type": "stream",
     "text": [
      "iteration: 41 of max_iter: 200\n"
     ]
    },
    {
     "name": "stderr",
     "output_type": "stream",
     "text": [
      "[Parallel(n_jobs=4)]: Done   4 out of   4 | elapsed:    1.0s finished\n",
      "[Parallel(n_jobs=4)]: Using backend LokyBackend with 4 concurrent workers.\n"
     ]
    },
    {
     "name": "stdout",
     "output_type": "stream",
     "text": [
      "iteration: 42 of max_iter: 200\n"
     ]
    },
    {
     "name": "stderr",
     "output_type": "stream",
     "text": [
      "[Parallel(n_jobs=4)]: Done   4 out of   4 | elapsed:    1.1s finished\n",
      "[Parallel(n_jobs=4)]: Using backend LokyBackend with 4 concurrent workers.\n"
     ]
    },
    {
     "name": "stdout",
     "output_type": "stream",
     "text": [
      "iteration: 43 of max_iter: 200\n"
     ]
    },
    {
     "name": "stderr",
     "output_type": "stream",
     "text": [
      "[Parallel(n_jobs=4)]: Done   4 out of   4 | elapsed:    1.1s finished\n",
      "[Parallel(n_jobs=4)]: Using backend LokyBackend with 4 concurrent workers.\n"
     ]
    },
    {
     "name": "stdout",
     "output_type": "stream",
     "text": [
      "iteration: 44 of max_iter: 200\n"
     ]
    },
    {
     "name": "stderr",
     "output_type": "stream",
     "text": [
      "[Parallel(n_jobs=4)]: Done   4 out of   4 | elapsed:    1.1s finished\n",
      "[Parallel(n_jobs=4)]: Using backend LokyBackend with 4 concurrent workers.\n"
     ]
    },
    {
     "name": "stdout",
     "output_type": "stream",
     "text": [
      "iteration: 45 of max_iter: 200\n"
     ]
    },
    {
     "name": "stderr",
     "output_type": "stream",
     "text": [
      "[Parallel(n_jobs=4)]: Done   4 out of   4 | elapsed:    1.1s finished\n",
      "[Parallel(n_jobs=4)]: Using backend LokyBackend with 4 concurrent workers.\n"
     ]
    },
    {
     "name": "stdout",
     "output_type": "stream",
     "text": [
      "iteration: 46 of max_iter: 200\n"
     ]
    },
    {
     "name": "stderr",
     "output_type": "stream",
     "text": [
      "[Parallel(n_jobs=4)]: Done   4 out of   4 | elapsed:    1.3s finished\n",
      "[Parallel(n_jobs=4)]: Using backend LokyBackend with 4 concurrent workers.\n"
     ]
    },
    {
     "name": "stdout",
     "output_type": "stream",
     "text": [
      "iteration: 47 of max_iter: 200\n"
     ]
    },
    {
     "name": "stderr",
     "output_type": "stream",
     "text": [
      "[Parallel(n_jobs=4)]: Done   4 out of   4 | elapsed:    1.0s finished\n",
      "[Parallel(n_jobs=4)]: Using backend LokyBackend with 4 concurrent workers.\n"
     ]
    },
    {
     "name": "stdout",
     "output_type": "stream",
     "text": [
      "iteration: 48 of max_iter: 200\n"
     ]
    },
    {
     "name": "stderr",
     "output_type": "stream",
     "text": [
      "[Parallel(n_jobs=4)]: Done   4 out of   4 | elapsed:    1.0s finished\n",
      "[Parallel(n_jobs=4)]: Using backend LokyBackend with 4 concurrent workers.\n"
     ]
    },
    {
     "name": "stdout",
     "output_type": "stream",
     "text": [
      "iteration: 49 of max_iter: 200\n"
     ]
    },
    {
     "name": "stderr",
     "output_type": "stream",
     "text": [
      "[Parallel(n_jobs=4)]: Done   4 out of   4 | elapsed:    1.0s finished\n",
      "[Parallel(n_jobs=4)]: Using backend LokyBackend with 4 concurrent workers.\n"
     ]
    },
    {
     "name": "stdout",
     "output_type": "stream",
     "text": [
      "iteration: 50 of max_iter: 200\n"
     ]
    },
    {
     "name": "stderr",
     "output_type": "stream",
     "text": [
      "[Parallel(n_jobs=4)]: Done   4 out of   4 | elapsed:    1.1s finished\n",
      "[Parallel(n_jobs=4)]: Using backend LokyBackend with 4 concurrent workers.\n"
     ]
    },
    {
     "name": "stdout",
     "output_type": "stream",
     "text": [
      "iteration: 51 of max_iter: 200\n"
     ]
    },
    {
     "name": "stderr",
     "output_type": "stream",
     "text": [
      "[Parallel(n_jobs=4)]: Done   4 out of   4 | elapsed:    1.1s finished\n",
      "[Parallel(n_jobs=4)]: Using backend LokyBackend with 4 concurrent workers.\n"
     ]
    },
    {
     "name": "stdout",
     "output_type": "stream",
     "text": [
      "iteration: 52 of max_iter: 200\n"
     ]
    },
    {
     "name": "stderr",
     "output_type": "stream",
     "text": [
      "[Parallel(n_jobs=4)]: Done   4 out of   4 | elapsed:    1.0s finished\n",
      "[Parallel(n_jobs=4)]: Using backend LokyBackend with 4 concurrent workers.\n"
     ]
    },
    {
     "name": "stdout",
     "output_type": "stream",
     "text": [
      "iteration: 53 of max_iter: 200\n"
     ]
    },
    {
     "name": "stderr",
     "output_type": "stream",
     "text": [
      "[Parallel(n_jobs=4)]: Done   4 out of   4 | elapsed:    1.0s finished\n",
      "[Parallel(n_jobs=4)]: Using backend LokyBackend with 4 concurrent workers.\n"
     ]
    },
    {
     "name": "stdout",
     "output_type": "stream",
     "text": [
      "iteration: 54 of max_iter: 200\n"
     ]
    },
    {
     "name": "stderr",
     "output_type": "stream",
     "text": [
      "[Parallel(n_jobs=4)]: Done   4 out of   4 | elapsed:    1.1s finished\n",
      "[Parallel(n_jobs=4)]: Using backend LokyBackend with 4 concurrent workers.\n"
     ]
    },
    {
     "name": "stdout",
     "output_type": "stream",
     "text": [
      "iteration: 55 of max_iter: 200\n"
     ]
    },
    {
     "name": "stderr",
     "output_type": "stream",
     "text": [
      "[Parallel(n_jobs=4)]: Done   4 out of   4 | elapsed:    1.1s finished\n",
      "[Parallel(n_jobs=4)]: Using backend LokyBackend with 4 concurrent workers.\n"
     ]
    },
    {
     "name": "stdout",
     "output_type": "stream",
     "text": [
      "iteration: 56 of max_iter: 200\n"
     ]
    },
    {
     "name": "stderr",
     "output_type": "stream",
     "text": [
      "[Parallel(n_jobs=4)]: Done   4 out of   4 | elapsed:    1.0s finished\n",
      "[Parallel(n_jobs=4)]: Using backend LokyBackend with 4 concurrent workers.\n"
     ]
    },
    {
     "name": "stdout",
     "output_type": "stream",
     "text": [
      "iteration: 57 of max_iter: 200\n"
     ]
    },
    {
     "name": "stderr",
     "output_type": "stream",
     "text": [
      "[Parallel(n_jobs=4)]: Done   4 out of   4 | elapsed:    1.1s finished\n",
      "[Parallel(n_jobs=4)]: Using backend LokyBackend with 4 concurrent workers.\n"
     ]
    },
    {
     "name": "stdout",
     "output_type": "stream",
     "text": [
      "iteration: 58 of max_iter: 200\n"
     ]
    },
    {
     "name": "stderr",
     "output_type": "stream",
     "text": [
      "[Parallel(n_jobs=4)]: Done   4 out of   4 | elapsed:    1.0s finished\n",
      "[Parallel(n_jobs=4)]: Using backend LokyBackend with 4 concurrent workers.\n"
     ]
    },
    {
     "name": "stdout",
     "output_type": "stream",
     "text": [
      "iteration: 59 of max_iter: 200\n"
     ]
    },
    {
     "name": "stderr",
     "output_type": "stream",
     "text": [
      "[Parallel(n_jobs=4)]: Done   4 out of   4 | elapsed:    1.4s finished\n",
      "[Parallel(n_jobs=4)]: Using backend LokyBackend with 4 concurrent workers.\n"
     ]
    },
    {
     "name": "stdout",
     "output_type": "stream",
     "text": [
      "iteration: 60 of max_iter: 200\n"
     ]
    },
    {
     "name": "stderr",
     "output_type": "stream",
     "text": [
      "[Parallel(n_jobs=4)]: Done   4 out of   4 | elapsed:    1.3s finished\n",
      "[Parallel(n_jobs=4)]: Using backend LokyBackend with 4 concurrent workers.\n"
     ]
    },
    {
     "name": "stdout",
     "output_type": "stream",
     "text": [
      "iteration: 61 of max_iter: 200\n"
     ]
    },
    {
     "name": "stderr",
     "output_type": "stream",
     "text": [
      "[Parallel(n_jobs=4)]: Done   4 out of   4 | elapsed:    1.1s finished\n",
      "[Parallel(n_jobs=4)]: Using backend LokyBackend with 4 concurrent workers.\n"
     ]
    },
    {
     "name": "stdout",
     "output_type": "stream",
     "text": [
      "iteration: 62 of max_iter: 200\n"
     ]
    },
    {
     "name": "stderr",
     "output_type": "stream",
     "text": [
      "[Parallel(n_jobs=4)]: Done   4 out of   4 | elapsed:    1.1s finished\n",
      "[Parallel(n_jobs=4)]: Using backend LokyBackend with 4 concurrent workers.\n"
     ]
    },
    {
     "name": "stdout",
     "output_type": "stream",
     "text": [
      "iteration: 63 of max_iter: 200\n"
     ]
    },
    {
     "name": "stderr",
     "output_type": "stream",
     "text": [
      "[Parallel(n_jobs=4)]: Done   4 out of   4 | elapsed:    1.1s finished\n",
      "[Parallel(n_jobs=4)]: Using backend LokyBackend with 4 concurrent workers.\n"
     ]
    },
    {
     "name": "stdout",
     "output_type": "stream",
     "text": [
      "iteration: 64 of max_iter: 200\n"
     ]
    },
    {
     "name": "stderr",
     "output_type": "stream",
     "text": [
      "[Parallel(n_jobs=4)]: Done   4 out of   4 | elapsed:    1.0s finished\n",
      "[Parallel(n_jobs=4)]: Using backend LokyBackend with 4 concurrent workers.\n"
     ]
    },
    {
     "name": "stdout",
     "output_type": "stream",
     "text": [
      "iteration: 65 of max_iter: 200\n"
     ]
    },
    {
     "name": "stderr",
     "output_type": "stream",
     "text": [
      "[Parallel(n_jobs=4)]: Done   4 out of   4 | elapsed:    1.0s finished\n",
      "[Parallel(n_jobs=4)]: Using backend LokyBackend with 4 concurrent workers.\n"
     ]
    },
    {
     "name": "stdout",
     "output_type": "stream",
     "text": [
      "iteration: 66 of max_iter: 200\n"
     ]
    },
    {
     "name": "stderr",
     "output_type": "stream",
     "text": [
      "[Parallel(n_jobs=4)]: Done   4 out of   4 | elapsed:    1.3s finished\n",
      "[Parallel(n_jobs=4)]: Using backend LokyBackend with 4 concurrent workers.\n"
     ]
    },
    {
     "name": "stdout",
     "output_type": "stream",
     "text": [
      "iteration: 67 of max_iter: 200\n"
     ]
    },
    {
     "name": "stderr",
     "output_type": "stream",
     "text": [
      "[Parallel(n_jobs=4)]: Done   4 out of   4 | elapsed:    1.1s finished\n",
      "[Parallel(n_jobs=4)]: Using backend LokyBackend with 4 concurrent workers.\n"
     ]
    },
    {
     "name": "stdout",
     "output_type": "stream",
     "text": [
      "iteration: 68 of max_iter: 200\n"
     ]
    },
    {
     "name": "stderr",
     "output_type": "stream",
     "text": [
      "[Parallel(n_jobs=4)]: Done   4 out of   4 | elapsed:    1.0s finished\n",
      "[Parallel(n_jobs=4)]: Using backend LokyBackend with 4 concurrent workers.\n"
     ]
    },
    {
     "name": "stdout",
     "output_type": "stream",
     "text": [
      "iteration: 69 of max_iter: 200\n"
     ]
    },
    {
     "name": "stderr",
     "output_type": "stream",
     "text": [
      "[Parallel(n_jobs=4)]: Done   4 out of   4 | elapsed:    1.0s finished\n",
      "[Parallel(n_jobs=4)]: Using backend LokyBackend with 4 concurrent workers.\n"
     ]
    },
    {
     "name": "stdout",
     "output_type": "stream",
     "text": [
      "iteration: 70 of max_iter: 200\n"
     ]
    },
    {
     "name": "stderr",
     "output_type": "stream",
     "text": [
      "[Parallel(n_jobs=4)]: Done   4 out of   4 | elapsed:    1.0s finished\n",
      "[Parallel(n_jobs=4)]: Using backend LokyBackend with 4 concurrent workers.\n"
     ]
    },
    {
     "name": "stdout",
     "output_type": "stream",
     "text": [
      "iteration: 71 of max_iter: 200\n"
     ]
    },
    {
     "name": "stderr",
     "output_type": "stream",
     "text": [
      "[Parallel(n_jobs=4)]: Done   4 out of   4 | elapsed:    1.0s finished\n",
      "[Parallel(n_jobs=4)]: Using backend LokyBackend with 4 concurrent workers.\n"
     ]
    },
    {
     "name": "stdout",
     "output_type": "stream",
     "text": [
      "iteration: 72 of max_iter: 200\n"
     ]
    },
    {
     "name": "stderr",
     "output_type": "stream",
     "text": [
      "[Parallel(n_jobs=4)]: Done   4 out of   4 | elapsed:    1.0s finished\n",
      "[Parallel(n_jobs=4)]: Using backend LokyBackend with 4 concurrent workers.\n"
     ]
    },
    {
     "name": "stdout",
     "output_type": "stream",
     "text": [
      "iteration: 73 of max_iter: 200\n"
     ]
    },
    {
     "name": "stderr",
     "output_type": "stream",
     "text": [
      "[Parallel(n_jobs=4)]: Done   4 out of   4 | elapsed:    1.0s finished\n",
      "[Parallel(n_jobs=4)]: Using backend LokyBackend with 4 concurrent workers.\n"
     ]
    },
    {
     "name": "stdout",
     "output_type": "stream",
     "text": [
      "iteration: 74 of max_iter: 200\n"
     ]
    },
    {
     "name": "stderr",
     "output_type": "stream",
     "text": [
      "[Parallel(n_jobs=4)]: Done   4 out of   4 | elapsed:    1.1s finished\n",
      "[Parallel(n_jobs=4)]: Using backend LokyBackend with 4 concurrent workers.\n"
     ]
    },
    {
     "name": "stdout",
     "output_type": "stream",
     "text": [
      "iteration: 75 of max_iter: 200\n"
     ]
    },
    {
     "name": "stderr",
     "output_type": "stream",
     "text": [
      "[Parallel(n_jobs=4)]: Done   4 out of   4 | elapsed:    1.0s finished\n",
      "[Parallel(n_jobs=4)]: Using backend LokyBackend with 4 concurrent workers.\n"
     ]
    },
    {
     "name": "stdout",
     "output_type": "stream",
     "text": [
      "iteration: 76 of max_iter: 200\n"
     ]
    },
    {
     "name": "stderr",
     "output_type": "stream",
     "text": [
      "[Parallel(n_jobs=4)]: Done   4 out of   4 | elapsed:    1.0s finished\n",
      "[Parallel(n_jobs=4)]: Using backend LokyBackend with 4 concurrent workers.\n"
     ]
    },
    {
     "name": "stdout",
     "output_type": "stream",
     "text": [
      "iteration: 77 of max_iter: 200\n"
     ]
    },
    {
     "name": "stderr",
     "output_type": "stream",
     "text": [
      "[Parallel(n_jobs=4)]: Done   4 out of   4 | elapsed:    1.0s finished\n",
      "[Parallel(n_jobs=4)]: Using backend LokyBackend with 4 concurrent workers.\n"
     ]
    },
    {
     "name": "stdout",
     "output_type": "stream",
     "text": [
      "iteration: 78 of max_iter: 200\n"
     ]
    },
    {
     "name": "stderr",
     "output_type": "stream",
     "text": [
      "[Parallel(n_jobs=4)]: Done   4 out of   4 | elapsed:    1.0s finished\n",
      "[Parallel(n_jobs=4)]: Using backend LokyBackend with 4 concurrent workers.\n"
     ]
    },
    {
     "name": "stdout",
     "output_type": "stream",
     "text": [
      "iteration: 79 of max_iter: 200\n"
     ]
    },
    {
     "name": "stderr",
     "output_type": "stream",
     "text": [
      "[Parallel(n_jobs=4)]: Done   4 out of   4 | elapsed:    1.0s finished\n",
      "[Parallel(n_jobs=4)]: Using backend LokyBackend with 4 concurrent workers.\n"
     ]
    },
    {
     "name": "stdout",
     "output_type": "stream",
     "text": [
      "iteration: 80 of max_iter: 200\n"
     ]
    },
    {
     "name": "stderr",
     "output_type": "stream",
     "text": [
      "[Parallel(n_jobs=4)]: Done   4 out of   4 | elapsed:    1.0s finished\n",
      "[Parallel(n_jobs=4)]: Using backend LokyBackend with 4 concurrent workers.\n"
     ]
    },
    {
     "name": "stdout",
     "output_type": "stream",
     "text": [
      "iteration: 81 of max_iter: 200\n"
     ]
    },
    {
     "name": "stderr",
     "output_type": "stream",
     "text": [
      "[Parallel(n_jobs=4)]: Done   4 out of   4 | elapsed:    1.0s finished\n",
      "[Parallel(n_jobs=4)]: Using backend LokyBackend with 4 concurrent workers.\n"
     ]
    },
    {
     "name": "stdout",
     "output_type": "stream",
     "text": [
      "iteration: 82 of max_iter: 200\n"
     ]
    },
    {
     "name": "stderr",
     "output_type": "stream",
     "text": [
      "[Parallel(n_jobs=4)]: Done   4 out of   4 | elapsed:    1.2s finished\n",
      "[Parallel(n_jobs=4)]: Using backend LokyBackend with 4 concurrent workers.\n"
     ]
    },
    {
     "name": "stdout",
     "output_type": "stream",
     "text": [
      "iteration: 83 of max_iter: 200\n"
     ]
    },
    {
     "name": "stderr",
     "output_type": "stream",
     "text": [
      "[Parallel(n_jobs=4)]: Done   4 out of   4 | elapsed:    1.0s finished\n",
      "[Parallel(n_jobs=4)]: Using backend LokyBackend with 4 concurrent workers.\n"
     ]
    },
    {
     "name": "stdout",
     "output_type": "stream",
     "text": [
      "iteration: 84 of max_iter: 200\n"
     ]
    },
    {
     "name": "stderr",
     "output_type": "stream",
     "text": [
      "[Parallel(n_jobs=4)]: Done   4 out of   4 | elapsed:    1.1s finished\n",
      "[Parallel(n_jobs=4)]: Using backend LokyBackend with 4 concurrent workers.\n"
     ]
    },
    {
     "name": "stdout",
     "output_type": "stream",
     "text": [
      "iteration: 85 of max_iter: 200\n"
     ]
    },
    {
     "name": "stderr",
     "output_type": "stream",
     "text": [
      "[Parallel(n_jobs=4)]: Done   4 out of   4 | elapsed:    1.2s finished\n",
      "[Parallel(n_jobs=4)]: Using backend LokyBackend with 4 concurrent workers.\n"
     ]
    },
    {
     "name": "stdout",
     "output_type": "stream",
     "text": [
      "iteration: 86 of max_iter: 200\n"
     ]
    },
    {
     "name": "stderr",
     "output_type": "stream",
     "text": [
      "[Parallel(n_jobs=4)]: Done   4 out of   4 | elapsed:    1.0s finished\n",
      "[Parallel(n_jobs=4)]: Using backend LokyBackend with 4 concurrent workers.\n"
     ]
    },
    {
     "name": "stdout",
     "output_type": "stream",
     "text": [
      "iteration: 87 of max_iter: 200\n"
     ]
    },
    {
     "name": "stderr",
     "output_type": "stream",
     "text": [
      "[Parallel(n_jobs=4)]: Done   4 out of   4 | elapsed:    1.0s finished\n",
      "[Parallel(n_jobs=4)]: Using backend LokyBackend with 4 concurrent workers.\n"
     ]
    },
    {
     "name": "stdout",
     "output_type": "stream",
     "text": [
      "iteration: 88 of max_iter: 200\n"
     ]
    },
    {
     "name": "stderr",
     "output_type": "stream",
     "text": [
      "[Parallel(n_jobs=4)]: Done   4 out of   4 | elapsed:    1.0s finished\n",
      "[Parallel(n_jobs=4)]: Using backend LokyBackend with 4 concurrent workers.\n"
     ]
    },
    {
     "name": "stdout",
     "output_type": "stream",
     "text": [
      "iteration: 89 of max_iter: 200\n"
     ]
    },
    {
     "name": "stderr",
     "output_type": "stream",
     "text": [
      "[Parallel(n_jobs=4)]: Done   4 out of   4 | elapsed:    1.0s finished\n",
      "[Parallel(n_jobs=4)]: Using backend LokyBackend with 4 concurrent workers.\n"
     ]
    },
    {
     "name": "stdout",
     "output_type": "stream",
     "text": [
      "iteration: 90 of max_iter: 200\n"
     ]
    },
    {
     "name": "stderr",
     "output_type": "stream",
     "text": [
      "[Parallel(n_jobs=4)]: Done   4 out of   4 | elapsed:    1.0s finished\n",
      "[Parallel(n_jobs=4)]: Using backend LokyBackend with 4 concurrent workers.\n"
     ]
    },
    {
     "name": "stdout",
     "output_type": "stream",
     "text": [
      "iteration: 91 of max_iter: 200\n"
     ]
    },
    {
     "name": "stderr",
     "output_type": "stream",
     "text": [
      "[Parallel(n_jobs=4)]: Done   4 out of   4 | elapsed:    1.0s finished\n",
      "[Parallel(n_jobs=4)]: Using backend LokyBackend with 4 concurrent workers.\n"
     ]
    },
    {
     "name": "stdout",
     "output_type": "stream",
     "text": [
      "iteration: 92 of max_iter: 200\n"
     ]
    },
    {
     "name": "stderr",
     "output_type": "stream",
     "text": [
      "[Parallel(n_jobs=4)]: Done   4 out of   4 | elapsed:    1.0s finished\n",
      "[Parallel(n_jobs=4)]: Using backend LokyBackend with 4 concurrent workers.\n"
     ]
    },
    {
     "name": "stdout",
     "output_type": "stream",
     "text": [
      "iteration: 93 of max_iter: 200\n"
     ]
    },
    {
     "name": "stderr",
     "output_type": "stream",
     "text": [
      "[Parallel(n_jobs=4)]: Done   4 out of   4 | elapsed:    1.0s finished\n",
      "[Parallel(n_jobs=4)]: Using backend LokyBackend with 4 concurrent workers.\n"
     ]
    },
    {
     "name": "stdout",
     "output_type": "stream",
     "text": [
      "iteration: 94 of max_iter: 200\n"
     ]
    },
    {
     "name": "stderr",
     "output_type": "stream",
     "text": [
      "[Parallel(n_jobs=4)]: Done   4 out of   4 | elapsed:    1.0s finished\n",
      "[Parallel(n_jobs=4)]: Using backend LokyBackend with 4 concurrent workers.\n"
     ]
    },
    {
     "name": "stdout",
     "output_type": "stream",
     "text": [
      "iteration: 95 of max_iter: 200\n"
     ]
    },
    {
     "name": "stderr",
     "output_type": "stream",
     "text": [
      "[Parallel(n_jobs=4)]: Done   4 out of   4 | elapsed:    1.0s finished\n",
      "[Parallel(n_jobs=4)]: Using backend LokyBackend with 4 concurrent workers.\n"
     ]
    },
    {
     "name": "stdout",
     "output_type": "stream",
     "text": [
      "iteration: 96 of max_iter: 200\n"
     ]
    },
    {
     "name": "stderr",
     "output_type": "stream",
     "text": [
      "[Parallel(n_jobs=4)]: Done   4 out of   4 | elapsed:    1.0s finished\n",
      "[Parallel(n_jobs=4)]: Using backend LokyBackend with 4 concurrent workers.\n"
     ]
    },
    {
     "name": "stdout",
     "output_type": "stream",
     "text": [
      "iteration: 97 of max_iter: 200\n"
     ]
    },
    {
     "name": "stderr",
     "output_type": "stream",
     "text": [
      "[Parallel(n_jobs=4)]: Done   4 out of   4 | elapsed:    1.0s finished\n",
      "[Parallel(n_jobs=4)]: Using backend LokyBackend with 4 concurrent workers.\n"
     ]
    },
    {
     "name": "stdout",
     "output_type": "stream",
     "text": [
      "iteration: 98 of max_iter: 200\n"
     ]
    },
    {
     "name": "stderr",
     "output_type": "stream",
     "text": [
      "[Parallel(n_jobs=4)]: Done   4 out of   4 | elapsed:    1.1s finished\n",
      "[Parallel(n_jobs=4)]: Using backend LokyBackend with 4 concurrent workers.\n"
     ]
    },
    {
     "name": "stdout",
     "output_type": "stream",
     "text": [
      "iteration: 99 of max_iter: 200\n"
     ]
    },
    {
     "name": "stderr",
     "output_type": "stream",
     "text": [
      "[Parallel(n_jobs=4)]: Done   4 out of   4 | elapsed:    1.0s finished\n",
      "[Parallel(n_jobs=4)]: Using backend LokyBackend with 4 concurrent workers.\n"
     ]
    },
    {
     "name": "stdout",
     "output_type": "stream",
     "text": [
      "iteration: 100 of max_iter: 200\n"
     ]
    },
    {
     "name": "stderr",
     "output_type": "stream",
     "text": [
      "[Parallel(n_jobs=4)]: Done   4 out of   4 | elapsed:    1.0s finished\n",
      "[Parallel(n_jobs=4)]: Using backend LokyBackend with 4 concurrent workers.\n"
     ]
    },
    {
     "name": "stdout",
     "output_type": "stream",
     "text": [
      "iteration: 101 of max_iter: 200\n"
     ]
    },
    {
     "name": "stderr",
     "output_type": "stream",
     "text": [
      "[Parallel(n_jobs=4)]: Done   4 out of   4 | elapsed:    1.1s finished\n",
      "[Parallel(n_jobs=4)]: Using backend LokyBackend with 4 concurrent workers.\n"
     ]
    },
    {
     "name": "stdout",
     "output_type": "stream",
     "text": [
      "iteration: 102 of max_iter: 200\n"
     ]
    },
    {
     "name": "stderr",
     "output_type": "stream",
     "text": [
      "[Parallel(n_jobs=4)]: Done   4 out of   4 | elapsed:    1.0s finished\n",
      "[Parallel(n_jobs=4)]: Using backend LokyBackend with 4 concurrent workers.\n"
     ]
    },
    {
     "name": "stdout",
     "output_type": "stream",
     "text": [
      "iteration: 103 of max_iter: 200\n"
     ]
    },
    {
     "name": "stderr",
     "output_type": "stream",
     "text": [
      "[Parallel(n_jobs=4)]: Done   4 out of   4 | elapsed:    1.1s finished\n",
      "[Parallel(n_jobs=4)]: Using backend LokyBackend with 4 concurrent workers.\n"
     ]
    },
    {
     "name": "stdout",
     "output_type": "stream",
     "text": [
      "iteration: 104 of max_iter: 200\n"
     ]
    },
    {
     "name": "stderr",
     "output_type": "stream",
     "text": [
      "[Parallel(n_jobs=4)]: Done   4 out of   4 | elapsed:    1.1s finished\n",
      "[Parallel(n_jobs=4)]: Using backend LokyBackend with 4 concurrent workers.\n"
     ]
    },
    {
     "name": "stdout",
     "output_type": "stream",
     "text": [
      "iteration: 105 of max_iter: 200\n"
     ]
    },
    {
     "name": "stderr",
     "output_type": "stream",
     "text": [
      "[Parallel(n_jobs=4)]: Done   4 out of   4 | elapsed:    1.0s finished\n",
      "[Parallel(n_jobs=4)]: Using backend LokyBackend with 4 concurrent workers.\n"
     ]
    },
    {
     "name": "stdout",
     "output_type": "stream",
     "text": [
      "iteration: 106 of max_iter: 200\n"
     ]
    },
    {
     "name": "stderr",
     "output_type": "stream",
     "text": [
      "[Parallel(n_jobs=4)]: Done   4 out of   4 | elapsed:    1.0s finished\n",
      "[Parallel(n_jobs=4)]: Using backend LokyBackend with 4 concurrent workers.\n"
     ]
    },
    {
     "name": "stdout",
     "output_type": "stream",
     "text": [
      "iteration: 107 of max_iter: 200\n"
     ]
    },
    {
     "name": "stderr",
     "output_type": "stream",
     "text": [
      "[Parallel(n_jobs=4)]: Done   4 out of   4 | elapsed:    1.0s finished\n",
      "[Parallel(n_jobs=4)]: Using backend LokyBackend with 4 concurrent workers.\n"
     ]
    },
    {
     "name": "stdout",
     "output_type": "stream",
     "text": [
      "iteration: 108 of max_iter: 200\n"
     ]
    },
    {
     "name": "stderr",
     "output_type": "stream",
     "text": [
      "[Parallel(n_jobs=4)]: Done   4 out of   4 | elapsed:    1.0s finished\n",
      "[Parallel(n_jobs=4)]: Using backend LokyBackend with 4 concurrent workers.\n"
     ]
    },
    {
     "name": "stdout",
     "output_type": "stream",
     "text": [
      "iteration: 109 of max_iter: 200\n"
     ]
    },
    {
     "name": "stderr",
     "output_type": "stream",
     "text": [
      "[Parallel(n_jobs=4)]: Done   4 out of   4 | elapsed:    1.2s finished\n",
      "[Parallel(n_jobs=4)]: Using backend LokyBackend with 4 concurrent workers.\n"
     ]
    },
    {
     "name": "stdout",
     "output_type": "stream",
     "text": [
      "iteration: 110 of max_iter: 200\n"
     ]
    },
    {
     "name": "stderr",
     "output_type": "stream",
     "text": [
      "[Parallel(n_jobs=4)]: Done   4 out of   4 | elapsed:    1.1s finished\n",
      "[Parallel(n_jobs=4)]: Using backend LokyBackend with 4 concurrent workers.\n"
     ]
    },
    {
     "name": "stdout",
     "output_type": "stream",
     "text": [
      "iteration: 111 of max_iter: 200\n"
     ]
    },
    {
     "name": "stderr",
     "output_type": "stream",
     "text": [
      "[Parallel(n_jobs=4)]: Done   4 out of   4 | elapsed:    1.0s finished\n",
      "[Parallel(n_jobs=4)]: Using backend LokyBackend with 4 concurrent workers.\n"
     ]
    },
    {
     "name": "stdout",
     "output_type": "stream",
     "text": [
      "iteration: 112 of max_iter: 200\n"
     ]
    },
    {
     "name": "stderr",
     "output_type": "stream",
     "text": [
      "[Parallel(n_jobs=4)]: Done   4 out of   4 | elapsed:    1.0s finished\n",
      "[Parallel(n_jobs=4)]: Using backend LokyBackend with 4 concurrent workers.\n"
     ]
    },
    {
     "name": "stdout",
     "output_type": "stream",
     "text": [
      "iteration: 113 of max_iter: 200\n"
     ]
    },
    {
     "name": "stderr",
     "output_type": "stream",
     "text": [
      "[Parallel(n_jobs=4)]: Done   4 out of   4 | elapsed:    1.0s finished\n",
      "[Parallel(n_jobs=4)]: Using backend LokyBackend with 4 concurrent workers.\n"
     ]
    },
    {
     "name": "stdout",
     "output_type": "stream",
     "text": [
      "iteration: 114 of max_iter: 200\n"
     ]
    },
    {
     "name": "stderr",
     "output_type": "stream",
     "text": [
      "[Parallel(n_jobs=4)]: Done   4 out of   4 | elapsed:    1.0s finished\n",
      "[Parallel(n_jobs=4)]: Using backend LokyBackend with 4 concurrent workers.\n"
     ]
    },
    {
     "name": "stdout",
     "output_type": "stream",
     "text": [
      "iteration: 115 of max_iter: 200\n"
     ]
    },
    {
     "name": "stderr",
     "output_type": "stream",
     "text": [
      "[Parallel(n_jobs=4)]: Done   4 out of   4 | elapsed:    1.0s finished\n",
      "[Parallel(n_jobs=4)]: Using backend LokyBackend with 4 concurrent workers.\n"
     ]
    },
    {
     "name": "stdout",
     "output_type": "stream",
     "text": [
      "iteration: 116 of max_iter: 200\n"
     ]
    },
    {
     "name": "stderr",
     "output_type": "stream",
     "text": [
      "[Parallel(n_jobs=4)]: Done   4 out of   4 | elapsed:    1.0s finished\n",
      "[Parallel(n_jobs=4)]: Using backend LokyBackend with 4 concurrent workers.\n"
     ]
    },
    {
     "name": "stdout",
     "output_type": "stream",
     "text": [
      "iteration: 117 of max_iter: 200\n"
     ]
    },
    {
     "name": "stderr",
     "output_type": "stream",
     "text": [
      "[Parallel(n_jobs=4)]: Done   4 out of   4 | elapsed:    1.0s finished\n",
      "[Parallel(n_jobs=4)]: Using backend LokyBackend with 4 concurrent workers.\n"
     ]
    },
    {
     "name": "stdout",
     "output_type": "stream",
     "text": [
      "iteration: 118 of max_iter: 200\n"
     ]
    },
    {
     "name": "stderr",
     "output_type": "stream",
     "text": [
      "[Parallel(n_jobs=4)]: Done   4 out of   4 | elapsed:    1.0s finished\n",
      "[Parallel(n_jobs=4)]: Using backend LokyBackend with 4 concurrent workers.\n"
     ]
    },
    {
     "name": "stdout",
     "output_type": "stream",
     "text": [
      "iteration: 119 of max_iter: 200\n"
     ]
    },
    {
     "name": "stderr",
     "output_type": "stream",
     "text": [
      "[Parallel(n_jobs=4)]: Done   4 out of   4 | elapsed:    1.4s finished\n",
      "[Parallel(n_jobs=4)]: Using backend LokyBackend with 4 concurrent workers.\n"
     ]
    },
    {
     "name": "stdout",
     "output_type": "stream",
     "text": [
      "iteration: 120 of max_iter: 200\n"
     ]
    },
    {
     "name": "stderr",
     "output_type": "stream",
     "text": [
      "[Parallel(n_jobs=4)]: Done   4 out of   4 | elapsed:    1.3s finished\n",
      "[Parallel(n_jobs=4)]: Using backend LokyBackend with 4 concurrent workers.\n"
     ]
    },
    {
     "name": "stdout",
     "output_type": "stream",
     "text": [
      "iteration: 121 of max_iter: 200\n"
     ]
    },
    {
     "name": "stderr",
     "output_type": "stream",
     "text": [
      "[Parallel(n_jobs=4)]: Done   4 out of   4 | elapsed:    1.0s finished\n",
      "[Parallel(n_jobs=4)]: Using backend LokyBackend with 4 concurrent workers.\n"
     ]
    },
    {
     "name": "stdout",
     "output_type": "stream",
     "text": [
      "iteration: 122 of max_iter: 200\n"
     ]
    },
    {
     "name": "stderr",
     "output_type": "stream",
     "text": [
      "[Parallel(n_jobs=4)]: Done   4 out of   4 | elapsed:    1.0s finished\n",
      "[Parallel(n_jobs=4)]: Using backend LokyBackend with 4 concurrent workers.\n"
     ]
    },
    {
     "name": "stdout",
     "output_type": "stream",
     "text": [
      "iteration: 123 of max_iter: 200\n"
     ]
    },
    {
     "name": "stderr",
     "output_type": "stream",
     "text": [
      "[Parallel(n_jobs=4)]: Done   4 out of   4 | elapsed:    1.1s finished\n",
      "[Parallel(n_jobs=4)]: Using backend LokyBackend with 4 concurrent workers.\n"
     ]
    },
    {
     "name": "stdout",
     "output_type": "stream",
     "text": [
      "iteration: 124 of max_iter: 200\n"
     ]
    },
    {
     "name": "stderr",
     "output_type": "stream",
     "text": [
      "[Parallel(n_jobs=4)]: Done   4 out of   4 | elapsed:    1.0s finished\n",
      "[Parallel(n_jobs=4)]: Using backend LokyBackend with 4 concurrent workers.\n"
     ]
    },
    {
     "name": "stdout",
     "output_type": "stream",
     "text": [
      "iteration: 125 of max_iter: 200\n"
     ]
    },
    {
     "name": "stderr",
     "output_type": "stream",
     "text": [
      "[Parallel(n_jobs=4)]: Done   4 out of   4 | elapsed:    1.0s finished\n",
      "[Parallel(n_jobs=4)]: Using backend LokyBackend with 4 concurrent workers.\n"
     ]
    },
    {
     "name": "stdout",
     "output_type": "stream",
     "text": [
      "iteration: 126 of max_iter: 200\n"
     ]
    },
    {
     "name": "stderr",
     "output_type": "stream",
     "text": [
      "[Parallel(n_jobs=4)]: Done   4 out of   4 | elapsed:    1.0s finished\n",
      "[Parallel(n_jobs=4)]: Using backend LokyBackend with 4 concurrent workers.\n"
     ]
    },
    {
     "name": "stdout",
     "output_type": "stream",
     "text": [
      "iteration: 127 of max_iter: 200\n"
     ]
    },
    {
     "name": "stderr",
     "output_type": "stream",
     "text": [
      "[Parallel(n_jobs=4)]: Done   4 out of   4 | elapsed:    1.4s finished\n",
      "[Parallel(n_jobs=4)]: Using backend LokyBackend with 4 concurrent workers.\n"
     ]
    },
    {
     "name": "stdout",
     "output_type": "stream",
     "text": [
      "iteration: 128 of max_iter: 200\n"
     ]
    },
    {
     "name": "stderr",
     "output_type": "stream",
     "text": [
      "[Parallel(n_jobs=4)]: Done   4 out of   4 | elapsed:    1.5s finished\n",
      "[Parallel(n_jobs=4)]: Using backend LokyBackend with 4 concurrent workers.\n"
     ]
    },
    {
     "name": "stdout",
     "output_type": "stream",
     "text": [
      "iteration: 129 of max_iter: 200\n"
     ]
    },
    {
     "name": "stderr",
     "output_type": "stream",
     "text": [
      "[Parallel(n_jobs=4)]: Done   4 out of   4 | elapsed:    1.1s finished\n",
      "[Parallel(n_jobs=4)]: Using backend LokyBackend with 4 concurrent workers.\n"
     ]
    },
    {
     "name": "stdout",
     "output_type": "stream",
     "text": [
      "iteration: 130 of max_iter: 200\n"
     ]
    },
    {
     "name": "stderr",
     "output_type": "stream",
     "text": [
      "[Parallel(n_jobs=4)]: Done   4 out of   4 | elapsed:    1.0s finished\n",
      "[Parallel(n_jobs=4)]: Using backend LokyBackend with 4 concurrent workers.\n"
     ]
    },
    {
     "name": "stdout",
     "output_type": "stream",
     "text": [
      "iteration: 131 of max_iter: 200\n"
     ]
    },
    {
     "name": "stderr",
     "output_type": "stream",
     "text": [
      "[Parallel(n_jobs=4)]: Done   4 out of   4 | elapsed:    1.0s finished\n",
      "[Parallel(n_jobs=4)]: Using backend LokyBackend with 4 concurrent workers.\n"
     ]
    },
    {
     "name": "stdout",
     "output_type": "stream",
     "text": [
      "iteration: 132 of max_iter: 200\n"
     ]
    },
    {
     "name": "stderr",
     "output_type": "stream",
     "text": [
      "[Parallel(n_jobs=4)]: Done   4 out of   4 | elapsed:    1.0s finished\n",
      "[Parallel(n_jobs=4)]: Using backend LokyBackend with 4 concurrent workers.\n"
     ]
    },
    {
     "name": "stdout",
     "output_type": "stream",
     "text": [
      "iteration: 133 of max_iter: 200\n"
     ]
    },
    {
     "name": "stderr",
     "output_type": "stream",
     "text": [
      "[Parallel(n_jobs=4)]: Done   4 out of   4 | elapsed:    1.0s finished\n",
      "[Parallel(n_jobs=4)]: Using backend LokyBackend with 4 concurrent workers.\n"
     ]
    },
    {
     "name": "stdout",
     "output_type": "stream",
     "text": [
      "iteration: 134 of max_iter: 200\n"
     ]
    },
    {
     "name": "stderr",
     "output_type": "stream",
     "text": [
      "[Parallel(n_jobs=4)]: Done   4 out of   4 | elapsed:    1.2s finished\n",
      "[Parallel(n_jobs=4)]: Using backend LokyBackend with 4 concurrent workers.\n"
     ]
    },
    {
     "name": "stdout",
     "output_type": "stream",
     "text": [
      "iteration: 135 of max_iter: 200\n"
     ]
    },
    {
     "name": "stderr",
     "output_type": "stream",
     "text": [
      "[Parallel(n_jobs=4)]: Done   4 out of   4 | elapsed:    1.0s finished\n",
      "[Parallel(n_jobs=4)]: Using backend LokyBackend with 4 concurrent workers.\n"
     ]
    },
    {
     "name": "stdout",
     "output_type": "stream",
     "text": [
      "iteration: 136 of max_iter: 200\n"
     ]
    },
    {
     "name": "stderr",
     "output_type": "stream",
     "text": [
      "[Parallel(n_jobs=4)]: Done   4 out of   4 | elapsed:    1.0s finished\n",
      "[Parallel(n_jobs=4)]: Using backend LokyBackend with 4 concurrent workers.\n"
     ]
    },
    {
     "name": "stdout",
     "output_type": "stream",
     "text": [
      "iteration: 137 of max_iter: 200\n"
     ]
    },
    {
     "name": "stderr",
     "output_type": "stream",
     "text": [
      "[Parallel(n_jobs=4)]: Done   4 out of   4 | elapsed:    1.0s finished\n",
      "[Parallel(n_jobs=4)]: Using backend LokyBackend with 4 concurrent workers.\n"
     ]
    },
    {
     "name": "stdout",
     "output_type": "stream",
     "text": [
      "iteration: 138 of max_iter: 200\n"
     ]
    },
    {
     "name": "stderr",
     "output_type": "stream",
     "text": [
      "[Parallel(n_jobs=4)]: Done   4 out of   4 | elapsed:    1.0s finished\n",
      "[Parallel(n_jobs=4)]: Using backend LokyBackend with 4 concurrent workers.\n"
     ]
    },
    {
     "name": "stdout",
     "output_type": "stream",
     "text": [
      "iteration: 139 of max_iter: 200\n"
     ]
    },
    {
     "name": "stderr",
     "output_type": "stream",
     "text": [
      "[Parallel(n_jobs=4)]: Done   4 out of   4 | elapsed:    1.0s finished\n",
      "[Parallel(n_jobs=4)]: Using backend LokyBackend with 4 concurrent workers.\n"
     ]
    },
    {
     "name": "stdout",
     "output_type": "stream",
     "text": [
      "iteration: 140 of max_iter: 200\n"
     ]
    },
    {
     "name": "stderr",
     "output_type": "stream",
     "text": [
      "[Parallel(n_jobs=4)]: Done   4 out of   4 | elapsed:    1.0s finished\n",
      "[Parallel(n_jobs=4)]: Using backend LokyBackend with 4 concurrent workers.\n"
     ]
    },
    {
     "name": "stdout",
     "output_type": "stream",
     "text": [
      "iteration: 141 of max_iter: 200\n"
     ]
    },
    {
     "name": "stderr",
     "output_type": "stream",
     "text": [
      "[Parallel(n_jobs=4)]: Done   4 out of   4 | elapsed:    1.1s finished\n",
      "[Parallel(n_jobs=4)]: Using backend LokyBackend with 4 concurrent workers.\n"
     ]
    },
    {
     "name": "stdout",
     "output_type": "stream",
     "text": [
      "iteration: 142 of max_iter: 200\n"
     ]
    },
    {
     "name": "stderr",
     "output_type": "stream",
     "text": [
      "[Parallel(n_jobs=4)]: Done   4 out of   4 | elapsed:    1.2s finished\n",
      "[Parallel(n_jobs=4)]: Using backend LokyBackend with 4 concurrent workers.\n"
     ]
    },
    {
     "name": "stdout",
     "output_type": "stream",
     "text": [
      "iteration: 143 of max_iter: 200\n"
     ]
    },
    {
     "name": "stderr",
     "output_type": "stream",
     "text": [
      "[Parallel(n_jobs=4)]: Done   4 out of   4 | elapsed:    1.0s finished\n",
      "[Parallel(n_jobs=4)]: Using backend LokyBackend with 4 concurrent workers.\n"
     ]
    },
    {
     "name": "stdout",
     "output_type": "stream",
     "text": [
      "iteration: 144 of max_iter: 200\n"
     ]
    },
    {
     "name": "stderr",
     "output_type": "stream",
     "text": [
      "[Parallel(n_jobs=4)]: Done   4 out of   4 | elapsed:    1.1s finished\n",
      "[Parallel(n_jobs=4)]: Using backend LokyBackend with 4 concurrent workers.\n"
     ]
    },
    {
     "name": "stdout",
     "output_type": "stream",
     "text": [
      "iteration: 145 of max_iter: 200\n"
     ]
    },
    {
     "name": "stderr",
     "output_type": "stream",
     "text": [
      "[Parallel(n_jobs=4)]: Done   4 out of   4 | elapsed:    1.0s finished\n",
      "[Parallel(n_jobs=4)]: Using backend LokyBackend with 4 concurrent workers.\n"
     ]
    },
    {
     "name": "stdout",
     "output_type": "stream",
     "text": [
      "iteration: 146 of max_iter: 200\n"
     ]
    },
    {
     "name": "stderr",
     "output_type": "stream",
     "text": [
      "[Parallel(n_jobs=4)]: Done   4 out of   4 | elapsed:    1.0s finished\n",
      "[Parallel(n_jobs=4)]: Using backend LokyBackend with 4 concurrent workers.\n"
     ]
    },
    {
     "name": "stdout",
     "output_type": "stream",
     "text": [
      "iteration: 147 of max_iter: 200\n"
     ]
    },
    {
     "name": "stderr",
     "output_type": "stream",
     "text": [
      "[Parallel(n_jobs=4)]: Done   4 out of   4 | elapsed:    1.0s finished\n",
      "[Parallel(n_jobs=4)]: Using backend LokyBackend with 4 concurrent workers.\n"
     ]
    },
    {
     "name": "stdout",
     "output_type": "stream",
     "text": [
      "iteration: 148 of max_iter: 200\n"
     ]
    },
    {
     "name": "stderr",
     "output_type": "stream",
     "text": [
      "[Parallel(n_jobs=4)]: Done   4 out of   4 | elapsed:    1.0s finished\n",
      "[Parallel(n_jobs=4)]: Using backend LokyBackend with 4 concurrent workers.\n"
     ]
    },
    {
     "name": "stdout",
     "output_type": "stream",
     "text": [
      "iteration: 149 of max_iter: 200\n"
     ]
    },
    {
     "name": "stderr",
     "output_type": "stream",
     "text": [
      "[Parallel(n_jobs=4)]: Done   4 out of   4 | elapsed:    1.0s finished\n",
      "[Parallel(n_jobs=4)]: Using backend LokyBackend with 4 concurrent workers.\n"
     ]
    },
    {
     "name": "stdout",
     "output_type": "stream",
     "text": [
      "iteration: 150 of max_iter: 200\n"
     ]
    },
    {
     "name": "stderr",
     "output_type": "stream",
     "text": [
      "[Parallel(n_jobs=4)]: Done   4 out of   4 | elapsed:    1.0s finished\n",
      "[Parallel(n_jobs=4)]: Using backend LokyBackend with 4 concurrent workers.\n"
     ]
    },
    {
     "name": "stdout",
     "output_type": "stream",
     "text": [
      "iteration: 151 of max_iter: 200\n"
     ]
    },
    {
     "name": "stderr",
     "output_type": "stream",
     "text": [
      "[Parallel(n_jobs=4)]: Done   4 out of   4 | elapsed:    1.0s finished\n",
      "[Parallel(n_jobs=4)]: Using backend LokyBackend with 4 concurrent workers.\n"
     ]
    },
    {
     "name": "stdout",
     "output_type": "stream",
     "text": [
      "iteration: 152 of max_iter: 200\n"
     ]
    },
    {
     "name": "stderr",
     "output_type": "stream",
     "text": [
      "[Parallel(n_jobs=4)]: Done   4 out of   4 | elapsed:    1.0s finished\n",
      "[Parallel(n_jobs=4)]: Using backend LokyBackend with 4 concurrent workers.\n"
     ]
    },
    {
     "name": "stdout",
     "output_type": "stream",
     "text": [
      "iteration: 153 of max_iter: 200\n"
     ]
    },
    {
     "name": "stderr",
     "output_type": "stream",
     "text": [
      "[Parallel(n_jobs=4)]: Done   4 out of   4 | elapsed:    1.1s finished\n",
      "[Parallel(n_jobs=4)]: Using backend LokyBackend with 4 concurrent workers.\n"
     ]
    },
    {
     "name": "stdout",
     "output_type": "stream",
     "text": [
      "iteration: 154 of max_iter: 200\n"
     ]
    },
    {
     "name": "stderr",
     "output_type": "stream",
     "text": [
      "[Parallel(n_jobs=4)]: Done   4 out of   4 | elapsed:    1.0s finished\n",
      "[Parallel(n_jobs=4)]: Using backend LokyBackend with 4 concurrent workers.\n"
     ]
    },
    {
     "name": "stdout",
     "output_type": "stream",
     "text": [
      "iteration: 155 of max_iter: 200\n"
     ]
    },
    {
     "name": "stderr",
     "output_type": "stream",
     "text": [
      "[Parallel(n_jobs=4)]: Done   4 out of   4 | elapsed:    1.0s finished\n",
      "[Parallel(n_jobs=4)]: Using backend LokyBackend with 4 concurrent workers.\n"
     ]
    },
    {
     "name": "stdout",
     "output_type": "stream",
     "text": [
      "iteration: 156 of max_iter: 200\n"
     ]
    },
    {
     "name": "stderr",
     "output_type": "stream",
     "text": [
      "[Parallel(n_jobs=4)]: Done   4 out of   4 | elapsed:    1.0s finished\n",
      "[Parallel(n_jobs=4)]: Using backend LokyBackend with 4 concurrent workers.\n"
     ]
    },
    {
     "name": "stdout",
     "output_type": "stream",
     "text": [
      "iteration: 157 of max_iter: 200\n"
     ]
    },
    {
     "name": "stderr",
     "output_type": "stream",
     "text": [
      "[Parallel(n_jobs=4)]: Done   4 out of   4 | elapsed:    1.1s finished\n",
      "[Parallel(n_jobs=4)]: Using backend LokyBackend with 4 concurrent workers.\n"
     ]
    },
    {
     "name": "stdout",
     "output_type": "stream",
     "text": [
      "iteration: 158 of max_iter: 200\n"
     ]
    },
    {
     "name": "stderr",
     "output_type": "stream",
     "text": [
      "[Parallel(n_jobs=4)]: Done   4 out of   4 | elapsed:    1.0s finished\n",
      "[Parallel(n_jobs=4)]: Using backend LokyBackend with 4 concurrent workers.\n"
     ]
    },
    {
     "name": "stdout",
     "output_type": "stream",
     "text": [
      "iteration: 159 of max_iter: 200\n"
     ]
    },
    {
     "name": "stderr",
     "output_type": "stream",
     "text": [
      "[Parallel(n_jobs=4)]: Done   4 out of   4 | elapsed:    1.1s finished\n",
      "[Parallel(n_jobs=4)]: Using backend LokyBackend with 4 concurrent workers.\n"
     ]
    },
    {
     "name": "stdout",
     "output_type": "stream",
     "text": [
      "iteration: 160 of max_iter: 200\n"
     ]
    },
    {
     "name": "stderr",
     "output_type": "stream",
     "text": [
      "[Parallel(n_jobs=4)]: Done   4 out of   4 | elapsed:    1.0s finished\n",
      "[Parallel(n_jobs=4)]: Using backend LokyBackend with 4 concurrent workers.\n"
     ]
    },
    {
     "name": "stdout",
     "output_type": "stream",
     "text": [
      "iteration: 161 of max_iter: 200\n"
     ]
    },
    {
     "name": "stderr",
     "output_type": "stream",
     "text": [
      "[Parallel(n_jobs=4)]: Done   4 out of   4 | elapsed:    1.0s finished\n",
      "[Parallel(n_jobs=4)]: Using backend LokyBackend with 4 concurrent workers.\n"
     ]
    },
    {
     "name": "stdout",
     "output_type": "stream",
     "text": [
      "iteration: 162 of max_iter: 200\n"
     ]
    },
    {
     "name": "stderr",
     "output_type": "stream",
     "text": [
      "[Parallel(n_jobs=4)]: Done   4 out of   4 | elapsed:    1.0s finished\n",
      "[Parallel(n_jobs=4)]: Using backend LokyBackend with 4 concurrent workers.\n"
     ]
    },
    {
     "name": "stdout",
     "output_type": "stream",
     "text": [
      "iteration: 163 of max_iter: 200\n"
     ]
    },
    {
     "name": "stderr",
     "output_type": "stream",
     "text": [
      "[Parallel(n_jobs=4)]: Done   4 out of   4 | elapsed:    1.1s finished\n",
      "[Parallel(n_jobs=4)]: Using backend LokyBackend with 4 concurrent workers.\n"
     ]
    },
    {
     "name": "stdout",
     "output_type": "stream",
     "text": [
      "iteration: 164 of max_iter: 200\n"
     ]
    },
    {
     "name": "stderr",
     "output_type": "stream",
     "text": [
      "[Parallel(n_jobs=4)]: Done   4 out of   4 | elapsed:    1.0s finished\n",
      "[Parallel(n_jobs=4)]: Using backend LokyBackend with 4 concurrent workers.\n"
     ]
    },
    {
     "name": "stdout",
     "output_type": "stream",
     "text": [
      "iteration: 165 of max_iter: 200\n"
     ]
    },
    {
     "name": "stderr",
     "output_type": "stream",
     "text": [
      "[Parallel(n_jobs=4)]: Done   4 out of   4 | elapsed:    1.0s finished\n",
      "[Parallel(n_jobs=4)]: Using backend LokyBackend with 4 concurrent workers.\n"
     ]
    },
    {
     "name": "stdout",
     "output_type": "stream",
     "text": [
      "iteration: 166 of max_iter: 200\n"
     ]
    },
    {
     "name": "stderr",
     "output_type": "stream",
     "text": [
      "[Parallel(n_jobs=4)]: Done   4 out of   4 | elapsed:    1.0s finished\n",
      "[Parallel(n_jobs=4)]: Using backend LokyBackend with 4 concurrent workers.\n"
     ]
    },
    {
     "name": "stdout",
     "output_type": "stream",
     "text": [
      "iteration: 167 of max_iter: 200\n"
     ]
    },
    {
     "name": "stderr",
     "output_type": "stream",
     "text": [
      "[Parallel(n_jobs=4)]: Done   4 out of   4 | elapsed:    1.0s finished\n",
      "[Parallel(n_jobs=4)]: Using backend LokyBackend with 4 concurrent workers.\n"
     ]
    },
    {
     "name": "stdout",
     "output_type": "stream",
     "text": [
      "iteration: 168 of max_iter: 200\n"
     ]
    },
    {
     "name": "stderr",
     "output_type": "stream",
     "text": [
      "[Parallel(n_jobs=4)]: Done   4 out of   4 | elapsed:    1.0s finished\n",
      "[Parallel(n_jobs=4)]: Using backend LokyBackend with 4 concurrent workers.\n"
     ]
    },
    {
     "name": "stdout",
     "output_type": "stream",
     "text": [
      "iteration: 169 of max_iter: 200\n"
     ]
    },
    {
     "name": "stderr",
     "output_type": "stream",
     "text": [
      "[Parallel(n_jobs=4)]: Done   4 out of   4 | elapsed:    1.0s finished\n",
      "[Parallel(n_jobs=4)]: Using backend LokyBackend with 4 concurrent workers.\n"
     ]
    },
    {
     "name": "stdout",
     "output_type": "stream",
     "text": [
      "iteration: 170 of max_iter: 200\n"
     ]
    },
    {
     "name": "stderr",
     "output_type": "stream",
     "text": [
      "[Parallel(n_jobs=4)]: Done   4 out of   4 | elapsed:    1.0s finished\n",
      "[Parallel(n_jobs=4)]: Using backend LokyBackend with 4 concurrent workers.\n"
     ]
    },
    {
     "name": "stdout",
     "output_type": "stream",
     "text": [
      "iteration: 171 of max_iter: 200\n"
     ]
    },
    {
     "name": "stderr",
     "output_type": "stream",
     "text": [
      "[Parallel(n_jobs=4)]: Done   4 out of   4 | elapsed:    1.2s finished\n",
      "[Parallel(n_jobs=4)]: Using backend LokyBackend with 4 concurrent workers.\n"
     ]
    },
    {
     "name": "stdout",
     "output_type": "stream",
     "text": [
      "iteration: 172 of max_iter: 200\n"
     ]
    },
    {
     "name": "stderr",
     "output_type": "stream",
     "text": [
      "[Parallel(n_jobs=4)]: Done   4 out of   4 | elapsed:    1.0s finished\n",
      "[Parallel(n_jobs=4)]: Using backend LokyBackend with 4 concurrent workers.\n"
     ]
    },
    {
     "name": "stdout",
     "output_type": "stream",
     "text": [
      "iteration: 173 of max_iter: 200\n"
     ]
    },
    {
     "name": "stderr",
     "output_type": "stream",
     "text": [
      "[Parallel(n_jobs=4)]: Done   4 out of   4 | elapsed:    1.0s finished\n",
      "[Parallel(n_jobs=4)]: Using backend LokyBackend with 4 concurrent workers.\n"
     ]
    },
    {
     "name": "stdout",
     "output_type": "stream",
     "text": [
      "iteration: 174 of max_iter: 200\n"
     ]
    },
    {
     "name": "stderr",
     "output_type": "stream",
     "text": [
      "[Parallel(n_jobs=4)]: Done   4 out of   4 | elapsed:    1.0s finished\n",
      "[Parallel(n_jobs=4)]: Using backend LokyBackend with 4 concurrent workers.\n"
     ]
    },
    {
     "name": "stdout",
     "output_type": "stream",
     "text": [
      "iteration: 175 of max_iter: 200\n"
     ]
    },
    {
     "name": "stderr",
     "output_type": "stream",
     "text": [
      "[Parallel(n_jobs=4)]: Done   4 out of   4 | elapsed:    1.0s finished\n",
      "[Parallel(n_jobs=4)]: Using backend LokyBackend with 4 concurrent workers.\n"
     ]
    },
    {
     "name": "stdout",
     "output_type": "stream",
     "text": [
      "iteration: 176 of max_iter: 200\n"
     ]
    },
    {
     "name": "stderr",
     "output_type": "stream",
     "text": [
      "[Parallel(n_jobs=4)]: Done   4 out of   4 | elapsed:    1.0s finished\n",
      "[Parallel(n_jobs=4)]: Using backend LokyBackend with 4 concurrent workers.\n"
     ]
    },
    {
     "name": "stdout",
     "output_type": "stream",
     "text": [
      "iteration: 177 of max_iter: 200\n"
     ]
    },
    {
     "name": "stderr",
     "output_type": "stream",
     "text": [
      "[Parallel(n_jobs=4)]: Done   4 out of   4 | elapsed:    1.0s finished\n",
      "[Parallel(n_jobs=4)]: Using backend LokyBackend with 4 concurrent workers.\n"
     ]
    },
    {
     "name": "stdout",
     "output_type": "stream",
     "text": [
      "iteration: 178 of max_iter: 200\n"
     ]
    },
    {
     "name": "stderr",
     "output_type": "stream",
     "text": [
      "[Parallel(n_jobs=4)]: Done   4 out of   4 | elapsed:    1.0s finished\n",
      "[Parallel(n_jobs=4)]: Using backend LokyBackend with 4 concurrent workers.\n"
     ]
    },
    {
     "name": "stdout",
     "output_type": "stream",
     "text": [
      "iteration: 179 of max_iter: 200\n"
     ]
    },
    {
     "name": "stderr",
     "output_type": "stream",
     "text": [
      "[Parallel(n_jobs=4)]: Done   4 out of   4 | elapsed:    1.0s finished\n",
      "[Parallel(n_jobs=4)]: Using backend LokyBackend with 4 concurrent workers.\n"
     ]
    },
    {
     "name": "stdout",
     "output_type": "stream",
     "text": [
      "iteration: 180 of max_iter: 200\n"
     ]
    },
    {
     "name": "stderr",
     "output_type": "stream",
     "text": [
      "[Parallel(n_jobs=4)]: Done   4 out of   4 | elapsed:    1.0s finished\n",
      "[Parallel(n_jobs=4)]: Using backend LokyBackend with 4 concurrent workers.\n"
     ]
    },
    {
     "name": "stdout",
     "output_type": "stream",
     "text": [
      "iteration: 181 of max_iter: 200\n"
     ]
    },
    {
     "name": "stderr",
     "output_type": "stream",
     "text": [
      "[Parallel(n_jobs=4)]: Done   4 out of   4 | elapsed:    1.0s finished\n",
      "[Parallel(n_jobs=4)]: Using backend LokyBackend with 4 concurrent workers.\n"
     ]
    },
    {
     "name": "stdout",
     "output_type": "stream",
     "text": [
      "iteration: 182 of max_iter: 200\n"
     ]
    },
    {
     "name": "stderr",
     "output_type": "stream",
     "text": [
      "[Parallel(n_jobs=4)]: Done   4 out of   4 | elapsed:    1.0s finished\n",
      "[Parallel(n_jobs=4)]: Using backend LokyBackend with 4 concurrent workers.\n"
     ]
    },
    {
     "name": "stdout",
     "output_type": "stream",
     "text": [
      "iteration: 183 of max_iter: 200\n"
     ]
    },
    {
     "name": "stderr",
     "output_type": "stream",
     "text": [
      "[Parallel(n_jobs=4)]: Done   4 out of   4 | elapsed:    1.0s finished\n",
      "[Parallel(n_jobs=4)]: Using backend LokyBackend with 4 concurrent workers.\n"
     ]
    },
    {
     "name": "stdout",
     "output_type": "stream",
     "text": [
      "iteration: 184 of max_iter: 200\n"
     ]
    },
    {
     "name": "stderr",
     "output_type": "stream",
     "text": [
      "[Parallel(n_jobs=4)]: Done   4 out of   4 | elapsed:    1.0s finished\n",
      "[Parallel(n_jobs=4)]: Using backend LokyBackend with 4 concurrent workers.\n"
     ]
    },
    {
     "name": "stdout",
     "output_type": "stream",
     "text": [
      "iteration: 185 of max_iter: 200\n"
     ]
    },
    {
     "name": "stderr",
     "output_type": "stream",
     "text": [
      "[Parallel(n_jobs=4)]: Done   4 out of   4 | elapsed:    1.0s finished\n",
      "[Parallel(n_jobs=4)]: Using backend LokyBackend with 4 concurrent workers.\n"
     ]
    },
    {
     "name": "stdout",
     "output_type": "stream",
     "text": [
      "iteration: 186 of max_iter: 200\n"
     ]
    },
    {
     "name": "stderr",
     "output_type": "stream",
     "text": [
      "[Parallel(n_jobs=4)]: Done   4 out of   4 | elapsed:    1.0s finished\n",
      "[Parallel(n_jobs=4)]: Using backend LokyBackend with 4 concurrent workers.\n"
     ]
    },
    {
     "name": "stdout",
     "output_type": "stream",
     "text": [
      "iteration: 187 of max_iter: 200\n"
     ]
    },
    {
     "name": "stderr",
     "output_type": "stream",
     "text": [
      "[Parallel(n_jobs=4)]: Done   4 out of   4 | elapsed:    1.0s finished\n",
      "[Parallel(n_jobs=4)]: Using backend LokyBackend with 4 concurrent workers.\n"
     ]
    },
    {
     "name": "stdout",
     "output_type": "stream",
     "text": [
      "iteration: 188 of max_iter: 200\n"
     ]
    },
    {
     "name": "stderr",
     "output_type": "stream",
     "text": [
      "[Parallel(n_jobs=4)]: Done   4 out of   4 | elapsed:    1.1s finished\n",
      "[Parallel(n_jobs=4)]: Using backend LokyBackend with 4 concurrent workers.\n"
     ]
    },
    {
     "name": "stdout",
     "output_type": "stream",
     "text": [
      "iteration: 189 of max_iter: 200\n"
     ]
    },
    {
     "name": "stderr",
     "output_type": "stream",
     "text": [
      "[Parallel(n_jobs=4)]: Done   4 out of   4 | elapsed:    1.0s finished\n",
      "[Parallel(n_jobs=4)]: Using backend LokyBackend with 4 concurrent workers.\n"
     ]
    },
    {
     "name": "stdout",
     "output_type": "stream",
     "text": [
      "iteration: 190 of max_iter: 200\n"
     ]
    },
    {
     "name": "stderr",
     "output_type": "stream",
     "text": [
      "[Parallel(n_jobs=4)]: Done   4 out of   4 | elapsed:    1.1s finished\n",
      "[Parallel(n_jobs=4)]: Using backend LokyBackend with 4 concurrent workers.\n"
     ]
    },
    {
     "name": "stdout",
     "output_type": "stream",
     "text": [
      "iteration: 191 of max_iter: 200\n"
     ]
    },
    {
     "name": "stderr",
     "output_type": "stream",
     "text": [
      "[Parallel(n_jobs=4)]: Done   4 out of   4 | elapsed:    1.0s finished\n",
      "[Parallel(n_jobs=4)]: Using backend LokyBackend with 4 concurrent workers.\n"
     ]
    },
    {
     "name": "stdout",
     "output_type": "stream",
     "text": [
      "iteration: 192 of max_iter: 200\n"
     ]
    },
    {
     "name": "stderr",
     "output_type": "stream",
     "text": [
      "[Parallel(n_jobs=4)]: Done   4 out of   4 | elapsed:    1.0s finished\n",
      "[Parallel(n_jobs=4)]: Using backend LokyBackend with 4 concurrent workers.\n"
     ]
    },
    {
     "name": "stdout",
     "output_type": "stream",
     "text": [
      "iteration: 193 of max_iter: 200\n"
     ]
    },
    {
     "name": "stderr",
     "output_type": "stream",
     "text": [
      "[Parallel(n_jobs=4)]: Done   4 out of   4 | elapsed:    1.6s finished\n",
      "[Parallel(n_jobs=4)]: Using backend LokyBackend with 4 concurrent workers.\n"
     ]
    },
    {
     "name": "stdout",
     "output_type": "stream",
     "text": [
      "iteration: 194 of max_iter: 200\n"
     ]
    },
    {
     "name": "stderr",
     "output_type": "stream",
     "text": [
      "[Parallel(n_jobs=4)]: Done   4 out of   4 | elapsed:    1.0s finished\n",
      "[Parallel(n_jobs=4)]: Using backend LokyBackend with 4 concurrent workers.\n"
     ]
    },
    {
     "name": "stdout",
     "output_type": "stream",
     "text": [
      "iteration: 195 of max_iter: 200\n"
     ]
    },
    {
     "name": "stderr",
     "output_type": "stream",
     "text": [
      "[Parallel(n_jobs=4)]: Done   4 out of   4 | elapsed:    1.0s finished\n",
      "[Parallel(n_jobs=4)]: Using backend LokyBackend with 4 concurrent workers.\n"
     ]
    },
    {
     "name": "stdout",
     "output_type": "stream",
     "text": [
      "iteration: 196 of max_iter: 200\n"
     ]
    },
    {
     "name": "stderr",
     "output_type": "stream",
     "text": [
      "[Parallel(n_jobs=4)]: Done   4 out of   4 | elapsed:    1.0s finished\n",
      "[Parallel(n_jobs=4)]: Using backend LokyBackend with 4 concurrent workers.\n"
     ]
    },
    {
     "name": "stdout",
     "output_type": "stream",
     "text": [
      "iteration: 197 of max_iter: 200\n"
     ]
    },
    {
     "name": "stderr",
     "output_type": "stream",
     "text": [
      "[Parallel(n_jobs=4)]: Done   4 out of   4 | elapsed:    1.0s finished\n",
      "[Parallel(n_jobs=4)]: Using backend LokyBackend with 4 concurrent workers.\n"
     ]
    },
    {
     "name": "stdout",
     "output_type": "stream",
     "text": [
      "iteration: 198 of max_iter: 200\n"
     ]
    },
    {
     "name": "stderr",
     "output_type": "stream",
     "text": [
      "[Parallel(n_jobs=4)]: Done   4 out of   4 | elapsed:    1.1s finished\n",
      "[Parallel(n_jobs=4)]: Using backend LokyBackend with 4 concurrent workers.\n"
     ]
    },
    {
     "name": "stdout",
     "output_type": "stream",
     "text": [
      "iteration: 199 of max_iter: 200\n"
     ]
    },
    {
     "name": "stderr",
     "output_type": "stream",
     "text": [
      "[Parallel(n_jobs=4)]: Done   4 out of   4 | elapsed:    1.0s finished\n"
     ]
    },
    {
     "name": "stdout",
     "output_type": "stream",
     "text": [
      "iteration: 200 of max_iter: 200\n"
     ]
    },
    {
     "name": "stderr",
     "output_type": "stream",
     "text": [
      "[Parallel(n_jobs=4)]: Using backend LokyBackend with 4 concurrent workers.\n",
      "[Parallel(n_jobs=4)]: Done   4 out of   4 | elapsed:    0.8s finished\n"
     ]
    },
    {
     "data": {
      "text/plain": "LatentDirichletAllocation(learning_decay=0.6, learning_offset=30, max_iter=200,\n                          mean_change_tol=0.01, n_components=5, n_jobs=-1,\n                          verbose=3)",
      "text/html": "<style>#sk-container-id-7 {color: black;background-color: white;}#sk-container-id-7 pre{padding: 0;}#sk-container-id-7 div.sk-toggleable {background-color: white;}#sk-container-id-7 label.sk-toggleable__label {cursor: pointer;display: block;width: 100%;margin-bottom: 0;padding: 0.3em;box-sizing: border-box;text-align: center;}#sk-container-id-7 label.sk-toggleable__label-arrow:before {content: \"▸\";float: left;margin-right: 0.25em;color: #696969;}#sk-container-id-7 label.sk-toggleable__label-arrow:hover:before {color: black;}#sk-container-id-7 div.sk-estimator:hover label.sk-toggleable__label-arrow:before {color: black;}#sk-container-id-7 div.sk-toggleable__content {max-height: 0;max-width: 0;overflow: hidden;text-align: left;background-color: #f0f8ff;}#sk-container-id-7 div.sk-toggleable__content pre {margin: 0.2em;color: black;border-radius: 0.25em;background-color: #f0f8ff;}#sk-container-id-7 input.sk-toggleable__control:checked~div.sk-toggleable__content {max-height: 200px;max-width: 100%;overflow: auto;}#sk-container-id-7 input.sk-toggleable__control:checked~label.sk-toggleable__label-arrow:before {content: \"▾\";}#sk-container-id-7 div.sk-estimator input.sk-toggleable__control:checked~label.sk-toggleable__label {background-color: #d4ebff;}#sk-container-id-7 div.sk-label input.sk-toggleable__control:checked~label.sk-toggleable__label {background-color: #d4ebff;}#sk-container-id-7 input.sk-hidden--visually {border: 0;clip: rect(1px 1px 1px 1px);clip: rect(1px, 1px, 1px, 1px);height: 1px;margin: -1px;overflow: hidden;padding: 0;position: absolute;width: 1px;}#sk-container-id-7 div.sk-estimator {font-family: monospace;background-color: #f0f8ff;border: 1px dotted black;border-radius: 0.25em;box-sizing: border-box;margin-bottom: 0.5em;}#sk-container-id-7 div.sk-estimator:hover {background-color: #d4ebff;}#sk-container-id-7 div.sk-parallel-item::after {content: \"\";width: 100%;border-bottom: 1px solid gray;flex-grow: 1;}#sk-container-id-7 div.sk-label:hover label.sk-toggleable__label {background-color: #d4ebff;}#sk-container-id-7 div.sk-serial::before {content: \"\";position: absolute;border-left: 1px solid gray;box-sizing: border-box;top: 0;bottom: 0;left: 50%;z-index: 0;}#sk-container-id-7 div.sk-serial {display: flex;flex-direction: column;align-items: center;background-color: white;padding-right: 0.2em;padding-left: 0.2em;position: relative;}#sk-container-id-7 div.sk-item {position: relative;z-index: 1;}#sk-container-id-7 div.sk-parallel {display: flex;align-items: stretch;justify-content: center;background-color: white;position: relative;}#sk-container-id-7 div.sk-item::before, #sk-container-id-7 div.sk-parallel-item::before {content: \"\";position: absolute;border-left: 1px solid gray;box-sizing: border-box;top: 0;bottom: 0;left: 50%;z-index: -1;}#sk-container-id-7 div.sk-parallel-item {display: flex;flex-direction: column;z-index: 1;position: relative;background-color: white;}#sk-container-id-7 div.sk-parallel-item:first-child::after {align-self: flex-end;width: 50%;}#sk-container-id-7 div.sk-parallel-item:last-child::after {align-self: flex-start;width: 50%;}#sk-container-id-7 div.sk-parallel-item:only-child::after {width: 0;}#sk-container-id-7 div.sk-dashed-wrapped {border: 1px dashed gray;margin: 0 0.4em 0.5em 0.4em;box-sizing: border-box;padding-bottom: 0.4em;background-color: white;}#sk-container-id-7 div.sk-label label {font-family: monospace;font-weight: bold;display: inline-block;line-height: 1.2em;}#sk-container-id-7 div.sk-label-container {text-align: center;}#sk-container-id-7 div.sk-container {/* jupyter's `normalize.less` sets `[hidden] { display: none; }` but bootstrap.min.css set `[hidden] { display: none !important; }` so we also need the `!important` here to be able to override the default hidden behavior on the sphinx rendered scikit-learn.org. See: https://github.com/scikit-learn/scikit-learn/issues/21755 */display: inline-block !important;position: relative;}#sk-container-id-7 div.sk-text-repr-fallback {display: none;}</style><div id=\"sk-container-id-7\" class=\"sk-top-container\"><div class=\"sk-text-repr-fallback\"><pre>LatentDirichletAllocation(learning_decay=0.6, learning_offset=30, max_iter=200,\n                          mean_change_tol=0.01, n_components=5, n_jobs=-1,\n                          verbose=3)</pre><b>In a Jupyter environment, please rerun this cell to show the HTML representation or trust the notebook. <br />On GitHub, the HTML representation is unable to render, please try loading this page with nbviewer.org.</b></div><div class=\"sk-container\" hidden><div class=\"sk-item\"><div class=\"sk-estimator sk-toggleable\"><input class=\"sk-toggleable__control sk-hidden--visually\" id=\"sk-estimator-id-7\" type=\"checkbox\" checked><label for=\"sk-estimator-id-7\" class=\"sk-toggleable__label sk-toggleable__label-arrow\">LatentDirichletAllocation</label><div class=\"sk-toggleable__content\"><pre>LatentDirichletAllocation(learning_decay=0.6, learning_offset=30, max_iter=200,\n                          mean_change_tol=0.01, n_components=5, n_jobs=-1,\n                          verbose=3)</pre></div></div></div></div></div>"
     },
     "execution_count": 50,
     "metadata": {},
     "output_type": "execute_result"
    }
   ],
   "source": [
    "#params = {\n",
    "#    'n_components': list(range(5, 150, 5)),\n",
    "#    'learning_decay': np.arange(0.6, 0.9, 0.1),\n",
    "#    'learning_offset': np.arange(10, 150, 10),\n",
    "#    'perp_tol': [0.1],\n",
    "#    'max_iter': [20],\n",
    "#    'mean_change_tol': [1e-6, 1e-5, 1e-4, 1e-3, 1e-2],\n",
    "#    'max_doc_update_iter': [100]\n",
    "#}\n",
    "best_params = {'perp_tol': 0.1,\n",
    " 'n_components': 5,\n",
    " 'mean_change_tol': 0.01,\n",
    " 'max_iter': 200,\n",
    " 'max_doc_update_iter': 100,\n",
    " 'learning_offset': 30,\n",
    " 'learning_decay': 0.6,\n",
    " 'verbose': 3,\n",
    " 'n_jobs': -1}\n",
    "\n",
    "lda = LatentDirichletAllocation(**best_params)\n",
    "#rsearch = RandomizedSearchCV(lda, params, n_iter=30, verbose=3, cv=3, error_score='raise')\n",
    "#rsearch.fit(tf)\n",
    "lda.fit(tf)"
   ],
   "metadata": {
    "collapsed": false,
    "pycharm": {
     "name": "#%%\n"
    }
   }
  },
  {
   "cell_type": "code",
   "execution_count": 11,
   "outputs": [],
   "source": [
    "#best = rsearch.best_estimator_"
   ],
   "metadata": {
    "collapsed": false,
    "pycharm": {
     "name": "#%%\n"
    }
   }
  },
  {
   "cell_type": "code",
   "execution_count": 51,
   "outputs": [
    {
     "name": "stderr",
     "output_type": "stream",
     "text": [
      "[Parallel(n_jobs=4)]: Using backend LokyBackend with 4 concurrent workers.\n",
      "[Parallel(n_jobs=4)]: Done   4 out of   4 | elapsed:    1.3s finished\n"
     ]
    },
    {
     "data": {
      "text/plain": "12949.649768964653"
     },
     "execution_count": 51,
     "metadata": {},
     "output_type": "execute_result"
    }
   ],
   "source": [
    "#best.perplexity(tf)\n",
    "lda.perplexity(tf)"
   ],
   "metadata": {
    "collapsed": false,
    "pycharm": {
     "name": "#%%\n"
    }
   }
  },
  {
   "cell_type": "code",
   "execution_count": 52,
   "outputs": [],
   "source": [
    "pickle.dump(lda, open('model.pkl', 'wb'))\n",
    "#lda = pickle.load(open('model.pkl', 'rb'))"
   ],
   "metadata": {
    "collapsed": false,
    "pycharm": {
     "name": "#%%\n"
    }
   }
  },
  {
   "cell_type": "code",
   "execution_count": 53,
   "outputs": [
    {
     "name": "stderr",
     "output_type": "stream",
     "text": [
      "E:\\anaconda\\lib\\site-packages\\sklearn\\utils\\deprecation.py:87: FutureWarning:\n",
      "\n",
      "Function get_feature_names is deprecated; get_feature_names is deprecated in 1.0 and will be removed in 1.2. Please use get_feature_names_out instead.\n",
      "\n"
     ]
    },
    {
     "name": "stdout",
     "output_type": "stream",
     "text": [
      "Topic 0:  ['polici', 'meta', 'agent', '2018', 'reinforc', 'represent', 'reward', 'reinforc learn', 'action', 'gradient']\n",
      "Topic 1:  ['z', 'bound', 'quantum', 'u', 'ct', 'q', 'theorem', 'kernel', '1 2', 'probabl']\n",
      "Topic 2:  ['attack', 'adversari', 'ml', 'dataset', '2018', 'http', 'privaci', 'commun', '2019', 'user']\n",
      "Topic 3:  ['layer', 'dataset', '00', '0 0', 'tabl', '100', 'nn', 'accuraci', '000', '50']\n",
      "Topic 4:  ['imag', 'pp', 'structur', 'knowledg', 'variabl', 'di', 'decis', 'human', 'label', 'graph']\n"
     ]
    }
   ],
   "source": [
    "for index, component in enumerate(lda.components_): #taking model's components, i.e. P(w|z)\n",
    "    zipped = zip(tf_vectorizer.get_feature_names(), component) #taking together tokens' names with components\n",
    "    top_terms_key=sorted(zipped, key = lambda t: t[1], reverse=True)[:10] #top 10 terms per topic\n",
    "    top_terms_list=list(dict(top_terms_key).keys()) #taking only tokens, no weights\n",
    "\n",
    "    print(\"Topic \"+str(index)+\": \",top_terms_list) #prints top 10 tokens per topic"
   ],
   "metadata": {
    "collapsed": false,
    "pycharm": {
     "name": "#%%\n"
    }
   }
  },
  {
   "cell_type": "code",
   "execution_count": 54,
   "outputs": [
    {
     "name": "stderr",
     "output_type": "stream",
     "text": [
      "[Parallel(n_jobs=4)]: Using backend LokyBackend with 4 concurrent workers.\n",
      "[Parallel(n_jobs=4)]: Done   4 out of   4 | elapsed:    1.1s finished\n"
     ]
    }
   ],
   "source": [
    "lda_output = lda.transform(tf)"
   ],
   "metadata": {
    "collapsed": false,
    "pycharm": {
     "name": "#%%\n"
    }
   }
  },
  {
   "cell_type": "code",
   "execution_count": 55,
   "outputs": [],
   "source": [
    "topics = [f'Topic {i}' for i in range(lda.n_components)]\n",
    "docnames = df.index.tolist()\n",
    "topics_df = pd.DataFrame(lda_output, columns=topics, index=docnames)"
   ],
   "metadata": {
    "collapsed": false,
    "pycharm": {
     "name": "#%%\n"
    }
   }
  },
  {
   "cell_type": "code",
   "execution_count": 56,
   "outputs": [],
   "source": [
    "topics_df['citations'] = df['citations']"
   ],
   "metadata": {
    "collapsed": false,
    "pycharm": {
     "name": "#%%\n"
    }
   }
  },
  {
   "cell_type": "code",
   "execution_count": 67,
   "outputs": [
    {
     "name": "stderr",
     "output_type": "stream",
     "text": [
      "E:\\anaconda\\lib\\site-packages\\xgboost\\data.py:250: FutureWarning:\n",
      "\n",
      "pandas.Int64Index is deprecated and will be removed from pandas in a future version. Use pandas.Index with the appropriate dtype instead.\n",
      "\n",
      "E:\\anaconda\\lib\\site-packages\\xgboost\\data.py:250: FutureWarning:\n",
      "\n",
      "pandas.Int64Index is deprecated and will be removed from pandas in a future version. Use pandas.Index with the appropriate dtype instead.\n",
      "\n",
      "E:\\anaconda\\lib\\site-packages\\xgboost\\data.py:250: FutureWarning:\n",
      "\n",
      "pandas.Int64Index is deprecated and will be removed from pandas in a future version. Use pandas.Index with the appropriate dtype instead.\n",
      "\n",
      "E:\\anaconda\\lib\\site-packages\\xgboost\\data.py:250: FutureWarning:\n",
      "\n",
      "pandas.Int64Index is deprecated and will be removed from pandas in a future version. Use pandas.Index with the appropriate dtype instead.\n",
      "\n",
      "E:\\anaconda\\lib\\site-packages\\xgboost\\data.py:250: FutureWarning:\n",
      "\n",
      "pandas.Int64Index is deprecated and will be removed from pandas in a future version. Use pandas.Index with the appropriate dtype instead.\n",
      "\n"
     ]
    },
    {
     "data": {
      "text/plain": "array([-11.69648658, -15.24955892, -14.53909285, -14.99812626,\n       -18.17344922])"
     },
     "execution_count": 67,
     "metadata": {},
     "output_type": "execute_result"
    }
   ],
   "source": [
    "xg_model = xgb.XGBRegressor(max_depth=4)\n",
    "kf = KFold(n_splits=7, random_state=420602, shuffle=True)\n",
    "cross_val_score(xg_model, topics_df[[f'Topic {i}' for i in range(lda.n_components)]], topics_df['citations'], scoring='neg_mean_absolute_percentage_error')"
   ],
   "metadata": {
    "collapsed": false,
    "pycharm": {
     "name": "#%%\n"
    }
   }
  },
  {
   "cell_type": "code",
   "execution_count": 68,
   "outputs": [
    {
     "name": "stderr",
     "output_type": "stream",
     "text": [
      "E:\\anaconda\\lib\\site-packages\\xgboost\\data.py:250: FutureWarning:\n",
      "\n",
      "pandas.Int64Index is deprecated and will be removed from pandas in a future version. Use pandas.Index with the appropriate dtype instead.\n",
      "\n"
     ]
    },
    {
     "data": {
      "text/plain": "XGBRegressor(base_score=0.5, booster='gbtree', colsample_bylevel=1,\n             colsample_bynode=1, colsample_bytree=1, enable_categorical=False,\n             gamma=0, gpu_id=-1, importance_type=None,\n             interaction_constraints='', learning_rate=0.300000012,\n             max_delta_step=0, max_depth=4, min_child_weight=1, missing=nan,\n             monotone_constraints='()', n_estimators=100, n_jobs=4,\n             num_parallel_tree=1, predictor='auto', random_state=0, reg_alpha=0,\n             reg_lambda=1, scale_pos_weight=1, subsample=1, tree_method='exact',\n             validate_parameters=1, verbosity=None)",
      "text/html": "<style>#sk-container-id-10 {color: black;background-color: white;}#sk-container-id-10 pre{padding: 0;}#sk-container-id-10 div.sk-toggleable {background-color: white;}#sk-container-id-10 label.sk-toggleable__label {cursor: pointer;display: block;width: 100%;margin-bottom: 0;padding: 0.3em;box-sizing: border-box;text-align: center;}#sk-container-id-10 label.sk-toggleable__label-arrow:before {content: \"▸\";float: left;margin-right: 0.25em;color: #696969;}#sk-container-id-10 label.sk-toggleable__label-arrow:hover:before {color: black;}#sk-container-id-10 div.sk-estimator:hover label.sk-toggleable__label-arrow:before {color: black;}#sk-container-id-10 div.sk-toggleable__content {max-height: 0;max-width: 0;overflow: hidden;text-align: left;background-color: #f0f8ff;}#sk-container-id-10 div.sk-toggleable__content pre {margin: 0.2em;color: black;border-radius: 0.25em;background-color: #f0f8ff;}#sk-container-id-10 input.sk-toggleable__control:checked~div.sk-toggleable__content {max-height: 200px;max-width: 100%;overflow: auto;}#sk-container-id-10 input.sk-toggleable__control:checked~label.sk-toggleable__label-arrow:before {content: \"▾\";}#sk-container-id-10 div.sk-estimator input.sk-toggleable__control:checked~label.sk-toggleable__label {background-color: #d4ebff;}#sk-container-id-10 div.sk-label input.sk-toggleable__control:checked~label.sk-toggleable__label {background-color: #d4ebff;}#sk-container-id-10 input.sk-hidden--visually {border: 0;clip: rect(1px 1px 1px 1px);clip: rect(1px, 1px, 1px, 1px);height: 1px;margin: -1px;overflow: hidden;padding: 0;position: absolute;width: 1px;}#sk-container-id-10 div.sk-estimator {font-family: monospace;background-color: #f0f8ff;border: 1px dotted black;border-radius: 0.25em;box-sizing: border-box;margin-bottom: 0.5em;}#sk-container-id-10 div.sk-estimator:hover {background-color: #d4ebff;}#sk-container-id-10 div.sk-parallel-item::after {content: \"\";width: 100%;border-bottom: 1px solid gray;flex-grow: 1;}#sk-container-id-10 div.sk-label:hover label.sk-toggleable__label {background-color: #d4ebff;}#sk-container-id-10 div.sk-serial::before {content: \"\";position: absolute;border-left: 1px solid gray;box-sizing: border-box;top: 0;bottom: 0;left: 50%;z-index: 0;}#sk-container-id-10 div.sk-serial {display: flex;flex-direction: column;align-items: center;background-color: white;padding-right: 0.2em;padding-left: 0.2em;position: relative;}#sk-container-id-10 div.sk-item {position: relative;z-index: 1;}#sk-container-id-10 div.sk-parallel {display: flex;align-items: stretch;justify-content: center;background-color: white;position: relative;}#sk-container-id-10 div.sk-item::before, #sk-container-id-10 div.sk-parallel-item::before {content: \"\";position: absolute;border-left: 1px solid gray;box-sizing: border-box;top: 0;bottom: 0;left: 50%;z-index: -1;}#sk-container-id-10 div.sk-parallel-item {display: flex;flex-direction: column;z-index: 1;position: relative;background-color: white;}#sk-container-id-10 div.sk-parallel-item:first-child::after {align-self: flex-end;width: 50%;}#sk-container-id-10 div.sk-parallel-item:last-child::after {align-self: flex-start;width: 50%;}#sk-container-id-10 div.sk-parallel-item:only-child::after {width: 0;}#sk-container-id-10 div.sk-dashed-wrapped {border: 1px dashed gray;margin: 0 0.4em 0.5em 0.4em;box-sizing: border-box;padding-bottom: 0.4em;background-color: white;}#sk-container-id-10 div.sk-label label {font-family: monospace;font-weight: bold;display: inline-block;line-height: 1.2em;}#sk-container-id-10 div.sk-label-container {text-align: center;}#sk-container-id-10 div.sk-container {/* jupyter's `normalize.less` sets `[hidden] { display: none; }` but bootstrap.min.css set `[hidden] { display: none !important; }` so we also need the `!important` here to be able to override the default hidden behavior on the sphinx rendered scikit-learn.org. See: https://github.com/scikit-learn/scikit-learn/issues/21755 */display: inline-block !important;position: relative;}#sk-container-id-10 div.sk-text-repr-fallback {display: none;}</style><div id=\"sk-container-id-10\" class=\"sk-top-container\"><div class=\"sk-text-repr-fallback\"><pre>XGBRegressor(base_score=0.5, booster=&#x27;gbtree&#x27;, colsample_bylevel=1,\n             colsample_bynode=1, colsample_bytree=1, enable_categorical=False,\n             gamma=0, gpu_id=-1, importance_type=None,\n             interaction_constraints=&#x27;&#x27;, learning_rate=0.300000012,\n             max_delta_step=0, max_depth=4, min_child_weight=1, missing=nan,\n             monotone_constraints=&#x27;()&#x27;, n_estimators=100, n_jobs=4,\n             num_parallel_tree=1, predictor=&#x27;auto&#x27;, random_state=0, reg_alpha=0,\n             reg_lambda=1, scale_pos_weight=1, subsample=1, tree_method=&#x27;exact&#x27;,\n             validate_parameters=1, verbosity=None)</pre><b>In a Jupyter environment, please rerun this cell to show the HTML representation or trust the notebook. <br />On GitHub, the HTML representation is unable to render, please try loading this page with nbviewer.org.</b></div><div class=\"sk-container\" hidden><div class=\"sk-item\"><div class=\"sk-estimator sk-toggleable\"><input class=\"sk-toggleable__control sk-hidden--visually\" id=\"sk-estimator-id-10\" type=\"checkbox\" checked><label for=\"sk-estimator-id-10\" class=\"sk-toggleable__label sk-toggleable__label-arrow\">XGBRegressor</label><div class=\"sk-toggleable__content\"><pre>XGBRegressor(base_score=0.5, booster=&#x27;gbtree&#x27;, colsample_bylevel=1,\n             colsample_bynode=1, colsample_bytree=1, enable_categorical=False,\n             gamma=0, gpu_id=-1, importance_type=None,\n             interaction_constraints=&#x27;&#x27;, learning_rate=0.300000012,\n             max_delta_step=0, max_depth=4, min_child_weight=1, missing=nan,\n             monotone_constraints=&#x27;()&#x27;, n_estimators=100, n_jobs=4,\n             num_parallel_tree=1, predictor=&#x27;auto&#x27;, random_state=0, reg_alpha=0,\n             reg_lambda=1, scale_pos_weight=1, subsample=1, tree_method=&#x27;exact&#x27;,\n             validate_parameters=1, verbosity=None)</pre></div></div></div></div></div>"
     },
     "execution_count": 68,
     "metadata": {},
     "output_type": "execute_result"
    }
   ],
   "source": [
    "xg_model.fit(topics_df[[f'Topic {i}' for i in range(lda.n_components)]], topics_df['citations'])"
   ],
   "metadata": {
    "collapsed": false,
    "pycharm": {
     "name": "#%%\n"
    }
   }
  },
  {
   "cell_type": "code",
   "execution_count": 69,
   "outputs": [
    {
     "name": "stdout",
     "output_type": "stream",
     "text": [
      "Preparation of a new explainer is initiated\n",
      "\n",
      "  -> data              : 1223 rows 5 cols\n",
      "  -> target variable   : Parameter 'y' was a pandas.Series. Converted to a numpy.ndarray.\n",
      "  -> target variable   : 1223 values\n",
      "  -> model_class       : xgboost.sklearn.XGBRegressor (default)\n",
      "  -> label             : Not specified, model's class short name will be used. (default)\n",
      "  -> predict function  : <function yhat_default at 0x000001727C9D9AF0> will be used (default)\n",
      "  -> predict function  : Accepts pandas.DataFrame and numpy.ndarray.\n",
      "  -> predicted values  : min = -46.1, mean = 84.4, max = 1.15e+04\n",
      "  -> model type        : regression will be used (default)\n",
      "  -> residual function : difference between y and yhat (default)\n",
      "  -> residuals         : min = -1.7e+02, mean = 0.224, max = 4.57e+02\n",
      "  -> model_info        : package xgboost\n",
      "\n",
      "A new explainer has been created!\n"
     ]
    }
   ],
   "source": [
    "exp = dx.Explainer(xg_model, topics_df[['Topic 0', 'Topic 1', 'Topic 2', 'Topic 3', 'Topic 4']], topics_df['citations'])"
   ],
   "metadata": {
    "collapsed": false,
    "pycharm": {
     "name": "#%%\n"
    }
   }
  },
  {
   "cell_type": "code",
   "execution_count": 70,
   "outputs": [
    {
     "name": "stderr",
     "output_type": "stream",
     "text": [
      "Calculating ceteris paribus: 100%|██████████| 5/5 [00:00<00:00, 25.13it/s]\n"
     ]
    }
   ],
   "source": [
    "agg_profiles = exp.model_profile().plot(show=False)\n",
    "agg_profiles.write_html('agg_profiles.html')"
   ],
   "metadata": {
    "collapsed": false,
    "pycharm": {
     "name": "#%%\n"
    }
   }
  },
  {
   "cell_type": "code",
   "execution_count": 71,
   "outputs": [
    {
     "data": {
      "application/vnd.plotly.v1+json": {
       "data": [
        {
         "customdata": [
          [
           65.54780578613281,
           "XGBRegressor",
           "Topic 0"
          ],
          [
           65.54780578613281,
           "XGBRegressor",
           "Topic 0"
          ],
          [
           65.54780578613281,
           "XGBRegressor",
           "Topic 0"
          ],
          [
           65.54780578613281,
           "XGBRegressor",
           "Topic 0"
          ],
          [
           65.54780578613281,
           "XGBRegressor",
           "Topic 0"
          ],
          [
           65.54780578613281,
           "XGBRegressor",
           "Topic 0"
          ],
          [
           65.54780578613281,
           "XGBRegressor",
           "Topic 0"
          ],
          [
           65.54780578613281,
           "XGBRegressor",
           "Topic 0"
          ],
          [
           65.54780578613281,
           "XGBRegressor",
           "Topic 0"
          ],
          [
           65.54780578613281,
           "XGBRegressor",
           "Topic 0"
          ],
          [
           65.54780578613281,
           "XGBRegressor",
           "Topic 0"
          ],
          [
           65.54780578613281,
           "XGBRegressor",
           "Topic 0"
          ],
          [
           65.54780578613281,
           "XGBRegressor",
           "Topic 0"
          ],
          [
           65.54780578613281,
           "XGBRegressor",
           "Topic 0"
          ],
          [
           65.54780578613281,
           "XGBRegressor",
           "Topic 0"
          ],
          [
           65.54780578613281,
           "XGBRegressor",
           "Topic 0"
          ],
          [
           65.54780578613281,
           "XGBRegressor",
           "Topic 0"
          ],
          [
           65.54780578613281,
           "XGBRegressor",
           "Topic 0"
          ],
          [
           65.54780578613281,
           "XGBRegressor",
           "Topic 0"
          ],
          [
           65.54780578613281,
           "XGBRegressor",
           "Topic 0"
          ],
          [
           65.54780578613281,
           "XGBRegressor",
           "Topic 0"
          ],
          [
           65.54780578613281,
           "XGBRegressor",
           "Topic 0"
          ],
          [
           65.54780578613281,
           "XGBRegressor",
           "Topic 0"
          ],
          [
           65.54780578613281,
           "XGBRegressor",
           "Topic 0"
          ],
          [
           65.54780578613281,
           "XGBRegressor",
           "Topic 0"
          ],
          [
           65.54780578613281,
           "XGBRegressor",
           "Topic 0"
          ],
          [
           65.54780578613281,
           "XGBRegressor",
           "Topic 0"
          ],
          [
           65.54780578613281,
           "XGBRegressor",
           "Topic 0"
          ],
          [
           65.54780578613281,
           "XGBRegressor",
           "Topic 0"
          ],
          [
           65.54780578613281,
           "XGBRegressor",
           "Topic 0"
          ],
          [
           65.54780578613281,
           "XGBRegressor",
           "Topic 0"
          ],
          [
           65.54780578613281,
           "XGBRegressor",
           "Topic 0"
          ],
          [
           65.54780578613281,
           "XGBRegressor",
           "Topic 0"
          ],
          [
           65.54780578613281,
           "XGBRegressor",
           "Topic 0"
          ],
          [
           65.54780578613281,
           "XGBRegressor",
           "Topic 0"
          ],
          [
           65.54780578613281,
           "XGBRegressor",
           "Topic 0"
          ],
          [
           65.54780578613281,
           "XGBRegressor",
           "Topic 0"
          ],
          [
           65.54780578613281,
           "XGBRegressor",
           "Topic 0"
          ],
          [
           65.54780578613281,
           "XGBRegressor",
           "Topic 0"
          ],
          [
           65.54780578613281,
           "XGBRegressor",
           "Topic 0"
          ],
          [
           65.54780578613281,
           "XGBRegressor",
           "Topic 0"
          ],
          [
           65.54780578613281,
           "XGBRegressor",
           "Topic 0"
          ],
          [
           65.54780578613281,
           "XGBRegressor",
           "Topic 0"
          ],
          [
           65.54780578613281,
           "XGBRegressor",
           "Topic 0"
          ],
          [
           65.54780578613281,
           "XGBRegressor",
           "Topic 0"
          ],
          [
           65.54780578613281,
           "XGBRegressor",
           "Topic 0"
          ],
          [
           65.54780578613281,
           "XGBRegressor",
           "Topic 0"
          ],
          [
           65.54780578613281,
           "XGBRegressor",
           "Topic 0"
          ],
          [
           65.54780578613281,
           "XGBRegressor",
           "Topic 0"
          ],
          [
           65.54780578613281,
           "XGBRegressor",
           "Topic 0"
          ],
          [
           65.54780578613281,
           "XGBRegressor",
           "Topic 0"
          ],
          [
           65.54780578613281,
           "XGBRegressor",
           "Topic 0"
          ],
          [
           65.54780578613281,
           "XGBRegressor",
           "Topic 0"
          ],
          [
           65.54780578613281,
           "XGBRegressor",
           "Topic 0"
          ],
          [
           65.54780578613281,
           "XGBRegressor",
           "Topic 0"
          ],
          [
           65.54780578613281,
           "XGBRegressor",
           "Topic 0"
          ],
          [
           65.54780578613281,
           "XGBRegressor",
           "Topic 0"
          ],
          [
           65.54780578613281,
           "XGBRegressor",
           "Topic 0"
          ],
          [
           65.54780578613281,
           "XGBRegressor",
           "Topic 0"
          ],
          [
           65.54780578613281,
           "XGBRegressor",
           "Topic 0"
          ],
          [
           65.54780578613281,
           "XGBRegressor",
           "Topic 0"
          ],
          [
           65.54780578613281,
           "XGBRegressor",
           "Topic 0"
          ],
          [
           65.54780578613281,
           "XGBRegressor",
           "Topic 0"
          ],
          [
           65.54780578613281,
           "XGBRegressor",
           "Topic 0"
          ],
          [
           65.54780578613281,
           "XGBRegressor",
           "Topic 0"
          ],
          [
           65.54780578613281,
           "XGBRegressor",
           "Topic 0"
          ],
          [
           65.54780578613281,
           "XGBRegressor",
           "Topic 0"
          ],
          [
           65.54780578613281,
           "XGBRegressor",
           "Topic 0"
          ],
          [
           65.54780578613281,
           "XGBRegressor",
           "Topic 0"
          ],
          [
           65.54780578613281,
           "XGBRegressor",
           "Topic 0"
          ],
          [
           65.54780578613281,
           "XGBRegressor",
           "Topic 0"
          ],
          [
           65.54780578613281,
           "XGBRegressor",
           "Topic 0"
          ],
          [
           65.54780578613281,
           "XGBRegressor",
           "Topic 0"
          ],
          [
           65.54780578613281,
           "XGBRegressor",
           "Topic 0"
          ],
          [
           65.54780578613281,
           "XGBRegressor",
           "Topic 0"
          ],
          [
           65.54780578613281,
           "XGBRegressor",
           "Topic 0"
          ],
          [
           65.54780578613281,
           "XGBRegressor",
           "Topic 0"
          ],
          [
           65.54780578613281,
           "XGBRegressor",
           "Topic 0"
          ],
          [
           65.54780578613281,
           "XGBRegressor",
           "Topic 0"
          ],
          [
           65.54780578613281,
           "XGBRegressor",
           "Topic 0"
          ],
          [
           65.54780578613281,
           "XGBRegressor",
           "Topic 0"
          ],
          [
           65.54780578613281,
           "XGBRegressor",
           "Topic 0"
          ],
          [
           65.54780578613281,
           "XGBRegressor",
           "Topic 0"
          ],
          [
           65.54780578613281,
           "XGBRegressor",
           "Topic 0"
          ],
          [
           65.54780578613281,
           "XGBRegressor",
           "Topic 0"
          ],
          [
           65.54780578613281,
           "XGBRegressor",
           "Topic 0"
          ],
          [
           65.54780578613281,
           "XGBRegressor",
           "Topic 0"
          ],
          [
           65.54780578613281,
           "XGBRegressor",
           "Topic 0"
          ],
          [
           65.54780578613281,
           "XGBRegressor",
           "Topic 0"
          ],
          [
           65.54780578613281,
           "XGBRegressor",
           "Topic 0"
          ],
          [
           65.54780578613281,
           "XGBRegressor",
           "Topic 0"
          ],
          [
           65.54780578613281,
           "XGBRegressor",
           "Topic 0"
          ],
          [
           65.54780578613281,
           "XGBRegressor",
           "Topic 0"
          ],
          [
           65.54780578613281,
           "XGBRegressor",
           "Topic 0"
          ],
          [
           65.54780578613281,
           "XGBRegressor",
           "Topic 0"
          ],
          [
           65.54780578613281,
           "XGBRegressor",
           "Topic 0"
          ],
          [
           65.54780578613281,
           "XGBRegressor",
           "Topic 0"
          ],
          [
           65.54780578613281,
           "XGBRegressor",
           "Topic 0"
          ],
          [
           65.54780578613281,
           "XGBRegressor",
           "Topic 0"
          ],
          [
           65.54780578613281,
           "XGBRegressor",
           "Topic 0"
          ],
          [
           65.54780578613281,
           "XGBRegressor",
           "Topic 0"
          ]
         ],
         "hovertemplate": "<b>%{hovertext}</b><br><br>prediction=%{y:.3f}<br>mean_prediction=%{customdata[0]:.3f}<extra></extra>",
         "hovertext": [
          "XGBRegressor",
          "XGBRegressor",
          "XGBRegressor",
          "XGBRegressor",
          "XGBRegressor",
          "XGBRegressor",
          "XGBRegressor",
          "XGBRegressor",
          "XGBRegressor",
          "XGBRegressor",
          "XGBRegressor",
          "XGBRegressor",
          "XGBRegressor",
          "XGBRegressor",
          "XGBRegressor",
          "XGBRegressor",
          "XGBRegressor",
          "XGBRegressor",
          "XGBRegressor",
          "XGBRegressor",
          "XGBRegressor",
          "XGBRegressor",
          "XGBRegressor",
          "XGBRegressor",
          "XGBRegressor",
          "XGBRegressor",
          "XGBRegressor",
          "XGBRegressor",
          "XGBRegressor",
          "XGBRegressor",
          "XGBRegressor",
          "XGBRegressor",
          "XGBRegressor",
          "XGBRegressor",
          "XGBRegressor",
          "XGBRegressor",
          "XGBRegressor",
          "XGBRegressor",
          "XGBRegressor",
          "XGBRegressor",
          "XGBRegressor",
          "XGBRegressor",
          "XGBRegressor",
          "XGBRegressor",
          "XGBRegressor",
          "XGBRegressor",
          "XGBRegressor",
          "XGBRegressor",
          "XGBRegressor",
          "XGBRegressor",
          "XGBRegressor",
          "XGBRegressor",
          "XGBRegressor",
          "XGBRegressor",
          "XGBRegressor",
          "XGBRegressor",
          "XGBRegressor",
          "XGBRegressor",
          "XGBRegressor",
          "XGBRegressor",
          "XGBRegressor",
          "XGBRegressor",
          "XGBRegressor",
          "XGBRegressor",
          "XGBRegressor",
          "XGBRegressor",
          "XGBRegressor",
          "XGBRegressor",
          "XGBRegressor",
          "XGBRegressor",
          "XGBRegressor",
          "XGBRegressor",
          "XGBRegressor",
          "XGBRegressor",
          "XGBRegressor",
          "XGBRegressor",
          "XGBRegressor",
          "XGBRegressor",
          "XGBRegressor",
          "XGBRegressor",
          "XGBRegressor",
          "XGBRegressor",
          "XGBRegressor",
          "XGBRegressor",
          "XGBRegressor",
          "XGBRegressor",
          "XGBRegressor",
          "XGBRegressor",
          "XGBRegressor",
          "XGBRegressor",
          "XGBRegressor",
          "XGBRegressor",
          "XGBRegressor",
          "XGBRegressor",
          "XGBRegressor",
          "XGBRegressor",
          "XGBRegressor",
          "XGBRegressor",
          "XGBRegressor",
          "XGBRegressor",
          "XGBRegressor"
         ],
         "legendgroup": "XGBRegressor",
         "line": {
          "color": "#46bac2",
          "dash": "solid",
          "width": 2
         },
         "marker": {
          "symbol": "circle"
         },
         "mode": "lines",
         "name": "XGBRegressor",
         "orientation": "v",
         "showlegend": true,
         "x": [
          5.5192865197109255E-6,
          0.009785588805887402,
          0.01956565832525509,
          0.02934572784462278,
          0.039125797363990474,
          0.048905866883358164,
          0.058685936402725854,
          0.06846600592209354,
          0.07824607544146123,
          0.08802614496082892,
          0.09780621448019661,
          0.1075862839995643,
          0.11736635351893199,
          0.12714642303829968,
          0.13692649255766737,
          0.14670656207703506,
          0.15648663159640275,
          0.16626670111577044,
          0.17604677063513813,
          0.18582684015450582,
          0.1956069096738735,
          0.2053869791932412,
          0.2151670487126089,
          0.22494711823197658,
          0.23472718775134427,
          0.24450725727071196,
          0.25428732679007965,
          0.2640673963094473,
          0.27384746582881503,
          0.28362753534818275,
          0.2934076048675504,
          0.30318767438691807,
          0.3129677439062858,
          0.3227478134256535,
          0.33252788294502117,
          0.34230795246438883,
          0.35208802198375655,
          0.36186809150312427,
          0.37164816102249193,
          0.3814282305418596,
          0.3912083000612273,
          0.400988369580595,
          0.4107684390999627,
          0.42054850861933035,
          0.43032857813869807,
          0.4401086476580658,
          0.44988871717743345,
          0.4596687866968011,
          0.46944885621616883,
          0.47922892573553655,
          0.4890089952549042,
          0.4987890647742719,
          0.5085691342936396,
          0.5183492038130073,
          0.5281292733323749,
          0.5379093428517426,
          0.5476894123711104,
          0.5574694818904781,
          0.5672495514098458,
          0.5770296209292134,
          0.5868096904485811,
          0.5965897599679488,
          0.6063698294873164,
          0.6161498990066842,
          0.6259299685260519,
          0.6357100380454196,
          0.6454901075647873,
          0.6552701770841549,
          0.6650502466035226,
          0.6748303161228904,
          0.684610385642258,
          0.6943904551616257,
          0.7041705246809934,
          0.7139505942003611,
          0.7237306637197288,
          0.7335107332390964,
          0.7432908027584642,
          0.7530708722778319,
          0.7628509417971995,
          0.7726310113165672,
          0.7824110808359349,
          0.7921911503553026,
          0.8019712198746703,
          0.811751289394038,
          0.8215313589134057,
          0.8313114284327734,
          0.841091497952141,
          0.8508715674715087,
          0.8606516369908764,
          0.8704317065102442,
          0.8802117760296119,
          0.8899918455489795,
          0.8997719150683472,
          0.9095519845877149,
          0.9193320541070825,
          0.9291121236264502,
          0.938892193145818,
          0.9486722626651857,
          0.9584523321845534,
          0.968232401703921,
          0.9780124712232887
         ],
         "xaxis": "x5",
         "y": [
          130.73532104492188,
          58.308956146240234,
          61.457130432128906,
          74.1744613647461,
          71.63897705078125,
          69.40646362304688,
          80.02711486816406,
          85.1810302734375,
          213.15977478027344,
          92.93876647949219,
          93.18017578125,
          93.27000427246094,
          93.70034790039062,
          86.9084243774414,
          90.76081085205078,
          94.5927734375,
          139.952392578125,
          111.9298324584961,
          98.81780242919922,
          93.41546630859375,
          84.28084564208984,
          84.28084564208984,
          111.79688262939453,
          113.39226531982422,
          111.47853088378906,
          111.47853088378906,
          111.47853088378906,
          112.78590393066406,
          134.61888122558594,
          137.0376739501953,
          121.02190399169922,
          313.431884765625,
          154.6393280029297,
          168.1250762939453,
          134.49783325195312,
          148.35830688476562,
          150.08349609375,
          139.54762268066406,
          135.49252319335938,
          135.49252319335938,
          135.49252319335938,
          236.01669311523438,
          134.89315795898438,
          136.720458984375,
          123.66741180419922,
          123.66741180419922,
          123.66741180419922,
          124.37071228027344,
          118.41868591308594,
          119.96985626220703,
          119.96985626220703,
          119.96985626220703,
          119.96985626220703,
          119.96985626220703,
          119.96985626220703,
          119.96985626220703,
          119.96985626220703,
          120.19109344482422,
          120.19109344482422,
          147.6438751220703,
          148.41519165039062,
          148.41519165039062,
          148.41519165039062,
          228.44679260253906,
          218.6453399658203,
          218.6453399658203,
          154.4722137451172,
          154.52037048339844,
          156.89117431640625,
          157.07711791992188,
          157.84207153320312,
          157.84207153320312,
          176.54212951660156,
          176.54212951660156,
          176.54212951660156,
          186.6287078857422,
          186.6287078857422,
          186.6287078857422,
          186.6287078857422,
          226.68382263183594,
          206.94287109375,
          211.94473266601562,
          211.94473266601562,
          158.818115234375,
          158.818115234375,
          158.818115234375,
          158.818115234375,
          157.28782653808594,
          157.28782653808594,
          157.46441650390625,
          157.46441650390625,
          157.46441650390625,
          169.216796875,
          169.216796875,
          168.41647338867188,
          168.3824005126953,
          168.3824005126953,
          168.3824005126953,
          168.3824005126953,
          168.3824005126953,
          168.3824005126953
         ],
         "yaxis": "y5",
         "type": "scatter",
         "opacity": 1
        },
        {
         "customdata": [
          [
           65.54780578613281,
           "XGBRegressor",
           "Topic 1"
          ],
          [
           65.54780578613281,
           "XGBRegressor",
           "Topic 1"
          ],
          [
           65.54780578613281,
           "XGBRegressor",
           "Topic 1"
          ],
          [
           65.54780578613281,
           "XGBRegressor",
           "Topic 1"
          ],
          [
           65.54780578613281,
           "XGBRegressor",
           "Topic 1"
          ],
          [
           65.54780578613281,
           "XGBRegressor",
           "Topic 1"
          ],
          [
           65.54780578613281,
           "XGBRegressor",
           "Topic 1"
          ],
          [
           65.54780578613281,
           "XGBRegressor",
           "Topic 1"
          ],
          [
           65.54780578613281,
           "XGBRegressor",
           "Topic 1"
          ],
          [
           65.54780578613281,
           "XGBRegressor",
           "Topic 1"
          ],
          [
           65.54780578613281,
           "XGBRegressor",
           "Topic 1"
          ],
          [
           65.54780578613281,
           "XGBRegressor",
           "Topic 1"
          ],
          [
           65.54780578613281,
           "XGBRegressor",
           "Topic 1"
          ],
          [
           65.54780578613281,
           "XGBRegressor",
           "Topic 1"
          ],
          [
           65.54780578613281,
           "XGBRegressor",
           "Topic 1"
          ],
          [
           65.54780578613281,
           "XGBRegressor",
           "Topic 1"
          ],
          [
           65.54780578613281,
           "XGBRegressor",
           "Topic 1"
          ],
          [
           65.54780578613281,
           "XGBRegressor",
           "Topic 1"
          ],
          [
           65.54780578613281,
           "XGBRegressor",
           "Topic 1"
          ],
          [
           65.54780578613281,
           "XGBRegressor",
           "Topic 1"
          ],
          [
           65.54780578613281,
           "XGBRegressor",
           "Topic 1"
          ],
          [
           65.54780578613281,
           "XGBRegressor",
           "Topic 1"
          ],
          [
           65.54780578613281,
           "XGBRegressor",
           "Topic 1"
          ],
          [
           65.54780578613281,
           "XGBRegressor",
           "Topic 1"
          ],
          [
           65.54780578613281,
           "XGBRegressor",
           "Topic 1"
          ],
          [
           65.54780578613281,
           "XGBRegressor",
           "Topic 1"
          ],
          [
           65.54780578613281,
           "XGBRegressor",
           "Topic 1"
          ],
          [
           65.54780578613281,
           "XGBRegressor",
           "Topic 1"
          ],
          [
           65.54780578613281,
           "XGBRegressor",
           "Topic 1"
          ],
          [
           65.54780578613281,
           "XGBRegressor",
           "Topic 1"
          ],
          [
           65.54780578613281,
           "XGBRegressor",
           "Topic 1"
          ],
          [
           65.54780578613281,
           "XGBRegressor",
           "Topic 1"
          ],
          [
           65.54780578613281,
           "XGBRegressor",
           "Topic 1"
          ],
          [
           65.54780578613281,
           "XGBRegressor",
           "Topic 1"
          ],
          [
           65.54780578613281,
           "XGBRegressor",
           "Topic 1"
          ],
          [
           65.54780578613281,
           "XGBRegressor",
           "Topic 1"
          ],
          [
           65.54780578613281,
           "XGBRegressor",
           "Topic 1"
          ],
          [
           65.54780578613281,
           "XGBRegressor",
           "Topic 1"
          ],
          [
           65.54780578613281,
           "XGBRegressor",
           "Topic 1"
          ],
          [
           65.54780578613281,
           "XGBRegressor",
           "Topic 1"
          ],
          [
           65.54780578613281,
           "XGBRegressor",
           "Topic 1"
          ],
          [
           65.54780578613281,
           "XGBRegressor",
           "Topic 1"
          ],
          [
           65.54780578613281,
           "XGBRegressor",
           "Topic 1"
          ],
          [
           65.54780578613281,
           "XGBRegressor",
           "Topic 1"
          ],
          [
           65.54780578613281,
           "XGBRegressor",
           "Topic 1"
          ],
          [
           65.54780578613281,
           "XGBRegressor",
           "Topic 1"
          ],
          [
           65.54780578613281,
           "XGBRegressor",
           "Topic 1"
          ],
          [
           65.54780578613281,
           "XGBRegressor",
           "Topic 1"
          ],
          [
           65.54780578613281,
           "XGBRegressor",
           "Topic 1"
          ],
          [
           65.54780578613281,
           "XGBRegressor",
           "Topic 1"
          ],
          [
           65.54780578613281,
           "XGBRegressor",
           "Topic 1"
          ],
          [
           65.54780578613281,
           "XGBRegressor",
           "Topic 1"
          ],
          [
           65.54780578613281,
           "XGBRegressor",
           "Topic 1"
          ],
          [
           65.54780578613281,
           "XGBRegressor",
           "Topic 1"
          ],
          [
           65.54780578613281,
           "XGBRegressor",
           "Topic 1"
          ],
          [
           65.54780578613281,
           "XGBRegressor",
           "Topic 1"
          ],
          [
           65.54780578613281,
           "XGBRegressor",
           "Topic 1"
          ],
          [
           65.54780578613281,
           "XGBRegressor",
           "Topic 1"
          ],
          [
           65.54780578613281,
           "XGBRegressor",
           "Topic 1"
          ],
          [
           65.54780578613281,
           "XGBRegressor",
           "Topic 1"
          ],
          [
           65.54780578613281,
           "XGBRegressor",
           "Topic 1"
          ],
          [
           65.54780578613281,
           "XGBRegressor",
           "Topic 1"
          ],
          [
           65.54780578613281,
           "XGBRegressor",
           "Topic 1"
          ],
          [
           65.54780578613281,
           "XGBRegressor",
           "Topic 1"
          ],
          [
           65.54780578613281,
           "XGBRegressor",
           "Topic 1"
          ],
          [
           65.54780578613281,
           "XGBRegressor",
           "Topic 1"
          ],
          [
           65.54780578613281,
           "XGBRegressor",
           "Topic 1"
          ],
          [
           65.54780578613281,
           "XGBRegressor",
           "Topic 1"
          ],
          [
           65.54780578613281,
           "XGBRegressor",
           "Topic 1"
          ],
          [
           65.54780578613281,
           "XGBRegressor",
           "Topic 1"
          ],
          [
           65.54780578613281,
           "XGBRegressor",
           "Topic 1"
          ],
          [
           65.54780578613281,
           "XGBRegressor",
           "Topic 1"
          ],
          [
           65.54780578613281,
           "XGBRegressor",
           "Topic 1"
          ],
          [
           65.54780578613281,
           "XGBRegressor",
           "Topic 1"
          ],
          [
           65.54780578613281,
           "XGBRegressor",
           "Topic 1"
          ],
          [
           65.54780578613281,
           "XGBRegressor",
           "Topic 1"
          ],
          [
           65.54780578613281,
           "XGBRegressor",
           "Topic 1"
          ],
          [
           65.54780578613281,
           "XGBRegressor",
           "Topic 1"
          ],
          [
           65.54780578613281,
           "XGBRegressor",
           "Topic 1"
          ],
          [
           65.54780578613281,
           "XGBRegressor",
           "Topic 1"
          ],
          [
           65.54780578613281,
           "XGBRegressor",
           "Topic 1"
          ],
          [
           65.54780578613281,
           "XGBRegressor",
           "Topic 1"
          ],
          [
           65.54780578613281,
           "XGBRegressor",
           "Topic 1"
          ],
          [
           65.54780578613281,
           "XGBRegressor",
           "Topic 1"
          ],
          [
           65.54780578613281,
           "XGBRegressor",
           "Topic 1"
          ],
          [
           65.54780578613281,
           "XGBRegressor",
           "Topic 1"
          ],
          [
           65.54780578613281,
           "XGBRegressor",
           "Topic 1"
          ],
          [
           65.54780578613281,
           "XGBRegressor",
           "Topic 1"
          ],
          [
           65.54780578613281,
           "XGBRegressor",
           "Topic 1"
          ],
          [
           65.54780578613281,
           "XGBRegressor",
           "Topic 1"
          ],
          [
           65.54780578613281,
           "XGBRegressor",
           "Topic 1"
          ],
          [
           65.54780578613281,
           "XGBRegressor",
           "Topic 1"
          ],
          [
           65.54780578613281,
           "XGBRegressor",
           "Topic 1"
          ],
          [
           65.54780578613281,
           "XGBRegressor",
           "Topic 1"
          ],
          [
           65.54780578613281,
           "XGBRegressor",
           "Topic 1"
          ],
          [
           65.54780578613281,
           "XGBRegressor",
           "Topic 1"
          ],
          [
           65.54780578613281,
           "XGBRegressor",
           "Topic 1"
          ],
          [
           65.54780578613281,
           "XGBRegressor",
           "Topic 1"
          ],
          [
           65.54780578613281,
           "XGBRegressor",
           "Topic 1"
          ],
          [
           65.54780578613281,
           "XGBRegressor",
           "Topic 1"
          ],
          [
           65.54780578613281,
           "XGBRegressor",
           "Topic 1"
          ]
         ],
         "hovertemplate": "<b>%{hovertext}</b><br><br>prediction=%{y:.3f}<br>mean_prediction=%{customdata[0]:.3f}<extra></extra>",
         "hovertext": [
          "XGBRegressor",
          "XGBRegressor",
          "XGBRegressor",
          "XGBRegressor",
          "XGBRegressor",
          "XGBRegressor",
          "XGBRegressor",
          "XGBRegressor",
          "XGBRegressor",
          "XGBRegressor",
          "XGBRegressor",
          "XGBRegressor",
          "XGBRegressor",
          "XGBRegressor",
          "XGBRegressor",
          "XGBRegressor",
          "XGBRegressor",
          "XGBRegressor",
          "XGBRegressor",
          "XGBRegressor",
          "XGBRegressor",
          "XGBRegressor",
          "XGBRegressor",
          "XGBRegressor",
          "XGBRegressor",
          "XGBRegressor",
          "XGBRegressor",
          "XGBRegressor",
          "XGBRegressor",
          "XGBRegressor",
          "XGBRegressor",
          "XGBRegressor",
          "XGBRegressor",
          "XGBRegressor",
          "XGBRegressor",
          "XGBRegressor",
          "XGBRegressor",
          "XGBRegressor",
          "XGBRegressor",
          "XGBRegressor",
          "XGBRegressor",
          "XGBRegressor",
          "XGBRegressor",
          "XGBRegressor",
          "XGBRegressor",
          "XGBRegressor",
          "XGBRegressor",
          "XGBRegressor",
          "XGBRegressor",
          "XGBRegressor",
          "XGBRegressor",
          "XGBRegressor",
          "XGBRegressor",
          "XGBRegressor",
          "XGBRegressor",
          "XGBRegressor",
          "XGBRegressor",
          "XGBRegressor",
          "XGBRegressor",
          "XGBRegressor",
          "XGBRegressor",
          "XGBRegressor",
          "XGBRegressor",
          "XGBRegressor",
          "XGBRegressor",
          "XGBRegressor",
          "XGBRegressor",
          "XGBRegressor",
          "XGBRegressor",
          "XGBRegressor",
          "XGBRegressor",
          "XGBRegressor",
          "XGBRegressor",
          "XGBRegressor",
          "XGBRegressor",
          "XGBRegressor",
          "XGBRegressor",
          "XGBRegressor",
          "XGBRegressor",
          "XGBRegressor",
          "XGBRegressor",
          "XGBRegressor",
          "XGBRegressor",
          "XGBRegressor",
          "XGBRegressor",
          "XGBRegressor",
          "XGBRegressor",
          "XGBRegressor",
          "XGBRegressor",
          "XGBRegressor",
          "XGBRegressor",
          "XGBRegressor",
          "XGBRegressor",
          "XGBRegressor",
          "XGBRegressor",
          "XGBRegressor",
          "XGBRegressor",
          "XGBRegressor",
          "XGBRegressor",
          "XGBRegressor",
          "XGBRegressor"
         ],
         "legendgroup": "XGBRegressor",
         "line": {
          "color": "#46bac2",
          "dash": "solid",
          "width": 2
         },
         "marker": {
          "symbol": "circle"
         },
         "mode": "lines",
         "name": "XGBRegressor",
         "orientation": "v",
         "showlegend": false,
         "x": [
          3.2286476097475097E-6,
          0.01000295083080379,
          0.020002673013997833,
          0.030002395197191875,
          0.040002117380385914,
          0.05000183956357996,
          0.060001561746774,
          0.07000128392996804,
          0.08000100611316209,
          0.09000072829635614,
          0.10000045047955018,
          0.11000017266274421,
          0.11999989484593826,
          0.1299996170291323,
          0.13999933921232632,
          0.14999906139552038,
          0.15999878357871442,
          0.16999850576190845,
          0.1799982279451025,
          0.18999795012829654,
          0.1999976723114906,
          0.20999739449468463,
          0.21999711667787866,
          0.22999683886107272,
          0.23999656104426675,
          0.24999628322746079,
          0.2599960054106549,
          0.26999572759384893,
          0.27999544977704294,
          0.289995171960237,
          0.29999489414343106,
          0.30999461632662506,
          0.3199943385098191,
          0.3299940606930132,
          0.3399937828762072,
          0.34999350505940124,
          0.3599932272425953,
          0.3699929494257893,
          0.37999267160898337,
          0.3899923937921774,
          0.3999921159753715,
          0.4099918381585655,
          0.41999156034175955,
          0.4299912825249536,
          0.4399910047081476,
          0.4499907268913417,
          0.45999044907453573,
          0.46999017125772974,
          0.4799898934409238,
          0.48998961562411786,
          0.49998933780731186,
          0.5099890599905059,
          0.5199887821736999,
          0.5299885043568939,
          0.539988226540088,
          0.549987948723282,
          0.559987670906476,
          0.5699873930896702,
          0.5799871152728642,
          0.5899868374560582,
          0.5999865596392523,
          0.6099862818224463,
          0.6199860040056403,
          0.6299857261888344,
          0.6399854483720284,
          0.6499851705552224,
          0.6599848927384165,
          0.6699846149216105,
          0.6799843371048045,
          0.6899840592879987,
          0.6999837814711927,
          0.7099835036543867,
          0.7199832258375808,
          0.7299829480207748,
          0.7399826702039688,
          0.7499823923871629,
          0.7599821145703569,
          0.7699818367535509,
          0.779981558936745,
          0.789981281119939,
          0.7999810033031332,
          0.8099807254863272,
          0.8199804476695212,
          0.8299801698527153,
          0.8399798920359093,
          0.8499796142191033,
          0.8599793364022974,
          0.8699790585854914,
          0.8799787807686854,
          0.8899785029518795,
          0.8999782251350735,
          0.9099779473182675,
          0.9199776695014616,
          0.9299773916846557,
          0.9399771138678497,
          0.9499768360510438,
          0.9599765582342378,
          0.9699762804174318,
          0.9799760026006259,
          0.9899757247838199,
          0.9999754469670139
         ],
         "xaxis": "x6",
         "y": [
          229.87351989746094,
          70.85911560058594,
          74.7022705078125,
          103.48701477050781,
          103.12767791748047,
          86.1334228515625,
          91.40209197998047,
          105.0683822631836,
          91.53854370117188,
          105.2061996459961,
          102.724609375,
          102.724609375,
          113.72981262207031,
          101.74951934814453,
          101.74951934814453,
          101.74951934814453,
          101.84262084960938,
          94.29561614990234,
          94.29561614990234,
          118.96968841552734,
          90.79512786865234,
          109.90796661376953,
          94.91679382324219,
          94.91679382324219,
          94.91679382324219,
          103.1386947631836,
          101.5528564453125,
          101.5528564453125,
          101.5528564453125,
          104.1021728515625,
          104.1021728515625,
          110.14077758789062,
          110.14077758789062,
          110.14077758789062,
          110.14077758789062,
          110.43240356445312,
          110.43240356445312,
          110.43240356445312,
          111.33753967285156,
          111.33753967285156,
          109.67327117919922,
          109.67327117919922,
          109.67327117919922,
          110.22172546386719,
          110.22172546386719,
          110.22172546386719,
          111.03961181640625,
          113.59046173095703,
          113.59046173095703,
          137.10035705566406,
          137.10035705566406,
          137.10035705566406,
          137.10035705566406,
          137.10035705566406,
          137.10035705566406,
          125.49211883544922,
          125.49211883544922,
          125.49211883544922,
          125.49211883544922,
          125.49211883544922,
          125.49211883544922,
          125.49211883544922,
          125.49211883544922,
          125.5754623413086,
          125.5754623413086,
          117.83586120605469,
          117.83586120605469,
          117.83586120605469,
          145.33018493652344,
          145.33018493652344,
          145.33018493652344,
          197.1768035888672,
          144.57778930664062,
          144.57778930664062,
          144.57778930664062,
          138.81883239746094,
          138.81883239746094,
          141.64073181152344,
          156.959228515625,
          156.959228515625,
          156.959228515625,
          156.959228515625,
          156.959228515625,
          156.959228515625,
          145.3578643798828,
          145.3578643798828,
          145.3578643798828,
          145.3578643798828,
          233.26954650878906,
          233.1107177734375,
          233.1107177734375,
          172.9800262451172,
          172.9800262451172,
          173.0872039794922,
          173.0872039794922,
          173.0872039794922,
          192.34669494628906,
          174.65818786621094,
          174.65818786621094,
          174.65818786621094,
          174.65818786621094
         ],
         "yaxis": "y6",
         "type": "scatter",
         "opacity": 1
        },
        {
         "customdata": [
          [
           65.54780578613281,
           "XGBRegressor",
           "Topic 2"
          ],
          [
           65.54780578613281,
           "XGBRegressor",
           "Topic 2"
          ],
          [
           65.54780578613281,
           "XGBRegressor",
           "Topic 2"
          ],
          [
           65.54780578613281,
           "XGBRegressor",
           "Topic 2"
          ],
          [
           65.54780578613281,
           "XGBRegressor",
           "Topic 2"
          ],
          [
           65.54780578613281,
           "XGBRegressor",
           "Topic 2"
          ],
          [
           65.54780578613281,
           "XGBRegressor",
           "Topic 2"
          ],
          [
           65.54780578613281,
           "XGBRegressor",
           "Topic 2"
          ],
          [
           65.54780578613281,
           "XGBRegressor",
           "Topic 2"
          ],
          [
           65.54780578613281,
           "XGBRegressor",
           "Topic 2"
          ],
          [
           65.54780578613281,
           "XGBRegressor",
           "Topic 2"
          ],
          [
           65.54780578613281,
           "XGBRegressor",
           "Topic 2"
          ],
          [
           65.54780578613281,
           "XGBRegressor",
           "Topic 2"
          ],
          [
           65.54780578613281,
           "XGBRegressor",
           "Topic 2"
          ],
          [
           65.54780578613281,
           "XGBRegressor",
           "Topic 2"
          ],
          [
           65.54780578613281,
           "XGBRegressor",
           "Topic 2"
          ],
          [
           65.54780578613281,
           "XGBRegressor",
           "Topic 2"
          ],
          [
           65.54780578613281,
           "XGBRegressor",
           "Topic 2"
          ],
          [
           65.54780578613281,
           "XGBRegressor",
           "Topic 2"
          ],
          [
           65.54780578613281,
           "XGBRegressor",
           "Topic 2"
          ],
          [
           65.54780578613281,
           "XGBRegressor",
           "Topic 2"
          ],
          [
           65.54780578613281,
           "XGBRegressor",
           "Topic 2"
          ],
          [
           65.54780578613281,
           "XGBRegressor",
           "Topic 2"
          ],
          [
           65.54780578613281,
           "XGBRegressor",
           "Topic 2"
          ],
          [
           65.54780578613281,
           "XGBRegressor",
           "Topic 2"
          ],
          [
           65.54780578613281,
           "XGBRegressor",
           "Topic 2"
          ],
          [
           65.54780578613281,
           "XGBRegressor",
           "Topic 2"
          ],
          [
           65.54780578613281,
           "XGBRegressor",
           "Topic 2"
          ],
          [
           65.54780578613281,
           "XGBRegressor",
           "Topic 2"
          ],
          [
           65.54780578613281,
           "XGBRegressor",
           "Topic 2"
          ],
          [
           65.54780578613281,
           "XGBRegressor",
           "Topic 2"
          ],
          [
           65.54780578613281,
           "XGBRegressor",
           "Topic 2"
          ],
          [
           65.54780578613281,
           "XGBRegressor",
           "Topic 2"
          ],
          [
           65.54780578613281,
           "XGBRegressor",
           "Topic 2"
          ],
          [
           65.54780578613281,
           "XGBRegressor",
           "Topic 2"
          ],
          [
           65.54780578613281,
           "XGBRegressor",
           "Topic 2"
          ],
          [
           65.54780578613281,
           "XGBRegressor",
           "Topic 2"
          ],
          [
           65.54780578613281,
           "XGBRegressor",
           "Topic 2"
          ],
          [
           65.54780578613281,
           "XGBRegressor",
           "Topic 2"
          ],
          [
           65.54780578613281,
           "XGBRegressor",
           "Topic 2"
          ],
          [
           65.54780578613281,
           "XGBRegressor",
           "Topic 2"
          ],
          [
           65.54780578613281,
           "XGBRegressor",
           "Topic 2"
          ],
          [
           65.54780578613281,
           "XGBRegressor",
           "Topic 2"
          ],
          [
           65.54780578613281,
           "XGBRegressor",
           "Topic 2"
          ],
          [
           65.54780578613281,
           "XGBRegressor",
           "Topic 2"
          ],
          [
           65.54780578613281,
           "XGBRegressor",
           "Topic 2"
          ],
          [
           65.54780578613281,
           "XGBRegressor",
           "Topic 2"
          ],
          [
           65.54780578613281,
           "XGBRegressor",
           "Topic 2"
          ],
          [
           65.54780578613281,
           "XGBRegressor",
           "Topic 2"
          ],
          [
           65.54780578613281,
           "XGBRegressor",
           "Topic 2"
          ],
          [
           65.54780578613281,
           "XGBRegressor",
           "Topic 2"
          ],
          [
           65.54780578613281,
           "XGBRegressor",
           "Topic 2"
          ],
          [
           65.54780578613281,
           "XGBRegressor",
           "Topic 2"
          ],
          [
           65.54780578613281,
           "XGBRegressor",
           "Topic 2"
          ],
          [
           65.54780578613281,
           "XGBRegressor",
           "Topic 2"
          ],
          [
           65.54780578613281,
           "XGBRegressor",
           "Topic 2"
          ],
          [
           65.54780578613281,
           "XGBRegressor",
           "Topic 2"
          ],
          [
           65.54780578613281,
           "XGBRegressor",
           "Topic 2"
          ],
          [
           65.54780578613281,
           "XGBRegressor",
           "Topic 2"
          ],
          [
           65.54780578613281,
           "XGBRegressor",
           "Topic 2"
          ],
          [
           65.54780578613281,
           "XGBRegressor",
           "Topic 2"
          ],
          [
           65.54780578613281,
           "XGBRegressor",
           "Topic 2"
          ],
          [
           65.54780578613281,
           "XGBRegressor",
           "Topic 2"
          ],
          [
           65.54780578613281,
           "XGBRegressor",
           "Topic 2"
          ],
          [
           65.54780578613281,
           "XGBRegressor",
           "Topic 2"
          ],
          [
           65.54780578613281,
           "XGBRegressor",
           "Topic 2"
          ],
          [
           65.54780578613281,
           "XGBRegressor",
           "Topic 2"
          ],
          [
           65.54780578613281,
           "XGBRegressor",
           "Topic 2"
          ],
          [
           65.54780578613281,
           "XGBRegressor",
           "Topic 2"
          ],
          [
           65.54780578613281,
           "XGBRegressor",
           "Topic 2"
          ],
          [
           65.54780578613281,
           "XGBRegressor",
           "Topic 2"
          ],
          [
           65.54780578613281,
           "XGBRegressor",
           "Topic 2"
          ],
          [
           65.54780578613281,
           "XGBRegressor",
           "Topic 2"
          ],
          [
           65.54780578613281,
           "XGBRegressor",
           "Topic 2"
          ],
          [
           65.54780578613281,
           "XGBRegressor",
           "Topic 2"
          ],
          [
           65.54780578613281,
           "XGBRegressor",
           "Topic 2"
          ],
          [
           65.54780578613281,
           "XGBRegressor",
           "Topic 2"
          ],
          [
           65.54780578613281,
           "XGBRegressor",
           "Topic 2"
          ],
          [
           65.54780578613281,
           "XGBRegressor",
           "Topic 2"
          ],
          [
           65.54780578613281,
           "XGBRegressor",
           "Topic 2"
          ],
          [
           65.54780578613281,
           "XGBRegressor",
           "Topic 2"
          ],
          [
           65.54780578613281,
           "XGBRegressor",
           "Topic 2"
          ],
          [
           65.54780578613281,
           "XGBRegressor",
           "Topic 2"
          ],
          [
           65.54780578613281,
           "XGBRegressor",
           "Topic 2"
          ],
          [
           65.54780578613281,
           "XGBRegressor",
           "Topic 2"
          ],
          [
           65.54780578613281,
           "XGBRegressor",
           "Topic 2"
          ],
          [
           65.54780578613281,
           "XGBRegressor",
           "Topic 2"
          ],
          [
           65.54780578613281,
           "XGBRegressor",
           "Topic 2"
          ],
          [
           65.54780578613281,
           "XGBRegressor",
           "Topic 2"
          ],
          [
           65.54780578613281,
           "XGBRegressor",
           "Topic 2"
          ],
          [
           65.54780578613281,
           "XGBRegressor",
           "Topic 2"
          ],
          [
           65.54780578613281,
           "XGBRegressor",
           "Topic 2"
          ],
          [
           65.54780578613281,
           "XGBRegressor",
           "Topic 2"
          ],
          [
           65.54780578613281,
           "XGBRegressor",
           "Topic 2"
          ],
          [
           65.54780578613281,
           "XGBRegressor",
           "Topic 2"
          ],
          [
           65.54780578613281,
           "XGBRegressor",
           "Topic 2"
          ],
          [
           65.54780578613281,
           "XGBRegressor",
           "Topic 2"
          ],
          [
           65.54780578613281,
           "XGBRegressor",
           "Topic 2"
          ],
          [
           65.54780578613281,
           "XGBRegressor",
           "Topic 2"
          ],
          [
           65.54780578613281,
           "XGBRegressor",
           "Topic 2"
          ],
          [
           65.54780578613281,
           "XGBRegressor",
           "Topic 2"
          ]
         ],
         "hovertemplate": "<b>%{hovertext}</b><br><br>prediction=%{y:.3f}<br>mean_prediction=%{customdata[0]:.3f}<extra></extra>",
         "hovertext": [
          "XGBRegressor",
          "XGBRegressor",
          "XGBRegressor",
          "XGBRegressor",
          "XGBRegressor",
          "XGBRegressor",
          "XGBRegressor",
          "XGBRegressor",
          "XGBRegressor",
          "XGBRegressor",
          "XGBRegressor",
          "XGBRegressor",
          "XGBRegressor",
          "XGBRegressor",
          "XGBRegressor",
          "XGBRegressor",
          "XGBRegressor",
          "XGBRegressor",
          "XGBRegressor",
          "XGBRegressor",
          "XGBRegressor",
          "XGBRegressor",
          "XGBRegressor",
          "XGBRegressor",
          "XGBRegressor",
          "XGBRegressor",
          "XGBRegressor",
          "XGBRegressor",
          "XGBRegressor",
          "XGBRegressor",
          "XGBRegressor",
          "XGBRegressor",
          "XGBRegressor",
          "XGBRegressor",
          "XGBRegressor",
          "XGBRegressor",
          "XGBRegressor",
          "XGBRegressor",
          "XGBRegressor",
          "XGBRegressor",
          "XGBRegressor",
          "XGBRegressor",
          "XGBRegressor",
          "XGBRegressor",
          "XGBRegressor",
          "XGBRegressor",
          "XGBRegressor",
          "XGBRegressor",
          "XGBRegressor",
          "XGBRegressor",
          "XGBRegressor",
          "XGBRegressor",
          "XGBRegressor",
          "XGBRegressor",
          "XGBRegressor",
          "XGBRegressor",
          "XGBRegressor",
          "XGBRegressor",
          "XGBRegressor",
          "XGBRegressor",
          "XGBRegressor",
          "XGBRegressor",
          "XGBRegressor",
          "XGBRegressor",
          "XGBRegressor",
          "XGBRegressor",
          "XGBRegressor",
          "XGBRegressor",
          "XGBRegressor",
          "XGBRegressor",
          "XGBRegressor",
          "XGBRegressor",
          "XGBRegressor",
          "XGBRegressor",
          "XGBRegressor",
          "XGBRegressor",
          "XGBRegressor",
          "XGBRegressor",
          "XGBRegressor",
          "XGBRegressor",
          "XGBRegressor",
          "XGBRegressor",
          "XGBRegressor",
          "XGBRegressor",
          "XGBRegressor",
          "XGBRegressor",
          "XGBRegressor",
          "XGBRegressor",
          "XGBRegressor",
          "XGBRegressor",
          "XGBRegressor",
          "XGBRegressor",
          "XGBRegressor",
          "XGBRegressor",
          "XGBRegressor",
          "XGBRegressor",
          "XGBRegressor",
          "XGBRegressor",
          "XGBRegressor",
          "XGBRegressor",
          "XGBRegressor"
         ],
         "legendgroup": "XGBRegressor",
         "line": {
          "color": "#46bac2",
          "dash": "solid",
          "width": 2
         },
         "marker": {
          "symbol": "circle"
         },
         "mode": "lines",
         "name": "XGBRegressor",
         "orientation": "v",
         "showlegend": false,
         "x": [
          5.217420077280807E-6,
          0.010002918725932876,
          0.02000062003178847,
          0.029998321337644067,
          0.03999602264349966,
          0.04999372394935526,
          0.05999142525521085,
          0.06998912656106646,
          0.07998682786692204,
          0.08998452917277763,
          0.09998223047863324,
          0.10997993178448884,
          0.11997763309034443,
          0.12997533439620002,
          0.13997303570205563,
          0.14997073700791122,
          0.1599684383137668,
          0.1699661396196224,
          0.17996384092547799,
          0.1899615422313336,
          0.1999592435371892,
          0.20995694484304478,
          0.2199546461489004,
          0.22995234745475598,
          0.23995004876061157,
          0.24994775006646716,
          0.2599454513723228,
          0.26994315267817837,
          0.279940853984034,
          0.2899385552898896,
          0.2999362565957452,
          0.3099339579016008,
          0.31993165920745636,
          0.32992936051331195,
          0.33992706181916754,
          0.34992476312502313,
          0.3599224644308787,
          0.36992016573673436,
          0.37991786704258995,
          0.38991556834844554,
          0.39991326965430113,
          0.4099109709601567,
          0.4199086722660123,
          0.4299063735718679,
          0.43990407487772354,
          0.4499017761835791,
          0.4598994774894347,
          0.4698971787952903,
          0.4798948801011459,
          0.4898925814070015,
          0.49989028271285707,
          0.5098879840187127,
          0.5198856853245682,
          0.5298833866304239,
          0.5398810879362794,
          0.5498787892421351,
          0.5598764905479907,
          0.5698741918538462,
          0.5798718931597019,
          0.5898695944655574,
          0.5998672957714131,
          0.6098649970772686,
          0.6198626983831242,
          0.6298603996889798,
          0.6398581009948354,
          0.6498558023006911,
          0.6598535036065466,
          0.6698512049124022,
          0.6798489062182578,
          0.6898466075241134,
          0.699844308829969,
          0.7098420101358246,
          0.7198397114416801,
          0.7298374127475358,
          0.7398351140533914,
          0.749832815359247,
          0.7598305166651026,
          0.7698282179709581,
          0.7798259192768138,
          0.7898236205826693,
          0.799821321888525,
          0.8098190231943806,
          0.8198167245002361,
          0.8298144258060918,
          0.8398121271119473,
          0.849809828417803,
          0.8598075297236585,
          0.8698052310295141,
          0.8798029323353698,
          0.8898006336412253,
          0.899798334947081,
          0.9097960362529365,
          0.9197937375587921,
          0.9297914388646477,
          0.9397891401705033,
          0.9497868414763588,
          0.9597845427822145,
          0.9697822440880701,
          0.9797799453939257,
          0.9897776466997813,
          0.9997753480056368
         ],
         "xaxis": "x3",
         "y": [
          1060.6400146484375,
          68.50138092041016,
          53.92599105834961,
          49.99556350708008,
          51.101173400878906,
          50.84787368774414,
          55.84526062011719,
          55.84526062011719,
          55.99927520751953,
          55.99927520751953,
          58.88235092163086,
          73.6736068725586,
          58.36071014404297,
          59.77119827270508,
          88.88249206542969,
          58.13608932495117,
          58.13608932495117,
          58.13608932495117,
          58.13608932495117,
          58.13608932495117,
          60.03412628173828,
          60.03412628173828,
          69.9198989868164,
          69.96620178222656,
          69.96620178222656,
          69.96620178222656,
          69.96620178222656,
          69.96620178222656,
          75.1998291015625,
          75.1998291015625,
          75.41832733154297,
          75.41832733154297,
          75.41832733154297,
          76.40399169921875,
          76.40399169921875,
          76.88804626464844,
          76.88804626464844,
          76.88804626464844,
          76.88804626464844,
          127.20045471191406,
          107.9104995727539,
          83.64579010009766,
          82.93035125732422,
          82.93035125732422,
          82.93035125732422,
          82.93035125732422,
          82.93035125732422,
          82.93035125732422,
          82.93035125732422,
          82.93035125732422,
          82.93035125732422,
          82.93035125732422,
          83.52845764160156,
          83.52845764160156,
          83.52845764160156,
          82.5255126953125,
          82.5255126953125,
          73.50798034667969,
          79.99681854248047,
          79.99681854248047,
          79.99681854248047,
          79.99681854248047,
          79.99681854248047,
          79.99681854248047,
          79.99681854248047,
          79.99681854248047,
          79.99681854248047,
          79.99681854248047,
          89.2405014038086,
          89.2405014038086,
          89.2405014038086,
          89.2405014038086,
          89.2405014038086,
          89.2405014038086,
          89.2405014038086,
          89.74124908447266,
          89.74124908447266,
          89.74124908447266,
          89.74124908447266,
          89.74124908447266,
          116.09457397460938,
          277.5320129394531,
          206.50375366210938,
          206.5428924560547,
          206.5428924560547,
          206.5428924560547,
          206.5428924560547,
          206.5428924560547,
          206.5428924560547,
          226.20364379882812,
          226.20364379882812,
          219.96243286132812,
          450.1678466796875,
          450.1678466796875,
          450.1678466796875,
          450.1678466796875,
          429.19635009765625,
          429.19635009765625,
          429.19635009765625,
          429.19635009765625,
          411.1336669921875
         ],
         "yaxis": "y3",
         "type": "scatter",
         "opacity": 1
        },
        {
         "customdata": [
          [
           65.54780578613281,
           "XGBRegressor",
           "Topic 3"
          ],
          [
           65.54780578613281,
           "XGBRegressor",
           "Topic 3"
          ],
          [
           65.54780578613281,
           "XGBRegressor",
           "Topic 3"
          ],
          [
           65.54780578613281,
           "XGBRegressor",
           "Topic 3"
          ],
          [
           65.54780578613281,
           "XGBRegressor",
           "Topic 3"
          ],
          [
           65.54780578613281,
           "XGBRegressor",
           "Topic 3"
          ],
          [
           65.54780578613281,
           "XGBRegressor",
           "Topic 3"
          ],
          [
           65.54780578613281,
           "XGBRegressor",
           "Topic 3"
          ],
          [
           65.54780578613281,
           "XGBRegressor",
           "Topic 3"
          ],
          [
           65.54780578613281,
           "XGBRegressor",
           "Topic 3"
          ],
          [
           65.54780578613281,
           "XGBRegressor",
           "Topic 3"
          ],
          [
           65.54780578613281,
           "XGBRegressor",
           "Topic 3"
          ],
          [
           65.54780578613281,
           "XGBRegressor",
           "Topic 3"
          ],
          [
           65.54780578613281,
           "XGBRegressor",
           "Topic 3"
          ],
          [
           65.54780578613281,
           "XGBRegressor",
           "Topic 3"
          ],
          [
           65.54780578613281,
           "XGBRegressor",
           "Topic 3"
          ],
          [
           65.54780578613281,
           "XGBRegressor",
           "Topic 3"
          ],
          [
           65.54780578613281,
           "XGBRegressor",
           "Topic 3"
          ],
          [
           65.54780578613281,
           "XGBRegressor",
           "Topic 3"
          ],
          [
           65.54780578613281,
           "XGBRegressor",
           "Topic 3"
          ],
          [
           65.54780578613281,
           "XGBRegressor",
           "Topic 3"
          ],
          [
           65.54780578613281,
           "XGBRegressor",
           "Topic 3"
          ],
          [
           65.54780578613281,
           "XGBRegressor",
           "Topic 3"
          ],
          [
           65.54780578613281,
           "XGBRegressor",
           "Topic 3"
          ],
          [
           65.54780578613281,
           "XGBRegressor",
           "Topic 3"
          ],
          [
           65.54780578613281,
           "XGBRegressor",
           "Topic 3"
          ],
          [
           65.54780578613281,
           "XGBRegressor",
           "Topic 3"
          ],
          [
           65.54780578613281,
           "XGBRegressor",
           "Topic 3"
          ],
          [
           65.54780578613281,
           "XGBRegressor",
           "Topic 3"
          ],
          [
           65.54780578613281,
           "XGBRegressor",
           "Topic 3"
          ],
          [
           65.54780578613281,
           "XGBRegressor",
           "Topic 3"
          ],
          [
           65.54780578613281,
           "XGBRegressor",
           "Topic 3"
          ],
          [
           65.54780578613281,
           "XGBRegressor",
           "Topic 3"
          ],
          [
           65.54780578613281,
           "XGBRegressor",
           "Topic 3"
          ],
          [
           65.54780578613281,
           "XGBRegressor",
           "Topic 3"
          ],
          [
           65.54780578613281,
           "XGBRegressor",
           "Topic 3"
          ],
          [
           65.54780578613281,
           "XGBRegressor",
           "Topic 3"
          ],
          [
           65.54780578613281,
           "XGBRegressor",
           "Topic 3"
          ],
          [
           65.54780578613281,
           "XGBRegressor",
           "Topic 3"
          ],
          [
           65.54780578613281,
           "XGBRegressor",
           "Topic 3"
          ],
          [
           65.54780578613281,
           "XGBRegressor",
           "Topic 3"
          ],
          [
           65.54780578613281,
           "XGBRegressor",
           "Topic 3"
          ],
          [
           65.54780578613281,
           "XGBRegressor",
           "Topic 3"
          ],
          [
           65.54780578613281,
           "XGBRegressor",
           "Topic 3"
          ],
          [
           65.54780578613281,
           "XGBRegressor",
           "Topic 3"
          ],
          [
           65.54780578613281,
           "XGBRegressor",
           "Topic 3"
          ],
          [
           65.54780578613281,
           "XGBRegressor",
           "Topic 3"
          ],
          [
           65.54780578613281,
           "XGBRegressor",
           "Topic 3"
          ],
          [
           65.54780578613281,
           "XGBRegressor",
           "Topic 3"
          ],
          [
           65.54780578613281,
           "XGBRegressor",
           "Topic 3"
          ],
          [
           65.54780578613281,
           "XGBRegressor",
           "Topic 3"
          ],
          [
           65.54780578613281,
           "XGBRegressor",
           "Topic 3"
          ],
          [
           65.54780578613281,
           "XGBRegressor",
           "Topic 3"
          ],
          [
           65.54780578613281,
           "XGBRegressor",
           "Topic 3"
          ],
          [
           65.54780578613281,
           "XGBRegressor",
           "Topic 3"
          ],
          [
           65.54780578613281,
           "XGBRegressor",
           "Topic 3"
          ],
          [
           65.54780578613281,
           "XGBRegressor",
           "Topic 3"
          ],
          [
           65.54780578613281,
           "XGBRegressor",
           "Topic 3"
          ],
          [
           65.54780578613281,
           "XGBRegressor",
           "Topic 3"
          ],
          [
           65.54780578613281,
           "XGBRegressor",
           "Topic 3"
          ],
          [
           65.54780578613281,
           "XGBRegressor",
           "Topic 3"
          ],
          [
           65.54780578613281,
           "XGBRegressor",
           "Topic 3"
          ],
          [
           65.54780578613281,
           "XGBRegressor",
           "Topic 3"
          ],
          [
           65.54780578613281,
           "XGBRegressor",
           "Topic 3"
          ],
          [
           65.54780578613281,
           "XGBRegressor",
           "Topic 3"
          ],
          [
           65.54780578613281,
           "XGBRegressor",
           "Topic 3"
          ],
          [
           65.54780578613281,
           "XGBRegressor",
           "Topic 3"
          ],
          [
           65.54780578613281,
           "XGBRegressor",
           "Topic 3"
          ],
          [
           65.54780578613281,
           "XGBRegressor",
           "Topic 3"
          ],
          [
           65.54780578613281,
           "XGBRegressor",
           "Topic 3"
          ],
          [
           65.54780578613281,
           "XGBRegressor",
           "Topic 3"
          ],
          [
           65.54780578613281,
           "XGBRegressor",
           "Topic 3"
          ],
          [
           65.54780578613281,
           "XGBRegressor",
           "Topic 3"
          ],
          [
           65.54780578613281,
           "XGBRegressor",
           "Topic 3"
          ],
          [
           65.54780578613281,
           "XGBRegressor",
           "Topic 3"
          ],
          [
           65.54780578613281,
           "XGBRegressor",
           "Topic 3"
          ],
          [
           65.54780578613281,
           "XGBRegressor",
           "Topic 3"
          ],
          [
           65.54780578613281,
           "XGBRegressor",
           "Topic 3"
          ],
          [
           65.54780578613281,
           "XGBRegressor",
           "Topic 3"
          ],
          [
           65.54780578613281,
           "XGBRegressor",
           "Topic 3"
          ],
          [
           65.54780578613281,
           "XGBRegressor",
           "Topic 3"
          ],
          [
           65.54780578613281,
           "XGBRegressor",
           "Topic 3"
          ],
          [
           65.54780578613281,
           "XGBRegressor",
           "Topic 3"
          ],
          [
           65.54780578613281,
           "XGBRegressor",
           "Topic 3"
          ],
          [
           65.54780578613281,
           "XGBRegressor",
           "Topic 3"
          ],
          [
           65.54780578613281,
           "XGBRegressor",
           "Topic 3"
          ],
          [
           65.54780578613281,
           "XGBRegressor",
           "Topic 3"
          ],
          [
           65.54780578613281,
           "XGBRegressor",
           "Topic 3"
          ],
          [
           65.54780578613281,
           "XGBRegressor",
           "Topic 3"
          ],
          [
           65.54780578613281,
           "XGBRegressor",
           "Topic 3"
          ],
          [
           65.54780578613281,
           "XGBRegressor",
           "Topic 3"
          ],
          [
           65.54780578613281,
           "XGBRegressor",
           "Topic 3"
          ],
          [
           65.54780578613281,
           "XGBRegressor",
           "Topic 3"
          ],
          [
           65.54780578613281,
           "XGBRegressor",
           "Topic 3"
          ],
          [
           65.54780578613281,
           "XGBRegressor",
           "Topic 3"
          ],
          [
           65.54780578613281,
           "XGBRegressor",
           "Topic 3"
          ],
          [
           65.54780578613281,
           "XGBRegressor",
           "Topic 3"
          ],
          [
           65.54780578613281,
           "XGBRegressor",
           "Topic 3"
          ],
          [
           65.54780578613281,
           "XGBRegressor",
           "Topic 3"
          ],
          [
           65.54780578613281,
           "XGBRegressor",
           "Topic 3"
          ],
          [
           65.54780578613281,
           "XGBRegressor",
           "Topic 3"
          ]
         ],
         "hovertemplate": "<b>%{hovertext}</b><br><br>prediction=%{y:.3f}<br>mean_prediction=%{customdata[0]:.3f}<extra></extra>",
         "hovertext": [
          "XGBRegressor",
          "XGBRegressor",
          "XGBRegressor",
          "XGBRegressor",
          "XGBRegressor",
          "XGBRegressor",
          "XGBRegressor",
          "XGBRegressor",
          "XGBRegressor",
          "XGBRegressor",
          "XGBRegressor",
          "XGBRegressor",
          "XGBRegressor",
          "XGBRegressor",
          "XGBRegressor",
          "XGBRegressor",
          "XGBRegressor",
          "XGBRegressor",
          "XGBRegressor",
          "XGBRegressor",
          "XGBRegressor",
          "XGBRegressor",
          "XGBRegressor",
          "XGBRegressor",
          "XGBRegressor",
          "XGBRegressor",
          "XGBRegressor",
          "XGBRegressor",
          "XGBRegressor",
          "XGBRegressor",
          "XGBRegressor",
          "XGBRegressor",
          "XGBRegressor",
          "XGBRegressor",
          "XGBRegressor",
          "XGBRegressor",
          "XGBRegressor",
          "XGBRegressor",
          "XGBRegressor",
          "XGBRegressor",
          "XGBRegressor",
          "XGBRegressor",
          "XGBRegressor",
          "XGBRegressor",
          "XGBRegressor",
          "XGBRegressor",
          "XGBRegressor",
          "XGBRegressor",
          "XGBRegressor",
          "XGBRegressor",
          "XGBRegressor",
          "XGBRegressor",
          "XGBRegressor",
          "XGBRegressor",
          "XGBRegressor",
          "XGBRegressor",
          "XGBRegressor",
          "XGBRegressor",
          "XGBRegressor",
          "XGBRegressor",
          "XGBRegressor",
          "XGBRegressor",
          "XGBRegressor",
          "XGBRegressor",
          "XGBRegressor",
          "XGBRegressor",
          "XGBRegressor",
          "XGBRegressor",
          "XGBRegressor",
          "XGBRegressor",
          "XGBRegressor",
          "XGBRegressor",
          "XGBRegressor",
          "XGBRegressor",
          "XGBRegressor",
          "XGBRegressor",
          "XGBRegressor",
          "XGBRegressor",
          "XGBRegressor",
          "XGBRegressor",
          "XGBRegressor",
          "XGBRegressor",
          "XGBRegressor",
          "XGBRegressor",
          "XGBRegressor",
          "XGBRegressor",
          "XGBRegressor",
          "XGBRegressor",
          "XGBRegressor",
          "XGBRegressor",
          "XGBRegressor",
          "XGBRegressor",
          "XGBRegressor",
          "XGBRegressor",
          "XGBRegressor",
          "XGBRegressor",
          "XGBRegressor",
          "XGBRegressor",
          "XGBRegressor",
          "XGBRegressor",
          "XGBRegressor"
         ],
         "legendgroup": "XGBRegressor",
         "line": {
          "color": "#46bac2",
          "dash": "solid",
          "width": 2
         },
         "marker": {
          "symbol": "circle"
         },
         "mode": "lines",
         "name": "XGBRegressor",
         "orientation": "v",
         "showlegend": false,
         "x": [
          3.1996332143492395E-6,
          0.010002554027666668,
          0.020001908422118984,
          0.0300012628165713,
          0.040000617211023624,
          0.049999971605475944,
          0.05999932599992826,
          0.06999868039438058,
          0.0799980347888329,
          0.08999738918328522,
          0.09999674357773754,
          0.10999609797218986,
          0.11999545236664216,
          0.12999480676109448,
          0.1399941611555468,
          0.14999351554999912,
          0.15999286994445144,
          0.16999222433890376,
          0.17999157873335608,
          0.1899909331278084,
          0.19999028752226072,
          0.20998964191671304,
          0.21998899631116536,
          0.22998835070561768,
          0.23998770510006998,
          0.2499870594945223,
          0.2599864138889746,
          0.2699857682834269,
          0.27998512267787923,
          0.28998447707233155,
          0.29998383146678387,
          0.3099831858612362,
          0.3199825402556885,
          0.32998189465014083,
          0.33998124904459315,
          0.34998060343904547,
          0.3599799578334978,
          0.3699793122279501,
          0.37997866662240243,
          0.38997802101685475,
          0.39997737541130707,
          0.4099767298057594,
          0.4199760842002117,
          0.42997543859466403,
          0.43997479298911635,
          0.44997414738356867,
          0.459973501778021,
          0.4699728561724733,
          0.4799722105669256,
          0.4899715649613779,
          0.4999709193558302,
          0.5099702737502826,
          0.5199696281447349,
          0.5299689825391872,
          0.5399683369336395,
          0.5499676913280919,
          0.5599670457225442,
          0.5699664001169965,
          0.5799657545114488,
          0.5899651089059011,
          0.5999644633003535,
          0.6099638176948058,
          0.6199631720892581,
          0.6299625264837104,
          0.6399618808781627,
          0.6499612352726151,
          0.6599605896670674,
          0.6699599440615197,
          0.679959298455972,
          0.6899586528504243,
          0.6999580072448767,
          0.709957361639329,
          0.7199567160337813,
          0.7299560704282336,
          0.739955424822686,
          0.7499547792171383,
          0.7599541336115906,
          0.7699534880060429,
          0.7799528424004952,
          0.7899521967949475,
          0.7999515511893999,
          0.8099509055838522,
          0.8199502599783045,
          0.8299496143727568,
          0.8399489687672091,
          0.8499483231616615,
          0.8599476775561138,
          0.8699470319505661,
          0.8799463863450184,
          0.8899457407394707,
          0.8999450951339231,
          0.9099444495283754,
          0.9199438039228277,
          0.92994315831728,
          0.9399425127117323,
          0.9499418671061847,
          0.9599412215006369,
          0.9699405758950892,
          0.9799399302895415,
          0.9899392846839938,
          0.9999386390784463
         ],
         "xaxis": "x4",
         "y": [
          279.3401794433594,
          65.02191925048828,
          68.0821533203125,
          48.59206008911133,
          57.6795768737793,
          61.618125915527344,
          56.58852767944336,
          59.48464584350586,
          59.485740661621094,
          60.24453353881836,
          60.24453353881836,
          60.24453353881836,
          59.44575119018555,
          46.4071044921875,
          48.792633056640625,
          49.23957824707031,
          49.23957824707031,
          49.64323425292969,
          48.83000564575195,
          72.8857192993164,
          72.8857192993164,
          72.8857192993164,
          70.4980239868164,
          51.39035415649414,
          51.39035415649414,
          51.70062255859375,
          51.43579864501953,
          51.43579864501953,
          51.56318283081055,
          54.264644622802734,
          50.83967971801758,
          50.83967971801758,
          57.000518798828125,
          57.000518798828125,
          57.000518798828125,
          64.93948364257812,
          58.777008056640625,
          58.777008056640625,
          58.777008056640625,
          59.66584014892578,
          59.66584014892578,
          59.66584014892578,
          47.41855239868164,
          47.41855239868164,
          47.41855239868164,
          47.41855239868164,
          47.41855239868164,
          47.41855239868164,
          47.41855239868164,
          119.5818099975586,
          72.38459777832031,
          58.916561126708984,
          58.916561126708984,
          58.916561126708984,
          58.916561126708984,
          60.335575103759766,
          63.42378616333008,
          63.42378616333008,
          63.42378616333008,
          63.42378616333008,
          63.42378616333008,
          63.42378616333008,
          63.42378616333008,
          63.42378616333008,
          63.42378616333008,
          63.42378616333008,
          63.42378616333008,
          63.42378616333008,
          63.42378616333008,
          63.42378616333008,
          63.42378616333008,
          63.42378616333008,
          50.54135513305664,
          50.54135513305664,
          50.54135513305664,
          50.54135513305664,
          50.54135513305664,
          50.54135513305664,
          50.54135513305664,
          50.54135513305664,
          50.54135513305664,
          50.54135513305664,
          50.54135513305664,
          50.364803314208984,
          50.364803314208984,
          50.364803314208984,
          50.364803314208984,
          50.364803314208984,
          50.364803314208984,
          50.364803314208984,
          50.364803314208984,
          50.364803314208984,
          50.364803314208984,
          50.364803314208984,
          50.364803314208984,
          50.364803314208984,
          50.364803314208984,
          50.364803314208984,
          50.364803314208984,
          50.364803314208984,
          50.364803314208984
         ],
         "yaxis": "y4",
         "type": "scatter",
         "opacity": 1
        },
        {
         "customdata": [
          [
           65.54780578613281,
           "XGBRegressor",
           "Topic 4"
          ],
          [
           65.54780578613281,
           "XGBRegressor",
           "Topic 4"
          ],
          [
           65.54780578613281,
           "XGBRegressor",
           "Topic 4"
          ],
          [
           65.54780578613281,
           "XGBRegressor",
           "Topic 4"
          ],
          [
           65.54780578613281,
           "XGBRegressor",
           "Topic 4"
          ],
          [
           65.54780578613281,
           "XGBRegressor",
           "Topic 4"
          ],
          [
           65.54780578613281,
           "XGBRegressor",
           "Topic 4"
          ],
          [
           65.54780578613281,
           "XGBRegressor",
           "Topic 4"
          ],
          [
           65.54780578613281,
           "XGBRegressor",
           "Topic 4"
          ],
          [
           65.54780578613281,
           "XGBRegressor",
           "Topic 4"
          ],
          [
           65.54780578613281,
           "XGBRegressor",
           "Topic 4"
          ],
          [
           65.54780578613281,
           "XGBRegressor",
           "Topic 4"
          ],
          [
           65.54780578613281,
           "XGBRegressor",
           "Topic 4"
          ],
          [
           65.54780578613281,
           "XGBRegressor",
           "Topic 4"
          ],
          [
           65.54780578613281,
           "XGBRegressor",
           "Topic 4"
          ],
          [
           65.54780578613281,
           "XGBRegressor",
           "Topic 4"
          ],
          [
           65.54780578613281,
           "XGBRegressor",
           "Topic 4"
          ],
          [
           65.54780578613281,
           "XGBRegressor",
           "Topic 4"
          ],
          [
           65.54780578613281,
           "XGBRegressor",
           "Topic 4"
          ],
          [
           65.54780578613281,
           "XGBRegressor",
           "Topic 4"
          ],
          [
           65.54780578613281,
           "XGBRegressor",
           "Topic 4"
          ],
          [
           65.54780578613281,
           "XGBRegressor",
           "Topic 4"
          ],
          [
           65.54780578613281,
           "XGBRegressor",
           "Topic 4"
          ],
          [
           65.54780578613281,
           "XGBRegressor",
           "Topic 4"
          ],
          [
           65.54780578613281,
           "XGBRegressor",
           "Topic 4"
          ],
          [
           65.54780578613281,
           "XGBRegressor",
           "Topic 4"
          ],
          [
           65.54780578613281,
           "XGBRegressor",
           "Topic 4"
          ],
          [
           65.54780578613281,
           "XGBRegressor",
           "Topic 4"
          ],
          [
           65.54780578613281,
           "XGBRegressor",
           "Topic 4"
          ],
          [
           65.54780578613281,
           "XGBRegressor",
           "Topic 4"
          ],
          [
           65.54780578613281,
           "XGBRegressor",
           "Topic 4"
          ],
          [
           65.54780578613281,
           "XGBRegressor",
           "Topic 4"
          ],
          [
           65.54780578613281,
           "XGBRegressor",
           "Topic 4"
          ],
          [
           65.54780578613281,
           "XGBRegressor",
           "Topic 4"
          ],
          [
           65.54780578613281,
           "XGBRegressor",
           "Topic 4"
          ],
          [
           65.54780578613281,
           "XGBRegressor",
           "Topic 4"
          ],
          [
           65.54780578613281,
           "XGBRegressor",
           "Topic 4"
          ],
          [
           65.54780578613281,
           "XGBRegressor",
           "Topic 4"
          ],
          [
           65.54780578613281,
           "XGBRegressor",
           "Topic 4"
          ],
          [
           65.54780578613281,
           "XGBRegressor",
           "Topic 4"
          ],
          [
           65.54780578613281,
           "XGBRegressor",
           "Topic 4"
          ],
          [
           65.54780578613281,
           "XGBRegressor",
           "Topic 4"
          ],
          [
           65.54780578613281,
           "XGBRegressor",
           "Topic 4"
          ],
          [
           65.54780578613281,
           "XGBRegressor",
           "Topic 4"
          ],
          [
           65.54780578613281,
           "XGBRegressor",
           "Topic 4"
          ],
          [
           65.54780578613281,
           "XGBRegressor",
           "Topic 4"
          ],
          [
           65.54780578613281,
           "XGBRegressor",
           "Topic 4"
          ],
          [
           65.54780578613281,
           "XGBRegressor",
           "Topic 4"
          ],
          [
           65.54780578613281,
           "XGBRegressor",
           "Topic 4"
          ],
          [
           65.54780578613281,
           "XGBRegressor",
           "Topic 4"
          ],
          [
           65.54780578613281,
           "XGBRegressor",
           "Topic 4"
          ],
          [
           65.54780578613281,
           "XGBRegressor",
           "Topic 4"
          ],
          [
           65.54780578613281,
           "XGBRegressor",
           "Topic 4"
          ],
          [
           65.54780578613281,
           "XGBRegressor",
           "Topic 4"
          ],
          [
           65.54780578613281,
           "XGBRegressor",
           "Topic 4"
          ],
          [
           65.54780578613281,
           "XGBRegressor",
           "Topic 4"
          ],
          [
           65.54780578613281,
           "XGBRegressor",
           "Topic 4"
          ],
          [
           65.54780578613281,
           "XGBRegressor",
           "Topic 4"
          ],
          [
           65.54780578613281,
           "XGBRegressor",
           "Topic 4"
          ],
          [
           65.54780578613281,
           "XGBRegressor",
           "Topic 4"
          ],
          [
           65.54780578613281,
           "XGBRegressor",
           "Topic 4"
          ],
          [
           65.54780578613281,
           "XGBRegressor",
           "Topic 4"
          ],
          [
           65.54780578613281,
           "XGBRegressor",
           "Topic 4"
          ],
          [
           65.54780578613281,
           "XGBRegressor",
           "Topic 4"
          ],
          [
           65.54780578613281,
           "XGBRegressor",
           "Topic 4"
          ],
          [
           65.54780578613281,
           "XGBRegressor",
           "Topic 4"
          ],
          [
           65.54780578613281,
           "XGBRegressor",
           "Topic 4"
          ],
          [
           65.54780578613281,
           "XGBRegressor",
           "Topic 4"
          ],
          [
           65.54780578613281,
           "XGBRegressor",
           "Topic 4"
          ],
          [
           65.54780578613281,
           "XGBRegressor",
           "Topic 4"
          ],
          [
           65.54780578613281,
           "XGBRegressor",
           "Topic 4"
          ],
          [
           65.54780578613281,
           "XGBRegressor",
           "Topic 4"
          ],
          [
           65.54780578613281,
           "XGBRegressor",
           "Topic 4"
          ],
          [
           65.54780578613281,
           "XGBRegressor",
           "Topic 4"
          ],
          [
           65.54780578613281,
           "XGBRegressor",
           "Topic 4"
          ],
          [
           65.54780578613281,
           "XGBRegressor",
           "Topic 4"
          ],
          [
           65.54780578613281,
           "XGBRegressor",
           "Topic 4"
          ],
          [
           65.54780578613281,
           "XGBRegressor",
           "Topic 4"
          ],
          [
           65.54780578613281,
           "XGBRegressor",
           "Topic 4"
          ],
          [
           65.54780578613281,
           "XGBRegressor",
           "Topic 4"
          ],
          [
           65.54780578613281,
           "XGBRegressor",
           "Topic 4"
          ],
          [
           65.54780578613281,
           "XGBRegressor",
           "Topic 4"
          ],
          [
           65.54780578613281,
           "XGBRegressor",
           "Topic 4"
          ],
          [
           65.54780578613281,
           "XGBRegressor",
           "Topic 4"
          ],
          [
           65.54780578613281,
           "XGBRegressor",
           "Topic 4"
          ],
          [
           65.54780578613281,
           "XGBRegressor",
           "Topic 4"
          ],
          [
           65.54780578613281,
           "XGBRegressor",
           "Topic 4"
          ],
          [
           65.54780578613281,
           "XGBRegressor",
           "Topic 4"
          ],
          [
           65.54780578613281,
           "XGBRegressor",
           "Topic 4"
          ],
          [
           65.54780578613281,
           "XGBRegressor",
           "Topic 4"
          ],
          [
           65.54780578613281,
           "XGBRegressor",
           "Topic 4"
          ],
          [
           65.54780578613281,
           "XGBRegressor",
           "Topic 4"
          ],
          [
           65.54780578613281,
           "XGBRegressor",
           "Topic 4"
          ],
          [
           65.54780578613281,
           "XGBRegressor",
           "Topic 4"
          ],
          [
           65.54780578613281,
           "XGBRegressor",
           "Topic 4"
          ],
          [
           65.54780578613281,
           "XGBRegressor",
           "Topic 4"
          ],
          [
           65.54780578613281,
           "XGBRegressor",
           "Topic 4"
          ],
          [
           65.54780578613281,
           "XGBRegressor",
           "Topic 4"
          ],
          [
           65.54780578613281,
           "XGBRegressor",
           "Topic 4"
          ],
          [
           65.54780578613281,
           "XGBRegressor",
           "Topic 4"
          ],
          [
           65.54780578613281,
           "XGBRegressor",
           "Topic 4"
          ]
         ],
         "hovertemplate": "<b>%{hovertext}</b><br><br>prediction=%{y:.3f}<br>mean_prediction=%{customdata[0]:.3f}<extra></extra>",
         "hovertext": [
          "XGBRegressor",
          "XGBRegressor",
          "XGBRegressor",
          "XGBRegressor",
          "XGBRegressor",
          "XGBRegressor",
          "XGBRegressor",
          "XGBRegressor",
          "XGBRegressor",
          "XGBRegressor",
          "XGBRegressor",
          "XGBRegressor",
          "XGBRegressor",
          "XGBRegressor",
          "XGBRegressor",
          "XGBRegressor",
          "XGBRegressor",
          "XGBRegressor",
          "XGBRegressor",
          "XGBRegressor",
          "XGBRegressor",
          "XGBRegressor",
          "XGBRegressor",
          "XGBRegressor",
          "XGBRegressor",
          "XGBRegressor",
          "XGBRegressor",
          "XGBRegressor",
          "XGBRegressor",
          "XGBRegressor",
          "XGBRegressor",
          "XGBRegressor",
          "XGBRegressor",
          "XGBRegressor",
          "XGBRegressor",
          "XGBRegressor",
          "XGBRegressor",
          "XGBRegressor",
          "XGBRegressor",
          "XGBRegressor",
          "XGBRegressor",
          "XGBRegressor",
          "XGBRegressor",
          "XGBRegressor",
          "XGBRegressor",
          "XGBRegressor",
          "XGBRegressor",
          "XGBRegressor",
          "XGBRegressor",
          "XGBRegressor",
          "XGBRegressor",
          "XGBRegressor",
          "XGBRegressor",
          "XGBRegressor",
          "XGBRegressor",
          "XGBRegressor",
          "XGBRegressor",
          "XGBRegressor",
          "XGBRegressor",
          "XGBRegressor",
          "XGBRegressor",
          "XGBRegressor",
          "XGBRegressor",
          "XGBRegressor",
          "XGBRegressor",
          "XGBRegressor",
          "XGBRegressor",
          "XGBRegressor",
          "XGBRegressor",
          "XGBRegressor",
          "XGBRegressor",
          "XGBRegressor",
          "XGBRegressor",
          "XGBRegressor",
          "XGBRegressor",
          "XGBRegressor",
          "XGBRegressor",
          "XGBRegressor",
          "XGBRegressor",
          "XGBRegressor",
          "XGBRegressor",
          "XGBRegressor",
          "XGBRegressor",
          "XGBRegressor",
          "XGBRegressor",
          "XGBRegressor",
          "XGBRegressor",
          "XGBRegressor",
          "XGBRegressor",
          "XGBRegressor",
          "XGBRegressor",
          "XGBRegressor",
          "XGBRegressor",
          "XGBRegressor",
          "XGBRegressor",
          "XGBRegressor",
          "XGBRegressor",
          "XGBRegressor",
          "XGBRegressor",
          "XGBRegressor",
          "XGBRegressor"
         ],
         "legendgroup": "XGBRegressor",
         "line": {
          "color": "#46bac2",
          "dash": "solid",
          "width": 2
         },
         "marker": {
          "symbol": "circle"
         },
         "mode": "lines",
         "name": "XGBRegressor",
         "orientation": "v",
         "showlegend": false,
         "x": [
          6.125335474323604E-6,
          0.010005494385104209,
          0.020004863434734097,
          0.030004232484363985,
          0.04000360153399387,
          0.050002970583623754,
          0.060002339633253646,
          0.07000170868288352,
          0.08000107773251341,
          0.0900004467821433,
          0.09999981583177318,
          0.10999918488140308,
          0.11999855393103297,
          0.12999792298066284,
          0.1399972920302927,
          0.1499966610799226,
          0.1599960301295525,
          0.16999539917918238,
          0.17999476822881227,
          0.18999413727844214,
          0.19999350632807203,
          0.20999287537770192,
          0.2199922444273318,
          0.2299916134769617,
          0.2399909825265916,
          0.24999035157622146,
          0.2599897206258514,
          0.26998908967548124,
          0.27998845872511113,
          0.289987827774741,
          0.2999871968243709,
          0.3099865658740008,
          0.3199859349236307,
          0.3299853039732606,
          0.3399846730228905,
          0.3499840420725204,
          0.35998341112215027,
          0.36998278017178016,
          0.37998214922141,
          0.3899815182710399,
          0.3999808873206698,
          0.40998025637029967,
          0.41997962541992956,
          0.42997899446955945,
          0.43997836351918934,
          0.44997773256881923,
          0.4599771016184491,
          0.469976470668079,
          0.4799758397177089,
          0.48997520876733874,
          0.49997457781696863,
          0.5099739468665985,
          0.5199733159162284,
          0.5299726849658583,
          0.5399720540154881,
          0.549971423065118,
          0.5599707921147479,
          0.5699701611643778,
          0.5799695302140077,
          0.5899688992636376,
          0.5999682683132674,
          0.6099676373628974,
          0.6199670064125272,
          0.6299663754621572,
          0.639965744511787,
          0.6499651135614168,
          0.6599644826110468,
          0.6699638516606766,
          0.6799632207103066,
          0.6899625897599364,
          0.6999619588095664,
          0.7099613278591962,
          0.7199606969088261,
          0.729960065958456,
          0.7399594350080859,
          0.7499588040577158,
          0.7599581731073456,
          0.7699575421569755,
          0.7799569112066054,
          0.7899562802562353,
          0.7999556493058652,
          0.8099550183554951,
          0.8199543874051249,
          0.8299537564547549,
          0.8399531255043847,
          0.8499524945540147,
          0.8599518636036445,
          0.8699512326532743,
          0.8799506017029043,
          0.8899499707525341,
          0.8999493398021641,
          0.9099487088517939,
          0.9199480779014239,
          0.9299474469510537,
          0.9399468160006836,
          0.9499461850503135,
          0.9599455540999434,
          0.9699449231495733,
          0.9799442921992031,
          0.989943661248833,
          0.999943030298463
         ],
         "xaxis": "x",
         "y": [
          41.396541595458984,
          63.92200469970703,
          49.89840316772461,
          49.89840316772461,
          49.586143493652344,
          49.586143493652344,
          49.732704162597656,
          49.732704162597656,
          46.22303771972656,
          45.65336227416992,
          45.09519577026367,
          44.12651443481445,
          44.12651443481445,
          44.12651443481445,
          47.61576843261719,
          62.35353469848633,
          47.807884216308594,
          51.81569290161133,
          51.81569290161133,
          52.22491455078125,
          52.22491455078125,
          95.54736328125,
          72.7310791015625,
          72.7310791015625,
          72.72334289550781,
          72.25574493408203,
          72.25574493408203,
          72.25574493408203,
          72.25574493408203,
          72.25574493408203,
          72.25574493408203,
          69.45848846435547,
          63.70244598388672,
          63.21889114379883,
          251.58087158203125,
          67.16011047363281,
          67.16011047363281,
          68.41561126708984,
          67.388427734375,
          106.85932922363281,
          85.05342864990234,
          84.352294921875,
          84.352294921875,
          84.352294921875,
          110.83417510986328,
          82.01824951171875,
          74.94586944580078,
          74.56706237792969,
          74.88140869140625,
          126.14801025390625,
          75.68940734863281,
          75.68940734863281,
          76.00411987304688,
          80.44073486328125,
          80.44073486328125,
          86.98204803466797,
          89.70726013183594,
          81.75077819824219,
          81.75077819824219,
          81.75077819824219,
          121.2671890258789,
          84.5243148803711,
          84.5243148803711,
          84.5243148803711,
          84.5243148803711,
          84.5243148803711,
          88.02827453613281,
          135.1485137939453,
          97.83035278320312,
          103.54663848876953,
          137.52703857421875,
          137.52703857421875,
          136.9354705810547,
          136.9354705810547,
          136.9354705810547,
          135.75399780273438,
          131.2149658203125,
          131.2149658203125,
          131.2149658203125,
          131.2149658203125,
          283.2523498535156,
          250.31202697753906,
          250.4483184814453,
          272.3410339355469,
          272.3410339355469,
          266.7246398925781,
          272.9122009277344,
          301.3091735839844,
          300.3309326171875,
          5658.341796875,
          315.5163269042969,
          335.6635437011719,
          324.8854675292969,
          340.97216796875,
          334.64263916015625,
          314.376220703125,
          307.5332336425781,
          332.2495422363281,
          333.6660461425781,
          333.6660461425781,
          333.6660461425781
         ],
         "yaxis": "y",
         "type": "scatter",
         "opacity": 1
        }
       ],
       "layout": {
        "template": {
         "data": {
          "scatter": [
           {
            "type": "scatter"
           }
          ]
         }
        },
        "xaxis": {
         "anchor": "y",
         "domain": [
          0.0,
          0.475
         ],
         "title": {
          "text": ""
         },
         "showticklabels": true,
         "type": "linear",
         "gridwidth": 2,
         "zeroline": false,
         "automargin": true,
         "ticks": "outside",
         "tickcolor": "white",
         "ticklen": 3,
         "fixedrange": true
        },
        "yaxis": {
         "anchor": "x",
         "domain": [
          0.0,
          0.26666666666666666
         ],
         "title": {
          "text": ""
         },
         "range": [
          -520.2979896545411,
          6220.036328125
         ],
         "type": "linear",
         "gridwidth": 2,
         "zeroline": false,
         "automargin": true,
         "ticks": "outside",
         "tickcolor": "white",
         "ticklen": 3,
         "fixedrange": true
        },
        "xaxis2": {
         "anchor": "y2",
         "domain": [
          0.525,
          1.0
         ],
         "title": {
          "text": ""
         },
         "showticklabels": true,
         "type": "linear",
         "gridwidth": 2,
         "zeroline": false,
         "automargin": true,
         "ticks": "outside",
         "tickcolor": "white",
         "ticklen": 3,
         "fixedrange": true
        },
        "yaxis2": {
         "anchor": "x2",
         "domain": [
          0.0,
          0.26666666666666666
         ],
         "matches": "y",
         "showticklabels": false,
         "type": "linear",
         "gridwidth": 2,
         "zeroline": false,
         "automargin": true,
         "ticks": "outside",
         "tickcolor": "white",
         "ticklen": 3,
         "fixedrange": true,
         "title": {
          "text": ""
         }
        },
        "xaxis3": {
         "anchor": "y3",
         "domain": [
          0.0,
          0.475
         ],
         "showticklabels": true,
         "type": "linear",
         "gridwidth": 2,
         "zeroline": false,
         "automargin": true,
         "ticks": "outside",
         "tickcolor": "white",
         "ticklen": 3,
         "fixedrange": true,
         "title": {
          "text": ""
         }
        },
        "yaxis3": {
         "anchor": "x3",
         "domain": [
          0.36666666666666664,
          0.6333333333333333
         ],
         "matches": "y",
         "title": {
          "text": ""
         },
         "range": [
          -520.2979896545411,
          6220.036328125
         ],
         "type": "linear",
         "gridwidth": 2,
         "zeroline": false,
         "automargin": true,
         "ticks": "outside",
         "tickcolor": "white",
         "ticklen": 3,
         "fixedrange": true
        },
        "xaxis4": {
         "anchor": "y4",
         "domain": [
          0.525,
          1.0
         ],
         "showticklabels": true,
         "type": "linear",
         "gridwidth": 2,
         "zeroline": false,
         "automargin": true,
         "ticks": "outside",
         "tickcolor": "white",
         "ticklen": 3,
         "fixedrange": true,
         "title": {
          "text": ""
         }
        },
        "yaxis4": {
         "anchor": "x4",
         "domain": [
          0.36666666666666664,
          0.6333333333333333
         ],
         "matches": "y",
         "showticklabels": false,
         "type": "linear",
         "gridwidth": 2,
         "zeroline": false,
         "automargin": true,
         "ticks": "outside",
         "tickcolor": "white",
         "ticklen": 3,
         "fixedrange": true,
         "title": {
          "text": ""
         }
        },
        "xaxis5": {
         "anchor": "y5",
         "domain": [
          0.0,
          0.475
         ],
         "showticklabels": true,
         "type": "linear",
         "gridwidth": 2,
         "zeroline": false,
         "automargin": true,
         "ticks": "outside",
         "tickcolor": "white",
         "ticklen": 3,
         "fixedrange": true,
         "title": {
          "text": ""
         }
        },
        "yaxis5": {
         "anchor": "x5",
         "domain": [
          0.7333333333333333,
          1.0
         ],
         "matches": "y",
         "title": {
          "text": ""
         },
         "range": [
          -520.2979896545411,
          6220.036328125
         ],
         "type": "linear",
         "gridwidth": 2,
         "zeroline": false,
         "automargin": true,
         "ticks": "outside",
         "tickcolor": "white",
         "ticklen": 3,
         "fixedrange": true
        },
        "xaxis6": {
         "anchor": "y6",
         "domain": [
          0.525,
          1.0
         ],
         "showticklabels": true,
         "type": "linear",
         "gridwidth": 2,
         "zeroline": false,
         "automargin": true,
         "ticks": "outside",
         "tickcolor": "white",
         "ticklen": 3,
         "fixedrange": true,
         "title": {
          "text": ""
         }
        },
        "yaxis6": {
         "anchor": "x6",
         "domain": [
          0.7333333333333333,
          1.0
         ],
         "matches": "y",
         "showticklabels": false,
         "type": "linear",
         "gridwidth": 2,
         "zeroline": false,
         "automargin": true,
         "ticks": "outside",
         "tickcolor": "white",
         "ticklen": 3,
         "fixedrange": true,
         "title": {
          "text": ""
         }
        },
        "annotations": [
         {
          "font": {
           "size": 13
          },
          "showarrow": false,
          "text": "Topic 4",
          "x": 0.2375,
          "xanchor": "center",
          "xref": "paper",
          "y": 0.26666666666666666,
          "yanchor": "bottom",
          "yref": "paper"
         },
         {
          "font": {
           "size": 13
          },
          "showarrow": false,
          "text": "Topic 2",
          "x": 0.2375,
          "xanchor": "center",
          "xref": "paper",
          "y": 0.6333333333333333,
          "yanchor": "bottom",
          "yref": "paper"
         },
         {
          "font": {
           "size": 13
          },
          "showarrow": false,
          "text": "Topic 3",
          "x": 0.7625,
          "xanchor": "center",
          "xref": "paper",
          "y": 0.6333333333333333,
          "yanchor": "bottom",
          "yref": "paper"
         },
         {
          "font": {
           "size": 13
          },
          "showarrow": false,
          "text": "Topic 0",
          "x": 0.2375,
          "xanchor": "center",
          "xref": "paper",
          "y": 1.0,
          "yanchor": "bottom",
          "yref": "paper"
         },
         {
          "font": {
           "size": 13
          },
          "showarrow": false,
          "text": "Topic 1",
          "x": 0.7625,
          "xanchor": "center",
          "xref": "paper",
          "y": 1.0,
          "yanchor": "bottom",
          "yref": "paper"
         },
         {
          "font": {
           "size": 13
          },
          "showarrow": false,
          "text": "prediction",
          "textangle": -90,
          "x": -0.07,
          "xref": "paper",
          "y": 0.5,
          "yref": "paper"
         }
        ],
        "legend": {
         "title": {
          "text": "label",
          "font": {
           "size": 12
          }
         },
         "tracegroupgap": 0,
         "font": {
          "size": 11
         },
         "orientation": "h",
         "yanchor": "bottom",
         "y": 1.0256629597946962,
         "xanchor": "right",
         "x": 1,
         "itemsizing": "constant"
        },
        "margin": {
         "t": 78,
         "b": 71,
         "r": 30
        },
        "font": {
         "color": "#371ea3"
        },
        "title": {
         "font": {
          "size": 16
         },
         "text": "Aggregated Profiles",
         "x": 0.15
        },
        "hovermode": "x unified",
        "height": 1169
       },
       "config": {
        "plotlyServerURL": "https://plot.ly"
       }
      },
      "text/html": "<div>                            <div id=\"ec433874-0c18-4879-8839-0c90e0bcf00d\" class=\"plotly-graph-div\" style=\"height:1169px; width:100%;\"></div>            <script type=\"text/javascript\">                require([\"plotly\"], function(Plotly) {                    window.PLOTLYENV=window.PLOTLYENV || {};                                    if (document.getElementById(\"ec433874-0c18-4879-8839-0c90e0bcf00d\")) {                    Plotly.newPlot(                        \"ec433874-0c18-4879-8839-0c90e0bcf00d\",                        [{\"customdata\":[[65.54780578613281,\"XGBRegressor\",\"Topic 0\"],[65.54780578613281,\"XGBRegressor\",\"Topic 0\"],[65.54780578613281,\"XGBRegressor\",\"Topic 0\"],[65.54780578613281,\"XGBRegressor\",\"Topic 0\"],[65.54780578613281,\"XGBRegressor\",\"Topic 0\"],[65.54780578613281,\"XGBRegressor\",\"Topic 0\"],[65.54780578613281,\"XGBRegressor\",\"Topic 0\"],[65.54780578613281,\"XGBRegressor\",\"Topic 0\"],[65.54780578613281,\"XGBRegressor\",\"Topic 0\"],[65.54780578613281,\"XGBRegressor\",\"Topic 0\"],[65.54780578613281,\"XGBRegressor\",\"Topic 0\"],[65.54780578613281,\"XGBRegressor\",\"Topic 0\"],[65.54780578613281,\"XGBRegressor\",\"Topic 0\"],[65.54780578613281,\"XGBRegressor\",\"Topic 0\"],[65.54780578613281,\"XGBRegressor\",\"Topic 0\"],[65.54780578613281,\"XGBRegressor\",\"Topic 0\"],[65.54780578613281,\"XGBRegressor\",\"Topic 0\"],[65.54780578613281,\"XGBRegressor\",\"Topic 0\"],[65.54780578613281,\"XGBRegressor\",\"Topic 0\"],[65.54780578613281,\"XGBRegressor\",\"Topic 0\"],[65.54780578613281,\"XGBRegressor\",\"Topic 0\"],[65.54780578613281,\"XGBRegressor\",\"Topic 0\"],[65.54780578613281,\"XGBRegressor\",\"Topic 0\"],[65.54780578613281,\"XGBRegressor\",\"Topic 0\"],[65.54780578613281,\"XGBRegressor\",\"Topic 0\"],[65.54780578613281,\"XGBRegressor\",\"Topic 0\"],[65.54780578613281,\"XGBRegressor\",\"Topic 0\"],[65.54780578613281,\"XGBRegressor\",\"Topic 0\"],[65.54780578613281,\"XGBRegressor\",\"Topic 0\"],[65.54780578613281,\"XGBRegressor\",\"Topic 0\"],[65.54780578613281,\"XGBRegressor\",\"Topic 0\"],[65.54780578613281,\"XGBRegressor\",\"Topic 0\"],[65.54780578613281,\"XGBRegressor\",\"Topic 0\"],[65.54780578613281,\"XGBRegressor\",\"Topic 0\"],[65.54780578613281,\"XGBRegressor\",\"Topic 0\"],[65.54780578613281,\"XGBRegressor\",\"Topic 0\"],[65.54780578613281,\"XGBRegressor\",\"Topic 0\"],[65.54780578613281,\"XGBRegressor\",\"Topic 0\"],[65.54780578613281,\"XGBRegressor\",\"Topic 0\"],[65.54780578613281,\"XGBRegressor\",\"Topic 0\"],[65.54780578613281,\"XGBRegressor\",\"Topic 0\"],[65.54780578613281,\"XGBRegressor\",\"Topic 0\"],[65.54780578613281,\"XGBRegressor\",\"Topic 0\"],[65.54780578613281,\"XGBRegressor\",\"Topic 0\"],[65.54780578613281,\"XGBRegressor\",\"Topic 0\"],[65.54780578613281,\"XGBRegressor\",\"Topic 0\"],[65.54780578613281,\"XGBRegressor\",\"Topic 0\"],[65.54780578613281,\"XGBRegressor\",\"Topic 0\"],[65.54780578613281,\"XGBRegressor\",\"Topic 0\"],[65.54780578613281,\"XGBRegressor\",\"Topic 0\"],[65.54780578613281,\"XGBRegressor\",\"Topic 0\"],[65.54780578613281,\"XGBRegressor\",\"Topic 0\"],[65.54780578613281,\"XGBRegressor\",\"Topic 0\"],[65.54780578613281,\"XGBRegressor\",\"Topic 0\"],[65.54780578613281,\"XGBRegressor\",\"Topic 0\"],[65.54780578613281,\"XGBRegressor\",\"Topic 0\"],[65.54780578613281,\"XGBRegressor\",\"Topic 0\"],[65.54780578613281,\"XGBRegressor\",\"Topic 0\"],[65.54780578613281,\"XGBRegressor\",\"Topic 0\"],[65.54780578613281,\"XGBRegressor\",\"Topic 0\"],[65.54780578613281,\"XGBRegressor\",\"Topic 0\"],[65.54780578613281,\"XGBRegressor\",\"Topic 0\"],[65.54780578613281,\"XGBRegressor\",\"Topic 0\"],[65.54780578613281,\"XGBRegressor\",\"Topic 0\"],[65.54780578613281,\"XGBRegressor\",\"Topic 0\"],[65.54780578613281,\"XGBRegressor\",\"Topic 0\"],[65.54780578613281,\"XGBRegressor\",\"Topic 0\"],[65.54780578613281,\"XGBRegressor\",\"Topic 0\"],[65.54780578613281,\"XGBRegressor\",\"Topic 0\"],[65.54780578613281,\"XGBRegressor\",\"Topic 0\"],[65.54780578613281,\"XGBRegressor\",\"Topic 0\"],[65.54780578613281,\"XGBRegressor\",\"Topic 0\"],[65.54780578613281,\"XGBRegressor\",\"Topic 0\"],[65.54780578613281,\"XGBRegressor\",\"Topic 0\"],[65.54780578613281,\"XGBRegressor\",\"Topic 0\"],[65.54780578613281,\"XGBRegressor\",\"Topic 0\"],[65.54780578613281,\"XGBRegressor\",\"Topic 0\"],[65.54780578613281,\"XGBRegressor\",\"Topic 0\"],[65.54780578613281,\"XGBRegressor\",\"Topic 0\"],[65.54780578613281,\"XGBRegressor\",\"Topic 0\"],[65.54780578613281,\"XGBRegressor\",\"Topic 0\"],[65.54780578613281,\"XGBRegressor\",\"Topic 0\"],[65.54780578613281,\"XGBRegressor\",\"Topic 0\"],[65.54780578613281,\"XGBRegressor\",\"Topic 0\"],[65.54780578613281,\"XGBRegressor\",\"Topic 0\"],[65.54780578613281,\"XGBRegressor\",\"Topic 0\"],[65.54780578613281,\"XGBRegressor\",\"Topic 0\"],[65.54780578613281,\"XGBRegressor\",\"Topic 0\"],[65.54780578613281,\"XGBRegressor\",\"Topic 0\"],[65.54780578613281,\"XGBRegressor\",\"Topic 0\"],[65.54780578613281,\"XGBRegressor\",\"Topic 0\"],[65.54780578613281,\"XGBRegressor\",\"Topic 0\"],[65.54780578613281,\"XGBRegressor\",\"Topic 0\"],[65.54780578613281,\"XGBRegressor\",\"Topic 0\"],[65.54780578613281,\"XGBRegressor\",\"Topic 0\"],[65.54780578613281,\"XGBRegressor\",\"Topic 0\"],[65.54780578613281,\"XGBRegressor\",\"Topic 0\"],[65.54780578613281,\"XGBRegressor\",\"Topic 0\"],[65.54780578613281,\"XGBRegressor\",\"Topic 0\"],[65.54780578613281,\"XGBRegressor\",\"Topic 0\"],[65.54780578613281,\"XGBRegressor\",\"Topic 0\"]],\"hovertemplate\":\"<b>%{hovertext}</b><br><br>prediction=%{y:.3f}<br>mean_prediction=%{customdata[0]:.3f}<extra></extra>\",\"hovertext\":[\"XGBRegressor\",\"XGBRegressor\",\"XGBRegressor\",\"XGBRegressor\",\"XGBRegressor\",\"XGBRegressor\",\"XGBRegressor\",\"XGBRegressor\",\"XGBRegressor\",\"XGBRegressor\",\"XGBRegressor\",\"XGBRegressor\",\"XGBRegressor\",\"XGBRegressor\",\"XGBRegressor\",\"XGBRegressor\",\"XGBRegressor\",\"XGBRegressor\",\"XGBRegressor\",\"XGBRegressor\",\"XGBRegressor\",\"XGBRegressor\",\"XGBRegressor\",\"XGBRegressor\",\"XGBRegressor\",\"XGBRegressor\",\"XGBRegressor\",\"XGBRegressor\",\"XGBRegressor\",\"XGBRegressor\",\"XGBRegressor\",\"XGBRegressor\",\"XGBRegressor\",\"XGBRegressor\",\"XGBRegressor\",\"XGBRegressor\",\"XGBRegressor\",\"XGBRegressor\",\"XGBRegressor\",\"XGBRegressor\",\"XGBRegressor\",\"XGBRegressor\",\"XGBRegressor\",\"XGBRegressor\",\"XGBRegressor\",\"XGBRegressor\",\"XGBRegressor\",\"XGBRegressor\",\"XGBRegressor\",\"XGBRegressor\",\"XGBRegressor\",\"XGBRegressor\",\"XGBRegressor\",\"XGBRegressor\",\"XGBRegressor\",\"XGBRegressor\",\"XGBRegressor\",\"XGBRegressor\",\"XGBRegressor\",\"XGBRegressor\",\"XGBRegressor\",\"XGBRegressor\",\"XGBRegressor\",\"XGBRegressor\",\"XGBRegressor\",\"XGBRegressor\",\"XGBRegressor\",\"XGBRegressor\",\"XGBRegressor\",\"XGBRegressor\",\"XGBRegressor\",\"XGBRegressor\",\"XGBRegressor\",\"XGBRegressor\",\"XGBRegressor\",\"XGBRegressor\",\"XGBRegressor\",\"XGBRegressor\",\"XGBRegressor\",\"XGBRegressor\",\"XGBRegressor\",\"XGBRegressor\",\"XGBRegressor\",\"XGBRegressor\",\"XGBRegressor\",\"XGBRegressor\",\"XGBRegressor\",\"XGBRegressor\",\"XGBRegressor\",\"XGBRegressor\",\"XGBRegressor\",\"XGBRegressor\",\"XGBRegressor\",\"XGBRegressor\",\"XGBRegressor\",\"XGBRegressor\",\"XGBRegressor\",\"XGBRegressor\",\"XGBRegressor\",\"XGBRegressor\",\"XGBRegressor\"],\"legendgroup\":\"XGBRegressor\",\"line\":{\"color\":\"#46bac2\",\"dash\":\"solid\",\"width\":2},\"marker\":{\"symbol\":\"circle\"},\"mode\":\"lines\",\"name\":\"XGBRegressor\",\"orientation\":\"v\",\"showlegend\":true,\"x\":[5.5192865197109255e-06,0.009785588805887402,0.01956565832525509,0.02934572784462278,0.039125797363990474,0.048905866883358164,0.058685936402725854,0.06846600592209354,0.07824607544146123,0.08802614496082892,0.09780621448019661,0.1075862839995643,0.11736635351893199,0.12714642303829968,0.13692649255766737,0.14670656207703506,0.15648663159640275,0.16626670111577044,0.17604677063513813,0.18582684015450582,0.1956069096738735,0.2053869791932412,0.2151670487126089,0.22494711823197658,0.23472718775134427,0.24450725727071196,0.25428732679007965,0.2640673963094473,0.27384746582881503,0.28362753534818275,0.2934076048675504,0.30318767438691807,0.3129677439062858,0.3227478134256535,0.33252788294502117,0.34230795246438883,0.35208802198375655,0.36186809150312427,0.37164816102249193,0.3814282305418596,0.3912083000612273,0.400988369580595,0.4107684390999627,0.42054850861933035,0.43032857813869807,0.4401086476580658,0.44988871717743345,0.4596687866968011,0.46944885621616883,0.47922892573553655,0.4890089952549042,0.4987890647742719,0.5085691342936396,0.5183492038130073,0.5281292733323749,0.5379093428517426,0.5476894123711104,0.5574694818904781,0.5672495514098458,0.5770296209292134,0.5868096904485811,0.5965897599679488,0.6063698294873164,0.6161498990066842,0.6259299685260519,0.6357100380454196,0.6454901075647873,0.6552701770841549,0.6650502466035226,0.6748303161228904,0.684610385642258,0.6943904551616257,0.7041705246809934,0.7139505942003611,0.7237306637197288,0.7335107332390964,0.7432908027584642,0.7530708722778319,0.7628509417971995,0.7726310113165672,0.7824110808359349,0.7921911503553026,0.8019712198746703,0.811751289394038,0.8215313589134057,0.8313114284327734,0.841091497952141,0.8508715674715087,0.8606516369908764,0.8704317065102442,0.8802117760296119,0.8899918455489795,0.8997719150683472,0.9095519845877149,0.9193320541070825,0.9291121236264502,0.938892193145818,0.9486722626651857,0.9584523321845534,0.968232401703921,0.9780124712232887],\"xaxis\":\"x5\",\"y\":[130.73532104492188,58.308956146240234,61.457130432128906,74.1744613647461,71.63897705078125,69.40646362304688,80.02711486816406,85.1810302734375,213.15977478027344,92.93876647949219,93.18017578125,93.27000427246094,93.70034790039062,86.9084243774414,90.76081085205078,94.5927734375,139.952392578125,111.9298324584961,98.81780242919922,93.41546630859375,84.28084564208984,84.28084564208984,111.79688262939453,113.39226531982422,111.47853088378906,111.47853088378906,111.47853088378906,112.78590393066406,134.61888122558594,137.0376739501953,121.02190399169922,313.431884765625,154.6393280029297,168.1250762939453,134.49783325195312,148.35830688476562,150.08349609375,139.54762268066406,135.49252319335938,135.49252319335938,135.49252319335938,236.01669311523438,134.89315795898438,136.720458984375,123.66741180419922,123.66741180419922,123.66741180419922,124.37071228027344,118.41868591308594,119.96985626220703,119.96985626220703,119.96985626220703,119.96985626220703,119.96985626220703,119.96985626220703,119.96985626220703,119.96985626220703,120.19109344482422,120.19109344482422,147.6438751220703,148.41519165039062,148.41519165039062,148.41519165039062,228.44679260253906,218.6453399658203,218.6453399658203,154.4722137451172,154.52037048339844,156.89117431640625,157.07711791992188,157.84207153320312,157.84207153320312,176.54212951660156,176.54212951660156,176.54212951660156,186.6287078857422,186.6287078857422,186.6287078857422,186.6287078857422,226.68382263183594,206.94287109375,211.94473266601562,211.94473266601562,158.818115234375,158.818115234375,158.818115234375,158.818115234375,157.28782653808594,157.28782653808594,157.46441650390625,157.46441650390625,157.46441650390625,169.216796875,169.216796875,168.41647338867188,168.3824005126953,168.3824005126953,168.3824005126953,168.3824005126953,168.3824005126953,168.3824005126953],\"yaxis\":\"y5\",\"type\":\"scatter\",\"opacity\":1},{\"customdata\":[[65.54780578613281,\"XGBRegressor\",\"Topic 1\"],[65.54780578613281,\"XGBRegressor\",\"Topic 1\"],[65.54780578613281,\"XGBRegressor\",\"Topic 1\"],[65.54780578613281,\"XGBRegressor\",\"Topic 1\"],[65.54780578613281,\"XGBRegressor\",\"Topic 1\"],[65.54780578613281,\"XGBRegressor\",\"Topic 1\"],[65.54780578613281,\"XGBRegressor\",\"Topic 1\"],[65.54780578613281,\"XGBRegressor\",\"Topic 1\"],[65.54780578613281,\"XGBRegressor\",\"Topic 1\"],[65.54780578613281,\"XGBRegressor\",\"Topic 1\"],[65.54780578613281,\"XGBRegressor\",\"Topic 1\"],[65.54780578613281,\"XGBRegressor\",\"Topic 1\"],[65.54780578613281,\"XGBRegressor\",\"Topic 1\"],[65.54780578613281,\"XGBRegressor\",\"Topic 1\"],[65.54780578613281,\"XGBRegressor\",\"Topic 1\"],[65.54780578613281,\"XGBRegressor\",\"Topic 1\"],[65.54780578613281,\"XGBRegressor\",\"Topic 1\"],[65.54780578613281,\"XGBRegressor\",\"Topic 1\"],[65.54780578613281,\"XGBRegressor\",\"Topic 1\"],[65.54780578613281,\"XGBRegressor\",\"Topic 1\"],[65.54780578613281,\"XGBRegressor\",\"Topic 1\"],[65.54780578613281,\"XGBRegressor\",\"Topic 1\"],[65.54780578613281,\"XGBRegressor\",\"Topic 1\"],[65.54780578613281,\"XGBRegressor\",\"Topic 1\"],[65.54780578613281,\"XGBRegressor\",\"Topic 1\"],[65.54780578613281,\"XGBRegressor\",\"Topic 1\"],[65.54780578613281,\"XGBRegressor\",\"Topic 1\"],[65.54780578613281,\"XGBRegressor\",\"Topic 1\"],[65.54780578613281,\"XGBRegressor\",\"Topic 1\"],[65.54780578613281,\"XGBRegressor\",\"Topic 1\"],[65.54780578613281,\"XGBRegressor\",\"Topic 1\"],[65.54780578613281,\"XGBRegressor\",\"Topic 1\"],[65.54780578613281,\"XGBRegressor\",\"Topic 1\"],[65.54780578613281,\"XGBRegressor\",\"Topic 1\"],[65.54780578613281,\"XGBRegressor\",\"Topic 1\"],[65.54780578613281,\"XGBRegressor\",\"Topic 1\"],[65.54780578613281,\"XGBRegressor\",\"Topic 1\"],[65.54780578613281,\"XGBRegressor\",\"Topic 1\"],[65.54780578613281,\"XGBRegressor\",\"Topic 1\"],[65.54780578613281,\"XGBRegressor\",\"Topic 1\"],[65.54780578613281,\"XGBRegressor\",\"Topic 1\"],[65.54780578613281,\"XGBRegressor\",\"Topic 1\"],[65.54780578613281,\"XGBRegressor\",\"Topic 1\"],[65.54780578613281,\"XGBRegressor\",\"Topic 1\"],[65.54780578613281,\"XGBRegressor\",\"Topic 1\"],[65.54780578613281,\"XGBRegressor\",\"Topic 1\"],[65.54780578613281,\"XGBRegressor\",\"Topic 1\"],[65.54780578613281,\"XGBRegressor\",\"Topic 1\"],[65.54780578613281,\"XGBRegressor\",\"Topic 1\"],[65.54780578613281,\"XGBRegressor\",\"Topic 1\"],[65.54780578613281,\"XGBRegressor\",\"Topic 1\"],[65.54780578613281,\"XGBRegressor\",\"Topic 1\"],[65.54780578613281,\"XGBRegressor\",\"Topic 1\"],[65.54780578613281,\"XGBRegressor\",\"Topic 1\"],[65.54780578613281,\"XGBRegressor\",\"Topic 1\"],[65.54780578613281,\"XGBRegressor\",\"Topic 1\"],[65.54780578613281,\"XGBRegressor\",\"Topic 1\"],[65.54780578613281,\"XGBRegressor\",\"Topic 1\"],[65.54780578613281,\"XGBRegressor\",\"Topic 1\"],[65.54780578613281,\"XGBRegressor\",\"Topic 1\"],[65.54780578613281,\"XGBRegressor\",\"Topic 1\"],[65.54780578613281,\"XGBRegressor\",\"Topic 1\"],[65.54780578613281,\"XGBRegressor\",\"Topic 1\"],[65.54780578613281,\"XGBRegressor\",\"Topic 1\"],[65.54780578613281,\"XGBRegressor\",\"Topic 1\"],[65.54780578613281,\"XGBRegressor\",\"Topic 1\"],[65.54780578613281,\"XGBRegressor\",\"Topic 1\"],[65.54780578613281,\"XGBRegressor\",\"Topic 1\"],[65.54780578613281,\"XGBRegressor\",\"Topic 1\"],[65.54780578613281,\"XGBRegressor\",\"Topic 1\"],[65.54780578613281,\"XGBRegressor\",\"Topic 1\"],[65.54780578613281,\"XGBRegressor\",\"Topic 1\"],[65.54780578613281,\"XGBRegressor\",\"Topic 1\"],[65.54780578613281,\"XGBRegressor\",\"Topic 1\"],[65.54780578613281,\"XGBRegressor\",\"Topic 1\"],[65.54780578613281,\"XGBRegressor\",\"Topic 1\"],[65.54780578613281,\"XGBRegressor\",\"Topic 1\"],[65.54780578613281,\"XGBRegressor\",\"Topic 1\"],[65.54780578613281,\"XGBRegressor\",\"Topic 1\"],[65.54780578613281,\"XGBRegressor\",\"Topic 1\"],[65.54780578613281,\"XGBRegressor\",\"Topic 1\"],[65.54780578613281,\"XGBRegressor\",\"Topic 1\"],[65.54780578613281,\"XGBRegressor\",\"Topic 1\"],[65.54780578613281,\"XGBRegressor\",\"Topic 1\"],[65.54780578613281,\"XGBRegressor\",\"Topic 1\"],[65.54780578613281,\"XGBRegressor\",\"Topic 1\"],[65.54780578613281,\"XGBRegressor\",\"Topic 1\"],[65.54780578613281,\"XGBRegressor\",\"Topic 1\"],[65.54780578613281,\"XGBRegressor\",\"Topic 1\"],[65.54780578613281,\"XGBRegressor\",\"Topic 1\"],[65.54780578613281,\"XGBRegressor\",\"Topic 1\"],[65.54780578613281,\"XGBRegressor\",\"Topic 1\"],[65.54780578613281,\"XGBRegressor\",\"Topic 1\"],[65.54780578613281,\"XGBRegressor\",\"Topic 1\"],[65.54780578613281,\"XGBRegressor\",\"Topic 1\"],[65.54780578613281,\"XGBRegressor\",\"Topic 1\"],[65.54780578613281,\"XGBRegressor\",\"Topic 1\"],[65.54780578613281,\"XGBRegressor\",\"Topic 1\"],[65.54780578613281,\"XGBRegressor\",\"Topic 1\"],[65.54780578613281,\"XGBRegressor\",\"Topic 1\"],[65.54780578613281,\"XGBRegressor\",\"Topic 1\"]],\"hovertemplate\":\"<b>%{hovertext}</b><br><br>prediction=%{y:.3f}<br>mean_prediction=%{customdata[0]:.3f}<extra></extra>\",\"hovertext\":[\"XGBRegressor\",\"XGBRegressor\",\"XGBRegressor\",\"XGBRegressor\",\"XGBRegressor\",\"XGBRegressor\",\"XGBRegressor\",\"XGBRegressor\",\"XGBRegressor\",\"XGBRegressor\",\"XGBRegressor\",\"XGBRegressor\",\"XGBRegressor\",\"XGBRegressor\",\"XGBRegressor\",\"XGBRegressor\",\"XGBRegressor\",\"XGBRegressor\",\"XGBRegressor\",\"XGBRegressor\",\"XGBRegressor\",\"XGBRegressor\",\"XGBRegressor\",\"XGBRegressor\",\"XGBRegressor\",\"XGBRegressor\",\"XGBRegressor\",\"XGBRegressor\",\"XGBRegressor\",\"XGBRegressor\",\"XGBRegressor\",\"XGBRegressor\",\"XGBRegressor\",\"XGBRegressor\",\"XGBRegressor\",\"XGBRegressor\",\"XGBRegressor\",\"XGBRegressor\",\"XGBRegressor\",\"XGBRegressor\",\"XGBRegressor\",\"XGBRegressor\",\"XGBRegressor\",\"XGBRegressor\",\"XGBRegressor\",\"XGBRegressor\",\"XGBRegressor\",\"XGBRegressor\",\"XGBRegressor\",\"XGBRegressor\",\"XGBRegressor\",\"XGBRegressor\",\"XGBRegressor\",\"XGBRegressor\",\"XGBRegressor\",\"XGBRegressor\",\"XGBRegressor\",\"XGBRegressor\",\"XGBRegressor\",\"XGBRegressor\",\"XGBRegressor\",\"XGBRegressor\",\"XGBRegressor\",\"XGBRegressor\",\"XGBRegressor\",\"XGBRegressor\",\"XGBRegressor\",\"XGBRegressor\",\"XGBRegressor\",\"XGBRegressor\",\"XGBRegressor\",\"XGBRegressor\",\"XGBRegressor\",\"XGBRegressor\",\"XGBRegressor\",\"XGBRegressor\",\"XGBRegressor\",\"XGBRegressor\",\"XGBRegressor\",\"XGBRegressor\",\"XGBRegressor\",\"XGBRegressor\",\"XGBRegressor\",\"XGBRegressor\",\"XGBRegressor\",\"XGBRegressor\",\"XGBRegressor\",\"XGBRegressor\",\"XGBRegressor\",\"XGBRegressor\",\"XGBRegressor\",\"XGBRegressor\",\"XGBRegressor\",\"XGBRegressor\",\"XGBRegressor\",\"XGBRegressor\",\"XGBRegressor\",\"XGBRegressor\",\"XGBRegressor\",\"XGBRegressor\",\"XGBRegressor\"],\"legendgroup\":\"XGBRegressor\",\"line\":{\"color\":\"#46bac2\",\"dash\":\"solid\",\"width\":2},\"marker\":{\"symbol\":\"circle\"},\"mode\":\"lines\",\"name\":\"XGBRegressor\",\"orientation\":\"v\",\"showlegend\":false,\"x\":[3.2286476097475097e-06,0.01000295083080379,0.020002673013997833,0.030002395197191875,0.040002117380385914,0.05000183956357996,0.060001561746774,0.07000128392996804,0.08000100611316209,0.09000072829635614,0.10000045047955018,0.11000017266274421,0.11999989484593826,0.1299996170291323,0.13999933921232632,0.14999906139552038,0.15999878357871442,0.16999850576190845,0.1799982279451025,0.18999795012829654,0.1999976723114906,0.20999739449468463,0.21999711667787866,0.22999683886107272,0.23999656104426675,0.24999628322746079,0.2599960054106549,0.26999572759384893,0.27999544977704294,0.289995171960237,0.29999489414343106,0.30999461632662506,0.3199943385098191,0.3299940606930132,0.3399937828762072,0.34999350505940124,0.3599932272425953,0.3699929494257893,0.37999267160898337,0.3899923937921774,0.3999921159753715,0.4099918381585655,0.41999156034175955,0.4299912825249536,0.4399910047081476,0.4499907268913417,0.45999044907453573,0.46999017125772974,0.4799898934409238,0.48998961562411786,0.49998933780731186,0.5099890599905059,0.5199887821736999,0.5299885043568939,0.539988226540088,0.549987948723282,0.559987670906476,0.5699873930896702,0.5799871152728642,0.5899868374560582,0.5999865596392523,0.6099862818224463,0.6199860040056403,0.6299857261888344,0.6399854483720284,0.6499851705552224,0.6599848927384165,0.6699846149216105,0.6799843371048045,0.6899840592879987,0.6999837814711927,0.7099835036543867,0.7199832258375808,0.7299829480207748,0.7399826702039688,0.7499823923871629,0.7599821145703569,0.7699818367535509,0.779981558936745,0.789981281119939,0.7999810033031332,0.8099807254863272,0.8199804476695212,0.8299801698527153,0.8399798920359093,0.8499796142191033,0.8599793364022974,0.8699790585854914,0.8799787807686854,0.8899785029518795,0.8999782251350735,0.9099779473182675,0.9199776695014616,0.9299773916846557,0.9399771138678497,0.9499768360510438,0.9599765582342378,0.9699762804174318,0.9799760026006259,0.9899757247838199,0.9999754469670139],\"xaxis\":\"x6\",\"y\":[229.87351989746094,70.85911560058594,74.7022705078125,103.48701477050781,103.12767791748047,86.1334228515625,91.40209197998047,105.0683822631836,91.53854370117188,105.2061996459961,102.724609375,102.724609375,113.72981262207031,101.74951934814453,101.74951934814453,101.74951934814453,101.84262084960938,94.29561614990234,94.29561614990234,118.96968841552734,90.79512786865234,109.90796661376953,94.91679382324219,94.91679382324219,94.91679382324219,103.1386947631836,101.5528564453125,101.5528564453125,101.5528564453125,104.1021728515625,104.1021728515625,110.14077758789062,110.14077758789062,110.14077758789062,110.14077758789062,110.43240356445312,110.43240356445312,110.43240356445312,111.33753967285156,111.33753967285156,109.67327117919922,109.67327117919922,109.67327117919922,110.22172546386719,110.22172546386719,110.22172546386719,111.03961181640625,113.59046173095703,113.59046173095703,137.10035705566406,137.10035705566406,137.10035705566406,137.10035705566406,137.10035705566406,137.10035705566406,125.49211883544922,125.49211883544922,125.49211883544922,125.49211883544922,125.49211883544922,125.49211883544922,125.49211883544922,125.49211883544922,125.5754623413086,125.5754623413086,117.83586120605469,117.83586120605469,117.83586120605469,145.33018493652344,145.33018493652344,145.33018493652344,197.1768035888672,144.57778930664062,144.57778930664062,144.57778930664062,138.81883239746094,138.81883239746094,141.64073181152344,156.959228515625,156.959228515625,156.959228515625,156.959228515625,156.959228515625,156.959228515625,145.3578643798828,145.3578643798828,145.3578643798828,145.3578643798828,233.26954650878906,233.1107177734375,233.1107177734375,172.9800262451172,172.9800262451172,173.0872039794922,173.0872039794922,173.0872039794922,192.34669494628906,174.65818786621094,174.65818786621094,174.65818786621094,174.65818786621094],\"yaxis\":\"y6\",\"type\":\"scatter\",\"opacity\":1},{\"customdata\":[[65.54780578613281,\"XGBRegressor\",\"Topic 2\"],[65.54780578613281,\"XGBRegressor\",\"Topic 2\"],[65.54780578613281,\"XGBRegressor\",\"Topic 2\"],[65.54780578613281,\"XGBRegressor\",\"Topic 2\"],[65.54780578613281,\"XGBRegressor\",\"Topic 2\"],[65.54780578613281,\"XGBRegressor\",\"Topic 2\"],[65.54780578613281,\"XGBRegressor\",\"Topic 2\"],[65.54780578613281,\"XGBRegressor\",\"Topic 2\"],[65.54780578613281,\"XGBRegressor\",\"Topic 2\"],[65.54780578613281,\"XGBRegressor\",\"Topic 2\"],[65.54780578613281,\"XGBRegressor\",\"Topic 2\"],[65.54780578613281,\"XGBRegressor\",\"Topic 2\"],[65.54780578613281,\"XGBRegressor\",\"Topic 2\"],[65.54780578613281,\"XGBRegressor\",\"Topic 2\"],[65.54780578613281,\"XGBRegressor\",\"Topic 2\"],[65.54780578613281,\"XGBRegressor\",\"Topic 2\"],[65.54780578613281,\"XGBRegressor\",\"Topic 2\"],[65.54780578613281,\"XGBRegressor\",\"Topic 2\"],[65.54780578613281,\"XGBRegressor\",\"Topic 2\"],[65.54780578613281,\"XGBRegressor\",\"Topic 2\"],[65.54780578613281,\"XGBRegressor\",\"Topic 2\"],[65.54780578613281,\"XGBRegressor\",\"Topic 2\"],[65.54780578613281,\"XGBRegressor\",\"Topic 2\"],[65.54780578613281,\"XGBRegressor\",\"Topic 2\"],[65.54780578613281,\"XGBRegressor\",\"Topic 2\"],[65.54780578613281,\"XGBRegressor\",\"Topic 2\"],[65.54780578613281,\"XGBRegressor\",\"Topic 2\"],[65.54780578613281,\"XGBRegressor\",\"Topic 2\"],[65.54780578613281,\"XGBRegressor\",\"Topic 2\"],[65.54780578613281,\"XGBRegressor\",\"Topic 2\"],[65.54780578613281,\"XGBRegressor\",\"Topic 2\"],[65.54780578613281,\"XGBRegressor\",\"Topic 2\"],[65.54780578613281,\"XGBRegressor\",\"Topic 2\"],[65.54780578613281,\"XGBRegressor\",\"Topic 2\"],[65.54780578613281,\"XGBRegressor\",\"Topic 2\"],[65.54780578613281,\"XGBRegressor\",\"Topic 2\"],[65.54780578613281,\"XGBRegressor\",\"Topic 2\"],[65.54780578613281,\"XGBRegressor\",\"Topic 2\"],[65.54780578613281,\"XGBRegressor\",\"Topic 2\"],[65.54780578613281,\"XGBRegressor\",\"Topic 2\"],[65.54780578613281,\"XGBRegressor\",\"Topic 2\"],[65.54780578613281,\"XGBRegressor\",\"Topic 2\"],[65.54780578613281,\"XGBRegressor\",\"Topic 2\"],[65.54780578613281,\"XGBRegressor\",\"Topic 2\"],[65.54780578613281,\"XGBRegressor\",\"Topic 2\"],[65.54780578613281,\"XGBRegressor\",\"Topic 2\"],[65.54780578613281,\"XGBRegressor\",\"Topic 2\"],[65.54780578613281,\"XGBRegressor\",\"Topic 2\"],[65.54780578613281,\"XGBRegressor\",\"Topic 2\"],[65.54780578613281,\"XGBRegressor\",\"Topic 2\"],[65.54780578613281,\"XGBRegressor\",\"Topic 2\"],[65.54780578613281,\"XGBRegressor\",\"Topic 2\"],[65.54780578613281,\"XGBRegressor\",\"Topic 2\"],[65.54780578613281,\"XGBRegressor\",\"Topic 2\"],[65.54780578613281,\"XGBRegressor\",\"Topic 2\"],[65.54780578613281,\"XGBRegressor\",\"Topic 2\"],[65.54780578613281,\"XGBRegressor\",\"Topic 2\"],[65.54780578613281,\"XGBRegressor\",\"Topic 2\"],[65.54780578613281,\"XGBRegressor\",\"Topic 2\"],[65.54780578613281,\"XGBRegressor\",\"Topic 2\"],[65.54780578613281,\"XGBRegressor\",\"Topic 2\"],[65.54780578613281,\"XGBRegressor\",\"Topic 2\"],[65.54780578613281,\"XGBRegressor\",\"Topic 2\"],[65.54780578613281,\"XGBRegressor\",\"Topic 2\"],[65.54780578613281,\"XGBRegressor\",\"Topic 2\"],[65.54780578613281,\"XGBRegressor\",\"Topic 2\"],[65.54780578613281,\"XGBRegressor\",\"Topic 2\"],[65.54780578613281,\"XGBRegressor\",\"Topic 2\"],[65.54780578613281,\"XGBRegressor\",\"Topic 2\"],[65.54780578613281,\"XGBRegressor\",\"Topic 2\"],[65.54780578613281,\"XGBRegressor\",\"Topic 2\"],[65.54780578613281,\"XGBRegressor\",\"Topic 2\"],[65.54780578613281,\"XGBRegressor\",\"Topic 2\"],[65.54780578613281,\"XGBRegressor\",\"Topic 2\"],[65.54780578613281,\"XGBRegressor\",\"Topic 2\"],[65.54780578613281,\"XGBRegressor\",\"Topic 2\"],[65.54780578613281,\"XGBRegressor\",\"Topic 2\"],[65.54780578613281,\"XGBRegressor\",\"Topic 2\"],[65.54780578613281,\"XGBRegressor\",\"Topic 2\"],[65.54780578613281,\"XGBRegressor\",\"Topic 2\"],[65.54780578613281,\"XGBRegressor\",\"Topic 2\"],[65.54780578613281,\"XGBRegressor\",\"Topic 2\"],[65.54780578613281,\"XGBRegressor\",\"Topic 2\"],[65.54780578613281,\"XGBRegressor\",\"Topic 2\"],[65.54780578613281,\"XGBRegressor\",\"Topic 2\"],[65.54780578613281,\"XGBRegressor\",\"Topic 2\"],[65.54780578613281,\"XGBRegressor\",\"Topic 2\"],[65.54780578613281,\"XGBRegressor\",\"Topic 2\"],[65.54780578613281,\"XGBRegressor\",\"Topic 2\"],[65.54780578613281,\"XGBRegressor\",\"Topic 2\"],[65.54780578613281,\"XGBRegressor\",\"Topic 2\"],[65.54780578613281,\"XGBRegressor\",\"Topic 2\"],[65.54780578613281,\"XGBRegressor\",\"Topic 2\"],[65.54780578613281,\"XGBRegressor\",\"Topic 2\"],[65.54780578613281,\"XGBRegressor\",\"Topic 2\"],[65.54780578613281,\"XGBRegressor\",\"Topic 2\"],[65.54780578613281,\"XGBRegressor\",\"Topic 2\"],[65.54780578613281,\"XGBRegressor\",\"Topic 2\"],[65.54780578613281,\"XGBRegressor\",\"Topic 2\"],[65.54780578613281,\"XGBRegressor\",\"Topic 2\"],[65.54780578613281,\"XGBRegressor\",\"Topic 2\"]],\"hovertemplate\":\"<b>%{hovertext}</b><br><br>prediction=%{y:.3f}<br>mean_prediction=%{customdata[0]:.3f}<extra></extra>\",\"hovertext\":[\"XGBRegressor\",\"XGBRegressor\",\"XGBRegressor\",\"XGBRegressor\",\"XGBRegressor\",\"XGBRegressor\",\"XGBRegressor\",\"XGBRegressor\",\"XGBRegressor\",\"XGBRegressor\",\"XGBRegressor\",\"XGBRegressor\",\"XGBRegressor\",\"XGBRegressor\",\"XGBRegressor\",\"XGBRegressor\",\"XGBRegressor\",\"XGBRegressor\",\"XGBRegressor\",\"XGBRegressor\",\"XGBRegressor\",\"XGBRegressor\",\"XGBRegressor\",\"XGBRegressor\",\"XGBRegressor\",\"XGBRegressor\",\"XGBRegressor\",\"XGBRegressor\",\"XGBRegressor\",\"XGBRegressor\",\"XGBRegressor\",\"XGBRegressor\",\"XGBRegressor\",\"XGBRegressor\",\"XGBRegressor\",\"XGBRegressor\",\"XGBRegressor\",\"XGBRegressor\",\"XGBRegressor\",\"XGBRegressor\",\"XGBRegressor\",\"XGBRegressor\",\"XGBRegressor\",\"XGBRegressor\",\"XGBRegressor\",\"XGBRegressor\",\"XGBRegressor\",\"XGBRegressor\",\"XGBRegressor\",\"XGBRegressor\",\"XGBRegressor\",\"XGBRegressor\",\"XGBRegressor\",\"XGBRegressor\",\"XGBRegressor\",\"XGBRegressor\",\"XGBRegressor\",\"XGBRegressor\",\"XGBRegressor\",\"XGBRegressor\",\"XGBRegressor\",\"XGBRegressor\",\"XGBRegressor\",\"XGBRegressor\",\"XGBRegressor\",\"XGBRegressor\",\"XGBRegressor\",\"XGBRegressor\",\"XGBRegressor\",\"XGBRegressor\",\"XGBRegressor\",\"XGBRegressor\",\"XGBRegressor\",\"XGBRegressor\",\"XGBRegressor\",\"XGBRegressor\",\"XGBRegressor\",\"XGBRegressor\",\"XGBRegressor\",\"XGBRegressor\",\"XGBRegressor\",\"XGBRegressor\",\"XGBRegressor\",\"XGBRegressor\",\"XGBRegressor\",\"XGBRegressor\",\"XGBRegressor\",\"XGBRegressor\",\"XGBRegressor\",\"XGBRegressor\",\"XGBRegressor\",\"XGBRegressor\",\"XGBRegressor\",\"XGBRegressor\",\"XGBRegressor\",\"XGBRegressor\",\"XGBRegressor\",\"XGBRegressor\",\"XGBRegressor\",\"XGBRegressor\",\"XGBRegressor\"],\"legendgroup\":\"XGBRegressor\",\"line\":{\"color\":\"#46bac2\",\"dash\":\"solid\",\"width\":2},\"marker\":{\"symbol\":\"circle\"},\"mode\":\"lines\",\"name\":\"XGBRegressor\",\"orientation\":\"v\",\"showlegend\":false,\"x\":[5.217420077280807e-06,0.010002918725932876,0.02000062003178847,0.029998321337644067,0.03999602264349966,0.04999372394935526,0.05999142525521085,0.06998912656106646,0.07998682786692204,0.08998452917277763,0.09998223047863324,0.10997993178448884,0.11997763309034443,0.12997533439620002,0.13997303570205563,0.14997073700791122,0.1599684383137668,0.1699661396196224,0.17996384092547799,0.1899615422313336,0.1999592435371892,0.20995694484304478,0.2199546461489004,0.22995234745475598,0.23995004876061157,0.24994775006646716,0.2599454513723228,0.26994315267817837,0.279940853984034,0.2899385552898896,0.2999362565957452,0.3099339579016008,0.31993165920745636,0.32992936051331195,0.33992706181916754,0.34992476312502313,0.3599224644308787,0.36992016573673436,0.37991786704258995,0.38991556834844554,0.39991326965430113,0.4099109709601567,0.4199086722660123,0.4299063735718679,0.43990407487772354,0.4499017761835791,0.4598994774894347,0.4698971787952903,0.4798948801011459,0.4898925814070015,0.49989028271285707,0.5098879840187127,0.5198856853245682,0.5298833866304239,0.5398810879362794,0.5498787892421351,0.5598764905479907,0.5698741918538462,0.5798718931597019,0.5898695944655574,0.5998672957714131,0.6098649970772686,0.6198626983831242,0.6298603996889798,0.6398581009948354,0.6498558023006911,0.6598535036065466,0.6698512049124022,0.6798489062182578,0.6898466075241134,0.699844308829969,0.7098420101358246,0.7198397114416801,0.7298374127475358,0.7398351140533914,0.749832815359247,0.7598305166651026,0.7698282179709581,0.7798259192768138,0.7898236205826693,0.799821321888525,0.8098190231943806,0.8198167245002361,0.8298144258060918,0.8398121271119473,0.849809828417803,0.8598075297236585,0.8698052310295141,0.8798029323353698,0.8898006336412253,0.899798334947081,0.9097960362529365,0.9197937375587921,0.9297914388646477,0.9397891401705033,0.9497868414763588,0.9597845427822145,0.9697822440880701,0.9797799453939257,0.9897776466997813,0.9997753480056368],\"xaxis\":\"x3\",\"y\":[1060.6400146484375,68.50138092041016,53.92599105834961,49.99556350708008,51.101173400878906,50.84787368774414,55.84526062011719,55.84526062011719,55.99927520751953,55.99927520751953,58.88235092163086,73.6736068725586,58.36071014404297,59.77119827270508,88.88249206542969,58.13608932495117,58.13608932495117,58.13608932495117,58.13608932495117,58.13608932495117,60.03412628173828,60.03412628173828,69.9198989868164,69.96620178222656,69.96620178222656,69.96620178222656,69.96620178222656,69.96620178222656,75.1998291015625,75.1998291015625,75.41832733154297,75.41832733154297,75.41832733154297,76.40399169921875,76.40399169921875,76.88804626464844,76.88804626464844,76.88804626464844,76.88804626464844,127.20045471191406,107.9104995727539,83.64579010009766,82.93035125732422,82.93035125732422,82.93035125732422,82.93035125732422,82.93035125732422,82.93035125732422,82.93035125732422,82.93035125732422,82.93035125732422,82.93035125732422,83.52845764160156,83.52845764160156,83.52845764160156,82.5255126953125,82.5255126953125,73.50798034667969,79.99681854248047,79.99681854248047,79.99681854248047,79.99681854248047,79.99681854248047,79.99681854248047,79.99681854248047,79.99681854248047,79.99681854248047,79.99681854248047,89.2405014038086,89.2405014038086,89.2405014038086,89.2405014038086,89.2405014038086,89.2405014038086,89.2405014038086,89.74124908447266,89.74124908447266,89.74124908447266,89.74124908447266,89.74124908447266,116.09457397460938,277.5320129394531,206.50375366210938,206.5428924560547,206.5428924560547,206.5428924560547,206.5428924560547,206.5428924560547,206.5428924560547,226.20364379882812,226.20364379882812,219.96243286132812,450.1678466796875,450.1678466796875,450.1678466796875,450.1678466796875,429.19635009765625,429.19635009765625,429.19635009765625,429.19635009765625,411.1336669921875],\"yaxis\":\"y3\",\"type\":\"scatter\",\"opacity\":1},{\"customdata\":[[65.54780578613281,\"XGBRegressor\",\"Topic 3\"],[65.54780578613281,\"XGBRegressor\",\"Topic 3\"],[65.54780578613281,\"XGBRegressor\",\"Topic 3\"],[65.54780578613281,\"XGBRegressor\",\"Topic 3\"],[65.54780578613281,\"XGBRegressor\",\"Topic 3\"],[65.54780578613281,\"XGBRegressor\",\"Topic 3\"],[65.54780578613281,\"XGBRegressor\",\"Topic 3\"],[65.54780578613281,\"XGBRegressor\",\"Topic 3\"],[65.54780578613281,\"XGBRegressor\",\"Topic 3\"],[65.54780578613281,\"XGBRegressor\",\"Topic 3\"],[65.54780578613281,\"XGBRegressor\",\"Topic 3\"],[65.54780578613281,\"XGBRegressor\",\"Topic 3\"],[65.54780578613281,\"XGBRegressor\",\"Topic 3\"],[65.54780578613281,\"XGBRegressor\",\"Topic 3\"],[65.54780578613281,\"XGBRegressor\",\"Topic 3\"],[65.54780578613281,\"XGBRegressor\",\"Topic 3\"],[65.54780578613281,\"XGBRegressor\",\"Topic 3\"],[65.54780578613281,\"XGBRegressor\",\"Topic 3\"],[65.54780578613281,\"XGBRegressor\",\"Topic 3\"],[65.54780578613281,\"XGBRegressor\",\"Topic 3\"],[65.54780578613281,\"XGBRegressor\",\"Topic 3\"],[65.54780578613281,\"XGBRegressor\",\"Topic 3\"],[65.54780578613281,\"XGBRegressor\",\"Topic 3\"],[65.54780578613281,\"XGBRegressor\",\"Topic 3\"],[65.54780578613281,\"XGBRegressor\",\"Topic 3\"],[65.54780578613281,\"XGBRegressor\",\"Topic 3\"],[65.54780578613281,\"XGBRegressor\",\"Topic 3\"],[65.54780578613281,\"XGBRegressor\",\"Topic 3\"],[65.54780578613281,\"XGBRegressor\",\"Topic 3\"],[65.54780578613281,\"XGBRegressor\",\"Topic 3\"],[65.54780578613281,\"XGBRegressor\",\"Topic 3\"],[65.54780578613281,\"XGBRegressor\",\"Topic 3\"],[65.54780578613281,\"XGBRegressor\",\"Topic 3\"],[65.54780578613281,\"XGBRegressor\",\"Topic 3\"],[65.54780578613281,\"XGBRegressor\",\"Topic 3\"],[65.54780578613281,\"XGBRegressor\",\"Topic 3\"],[65.54780578613281,\"XGBRegressor\",\"Topic 3\"],[65.54780578613281,\"XGBRegressor\",\"Topic 3\"],[65.54780578613281,\"XGBRegressor\",\"Topic 3\"],[65.54780578613281,\"XGBRegressor\",\"Topic 3\"],[65.54780578613281,\"XGBRegressor\",\"Topic 3\"],[65.54780578613281,\"XGBRegressor\",\"Topic 3\"],[65.54780578613281,\"XGBRegressor\",\"Topic 3\"],[65.54780578613281,\"XGBRegressor\",\"Topic 3\"],[65.54780578613281,\"XGBRegressor\",\"Topic 3\"],[65.54780578613281,\"XGBRegressor\",\"Topic 3\"],[65.54780578613281,\"XGBRegressor\",\"Topic 3\"],[65.54780578613281,\"XGBRegressor\",\"Topic 3\"],[65.54780578613281,\"XGBRegressor\",\"Topic 3\"],[65.54780578613281,\"XGBRegressor\",\"Topic 3\"],[65.54780578613281,\"XGBRegressor\",\"Topic 3\"],[65.54780578613281,\"XGBRegressor\",\"Topic 3\"],[65.54780578613281,\"XGBRegressor\",\"Topic 3\"],[65.54780578613281,\"XGBRegressor\",\"Topic 3\"],[65.54780578613281,\"XGBRegressor\",\"Topic 3\"],[65.54780578613281,\"XGBRegressor\",\"Topic 3\"],[65.54780578613281,\"XGBRegressor\",\"Topic 3\"],[65.54780578613281,\"XGBRegressor\",\"Topic 3\"],[65.54780578613281,\"XGBRegressor\",\"Topic 3\"],[65.54780578613281,\"XGBRegressor\",\"Topic 3\"],[65.54780578613281,\"XGBRegressor\",\"Topic 3\"],[65.54780578613281,\"XGBRegressor\",\"Topic 3\"],[65.54780578613281,\"XGBRegressor\",\"Topic 3\"],[65.54780578613281,\"XGBRegressor\",\"Topic 3\"],[65.54780578613281,\"XGBRegressor\",\"Topic 3\"],[65.54780578613281,\"XGBRegressor\",\"Topic 3\"],[65.54780578613281,\"XGBRegressor\",\"Topic 3\"],[65.54780578613281,\"XGBRegressor\",\"Topic 3\"],[65.54780578613281,\"XGBRegressor\",\"Topic 3\"],[65.54780578613281,\"XGBRegressor\",\"Topic 3\"],[65.54780578613281,\"XGBRegressor\",\"Topic 3\"],[65.54780578613281,\"XGBRegressor\",\"Topic 3\"],[65.54780578613281,\"XGBRegressor\",\"Topic 3\"],[65.54780578613281,\"XGBRegressor\",\"Topic 3\"],[65.54780578613281,\"XGBRegressor\",\"Topic 3\"],[65.54780578613281,\"XGBRegressor\",\"Topic 3\"],[65.54780578613281,\"XGBRegressor\",\"Topic 3\"],[65.54780578613281,\"XGBRegressor\",\"Topic 3\"],[65.54780578613281,\"XGBRegressor\",\"Topic 3\"],[65.54780578613281,\"XGBRegressor\",\"Topic 3\"],[65.54780578613281,\"XGBRegressor\",\"Topic 3\"],[65.54780578613281,\"XGBRegressor\",\"Topic 3\"],[65.54780578613281,\"XGBRegressor\",\"Topic 3\"],[65.54780578613281,\"XGBRegressor\",\"Topic 3\"],[65.54780578613281,\"XGBRegressor\",\"Topic 3\"],[65.54780578613281,\"XGBRegressor\",\"Topic 3\"],[65.54780578613281,\"XGBRegressor\",\"Topic 3\"],[65.54780578613281,\"XGBRegressor\",\"Topic 3\"],[65.54780578613281,\"XGBRegressor\",\"Topic 3\"],[65.54780578613281,\"XGBRegressor\",\"Topic 3\"],[65.54780578613281,\"XGBRegressor\",\"Topic 3\"],[65.54780578613281,\"XGBRegressor\",\"Topic 3\"],[65.54780578613281,\"XGBRegressor\",\"Topic 3\"],[65.54780578613281,\"XGBRegressor\",\"Topic 3\"],[65.54780578613281,\"XGBRegressor\",\"Topic 3\"],[65.54780578613281,\"XGBRegressor\",\"Topic 3\"],[65.54780578613281,\"XGBRegressor\",\"Topic 3\"],[65.54780578613281,\"XGBRegressor\",\"Topic 3\"],[65.54780578613281,\"XGBRegressor\",\"Topic 3\"],[65.54780578613281,\"XGBRegressor\",\"Topic 3\"],[65.54780578613281,\"XGBRegressor\",\"Topic 3\"]],\"hovertemplate\":\"<b>%{hovertext}</b><br><br>prediction=%{y:.3f}<br>mean_prediction=%{customdata[0]:.3f}<extra></extra>\",\"hovertext\":[\"XGBRegressor\",\"XGBRegressor\",\"XGBRegressor\",\"XGBRegressor\",\"XGBRegressor\",\"XGBRegressor\",\"XGBRegressor\",\"XGBRegressor\",\"XGBRegressor\",\"XGBRegressor\",\"XGBRegressor\",\"XGBRegressor\",\"XGBRegressor\",\"XGBRegressor\",\"XGBRegressor\",\"XGBRegressor\",\"XGBRegressor\",\"XGBRegressor\",\"XGBRegressor\",\"XGBRegressor\",\"XGBRegressor\",\"XGBRegressor\",\"XGBRegressor\",\"XGBRegressor\",\"XGBRegressor\",\"XGBRegressor\",\"XGBRegressor\",\"XGBRegressor\",\"XGBRegressor\",\"XGBRegressor\",\"XGBRegressor\",\"XGBRegressor\",\"XGBRegressor\",\"XGBRegressor\",\"XGBRegressor\",\"XGBRegressor\",\"XGBRegressor\",\"XGBRegressor\",\"XGBRegressor\",\"XGBRegressor\",\"XGBRegressor\",\"XGBRegressor\",\"XGBRegressor\",\"XGBRegressor\",\"XGBRegressor\",\"XGBRegressor\",\"XGBRegressor\",\"XGBRegressor\",\"XGBRegressor\",\"XGBRegressor\",\"XGBRegressor\",\"XGBRegressor\",\"XGBRegressor\",\"XGBRegressor\",\"XGBRegressor\",\"XGBRegressor\",\"XGBRegressor\",\"XGBRegressor\",\"XGBRegressor\",\"XGBRegressor\",\"XGBRegressor\",\"XGBRegressor\",\"XGBRegressor\",\"XGBRegressor\",\"XGBRegressor\",\"XGBRegressor\",\"XGBRegressor\",\"XGBRegressor\",\"XGBRegressor\",\"XGBRegressor\",\"XGBRegressor\",\"XGBRegressor\",\"XGBRegressor\",\"XGBRegressor\",\"XGBRegressor\",\"XGBRegressor\",\"XGBRegressor\",\"XGBRegressor\",\"XGBRegressor\",\"XGBRegressor\",\"XGBRegressor\",\"XGBRegressor\",\"XGBRegressor\",\"XGBRegressor\",\"XGBRegressor\",\"XGBRegressor\",\"XGBRegressor\",\"XGBRegressor\",\"XGBRegressor\",\"XGBRegressor\",\"XGBRegressor\",\"XGBRegressor\",\"XGBRegressor\",\"XGBRegressor\",\"XGBRegressor\",\"XGBRegressor\",\"XGBRegressor\",\"XGBRegressor\",\"XGBRegressor\",\"XGBRegressor\",\"XGBRegressor\"],\"legendgroup\":\"XGBRegressor\",\"line\":{\"color\":\"#46bac2\",\"dash\":\"solid\",\"width\":2},\"marker\":{\"symbol\":\"circle\"},\"mode\":\"lines\",\"name\":\"XGBRegressor\",\"orientation\":\"v\",\"showlegend\":false,\"x\":[3.1996332143492395e-06,0.010002554027666668,0.020001908422118984,0.0300012628165713,0.040000617211023624,0.049999971605475944,0.05999932599992826,0.06999868039438058,0.0799980347888329,0.08999738918328522,0.09999674357773754,0.10999609797218986,0.11999545236664216,0.12999480676109448,0.1399941611555468,0.14999351554999912,0.15999286994445144,0.16999222433890376,0.17999157873335608,0.1899909331278084,0.19999028752226072,0.20998964191671304,0.21998899631116536,0.22998835070561768,0.23998770510006998,0.2499870594945223,0.2599864138889746,0.2699857682834269,0.27998512267787923,0.28998447707233155,0.29998383146678387,0.3099831858612362,0.3199825402556885,0.32998189465014083,0.33998124904459315,0.34998060343904547,0.3599799578334978,0.3699793122279501,0.37997866662240243,0.38997802101685475,0.39997737541130707,0.4099767298057594,0.4199760842002117,0.42997543859466403,0.43997479298911635,0.44997414738356867,0.459973501778021,0.4699728561724733,0.4799722105669256,0.4899715649613779,0.4999709193558302,0.5099702737502826,0.5199696281447349,0.5299689825391872,0.5399683369336395,0.5499676913280919,0.5599670457225442,0.5699664001169965,0.5799657545114488,0.5899651089059011,0.5999644633003535,0.6099638176948058,0.6199631720892581,0.6299625264837104,0.6399618808781627,0.6499612352726151,0.6599605896670674,0.6699599440615197,0.679959298455972,0.6899586528504243,0.6999580072448767,0.709957361639329,0.7199567160337813,0.7299560704282336,0.739955424822686,0.7499547792171383,0.7599541336115906,0.7699534880060429,0.7799528424004952,0.7899521967949475,0.7999515511893999,0.8099509055838522,0.8199502599783045,0.8299496143727568,0.8399489687672091,0.8499483231616615,0.8599476775561138,0.8699470319505661,0.8799463863450184,0.8899457407394707,0.8999450951339231,0.9099444495283754,0.9199438039228277,0.92994315831728,0.9399425127117323,0.9499418671061847,0.9599412215006369,0.9699405758950892,0.9799399302895415,0.9899392846839938,0.9999386390784463],\"xaxis\":\"x4\",\"y\":[279.3401794433594,65.02191925048828,68.0821533203125,48.59206008911133,57.6795768737793,61.618125915527344,56.58852767944336,59.48464584350586,59.485740661621094,60.24453353881836,60.24453353881836,60.24453353881836,59.44575119018555,46.4071044921875,48.792633056640625,49.23957824707031,49.23957824707031,49.64323425292969,48.83000564575195,72.8857192993164,72.8857192993164,72.8857192993164,70.4980239868164,51.39035415649414,51.39035415649414,51.70062255859375,51.43579864501953,51.43579864501953,51.56318283081055,54.264644622802734,50.83967971801758,50.83967971801758,57.000518798828125,57.000518798828125,57.000518798828125,64.93948364257812,58.777008056640625,58.777008056640625,58.777008056640625,59.66584014892578,59.66584014892578,59.66584014892578,47.41855239868164,47.41855239868164,47.41855239868164,47.41855239868164,47.41855239868164,47.41855239868164,47.41855239868164,119.5818099975586,72.38459777832031,58.916561126708984,58.916561126708984,58.916561126708984,58.916561126708984,60.335575103759766,63.42378616333008,63.42378616333008,63.42378616333008,63.42378616333008,63.42378616333008,63.42378616333008,63.42378616333008,63.42378616333008,63.42378616333008,63.42378616333008,63.42378616333008,63.42378616333008,63.42378616333008,63.42378616333008,63.42378616333008,63.42378616333008,50.54135513305664,50.54135513305664,50.54135513305664,50.54135513305664,50.54135513305664,50.54135513305664,50.54135513305664,50.54135513305664,50.54135513305664,50.54135513305664,50.54135513305664,50.364803314208984,50.364803314208984,50.364803314208984,50.364803314208984,50.364803314208984,50.364803314208984,50.364803314208984,50.364803314208984,50.364803314208984,50.364803314208984,50.364803314208984,50.364803314208984,50.364803314208984,50.364803314208984,50.364803314208984,50.364803314208984,50.364803314208984,50.364803314208984],\"yaxis\":\"y4\",\"type\":\"scatter\",\"opacity\":1},{\"customdata\":[[65.54780578613281,\"XGBRegressor\",\"Topic 4\"],[65.54780578613281,\"XGBRegressor\",\"Topic 4\"],[65.54780578613281,\"XGBRegressor\",\"Topic 4\"],[65.54780578613281,\"XGBRegressor\",\"Topic 4\"],[65.54780578613281,\"XGBRegressor\",\"Topic 4\"],[65.54780578613281,\"XGBRegressor\",\"Topic 4\"],[65.54780578613281,\"XGBRegressor\",\"Topic 4\"],[65.54780578613281,\"XGBRegressor\",\"Topic 4\"],[65.54780578613281,\"XGBRegressor\",\"Topic 4\"],[65.54780578613281,\"XGBRegressor\",\"Topic 4\"],[65.54780578613281,\"XGBRegressor\",\"Topic 4\"],[65.54780578613281,\"XGBRegressor\",\"Topic 4\"],[65.54780578613281,\"XGBRegressor\",\"Topic 4\"],[65.54780578613281,\"XGBRegressor\",\"Topic 4\"],[65.54780578613281,\"XGBRegressor\",\"Topic 4\"],[65.54780578613281,\"XGBRegressor\",\"Topic 4\"],[65.54780578613281,\"XGBRegressor\",\"Topic 4\"],[65.54780578613281,\"XGBRegressor\",\"Topic 4\"],[65.54780578613281,\"XGBRegressor\",\"Topic 4\"],[65.54780578613281,\"XGBRegressor\",\"Topic 4\"],[65.54780578613281,\"XGBRegressor\",\"Topic 4\"],[65.54780578613281,\"XGBRegressor\",\"Topic 4\"],[65.54780578613281,\"XGBRegressor\",\"Topic 4\"],[65.54780578613281,\"XGBRegressor\",\"Topic 4\"],[65.54780578613281,\"XGBRegressor\",\"Topic 4\"],[65.54780578613281,\"XGBRegressor\",\"Topic 4\"],[65.54780578613281,\"XGBRegressor\",\"Topic 4\"],[65.54780578613281,\"XGBRegressor\",\"Topic 4\"],[65.54780578613281,\"XGBRegressor\",\"Topic 4\"],[65.54780578613281,\"XGBRegressor\",\"Topic 4\"],[65.54780578613281,\"XGBRegressor\",\"Topic 4\"],[65.54780578613281,\"XGBRegressor\",\"Topic 4\"],[65.54780578613281,\"XGBRegressor\",\"Topic 4\"],[65.54780578613281,\"XGBRegressor\",\"Topic 4\"],[65.54780578613281,\"XGBRegressor\",\"Topic 4\"],[65.54780578613281,\"XGBRegressor\",\"Topic 4\"],[65.54780578613281,\"XGBRegressor\",\"Topic 4\"],[65.54780578613281,\"XGBRegressor\",\"Topic 4\"],[65.54780578613281,\"XGBRegressor\",\"Topic 4\"],[65.54780578613281,\"XGBRegressor\",\"Topic 4\"],[65.54780578613281,\"XGBRegressor\",\"Topic 4\"],[65.54780578613281,\"XGBRegressor\",\"Topic 4\"],[65.54780578613281,\"XGBRegressor\",\"Topic 4\"],[65.54780578613281,\"XGBRegressor\",\"Topic 4\"],[65.54780578613281,\"XGBRegressor\",\"Topic 4\"],[65.54780578613281,\"XGBRegressor\",\"Topic 4\"],[65.54780578613281,\"XGBRegressor\",\"Topic 4\"],[65.54780578613281,\"XGBRegressor\",\"Topic 4\"],[65.54780578613281,\"XGBRegressor\",\"Topic 4\"],[65.54780578613281,\"XGBRegressor\",\"Topic 4\"],[65.54780578613281,\"XGBRegressor\",\"Topic 4\"],[65.54780578613281,\"XGBRegressor\",\"Topic 4\"],[65.54780578613281,\"XGBRegressor\",\"Topic 4\"],[65.54780578613281,\"XGBRegressor\",\"Topic 4\"],[65.54780578613281,\"XGBRegressor\",\"Topic 4\"],[65.54780578613281,\"XGBRegressor\",\"Topic 4\"],[65.54780578613281,\"XGBRegressor\",\"Topic 4\"],[65.54780578613281,\"XGBRegressor\",\"Topic 4\"],[65.54780578613281,\"XGBRegressor\",\"Topic 4\"],[65.54780578613281,\"XGBRegressor\",\"Topic 4\"],[65.54780578613281,\"XGBRegressor\",\"Topic 4\"],[65.54780578613281,\"XGBRegressor\",\"Topic 4\"],[65.54780578613281,\"XGBRegressor\",\"Topic 4\"],[65.54780578613281,\"XGBRegressor\",\"Topic 4\"],[65.54780578613281,\"XGBRegressor\",\"Topic 4\"],[65.54780578613281,\"XGBRegressor\",\"Topic 4\"],[65.54780578613281,\"XGBRegressor\",\"Topic 4\"],[65.54780578613281,\"XGBRegressor\",\"Topic 4\"],[65.54780578613281,\"XGBRegressor\",\"Topic 4\"],[65.54780578613281,\"XGBRegressor\",\"Topic 4\"],[65.54780578613281,\"XGBRegressor\",\"Topic 4\"],[65.54780578613281,\"XGBRegressor\",\"Topic 4\"],[65.54780578613281,\"XGBRegressor\",\"Topic 4\"],[65.54780578613281,\"XGBRegressor\",\"Topic 4\"],[65.54780578613281,\"XGBRegressor\",\"Topic 4\"],[65.54780578613281,\"XGBRegressor\",\"Topic 4\"],[65.54780578613281,\"XGBRegressor\",\"Topic 4\"],[65.54780578613281,\"XGBRegressor\",\"Topic 4\"],[65.54780578613281,\"XGBRegressor\",\"Topic 4\"],[65.54780578613281,\"XGBRegressor\",\"Topic 4\"],[65.54780578613281,\"XGBRegressor\",\"Topic 4\"],[65.54780578613281,\"XGBRegressor\",\"Topic 4\"],[65.54780578613281,\"XGBRegressor\",\"Topic 4\"],[65.54780578613281,\"XGBRegressor\",\"Topic 4\"],[65.54780578613281,\"XGBRegressor\",\"Topic 4\"],[65.54780578613281,\"XGBRegressor\",\"Topic 4\"],[65.54780578613281,\"XGBRegressor\",\"Topic 4\"],[65.54780578613281,\"XGBRegressor\",\"Topic 4\"],[65.54780578613281,\"XGBRegressor\",\"Topic 4\"],[65.54780578613281,\"XGBRegressor\",\"Topic 4\"],[65.54780578613281,\"XGBRegressor\",\"Topic 4\"],[65.54780578613281,\"XGBRegressor\",\"Topic 4\"],[65.54780578613281,\"XGBRegressor\",\"Topic 4\"],[65.54780578613281,\"XGBRegressor\",\"Topic 4\"],[65.54780578613281,\"XGBRegressor\",\"Topic 4\"],[65.54780578613281,\"XGBRegressor\",\"Topic 4\"],[65.54780578613281,\"XGBRegressor\",\"Topic 4\"],[65.54780578613281,\"XGBRegressor\",\"Topic 4\"],[65.54780578613281,\"XGBRegressor\",\"Topic 4\"],[65.54780578613281,\"XGBRegressor\",\"Topic 4\"],[65.54780578613281,\"XGBRegressor\",\"Topic 4\"]],\"hovertemplate\":\"<b>%{hovertext}</b><br><br>prediction=%{y:.3f}<br>mean_prediction=%{customdata[0]:.3f}<extra></extra>\",\"hovertext\":[\"XGBRegressor\",\"XGBRegressor\",\"XGBRegressor\",\"XGBRegressor\",\"XGBRegressor\",\"XGBRegressor\",\"XGBRegressor\",\"XGBRegressor\",\"XGBRegressor\",\"XGBRegressor\",\"XGBRegressor\",\"XGBRegressor\",\"XGBRegressor\",\"XGBRegressor\",\"XGBRegressor\",\"XGBRegressor\",\"XGBRegressor\",\"XGBRegressor\",\"XGBRegressor\",\"XGBRegressor\",\"XGBRegressor\",\"XGBRegressor\",\"XGBRegressor\",\"XGBRegressor\",\"XGBRegressor\",\"XGBRegressor\",\"XGBRegressor\",\"XGBRegressor\",\"XGBRegressor\",\"XGBRegressor\",\"XGBRegressor\",\"XGBRegressor\",\"XGBRegressor\",\"XGBRegressor\",\"XGBRegressor\",\"XGBRegressor\",\"XGBRegressor\",\"XGBRegressor\",\"XGBRegressor\",\"XGBRegressor\",\"XGBRegressor\",\"XGBRegressor\",\"XGBRegressor\",\"XGBRegressor\",\"XGBRegressor\",\"XGBRegressor\",\"XGBRegressor\",\"XGBRegressor\",\"XGBRegressor\",\"XGBRegressor\",\"XGBRegressor\",\"XGBRegressor\",\"XGBRegressor\",\"XGBRegressor\",\"XGBRegressor\",\"XGBRegressor\",\"XGBRegressor\",\"XGBRegressor\",\"XGBRegressor\",\"XGBRegressor\",\"XGBRegressor\",\"XGBRegressor\",\"XGBRegressor\",\"XGBRegressor\",\"XGBRegressor\",\"XGBRegressor\",\"XGBRegressor\",\"XGBRegressor\",\"XGBRegressor\",\"XGBRegressor\",\"XGBRegressor\",\"XGBRegressor\",\"XGBRegressor\",\"XGBRegressor\",\"XGBRegressor\",\"XGBRegressor\",\"XGBRegressor\",\"XGBRegressor\",\"XGBRegressor\",\"XGBRegressor\",\"XGBRegressor\",\"XGBRegressor\",\"XGBRegressor\",\"XGBRegressor\",\"XGBRegressor\",\"XGBRegressor\",\"XGBRegressor\",\"XGBRegressor\",\"XGBRegressor\",\"XGBRegressor\",\"XGBRegressor\",\"XGBRegressor\",\"XGBRegressor\",\"XGBRegressor\",\"XGBRegressor\",\"XGBRegressor\",\"XGBRegressor\",\"XGBRegressor\",\"XGBRegressor\",\"XGBRegressor\",\"XGBRegressor\"],\"legendgroup\":\"XGBRegressor\",\"line\":{\"color\":\"#46bac2\",\"dash\":\"solid\",\"width\":2},\"marker\":{\"symbol\":\"circle\"},\"mode\":\"lines\",\"name\":\"XGBRegressor\",\"orientation\":\"v\",\"showlegend\":false,\"x\":[6.125335474323604e-06,0.010005494385104209,0.020004863434734097,0.030004232484363985,0.04000360153399387,0.050002970583623754,0.060002339633253646,0.07000170868288352,0.08000107773251341,0.0900004467821433,0.09999981583177318,0.10999918488140308,0.11999855393103297,0.12999792298066284,0.1399972920302927,0.1499966610799226,0.1599960301295525,0.16999539917918238,0.17999476822881227,0.18999413727844214,0.19999350632807203,0.20999287537770192,0.2199922444273318,0.2299916134769617,0.2399909825265916,0.24999035157622146,0.2599897206258514,0.26998908967548124,0.27998845872511113,0.289987827774741,0.2999871968243709,0.3099865658740008,0.3199859349236307,0.3299853039732606,0.3399846730228905,0.3499840420725204,0.35998341112215027,0.36998278017178016,0.37998214922141,0.3899815182710399,0.3999808873206698,0.40998025637029967,0.41997962541992956,0.42997899446955945,0.43997836351918934,0.44997773256881923,0.4599771016184491,0.469976470668079,0.4799758397177089,0.48997520876733874,0.49997457781696863,0.5099739468665985,0.5199733159162284,0.5299726849658583,0.5399720540154881,0.549971423065118,0.5599707921147479,0.5699701611643778,0.5799695302140077,0.5899688992636376,0.5999682683132674,0.6099676373628974,0.6199670064125272,0.6299663754621572,0.639965744511787,0.6499651135614168,0.6599644826110468,0.6699638516606766,0.6799632207103066,0.6899625897599364,0.6999619588095664,0.7099613278591962,0.7199606969088261,0.729960065958456,0.7399594350080859,0.7499588040577158,0.7599581731073456,0.7699575421569755,0.7799569112066054,0.7899562802562353,0.7999556493058652,0.8099550183554951,0.8199543874051249,0.8299537564547549,0.8399531255043847,0.8499524945540147,0.8599518636036445,0.8699512326532743,0.8799506017029043,0.8899499707525341,0.8999493398021641,0.9099487088517939,0.9199480779014239,0.9299474469510537,0.9399468160006836,0.9499461850503135,0.9599455540999434,0.9699449231495733,0.9799442921992031,0.989943661248833,0.999943030298463],\"xaxis\":\"x\",\"y\":[41.396541595458984,63.92200469970703,49.89840316772461,49.89840316772461,49.586143493652344,49.586143493652344,49.732704162597656,49.732704162597656,46.22303771972656,45.65336227416992,45.09519577026367,44.12651443481445,44.12651443481445,44.12651443481445,47.61576843261719,62.35353469848633,47.807884216308594,51.81569290161133,51.81569290161133,52.22491455078125,52.22491455078125,95.54736328125,72.7310791015625,72.7310791015625,72.72334289550781,72.25574493408203,72.25574493408203,72.25574493408203,72.25574493408203,72.25574493408203,72.25574493408203,69.45848846435547,63.70244598388672,63.21889114379883,251.58087158203125,67.16011047363281,67.16011047363281,68.41561126708984,67.388427734375,106.85932922363281,85.05342864990234,84.352294921875,84.352294921875,84.352294921875,110.83417510986328,82.01824951171875,74.94586944580078,74.56706237792969,74.88140869140625,126.14801025390625,75.68940734863281,75.68940734863281,76.00411987304688,80.44073486328125,80.44073486328125,86.98204803466797,89.70726013183594,81.75077819824219,81.75077819824219,81.75077819824219,121.2671890258789,84.5243148803711,84.5243148803711,84.5243148803711,84.5243148803711,84.5243148803711,88.02827453613281,135.1485137939453,97.83035278320312,103.54663848876953,137.52703857421875,137.52703857421875,136.9354705810547,136.9354705810547,136.9354705810547,135.75399780273438,131.2149658203125,131.2149658203125,131.2149658203125,131.2149658203125,283.2523498535156,250.31202697753906,250.4483184814453,272.3410339355469,272.3410339355469,266.7246398925781,272.9122009277344,301.3091735839844,300.3309326171875,5658.341796875,315.5163269042969,335.6635437011719,324.8854675292969,340.97216796875,334.64263916015625,314.376220703125,307.5332336425781,332.2495422363281,333.6660461425781,333.6660461425781,333.6660461425781],\"yaxis\":\"y\",\"type\":\"scatter\",\"opacity\":1}],                        {\"template\":{\"data\":{\"scatter\":[{\"type\":\"scatter\"}]}},\"xaxis\":{\"anchor\":\"y\",\"domain\":[0.0,0.475],\"title\":{\"text\":\"\"},\"showticklabels\":true,\"type\":\"linear\",\"gridwidth\":2,\"zeroline\":false,\"automargin\":true,\"ticks\":\"outside\",\"tickcolor\":\"white\",\"ticklen\":3,\"fixedrange\":true},\"yaxis\":{\"anchor\":\"x\",\"domain\":[0.0,0.26666666666666666],\"title\":{\"text\":\"\"},\"range\":[-520.2979896545411,6220.036328125],\"type\":\"linear\",\"gridwidth\":2,\"zeroline\":false,\"automargin\":true,\"ticks\":\"outside\",\"tickcolor\":\"white\",\"ticklen\":3,\"fixedrange\":true},\"xaxis2\":{\"anchor\":\"y2\",\"domain\":[0.525,1.0],\"title\":{\"text\":\"\"},\"showticklabels\":true,\"type\":\"linear\",\"gridwidth\":2,\"zeroline\":false,\"automargin\":true,\"ticks\":\"outside\",\"tickcolor\":\"white\",\"ticklen\":3,\"fixedrange\":true},\"yaxis2\":{\"anchor\":\"x2\",\"domain\":[0.0,0.26666666666666666],\"matches\":\"y\",\"showticklabels\":false,\"type\":\"linear\",\"gridwidth\":2,\"zeroline\":false,\"automargin\":true,\"ticks\":\"outside\",\"tickcolor\":\"white\",\"ticklen\":3,\"fixedrange\":true,\"title\":{\"text\":\"\"}},\"xaxis3\":{\"anchor\":\"y3\",\"domain\":[0.0,0.475],\"showticklabels\":true,\"type\":\"linear\",\"gridwidth\":2,\"zeroline\":false,\"automargin\":true,\"ticks\":\"outside\",\"tickcolor\":\"white\",\"ticklen\":3,\"fixedrange\":true,\"title\":{\"text\":\"\"}},\"yaxis3\":{\"anchor\":\"x3\",\"domain\":[0.36666666666666664,0.6333333333333333],\"matches\":\"y\",\"title\":{\"text\":\"\"},\"range\":[-520.2979896545411,6220.036328125],\"type\":\"linear\",\"gridwidth\":2,\"zeroline\":false,\"automargin\":true,\"ticks\":\"outside\",\"tickcolor\":\"white\",\"ticklen\":3,\"fixedrange\":true},\"xaxis4\":{\"anchor\":\"y4\",\"domain\":[0.525,1.0],\"showticklabels\":true,\"type\":\"linear\",\"gridwidth\":2,\"zeroline\":false,\"automargin\":true,\"ticks\":\"outside\",\"tickcolor\":\"white\",\"ticklen\":3,\"fixedrange\":true,\"title\":{\"text\":\"\"}},\"yaxis4\":{\"anchor\":\"x4\",\"domain\":[0.36666666666666664,0.6333333333333333],\"matches\":\"y\",\"showticklabels\":false,\"type\":\"linear\",\"gridwidth\":2,\"zeroline\":false,\"automargin\":true,\"ticks\":\"outside\",\"tickcolor\":\"white\",\"ticklen\":3,\"fixedrange\":true,\"title\":{\"text\":\"\"}},\"xaxis5\":{\"anchor\":\"y5\",\"domain\":[0.0,0.475],\"showticklabels\":true,\"type\":\"linear\",\"gridwidth\":2,\"zeroline\":false,\"automargin\":true,\"ticks\":\"outside\",\"tickcolor\":\"white\",\"ticklen\":3,\"fixedrange\":true,\"title\":{\"text\":\"\"}},\"yaxis5\":{\"anchor\":\"x5\",\"domain\":[0.7333333333333333,1.0],\"matches\":\"y\",\"title\":{\"text\":\"\"},\"range\":[-520.2979896545411,6220.036328125],\"type\":\"linear\",\"gridwidth\":2,\"zeroline\":false,\"automargin\":true,\"ticks\":\"outside\",\"tickcolor\":\"white\",\"ticklen\":3,\"fixedrange\":true},\"xaxis6\":{\"anchor\":\"y6\",\"domain\":[0.525,1.0],\"showticklabels\":true,\"type\":\"linear\",\"gridwidth\":2,\"zeroline\":false,\"automargin\":true,\"ticks\":\"outside\",\"tickcolor\":\"white\",\"ticklen\":3,\"fixedrange\":true,\"title\":{\"text\":\"\"}},\"yaxis6\":{\"anchor\":\"x6\",\"domain\":[0.7333333333333333,1.0],\"matches\":\"y\",\"showticklabels\":false,\"type\":\"linear\",\"gridwidth\":2,\"zeroline\":false,\"automargin\":true,\"ticks\":\"outside\",\"tickcolor\":\"white\",\"ticklen\":3,\"fixedrange\":true,\"title\":{\"text\":\"\"}},\"annotations\":[{\"font\":{\"size\":13},\"showarrow\":false,\"text\":\"Topic 4\",\"x\":0.2375,\"xanchor\":\"center\",\"xref\":\"paper\",\"y\":0.26666666666666666,\"yanchor\":\"bottom\",\"yref\":\"paper\"},{\"font\":{\"size\":13},\"showarrow\":false,\"text\":\"Topic 2\",\"x\":0.2375,\"xanchor\":\"center\",\"xref\":\"paper\",\"y\":0.6333333333333333,\"yanchor\":\"bottom\",\"yref\":\"paper\"},{\"font\":{\"size\":13},\"showarrow\":false,\"text\":\"Topic 3\",\"x\":0.7625,\"xanchor\":\"center\",\"xref\":\"paper\",\"y\":0.6333333333333333,\"yanchor\":\"bottom\",\"yref\":\"paper\"},{\"font\":{\"size\":13},\"showarrow\":false,\"text\":\"Topic 0\",\"x\":0.2375,\"xanchor\":\"center\",\"xref\":\"paper\",\"y\":1.0,\"yanchor\":\"bottom\",\"yref\":\"paper\"},{\"font\":{\"size\":13},\"showarrow\":false,\"text\":\"Topic 1\",\"x\":0.7625,\"xanchor\":\"center\",\"xref\":\"paper\",\"y\":1.0,\"yanchor\":\"bottom\",\"yref\":\"paper\"},{\"font\":{\"size\":13},\"showarrow\":false,\"text\":\"prediction\",\"textangle\":-90,\"x\":-0.07,\"xref\":\"paper\",\"y\":0.5,\"yref\":\"paper\"}],\"legend\":{\"title\":{\"text\":\"label\",\"font\":{\"size\":12}},\"tracegroupgap\":0,\"font\":{\"size\":11},\"orientation\":\"h\",\"yanchor\":\"bottom\",\"y\":1.0256629597946962,\"xanchor\":\"right\",\"x\":1,\"itemsizing\":\"constant\"},\"margin\":{\"t\":78,\"b\":71,\"r\":30},\"font\":{\"color\":\"#371ea3\"},\"title\":{\"font\":{\"size\":16},\"text\":\"Aggregated Profiles\",\"x\":0.15},\"hovermode\":\"x unified\",\"height\":1169},                        {\"responsive\": true}                    ).then(function(){\n                            \nvar gd = document.getElementById('ec433874-0c18-4879-8839-0c90e0bcf00d');\nvar x = new MutationObserver(function (mutations, observer) {{\n        var display = window.getComputedStyle(gd).display;\n        if (!display || display === 'none') {{\n            console.log([gd, 'removed!']);\n            Plotly.purge(gd);\n            observer.disconnect();\n        }}\n}});\n\n// Listen for the removal of the full notebook cells\nvar notebookContainer = gd.closest('#notebook-container');\nif (notebookContainer) {{\n    x.observe(notebookContainer, {childList: true});\n}}\n\n// Listen for the clearing of the current output cell\nvar outputEl = gd.closest('.output');\nif (outputEl) {{\n    x.observe(outputEl, {childList: true});\n}}\n\n                        })                };                });            </script>        </div>"
     },
     "metadata": {},
     "output_type": "display_data"
    }
   ],
   "source": [
    "agg_profiles"
   ],
   "metadata": {
    "collapsed": false,
    "pycharm": {
     "name": "#%%\n"
    }
   }
  },
  {
   "cell_type": "code",
   "execution_count": 72,
   "outputs": [],
   "source": [
    "var_importance = exp.model_parts().plot(show=False)\n",
    "var_importance.write_html('var_importance.html')"
   ],
   "metadata": {
    "collapsed": false,
    "pycharm": {
     "name": "#%%\n"
    }
   }
  },
  {
   "cell_type": "code",
   "execution_count": 73,
   "outputs": [
    {
     "data": {
      "application/vnd.plotly.v1+json": {
       "data": [
        {
         "base": 55.659709254580854,
         "hoverinfo": "text",
         "hoverlabel": {
          "bgcolor": "rgba(0,0,0,0.8)"
         },
         "hovertext": [
          "Model: XGBRegressor loss after<br>variable: Topic 4 is permuted: 458.492<br>Drop-out loss change: +402.832",
          "Model: XGBRegressor loss after<br>variable: Topic 1 is permuted: 244.58<br>Drop-out loss change: +188.92",
          "Model: XGBRegressor loss after<br>variable: Topic 0 is permuted: 193.619<br>Drop-out loss change: +137.959",
          "Model: XGBRegressor loss after<br>variable: Topic 2 is permuted: 192.006<br>Drop-out loss change: +136.346",
          "Model: XGBRegressor loss after<br>variable: Topic 3 is permuted: 116.925<br>Drop-out loss change: +61.266"
         ],
         "marker": {
          "color": "#46bac2"
         },
         "orientation": "h",
         "showlegend": false,
         "text": [
          "+402.832",
          "+188.92",
          "+137.959",
          "+136.346",
          "+61.266"
         ],
         "textposition": "outside",
         "x": [
          402.83221667713644,
          188.9198487901351,
          137.95943490143364,
          136.34593693294613,
          61.26557316461095
         ],
         "y": [
          "Topic 4",
          "Topic 1",
          "Topic 0",
          "Topic 2",
          "Topic 3"
         ],
         "type": "bar",
         "xaxis": "x",
         "yaxis": "y"
        }
       ],
       "layout": {
        "template": {
         "data": {
          "scatter": [
           {
            "type": "scatter"
           }
          ]
         }
        },
        "xaxis": {
         "anchor": "y",
         "domain": [
          0.0,
          1.0
         ],
         "type": "linear",
         "gridwidth": 2,
         "zeroline": false,
         "automargin": true,
         "ticks": "outside",
         "tickcolor": "white",
         "ticklen": 3,
         "fixedrange": true,
         "range": [
          -4.76512324698961,
          518.9167584332878
         ]
        },
        "yaxis": {
         "anchor": "x",
         "domain": [
          0.0,
          1.0
         ],
         "type": "category",
         "autorange": "reversed",
         "gridwidth": 2,
         "automargin": true,
         "ticks": "outside",
         "tickcolor": "white",
         "ticklen": 10,
         "fixedrange": true
        },
        "annotations": [
         {
          "font": {
           "size": 16
          },
          "showarrow": false,
          "text": "XGBRegressor",
          "x": 0.5,
          "xanchor": "center",
          "xref": "paper",
          "y": 1.0,
          "yanchor": "bottom",
          "yref": "paper"
         },
         {
          "font": {
           "size": 16
          },
          "showarrow": false,
          "text": "drop-out loss",
          "x": 0.5,
          "xanchor": "center",
          "xref": "paper",
          "y": 0,
          "yanchor": "top",
          "yref": "paper",
          "yshift": -30
         }
        ],
        "shapes": [
         {
          "line": {
           "color": "#371ea3",
           "dash": "dot",
           "width": 1.5
          },
          "type": "line",
          "x0": 55.659709254580854,
          "x1": 55.659709254580854,
          "xref": "x",
          "y0": -1,
          "y1": 5,
          "yref": "y"
         }
        ],
        "title": {
         "text": "Variable Importance",
         "x": 0.15
        },
        "font": {
         "color": "#371ea3"
        },
        "margin": {
         "t": 78,
         "b": 71,
         "r": 30
        },
        "height": 283.0
       },
       "config": {
        "plotlyServerURL": "https://plot.ly"
       }
      },
      "text/html": "<div>                            <div id=\"badb3d9e-bec9-499d-b728-d8f3996c01d0\" class=\"plotly-graph-div\" style=\"height:283.0px; width:100%;\"></div>            <script type=\"text/javascript\">                require([\"plotly\"], function(Plotly) {                    window.PLOTLYENV=window.PLOTLYENV || {};                                    if (document.getElementById(\"badb3d9e-bec9-499d-b728-d8f3996c01d0\")) {                    Plotly.newPlot(                        \"badb3d9e-bec9-499d-b728-d8f3996c01d0\",                        [{\"base\":55.659709254580854,\"hoverinfo\":\"text\",\"hoverlabel\":{\"bgcolor\":\"rgba(0,0,0,0.8)\"},\"hovertext\":[\"Model: XGBRegressor loss after<br>variable: Topic 4 is permuted: 458.492<br>Drop-out loss change: +402.832\",\"Model: XGBRegressor loss after<br>variable: Topic 1 is permuted: 244.58<br>Drop-out loss change: +188.92\",\"Model: XGBRegressor loss after<br>variable: Topic 0 is permuted: 193.619<br>Drop-out loss change: +137.959\",\"Model: XGBRegressor loss after<br>variable: Topic 2 is permuted: 192.006<br>Drop-out loss change: +136.346\",\"Model: XGBRegressor loss after<br>variable: Topic 3 is permuted: 116.925<br>Drop-out loss change: +61.266\"],\"marker\":{\"color\":\"#46bac2\"},\"orientation\":\"h\",\"showlegend\":false,\"text\":[\"+402.832\",\"+188.92\",\"+137.959\",\"+136.346\",\"+61.266\"],\"textposition\":\"outside\",\"x\":[402.83221667713644,188.9198487901351,137.95943490143364,136.34593693294613,61.26557316461095],\"y\":[\"Topic 4\",\"Topic 1\",\"Topic 0\",\"Topic 2\",\"Topic 3\"],\"type\":\"bar\",\"xaxis\":\"x\",\"yaxis\":\"y\"}],                        {\"template\":{\"data\":{\"scatter\":[{\"type\":\"scatter\"}]}},\"xaxis\":{\"anchor\":\"y\",\"domain\":[0.0,1.0],\"type\":\"linear\",\"gridwidth\":2,\"zeroline\":false,\"automargin\":true,\"ticks\":\"outside\",\"tickcolor\":\"white\",\"ticklen\":3,\"fixedrange\":true,\"range\":[-4.76512324698961,518.9167584332878]},\"yaxis\":{\"anchor\":\"x\",\"domain\":[0.0,1.0],\"type\":\"category\",\"autorange\":\"reversed\",\"gridwidth\":2,\"automargin\":true,\"ticks\":\"outside\",\"tickcolor\":\"white\",\"ticklen\":10,\"fixedrange\":true},\"annotations\":[{\"font\":{\"size\":16},\"showarrow\":false,\"text\":\"XGBRegressor\",\"x\":0.5,\"xanchor\":\"center\",\"xref\":\"paper\",\"y\":1.0,\"yanchor\":\"bottom\",\"yref\":\"paper\"},{\"font\":{\"size\":16},\"showarrow\":false,\"text\":\"drop-out loss\",\"x\":0.5,\"xanchor\":\"center\",\"xref\":\"paper\",\"y\":0,\"yanchor\":\"top\",\"yref\":\"paper\",\"yshift\":-30}],\"shapes\":[{\"line\":{\"color\":\"#371ea3\",\"dash\":\"dot\",\"width\":1.5},\"type\":\"line\",\"x0\":55.659709254580854,\"x1\":55.659709254580854,\"xref\":\"x\",\"y0\":-1,\"y1\":5,\"yref\":\"y\"}],\"title\":{\"text\":\"Variable Importance\",\"x\":0.15},\"font\":{\"color\":\"#371ea3\"},\"margin\":{\"t\":78,\"b\":71,\"r\":30},\"height\":283.0},                        {\"responsive\": true}                    ).then(function(){\n                            \nvar gd = document.getElementById('badb3d9e-bec9-499d-b728-d8f3996c01d0');\nvar x = new MutationObserver(function (mutations, observer) {{\n        var display = window.getComputedStyle(gd).display;\n        if (!display || display === 'none') {{\n            console.log([gd, 'removed!']);\n            Plotly.purge(gd);\n            observer.disconnect();\n        }}\n}});\n\n// Listen for the removal of the full notebook cells\nvar notebookContainer = gd.closest('#notebook-container');\nif (notebookContainer) {{\n    x.observe(notebookContainer, {childList: true});\n}}\n\n// Listen for the clearing of the current output cell\nvar outputEl = gd.closest('.output');\nif (outputEl) {{\n    x.observe(outputEl, {childList: true});\n}}\n\n                        })                };                });            </script>        </div>"
     },
     "metadata": {},
     "output_type": "display_data"
    }
   ],
   "source": [
    "var_importance"
   ],
   "metadata": {
    "collapsed": false,
    "pycharm": {
     "name": "#%%\n"
    }
   }
  },
  {
   "cell_type": "code",
   "execution_count": 47,
   "outputs": [
    {
     "name": "stderr",
     "output_type": "stream",
     "text": [
      "E:\\anaconda\\lib\\site-packages\\sklearn\\utils\\deprecation.py:87: FutureWarning:\n",
      "\n",
      "Function get_feature_names is deprecated; get_feature_names is deprecated in 1.0 and will be removed in 1.2. Please use get_feature_names_out instead.\n",
      "\n"
     ]
    },
    {
     "name": "stdout",
     "output_type": "stream",
     "text": [
      "Topic 0:  ['dataset', 'pp', 'imag', 'ml', 'http', 'decis', 'accuraci', 'techniqu', 'vol', 'differ']\n",
      "Topic 1:  ['θ', 'summationdisplay', 'layer', 'vextendsingl', 'ba', 'u', 'bound', 'nn', 'parenleftbig', 'parenrightbig']\n",
      "Topic 2:  ['quantum', 'attack', 'ct', 'adversari', 'd2', 'cp', 'privaci', 'cx', 'secur', 'd3']\n",
      "Topic 3:  ['polici', 'meta', '2018', 'represent', 'agent', 'reinforc', 'domain', 'reward', 'reinforc learn', 'graph']\n",
      "Topic 4:  ['kernel', 'z', 'error', 'bound', '1 2', 'q', 'gradient', 'linear', '1 1', 'xi']\n"
     ]
    }
   ],
   "source": [
    "for index, component in enumerate(lda.components_): #taking model's components, i.e. P(w|z)\n",
    "    zipped = zip(tf_vectorizer.get_feature_names(), component) #taking together tokens' names with components\n",
    "    top_terms_key=sorted(zipped, key = lambda t: t[1], reverse=True)[:10] #top 10 terms per topic\n",
    "    top_terms_list=list(dict(top_terms_key).keys()) #taking only tokens, no weights\n",
    "\n",
    "    print(\"Topic \"+str(index)+\": \",top_terms_list) #prints top 10 tokens per topic"
   ],
   "metadata": {
    "collapsed": false,
    "pycharm": {
     "name": "#%%\n"
    }
   }
  },
  {
   "cell_type": "code",
   "execution_count": 48,
   "outputs": [
    {
     "data": {
      "text/plain": "<dalex.model_explanations._model_performance.object.ModelPerformance at 0x1721da81b20>",
      "text/html": "<div>\n<style scoped>\n    .dataframe tbody tr th:only-of-type {\n        vertical-align: middle;\n    }\n\n    .dataframe tbody tr th {\n        vertical-align: top;\n    }\n\n    .dataframe thead th {\n        text-align: right;\n    }\n</style>\n<table border=\"1\" class=\"dataframe\">\n  <thead>\n    <tr style=\"text-align: right;\">\n      <th></th>\n      <th>mse</th>\n      <th>rmse</th>\n      <th>r2</th>\n      <th>mae</th>\n      <th>mad</th>\n    </tr>\n  </thead>\n  <tbody>\n    <tr>\n      <th>XGBRegressor</th>\n      <td>279.846427</td>\n      <td>16.728611</td>\n      <td>0.998392</td>\n      <td>10.757095</td>\n      <td>6.952202</td>\n    </tr>\n  </tbody>\n</table>\n</div>"
     },
     "execution_count": 48,
     "metadata": {},
     "output_type": "execute_result"
    }
   ],
   "source": [
    "exp.model_performance()"
   ],
   "metadata": {
    "collapsed": false,
    "pycharm": {
     "name": "#%%\n"
    }
   }
  }
 ],
 "metadata": {
  "kernelspec": {
   "display_name": "Python 3",
   "language": "python",
   "name": "python3"
  },
  "language_info": {
   "codemirror_mode": {
    "name": "ipython",
    "version": 2
   },
   "file_extension": ".py",
   "mimetype": "text/x-python",
   "name": "python",
   "nbconvert_exporter": "python",
   "pygments_lexer": "ipython2",
   "version": "2.7.6"
  }
 },
 "nbformat": 4,
 "nbformat_minor": 0
}